{
 "cells": [
  {
   "cell_type": "markdown",
   "metadata": {},
   "source": [
    "# Описание проекта\n"
   ]
  },
  {
   "cell_type": "markdown",
   "metadata": {},
   "source": [
    "Вы работаете в интернет-магазине «Стримчик», который продаёт по всему миру компьютерные игры. Из открытых источников доступны исторические данные о продажах игр, оценки пользователей и экспертов, жанры и платформы (например, Xbox или PlayStation). Вам нужно выявить определяющие успешность игры закономерности. Это позволит сделать ставку на потенциально популярный продукт и спланировать рекламные кампании"
   ]
  },
  {
   "cell_type": "markdown",
   "metadata": {},
   "source": [
    "# Содержание \n",
    "1. **Изучение общей информации**\n",
    "* Общие вопросы\n",
    "* Вопросы по датасету\n",
    "2. **Подготовка данных**\n",
    "* Приведение к нижнему регистру названия столбцов\n",
    "* Преобразование данных в нужные типы. Описание, в каких столбцах заменили тип данных и почему\n",
    "* Обработка пропусков\n",
    "* Посчет суммарных продаж во всех регионах и запись их в отдельный столбец\n",
    "3. **Исследовательский анализ данных**\n",
    "* Анализ, сколько игр выпускалось в разные годы. Вывод о нужности данных за весь период\n",
    "* Анализ, как менялись продажи по платформам. Выбор платформы с наибольшими суммарными продажами и построение распределения по годам. Вывод о характерном сроке появления новых и исчезновении старых платформ\n",
    "* Выборка данных за соответствующий актуальный период, без учета данных за предыдущие годы\n",
    "* Анализ платформ которые лидируют по продажам, растут или падают. Выбор нескольких потенциально прибыльных платформ\n",
    "* Построение графика «ящик с усами» по глобальным продажам игр в разбивке по платформам. Описан результат\n",
    "* Построение диаграммы рассеяния и подсчет корреляции между отзывами и продажами. Сформулирован вывод\n",
    "* Анализ общего распределения игр по жанрам \n",
    "4. **Портрет пользователя каждого региона(NA, EU, JP)**\n",
    "5. **Проверка гипотез**\n",
    "* Средние пользовательские рейтинги платформ Xbox One и PC одинаковые\n",
    "* Средние пользовательские рейтинги жанров Action и Sports разные\n",
    "6. **Общий вывод**"
   ]
  },
  {
   "cell_type": "markdown",
   "metadata": {},
   "source": [
    "1.**Изучение общей информации**"
   ]
  },
  {
   "cell_type": "code",
   "execution_count": 1,
   "metadata": {},
   "outputs": [],
   "source": [
    "import pandas as pd\n",
    "import seaborn as sns\n",
    "import matplotlib.pyplot as plt\n",
    "import numpy as np\n",
    "from datetime import datetime\n",
    "from scipy import stats as st"
   ]
  },
  {
   "cell_type": "code",
   "execution_count": 2,
   "metadata": {},
   "outputs": [
    {
     "data": {
      "text/html": [
       "<div>\n",
       "<style scoped>\n",
       "    .dataframe tbody tr th:only-of-type {\n",
       "        vertical-align: middle;\n",
       "    }\n",
       "\n",
       "    .dataframe tbody tr th {\n",
       "        vertical-align: top;\n",
       "    }\n",
       "\n",
       "    .dataframe thead th {\n",
       "        text-align: right;\n",
       "    }\n",
       "</style>\n",
       "<table border=\"1\" class=\"dataframe\">\n",
       "  <thead>\n",
       "    <tr style=\"text-align: right;\">\n",
       "      <th></th>\n",
       "      <th>Name</th>\n",
       "      <th>Platform</th>\n",
       "      <th>Year_of_Release</th>\n",
       "      <th>Genre</th>\n",
       "      <th>NA_sales</th>\n",
       "      <th>EU_sales</th>\n",
       "      <th>JP_sales</th>\n",
       "      <th>Other_sales</th>\n",
       "      <th>Critic_Score</th>\n",
       "      <th>User_Score</th>\n",
       "      <th>Rating</th>\n",
       "    </tr>\n",
       "  </thead>\n",
       "  <tbody>\n",
       "    <tr>\n",
       "      <th>0</th>\n",
       "      <td>Wii Sports</td>\n",
       "      <td>Wii</td>\n",
       "      <td>2006.0</td>\n",
       "      <td>Sports</td>\n",
       "      <td>41.36</td>\n",
       "      <td>28.96</td>\n",
       "      <td>3.77</td>\n",
       "      <td>8.45</td>\n",
       "      <td>76.0</td>\n",
       "      <td>8</td>\n",
       "      <td>E</td>\n",
       "    </tr>\n",
       "    <tr>\n",
       "      <th>1</th>\n",
       "      <td>Super Mario Bros.</td>\n",
       "      <td>NES</td>\n",
       "      <td>1985.0</td>\n",
       "      <td>Platform</td>\n",
       "      <td>29.08</td>\n",
       "      <td>3.58</td>\n",
       "      <td>6.81</td>\n",
       "      <td>0.77</td>\n",
       "      <td>NaN</td>\n",
       "      <td>NaN</td>\n",
       "      <td>NaN</td>\n",
       "    </tr>\n",
       "    <tr>\n",
       "      <th>2</th>\n",
       "      <td>Mario Kart Wii</td>\n",
       "      <td>Wii</td>\n",
       "      <td>2008.0</td>\n",
       "      <td>Racing</td>\n",
       "      <td>15.68</td>\n",
       "      <td>12.76</td>\n",
       "      <td>3.79</td>\n",
       "      <td>3.29</td>\n",
       "      <td>82.0</td>\n",
       "      <td>8.3</td>\n",
       "      <td>E</td>\n",
       "    </tr>\n",
       "    <tr>\n",
       "      <th>3</th>\n",
       "      <td>Wii Sports Resort</td>\n",
       "      <td>Wii</td>\n",
       "      <td>2009.0</td>\n",
       "      <td>Sports</td>\n",
       "      <td>15.61</td>\n",
       "      <td>10.93</td>\n",
       "      <td>3.28</td>\n",
       "      <td>2.95</td>\n",
       "      <td>80.0</td>\n",
       "      <td>8</td>\n",
       "      <td>E</td>\n",
       "    </tr>\n",
       "    <tr>\n",
       "      <th>4</th>\n",
       "      <td>Pokemon Red/Pokemon Blue</td>\n",
       "      <td>GB</td>\n",
       "      <td>1996.0</td>\n",
       "      <td>Role-Playing</td>\n",
       "      <td>11.27</td>\n",
       "      <td>8.89</td>\n",
       "      <td>10.22</td>\n",
       "      <td>1.00</td>\n",
       "      <td>NaN</td>\n",
       "      <td>NaN</td>\n",
       "      <td>NaN</td>\n",
       "    </tr>\n",
       "    <tr>\n",
       "      <th>5</th>\n",
       "      <td>Tetris</td>\n",
       "      <td>GB</td>\n",
       "      <td>1989.0</td>\n",
       "      <td>Puzzle</td>\n",
       "      <td>23.20</td>\n",
       "      <td>2.26</td>\n",
       "      <td>4.22</td>\n",
       "      <td>0.58</td>\n",
       "      <td>NaN</td>\n",
       "      <td>NaN</td>\n",
       "      <td>NaN</td>\n",
       "    </tr>\n",
       "    <tr>\n",
       "      <th>6</th>\n",
       "      <td>New Super Mario Bros.</td>\n",
       "      <td>DS</td>\n",
       "      <td>2006.0</td>\n",
       "      <td>Platform</td>\n",
       "      <td>11.28</td>\n",
       "      <td>9.14</td>\n",
       "      <td>6.50</td>\n",
       "      <td>2.88</td>\n",
       "      <td>89.0</td>\n",
       "      <td>8.5</td>\n",
       "      <td>E</td>\n",
       "    </tr>\n",
       "    <tr>\n",
       "      <th>7</th>\n",
       "      <td>Wii Play</td>\n",
       "      <td>Wii</td>\n",
       "      <td>2006.0</td>\n",
       "      <td>Misc</td>\n",
       "      <td>13.96</td>\n",
       "      <td>9.18</td>\n",
       "      <td>2.93</td>\n",
       "      <td>2.84</td>\n",
       "      <td>58.0</td>\n",
       "      <td>6.6</td>\n",
       "      <td>E</td>\n",
       "    </tr>\n",
       "    <tr>\n",
       "      <th>8</th>\n",
       "      <td>New Super Mario Bros. Wii</td>\n",
       "      <td>Wii</td>\n",
       "      <td>2009.0</td>\n",
       "      <td>Platform</td>\n",
       "      <td>14.44</td>\n",
       "      <td>6.94</td>\n",
       "      <td>4.70</td>\n",
       "      <td>2.24</td>\n",
       "      <td>87.0</td>\n",
       "      <td>8.4</td>\n",
       "      <td>E</td>\n",
       "    </tr>\n",
       "    <tr>\n",
       "      <th>9</th>\n",
       "      <td>Duck Hunt</td>\n",
       "      <td>NES</td>\n",
       "      <td>1984.0</td>\n",
       "      <td>Shooter</td>\n",
       "      <td>26.93</td>\n",
       "      <td>0.63</td>\n",
       "      <td>0.28</td>\n",
       "      <td>0.47</td>\n",
       "      <td>NaN</td>\n",
       "      <td>NaN</td>\n",
       "      <td>NaN</td>\n",
       "    </tr>\n",
       "  </tbody>\n",
       "</table>\n",
       "</div>"
      ],
      "text/plain": [
       "                        Name Platform  Year_of_Release         Genre  \\\n",
       "0                 Wii Sports      Wii           2006.0        Sports   \n",
       "1          Super Mario Bros.      NES           1985.0      Platform   \n",
       "2             Mario Kart Wii      Wii           2008.0        Racing   \n",
       "3          Wii Sports Resort      Wii           2009.0        Sports   \n",
       "4   Pokemon Red/Pokemon Blue       GB           1996.0  Role-Playing   \n",
       "5                     Tetris       GB           1989.0        Puzzle   \n",
       "6      New Super Mario Bros.       DS           2006.0      Platform   \n",
       "7                   Wii Play      Wii           2006.0          Misc   \n",
       "8  New Super Mario Bros. Wii      Wii           2009.0      Platform   \n",
       "9                  Duck Hunt      NES           1984.0       Shooter   \n",
       "\n",
       "   NA_sales  EU_sales  JP_sales  Other_sales  Critic_Score User_Score Rating  \n",
       "0     41.36     28.96      3.77         8.45          76.0          8      E  \n",
       "1     29.08      3.58      6.81         0.77           NaN        NaN    NaN  \n",
       "2     15.68     12.76      3.79         3.29          82.0        8.3      E  \n",
       "3     15.61     10.93      3.28         2.95          80.0          8      E  \n",
       "4     11.27      8.89     10.22         1.00           NaN        NaN    NaN  \n",
       "5     23.20      2.26      4.22         0.58           NaN        NaN    NaN  \n",
       "6     11.28      9.14      6.50         2.88          89.0        8.5      E  \n",
       "7     13.96      9.18      2.93         2.84          58.0        6.6      E  \n",
       "8     14.44      6.94      4.70         2.24          87.0        8.4      E  \n",
       "9     26.93      0.63      0.28         0.47           NaN        NaN    NaN  "
      ]
     },
     "execution_count": 2,
     "metadata": {},
     "output_type": "execute_result"
    }
   ],
   "source": [
    "pd.options.mode.chained_assignment = None\n",
    "df = pd.read_csv('/datasets/games.csv')\n",
    "df.head(10)"
   ]
  },
  {
   "cell_type": "code",
   "execution_count": 3,
   "metadata": {
    "scrolled": false
   },
   "outputs": [
    {
     "name": "stdout",
     "output_type": "stream",
     "text": [
      "<class 'pandas.core.frame.DataFrame'>\n",
      "RangeIndex: 16715 entries, 0 to 16714\n",
      "Data columns (total 11 columns):\n",
      " #   Column           Non-Null Count  Dtype  \n",
      "---  ------           --------------  -----  \n",
      " 0   Name             16713 non-null  object \n",
      " 1   Platform         16715 non-null  object \n",
      " 2   Year_of_Release  16446 non-null  float64\n",
      " 3   Genre            16713 non-null  object \n",
      " 4   NA_sales         16715 non-null  float64\n",
      " 5   EU_sales         16715 non-null  float64\n",
      " 6   JP_sales         16715 non-null  float64\n",
      " 7   Other_sales      16715 non-null  float64\n",
      " 8   Critic_Score     8137 non-null   float64\n",
      " 9   User_Score       10014 non-null  object \n",
      " 10  Rating           9949 non-null   object \n",
      "dtypes: float64(6), object(5)\n",
      "memory usage: 1.4+ MB\n"
     ]
    }
   ],
   "source": [
    "df.info()"
   ]
  },
  {
   "cell_type": "code",
   "execution_count": 4,
   "metadata": {
    "scrolled": false
   },
   "outputs": [
    {
     "data": {
      "text/html": [
       "<div>\n",
       "<style scoped>\n",
       "    .dataframe tbody tr th:only-of-type {\n",
       "        vertical-align: middle;\n",
       "    }\n",
       "\n",
       "    .dataframe tbody tr th {\n",
       "        vertical-align: top;\n",
       "    }\n",
       "\n",
       "    .dataframe thead th {\n",
       "        text-align: right;\n",
       "    }\n",
       "</style>\n",
       "<table border=\"1\" class=\"dataframe\">\n",
       "  <thead>\n",
       "    <tr style=\"text-align: right;\">\n",
       "      <th></th>\n",
       "      <th>Year_of_Release</th>\n",
       "      <th>NA_sales</th>\n",
       "      <th>EU_sales</th>\n",
       "      <th>JP_sales</th>\n",
       "      <th>Other_sales</th>\n",
       "      <th>Critic_Score</th>\n",
       "    </tr>\n",
       "  </thead>\n",
       "  <tbody>\n",
       "    <tr>\n",
       "      <th>count</th>\n",
       "      <td>16446.000000</td>\n",
       "      <td>16715.000000</td>\n",
       "      <td>16715.000000</td>\n",
       "      <td>16715.000000</td>\n",
       "      <td>16715.000000</td>\n",
       "      <td>8137.000000</td>\n",
       "    </tr>\n",
       "    <tr>\n",
       "      <th>mean</th>\n",
       "      <td>2006.484616</td>\n",
       "      <td>0.263377</td>\n",
       "      <td>0.145060</td>\n",
       "      <td>0.077617</td>\n",
       "      <td>0.047342</td>\n",
       "      <td>68.967679</td>\n",
       "    </tr>\n",
       "    <tr>\n",
       "      <th>std</th>\n",
       "      <td>5.877050</td>\n",
       "      <td>0.813604</td>\n",
       "      <td>0.503339</td>\n",
       "      <td>0.308853</td>\n",
       "      <td>0.186731</td>\n",
       "      <td>13.938165</td>\n",
       "    </tr>\n",
       "    <tr>\n",
       "      <th>min</th>\n",
       "      <td>1980.000000</td>\n",
       "      <td>0.000000</td>\n",
       "      <td>0.000000</td>\n",
       "      <td>0.000000</td>\n",
       "      <td>0.000000</td>\n",
       "      <td>13.000000</td>\n",
       "    </tr>\n",
       "    <tr>\n",
       "      <th>25%</th>\n",
       "      <td>2003.000000</td>\n",
       "      <td>0.000000</td>\n",
       "      <td>0.000000</td>\n",
       "      <td>0.000000</td>\n",
       "      <td>0.000000</td>\n",
       "      <td>60.000000</td>\n",
       "    </tr>\n",
       "    <tr>\n",
       "      <th>50%</th>\n",
       "      <td>2007.000000</td>\n",
       "      <td>0.080000</td>\n",
       "      <td>0.020000</td>\n",
       "      <td>0.000000</td>\n",
       "      <td>0.010000</td>\n",
       "      <td>71.000000</td>\n",
       "    </tr>\n",
       "    <tr>\n",
       "      <th>75%</th>\n",
       "      <td>2010.000000</td>\n",
       "      <td>0.240000</td>\n",
       "      <td>0.110000</td>\n",
       "      <td>0.040000</td>\n",
       "      <td>0.030000</td>\n",
       "      <td>79.000000</td>\n",
       "    </tr>\n",
       "    <tr>\n",
       "      <th>max</th>\n",
       "      <td>2016.000000</td>\n",
       "      <td>41.360000</td>\n",
       "      <td>28.960000</td>\n",
       "      <td>10.220000</td>\n",
       "      <td>10.570000</td>\n",
       "      <td>98.000000</td>\n",
       "    </tr>\n",
       "  </tbody>\n",
       "</table>\n",
       "</div>"
      ],
      "text/plain": [
       "       Year_of_Release      NA_sales      EU_sales      JP_sales  \\\n",
       "count     16446.000000  16715.000000  16715.000000  16715.000000   \n",
       "mean       2006.484616      0.263377      0.145060      0.077617   \n",
       "std           5.877050      0.813604      0.503339      0.308853   \n",
       "min        1980.000000      0.000000      0.000000      0.000000   \n",
       "25%        2003.000000      0.000000      0.000000      0.000000   \n",
       "50%        2007.000000      0.080000      0.020000      0.000000   \n",
       "75%        2010.000000      0.240000      0.110000      0.040000   \n",
       "max        2016.000000     41.360000     28.960000     10.220000   \n",
       "\n",
       "        Other_sales  Critic_Score  \n",
       "count  16715.000000   8137.000000  \n",
       "mean       0.047342     68.967679  \n",
       "std        0.186731     13.938165  \n",
       "min        0.000000     13.000000  \n",
       "25%        0.000000     60.000000  \n",
       "50%        0.010000     71.000000  \n",
       "75%        0.030000     79.000000  \n",
       "max       10.570000     98.000000  "
      ]
     },
     "execution_count": 4,
     "metadata": {},
     "output_type": "execute_result"
    }
   ],
   "source": [
    "df.describe()"
   ]
  },
  {
   "cell_type": "markdown",
   "metadata": {},
   "source": [
    "Необходимо: \n",
    "1. Привести названия столбцов к нижнему регистру\n",
    "2. Столбец Year_of_Release привети к типу int\n",
    "3. Столбец User_Score к float\n",
    "4. Обработать пропуски"
   ]
  },
  {
   "cell_type": "markdown",
   "metadata": {},
   "source": [
    "2. **Подготовка данных**"
   ]
  },
  {
   "cell_type": "markdown",
   "metadata": {},
   "source": [
    "* Приведение к нижнему регистру названия столбцов"
   ]
  },
  {
   "cell_type": "code",
   "execution_count": 5,
   "metadata": {},
   "outputs": [],
   "source": [
    "df.columns = df.columns.str.lower()"
   ]
  },
  {
   "cell_type": "code",
   "execution_count": 6,
   "metadata": {
    "scrolled": true
   },
   "outputs": [
    {
     "data": {
      "text/html": [
       "<div>\n",
       "<style scoped>\n",
       "    .dataframe tbody tr th:only-of-type {\n",
       "        vertical-align: middle;\n",
       "    }\n",
       "\n",
       "    .dataframe tbody tr th {\n",
       "        vertical-align: top;\n",
       "    }\n",
       "\n",
       "    .dataframe thead th {\n",
       "        text-align: right;\n",
       "    }\n",
       "</style>\n",
       "<table border=\"1\" class=\"dataframe\">\n",
       "  <thead>\n",
       "    <tr style=\"text-align: right;\">\n",
       "      <th></th>\n",
       "      <th>name</th>\n",
       "      <th>platform</th>\n",
       "      <th>year_of_release</th>\n",
       "      <th>genre</th>\n",
       "      <th>na_sales</th>\n",
       "      <th>eu_sales</th>\n",
       "      <th>jp_sales</th>\n",
       "      <th>other_sales</th>\n",
       "      <th>critic_score</th>\n",
       "      <th>user_score</th>\n",
       "      <th>rating</th>\n",
       "    </tr>\n",
       "  </thead>\n",
       "  <tbody>\n",
       "    <tr>\n",
       "      <th>0</th>\n",
       "      <td>Wii Sports</td>\n",
       "      <td>Wii</td>\n",
       "      <td>2006.0</td>\n",
       "      <td>Sports</td>\n",
       "      <td>41.36</td>\n",
       "      <td>28.96</td>\n",
       "      <td>3.77</td>\n",
       "      <td>8.45</td>\n",
       "      <td>76.0</td>\n",
       "      <td>8</td>\n",
       "      <td>E</td>\n",
       "    </tr>\n",
       "    <tr>\n",
       "      <th>1</th>\n",
       "      <td>Super Mario Bros.</td>\n",
       "      <td>NES</td>\n",
       "      <td>1985.0</td>\n",
       "      <td>Platform</td>\n",
       "      <td>29.08</td>\n",
       "      <td>3.58</td>\n",
       "      <td>6.81</td>\n",
       "      <td>0.77</td>\n",
       "      <td>NaN</td>\n",
       "      <td>NaN</td>\n",
       "      <td>NaN</td>\n",
       "    </tr>\n",
       "  </tbody>\n",
       "</table>\n",
       "</div>"
      ],
      "text/plain": [
       "                name platform  year_of_release     genre  na_sales  eu_sales  \\\n",
       "0         Wii Sports      Wii           2006.0    Sports     41.36     28.96   \n",
       "1  Super Mario Bros.      NES           1985.0  Platform     29.08      3.58   \n",
       "\n",
       "   jp_sales  other_sales  critic_score user_score rating  \n",
       "0      3.77         8.45          76.0          8      E  \n",
       "1      6.81         0.77           NaN        NaN    NaN  "
      ]
     },
     "execution_count": 6,
     "metadata": {},
     "output_type": "execute_result"
    }
   ],
   "source": [
    "df.head(2)"
   ]
  },
  {
   "cell_type": "markdown",
   "metadata": {},
   "source": [
    "* Преобразование данных в нужные типы. Описание, в каких столбцах заменили тип данных и почему"
   ]
  },
  {
   "cell_type": "markdown",
   "metadata": {},
   "source": [
    "Столбец year_of_release приведем к int, потому как он отображает года, дроби тут ни к чему"
   ]
  },
  {
   "cell_type": "code",
   "execution_count": 7,
   "metadata": {},
   "outputs": [],
   "source": [
    "#Столбец приветем к int, потому как он отображает год\n",
    "df['year_of_release'] = pd.to_numeric(df['year_of_release'], errors='coerce').astype('Int64')"
   ]
  },
  {
   "cell_type": "code",
   "execution_count": 8,
   "metadata": {
    "scrolled": true
   },
   "outputs": [
    {
     "data": {
      "text/plain": [
       "array(['8', nan, '8.3', '8.5', '6.6', '8.4', '8.6', '7.7', '6.3', '7.4',\n",
       "       '8.2', '9', '7.9', '8.1', '8.7', '7.1', '3.4', '5.3', '4.8', '3.2',\n",
       "       '8.9', '6.4', '7.8', '7.5', '2.6', '7.2', '9.2', '7', '7.3', '4.3',\n",
       "       '7.6', '5.7', '5', '9.1', '6.5', 'tbd', '8.8', '6.9', '9.4', '6.8',\n",
       "       '6.1', '6.7', '5.4', '4', '4.9', '4.5', '9.3', '6.2', '4.2', '6',\n",
       "       '3.7', '4.1', '5.8', '5.6', '5.5', '4.4', '4.6', '5.9', '3.9',\n",
       "       '3.1', '2.9', '5.2', '3.3', '4.7', '5.1', '3.5', '2.5', '1.9', '3',\n",
       "       '2.7', '2.2', '2', '9.5', '2.1', '3.6', '2.8', '1.8', '3.8', '0',\n",
       "       '1.6', '9.6', '2.4', '1.7', '1.1', '0.3', '1.5', '0.7', '1.2',\n",
       "       '2.3', '0.5', '1.3', '0.2', '0.6', '1.4', '0.9', '1', '9.7'],\n",
       "      dtype=object)"
      ]
     },
     "execution_count": 8,
     "metadata": {},
     "output_type": "execute_result"
    }
   ],
   "source": [
    "#Посмотрим уникальные значения\n",
    "df['user_score'].unique()"
   ]
  },
  {
   "cell_type": "code",
   "execution_count": 9,
   "metadata": {
    "scrolled": false
   },
   "outputs": [
    {
     "data": {
      "text/html": [
       "<div>\n",
       "<style scoped>\n",
       "    .dataframe tbody tr th:only-of-type {\n",
       "        vertical-align: middle;\n",
       "    }\n",
       "\n",
       "    .dataframe tbody tr th {\n",
       "        vertical-align: top;\n",
       "    }\n",
       "\n",
       "    .dataframe thead th {\n",
       "        text-align: right;\n",
       "    }\n",
       "</style>\n",
       "<table border=\"1\" class=\"dataframe\">\n",
       "  <thead>\n",
       "    <tr style=\"text-align: right;\">\n",
       "      <th></th>\n",
       "      <th>name</th>\n",
       "      <th>platform</th>\n",
       "      <th>year_of_release</th>\n",
       "      <th>genre</th>\n",
       "      <th>na_sales</th>\n",
       "      <th>eu_sales</th>\n",
       "      <th>jp_sales</th>\n",
       "      <th>other_sales</th>\n",
       "      <th>critic_score</th>\n",
       "      <th>user_score</th>\n",
       "      <th>rating</th>\n",
       "    </tr>\n",
       "  </thead>\n",
       "  <tbody>\n",
       "    <tr>\n",
       "      <th>119</th>\n",
       "      <td>Zumba Fitness</td>\n",
       "      <td>Wii</td>\n",
       "      <td>2010</td>\n",
       "      <td>Sports</td>\n",
       "      <td>3.45</td>\n",
       "      <td>2.59</td>\n",
       "      <td>0.0</td>\n",
       "      <td>0.66</td>\n",
       "      <td>NaN</td>\n",
       "      <td>tbd</td>\n",
       "      <td>E</td>\n",
       "    </tr>\n",
       "    <tr>\n",
       "      <th>301</th>\n",
       "      <td>Namco Museum: 50th Anniversary</td>\n",
       "      <td>PS2</td>\n",
       "      <td>2005</td>\n",
       "      <td>Misc</td>\n",
       "      <td>2.08</td>\n",
       "      <td>1.35</td>\n",
       "      <td>0.0</td>\n",
       "      <td>0.54</td>\n",
       "      <td>61.0</td>\n",
       "      <td>tbd</td>\n",
       "      <td>E10+</td>\n",
       "    </tr>\n",
       "    <tr>\n",
       "      <th>520</th>\n",
       "      <td>Zumba Fitness 2</td>\n",
       "      <td>Wii</td>\n",
       "      <td>2011</td>\n",
       "      <td>Sports</td>\n",
       "      <td>1.51</td>\n",
       "      <td>1.03</td>\n",
       "      <td>0.0</td>\n",
       "      <td>0.27</td>\n",
       "      <td>NaN</td>\n",
       "      <td>tbd</td>\n",
       "      <td>T</td>\n",
       "    </tr>\n",
       "    <tr>\n",
       "      <th>645</th>\n",
       "      <td>uDraw Studio</td>\n",
       "      <td>Wii</td>\n",
       "      <td>2010</td>\n",
       "      <td>Misc</td>\n",
       "      <td>1.65</td>\n",
       "      <td>0.57</td>\n",
       "      <td>0.0</td>\n",
       "      <td>0.20</td>\n",
       "      <td>71.0</td>\n",
       "      <td>tbd</td>\n",
       "      <td>E</td>\n",
       "    </tr>\n",
       "    <tr>\n",
       "      <th>657</th>\n",
       "      <td>Frogger's Adventures: Temple of the Frog</td>\n",
       "      <td>GBA</td>\n",
       "      <td>&lt;NA&gt;</td>\n",
       "      <td>Adventure</td>\n",
       "      <td>2.15</td>\n",
       "      <td>0.18</td>\n",
       "      <td>0.0</td>\n",
       "      <td>0.07</td>\n",
       "      <td>73.0</td>\n",
       "      <td>tbd</td>\n",
       "      <td>E</td>\n",
       "    </tr>\n",
       "  </tbody>\n",
       "</table>\n",
       "</div>"
      ],
      "text/plain": [
       "                                         name platform  year_of_release  \\\n",
       "119                             Zumba Fitness      Wii             2010   \n",
       "301            Namco Museum: 50th Anniversary      PS2             2005   \n",
       "520                           Zumba Fitness 2      Wii             2011   \n",
       "645                              uDraw Studio      Wii             2010   \n",
       "657  Frogger's Adventures: Temple of the Frog      GBA             <NA>   \n",
       "\n",
       "         genre  na_sales  eu_sales  jp_sales  other_sales  critic_score  \\\n",
       "119     Sports      3.45      2.59       0.0         0.66           NaN   \n",
       "301       Misc      2.08      1.35       0.0         0.54          61.0   \n",
       "520     Sports      1.51      1.03       0.0         0.27           NaN   \n",
       "645       Misc      1.65      0.57       0.0         0.20          71.0   \n",
       "657  Adventure      2.15      0.18       0.0         0.07          73.0   \n",
       "\n",
       "    user_score rating  \n",
       "119        tbd      E  \n",
       "301        tbd   E10+  \n",
       "520        tbd      T  \n",
       "645        tbd      E  \n",
       "657        tbd      E  "
      ]
     },
     "execution_count": 9,
     "metadata": {},
     "output_type": "execute_result"
    }
   ],
   "source": [
    "#Посмотрим столбцы с 'tbd'\n",
    "df[df['user_score'] == 'tbd'].head(5)"
   ]
  },
  {
   "cell_type": "markdown",
   "metadata": {},
   "source": [
    "В столбце user_score есть \"nan\" и \"tbt\". \"Tbt\" это \"To Be Determined\", то есть \"Будет определено\", судя по годам выпуска это старые игры, в которых наверняка не учитывались оценки пользователей. Заменим его на Nan. Соответственно остальное оставляем все как есть, только изменим тип данных на 'float64'. "
   ]
  },
  {
   "cell_type": "code",
   "execution_count": 10,
   "metadata": {
    "scrolled": true
   },
   "outputs": [
    {
     "name": "stdout",
     "output_type": "stream",
     "text": [
      "В 'user_score' Nan было = 6701\n"
     ]
    }
   ],
   "source": [
    "#Посмотрим сколько Nan было до изменения\n",
    "print(\"В 'user_score' Nan было =\", df['user_score'].isna().sum())"
   ]
  },
  {
   "cell_type": "code",
   "execution_count": 11,
   "metadata": {
    "scrolled": true
   },
   "outputs": [],
   "source": [
    "#Изменим 'tbd' на Nan\n",
    "df.loc[df['user_score'] == 'tbd', 'user_score'] =np.nan\n",
    "df['user_score'] = df['user_score'].astype('float64').round(1)"
   ]
  },
  {
   "cell_type": "code",
   "execution_count": 12,
   "metadata": {
    "scrolled": false
   },
   "outputs": [
    {
     "name": "stdout",
     "output_type": "stream",
     "text": [
      "В 'user_score' Nan стало = 9125\n"
     ]
    }
   ],
   "source": [
    "#Посмотрим сколько Nan будет после изменения\n",
    "print(\"В 'user_score' Nan стало =\", df['user_score'].isna().sum())"
   ]
  },
  {
   "cell_type": "code",
   "execution_count": 13,
   "metadata": {},
   "outputs": [
    {
     "data": {
      "text/plain": [
       "array([76., nan, 82., 80., 89., 58., 87., 91., 61., 97., 95., 77., 88.,\n",
       "       83., 94., 93., 85., 86., 98., 96., 90., 84., 73., 74., 78., 92.,\n",
       "       71., 72., 68., 62., 49., 67., 81., 66., 56., 79., 70., 59., 64.,\n",
       "       75., 60., 63., 69., 50., 25., 42., 44., 55., 48., 57., 29., 47.,\n",
       "       65., 54., 20., 53., 37., 38., 33., 52., 30., 32., 43., 45., 51.,\n",
       "       40., 46., 39., 34., 35., 41., 36., 28., 31., 27., 26., 19., 23.,\n",
       "       24., 21., 17., 22., 13.])"
      ]
     },
     "execution_count": 13,
     "metadata": {},
     "output_type": "execute_result"
    }
   ],
   "source": [
    "#Посмотрим данные в столбце critic_score\n",
    "df['critic_score'].unique()"
   ]
  },
  {
   "cell_type": "markdown",
   "metadata": {},
   "source": [
    "Итог преобразования: \n",
    "* в столбце year_of_release убрали дроби, потому как это год выпуска. \n",
    "* в стобце user_score нашли абривиатуру \"tbt\", заменили ее на Nan. \n",
    "* в столбце critic_score оставили все как есть, \"Nan\" заменять нечем. \n"
   ]
  },
  {
   "cell_type": "code",
   "execution_count": 14,
   "metadata": {
    "scrolled": true
   },
   "outputs": [
    {
     "data": {
      "text/plain": [
       "array([8. , nan, 8.3, 8.5, 6.6, 8.4, 8.6, 7.7, 6.3, 7.4, 8.2, 9. , 7.9,\n",
       "       8.1, 8.7, 7.1, 3.4, 5.3, 4.8, 3.2, 8.9, 6.4, 7.8, 7.5, 2.6, 7.2,\n",
       "       9.2, 7. , 7.3, 4.3, 7.6, 5.7, 5. , 9.1, 6.5, 8.8, 6.9, 9.4, 6.8,\n",
       "       6.1, 6.7, 5.4, 4. , 4.9, 4.5, 9.3, 6.2, 4.2, 6. , 3.7, 4.1, 5.8,\n",
       "       5.6, 5.5, 4.4, 4.6, 5.9, 3.9, 3.1, 2.9, 5.2, 3.3, 4.7, 5.1, 3.5,\n",
       "       2.5, 1.9, 3. , 2.7, 2.2, 2. , 9.5, 2.1, 3.6, 2.8, 1.8, 3.8, 0. ,\n",
       "       1.6, 9.6, 2.4, 1.7, 1.1, 0.3, 1.5, 0.7, 1.2, 2.3, 0.5, 1.3, 0.2,\n",
       "       0.6, 1.4, 0.9, 1. , 9.7])"
      ]
     },
     "execution_count": 14,
     "metadata": {},
     "output_type": "execute_result"
    }
   ],
   "source": [
    "#Посмотрим значения в столбце user_score\n",
    "df['user_score'].unique()"
   ]
  },
  {
   "cell_type": "markdown",
   "metadata": {},
   "source": [
    "* Обработка пропусков"
   ]
  },
  {
   "cell_type": "code",
   "execution_count": 15,
   "metadata": {
    "scrolled": true
   },
   "outputs": [
    {
     "data": {
      "text/plain": [
       "name                  2\n",
       "platform              0\n",
       "year_of_release     269\n",
       "genre                 2\n",
       "na_sales              0\n",
       "eu_sales              0\n",
       "jp_sales              0\n",
       "other_sales           0\n",
       "critic_score       8578\n",
       "user_score         9125\n",
       "rating             6766\n",
       "dtype: int64"
      ]
     },
     "execution_count": 15,
     "metadata": {},
     "output_type": "execute_result"
    }
   ],
   "source": [
    "#посмотрим суммы нулей в столбцах\n",
    "df.isna().sum() "
   ]
  },
  {
   "cell_type": "code",
   "execution_count": 16,
   "metadata": {},
   "outputs": [
    {
     "data": {
      "text/plain": [
       "<AxesSubplot:>"
      ]
     },
     "execution_count": 16,
     "metadata": {},
     "output_type": "execute_result"
    },
    {
     "data": {
      "image/png": "[encoded data removed]",
      "text/plain": [
       "<Figure size 432x288 with 2 Axes>"
      ]
     },
     "metadata": {
      "needs_background": "light"
     },
     "output_type": "display_data"
    }
   ],
   "source": [
    "#на графике видны 3 лидера по незаполненным столбцам\n",
    "cols = df.columns[:30]\n",
    "colours = ['#000099', '#ffff00'] \n",
    "sns.heatmap(df[cols].isnull(), cmap=sns.color_palette(colours)) "
   ]
  },
  {
   "cell_type": "code",
   "execution_count": 17,
   "metadata": {
    "scrolled": true
   },
   "outputs": [
    {
     "name": "stdout",
     "output_type": "stream",
     "text": [
      "name - 0%\n",
      "platform - 0%\n",
      "year_of_release - 2%\n",
      "genre - 0%\n",
      "na_sales - 0%\n",
      "eu_sales - 0%\n",
      "jp_sales - 0%\n",
      "other_sales - 0%\n",
      "critic_score - 51%\n",
      "user_score - 55%\n",
      "rating - 40%\n"
     ]
    }
   ],
   "source": [
    "#посмотрим процент незаполненных данных по столбцам\n",
    "for col in df.columns:\n",
    "    pct_missing = np.mean(df[col].isnull())\n",
    "    print('{} - {}%'.format(col, round(pct_missing*100))) "
   ]
  },
  {
   "cell_type": "code",
   "execution_count": 18,
   "metadata": {
    "scrolled": true
   },
   "outputs": [
    {
     "name": "stdout",
     "output_type": "stream",
     "text": [
      "(16715, 11)\n"
     ]
    }
   ],
   "source": [
    "#посмотрим количество строк\n",
    "print(df.shape)"
   ]
  },
  {
   "cell_type": "code",
   "execution_count": 19,
   "metadata": {},
   "outputs": [],
   "source": [
    "#уберем незаполненные строки из столбца year_of_release, они составляют всего 2%\n",
    "df=df.dropna(subset=['year_of_release']) "
   ]
  },
  {
   "cell_type": "code",
   "execution_count": 20,
   "metadata": {},
   "outputs": [
    {
     "name": "stdout",
     "output_type": "stream",
     "text": [
      "(16446, 11)\n"
     ]
    }
   ],
   "source": [
    "#посмотрим количество строк после удаления\n",
    "print(df.shape)"
   ]
  },
  {
   "cell_type": "code",
   "execution_count": 21,
   "metadata": {
    "scrolled": true
   },
   "outputs": [
    {
     "name": "stdout",
     "output_type": "stream",
     "text": [
      "name - 0%\n",
      "platform - 0%\n",
      "year_of_release - 0%\n",
      "genre - 0%\n",
      "na_sales - 0%\n",
      "eu_sales - 0%\n",
      "jp_sales - 0%\n",
      "other_sales - 0%\n",
      "critic_score - 51%\n",
      "user_score - 55%\n",
      "rating - 41%\n"
     ]
    }
   ],
   "source": [
    "#перепроверим результат\n",
    "for col in df.columns:\n",
    "    pct_missing = np.mean(df[col].isnull())\n",
    "    print('{} - {}%'.format(col, round(pct_missing*100))) "
   ]
  },
  {
   "cell_type": "code",
   "execution_count": 22,
   "metadata": {},
   "outputs": [
    {
     "data": {
      "text/plain": [
       "array(['E', 'RP', 'M', 'T', 'E10+', 'K-A', 'AO', 'EC'], dtype=object)"
      ]
     },
     "execution_count": 22,
     "metadata": {},
     "output_type": "execute_result"
    }
   ],
   "source": [
    "#заполним пропуски в столбце рейтинг абривиатурой \"RP\"(Rating Pending-Рейтинг ожидается.)\n",
    "df['rating'] = df['rating'].fillna('RP') \n",
    "df['rating'].unique() "
   ]
  },
  {
   "cell_type": "markdown",
   "metadata": {},
   "source": [
    "Пропуски в столбцах critic_score, user_score и rating заполнять не будем, потому как заполнить средней или медианой будет не совсем верно. Опираться допустим на столбец с продажами тоже не верно, может игру купили, но она не понравилась. Устанавливать рейтинг тоже неверно, потому как он устанавливается вообще организацией ESRB имеющей свои определенные критерии."
   ]
  },
  {
   "cell_type": "markdown",
   "metadata": {},
   "source": [
    "Проверим неявные дубликаты в названиях населённых пунктов"
   ]
  },
  {
   "cell_type": "code",
   "execution_count": 23,
   "metadata": {},
   "outputs": [
    {
     "data": {
      "text/plain": [
       "0"
      ]
     },
     "execution_count": 23,
     "metadata": {},
     "output_type": "execute_result"
    }
   ],
   "source": [
    "#Сумма дубликатов\n",
    "df.duplicated().sum()"
   ]
  },
  {
   "cell_type": "code",
   "execution_count": 24,
   "metadata": {
    "scrolled": true
   },
   "outputs": [
    {
     "data": {
      "text/plain": [
       "array(['Wii Sports', 'Super Mario Bros.', 'Mario Kart Wii', ...,\n",
       "       'Woody Woodpecker in Crazy Castle 5', 'LMA Manager 2007',\n",
       "       'Haitaka no Psychedelica'], dtype=object)"
      ]
     },
     "execution_count": 24,
     "metadata": {},
     "output_type": "execute_result"
    }
   ],
   "source": [
    "#проверим столбец name\n",
    "df['name'].unique()"
   ]
  },
  {
   "cell_type": "code",
   "execution_count": 25,
   "metadata": {},
   "outputs": [
    {
     "data": {
      "text/plain": [
       "array(['Wii', 'NES', 'GB', 'DS', 'X360', 'PS3', 'PS2', 'SNES', 'GBA',\n",
       "       'PS4', '3DS', 'N64', 'PS', 'XB', 'PC', '2600', 'PSP', 'XOne',\n",
       "       'WiiU', 'GC', 'GEN', 'DC', 'PSV', 'SAT', 'SCD', 'WS', 'NG', 'TG16',\n",
       "       '3DO', 'GG', 'PCFX'], dtype=object)"
      ]
     },
     "execution_count": 25,
     "metadata": {},
     "output_type": "execute_result"
    }
   ],
   "source": [
    "#проверим столбец platform\n",
    "df['platform'].unique()"
   ]
  },
  {
   "cell_type": "markdown",
   "metadata": {},
   "source": [
    "Дубликатов нет. Оставляем все как есть. "
   ]
  },
  {
   "cell_type": "markdown",
   "metadata": {},
   "source": [
    "* Посчет суммарных продаж во всех регионах и запись их в отдельный столбец"
   ]
  },
  {
   "cell_type": "code",
   "execution_count": 26,
   "metadata": {
    "scrolled": false
   },
   "outputs": [
    {
     "data": {
      "text/html": [
       "<div>\n",
       "<style scoped>\n",
       "    .dataframe tbody tr th:only-of-type {\n",
       "        vertical-align: middle;\n",
       "    }\n",
       "\n",
       "    .dataframe tbody tr th {\n",
       "        vertical-align: top;\n",
       "    }\n",
       "\n",
       "    .dataframe thead th {\n",
       "        text-align: right;\n",
       "    }\n",
       "</style>\n",
       "<table border=\"1\" class=\"dataframe\">\n",
       "  <thead>\n",
       "    <tr style=\"text-align: right;\">\n",
       "      <th></th>\n",
       "      <th>name</th>\n",
       "      <th>platform</th>\n",
       "      <th>year_of_release</th>\n",
       "      <th>genre</th>\n",
       "      <th>na_sales</th>\n",
       "      <th>eu_sales</th>\n",
       "      <th>jp_sales</th>\n",
       "      <th>other_sales</th>\n",
       "      <th>critic_score</th>\n",
       "      <th>user_score</th>\n",
       "      <th>rating</th>\n",
       "      <th>sum_sales</th>\n",
       "    </tr>\n",
       "  </thead>\n",
       "  <tbody>\n",
       "    <tr>\n",
       "      <th>0</th>\n",
       "      <td>Wii Sports</td>\n",
       "      <td>Wii</td>\n",
       "      <td>2006</td>\n",
       "      <td>Sports</td>\n",
       "      <td>41.36</td>\n",
       "      <td>28.96</td>\n",
       "      <td>3.77</td>\n",
       "      <td>8.45</td>\n",
       "      <td>76.0</td>\n",
       "      <td>8.0</td>\n",
       "      <td>E</td>\n",
       "      <td>82.54</td>\n",
       "    </tr>\n",
       "    <tr>\n",
       "      <th>1</th>\n",
       "      <td>Super Mario Bros.</td>\n",
       "      <td>NES</td>\n",
       "      <td>1985</td>\n",
       "      <td>Platform</td>\n",
       "      <td>29.08</td>\n",
       "      <td>3.58</td>\n",
       "      <td>6.81</td>\n",
       "      <td>0.77</td>\n",
       "      <td>NaN</td>\n",
       "      <td>NaN</td>\n",
       "      <td>RP</td>\n",
       "      <td>40.24</td>\n",
       "    </tr>\n",
       "    <tr>\n",
       "      <th>2</th>\n",
       "      <td>Mario Kart Wii</td>\n",
       "      <td>Wii</td>\n",
       "      <td>2008</td>\n",
       "      <td>Racing</td>\n",
       "      <td>15.68</td>\n",
       "      <td>12.76</td>\n",
       "      <td>3.79</td>\n",
       "      <td>3.29</td>\n",
       "      <td>82.0</td>\n",
       "      <td>8.3</td>\n",
       "      <td>E</td>\n",
       "      <td>35.52</td>\n",
       "    </tr>\n",
       "    <tr>\n",
       "      <th>3</th>\n",
       "      <td>Wii Sports Resort</td>\n",
       "      <td>Wii</td>\n",
       "      <td>2009</td>\n",
       "      <td>Sports</td>\n",
       "      <td>15.61</td>\n",
       "      <td>10.93</td>\n",
       "      <td>3.28</td>\n",
       "      <td>2.95</td>\n",
       "      <td>80.0</td>\n",
       "      <td>8.0</td>\n",
       "      <td>E</td>\n",
       "      <td>32.77</td>\n",
       "    </tr>\n",
       "    <tr>\n",
       "      <th>4</th>\n",
       "      <td>Pokemon Red/Pokemon Blue</td>\n",
       "      <td>GB</td>\n",
       "      <td>1996</td>\n",
       "      <td>Role-Playing</td>\n",
       "      <td>11.27</td>\n",
       "      <td>8.89</td>\n",
       "      <td>10.22</td>\n",
       "      <td>1.00</td>\n",
       "      <td>NaN</td>\n",
       "      <td>NaN</td>\n",
       "      <td>RP</td>\n",
       "      <td>31.38</td>\n",
       "    </tr>\n",
       "    <tr>\n",
       "      <th>...</th>\n",
       "      <td>...</td>\n",
       "      <td>...</td>\n",
       "      <td>...</td>\n",
       "      <td>...</td>\n",
       "      <td>...</td>\n",
       "      <td>...</td>\n",
       "      <td>...</td>\n",
       "      <td>...</td>\n",
       "      <td>...</td>\n",
       "      <td>...</td>\n",
       "      <td>...</td>\n",
       "      <td>...</td>\n",
       "    </tr>\n",
       "    <tr>\n",
       "      <th>16710</th>\n",
       "      <td>Samurai Warriors: Sanada Maru</td>\n",
       "      <td>PS3</td>\n",
       "      <td>2016</td>\n",
       "      <td>Action</td>\n",
       "      <td>0.00</td>\n",
       "      <td>0.00</td>\n",
       "      <td>0.01</td>\n",
       "      <td>0.00</td>\n",
       "      <td>NaN</td>\n",
       "      <td>NaN</td>\n",
       "      <td>RP</td>\n",
       "      <td>0.01</td>\n",
       "    </tr>\n",
       "    <tr>\n",
       "      <th>16711</th>\n",
       "      <td>LMA Manager 2007</td>\n",
       "      <td>X360</td>\n",
       "      <td>2006</td>\n",
       "      <td>Sports</td>\n",
       "      <td>0.00</td>\n",
       "      <td>0.01</td>\n",
       "      <td>0.00</td>\n",
       "      <td>0.00</td>\n",
       "      <td>NaN</td>\n",
       "      <td>NaN</td>\n",
       "      <td>RP</td>\n",
       "      <td>0.01</td>\n",
       "    </tr>\n",
       "    <tr>\n",
       "      <th>16712</th>\n",
       "      <td>Haitaka no Psychedelica</td>\n",
       "      <td>PSV</td>\n",
       "      <td>2016</td>\n",
       "      <td>Adventure</td>\n",
       "      <td>0.00</td>\n",
       "      <td>0.00</td>\n",
       "      <td>0.01</td>\n",
       "      <td>0.00</td>\n",
       "      <td>NaN</td>\n",
       "      <td>NaN</td>\n",
       "      <td>RP</td>\n",
       "      <td>0.01</td>\n",
       "    </tr>\n",
       "    <tr>\n",
       "      <th>16713</th>\n",
       "      <td>Spirits &amp; Spells</td>\n",
       "      <td>GBA</td>\n",
       "      <td>2003</td>\n",
       "      <td>Platform</td>\n",
       "      <td>0.01</td>\n",
       "      <td>0.00</td>\n",
       "      <td>0.00</td>\n",
       "      <td>0.00</td>\n",
       "      <td>NaN</td>\n",
       "      <td>NaN</td>\n",
       "      <td>RP</td>\n",
       "      <td>0.01</td>\n",
       "    </tr>\n",
       "    <tr>\n",
       "      <th>16714</th>\n",
       "      <td>Winning Post 8 2016</td>\n",
       "      <td>PSV</td>\n",
       "      <td>2016</td>\n",
       "      <td>Simulation</td>\n",
       "      <td>0.00</td>\n",
       "      <td>0.00</td>\n",
       "      <td>0.01</td>\n",
       "      <td>0.00</td>\n",
       "      <td>NaN</td>\n",
       "      <td>NaN</td>\n",
       "      <td>RP</td>\n",
       "      <td>0.01</td>\n",
       "    </tr>\n",
       "  </tbody>\n",
       "</table>\n",
       "<p>16446 rows × 12 columns</p>\n",
       "</div>"
      ],
      "text/plain": [
       "                                name platform  year_of_release         genre  \\\n",
       "0                         Wii Sports      Wii             2006        Sports   \n",
       "1                  Super Mario Bros.      NES             1985      Platform   \n",
       "2                     Mario Kart Wii      Wii             2008        Racing   \n",
       "3                  Wii Sports Resort      Wii             2009        Sports   \n",
       "4           Pokemon Red/Pokemon Blue       GB             1996  Role-Playing   \n",
       "...                              ...      ...              ...           ...   \n",
       "16710  Samurai Warriors: Sanada Maru      PS3             2016        Action   \n",
       "16711               LMA Manager 2007     X360             2006        Sports   \n",
       "16712        Haitaka no Psychedelica      PSV             2016     Adventure   \n",
       "16713               Spirits & Spells      GBA             2003      Platform   \n",
       "16714            Winning Post 8 2016      PSV             2016    Simulation   \n",
       "\n",
       "       na_sales  eu_sales  jp_sales  other_sales  critic_score  user_score  \\\n",
       "0         41.36     28.96      3.77         8.45          76.0         8.0   \n",
       "1         29.08      3.58      6.81         0.77           NaN         NaN   \n",
       "2         15.68     12.76      3.79         3.29          82.0         8.3   \n",
       "3         15.61     10.93      3.28         2.95          80.0         8.0   \n",
       "4         11.27      8.89     10.22         1.00           NaN         NaN   \n",
       "...         ...       ...       ...          ...           ...         ...   \n",
       "16710      0.00      0.00      0.01         0.00           NaN         NaN   \n",
       "16711      0.00      0.01      0.00         0.00           NaN         NaN   \n",
       "16712      0.00      0.00      0.01         0.00           NaN         NaN   \n",
       "16713      0.01      0.00      0.00         0.00           NaN         NaN   \n",
       "16714      0.00      0.00      0.01         0.00           NaN         NaN   \n",
       "\n",
       "      rating  sum_sales  \n",
       "0          E      82.54  \n",
       "1         RP      40.24  \n",
       "2          E      35.52  \n",
       "3          E      32.77  \n",
       "4         RP      31.38  \n",
       "...      ...        ...  \n",
       "16710     RP       0.01  \n",
       "16711     RP       0.01  \n",
       "16712     RP       0.01  \n",
       "16713     RP       0.01  \n",
       "16714     RP       0.01  \n",
       "\n",
       "[16446 rows x 12 columns]"
      ]
     },
     "execution_count": 26,
     "metadata": {},
     "output_type": "execute_result"
    }
   ],
   "source": [
    "#добавим столбец с общей суммой продаж\n",
    "df['sum_sales'] = df['na_sales'] + df['eu_sales'] + df['jp_sales'] + df['other_sales']\n",
    "df"
   ]
  },
  {
   "cell_type": "markdown",
   "metadata": {},
   "source": [
    "3. **Исследовательский анализ данных**"
   ]
  },
  {
   "cell_type": "markdown",
   "metadata": {},
   "source": [
    "* Анализ, сколько игр выпускалось в разные годы. Вывод о нужности данных за весь период"
   ]
  },
  {
   "cell_type": "code",
   "execution_count": 27,
   "metadata": {
    "scrolled": false
   },
   "outputs": [
    {
     "data": {
      "image/png": "[encoded data removed]",
      "text/plain": [
       "<Figure size 432x288 with 1 Axes>"
      ]
     },
     "metadata": {
      "needs_background": "light"
     },
     "output_type": "display_data"
    }
   ],
   "source": [
    "#построим гистрограмму для анализа выпуска игр относительно года\n",
    "df['year_of_release'].plot(kind='hist', bins=73, grid=True)\n",
    "plt.xlabel('Год')\n",
    "plt.ylabel('Количество игр')\n",
    "plt.title('Количество игр по годам')\n",
    "figsize=[20, 10]"
   ]
  },
  {
   "cell_type": "markdown",
   "metadata": {},
   "source": [
    "До 1995г не было большого количества платформ и соответственно игр. Возможно не велась статистика в полной мере."
   ]
  },
  {
   "cell_type": "code",
   "execution_count": 28,
   "metadata": {
    "scrolled": true
   },
   "outputs": [
    {
     "data": {
      "text/plain": [
       "Text(0.5, 1.0, 'Количество игр по годам')"
      ]
     },
     "execution_count": 28,
     "metadata": {},
     "output_type": "execute_result"
    },
    {
     "data": {
      "image/png": "[encoded data removed]",
      "text/plain": [
       "<Figure size 432x288 with 1 Axes>"
      ]
     },
     "metadata": {
      "needs_background": "light"
     },
     "output_type": "display_data"
    }
   ],
   "source": [
    "#построим гистограмму для анализа кличества игр с 2000г\n",
    "year_2000of_release = df.query('year_of_release >=2000')\n",
    "year_2000of_release['year_of_release'].plot(kind='hist', bins=73, grid=True)\n",
    "plt.xlabel('Год')\n",
    "plt.ylabel('Количество игр')\n",
    "plt.title('Количество игр по годам')"
   ]
  },
  {
   "cell_type": "markdown",
   "metadata": {},
   "source": [
    "Самый пик приходится на 2008-2009года. Потребитель готов пробовать новые игры. Но с 2012 виден спад, пользователи уже определились на какой платформе и в какую игру хотят играть. С этого периода разработчики наверняка начали непосредственно улучшать саму игру. В конце 2013г. вышел четвертый PlayStation и соответственно в начале 2014 вышло несколько новых игр, остальные же производители наверняка не стали отставать. Для планирования 2017года не нужно брать весь период из данных, потому как сфера пришла в ремиссию по количеству игр. Нужно выбрать последние три года."
   ]
  },
  {
   "cell_type": "markdown",
   "metadata": {},
   "source": [
    "* Анализ, как менялись продажи по платформам. Выбор платформы с наибольшими суммарными продажами и построение распределения по годам. Вывод о характерном сроке появления новых и исчезновении старых платформ"
   ]
  },
  {
   "cell_type": "code",
   "execution_count": 29,
   "metadata": {
    "scrolled": false
   },
   "outputs": [
    {
     "data": {
      "text/html": [
       "<div>\n",
       "<style scoped>\n",
       "    .dataframe tbody tr th:only-of-type {\n",
       "        vertical-align: middle;\n",
       "    }\n",
       "\n",
       "    .dataframe tbody tr th {\n",
       "        vertical-align: top;\n",
       "    }\n",
       "\n",
       "    .dataframe thead th {\n",
       "        text-align: right;\n",
       "    }\n",
       "</style>\n",
       "<table border=\"1\" class=\"dataframe\">\n",
       "  <thead>\n",
       "    <tr style=\"text-align: right;\">\n",
       "      <th></th>\n",
       "      <th></th>\n",
       "      <th>sum_sales</th>\n",
       "    </tr>\n",
       "    <tr>\n",
       "      <th>platform</th>\n",
       "      <th>year_of_release</th>\n",
       "      <th></th>\n",
       "    </tr>\n",
       "  </thead>\n",
       "  <tbody>\n",
       "    <tr>\n",
       "      <th rowspan=\"5\" valign=\"top\">2600</th>\n",
       "      <th>1980</th>\n",
       "      <td>11.38</td>\n",
       "    </tr>\n",
       "    <tr>\n",
       "      <th>1981</th>\n",
       "      <td>35.68</td>\n",
       "    </tr>\n",
       "    <tr>\n",
       "      <th>1982</th>\n",
       "      <td>28.88</td>\n",
       "    </tr>\n",
       "    <tr>\n",
       "      <th>1983</th>\n",
       "      <td>5.84</td>\n",
       "    </tr>\n",
       "    <tr>\n",
       "      <th>1984</th>\n",
       "      <td>0.27</td>\n",
       "    </tr>\n",
       "    <tr>\n",
       "      <th>...</th>\n",
       "      <th>...</th>\n",
       "      <td>...</td>\n",
       "    </tr>\n",
       "    <tr>\n",
       "      <th>XB</th>\n",
       "      <th>2008</th>\n",
       "      <td>0.18</td>\n",
       "    </tr>\n",
       "    <tr>\n",
       "      <th rowspan=\"4\" valign=\"top\">XOne</th>\n",
       "      <th>2013</th>\n",
       "      <td>18.96</td>\n",
       "    </tr>\n",
       "    <tr>\n",
       "      <th>2014</th>\n",
       "      <td>54.07</td>\n",
       "    </tr>\n",
       "    <tr>\n",
       "      <th>2015</th>\n",
       "      <td>60.14</td>\n",
       "    </tr>\n",
       "    <tr>\n",
       "      <th>2016</th>\n",
       "      <td>26.15</td>\n",
       "    </tr>\n",
       "  </tbody>\n",
       "</table>\n",
       "<p>238 rows × 1 columns</p>\n",
       "</div>"
      ],
      "text/plain": [
       "                          sum_sales\n",
       "platform year_of_release           \n",
       "2600     1980                 11.38\n",
       "         1981                 35.68\n",
       "         1982                 28.88\n",
       "         1983                  5.84\n",
       "         1984                  0.27\n",
       "...                             ...\n",
       "XB       2008                  0.18\n",
       "XOne     2013                 18.96\n",
       "         2014                 54.07\n",
       "         2015                 60.14\n",
       "         2016                 26.15\n",
       "\n",
       "[238 rows x 1 columns]"
      ]
     },
     "execution_count": 29,
     "metadata": {},
     "output_type": "execute_result"
    }
   ],
   "source": [
    "#выведем таблицу для анализа продж по платформам\n",
    "platform_sale = df.pivot_table(index=['platform', 'year_of_release'],\n",
    "                                       values='sum_sales', aggfunc='sum')\n",
    "platform_sale"
   ]
  },
  {
   "cell_type": "markdown",
   "metadata": {},
   "source": [
    "У большинства в начале взлет, а потом с каждым годом падение. "
   ]
  },
  {
   "cell_type": "code",
   "execution_count": 30,
   "metadata": {
    "scrolled": false
   },
   "outputs": [
    {
     "data": {
      "text/plain": [
       "<seaborn.axisgrid.FacetGrid at 0x7f4575c7f580>"
      ]
     },
     "execution_count": 30,
     "metadata": {},
     "output_type": "execute_result"
    },
    {
     "data": {
      "image/png": "[encoded data removed]",
      "text/plain": [
       "<Figure size 360x360 with 1 Axes>"
      ]
     },
     "metadata": {
      "needs_background": "light"
     },
     "output_type": "display_data"
    }
   ],
   "source": [
    "#Построим график для просмотра периодов существования платформ\n",
    "sns.relplot(data = df\n",
    "            ,y = 'platform'\n",
    "            ,x = 'year_of_release'        \n",
    "            )"
   ]
  },
  {
   "cell_type": "markdown",
   "metadata": {},
   "source": [
    "В большинстве случаев платформы существуют три-пять лет. "
   ]
  },
  {
   "cell_type": "code",
   "execution_count": 31,
   "metadata": {
    "scrolled": false
   },
   "outputs": [
    {
     "data": {
      "text/html": [
       "<div>\n",
       "<style scoped>\n",
       "    .dataframe tbody tr th:only-of-type {\n",
       "        vertical-align: middle;\n",
       "    }\n",
       "\n",
       "    .dataframe tbody tr th {\n",
       "        vertical-align: top;\n",
       "    }\n",
       "\n",
       "    .dataframe thead th {\n",
       "        text-align: right;\n",
       "    }\n",
       "</style>\n",
       "<table border=\"1\" class=\"dataframe\">\n",
       "  <thead>\n",
       "    <tr style=\"text-align: right;\">\n",
       "      <th></th>\n",
       "      <th>platform</th>\n",
       "      <th>sum_sales</th>\n",
       "    </tr>\n",
       "  </thead>\n",
       "  <tbody>\n",
       "    <tr>\n",
       "      <th>0</th>\n",
       "      <td>PS2</td>\n",
       "      <td>1233.56</td>\n",
       "    </tr>\n",
       "    <tr>\n",
       "      <th>1</th>\n",
       "      <td>X360</td>\n",
       "      <td>961.24</td>\n",
       "    </tr>\n",
       "    <tr>\n",
       "      <th>2</th>\n",
       "      <td>PS3</td>\n",
       "      <td>931.34</td>\n",
       "    </tr>\n",
       "    <tr>\n",
       "      <th>3</th>\n",
       "      <td>Wii</td>\n",
       "      <td>891.18</td>\n",
       "    </tr>\n",
       "    <tr>\n",
       "      <th>4</th>\n",
       "      <td>DS</td>\n",
       "      <td>802.78</td>\n",
       "    </tr>\n",
       "  </tbody>\n",
       "</table>\n",
       "</div>"
      ],
      "text/plain": [
       "  platform  sum_sales\n",
       "0      PS2    1233.56\n",
       "1     X360     961.24\n",
       "2      PS3     931.34\n",
       "3      Wii     891.18\n",
       "4       DS     802.78"
      ]
     },
     "execution_count": 31,
     "metadata": {},
     "output_type": "execute_result"
    }
   ],
   "source": [
    "#выведем топ 5 платформ по уровню продаж\n",
    "platform_sale_top = df.pivot_table(index='platform', values='sum_sales', aggfunc='sum')\\\n",
    ".sort_values(by='sum_sales', ascending=False).head(5)\n",
    "platform_sale_top.reset_index()"
   ]
  },
  {
   "cell_type": "markdown",
   "metadata": {},
   "source": [
    "Топ 5 платформ с наибольшими продажами: PS2, X360, PS3, Wii, DS\t     "
   ]
  },
  {
   "cell_type": "markdown",
   "metadata": {},
   "source": [
    "* Выборка данных за соответствующий актуальный период, без учета данных за предыдущие годы"
   ]
  },
  {
   "cell_type": "code",
   "execution_count": 32,
   "metadata": {},
   "outputs": [],
   "source": [
    "#выбрали период с2014г по 2016г\n",
    "df_actual = df.query('year_of_release >= 2014 and year_of_release <= 2016')"
   ]
  },
  {
   "cell_type": "code",
   "execution_count": 33,
   "metadata": {},
   "outputs": [
    {
     "data": {
      "text/plain": [
       "Text(0.5, 1.0, 'Количество игр по годам')"
      ]
     },
     "execution_count": 33,
     "metadata": {},
     "output_type": "execute_result"
    },
    {
     "data": {
      "image/png": "[encoded data removed]",
      "text/plain": [
       "<Figure size 432x288 with 1 Axes>"
      ]
     },
     "metadata": {
      "needs_background": "light"
     },
     "output_type": "display_data"
    }
   ],
   "source": [
    "#посмотрим график за выбранный период\n",
    "df_actual['year_of_release'].value_counts().plot(kind='bar', grid=True)\n",
    "plt.xlabel('Год')\n",
    "plt.ylabel('Количество игр')\n",
    "plt.title('Количество игр по годам')"
   ]
  },
  {
   "cell_type": "markdown",
   "metadata": {},
   "source": [
    "* Анализ платформ которые лидируют по продажам, растут или падают. Выбор нескольких потенциально прибыльных платформ"
   ]
  },
  {
   "cell_type": "code",
   "execution_count": 34,
   "metadata": {},
   "outputs": [
    {
     "data": {
      "text/html": [
       "<div>\n",
       "<style scoped>\n",
       "    .dataframe tbody tr th:only-of-type {\n",
       "        vertical-align: middle;\n",
       "    }\n",
       "\n",
       "    .dataframe tbody tr th {\n",
       "        vertical-align: top;\n",
       "    }\n",
       "\n",
       "    .dataframe thead th {\n",
       "        text-align: right;\n",
       "    }\n",
       "</style>\n",
       "<table border=\"1\" class=\"dataframe\">\n",
       "  <thead>\n",
       "    <tr style=\"text-align: right;\">\n",
       "      <th></th>\n",
       "      <th>platform</th>\n",
       "      <th>sum_sales</th>\n",
       "    </tr>\n",
       "  </thead>\n",
       "  <tbody>\n",
       "    <tr>\n",
       "      <th>0</th>\n",
       "      <td>PS4</td>\n",
       "      <td>288.15</td>\n",
       "    </tr>\n",
       "    <tr>\n",
       "      <th>1</th>\n",
       "      <td>XOne</td>\n",
       "      <td>140.36</td>\n",
       "    </tr>\n",
       "    <tr>\n",
       "      <th>2</th>\n",
       "      <td>3DS</td>\n",
       "      <td>86.68</td>\n",
       "    </tr>\n",
       "    <tr>\n",
       "      <th>3</th>\n",
       "      <td>PS3</td>\n",
       "      <td>68.18</td>\n",
       "    </tr>\n",
       "    <tr>\n",
       "      <th>4</th>\n",
       "      <td>X360</td>\n",
       "      <td>48.22</td>\n",
       "    </tr>\n",
       "  </tbody>\n",
       "</table>\n",
       "</div>"
      ],
      "text/plain": [
       "  platform  sum_sales\n",
       "0      PS4     288.15\n",
       "1     XOne     140.36\n",
       "2      3DS      86.68\n",
       "3      PS3      68.18\n",
       "4     X360      48.22"
      ]
     },
     "execution_count": 34,
     "metadata": {},
     "output_type": "execute_result"
    }
   ],
   "source": [
    "#посмотрим топ 5 платформ по продажам\n",
    "platform_sale_top = df_actual.pivot_table(index='platform', values='sum_sales', aggfunc='sum')\\\n",
    ".sort_values(by='sum_sales', ascending=False).head(5)\n",
    "platform_sale_top.reset_index()"
   ]
  },
  {
   "cell_type": "code",
   "execution_count": 35,
   "metadata": {
    "scrolled": true
   },
   "outputs": [
    {
     "data": {
      "text/plain": [
       "Text(0.5, 1.0, 'Топ 5 платформ по суммам продаж')"
      ]
     },
     "execution_count": 35,
     "metadata": {},
     "output_type": "execute_result"
    },
    {
     "data": {
      "image/png": "[encoded data removed]",
      "text/plain": [
       "<Figure size 432x288 with 1 Axes>"
      ]
     },
     "metadata": {},
     "output_type": "display_data"
    }
   ],
   "source": [
    "#график топ 5 платформ по продажам\n",
    "platform_sale_top.plot(kind='pie', label=\"\", subplots=True, autopct='%1.0f%%')\n",
    "plt.legend(bbox_to_anchor=(1.3, 1), loc='upper center')\n",
    "plt.title('Топ 5 платформ по суммам продаж')"
   ]
  },
  {
   "cell_type": "markdown",
   "metadata": {},
   "source": [
    "По суммам продаж выделяются платформы: PS4, XOne, 3DS, PS3, X360, . Самые высокие продажи у PS4-46%. У них один производитель Sony, поэтому они по праву считаются топ производителями. Далее идут XOne производителя Microsoft. На третьем месте 3DS производителя Nintendo. Таким образом становится понятно что в последние годы в индустрии есть один явный лидер по продажам это PS4."
   ]
  },
  {
   "cell_type": "code",
   "execution_count": 36,
   "metadata": {},
   "outputs": [
    {
     "data": {
      "text/plain": [
       "Text(0.5, 1.0, 'Анализ продаж PS4')"
      ]
     },
     "execution_count": 36,
     "metadata": {},
     "output_type": "execute_result"
    },
    {
     "data": {
      "image/png": "[encoded data removed]",
      "text/plain": [
       "<Figure size 432x288 with 1 Axes>"
      ]
     },
     "metadata": {
      "needs_background": "light"
     },
     "output_type": "display_data"
    }
   ],
   "source": [
    "analis_top = df_actual.pivot_table(index=['platform', 'year_of_release'],\n",
    "                                       values='sum_sales', aggfunc='sum')\n",
    "analis_top.query('platform == \"PS4\"').plot(kind='bar', grid=True)\n",
    "plt.title('Анализ продаж PS4')"
   ]
  },
  {
   "cell_type": "code",
   "execution_count": 37,
   "metadata": {},
   "outputs": [
    {
     "data": {
      "text/plain": [
       "Text(0.5, 1.0, 'Анализ продаж PS3')"
      ]
     },
     "execution_count": 37,
     "metadata": {},
     "output_type": "execute_result"
    },
    {
     "data": {
      "image/png": "[encoded data removed]",
      "text/plain": [
       "<Figure size 432x288 with 1 Axes>"
      ]
     },
     "metadata": {
      "needs_background": "light"
     },
     "output_type": "display_data"
    }
   ],
   "source": [
    "analis_top.query('platform == \"PS3\"').plot(kind='bar', grid=True)\n",
    "plt.title('Анализ продаж PS3')"
   ]
  },
  {
   "cell_type": "code",
   "execution_count": 38,
   "metadata": {},
   "outputs": [
    {
     "data": {
      "text/plain": [
       "Text(0.5, 1.0, 'Анализ продаж X360')"
      ]
     },
     "execution_count": 38,
     "metadata": {},
     "output_type": "execute_result"
    },
    {
     "data": {
      "image/png": "[encoded data removed]",
      "text/plain": [
       "<Figure size 432x288 with 1 Axes>"
      ]
     },
     "metadata": {
      "needs_background": "light"
     },
     "output_type": "display_data"
    }
   ],
   "source": [
    "analis_top.query('platform == \"X360\"').plot(kind='bar', grid=True)\n",
    "plt.title('Анализ продаж X360')"
   ]
  },
  {
   "cell_type": "code",
   "execution_count": 39,
   "metadata": {
    "scrolled": false
   },
   "outputs": [
    {
     "data": {
      "text/plain": [
       "Text(0.5, 1.0, 'Анализ продаж XOne')"
      ]
     },
     "execution_count": 39,
     "metadata": {},
     "output_type": "execute_result"
    },
    {
     "data": {
      "image/png": "[encoded data removed]",
      "text/plain": [
       "<Figure size 432x288 with 1 Axes>"
      ]
     },
     "metadata": {
      "needs_background": "light"
     },
     "output_type": "display_data"
    }
   ],
   "source": [
    "analis_top.query('platform == \"XOne\"').plot(kind='bar', grid=True)\n",
    "plt.title('Анализ продаж XOne')"
   ]
  },
  {
   "cell_type": "code",
   "execution_count": 40,
   "metadata": {},
   "outputs": [
    {
     "data": {
      "text/plain": [
       "Text(0.5, 1.0, 'Анализ продаж 3DS')"
      ]
     },
     "execution_count": 40,
     "metadata": {},
     "output_type": "execute_result"
    },
    {
     "data": {
      "image/png": "[encoded data removed]",
      "text/plain": [
       "<Figure size 432x288 with 1 Axes>"
      ]
     },
     "metadata": {
      "needs_background": "light"
     },
     "output_type": "display_data"
    }
   ],
   "source": [
    "analis_top.query('platform == \"3DS\"').plot(kind='bar', grid=True)\n",
    "plt.title('Анализ продаж 3DS')"
   ]
  },
  {
   "cell_type": "markdown",
   "metadata": {},
   "source": [
    "Рост продаж наблюдается всего лишь у двух платформ: PS4 и XOne. Это последние свежие платформы у производителей Sony и Microsoft. У остальных наблюдается спад, платформы устарели и потеряли интерес у покупателя. "
   ]
  },
  {
   "cell_type": "markdown",
   "metadata": {},
   "source": [
    "* Построение графика «ящик с усами» по глобальным продажам игр в разбивке по платформам. Описан результат"
   ]
  },
  {
   "cell_type": "code",
   "execution_count": 41,
   "metadata": {},
   "outputs": [
    {
     "data": {
      "text/plain": [
       "(0.0, 3.0)"
      ]
     },
     "execution_count": 41,
     "metadata": {},
     "output_type": "execute_result"
    },
    {
     "data": {
      "image/png": "[encoded data removed]",
      "text/plain": [
       "<Figure size 432x288 with 1 Axes>"
      ]
     },
     "metadata": {
      "needs_background": "light"
     },
     "output_type": "display_data"
    }
   ],
   "source": [
    "sns.boxplot(data=df_actual, x='platform', y='sum_sales')\n",
    "plt.ylim(0,3)"
   ]
  },
  {
   "cell_type": "code",
   "execution_count": 42,
   "metadata": {
    "scrolled": false
   },
   "outputs": [
    {
     "data": {
      "text/plain": [
       "(0.0, 0.85)"
      ]
     },
     "execution_count": 42,
     "metadata": {},
     "output_type": "execute_result"
    },
    {
     "data": {
      "image/png": "[encoded data removed]",
      "text/plain": [
       "<Figure size 432x288 with 1 Axes>"
      ]
     },
     "metadata": {
      "needs_background": "light"
     },
     "output_type": "display_data"
    }
   ],
   "source": [
    "\n",
    "sns.boxplot(data=df_actual, x='platform', y='sum_sales')\n",
    "plt.ylim(0,0.85)\n"
   ]
  },
  {
   "cell_type": "code",
   "execution_count": 43,
   "metadata": {},
   "outputs": [
    {
     "data": {
      "text/html": [
       "<div>\n",
       "<style scoped>\n",
       "    .dataframe tbody tr th:only-of-type {\n",
       "        vertical-align: middle;\n",
       "    }\n",
       "\n",
       "    .dataframe tbody tr th {\n",
       "        vertical-align: top;\n",
       "    }\n",
       "\n",
       "    .dataframe thead th {\n",
       "        text-align: right;\n",
       "    }\n",
       "</style>\n",
       "<table border=\"1\" class=\"dataframe\">\n",
       "  <thead>\n",
       "    <tr style=\"text-align: right;\">\n",
       "      <th></th>\n",
       "      <th>year_of_release</th>\n",
       "      <th>na_sales</th>\n",
       "      <th>eu_sales</th>\n",
       "      <th>jp_sales</th>\n",
       "      <th>other_sales</th>\n",
       "      <th>critic_score</th>\n",
       "      <th>user_score</th>\n",
       "      <th>sum_sales</th>\n",
       "    </tr>\n",
       "  </thead>\n",
       "  <tbody>\n",
       "    <tr>\n",
       "      <th>count</th>\n",
       "      <td>1689.000000</td>\n",
       "      <td>1689.000000</td>\n",
       "      <td>1689.000000</td>\n",
       "      <td>1689.000000</td>\n",
       "      <td>1689.000000</td>\n",
       "      <td>718.000000</td>\n",
       "      <td>888.000000</td>\n",
       "      <td>1689.000000</td>\n",
       "    </tr>\n",
       "    <tr>\n",
       "      <th>mean</th>\n",
       "      <td>2014.953227</td>\n",
       "      <td>0.168182</td>\n",
       "      <td>0.160261</td>\n",
       "      <td>0.055115</td>\n",
       "      <td>0.048324</td>\n",
       "      <td>72.306407</td>\n",
       "      <td>6.623536</td>\n",
       "      <td>0.431883</td>\n",
       "    </tr>\n",
       "    <tr>\n",
       "      <th>std</th>\n",
       "      <td>0.799624</td>\n",
       "      <td>0.446134</td>\n",
       "      <td>0.466846</td>\n",
       "      <td>0.211513</td>\n",
       "      <td>0.141790</td>\n",
       "      <td>12.213500</td>\n",
       "      <td>1.589792</td>\n",
       "      <td>1.056109</td>\n",
       "    </tr>\n",
       "    <tr>\n",
       "      <th>min</th>\n",
       "      <td>2014.000000</td>\n",
       "      <td>0.000000</td>\n",
       "      <td>0.000000</td>\n",
       "      <td>0.000000</td>\n",
       "      <td>0.000000</td>\n",
       "      <td>19.000000</td>\n",
       "      <td>0.200000</td>\n",
       "      <td>0.010000</td>\n",
       "    </tr>\n",
       "    <tr>\n",
       "      <th>25%</th>\n",
       "      <td>2014.000000</td>\n",
       "      <td>0.000000</td>\n",
       "      <td>0.000000</td>\n",
       "      <td>0.000000</td>\n",
       "      <td>0.000000</td>\n",
       "      <td>66.000000</td>\n",
       "      <td>5.800000</td>\n",
       "      <td>0.030000</td>\n",
       "    </tr>\n",
       "    <tr>\n",
       "      <th>50%</th>\n",
       "      <td>2015.000000</td>\n",
       "      <td>0.020000</td>\n",
       "      <td>0.020000</td>\n",
       "      <td>0.010000</td>\n",
       "      <td>0.010000</td>\n",
       "      <td>74.000000</td>\n",
       "      <td>7.000000</td>\n",
       "      <td>0.100000</td>\n",
       "    </tr>\n",
       "    <tr>\n",
       "      <th>75%</th>\n",
       "      <td>2016.000000</td>\n",
       "      <td>0.120000</td>\n",
       "      <td>0.120000</td>\n",
       "      <td>0.040000</td>\n",
       "      <td>0.040000</td>\n",
       "      <td>81.000000</td>\n",
       "      <td>7.800000</td>\n",
       "      <td>0.350000</td>\n",
       "    </tr>\n",
       "    <tr>\n",
       "      <th>max</th>\n",
       "      <td>2016.000000</td>\n",
       "      <td>6.030000</td>\n",
       "      <td>6.310000</td>\n",
       "      <td>3.180000</td>\n",
       "      <td>2.380000</td>\n",
       "      <td>97.000000</td>\n",
       "      <td>9.300000</td>\n",
       "      <td>14.630000</td>\n",
       "    </tr>\n",
       "  </tbody>\n",
       "</table>\n",
       "</div>"
      ],
      "text/plain": [
       "       year_of_release     na_sales     eu_sales     jp_sales  other_sales  \\\n",
       "count      1689.000000  1689.000000  1689.000000  1689.000000  1689.000000   \n",
       "mean       2014.953227     0.168182     0.160261     0.055115     0.048324   \n",
       "std           0.799624     0.446134     0.466846     0.211513     0.141790   \n",
       "min        2014.000000     0.000000     0.000000     0.000000     0.000000   \n",
       "25%        2014.000000     0.000000     0.000000     0.000000     0.000000   \n",
       "50%        2015.000000     0.020000     0.020000     0.010000     0.010000   \n",
       "75%        2016.000000     0.120000     0.120000     0.040000     0.040000   \n",
       "max        2016.000000     6.030000     6.310000     3.180000     2.380000   \n",
       "\n",
       "       critic_score  user_score    sum_sales  \n",
       "count    718.000000  888.000000  1689.000000  \n",
       "mean      72.306407    6.623536     0.431883  \n",
       "std       12.213500    1.589792     1.056109  \n",
       "min       19.000000    0.200000     0.010000  \n",
       "25%       66.000000    5.800000     0.030000  \n",
       "50%       74.000000    7.000000     0.100000  \n",
       "75%       81.000000    7.800000     0.350000  \n",
       "max       97.000000    9.300000    14.630000  "
      ]
     },
     "execution_count": 43,
     "metadata": {},
     "output_type": "execute_result"
    }
   ],
   "source": [
    "df_actual.describe()"
   ]
  },
  {
   "cell_type": "markdown",
   "metadata": {},
   "source": [
    "Медианa'PS4' немного ниже 'XOne', соответсвенно они примерно в одном ценовом диапазане. Хоть и продажи'PS4' самые большие, но судя по предыдущей платформе('PS3') им получилость получить такой успех не за опыт прошлых лет. Если посмотреть на медианы 'XOne' и 'X360', то это действительно опыт прошлых лет, потому как уровень медианы 'X360' не на много ниже 'XOne'. "
   ]
  },
  {
   "cell_type": "markdown",
   "metadata": {},
   "source": [
    "* Построение диаграммы рассеяния и подсчет корреляции между отзывами и продажами. Сформулирован вывод"
   ]
  },
  {
   "cell_type": "code",
   "execution_count": 44,
   "metadata": {
    "scrolled": false
   },
   "outputs": [
    {
     "name": "stdout",
     "output_type": "stream",
     "text": [
      "Кореляция оценка критиков 0.328105086966363\n"
     ]
    },
    {
     "data": {
      "image/png": "[encoded data removed]",
      "text/plain": [
       "<Figure size 432x288 with 1 Axes>"
      ]
     },
     "metadata": {
      "needs_background": "light"
     },
     "output_type": "display_data"
    }
   ],
   "source": [
    "#кореляция по отзывам критиков\n",
    "df_actual.plot(x='critic_score', y='sum_sales', kind='scatter')\n",
    "cor_cr = df_actual['sum_sales'].corr(df_actual['critic_score'])\n",
    "print('Кореляция оценка критиков', cor_cr)"
   ]
  },
  {
   "cell_type": "code",
   "execution_count": 45,
   "metadata": {
    "scrolled": true
   },
   "outputs": [
    {
     "name": "stdout",
     "output_type": "stream",
     "text": [
      "Кореляция оценка пользователей -0.013070305002484585\n"
     ]
    },
    {
     "data": {
      "image/png": "[encoded data removed]",
      "text/plain": [
       "<Figure size 432x288 with 1 Axes>"
      ]
     },
     "metadata": {
      "needs_background": "light"
     },
     "output_type": "display_data"
    }
   ],
   "source": [
    "#кореляция по отзывам пользователей\n",
    "df_actual.plot(x='user_score', y='sum_sales', kind='scatter')\n",
    "cor_us = df_actual['sum_sales'].corr(df_actual['user_score'])\n",
    "print('Кореляция оценка пользователей', cor_us)"
   ]
  },
  {
   "cell_type": "markdown",
   "metadata": {},
   "source": [
    "Кореляции оценок пользователей с продажами нет. Кореляция оценок критиков демонстрирует слабую корреляцию с продажами. "
   ]
  },
  {
   "cell_type": "markdown",
   "metadata": {},
   "source": [
    "* Анализ общего распределения игр по жанрам"
   ]
  },
  {
   "cell_type": "markdown",
   "metadata": {},
   "source": [
    "Посмотрите на общее распределение игр по жанрам. Что можно сказать о самых прибыльных жанрах? Выделяются ли жанры с высокими и низкими продажами?"
   ]
  },
  {
   "cell_type": "code",
   "execution_count": 46,
   "metadata": {
    "scrolled": false
   },
   "outputs": [
    {
     "data": {
      "text/html": [
       "<div>\n",
       "<style scoped>\n",
       "    .dataframe tbody tr th:only-of-type {\n",
       "        vertical-align: middle;\n",
       "    }\n",
       "\n",
       "    .dataframe tbody tr th {\n",
       "        vertical-align: top;\n",
       "    }\n",
       "\n",
       "    .dataframe thead th {\n",
       "        text-align: right;\n",
       "    }\n",
       "</style>\n",
       "<table border=\"1\" class=\"dataframe\">\n",
       "  <thead>\n",
       "    <tr style=\"text-align: right;\">\n",
       "      <th></th>\n",
       "      <th>genre</th>\n",
       "      <th>sum_sales</th>\n",
       "    </tr>\n",
       "  </thead>\n",
       "  <tbody>\n",
       "    <tr>\n",
       "      <th>0</th>\n",
       "      <td>Action</td>\n",
       "      <td>199.36</td>\n",
       "    </tr>\n",
       "    <tr>\n",
       "      <th>1</th>\n",
       "      <td>Shooter</td>\n",
       "      <td>170.94</td>\n",
       "    </tr>\n",
       "    <tr>\n",
       "      <th>2</th>\n",
       "      <td>Sports</td>\n",
       "      <td>109.48</td>\n",
       "    </tr>\n",
       "    <tr>\n",
       "      <th>3</th>\n",
       "      <td>Role-Playing</td>\n",
       "      <td>101.44</td>\n",
       "    </tr>\n",
       "    <tr>\n",
       "      <th>4</th>\n",
       "      <td>Misc</td>\n",
       "      <td>37.55</td>\n",
       "    </tr>\n",
       "    <tr>\n",
       "      <th>5</th>\n",
       "      <td>Fighting</td>\n",
       "      <td>28.22</td>\n",
       "    </tr>\n",
       "    <tr>\n",
       "      <th>6</th>\n",
       "      <td>Racing</td>\n",
       "      <td>27.52</td>\n",
       "    </tr>\n",
       "    <tr>\n",
       "      <th>7</th>\n",
       "      <td>Platform</td>\n",
       "      <td>18.09</td>\n",
       "    </tr>\n",
       "    <tr>\n",
       "      <th>8</th>\n",
       "      <td>Adventure</td>\n",
       "      <td>17.55</td>\n",
       "    </tr>\n",
       "    <tr>\n",
       "      <th>9</th>\n",
       "      <td>Simulation</td>\n",
       "      <td>13.13</td>\n",
       "    </tr>\n",
       "    <tr>\n",
       "      <th>10</th>\n",
       "      <td>Strategy</td>\n",
       "      <td>3.96</td>\n",
       "    </tr>\n",
       "    <tr>\n",
       "      <th>11</th>\n",
       "      <td>Puzzle</td>\n",
       "      <td>2.21</td>\n",
       "    </tr>\n",
       "  </tbody>\n",
       "</table>\n",
       "</div>"
      ],
      "text/plain": [
       "           genre  sum_sales\n",
       "0         Action     199.36\n",
       "1        Shooter     170.94\n",
       "2         Sports     109.48\n",
       "3   Role-Playing     101.44\n",
       "4           Misc      37.55\n",
       "5       Fighting      28.22\n",
       "6         Racing      27.52\n",
       "7       Platform      18.09\n",
       "8      Adventure      17.55\n",
       "9     Simulation      13.13\n",
       "10      Strategy       3.96\n",
       "11        Puzzle       2.21"
      ]
     },
     "execution_count": 46,
     "metadata": {},
     "output_type": "execute_result"
    }
   ],
   "source": [
    "#Посмотрим проаджи игр по жанрам\n",
    "genre_sale_top = df_actual.pivot_table(index='genre', values='sum_sales', aggfunc='sum').sort_values(by='sum_sales', ascending=False)\n",
    "genre_sale_top.reset_index()"
   ]
  },
  {
   "cell_type": "code",
   "execution_count": 47,
   "metadata": {},
   "outputs": [
    {
     "data": {
      "text/plain": [
       "Text(0.5, 1.0, 'Топ 5 жанров по суммам продаж')"
      ]
     },
     "execution_count": 47,
     "metadata": {},
     "output_type": "execute_result"
    },
    {
     "data": {
      "image/png": "[encoded data removed]",
      "text/plain": [
       "<Figure size 432x288 with 1 Axes>"
      ]
     },
     "metadata": {},
     "output_type": "display_data"
    }
   ],
   "source": [
    "#график продаж по жанрам\n",
    "genre_sale_top = genre_sale_top.head(5)\n",
    "genre_sale_top.plot(kind='pie', label=\"\", subplots=True, autopct='%1.0f%%')\n",
    "plt.legend(bbox_to_anchor=(1.5, 1), loc='upper center')\n",
    "plt.title('Топ 5 жанров по суммам продаж')"
   ]
  },
  {
   "cell_type": "markdown",
   "metadata": {},
   "source": [
    "Топ самых продаваемых игр относятся к жанрам: Action,Shooter,Sports. Самые не популярные: Strategy, Puzzle. Посмотрим медианы по всем жанрам"
   ]
  },
  {
   "cell_type": "code",
   "execution_count": 48,
   "metadata": {
    "scrolled": false
   },
   "outputs": [
    {
     "data": {
      "text/plain": [
       "(array([ 0,  1,  2,  3,  4,  5,  6,  7,  8,  9, 10, 11]),\n",
       " [Text(0, 0, 'Shooter'),\n",
       "  Text(1, 0, 'Action'),\n",
       "  Text(2, 0, 'Role-Playing'),\n",
       "  Text(3, 0, 'Sports'),\n",
       "  Text(4, 0, 'Fighting'),\n",
       "  Text(5, 0, 'Racing'),\n",
       "  Text(6, 0, 'Misc'),\n",
       "  Text(7, 0, 'Platform'),\n",
       "  Text(8, 0, 'Simulation'),\n",
       "  Text(9, 0, 'Adventure'),\n",
       "  Text(10, 0, 'Puzzle'),\n",
       "  Text(11, 0, 'Strategy')])"
      ]
     },
     "execution_count": 48,
     "metadata": {},
     "output_type": "execute_result"
    },
    {
     "data": {
      "image/png": "[encoded data removed]",
      "text/plain": [
       "<Figure size 432x288 with 1 Axes>"
      ]
     },
     "metadata": {
      "needs_background": "light"
     },
     "output_type": "display_data"
    }
   ],
   "source": [
    "#построим ящики с усами для всех жанров\n",
    "sns.boxplot(data=df_actual, x='genre', y='sum_sales')\n",
    "plt.ylim(0,0.85)\n",
    "plt.xticks(rotation=45)"
   ]
  },
  {
   "cell_type": "markdown",
   "metadata": {},
   "source": [
    "Медиана учитывает не только слишком большие\\маленькие значения относительно среднего, но и их количество. Самая высокая медиана у 'Shooter'соответсвенно это самый успешный жанр который приносит стабильный доход. "
   ]
  },
  {
   "cell_type": "code",
   "execution_count": 49,
   "metadata": {},
   "outputs": [
    {
     "data": {
      "text/plain": [
       "<AxesSubplot:xlabel='genre,year_of_release'>"
      ]
     },
     "execution_count": 49,
     "metadata": {},
     "output_type": "execute_result"
    },
    {
     "data": {
      "image/png": "[encoded data removed]",
      "text/plain": [
       "<Figure size 432x288 with 1 Axes>"
      ]
     },
     "metadata": {
      "needs_background": "light"
     },
     "output_type": "display_data"
    }
   ],
   "source": [
    "analis_genre = df_actual.pivot_table(index=['genre', 'year_of_release'],\n",
    "                                       values='sum_sales', aggfunc='sum')\n",
    "analis_genre.plot(kind='bar', grid=True)"
   ]
  },
  {
   "cell_type": "markdown",
   "metadata": {},
   "source": [
    "Продажи по всем платформам с каждым годом падают. "
   ]
  },
  {
   "cell_type": "markdown",
   "metadata": {},
   "source": [
    "4. **Портрет пользователя каждого региона(NA, EU, JP)**"
   ]
  },
  {
   "cell_type": "markdown",
   "metadata": {},
   "source": [
    "Определим для пользователя каждого региона топ 5 платформ и жанров игр. А так же влияние рейтинга на продажи. "
   ]
  },
  {
   "cell_type": "code",
   "execution_count": 50,
   "metadata": {},
   "outputs": [
    {
     "data": {
      "text/html": [
       "<div>\n",
       "<style scoped>\n",
       "    .dataframe tbody tr th:only-of-type {\n",
       "        vertical-align: middle;\n",
       "    }\n",
       "\n",
       "    .dataframe tbody tr th {\n",
       "        vertical-align: top;\n",
       "    }\n",
       "\n",
       "    .dataframe thead th {\n",
       "        text-align: right;\n",
       "    }\n",
       "</style>\n",
       "<table border=\"1\" class=\"dataframe\">\n",
       "  <thead>\n",
       "    <tr style=\"text-align: right;\">\n",
       "      <th></th>\n",
       "      <th>na_sales</th>\n",
       "    </tr>\n",
       "    <tr>\n",
       "      <th>platform</th>\n",
       "      <th></th>\n",
       "    </tr>\n",
       "  </thead>\n",
       "  <tbody>\n",
       "    <tr>\n",
       "      <th>PS4</th>\n",
       "      <td>98.61</td>\n",
       "    </tr>\n",
       "    <tr>\n",
       "      <th>XOne</th>\n",
       "      <td>81.27</td>\n",
       "    </tr>\n",
       "    <tr>\n",
       "      <th>X360</th>\n",
       "      <td>28.30</td>\n",
       "    </tr>\n",
       "    <tr>\n",
       "      <th>3DS</th>\n",
       "      <td>22.64</td>\n",
       "    </tr>\n",
       "    <tr>\n",
       "      <th>PS3</th>\n",
       "      <td>22.05</td>\n",
       "    </tr>\n",
       "  </tbody>\n",
       "</table>\n",
       "</div>"
      ],
      "text/plain": [
       "          na_sales\n",
       "platform          \n",
       "PS4          98.61\n",
       "XOne         81.27\n",
       "X360         28.30\n",
       "3DS          22.64\n",
       "PS3          22.05"
      ]
     },
     "execution_count": 50,
     "metadata": {},
     "output_type": "execute_result"
    }
   ],
   "source": [
    "#топ платформ в Северной Америке\n",
    "platform_sale_top_na = df_actual.pivot_table(index='platform', values='na_sales', aggfunc='sum')\\\n",
    ".sort_values(by='na_sales', ascending=False).head(5)\n",
    "platform_sale_top_na"
   ]
  },
  {
   "cell_type": "markdown",
   "metadata": {},
   "source": [
    "В Северной Америке лидируют PS4, XOne, X360, 3DS и PS3. Топ-PS4."
   ]
  },
  {
   "cell_type": "code",
   "execution_count": 51,
   "metadata": {
    "scrolled": true
   },
   "outputs": [
    {
     "data": {
      "text/html": [
       "<div>\n",
       "<style scoped>\n",
       "    .dataframe tbody tr th:only-of-type {\n",
       "        vertical-align: middle;\n",
       "    }\n",
       "\n",
       "    .dataframe tbody tr th {\n",
       "        vertical-align: top;\n",
       "    }\n",
       "\n",
       "    .dataframe thead th {\n",
       "        text-align: right;\n",
       "    }\n",
       "</style>\n",
       "<table border=\"1\" class=\"dataframe\">\n",
       "  <thead>\n",
       "    <tr style=\"text-align: right;\">\n",
       "      <th></th>\n",
       "      <th>eu_sales</th>\n",
       "    </tr>\n",
       "    <tr>\n",
       "      <th>platform</th>\n",
       "      <th></th>\n",
       "    </tr>\n",
       "  </thead>\n",
       "  <tbody>\n",
       "    <tr>\n",
       "      <th>PS4</th>\n",
       "      <td>130.04</td>\n",
       "    </tr>\n",
       "    <tr>\n",
       "      <th>XOne</th>\n",
       "      <td>46.25</td>\n",
       "    </tr>\n",
       "    <tr>\n",
       "      <th>PS3</th>\n",
       "      <td>25.54</td>\n",
       "    </tr>\n",
       "    <tr>\n",
       "      <th>PC</th>\n",
       "      <td>17.97</td>\n",
       "    </tr>\n",
       "    <tr>\n",
       "      <th>3DS</th>\n",
       "      <td>16.12</td>\n",
       "    </tr>\n",
       "  </tbody>\n",
       "</table>\n",
       "</div>"
      ],
      "text/plain": [
       "          eu_sales\n",
       "platform          \n",
       "PS4         130.04\n",
       "XOne         46.25\n",
       "PS3          25.54\n",
       "PC           17.97\n",
       "3DS          16.12"
      ]
     },
     "execution_count": 51,
     "metadata": {},
     "output_type": "execute_result"
    }
   ],
   "source": [
    "#топ платформ в Европе\n",
    "platform_sale_top_eu = df_actual.pivot_table(index='platform', values='eu_sales', aggfunc='sum')\\\n",
    ".sort_values(by='eu_sales', ascending=False).head(5)\n",
    "platform_sale_top_eu"
   ]
  },
  {
   "cell_type": "markdown",
   "metadata": {},
   "source": [
    "В Европе растановка приоритетов по платформам такова: PS4, XOne, PS3, PS, 3DS. Топ-PS4   "
   ]
  },
  {
   "cell_type": "code",
   "execution_count": 52,
   "metadata": {
    "scrolled": true
   },
   "outputs": [
    {
     "data": {
      "text/html": [
       "<div>\n",
       "<style scoped>\n",
       "    .dataframe tbody tr th:only-of-type {\n",
       "        vertical-align: middle;\n",
       "    }\n",
       "\n",
       "    .dataframe tbody tr th {\n",
       "        vertical-align: top;\n",
       "    }\n",
       "\n",
       "    .dataframe thead th {\n",
       "        text-align: right;\n",
       "    }\n",
       "</style>\n",
       "<table border=\"1\" class=\"dataframe\">\n",
       "  <thead>\n",
       "    <tr style=\"text-align: right;\">\n",
       "      <th></th>\n",
       "      <th>jp_sales</th>\n",
       "    </tr>\n",
       "    <tr>\n",
       "      <th>platform</th>\n",
       "      <th></th>\n",
       "    </tr>\n",
       "  </thead>\n",
       "  <tbody>\n",
       "    <tr>\n",
       "      <th>3DS</th>\n",
       "      <td>44.24</td>\n",
       "    </tr>\n",
       "    <tr>\n",
       "      <th>PS4</th>\n",
       "      <td>15.02</td>\n",
       "    </tr>\n",
       "    <tr>\n",
       "      <th>PSV</th>\n",
       "      <td>14.54</td>\n",
       "    </tr>\n",
       "    <tr>\n",
       "      <th>PS3</th>\n",
       "      <td>11.22</td>\n",
       "    </tr>\n",
       "    <tr>\n",
       "      <th>WiiU</th>\n",
       "      <td>7.31</td>\n",
       "    </tr>\n",
       "  </tbody>\n",
       "</table>\n",
       "</div>"
      ],
      "text/plain": [
       "          jp_sales\n",
       "platform          \n",
       "3DS          44.24\n",
       "PS4          15.02\n",
       "PSV          14.54\n",
       "PS3          11.22\n",
       "WiiU          7.31"
      ]
     },
     "execution_count": 52,
     "metadata": {},
     "output_type": "execute_result"
    }
   ],
   "source": [
    "#топ платформ в Японии\n",
    "platform_sale_top_jp = df_actual.pivot_table(index='platform', values='jp_sales', aggfunc='sum')\\\n",
    ".sort_values(by='jp_sales', ascending=False).head(5)\n",
    "platform_sale_top_jp"
   ]
  },
  {
   "cell_type": "markdown",
   "metadata": {},
   "source": [
    "В Японии топ платформ: 3DS, PS4, PSV, PS3, WiiU. Топ-3DS.  "
   ]
  },
  {
   "cell_type": "code",
   "execution_count": 53,
   "metadata": {
    "scrolled": true
   },
   "outputs": [
    {
     "data": {
      "text/html": [
       "<div>\n",
       "<style scoped>\n",
       "    .dataframe tbody tr th:only-of-type {\n",
       "        vertical-align: middle;\n",
       "    }\n",
       "\n",
       "    .dataframe tbody tr th {\n",
       "        vertical-align: top;\n",
       "    }\n",
       "\n",
       "    .dataframe thead th {\n",
       "        text-align: right;\n",
       "    }\n",
       "</style>\n",
       "<table border=\"1\" class=\"dataframe\">\n",
       "  <thead>\n",
       "    <tr style=\"text-align: right;\">\n",
       "      <th></th>\n",
       "      <th>genre</th>\n",
       "      <th>na_sales</th>\n",
       "    </tr>\n",
       "  </thead>\n",
       "  <tbody>\n",
       "    <tr>\n",
       "      <th>0</th>\n",
       "      <td>Shooter</td>\n",
       "      <td>79.02</td>\n",
       "    </tr>\n",
       "    <tr>\n",
       "      <th>1</th>\n",
       "      <td>Action</td>\n",
       "      <td>72.53</td>\n",
       "    </tr>\n",
       "    <tr>\n",
       "      <th>2</th>\n",
       "      <td>Sports</td>\n",
       "      <td>46.13</td>\n",
       "    </tr>\n",
       "    <tr>\n",
       "      <th>3</th>\n",
       "      <td>Role-Playing</td>\n",
       "      <td>33.47</td>\n",
       "    </tr>\n",
       "    <tr>\n",
       "      <th>4</th>\n",
       "      <td>Misc</td>\n",
       "      <td>15.05</td>\n",
       "    </tr>\n",
       "  </tbody>\n",
       "</table>\n",
       "</div>"
      ],
      "text/plain": [
       "          genre  na_sales\n",
       "0       Shooter     79.02\n",
       "1        Action     72.53\n",
       "2        Sports     46.13\n",
       "3  Role-Playing     33.47\n",
       "4          Misc     15.05"
      ]
     },
     "execution_count": 53,
     "metadata": {},
     "output_type": "execute_result"
    }
   ],
   "source": [
    "#топ жанров в Северной Америке \n",
    "genre_sale_top_na = df_actual.pivot_table(index='genre', values='na_sales', aggfunc='sum')\\\n",
    ".sort_values(by='na_sales', ascending=False).head(5)\n",
    "genre_sale_top_na.reset_index()"
   ]
  },
  {
   "cell_type": "markdown",
   "metadata": {},
   "source": [
    "В Северной америке игроки отдают предпочтение жанрам: Shooter, Action, Sports, Role-Playing и Misc. Топ -Shooter "
   ]
  },
  {
   "cell_type": "code",
   "execution_count": 54,
   "metadata": {
    "scrolled": false
   },
   "outputs": [
    {
     "data": {
      "text/html": [
       "<div>\n",
       "<style scoped>\n",
       "    .dataframe tbody tr th:only-of-type {\n",
       "        vertical-align: middle;\n",
       "    }\n",
       "\n",
       "    .dataframe tbody tr th {\n",
       "        vertical-align: top;\n",
       "    }\n",
       "\n",
       "    .dataframe thead th {\n",
       "        text-align: right;\n",
       "    }\n",
       "</style>\n",
       "<table border=\"1\" class=\"dataframe\">\n",
       "  <thead>\n",
       "    <tr style=\"text-align: right;\">\n",
       "      <th></th>\n",
       "      <th>genre</th>\n",
       "      <th>eu_sales</th>\n",
       "    </tr>\n",
       "  </thead>\n",
       "  <tbody>\n",
       "    <tr>\n",
       "      <th>0</th>\n",
       "      <td>Action</td>\n",
       "      <td>74.68</td>\n",
       "    </tr>\n",
       "    <tr>\n",
       "      <th>1</th>\n",
       "      <td>Shooter</td>\n",
       "      <td>65.52</td>\n",
       "    </tr>\n",
       "    <tr>\n",
       "      <th>2</th>\n",
       "      <td>Sports</td>\n",
       "      <td>45.73</td>\n",
       "    </tr>\n",
       "    <tr>\n",
       "      <th>3</th>\n",
       "      <td>Role-Playing</td>\n",
       "      <td>28.17</td>\n",
       "    </tr>\n",
       "    <tr>\n",
       "      <th>4</th>\n",
       "      <td>Racing</td>\n",
       "      <td>14.13</td>\n",
       "    </tr>\n",
       "  </tbody>\n",
       "</table>\n",
       "</div>"
      ],
      "text/plain": [
       "          genre  eu_sales\n",
       "0        Action     74.68\n",
       "1       Shooter     65.52\n",
       "2        Sports     45.73\n",
       "3  Role-Playing     28.17\n",
       "4        Racing     14.13"
      ]
     },
     "execution_count": 54,
     "metadata": {},
     "output_type": "execute_result"
    }
   ],
   "source": [
    "#топ жанров в Европе\n",
    "genre_sale_top_eu = df_actual.pivot_table(index='genre', values='eu_sales', aggfunc='sum')\\\n",
    ".sort_values(by='eu_sales', ascending=False).head(5)\n",
    "genre_sale_top_eu.reset_index()"
   ]
  },
  {
   "cell_type": "markdown",
   "metadata": {},
   "source": [
    "В Европе игроки предпочитают Action,Shooter,Sports,Role-Playing\tи Racing. \t"
   ]
  },
  {
   "cell_type": "code",
   "execution_count": 55,
   "metadata": {
    "scrolled": true
   },
   "outputs": [
    {
     "data": {
      "text/html": [
       "<div>\n",
       "<style scoped>\n",
       "    .dataframe tbody tr th:only-of-type {\n",
       "        vertical-align: middle;\n",
       "    }\n",
       "\n",
       "    .dataframe tbody tr th {\n",
       "        vertical-align: top;\n",
       "    }\n",
       "\n",
       "    .dataframe thead th {\n",
       "        text-align: right;\n",
       "    }\n",
       "</style>\n",
       "<table border=\"1\" class=\"dataframe\">\n",
       "  <thead>\n",
       "    <tr style=\"text-align: right;\">\n",
       "      <th></th>\n",
       "      <th>genre</th>\n",
       "      <th>jp_sales</th>\n",
       "    </tr>\n",
       "  </thead>\n",
       "  <tbody>\n",
       "    <tr>\n",
       "      <th>0</th>\n",
       "      <td>Role-Playing</td>\n",
       "      <td>31.16</td>\n",
       "    </tr>\n",
       "    <tr>\n",
       "      <th>1</th>\n",
       "      <td>Action</td>\n",
       "      <td>29.58</td>\n",
       "    </tr>\n",
       "    <tr>\n",
       "      <th>2</th>\n",
       "      <td>Fighting</td>\n",
       "      <td>6.37</td>\n",
       "    </tr>\n",
       "    <tr>\n",
       "      <th>3</th>\n",
       "      <td>Misc</td>\n",
       "      <td>5.61</td>\n",
       "    </tr>\n",
       "    <tr>\n",
       "      <th>4</th>\n",
       "      <td>Shooter</td>\n",
       "      <td>4.87</td>\n",
       "    </tr>\n",
       "  </tbody>\n",
       "</table>\n",
       "</div>"
      ],
      "text/plain": [
       "          genre  jp_sales\n",
       "0  Role-Playing     31.16\n",
       "1        Action     29.58\n",
       "2      Fighting      6.37\n",
       "3          Misc      5.61\n",
       "4       Shooter      4.87"
      ]
     },
     "execution_count": 55,
     "metadata": {},
     "output_type": "execute_result"
    }
   ],
   "source": [
    "#топ жанров в Японии\n",
    "genre_sale_top_jp = df_actual.pivot_table(index='genre', values='jp_sales', aggfunc='sum')\\\n",
    ".sort_values(by='jp_sales', ascending=False).head(5)\n",
    "genre_sale_top_jp.reset_index()"
   ]
  },
  {
   "cell_type": "markdown",
   "metadata": {},
   "source": [
    "В Японии игроки отдают предпочтение жанрам: Role-Playing, Action, Fighting, Misc и Shooter. \t\t \t"
   ]
  },
  {
   "cell_type": "code",
   "execution_count": 56,
   "metadata": {},
   "outputs": [
    {
     "data": {
      "text/plain": [
       "<AxesSubplot:>"
      ]
     },
     "execution_count": 56,
     "metadata": {},
     "output_type": "execute_result"
    },
    {
     "data": {
      "image/png": "[encoded data removed]",
      "text/plain": [
       "<Figure size 72x576 with 2 Axes>"
      ]
     },
     "metadata": {
      "needs_background": "light"
     },
     "output_type": "display_data"
    }
   ],
   "source": [
    "#Кореляция по суммам продаж в Северной Америке\n",
    "plt.figure(figsize=(1,8))\n",
    "sns.heatmap(df_actual.corr()[['na_sales']].sort_values(by='na_sales', ascending=False), cmap=\"Blues\", \n",
    "            annot=True, annot_kws={'size':12}) "
   ]
  },
  {
   "cell_type": "code",
   "execution_count": 57,
   "metadata": {
    "scrolled": false
   },
   "outputs": [
    {
     "name": "stdout",
     "output_type": "stream",
     "text": [
      "Кореляция оценка критиков на продажи СА 0.333305881327296\n"
     ]
    },
    {
     "data": {
      "image/png": "[encoded data removed]",
      "text/plain": [
       "<Figure size 432x288 with 1 Axes>"
      ]
     },
     "metadata": {
      "needs_background": "light"
     },
     "output_type": "display_data"
    }
   ],
   "source": [
    "#кореляция по отзывам критиков\n",
    "df_actual.plot(x='critic_score', y='na_sales', kind='scatter')\n",
    "cor_cr = df_actual['na_sales'].corr(df_actual['critic_score'])\n",
    "print('Кореляция оценка критиков на продажи СА', cor_cr)"
   ]
  },
  {
   "cell_type": "code",
   "execution_count": 58,
   "metadata": {},
   "outputs": [
    {
     "name": "stdout",
     "output_type": "stream",
     "text": [
      "Кореляция оценка игроков на продажи СА -0.028257728474489967\n"
     ]
    },
    {
     "data": {
      "image/png": "[encoded data removed]",
      "text/plain": [
       "<Figure size 432x288 with 1 Axes>"
      ]
     },
     "metadata": {
      "needs_background": "light"
     },
     "output_type": "display_data"
    }
   ],
   "source": [
    "#кореляция по отзывам игроков\n",
    "df_actual.plot(x='user_score', y='na_sales', kind='scatter')\n",
    "cor_cr = df_actual['na_sales'].corr(df_actual['user_score'])\n",
    "print('Кореляция оценка игроков на продажи СА', cor_cr)"
   ]
  },
  {
   "cell_type": "markdown",
   "metadata": {},
   "source": [
    "Кореляция по оценкам критиков в Северной Америке положительная и довольно слабая (0,33), а вот кореляция по оценкам пользователей отрицательная(-0,02), она слабая, но всеже указывает на то, что чем больше будет отзывов, тем меньше суммы продаж. "
   ]
  },
  {
   "cell_type": "code",
   "execution_count": 59,
   "metadata": {},
   "outputs": [
    {
     "data": {
      "text/plain": [
       "<AxesSubplot:>"
      ]
     },
     "execution_count": 59,
     "metadata": {},
     "output_type": "execute_result"
    },
    {
     "data": {
      "image/png": "[encoded data removed]",
      "text/plain": [
       "<Figure size 72x576 with 2 Axes>"
      ]
     },
     "metadata": {
      "needs_background": "light"
     },
     "output_type": "display_data"
    }
   ],
   "source": [
    "#Кореляция по суммам продаж в Европе\n",
    "plt.figure(figsize=(1,8))\n",
    "sns.heatmap(df_actual.corr()[['eu_sales']].sort_values(by='eu_sales', ascending=False), cmap=\"Oranges\", \n",
    "            annot=True, annot_kws={'size':12})"
   ]
  },
  {
   "cell_type": "code",
   "execution_count": 60,
   "metadata": {},
   "outputs": [
    {
     "name": "stdout",
     "output_type": "stream",
     "text": [
      "Кореляция оценка критиков на продажи Европа 0.2708256036129555\n"
     ]
    },
    {
     "data": {
      "image/png": "[encoded data removed]",
      "text/plain": [
       "<Figure size 432x288 with 1 Axes>"
      ]
     },
     "metadata": {
      "needs_background": "light"
     },
     "output_type": "display_data"
    }
   ],
   "source": [
    "#кореляция по отзывам критиков\n",
    "df_actual.plot(x='critic_score', y='eu_sales', kind='scatter')\n",
    "cor_cr = df_actual['eu_sales'].corr(df_actual['critic_score'])\n",
    "print('Кореляция оценка критиков на продажи Европа', cor_cr)"
   ]
  },
  {
   "cell_type": "code",
   "execution_count": 61,
   "metadata": {},
   "outputs": [
    {
     "name": "stdout",
     "output_type": "stream",
     "text": [
      "Кореляция оценка игроков на продажи Европа -0.040984972369787584\n"
     ]
    },
    {
     "data": {
      "image/png": "[encoded data removed]",
      "text/plain": [
       "<Figure size 432x288 with 1 Axes>"
      ]
     },
     "metadata": {
      "needs_background": "light"
     },
     "output_type": "display_data"
    }
   ],
   "source": [
    "#кореляция по отзывам игроков\n",
    "df_actual.plot(x='user_score', y='eu_sales', kind='scatter')\n",
    "cor_cr = df_actual['eu_sales'].corr(df_actual['user_score'])\n",
    "print('Кореляция оценка игроков на продажи Европа', cor_cr)"
   ]
  },
  {
   "cell_type": "markdown",
   "metadata": {},
   "source": [
    "Кореляция по оценкам критиков в Европе положительная и довольно слабая (0,27), а вот кореляция по оценкам пользователей отрицательная(-0,04), она слабая, но всеже указывает на то, что чем больше будет отзывов, тем меньше суммы продаж. "
   ]
  },
  {
   "cell_type": "code",
   "execution_count": 62,
   "metadata": {},
   "outputs": [
    {
     "data": {
      "text/plain": [
       "<AxesSubplot:>"
      ]
     },
     "execution_count": 62,
     "metadata": {},
     "output_type": "execute_result"
    },
    {
     "data": {
      "image/png": "[encoded data removed]",
      "text/plain": [
       "<Figure size 72x576 with 2 Axes>"
      ]
     },
     "metadata": {
      "needs_background": "light"
     },
     "output_type": "display_data"
    }
   ],
   "source": [
    "#Кореляция по суммам продаж в Японии\n",
    "plt.figure(figsize=(1,8))\n",
    "sns.heatmap(df_actual.corr()[['jp_sales']].sort_values(by='jp_sales', ascending=False), cmap=\"Purples\", \n",
    "            annot=True, annot_kws={'size':12})"
   ]
  },
  {
   "cell_type": "code",
   "execution_count": 63,
   "metadata": {},
   "outputs": [
    {
     "name": "stdout",
     "output_type": "stream",
     "text": [
      "Кореляция оценка критиков на продажи Япония 0.13031600694924872\n"
     ]
    },
    {
     "data": {
      "image/png": "[encoded data removed]",
      "text/plain": [
       "<Figure size 432x288 with 1 Axes>"
      ]
     },
     "metadata": {
      "needs_background": "light"
     },
     "output_type": "display_data"
    }
   ],
   "source": [
    "#кореляция по отзывам критиков\n",
    "df_actual.plot(x='critic_score', y='jp_sales', kind='scatter')\n",
    "cor_cr = df_actual['jp_sales'].corr(df_actual['critic_score'])\n",
    "print('Кореляция оценка критиков на продажи Япония', cor_cr)"
   ]
  },
  {
   "cell_type": "code",
   "execution_count": 64,
   "metadata": {},
   "outputs": [
    {
     "name": "stdout",
     "output_type": "stream",
     "text": [
      "Кореляция оценка игроков на продажи Япония 0.18414093880712912\n"
     ]
    },
    {
     "data": {
      "image/png": "[encoded data removed]",
      "text/plain": [
       "<Figure size 432x288 with 1 Axes>"
      ]
     },
     "metadata": {
      "needs_background": "light"
     },
     "output_type": "display_data"
    }
   ],
   "source": [
    "#кореляция по отзывам игроков\n",
    "df_actual.plot(x='user_score', y='jp_sales', kind='scatter')\n",
    "cor_cr = df_actual['jp_sales'].corr(df_actual['user_score'])\n",
    "print('Кореляция оценка игроков на продажи Япония', cor_cr)"
   ]
  },
  {
   "cell_type": "markdown",
   "metadata": {},
   "source": [
    "Кореляция по оценкам критиков и пользователей в Японии положительная и довольно слабая. Что говорит о слабой зависимости отзывов на продажи."
   ]
  },
  {
   "cell_type": "markdown",
   "metadata": {},
   "source": [
    "* Зависимость рейтинга ESRB на продажи в отдельном регионе"
   ]
  },
  {
   "cell_type": "code",
   "execution_count": 65,
   "metadata": {
    "scrolled": true
   },
   "outputs": [
    {
     "data": {
      "text/html": [
       "<div>\n",
       "<style scoped>\n",
       "    .dataframe tbody tr th:only-of-type {\n",
       "        vertical-align: middle;\n",
       "    }\n",
       "\n",
       "    .dataframe tbody tr th {\n",
       "        vertical-align: top;\n",
       "    }\n",
       "\n",
       "    .dataframe thead th {\n",
       "        text-align: right;\n",
       "    }\n",
       "</style>\n",
       "<table border=\"1\" class=\"dataframe\">\n",
       "  <thead>\n",
       "    <tr style=\"text-align: right;\">\n",
       "      <th></th>\n",
       "      <th>eu_sales</th>\n",
       "      <th>jp_sales</th>\n",
       "      <th>na_sales</th>\n",
       "    </tr>\n",
       "    <tr>\n",
       "      <th>rating</th>\n",
       "      <th></th>\n",
       "      <th></th>\n",
       "      <th></th>\n",
       "    </tr>\n",
       "  </thead>\n",
       "  <tbody>\n",
       "    <tr>\n",
       "      <th>E</th>\n",
       "      <td>58.06</td>\n",
       "      <td>8.94</td>\n",
       "      <td>50.74</td>\n",
       "    </tr>\n",
       "    <tr>\n",
       "      <th>E10+</th>\n",
       "      <td>26.16</td>\n",
       "      <td>4.46</td>\n",
       "      <td>33.23</td>\n",
       "    </tr>\n",
       "    <tr>\n",
       "      <th>M</th>\n",
       "      <td>93.44</td>\n",
       "      <td>8.01</td>\n",
       "      <td>96.42</td>\n",
       "    </tr>\n",
       "    <tr>\n",
       "      <th>RP</th>\n",
       "      <td>58.95</td>\n",
       "      <td>56.90</td>\n",
       "      <td>64.72</td>\n",
       "    </tr>\n",
       "    <tr>\n",
       "      <th>T</th>\n",
       "      <td>34.07</td>\n",
       "      <td>14.78</td>\n",
       "      <td>38.95</td>\n",
       "    </tr>\n",
       "  </tbody>\n",
       "</table>\n",
       "</div>"
      ],
      "text/plain": [
       "        eu_sales  jp_sales  na_sales\n",
       "rating                              \n",
       "E          58.06      8.94     50.74\n",
       "E10+       26.16      4.46     33.23\n",
       "M          93.44      8.01     96.42\n",
       "RP         58.95     56.90     64.72\n",
       "T          34.07     14.78     38.95"
      ]
     },
     "execution_count": 65,
     "metadata": {},
     "output_type": "execute_result"
    }
   ],
   "source": [
    "#сформируем сводную таблицу по рейтингам\n",
    "df_rating = (df_actual\n",
    "          .pivot_table(index='rating', values=['na_sales', 'eu_sales', 'jp_sales'],aggfunc='sum')\n",
    "          )\n",
    "df_rating"
   ]
  },
  {
   "cell_type": "markdown",
   "metadata": {},
   "source": [
    "Полная расшифровка абривиатур: \n",
    "* AO (Adults only 18+) — только для взрослых\n",
    "* E - everyone - для всех\n",
    "* M (Mature 17+) — от 17 лет\n",
    "* T (Teen) — для подростков 13-19 лет\n",
    "* K-A (Kids to Adults)— для детей и взрослых\n",
    "* E10+ (Everyone 10+) — для всех старше 10 лет\n",
    "* EC (Early Childhood) — для детей младшего возраста\n",
    "* RP (Rating pending) — рейтинг ожидается"
   ]
  },
  {
   "cell_type": "code",
   "execution_count": 66,
   "metadata": {},
   "outputs": [
    {
     "data": {
      "text/html": [
       "<div>\n",
       "<style scoped>\n",
       "    .dataframe tbody tr th:only-of-type {\n",
       "        vertical-align: middle;\n",
       "    }\n",
       "\n",
       "    .dataframe tbody tr th {\n",
       "        vertical-align: top;\n",
       "    }\n",
       "\n",
       "    .dataframe thead th {\n",
       "        text-align: right;\n",
       "    }\n",
       "</style>\n",
       "<table border=\"1\" class=\"dataframe\">\n",
       "  <thead>\n",
       "    <tr style=\"text-align: right;\">\n",
       "      <th></th>\n",
       "      <th>rating</th>\n",
       "      <th>na_sales</th>\n",
       "    </tr>\n",
       "  </thead>\n",
       "  <tbody>\n",
       "    <tr>\n",
       "      <th>2</th>\n",
       "      <td>M</td>\n",
       "      <td>96.42</td>\n",
       "    </tr>\n",
       "    <tr>\n",
       "      <th>3</th>\n",
       "      <td>RP</td>\n",
       "      <td>64.72</td>\n",
       "    </tr>\n",
       "    <tr>\n",
       "      <th>0</th>\n",
       "      <td>E</td>\n",
       "      <td>50.74</td>\n",
       "    </tr>\n",
       "    <tr>\n",
       "      <th>4</th>\n",
       "      <td>T</td>\n",
       "      <td>38.95</td>\n",
       "    </tr>\n",
       "    <tr>\n",
       "      <th>1</th>\n",
       "      <td>E10+</td>\n",
       "      <td>33.23</td>\n",
       "    </tr>\n",
       "  </tbody>\n",
       "</table>\n",
       "</div>"
      ],
      "text/plain": [
       "  rating  na_sales\n",
       "2      M     96.42\n",
       "3     RP     64.72\n",
       "0      E     50.74\n",
       "4      T     38.95\n",
       "1   E10+     33.23"
      ]
     },
     "execution_count": 66,
     "metadata": {},
     "output_type": "execute_result"
    }
   ],
   "source": [
    "#выведем топ-5 для Северной Америки\n",
    "df_actual.groupby(['rating']).agg({'na_sales':'sum'}).reset_index()\\\n",
    ".sort_values(by='na_sales', ascending=False).head(5)"
   ]
  },
  {
   "cell_type": "code",
   "execution_count": 67,
   "metadata": {},
   "outputs": [
    {
     "data": {
      "text/html": [
       "<div>\n",
       "<style scoped>\n",
       "    .dataframe tbody tr th:only-of-type {\n",
       "        vertical-align: middle;\n",
       "    }\n",
       "\n",
       "    .dataframe tbody tr th {\n",
       "        vertical-align: top;\n",
       "    }\n",
       "\n",
       "    .dataframe thead th {\n",
       "        text-align: right;\n",
       "    }\n",
       "</style>\n",
       "<table border=\"1\" class=\"dataframe\">\n",
       "  <thead>\n",
       "    <tr style=\"text-align: right;\">\n",
       "      <th></th>\n",
       "      <th>rating</th>\n",
       "      <th>eu_sales</th>\n",
       "    </tr>\n",
       "  </thead>\n",
       "  <tbody>\n",
       "    <tr>\n",
       "      <th>2</th>\n",
       "      <td>M</td>\n",
       "      <td>93.44</td>\n",
       "    </tr>\n",
       "    <tr>\n",
       "      <th>3</th>\n",
       "      <td>RP</td>\n",
       "      <td>58.95</td>\n",
       "    </tr>\n",
       "    <tr>\n",
       "      <th>0</th>\n",
       "      <td>E</td>\n",
       "      <td>58.06</td>\n",
       "    </tr>\n",
       "    <tr>\n",
       "      <th>4</th>\n",
       "      <td>T</td>\n",
       "      <td>34.07</td>\n",
       "    </tr>\n",
       "    <tr>\n",
       "      <th>1</th>\n",
       "      <td>E10+</td>\n",
       "      <td>26.16</td>\n",
       "    </tr>\n",
       "  </tbody>\n",
       "</table>\n",
       "</div>"
      ],
      "text/plain": [
       "  rating  eu_sales\n",
       "2      M     93.44\n",
       "3     RP     58.95\n",
       "0      E     58.06\n",
       "4      T     34.07\n",
       "1   E10+     26.16"
      ]
     },
     "execution_count": 67,
     "metadata": {},
     "output_type": "execute_result"
    }
   ],
   "source": [
    "#выведем топ-5 для Европы\n",
    "df_actual.groupby(['rating']).agg({'eu_sales':'sum'}).reset_index()\\\n",
    ".sort_values(by='eu_sales', ascending=False).head(5)"
   ]
  },
  {
   "cell_type": "code",
   "execution_count": 68,
   "metadata": {},
   "outputs": [
    {
     "data": {
      "text/html": [
       "<div>\n",
       "<style scoped>\n",
       "    .dataframe tbody tr th:only-of-type {\n",
       "        vertical-align: middle;\n",
       "    }\n",
       "\n",
       "    .dataframe tbody tr th {\n",
       "        vertical-align: top;\n",
       "    }\n",
       "\n",
       "    .dataframe thead th {\n",
       "        text-align: right;\n",
       "    }\n",
       "</style>\n",
       "<table border=\"1\" class=\"dataframe\">\n",
       "  <thead>\n",
       "    <tr style=\"text-align: right;\">\n",
       "      <th></th>\n",
       "      <th>rating</th>\n",
       "      <th>jp_sales</th>\n",
       "    </tr>\n",
       "  </thead>\n",
       "  <tbody>\n",
       "    <tr>\n",
       "      <th>3</th>\n",
       "      <td>RP</td>\n",
       "      <td>56.90</td>\n",
       "    </tr>\n",
       "    <tr>\n",
       "      <th>4</th>\n",
       "      <td>T</td>\n",
       "      <td>14.78</td>\n",
       "    </tr>\n",
       "    <tr>\n",
       "      <th>0</th>\n",
       "      <td>E</td>\n",
       "      <td>8.94</td>\n",
       "    </tr>\n",
       "    <tr>\n",
       "      <th>2</th>\n",
       "      <td>M</td>\n",
       "      <td>8.01</td>\n",
       "    </tr>\n",
       "    <tr>\n",
       "      <th>1</th>\n",
       "      <td>E10+</td>\n",
       "      <td>4.46</td>\n",
       "    </tr>\n",
       "  </tbody>\n",
       "</table>\n",
       "</div>"
      ],
      "text/plain": [
       "  rating  jp_sales\n",
       "3     RP     56.90\n",
       "4      T     14.78\n",
       "0      E      8.94\n",
       "2      M      8.01\n",
       "1   E10+      4.46"
      ]
     },
     "execution_count": 68,
     "metadata": {},
     "output_type": "execute_result"
    }
   ],
   "source": [
    "#выведем топ-5 для Японии\n",
    "df_actual.groupby(['rating']).agg({'jp_sales':'sum'}).reset_index()\\\n",
    ".sort_values(by='jp_sales', ascending=False).head(5)"
   ]
  },
  {
   "cell_type": "markdown",
   "metadata": {},
   "source": [
    "* Портрет пользователя Северной Америки: это игроки, которые чаще всего выбирают PS4,X360 или XOne. Купят игры из жанров  Action или Shooter. Не обращая толком внимания на отзывы критиков, но немного обращая на отзывы пользователей. Это будут игры для людей старше 17 лет.\n",
    "* Портрет пользователя Европы чем-то сход с портретом игрока из Северной Америки. Пользователь так же выберет платформу PS4, PS3 или XOne. Купит игру жанра  Action или Shooter. Не обращая толком внимания на отзывы критиков, но немного обращая на отзывы пользователей.Это будут игры для людей старше 17 лет.\n",
    "* Портрет пользователя Японии немного отличается. Пользователь выберет платформу 3DS, PS4 или PSV. Купит игру жанра Role-Playing или Action.Совсем не обратит внимания на отзывы. Это будут игры для подростков 17-19 лет."
   ]
  },
  {
   "cell_type": "markdown",
   "metadata": {},
   "source": [
    "5. **Проверка гипотез**"
   ]
  },
  {
   "cell_type": "markdown",
   "metadata": {},
   "source": [
    "* Средние пользовательские рейтинги платформ Xbox One и PC одинаковые"
   ]
  },
  {
   "cell_type": "markdown",
   "metadata": {},
   "source": [
    "Начнём с формулировки нулевой гипотезы H₀ - cредние пользовательские рейтинги платформ Xbox One и PC одинаковые, тогда альтернативной гипотезой H₁ будет: cредние пользовательские рейтинги платформ Xbox One и PC различаются."
   ]
  },
  {
   "cell_type": "code",
   "execution_count": 69,
   "metadata": {
    "scrolled": false
   },
   "outputs": [
    {
     "name": "stdout",
     "output_type": "stream",
     "text": [
      "p-значение: 0.11601398086668832\n",
      "Не получилось отвергнуть нулевую гипотезу\n"
     ]
    }
   ],
   "source": [
    "#Сформируем данные для проверки гипотезы\n",
    "xone = df_actual.query(' platform == \"XOne\" ')['user_score'].dropna().to_list()\n",
    "pc = df_actual.query(' platform == \"PC\" ')['user_score'].dropna().to_list()\n",
    "\n",
    "alpha = 0.05\n",
    "\n",
    "results = st.ttest_ind(\n",
    "    xone, \n",
    "    pc,\n",
    "    nan_policy='omit', \n",
    "    equal_var = False)\n",
    "\n",
    "print('p-значение:', results.pvalue)\n",
    "\n",
    "if (results.pvalue < alpha):\n",
    "    print(\"Отвергаем нулевую гипотезу\")\n",
    "else:\n",
    "    print(\"Не получилось отвергнуть нулевую гипотезу\")"
   ]
  },
  {
   "cell_type": "markdown",
   "metadata": {},
   "source": [
    "У нас нет причин утвержать что средние пользовательские рейтинги платформ Xbox One и PC значимо различаются."
   ]
  },
  {
   "cell_type": "markdown",
   "metadata": {},
   "source": [
    "* Средние пользовательские рейтинги жанров Action и Sports разные"
   ]
  },
  {
   "cell_type": "markdown",
   "metadata": {},
   "source": [
    "Сформулирум нулевую гипотезу H₀ - cредние пользовательские рейтинги жанров Action и Sports одинаковые, тогда альтернативной гипотезой H₁ будет: cредние пользовательские рейтинги жанров Action и Sports различаются."
   ]
  },
  {
   "cell_type": "code",
   "execution_count": 70,
   "metadata": {
    "scrolled": true
   },
   "outputs": [
    {
     "name": "stdout",
     "output_type": "stream",
     "text": [
      "p-значение: 1.1825550382644557e-14\n",
      "Отвергаем нулевую гипотезу\n"
     ]
    }
   ],
   "source": [
    "#Сформируем данные для проверки гипотезы\n",
    "action = df_actual.query('genre == \"Action\"')['user_score'].dropna().to_list()\n",
    "sports = df_actual.query('genre == \"Sports\"')['user_score'].dropna().to_list()\n",
    "alpha = 0.5\n",
    "\n",
    "results = st.ttest_ind(\n",
    "    action, \n",
    "    sports, \n",
    "    equal_var = False)\n",
    "\n",
    "print('p-значение:', results.pvalue)\n",
    "\n",
    "if (results.pvalue < alpha):\n",
    "    print(\"Отвергаем нулевую гипотезу\")\n",
    "else:\n",
    "    print(\"Не получилось отвергнуть нулевую гипотезу\")"
   ]
  },
  {
   "cell_type": "markdown",
   "metadata": {},
   "source": [
    "Отвергая нулевую гипотезу мы принимаем, что альтернативная гипотеза может быть правдой и что cредние пользовательские рейтинги жанров Action и Sports разные."
   ]
  },
  {
   "cell_type": "markdown",
   "metadata": {},
   "source": [
    "6. **Общий вывод**"
   ]
  },
  {
   "cell_type": "markdown",
   "metadata": {},
   "source": [
    "До 1995г не было большого количества платформ и соответственно игр.\n",
    "\n",
    "Самый пик приходится на 2008-2009года. Потребитель готов пробовать новые игры. Но с 2012 виден спад, пользователи уже определились на какой платформе и в какую игру хотят играть.\n",
    "\n",
    "В большинстве случаев платформы существуют три-пять лет. \n",
    "\n",
    "Для планирования стратегии 2017года не нужно брать весь период из данных, потому как сфера пришла в ремиссию по количеству игр. \n",
    "\n",
    "Нужно выбрать последние три года для анализа.\n",
    "\n",
    "Самые высокие продажи у PS4. Далее идут X360 и XOne производителя Microsoft. И замыкает пятерку 3DS производителя Nintendo. Таким образом становится понятно что в последние годы в индустрии есть только два топ производителя.Рост продаж наблюдается всего лишь у двух платформ: PS4 и XOne. Это последние свежие платформы у производителей Sony и Microsoft. \n",
    "\n",
    "Влияние оценки критиков на продажи есть, но совсем незначительное.\n",
    "\n",
    "В то время как влияние отзывов пользователей на продажи практически нет.\n",
    "Топ самых продаваемых игр относятся к жанрам: Action,Shooter. Shooter самый надежный жанр. "
   ]
  },
  {
   "cell_type": "markdown",
   "metadata": {},
   "source": [
    "Можно дать следующие рекомендации для планирования рекламных кампаний:\n",
    "\n",
    "* ставку лучше делать на игры для приставок последних серий PS4 или XOne.\n",
    "* важно учитывать региональные предпочтения к платформам и жанрам, при выходе на новый рынок.\n",
    "* помнить, что чем шире возрастной рейтинг, тем больше продаж."
   ]
  }
 ],
 "metadata": {
  "ExecuteTimeLog": [
   {
    "duration": 42,
    "start_time": "2022-11-01T14:07:13.143Z"
   },
   {
    "duration": 1293,
    "start_time": "2022-11-01T14:07:21.834Z"
   },
   {
    "duration": 190,
    "start_time": "2022-11-01T14:07:23.129Z"
   },
   {
    "duration": 62,
    "start_time": "2022-11-01T14:10:17.064Z"
   },
   {
    "duration": 14,
    "start_time": "2022-11-01T14:11:49.427Z"
   },
   {
    "duration": 1059,
    "start_time": "2022-11-01T14:18:15.633Z"
   },
   {
    "duration": 65,
    "start_time": "2022-11-01T14:18:16.694Z"
   },
   {
    "duration": 13,
    "start_time": "2022-11-01T14:18:16.761Z"
   },
   {
    "duration": 1131,
    "start_time": "2022-11-01T14:19:48.044Z"
   },
   {
    "duration": 72,
    "start_time": "2022-11-01T14:19:49.177Z"
   },
   {
    "duration": 14,
    "start_time": "2022-11-01T14:19:49.250Z"
   },
   {
    "duration": 26,
    "start_time": "2022-11-01T14:23:56.564Z"
   },
   {
    "duration": 9,
    "start_time": "2022-11-01T14:25:01.139Z"
   },
   {
    "duration": 4,
    "start_time": "2022-11-01T14:25:50.370Z"
   },
   {
    "duration": 624,
    "start_time": "2022-11-01T14:26:07.587Z"
   },
   {
    "duration": 12,
    "start_time": "2022-11-01T14:26:46.617Z"
   },
   {
    "duration": 1027,
    "start_time": "2022-11-01T14:30:25.836Z"
   },
   {
    "duration": 66,
    "start_time": "2022-11-01T14:30:26.864Z"
   },
   {
    "duration": 12,
    "start_time": "2022-11-01T14:30:26.932Z"
   },
   {
    "duration": 26,
    "start_time": "2022-11-01T14:30:26.945Z"
   },
   {
    "duration": 89,
    "start_time": "2022-11-01T14:30:26.972Z"
   },
   {
    "duration": 0,
    "start_time": "2022-11-01T14:30:27.063Z"
   },
   {
    "duration": 14,
    "start_time": "2022-11-01T14:30:38.718Z"
   },
   {
    "duration": 1087,
    "start_time": "2022-11-01T14:30:47.793Z"
   },
   {
    "duration": 67,
    "start_time": "2022-11-01T14:30:48.882Z"
   },
   {
    "duration": 13,
    "start_time": "2022-11-01T14:30:48.950Z"
   },
   {
    "duration": 26,
    "start_time": "2022-11-01T14:30:48.965Z"
   },
   {
    "duration": 96,
    "start_time": "2022-11-01T14:30:48.993Z"
   },
   {
    "duration": 0,
    "start_time": "2022-11-01T14:30:49.091Z"
   },
   {
    "duration": 8,
    "start_time": "2022-11-01T14:31:05.833Z"
   },
   {
    "duration": 9,
    "start_time": "2022-11-01T14:31:48.208Z"
   },
   {
    "duration": 3,
    "start_time": "2022-11-01T14:31:55.841Z"
   },
   {
    "duration": 12,
    "start_time": "2022-11-01T14:31:58.937Z"
   },
   {
    "duration": 3,
    "start_time": "2022-11-01T14:33:59.899Z"
   },
   {
    "duration": 12,
    "start_time": "2022-11-01T14:34:01.169Z"
   },
   {
    "duration": 1071,
    "start_time": "2022-11-01T14:38:29.125Z"
   },
   {
    "duration": 69,
    "start_time": "2022-11-01T14:38:30.197Z"
   },
   {
    "duration": 14,
    "start_time": "2022-11-01T14:38:30.268Z"
   },
   {
    "duration": 66,
    "start_time": "2022-11-01T14:38:30.284Z"
   },
   {
    "duration": 4,
    "start_time": "2022-11-01T14:38:30.352Z"
   },
   {
    "duration": 49,
    "start_time": "2022-11-01T14:38:30.358Z"
   },
   {
    "duration": 50,
    "start_time": "2022-11-02T09:53:05.752Z"
   },
   {
    "duration": 1444,
    "start_time": "2022-11-02T09:53:11.639Z"
   },
   {
    "duration": 201,
    "start_time": "2022-11-02T09:53:13.086Z"
   },
   {
    "duration": 17,
    "start_time": "2022-11-02T09:53:13.289Z"
   },
   {
    "duration": 31,
    "start_time": "2022-11-02T09:53:13.308Z"
   },
   {
    "duration": 3,
    "start_time": "2022-11-02T09:53:13.341Z"
   },
   {
    "duration": 15,
    "start_time": "2022-11-02T09:53:13.345Z"
   },
   {
    "duration": 16,
    "start_time": "2022-11-02T09:53:13.361Z"
   },
   {
    "duration": 5,
    "start_time": "2022-11-02T09:56:32.587Z"
   },
   {
    "duration": 109,
    "start_time": "2022-11-02T09:57:56.736Z"
   },
   {
    "duration": 1233,
    "start_time": "2022-11-02T09:58:14.103Z"
   },
   {
    "duration": 74,
    "start_time": "2022-11-02T09:58:15.338Z"
   },
   {
    "duration": 15,
    "start_time": "2022-11-02T09:58:15.414Z"
   },
   {
    "duration": 32,
    "start_time": "2022-11-02T09:58:15.431Z"
   },
   {
    "duration": 3,
    "start_time": "2022-11-02T09:58:15.465Z"
   },
   {
    "duration": 14,
    "start_time": "2022-11-02T09:58:15.471Z"
   },
   {
    "duration": 11,
    "start_time": "2022-11-02T09:58:15.487Z"
   },
   {
    "duration": 29,
    "start_time": "2022-11-02T09:58:15.500Z"
   },
   {
    "duration": 125,
    "start_time": "2022-11-02T09:58:15.531Z"
   },
   {
    "duration": 17,
    "start_time": "2022-11-02T09:58:30.720Z"
   },
   {
    "duration": 27,
    "start_time": "2022-11-02T10:03:51.782Z"
   },
   {
    "duration": 1293,
    "start_time": "2022-11-02T10:06:01.823Z"
   },
   {
    "duration": 73,
    "start_time": "2022-11-02T10:06:03.119Z"
   },
   {
    "duration": 17,
    "start_time": "2022-11-02T10:06:03.193Z"
   },
   {
    "duration": 36,
    "start_time": "2022-11-02T10:06:03.213Z"
   },
   {
    "duration": 4,
    "start_time": "2022-11-02T10:06:03.252Z"
   },
   {
    "duration": 26,
    "start_time": "2022-11-02T10:06:03.257Z"
   },
   {
    "duration": 16,
    "start_time": "2022-11-02T10:06:03.285Z"
   },
   {
    "duration": 35,
    "start_time": "2022-11-02T10:06:03.304Z"
   },
   {
    "duration": 27,
    "start_time": "2022-11-02T10:06:03.341Z"
   },
   {
    "duration": 17,
    "start_time": "2022-11-02T10:06:31.040Z"
   },
   {
    "duration": 10,
    "start_time": "2022-11-02T10:19:19.596Z"
   },
   {
    "duration": 642,
    "start_time": "2022-11-02T10:20:24.759Z"
   },
   {
    "duration": 13,
    "start_time": "2022-11-02T10:23:33.150Z"
   },
   {
    "duration": 10,
    "start_time": "2022-11-02T10:32:30.743Z"
   },
   {
    "duration": 5,
    "start_time": "2022-11-02T10:33:07.222Z"
   },
   {
    "duration": 6,
    "start_time": "2022-11-02T10:33:18.696Z"
   },
   {
    "duration": 1226,
    "start_time": "2022-11-02T10:33:47.082Z"
   },
   {
    "duration": 71,
    "start_time": "2022-11-02T10:33:48.310Z"
   },
   {
    "duration": 16,
    "start_time": "2022-11-02T10:33:48.383Z"
   },
   {
    "duration": 36,
    "start_time": "2022-11-02T10:33:48.401Z"
   },
   {
    "duration": 4,
    "start_time": "2022-11-02T10:33:48.439Z"
   },
   {
    "duration": 25,
    "start_time": "2022-11-02T10:33:48.444Z"
   },
   {
    "duration": 13,
    "start_time": "2022-11-02T10:33:48.471Z"
   },
   {
    "duration": 6,
    "start_time": "2022-11-02T10:33:48.485Z"
   },
   {
    "duration": 16,
    "start_time": "2022-11-02T10:33:48.492Z"
   },
   {
    "duration": 654,
    "start_time": "2022-11-02T10:33:48.510Z"
   },
   {
    "duration": 14,
    "start_time": "2022-11-02T10:33:49.166Z"
   },
   {
    "duration": 20,
    "start_time": "2022-11-02T10:36:36.660Z"
   },
   {
    "duration": 7,
    "start_time": "2022-11-02T10:36:53.566Z"
   },
   {
    "duration": 7,
    "start_time": "2022-11-02T10:37:45.473Z"
   },
   {
    "duration": 1271,
    "start_time": "2022-11-02T10:37:52.627Z"
   },
   {
    "duration": 70,
    "start_time": "2022-11-02T10:37:53.899Z"
   },
   {
    "duration": 15,
    "start_time": "2022-11-02T10:37:53.970Z"
   },
   {
    "duration": 43,
    "start_time": "2022-11-02T10:37:53.987Z"
   },
   {
    "duration": 3,
    "start_time": "2022-11-02T10:37:54.033Z"
   },
   {
    "duration": 19,
    "start_time": "2022-11-02T10:37:54.038Z"
   },
   {
    "duration": 9,
    "start_time": "2022-11-02T10:37:54.058Z"
   },
   {
    "duration": 5,
    "start_time": "2022-11-02T10:37:54.069Z"
   },
   {
    "duration": 22,
    "start_time": "2022-11-02T10:37:54.075Z"
   },
   {
    "duration": 28,
    "start_time": "2022-11-02T10:37:54.099Z"
   },
   {
    "duration": 10,
    "start_time": "2022-11-02T10:37:54.129Z"
   },
   {
    "duration": 663,
    "start_time": "2022-11-02T10:37:54.141Z"
   },
   {
    "duration": 22,
    "start_time": "2022-11-02T10:37:54.805Z"
   },
   {
    "duration": 8,
    "start_time": "2022-11-02T10:41:51.731Z"
   },
   {
    "duration": 14,
    "start_time": "2022-11-02T10:41:53.201Z"
   },
   {
    "duration": 1315,
    "start_time": "2022-11-02T10:44:09.139Z"
   },
   {
    "duration": 72,
    "start_time": "2022-11-02T10:44:10.456Z"
   },
   {
    "duration": 15,
    "start_time": "2022-11-02T10:44:10.530Z"
   },
   {
    "duration": 38,
    "start_time": "2022-11-02T10:44:10.547Z"
   },
   {
    "duration": 4,
    "start_time": "2022-11-02T10:44:10.588Z"
   },
   {
    "duration": 17,
    "start_time": "2022-11-02T10:44:10.594Z"
   },
   {
    "duration": 21,
    "start_time": "2022-11-02T10:44:10.612Z"
   },
   {
    "duration": 21,
    "start_time": "2022-11-02T10:44:10.634Z"
   },
   {
    "duration": 39,
    "start_time": "2022-11-02T10:44:10.656Z"
   },
   {
    "duration": 6,
    "start_time": "2022-11-02T10:44:10.697Z"
   },
   {
    "duration": 15,
    "start_time": "2022-11-02T10:44:10.705Z"
   },
   {
    "duration": 621,
    "start_time": "2022-11-02T10:44:10.723Z"
   },
   {
    "duration": 15,
    "start_time": "2022-11-02T10:44:11.346Z"
   },
   {
    "duration": 17,
    "start_time": "2022-11-02T10:44:11.364Z"
   },
   {
    "duration": 21,
    "start_time": "2022-11-02T10:44:11.383Z"
   },
   {
    "duration": 20,
    "start_time": "2022-11-02T10:53:57.902Z"
   },
   {
    "duration": 26,
    "start_time": "2022-11-02T10:55:09.252Z"
   },
   {
    "duration": 1205,
    "start_time": "2022-11-02T10:55:54.546Z"
   },
   {
    "duration": 77,
    "start_time": "2022-11-02T10:55:55.753Z"
   },
   {
    "duration": 19,
    "start_time": "2022-11-02T10:55:55.832Z"
   },
   {
    "duration": 41,
    "start_time": "2022-11-02T10:55:55.854Z"
   },
   {
    "duration": 4,
    "start_time": "2022-11-02T10:55:55.897Z"
   },
   {
    "duration": 39,
    "start_time": "2022-11-02T10:55:55.903Z"
   },
   {
    "duration": 22,
    "start_time": "2022-11-02T10:55:55.944Z"
   },
   {
    "duration": 18,
    "start_time": "2022-11-02T10:55:55.968Z"
   },
   {
    "duration": 45,
    "start_time": "2022-11-02T10:55:55.988Z"
   },
   {
    "duration": 8,
    "start_time": "2022-11-02T10:55:56.037Z"
   },
   {
    "duration": 32,
    "start_time": "2022-11-02T10:55:56.047Z"
   },
   {
    "duration": 644,
    "start_time": "2022-11-02T10:55:56.081Z"
   },
   {
    "duration": 15,
    "start_time": "2022-11-02T10:55:56.727Z"
   },
   {
    "duration": 8,
    "start_time": "2022-11-02T10:55:56.744Z"
   },
   {
    "duration": 15,
    "start_time": "2022-11-02T10:55:56.754Z"
   },
   {
    "duration": 63,
    "start_time": "2022-11-02T10:55:56.771Z"
   },
   {
    "duration": 542,
    "start_time": "2022-11-02T11:01:23.543Z"
   },
   {
    "duration": 547,
    "start_time": "2022-11-02T11:01:50.656Z"
   },
   {
    "duration": 618,
    "start_time": "2022-11-02T11:02:00.793Z"
   },
   {
    "duration": 257,
    "start_time": "2022-11-02T11:05:42.432Z"
   },
   {
    "duration": 264,
    "start_time": "2022-11-02T11:06:32.645Z"
   },
   {
    "duration": 109,
    "start_time": "2022-11-02T11:18:18.406Z"
   },
   {
    "duration": 1257,
    "start_time": "2022-11-02T11:18:24.076Z"
   },
   {
    "duration": 77,
    "start_time": "2022-11-02T11:18:25.335Z"
   },
   {
    "duration": 17,
    "start_time": "2022-11-02T11:18:25.414Z"
   },
   {
    "duration": 34,
    "start_time": "2022-11-02T11:18:25.435Z"
   },
   {
    "duration": 4,
    "start_time": "2022-11-02T11:18:25.470Z"
   },
   {
    "duration": 20,
    "start_time": "2022-11-02T11:18:25.475Z"
   },
   {
    "duration": 33,
    "start_time": "2022-11-02T11:18:25.497Z"
   },
   {
    "duration": 5,
    "start_time": "2022-11-02T11:18:25.532Z"
   },
   {
    "duration": 20,
    "start_time": "2022-11-02T11:18:25.539Z"
   },
   {
    "duration": 6,
    "start_time": "2022-11-02T11:18:25.562Z"
   },
   {
    "duration": 11,
    "start_time": "2022-11-02T11:18:25.570Z"
   },
   {
    "duration": 695,
    "start_time": "2022-11-02T11:18:25.583Z"
   },
   {
    "duration": 16,
    "start_time": "2022-11-02T11:18:26.281Z"
   },
   {
    "duration": 26,
    "start_time": "2022-11-02T11:18:26.299Z"
   },
   {
    "duration": 16,
    "start_time": "2022-11-02T11:18:26.327Z"
   },
   {
    "duration": 27,
    "start_time": "2022-11-02T11:18:26.345Z"
   },
   {
    "duration": 306,
    "start_time": "2022-11-02T11:18:26.374Z"
   },
   {
    "duration": 122,
    "start_time": "2022-11-02T11:18:26.681Z"
   },
   {
    "duration": 0,
    "start_time": "2022-11-02T11:18:26.805Z"
   },
   {
    "duration": 6,
    "start_time": "2022-11-02T11:19:02.071Z"
   },
   {
    "duration": 1362,
    "start_time": "2022-11-02T11:19:03.704Z"
   },
   {
    "duration": 265,
    "start_time": "2022-11-02T11:19:25.553Z"
   },
   {
    "duration": 200,
    "start_time": "2022-11-02T11:19:56.014Z"
   },
   {
    "duration": 195,
    "start_time": "2022-11-02T11:20:04.414Z"
   },
   {
    "duration": 1275,
    "start_time": "2022-11-02T11:21:35.020Z"
   },
   {
    "duration": 74,
    "start_time": "2022-11-02T11:21:36.297Z"
   },
   {
    "duration": 19,
    "start_time": "2022-11-02T11:21:36.376Z"
   },
   {
    "duration": 50,
    "start_time": "2022-11-02T11:21:36.397Z"
   },
   {
    "duration": 4,
    "start_time": "2022-11-02T11:21:36.449Z"
   },
   {
    "duration": 41,
    "start_time": "2022-11-02T11:21:36.456Z"
   },
   {
    "duration": 22,
    "start_time": "2022-11-02T11:21:36.499Z"
   },
   {
    "duration": 39,
    "start_time": "2022-11-02T11:21:36.523Z"
   },
   {
    "duration": 25,
    "start_time": "2022-11-02T11:21:36.566Z"
   },
   {
    "duration": 17,
    "start_time": "2022-11-02T11:21:36.593Z"
   },
   {
    "duration": 32,
    "start_time": "2022-11-02T11:21:36.613Z"
   },
   {
    "duration": 704,
    "start_time": "2022-11-02T11:21:36.648Z"
   },
   {
    "duration": 16,
    "start_time": "2022-11-02T11:21:37.354Z"
   },
   {
    "duration": 12,
    "start_time": "2022-11-02T11:21:37.371Z"
   },
   {
    "duration": 40,
    "start_time": "2022-11-02T11:21:37.385Z"
   },
   {
    "duration": 28,
    "start_time": "2022-11-02T11:21:37.427Z"
   },
   {
    "duration": 279,
    "start_time": "2022-11-02T11:21:37.457Z"
   },
   {
    "duration": 7,
    "start_time": "2022-11-02T11:21:37.738Z"
   },
   {
    "duration": 210,
    "start_time": "2022-11-02T11:21:37.746Z"
   },
   {
    "duration": 5,
    "start_time": "2022-11-02T11:21:37.958Z"
   },
   {
    "duration": 207,
    "start_time": "2022-11-02T11:21:37.965Z"
   },
   {
    "duration": 1247,
    "start_time": "2022-11-02T11:22:05.470Z"
   },
   {
    "duration": 73,
    "start_time": "2022-11-02T11:22:06.719Z"
   },
   {
    "duration": 15,
    "start_time": "2022-11-02T11:22:06.794Z"
   },
   {
    "duration": 34,
    "start_time": "2022-11-02T11:22:06.811Z"
   },
   {
    "duration": 4,
    "start_time": "2022-11-02T11:22:06.847Z"
   },
   {
    "duration": 29,
    "start_time": "2022-11-02T11:22:06.853Z"
   },
   {
    "duration": 32,
    "start_time": "2022-11-02T11:22:06.885Z"
   },
   {
    "duration": 16,
    "start_time": "2022-11-02T11:22:06.920Z"
   },
   {
    "duration": 33,
    "start_time": "2022-11-02T11:22:06.938Z"
   },
   {
    "duration": 6,
    "start_time": "2022-11-02T11:22:06.974Z"
   },
   {
    "duration": 13,
    "start_time": "2022-11-02T11:22:06.982Z"
   },
   {
    "duration": 686,
    "start_time": "2022-11-02T11:22:06.997Z"
   },
   {
    "duration": 15,
    "start_time": "2022-11-02T11:22:07.684Z"
   },
   {
    "duration": 26,
    "start_time": "2022-11-02T11:22:07.702Z"
   },
   {
    "duration": 15,
    "start_time": "2022-11-02T11:22:07.730Z"
   },
   {
    "duration": 27,
    "start_time": "2022-11-02T11:22:07.747Z"
   },
   {
    "duration": 300,
    "start_time": "2022-11-02T11:22:07.775Z"
   },
   {
    "duration": 7,
    "start_time": "2022-11-02T11:22:08.078Z"
   },
   {
    "duration": 218,
    "start_time": "2022-11-02T11:22:08.086Z"
   },
   {
    "duration": 18,
    "start_time": "2022-11-02T11:22:08.306Z"
   },
   {
    "duration": 199,
    "start_time": "2022-11-02T11:22:08.327Z"
   },
   {
    "duration": 5,
    "start_time": "2022-11-02T11:22:29.559Z"
   },
   {
    "duration": 188,
    "start_time": "2022-11-02T11:22:30.366Z"
   },
   {
    "duration": 246,
    "start_time": "2022-11-02T11:23:00.561Z"
   },
   {
    "duration": 336,
    "start_time": "2022-11-02T11:23:07.488Z"
   },
   {
    "duration": 272,
    "start_time": "2022-11-02T11:23:23.637Z"
   },
   {
    "duration": 262,
    "start_time": "2022-11-02T11:23:28.593Z"
   },
   {
    "duration": 1300,
    "start_time": "2022-11-02T11:24:56.519Z"
   },
   {
    "duration": 81,
    "start_time": "2022-11-02T11:24:57.821Z"
   },
   {
    "duration": 20,
    "start_time": "2022-11-02T11:24:57.904Z"
   },
   {
    "duration": 46,
    "start_time": "2022-11-02T11:24:57.927Z"
   },
   {
    "duration": 4,
    "start_time": "2022-11-02T11:24:57.975Z"
   },
   {
    "duration": 22,
    "start_time": "2022-11-02T11:24:57.982Z"
   },
   {
    "duration": 19,
    "start_time": "2022-11-02T11:24:58.007Z"
   },
   {
    "duration": 9,
    "start_time": "2022-11-02T11:24:58.029Z"
   },
   {
    "duration": 22,
    "start_time": "2022-11-02T11:24:58.040Z"
   },
   {
    "duration": 7,
    "start_time": "2022-11-02T11:24:58.065Z"
   },
   {
    "duration": 51,
    "start_time": "2022-11-02T11:24:58.074Z"
   },
   {
    "duration": 747,
    "start_time": "2022-11-02T11:24:58.127Z"
   },
   {
    "duration": 20,
    "start_time": "2022-11-02T11:24:58.876Z"
   },
   {
    "duration": 38,
    "start_time": "2022-11-02T11:24:58.898Z"
   },
   {
    "duration": 43,
    "start_time": "2022-11-02T11:24:58.938Z"
   },
   {
    "duration": 81,
    "start_time": "2022-11-02T11:24:58.983Z"
   },
   {
    "duration": 306,
    "start_time": "2022-11-02T11:24:59.067Z"
   },
   {
    "duration": 5,
    "start_time": "2022-11-02T11:24:59.375Z"
   },
   {
    "duration": 20,
    "start_time": "2022-11-02T11:24:59.382Z"
   },
   {
    "duration": 190,
    "start_time": "2022-11-02T11:24:59.404Z"
   },
   {
    "duration": 46,
    "start_time": "2022-11-02T17:44:17.043Z"
   },
   {
    "duration": 1273,
    "start_time": "2022-11-02T17:44:23.109Z"
   },
   {
    "duration": 192,
    "start_time": "2022-11-02T17:44:24.384Z"
   },
   {
    "duration": 12,
    "start_time": "2022-11-02T17:44:24.578Z"
   },
   {
    "duration": 26,
    "start_time": "2022-11-02T17:44:24.592Z"
   },
   {
    "duration": 2,
    "start_time": "2022-11-02T17:44:24.620Z"
   },
   {
    "duration": 13,
    "start_time": "2022-11-02T17:44:24.623Z"
   },
   {
    "duration": 7,
    "start_time": "2022-11-02T17:44:24.638Z"
   },
   {
    "duration": 6,
    "start_time": "2022-11-02T17:44:24.646Z"
   },
   {
    "duration": 17,
    "start_time": "2022-11-02T17:44:24.653Z"
   },
   {
    "duration": 6,
    "start_time": "2022-11-02T17:44:24.672Z"
   },
   {
    "duration": 8,
    "start_time": "2022-11-02T17:44:24.706Z"
   },
   {
    "duration": 603,
    "start_time": "2022-11-02T17:44:24.716Z"
   },
   {
    "duration": 12,
    "start_time": "2022-11-02T17:44:25.321Z"
   },
   {
    "duration": 7,
    "start_time": "2022-11-02T17:44:25.335Z"
   },
   {
    "duration": 15,
    "start_time": "2022-11-02T17:44:25.343Z"
   },
   {
    "duration": 50,
    "start_time": "2022-11-02T17:44:25.359Z"
   },
   {
    "duration": 228,
    "start_time": "2022-11-02T17:44:25.410Z"
   },
   {
    "duration": 6,
    "start_time": "2022-11-02T17:44:25.639Z"
   },
   {
    "duration": 5,
    "start_time": "2022-11-02T17:44:25.646Z"
   },
   {
    "duration": 161,
    "start_time": "2022-11-02T17:44:25.652Z"
   },
   {
    "duration": 100,
    "start_time": "2022-11-02T17:44:25.814Z"
   },
   {
    "duration": 10,
    "start_time": "2022-11-02T17:44:56.918Z"
   },
   {
    "duration": 11,
    "start_time": "2022-11-02T17:46:03.063Z"
   },
   {
    "duration": 10,
    "start_time": "2022-11-02T17:48:02.032Z"
   },
   {
    "duration": 1176,
    "start_time": "2022-11-02T18:08:57.183Z"
   },
   {
    "duration": 63,
    "start_time": "2022-11-02T18:08:58.361Z"
   },
   {
    "duration": 13,
    "start_time": "2022-11-02T18:08:58.426Z"
   },
   {
    "duration": 24,
    "start_time": "2022-11-02T18:08:58.441Z"
   },
   {
    "duration": 2,
    "start_time": "2022-11-02T18:08:58.467Z"
   },
   {
    "duration": 13,
    "start_time": "2022-11-02T18:08:58.471Z"
   },
   {
    "duration": 22,
    "start_time": "2022-11-02T18:08:58.486Z"
   },
   {
    "duration": 7,
    "start_time": "2022-11-02T18:08:58.510Z"
   },
   {
    "duration": 21,
    "start_time": "2022-11-02T18:08:58.518Z"
   },
   {
    "duration": 5,
    "start_time": "2022-11-02T18:08:58.541Z"
   },
   {
    "duration": 9,
    "start_time": "2022-11-02T18:08:58.547Z"
   },
   {
    "duration": 580,
    "start_time": "2022-11-02T18:08:58.557Z"
   },
   {
    "duration": 12,
    "start_time": "2022-11-02T18:08:59.139Z"
   },
   {
    "duration": 6,
    "start_time": "2022-11-02T18:08:59.152Z"
   },
   {
    "duration": 12,
    "start_time": "2022-11-02T18:08:59.160Z"
   },
   {
    "duration": 39,
    "start_time": "2022-11-02T18:08:59.173Z"
   },
   {
    "duration": 220,
    "start_time": "2022-11-02T18:08:59.213Z"
   },
   {
    "duration": 5,
    "start_time": "2022-11-02T18:08:59.434Z"
   },
   {
    "duration": 7,
    "start_time": "2022-11-02T18:08:59.440Z"
   },
   {
    "duration": 157,
    "start_time": "2022-11-02T18:08:59.448Z"
   },
   {
    "duration": 10,
    "start_time": "2022-11-02T18:08:59.606Z"
   },
   {
    "duration": 10,
    "start_time": "2022-11-02T18:08:59.618Z"
   },
   {
    "duration": 49,
    "start_time": "2022-11-03T12:03:31.105Z"
   },
   {
    "duration": 1366,
    "start_time": "2022-11-03T12:05:26.317Z"
   },
   {
    "duration": 120,
    "start_time": "2022-11-03T12:05:27.685Z"
   },
   {
    "duration": 17,
    "start_time": "2022-11-03T12:05:27.806Z"
   },
   {
    "duration": 35,
    "start_time": "2022-11-03T12:05:27.825Z"
   },
   {
    "duration": 4,
    "start_time": "2022-11-03T12:05:27.862Z"
   },
   {
    "duration": 22,
    "start_time": "2022-11-03T12:05:27.868Z"
   },
   {
    "duration": 11,
    "start_time": "2022-11-03T12:05:27.892Z"
   },
   {
    "duration": 6,
    "start_time": "2022-11-03T12:05:27.905Z"
   },
   {
    "duration": 42,
    "start_time": "2022-11-03T12:05:27.912Z"
   },
   {
    "duration": 6,
    "start_time": "2022-11-03T12:05:27.957Z"
   },
   {
    "duration": 18,
    "start_time": "2022-11-03T12:05:27.965Z"
   },
   {
    "duration": 666,
    "start_time": "2022-11-03T12:05:27.984Z"
   },
   {
    "duration": 12,
    "start_time": "2022-11-03T12:05:28.653Z"
   },
   {
    "duration": 13,
    "start_time": "2022-11-03T12:05:28.666Z"
   },
   {
    "duration": 14,
    "start_time": "2022-11-03T12:05:28.681Z"
   },
   {
    "duration": 26,
    "start_time": "2022-11-03T12:05:28.697Z"
   },
   {
    "duration": 275,
    "start_time": "2022-11-03T12:05:28.724Z"
   },
   {
    "duration": 6,
    "start_time": "2022-11-03T12:05:29.001Z"
   },
   {
    "duration": 8,
    "start_time": "2022-11-03T12:05:29.008Z"
   },
   {
    "duration": 171,
    "start_time": "2022-11-03T12:05:29.018Z"
   },
   {
    "duration": 11,
    "start_time": "2022-11-03T12:05:29.191Z"
   },
   {
    "duration": 14,
    "start_time": "2022-11-03T12:05:29.203Z"
   },
   {
    "duration": 17,
    "start_time": "2022-11-03T12:05:29.219Z"
   },
   {
    "duration": 10,
    "start_time": "2022-11-03T12:05:55.803Z"
   },
   {
    "duration": 10,
    "start_time": "2022-11-03T12:07:05.433Z"
   },
   {
    "duration": 13,
    "start_time": "2022-11-03T12:07:21.247Z"
   },
   {
    "duration": 20,
    "start_time": "2022-11-03T12:08:20.661Z"
   },
   {
    "duration": 1215,
    "start_time": "2022-11-03T12:09:11.277Z"
   },
   {
    "duration": 71,
    "start_time": "2022-11-03T12:09:12.494Z"
   },
   {
    "duration": 13,
    "start_time": "2022-11-03T12:09:12.567Z"
   },
   {
    "duration": 28,
    "start_time": "2022-11-03T12:09:12.582Z"
   },
   {
    "duration": 3,
    "start_time": "2022-11-03T12:09:12.612Z"
   },
   {
    "duration": 15,
    "start_time": "2022-11-03T12:09:12.616Z"
   },
   {
    "duration": 27,
    "start_time": "2022-11-03T12:09:12.632Z"
   },
   {
    "duration": 12,
    "start_time": "2022-11-03T12:09:12.660Z"
   },
   {
    "duration": 24,
    "start_time": "2022-11-03T12:09:12.674Z"
   },
   {
    "duration": 5,
    "start_time": "2022-11-03T12:09:12.701Z"
   },
   {
    "duration": 20,
    "start_time": "2022-11-03T12:09:12.707Z"
   },
   {
    "duration": 605,
    "start_time": "2022-11-03T12:09:12.729Z"
   },
   {
    "duration": 24,
    "start_time": "2022-11-03T12:09:13.335Z"
   },
   {
    "duration": 12,
    "start_time": "2022-11-03T12:09:13.360Z"
   },
   {
    "duration": 16,
    "start_time": "2022-11-03T12:09:13.373Z"
   },
   {
    "duration": 34,
    "start_time": "2022-11-03T12:09:13.391Z"
   },
   {
    "duration": 265,
    "start_time": "2022-11-03T12:09:13.426Z"
   },
   {
    "duration": 7,
    "start_time": "2022-11-03T12:09:13.693Z"
   },
   {
    "duration": 34,
    "start_time": "2022-11-03T12:09:13.701Z"
   },
   {
    "duration": 190,
    "start_time": "2022-11-03T12:09:13.737Z"
   },
   {
    "duration": 11,
    "start_time": "2022-11-03T12:09:13.929Z"
   },
   {
    "duration": 20,
    "start_time": "2022-11-03T12:09:13.942Z"
   },
   {
    "duration": 28,
    "start_time": "2022-11-03T12:09:13.964Z"
   },
   {
    "duration": 1123,
    "start_time": "2022-11-03T12:09:57.685Z"
   },
   {
    "duration": 70,
    "start_time": "2022-11-03T12:09:58.811Z"
   },
   {
    "duration": 14,
    "start_time": "2022-11-03T12:09:58.882Z"
   },
   {
    "duration": 50,
    "start_time": "2022-11-03T12:09:58.898Z"
   },
   {
    "duration": 3,
    "start_time": "2022-11-03T12:09:58.951Z"
   },
   {
    "duration": 29,
    "start_time": "2022-11-03T12:09:58.956Z"
   },
   {
    "duration": 18,
    "start_time": "2022-11-03T12:09:58.986Z"
   },
   {
    "duration": 18,
    "start_time": "2022-11-03T12:09:59.005Z"
   },
   {
    "duration": 33,
    "start_time": "2022-11-03T12:09:59.024Z"
   },
   {
    "duration": 18,
    "start_time": "2022-11-03T12:09:59.059Z"
   },
   {
    "duration": 15,
    "start_time": "2022-11-03T12:09:59.079Z"
   },
   {
    "duration": 641,
    "start_time": "2022-11-03T12:09:59.096Z"
   },
   {
    "duration": 17,
    "start_time": "2022-11-03T12:09:59.739Z"
   },
   {
    "duration": 8,
    "start_time": "2022-11-03T12:09:59.758Z"
   },
   {
    "duration": 17,
    "start_time": "2022-11-03T12:09:59.768Z"
   },
   {
    "duration": 23,
    "start_time": "2022-11-03T12:09:59.787Z"
   },
   {
    "duration": 282,
    "start_time": "2022-11-03T12:09:59.812Z"
   },
   {
    "duration": 7,
    "start_time": "2022-11-03T12:10:00.095Z"
   },
   {
    "duration": 29,
    "start_time": "2022-11-03T12:10:00.103Z"
   },
   {
    "duration": 180,
    "start_time": "2022-11-03T12:10:00.134Z"
   },
   {
    "duration": 19,
    "start_time": "2022-11-03T12:10:00.315Z"
   },
   {
    "duration": 43,
    "start_time": "2022-11-03T12:10:00.336Z"
   },
   {
    "duration": 18,
    "start_time": "2022-11-03T12:10:42.658Z"
   },
   {
    "duration": 20,
    "start_time": "2022-11-03T12:17:38.700Z"
   },
   {
    "duration": 111,
    "start_time": "2022-11-03T12:18:27.596Z"
   },
   {
    "duration": 21,
    "start_time": "2022-11-03T12:18:38.763Z"
   },
   {
    "duration": 16,
    "start_time": "2022-11-03T12:19:22.777Z"
   },
   {
    "duration": 17,
    "start_time": "2022-11-03T12:19:25.067Z"
   },
   {
    "duration": 24,
    "start_time": "2022-11-03T12:19:32.101Z"
   },
   {
    "duration": 20,
    "start_time": "2022-11-03T12:21:07.211Z"
   },
   {
    "duration": 20,
    "start_time": "2022-11-03T12:21:49.422Z"
   },
   {
    "duration": 19,
    "start_time": "2022-11-03T12:21:52.588Z"
   },
   {
    "duration": 21,
    "start_time": "2022-11-03T12:22:26.343Z"
   },
   {
    "duration": 10,
    "start_time": "2022-11-03T12:23:07.066Z"
   },
   {
    "duration": 18,
    "start_time": "2022-11-03T12:23:15.247Z"
   },
   {
    "duration": 13,
    "start_time": "2022-11-03T12:24:00.315Z"
   },
   {
    "duration": 1177,
    "start_time": "2022-11-03T12:25:09.348Z"
   },
   {
    "duration": 102,
    "start_time": "2022-11-03T12:25:10.527Z"
   },
   {
    "duration": 0,
    "start_time": "2022-11-03T12:25:10.632Z"
   },
   {
    "duration": 0,
    "start_time": "2022-11-03T12:25:10.634Z"
   },
   {
    "duration": 0,
    "start_time": "2022-11-03T12:25:10.636Z"
   },
   {
    "duration": 0,
    "start_time": "2022-11-03T12:25:10.654Z"
   },
   {
    "duration": 0,
    "start_time": "2022-11-03T12:25:10.655Z"
   },
   {
    "duration": 0,
    "start_time": "2022-11-03T12:25:10.656Z"
   },
   {
    "duration": 0,
    "start_time": "2022-11-03T12:25:10.657Z"
   },
   {
    "duration": 1,
    "start_time": "2022-11-03T12:25:10.658Z"
   },
   {
    "duration": 0,
    "start_time": "2022-11-03T12:25:10.660Z"
   },
   {
    "duration": 0,
    "start_time": "2022-11-03T12:25:10.661Z"
   },
   {
    "duration": 0,
    "start_time": "2022-11-03T12:25:10.663Z"
   },
   {
    "duration": 0,
    "start_time": "2022-11-03T12:25:10.664Z"
   },
   {
    "duration": 0,
    "start_time": "2022-11-03T12:25:10.665Z"
   },
   {
    "duration": 0,
    "start_time": "2022-11-03T12:25:10.666Z"
   },
   {
    "duration": 0,
    "start_time": "2022-11-03T12:25:10.668Z"
   },
   {
    "duration": 0,
    "start_time": "2022-11-03T12:25:10.669Z"
   },
   {
    "duration": 0,
    "start_time": "2022-11-03T12:25:10.670Z"
   },
   {
    "duration": 0,
    "start_time": "2022-11-03T12:25:10.671Z"
   },
   {
    "duration": 0,
    "start_time": "2022-11-03T12:25:10.672Z"
   },
   {
    "duration": 0,
    "start_time": "2022-11-03T12:25:10.673Z"
   },
   {
    "duration": 0,
    "start_time": "2022-11-03T12:25:10.674Z"
   },
   {
    "duration": 1201,
    "start_time": "2022-11-03T12:25:44.144Z"
   },
   {
    "duration": 108,
    "start_time": "2022-11-03T12:25:45.347Z"
   },
   {
    "duration": 0,
    "start_time": "2022-11-03T12:25:45.457Z"
   },
   {
    "duration": 0,
    "start_time": "2022-11-03T12:25:45.458Z"
   },
   {
    "duration": 0,
    "start_time": "2022-11-03T12:25:45.459Z"
   },
   {
    "duration": 0,
    "start_time": "2022-11-03T12:25:45.460Z"
   },
   {
    "duration": 0,
    "start_time": "2022-11-03T12:25:45.462Z"
   },
   {
    "duration": 0,
    "start_time": "2022-11-03T12:25:45.463Z"
   },
   {
    "duration": 0,
    "start_time": "2022-11-03T12:25:45.464Z"
   },
   {
    "duration": 0,
    "start_time": "2022-11-03T12:25:45.465Z"
   },
   {
    "duration": 0,
    "start_time": "2022-11-03T12:25:45.466Z"
   },
   {
    "duration": 0,
    "start_time": "2022-11-03T12:25:45.467Z"
   },
   {
    "duration": 0,
    "start_time": "2022-11-03T12:25:45.468Z"
   },
   {
    "duration": 0,
    "start_time": "2022-11-03T12:25:45.469Z"
   },
   {
    "duration": 0,
    "start_time": "2022-11-03T12:25:45.470Z"
   },
   {
    "duration": 0,
    "start_time": "2022-11-03T12:25:45.471Z"
   },
   {
    "duration": 1,
    "start_time": "2022-11-03T12:25:45.472Z"
   },
   {
    "duration": 0,
    "start_time": "2022-11-03T12:25:45.473Z"
   },
   {
    "duration": 0,
    "start_time": "2022-11-03T12:25:45.474Z"
   },
   {
    "duration": 0,
    "start_time": "2022-11-03T12:25:45.475Z"
   },
   {
    "duration": 0,
    "start_time": "2022-11-03T12:25:45.476Z"
   },
   {
    "duration": 0,
    "start_time": "2022-11-03T12:25:45.478Z"
   },
   {
    "duration": 0,
    "start_time": "2022-11-03T12:25:45.478Z"
   },
   {
    "duration": 1165,
    "start_time": "2022-11-03T12:26:14.671Z"
   },
   {
    "duration": 101,
    "start_time": "2022-11-03T12:26:15.840Z"
   },
   {
    "duration": 0,
    "start_time": "2022-11-03T12:26:15.944Z"
   },
   {
    "duration": 0,
    "start_time": "2022-11-03T12:26:15.945Z"
   },
   {
    "duration": 0,
    "start_time": "2022-11-03T12:26:15.947Z"
   },
   {
    "duration": 0,
    "start_time": "2022-11-03T12:26:15.954Z"
   },
   {
    "duration": 0,
    "start_time": "2022-11-03T12:26:15.956Z"
   },
   {
    "duration": 0,
    "start_time": "2022-11-03T12:26:15.957Z"
   },
   {
    "duration": 0,
    "start_time": "2022-11-03T12:26:15.958Z"
   },
   {
    "duration": 0,
    "start_time": "2022-11-03T12:26:15.960Z"
   },
   {
    "duration": 0,
    "start_time": "2022-11-03T12:26:15.961Z"
   },
   {
    "duration": 0,
    "start_time": "2022-11-03T12:26:15.962Z"
   },
   {
    "duration": 0,
    "start_time": "2022-11-03T12:26:15.964Z"
   },
   {
    "duration": 0,
    "start_time": "2022-11-03T12:26:15.965Z"
   },
   {
    "duration": 0,
    "start_time": "2022-11-03T12:26:15.966Z"
   },
   {
    "duration": 0,
    "start_time": "2022-11-03T12:26:15.968Z"
   },
   {
    "duration": 0,
    "start_time": "2022-11-03T12:26:15.969Z"
   },
   {
    "duration": 0,
    "start_time": "2022-11-03T12:26:15.970Z"
   },
   {
    "duration": 0,
    "start_time": "2022-11-03T12:26:15.972Z"
   },
   {
    "duration": 0,
    "start_time": "2022-11-03T12:26:15.973Z"
   },
   {
    "duration": 0,
    "start_time": "2022-11-03T12:26:15.974Z"
   },
   {
    "duration": 0,
    "start_time": "2022-11-03T12:26:15.975Z"
   },
   {
    "duration": 0,
    "start_time": "2022-11-03T12:26:15.977Z"
   },
   {
    "duration": 1158,
    "start_time": "2022-11-03T12:26:34.066Z"
   },
   {
    "duration": 72,
    "start_time": "2022-11-03T12:26:35.225Z"
   },
   {
    "duration": 14,
    "start_time": "2022-11-03T12:26:35.298Z"
   },
   {
    "duration": 43,
    "start_time": "2022-11-03T12:26:35.314Z"
   },
   {
    "duration": 3,
    "start_time": "2022-11-03T12:26:35.359Z"
   },
   {
    "duration": 25,
    "start_time": "2022-11-03T12:26:35.364Z"
   },
   {
    "duration": 34,
    "start_time": "2022-11-03T12:26:35.391Z"
   },
   {
    "duration": 9,
    "start_time": "2022-11-03T12:26:35.426Z"
   },
   {
    "duration": 59,
    "start_time": "2022-11-03T12:26:35.437Z"
   },
   {
    "duration": 27,
    "start_time": "2022-11-03T12:26:35.499Z"
   },
   {
    "duration": 31,
    "start_time": "2022-11-03T12:26:35.529Z"
   },
   {
    "duration": 661,
    "start_time": "2022-11-03T12:26:35.562Z"
   },
   {
    "duration": 15,
    "start_time": "2022-11-03T12:26:36.226Z"
   },
   {
    "duration": 14,
    "start_time": "2022-11-03T12:26:36.243Z"
   },
   {
    "duration": 22,
    "start_time": "2022-11-03T12:26:36.259Z"
   },
   {
    "duration": 27,
    "start_time": "2022-11-03T12:26:36.282Z"
   },
   {
    "duration": 265,
    "start_time": "2022-11-03T12:26:36.310Z"
   },
   {
    "duration": 6,
    "start_time": "2022-11-03T12:26:36.577Z"
   },
   {
    "duration": 7,
    "start_time": "2022-11-03T12:26:36.584Z"
   },
   {
    "duration": 204,
    "start_time": "2022-11-03T12:26:36.593Z"
   },
   {
    "duration": 22,
    "start_time": "2022-11-03T12:26:36.798Z"
   },
   {
    "duration": 123,
    "start_time": "2022-11-03T12:26:36.821Z"
   },
   {
    "duration": 161,
    "start_time": "2022-11-03T12:26:41.834Z"
   },
   {
    "duration": 145,
    "start_time": "2022-11-03T12:27:28.314Z"
   },
   {
    "duration": 152,
    "start_time": "2022-11-03T12:27:55.933Z"
   },
   {
    "duration": 1222,
    "start_time": "2022-11-03T12:28:02.716Z"
   },
   {
    "duration": 73,
    "start_time": "2022-11-03T12:28:03.940Z"
   },
   {
    "duration": 17,
    "start_time": "2022-11-03T12:28:04.015Z"
   },
   {
    "duration": 33,
    "start_time": "2022-11-03T12:28:04.034Z"
   },
   {
    "duration": 3,
    "start_time": "2022-11-03T12:28:04.069Z"
   },
   {
    "duration": 24,
    "start_time": "2022-11-03T12:28:04.074Z"
   },
   {
    "duration": 16,
    "start_time": "2022-11-03T12:28:04.099Z"
   },
   {
    "duration": 7,
    "start_time": "2022-11-03T12:28:04.116Z"
   },
   {
    "duration": 38,
    "start_time": "2022-11-03T12:28:04.125Z"
   },
   {
    "duration": 6,
    "start_time": "2022-11-03T12:28:04.166Z"
   },
   {
    "duration": 12,
    "start_time": "2022-11-03T12:28:04.174Z"
   },
   {
    "duration": 662,
    "start_time": "2022-11-03T12:28:04.188Z"
   },
   {
    "duration": 14,
    "start_time": "2022-11-03T12:28:04.851Z"
   },
   {
    "duration": 13,
    "start_time": "2022-11-03T12:28:04.867Z"
   },
   {
    "duration": 16,
    "start_time": "2022-11-03T12:28:04.882Z"
   },
   {
    "duration": 26,
    "start_time": "2022-11-03T12:28:04.899Z"
   },
   {
    "duration": 289,
    "start_time": "2022-11-03T12:28:04.927Z"
   },
   {
    "duration": 6,
    "start_time": "2022-11-03T12:28:05.218Z"
   },
   {
    "duration": 19,
    "start_time": "2022-11-03T12:28:05.226Z"
   },
   {
    "duration": 188,
    "start_time": "2022-11-03T12:28:05.247Z"
   },
   {
    "duration": 21,
    "start_time": "2022-11-03T12:28:05.437Z"
   },
   {
    "duration": 267,
    "start_time": "2022-11-03T12:28:05.459Z"
   },
   {
    "duration": 132,
    "start_time": "2022-11-03T12:28:55.428Z"
   },
   {
    "duration": 369,
    "start_time": "2022-11-03T12:29:07.595Z"
   },
   {
    "duration": 16,
    "start_time": "2022-11-03T12:29:38.652Z"
   },
   {
    "duration": 12,
    "start_time": "2022-11-03T12:30:03.974Z"
   },
   {
    "duration": 1282,
    "start_time": "2022-11-03T12:30:34.047Z"
   },
   {
    "duration": 11,
    "start_time": "2022-11-03T12:32:17.706Z"
   },
   {
    "duration": 16,
    "start_time": "2022-11-03T12:32:26.926Z"
   },
   {
    "duration": 16,
    "start_time": "2022-11-03T12:33:21.173Z"
   },
   {
    "duration": 16,
    "start_time": "2022-11-03T12:33:37.183Z"
   },
   {
    "duration": 324,
    "start_time": "2022-11-03T12:38:40.045Z"
   },
   {
    "duration": 14,
    "start_time": "2022-11-03T12:46:36.672Z"
   },
   {
    "duration": 1094,
    "start_time": "2022-11-03T12:46:43.799Z"
   },
   {
    "duration": 75,
    "start_time": "2022-11-03T12:46:44.895Z"
   },
   {
    "duration": 16,
    "start_time": "2022-11-03T12:46:44.972Z"
   },
   {
    "duration": 37,
    "start_time": "2022-11-03T12:46:44.990Z"
   },
   {
    "duration": 3,
    "start_time": "2022-11-03T12:46:45.029Z"
   },
   {
    "duration": 13,
    "start_time": "2022-11-03T12:46:45.054Z"
   },
   {
    "duration": 17,
    "start_time": "2022-11-03T12:46:45.069Z"
   },
   {
    "duration": 6,
    "start_time": "2022-11-03T12:46:45.087Z"
   },
   {
    "duration": 28,
    "start_time": "2022-11-03T12:46:45.095Z"
   },
   {
    "duration": 6,
    "start_time": "2022-11-03T12:46:45.125Z"
   },
   {
    "duration": 8,
    "start_time": "2022-11-03T12:46:45.155Z"
   },
   {
    "duration": 659,
    "start_time": "2022-11-03T12:46:45.165Z"
   },
   {
    "duration": 14,
    "start_time": "2022-11-03T12:46:45.826Z"
   },
   {
    "duration": 20,
    "start_time": "2022-11-03T12:46:45.841Z"
   },
   {
    "duration": 15,
    "start_time": "2022-11-03T12:46:45.862Z"
   },
   {
    "duration": 25,
    "start_time": "2022-11-03T12:46:45.879Z"
   },
   {
    "duration": 282,
    "start_time": "2022-11-03T12:46:45.905Z"
   },
   {
    "duration": 6,
    "start_time": "2022-11-03T12:46:46.189Z"
   },
   {
    "duration": 14,
    "start_time": "2022-11-03T12:46:46.196Z"
   },
   {
    "duration": 172,
    "start_time": "2022-11-03T12:46:46.211Z"
   },
   {
    "duration": 18,
    "start_time": "2022-11-03T12:46:46.385Z"
   },
   {
    "duration": 15,
    "start_time": "2022-11-03T12:46:46.405Z"
   },
   {
    "duration": 32,
    "start_time": "2022-11-03T12:46:46.422Z"
   },
   {
    "duration": 145,
    "start_time": "2022-11-03T12:46:46.456Z"
   },
   {
    "duration": 1188,
    "start_time": "2022-11-03T12:47:11.116Z"
   },
   {
    "duration": 72,
    "start_time": "2022-11-03T12:47:12.305Z"
   },
   {
    "duration": 23,
    "start_time": "2022-11-03T12:47:12.379Z"
   },
   {
    "duration": 59,
    "start_time": "2022-11-03T12:47:12.405Z"
   },
   {
    "duration": 3,
    "start_time": "2022-11-03T12:47:12.465Z"
   },
   {
    "duration": 20,
    "start_time": "2022-11-03T12:47:12.470Z"
   },
   {
    "duration": 27,
    "start_time": "2022-11-03T12:47:12.492Z"
   },
   {
    "duration": 34,
    "start_time": "2022-11-03T12:47:12.521Z"
   },
   {
    "duration": 31,
    "start_time": "2022-11-03T12:47:12.557Z"
   },
   {
    "duration": 9,
    "start_time": "2022-11-03T12:47:12.592Z"
   },
   {
    "duration": 22,
    "start_time": "2022-11-03T12:47:12.603Z"
   },
   {
    "duration": 659,
    "start_time": "2022-11-03T12:47:12.627Z"
   },
   {
    "duration": 14,
    "start_time": "2022-11-03T12:47:13.288Z"
   },
   {
    "duration": 44,
    "start_time": "2022-11-03T12:47:13.303Z"
   },
   {
    "duration": 42,
    "start_time": "2022-11-03T12:47:13.348Z"
   },
   {
    "duration": 56,
    "start_time": "2022-11-03T12:47:13.391Z"
   },
   {
    "duration": 263,
    "start_time": "2022-11-03T12:47:13.449Z"
   },
   {
    "duration": 5,
    "start_time": "2022-11-03T12:47:13.714Z"
   },
   {
    "duration": 21,
    "start_time": "2022-11-03T12:47:13.721Z"
   },
   {
    "duration": 208,
    "start_time": "2022-11-03T12:47:13.744Z"
   },
   {
    "duration": 20,
    "start_time": "2022-11-03T12:47:13.954Z"
   },
   {
    "duration": 15,
    "start_time": "2022-11-03T12:47:13.976Z"
   },
   {
    "duration": 41,
    "start_time": "2022-11-03T12:47:13.994Z"
   },
   {
    "duration": 161,
    "start_time": "2022-11-03T12:47:14.036Z"
   },
   {
    "duration": 136,
    "start_time": "2022-11-03T12:48:03.713Z"
   },
   {
    "duration": 1179,
    "start_time": "2022-11-03T12:48:51.413Z"
   },
   {
    "duration": 70,
    "start_time": "2022-11-03T12:48:52.594Z"
   },
   {
    "duration": 15,
    "start_time": "2022-11-03T12:48:52.666Z"
   },
   {
    "duration": 36,
    "start_time": "2022-11-03T12:48:52.684Z"
   },
   {
    "duration": 3,
    "start_time": "2022-11-03T12:48:52.722Z"
   },
   {
    "duration": 42,
    "start_time": "2022-11-03T12:48:52.727Z"
   },
   {
    "duration": 17,
    "start_time": "2022-11-03T12:48:52.771Z"
   },
   {
    "duration": 9,
    "start_time": "2022-11-03T12:48:52.790Z"
   },
   {
    "duration": 37,
    "start_time": "2022-11-03T12:48:52.800Z"
   },
   {
    "duration": 5,
    "start_time": "2022-11-03T12:48:52.840Z"
   },
   {
    "duration": 33,
    "start_time": "2022-11-03T12:48:52.846Z"
   },
   {
    "duration": 661,
    "start_time": "2022-11-03T12:48:52.881Z"
   },
   {
    "duration": 14,
    "start_time": "2022-11-03T12:48:53.544Z"
   },
   {
    "duration": 25,
    "start_time": "2022-11-03T12:48:53.559Z"
   },
   {
    "duration": 25,
    "start_time": "2022-11-03T12:48:53.585Z"
   },
   {
    "duration": 38,
    "start_time": "2022-11-03T12:48:53.611Z"
   },
   {
    "duration": 276,
    "start_time": "2022-11-03T12:48:53.651Z"
   },
   {
    "duration": 7,
    "start_time": "2022-11-03T12:48:53.929Z"
   },
   {
    "duration": 32,
    "start_time": "2022-11-03T12:48:53.938Z"
   },
   {
    "duration": 188,
    "start_time": "2022-11-03T12:48:53.972Z"
   },
   {
    "duration": 19,
    "start_time": "2022-11-03T12:48:54.161Z"
   },
   {
    "duration": 32,
    "start_time": "2022-11-03T12:48:54.182Z"
   },
   {
    "duration": 11,
    "start_time": "2022-11-03T12:48:54.216Z"
   },
   {
    "duration": 168,
    "start_time": "2022-11-03T12:48:54.229Z"
   },
   {
    "duration": 1192,
    "start_time": "2022-11-03T12:50:24.192Z"
   },
   {
    "duration": 72,
    "start_time": "2022-11-03T12:50:25.386Z"
   },
   {
    "duration": 14,
    "start_time": "2022-11-03T12:50:25.460Z"
   },
   {
    "duration": 29,
    "start_time": "2022-11-03T12:50:25.476Z"
   },
   {
    "duration": 3,
    "start_time": "2022-11-03T12:50:25.507Z"
   },
   {
    "duration": 25,
    "start_time": "2022-11-03T12:50:25.512Z"
   },
   {
    "duration": 8,
    "start_time": "2022-11-03T12:50:25.554Z"
   },
   {
    "duration": 24,
    "start_time": "2022-11-03T12:50:25.563Z"
   },
   {
    "duration": 26,
    "start_time": "2022-11-03T12:50:25.589Z"
   },
   {
    "duration": 6,
    "start_time": "2022-11-03T12:50:25.619Z"
   },
   {
    "duration": 28,
    "start_time": "2022-11-03T12:50:25.627Z"
   },
   {
    "duration": 599,
    "start_time": "2022-11-03T12:50:25.657Z"
   },
   {
    "duration": 13,
    "start_time": "2022-11-03T12:50:26.259Z"
   },
   {
    "duration": 8,
    "start_time": "2022-11-03T12:50:26.274Z"
   },
   {
    "duration": 15,
    "start_time": "2022-11-03T12:50:26.284Z"
   },
   {
    "duration": 23,
    "start_time": "2022-11-03T12:50:26.300Z"
   },
   {
    "duration": 267,
    "start_time": "2022-11-03T12:50:26.354Z"
   },
   {
    "duration": 6,
    "start_time": "2022-11-03T12:50:26.623Z"
   },
   {
    "duration": 11,
    "start_time": "2022-11-03T12:50:26.630Z"
   },
   {
    "duration": 182,
    "start_time": "2022-11-03T12:50:26.643Z"
   },
   {
    "duration": 30,
    "start_time": "2022-11-03T12:50:26.827Z"
   },
   {
    "duration": 17,
    "start_time": "2022-11-03T12:50:26.859Z"
   },
   {
    "duration": 130,
    "start_time": "2022-11-03T12:50:26.878Z"
   },
   {
    "duration": 0,
    "start_time": "2022-11-03T12:50:27.010Z"
   },
   {
    "duration": 1135,
    "start_time": "2022-11-03T12:51:32.713Z"
   },
   {
    "duration": 74,
    "start_time": "2022-11-03T12:51:33.851Z"
   },
   {
    "duration": 16,
    "start_time": "2022-11-03T12:51:33.926Z"
   },
   {
    "duration": 47,
    "start_time": "2022-11-03T12:51:33.944Z"
   },
   {
    "duration": 8,
    "start_time": "2022-11-03T12:51:33.993Z"
   },
   {
    "duration": 29,
    "start_time": "2022-11-03T12:51:34.003Z"
   },
   {
    "duration": 30,
    "start_time": "2022-11-03T12:51:34.033Z"
   },
   {
    "duration": 44,
    "start_time": "2022-11-03T12:51:34.065Z"
   },
   {
    "duration": 47,
    "start_time": "2022-11-03T12:51:34.111Z"
   },
   {
    "duration": 13,
    "start_time": "2022-11-03T12:51:34.161Z"
   },
   {
    "duration": 33,
    "start_time": "2022-11-03T12:51:34.175Z"
   },
   {
    "duration": 608,
    "start_time": "2022-11-03T12:51:34.210Z"
   },
   {
    "duration": 13,
    "start_time": "2022-11-03T12:51:34.820Z"
   },
   {
    "duration": 35,
    "start_time": "2022-11-03T12:51:34.835Z"
   },
   {
    "duration": 48,
    "start_time": "2022-11-03T12:51:34.872Z"
   },
   {
    "duration": 33,
    "start_time": "2022-11-03T12:51:34.922Z"
   },
   {
    "duration": 258,
    "start_time": "2022-11-03T12:51:34.956Z"
   },
   {
    "duration": 6,
    "start_time": "2022-11-03T12:51:35.216Z"
   },
   {
    "duration": 17,
    "start_time": "2022-11-03T12:51:35.223Z"
   },
   {
    "duration": 172,
    "start_time": "2022-11-03T12:51:35.241Z"
   },
   {
    "duration": 18,
    "start_time": "2022-11-03T12:51:35.416Z"
   },
   {
    "duration": 30,
    "start_time": "2022-11-03T12:51:35.436Z"
   },
   {
    "duration": 139,
    "start_time": "2022-11-03T12:51:35.468Z"
   },
   {
    "duration": 0,
    "start_time": "2022-11-03T12:51:35.609Z"
   },
   {
    "duration": 23,
    "start_time": "2022-11-03T12:52:15.286Z"
   },
   {
    "duration": 244,
    "start_time": "2022-11-03T12:52:33.794Z"
   },
   {
    "duration": 259,
    "start_time": "2022-11-03T12:52:59.966Z"
   },
   {
    "duration": 25,
    "start_time": "2022-11-03T12:53:18.740Z"
   },
   {
    "duration": 273,
    "start_time": "2022-11-03T12:53:48.503Z"
   },
   {
    "duration": 1119,
    "start_time": "2022-11-03T12:54:08.896Z"
   },
   {
    "duration": 75,
    "start_time": "2022-11-03T12:54:10.017Z"
   },
   {
    "duration": 15,
    "start_time": "2022-11-03T12:54:10.093Z"
   },
   {
    "duration": 55,
    "start_time": "2022-11-03T12:54:10.110Z"
   },
   {
    "duration": 4,
    "start_time": "2022-11-03T12:54:10.168Z"
   },
   {
    "duration": 15,
    "start_time": "2022-11-03T12:54:10.174Z"
   },
   {
    "duration": 19,
    "start_time": "2022-11-03T12:54:10.191Z"
   },
   {
    "duration": 14,
    "start_time": "2022-11-03T12:54:10.212Z"
   },
   {
    "duration": 26,
    "start_time": "2022-11-03T12:54:10.227Z"
   },
   {
    "duration": 6,
    "start_time": "2022-11-03T12:54:10.257Z"
   },
   {
    "duration": 24,
    "start_time": "2022-11-03T12:54:10.264Z"
   },
   {
    "duration": 651,
    "start_time": "2022-11-03T12:54:10.290Z"
   },
   {
    "duration": 18,
    "start_time": "2022-11-03T12:54:10.942Z"
   },
   {
    "duration": 19,
    "start_time": "2022-11-03T12:54:10.964Z"
   },
   {
    "duration": 28,
    "start_time": "2022-11-03T12:54:10.985Z"
   },
   {
    "duration": 27,
    "start_time": "2022-11-03T12:54:11.015Z"
   },
   {
    "duration": 267,
    "start_time": "2022-11-03T12:54:11.044Z"
   },
   {
    "duration": 6,
    "start_time": "2022-11-03T12:54:11.313Z"
   },
   {
    "duration": 15,
    "start_time": "2022-11-03T12:54:11.320Z"
   },
   {
    "duration": 193,
    "start_time": "2022-11-03T12:54:11.337Z"
   },
   {
    "duration": 36,
    "start_time": "2022-11-03T12:54:11.532Z"
   },
   {
    "duration": 18,
    "start_time": "2022-11-03T12:54:11.570Z"
   },
   {
    "duration": 173,
    "start_time": "2022-11-03T12:54:11.591Z"
   },
   {
    "duration": 460,
    "start_time": "2022-11-03T12:55:35.753Z"
   },
   {
    "duration": 328,
    "start_time": "2022-11-03T12:56:18.246Z"
   },
   {
    "duration": 331,
    "start_time": "2022-11-03T12:56:32.558Z"
   },
   {
    "duration": 506,
    "start_time": "2022-11-03T12:56:39.405Z"
   },
   {
    "duration": 16,
    "start_time": "2022-11-03T12:56:59.993Z"
   },
   {
    "duration": 906,
    "start_time": "2022-11-03T12:57:17.584Z"
   },
   {
    "duration": 658,
    "start_time": "2022-11-03T12:57:44.987Z"
   },
   {
    "duration": 95,
    "start_time": "2022-11-03T13:00:23.589Z"
   },
   {
    "duration": 60,
    "start_time": "2022-11-03T13:00:30.477Z"
   },
   {
    "duration": 12,
    "start_time": "2022-11-03T13:00:58.288Z"
   },
   {
    "duration": 32,
    "start_time": "2022-11-03T13:01:01.608Z"
   },
   {
    "duration": 20,
    "start_time": "2022-11-03T13:01:58.050Z"
   },
   {
    "duration": 16,
    "start_time": "2022-11-03T13:02:09.264Z"
   },
   {
    "duration": 325,
    "start_time": "2022-11-03T13:03:39.273Z"
   },
   {
    "duration": 11,
    "start_time": "2022-11-03T13:04:17.145Z"
   },
   {
    "duration": 18,
    "start_time": "2022-11-03T13:04:29.003Z"
   },
   {
    "duration": 734,
    "start_time": "2022-11-03T13:05:03.819Z"
   },
   {
    "duration": 746,
    "start_time": "2022-11-03T13:05:30.467Z"
   },
   {
    "duration": 163,
    "start_time": "2022-11-03T13:05:47.315Z"
   },
   {
    "duration": 752,
    "start_time": "2022-11-03T13:06:58.729Z"
   },
   {
    "duration": 966,
    "start_time": "2022-11-03T13:07:15.269Z"
   },
   {
    "duration": 1125,
    "start_time": "2022-11-03T13:07:22.280Z"
   },
   {
    "duration": 69,
    "start_time": "2022-11-03T13:07:23.407Z"
   },
   {
    "duration": 14,
    "start_time": "2022-11-03T13:07:23.477Z"
   },
   {
    "duration": 35,
    "start_time": "2022-11-03T13:07:23.493Z"
   },
   {
    "duration": 3,
    "start_time": "2022-11-03T13:07:23.530Z"
   },
   {
    "duration": 48,
    "start_time": "2022-11-03T13:07:23.535Z"
   },
   {
    "duration": 14,
    "start_time": "2022-11-03T13:07:23.585Z"
   },
   {
    "duration": 11,
    "start_time": "2022-11-03T13:07:23.600Z"
   },
   {
    "duration": 43,
    "start_time": "2022-11-03T13:07:23.613Z"
   },
   {
    "duration": 32,
    "start_time": "2022-11-03T13:07:23.658Z"
   },
   {
    "duration": 17,
    "start_time": "2022-11-03T13:07:23.692Z"
   },
   {
    "duration": 600,
    "start_time": "2022-11-03T13:07:23.710Z"
   },
   {
    "duration": 25,
    "start_time": "2022-11-03T13:07:24.311Z"
   },
   {
    "duration": 23,
    "start_time": "2022-11-03T13:07:24.338Z"
   },
   {
    "duration": 31,
    "start_time": "2022-11-03T13:07:24.363Z"
   },
   {
    "duration": 41,
    "start_time": "2022-11-03T13:07:24.396Z"
   },
   {
    "duration": 248,
    "start_time": "2022-11-03T13:07:24.439Z"
   },
   {
    "duration": 6,
    "start_time": "2022-11-03T13:07:24.688Z"
   },
   {
    "duration": 10,
    "start_time": "2022-11-03T13:07:24.695Z"
   },
   {
    "duration": 175,
    "start_time": "2022-11-03T13:07:24.707Z"
   },
   {
    "duration": 18,
    "start_time": "2022-11-03T13:07:24.883Z"
   },
   {
    "duration": 907,
    "start_time": "2022-11-03T13:07:24.902Z"
   },
   {
    "duration": 0,
    "start_time": "2022-11-03T13:07:25.811Z"
   },
   {
    "duration": 0,
    "start_time": "2022-11-03T13:07:25.813Z"
   },
   {
    "duration": 16,
    "start_time": "2022-11-03T13:07:47.204Z"
   },
   {
    "duration": 1185,
    "start_time": "2022-11-03T13:10:31.814Z"
   },
   {
    "duration": 71,
    "start_time": "2022-11-03T13:10:33.001Z"
   },
   {
    "duration": 14,
    "start_time": "2022-11-03T13:10:33.074Z"
   },
   {
    "duration": 30,
    "start_time": "2022-11-03T13:10:33.091Z"
   },
   {
    "duration": 3,
    "start_time": "2022-11-03T13:10:33.123Z"
   },
   {
    "duration": 34,
    "start_time": "2022-11-03T13:10:33.128Z"
   },
   {
    "duration": 28,
    "start_time": "2022-11-03T13:10:33.164Z"
   },
   {
    "duration": 6,
    "start_time": "2022-11-03T13:10:33.194Z"
   },
   {
    "duration": 22,
    "start_time": "2022-11-03T13:10:33.202Z"
   },
   {
    "duration": 5,
    "start_time": "2022-11-03T13:10:33.227Z"
   },
   {
    "duration": 24,
    "start_time": "2022-11-03T13:10:33.234Z"
   },
   {
    "duration": 638,
    "start_time": "2022-11-03T13:10:33.260Z"
   },
   {
    "duration": 14,
    "start_time": "2022-11-03T13:10:33.900Z"
   },
   {
    "duration": 9,
    "start_time": "2022-11-03T13:10:33.916Z"
   },
   {
    "duration": 38,
    "start_time": "2022-11-03T13:10:33.926Z"
   },
   {
    "duration": 25,
    "start_time": "2022-11-03T13:10:33.966Z"
   },
   {
    "duration": 270,
    "start_time": "2022-11-03T13:10:33.992Z"
   },
   {
    "duration": 6,
    "start_time": "2022-11-03T13:10:34.263Z"
   },
   {
    "duration": 6,
    "start_time": "2022-11-03T13:10:34.271Z"
   },
   {
    "duration": 180,
    "start_time": "2022-11-03T13:10:34.278Z"
   },
   {
    "duration": 19,
    "start_time": "2022-11-03T13:10:34.460Z"
   },
   {
    "duration": 3,
    "start_time": "2022-11-03T13:10:34.480Z"
   },
   {
    "duration": 120,
    "start_time": "2022-11-03T13:10:34.485Z"
   },
   {
    "duration": 0,
    "start_time": "2022-11-03T13:10:34.607Z"
   },
   {
    "duration": 0,
    "start_time": "2022-11-03T13:10:34.608Z"
   },
   {
    "duration": 1200,
    "start_time": "2022-11-03T13:13:01.407Z"
   },
   {
    "duration": 123,
    "start_time": "2022-11-03T13:13:02.609Z"
   },
   {
    "duration": 14,
    "start_time": "2022-11-03T13:13:02.733Z"
   },
   {
    "duration": 43,
    "start_time": "2022-11-03T13:13:02.749Z"
   },
   {
    "duration": 3,
    "start_time": "2022-11-03T13:13:02.794Z"
   },
   {
    "duration": 32,
    "start_time": "2022-11-03T13:13:02.799Z"
   },
   {
    "duration": 24,
    "start_time": "2022-11-03T13:13:02.833Z"
   },
   {
    "duration": 15,
    "start_time": "2022-11-03T13:13:02.859Z"
   },
   {
    "duration": 29,
    "start_time": "2022-11-03T13:13:02.875Z"
   },
   {
    "duration": 14,
    "start_time": "2022-11-03T13:13:02.905Z"
   },
   {
    "duration": 40,
    "start_time": "2022-11-03T13:13:02.921Z"
   },
   {
    "duration": 591,
    "start_time": "2022-11-03T13:13:02.963Z"
   },
   {
    "duration": 13,
    "start_time": "2022-11-03T13:13:03.556Z"
   },
   {
    "duration": 7,
    "start_time": "2022-11-03T13:13:03.572Z"
   },
   {
    "duration": 15,
    "start_time": "2022-11-03T13:13:03.581Z"
   },
   {
    "duration": 23,
    "start_time": "2022-11-03T13:13:03.597Z"
   },
   {
    "duration": 275,
    "start_time": "2022-11-03T13:13:03.621Z"
   },
   {
    "duration": 6,
    "start_time": "2022-11-03T13:13:03.898Z"
   },
   {
    "duration": 15,
    "start_time": "2022-11-03T13:13:03.905Z"
   },
   {
    "duration": 169,
    "start_time": "2022-11-03T13:13:03.922Z"
   },
   {
    "duration": 20,
    "start_time": "2022-11-03T13:13:04.093Z"
   },
   {
    "duration": 8,
    "start_time": "2022-11-03T13:13:04.115Z"
   },
   {
    "duration": 117,
    "start_time": "2022-11-03T13:13:04.125Z"
   },
   {
    "duration": 0,
    "start_time": "2022-11-03T13:13:04.244Z"
   },
   {
    "duration": 0,
    "start_time": "2022-11-03T13:13:04.245Z"
   },
   {
    "duration": 1158,
    "start_time": "2022-11-03T13:13:50.967Z"
   },
   {
    "duration": 73,
    "start_time": "2022-11-03T13:13:52.127Z"
   },
   {
    "duration": 15,
    "start_time": "2022-11-03T13:13:52.202Z"
   },
   {
    "duration": 42,
    "start_time": "2022-11-03T13:13:52.219Z"
   },
   {
    "duration": 3,
    "start_time": "2022-11-03T13:13:52.263Z"
   },
   {
    "duration": 37,
    "start_time": "2022-11-03T13:13:52.267Z"
   },
   {
    "duration": 15,
    "start_time": "2022-11-03T13:13:52.306Z"
   },
   {
    "duration": 507,
    "start_time": "2022-11-03T13:13:52.323Z"
   },
   {
    "duration": 0,
    "start_time": "2022-11-03T13:13:52.833Z"
   },
   {
    "duration": 0,
    "start_time": "2022-11-03T13:13:52.834Z"
   },
   {
    "duration": 0,
    "start_time": "2022-11-03T13:13:52.836Z"
   },
   {
    "duration": 0,
    "start_time": "2022-11-03T13:13:52.837Z"
   },
   {
    "duration": 0,
    "start_time": "2022-11-03T13:13:52.838Z"
   },
   {
    "duration": 0,
    "start_time": "2022-11-03T13:13:52.839Z"
   },
   {
    "duration": 0,
    "start_time": "2022-11-03T13:13:52.841Z"
   },
   {
    "duration": 0,
    "start_time": "2022-11-03T13:13:52.842Z"
   },
   {
    "duration": 0,
    "start_time": "2022-11-03T13:13:52.843Z"
   },
   {
    "duration": 0,
    "start_time": "2022-11-03T13:13:52.844Z"
   },
   {
    "duration": 0,
    "start_time": "2022-11-03T13:13:52.845Z"
   },
   {
    "duration": 0,
    "start_time": "2022-11-03T13:13:52.846Z"
   },
   {
    "duration": 0,
    "start_time": "2022-11-03T13:13:52.847Z"
   },
   {
    "duration": 0,
    "start_time": "2022-11-03T13:13:52.848Z"
   },
   {
    "duration": 0,
    "start_time": "2022-11-03T13:13:52.849Z"
   },
   {
    "duration": 0,
    "start_time": "2022-11-03T13:13:52.850Z"
   },
   {
    "duration": 0,
    "start_time": "2022-11-03T13:13:52.851Z"
   },
   {
    "duration": 0,
    "start_time": "2022-11-03T13:13:52.852Z"
   },
   {
    "duration": 1170,
    "start_time": "2022-11-03T13:14:56.435Z"
   },
   {
    "duration": 72,
    "start_time": "2022-11-03T13:14:57.607Z"
   },
   {
    "duration": 14,
    "start_time": "2022-11-03T13:14:57.683Z"
   },
   {
    "duration": 30,
    "start_time": "2022-11-03T13:14:57.699Z"
   },
   {
    "duration": 23,
    "start_time": "2022-11-03T13:14:57.731Z"
   },
   {
    "duration": 13,
    "start_time": "2022-11-03T13:14:57.756Z"
   },
   {
    "duration": 22,
    "start_time": "2022-11-03T13:14:57.771Z"
   },
   {
    "duration": 117,
    "start_time": "2022-11-03T13:14:57.795Z"
   },
   {
    "duration": 0,
    "start_time": "2022-11-03T13:14:57.915Z"
   },
   {
    "duration": 0,
    "start_time": "2022-11-03T13:14:57.916Z"
   },
   {
    "duration": 0,
    "start_time": "2022-11-03T13:14:57.917Z"
   },
   {
    "duration": 0,
    "start_time": "2022-11-03T13:14:57.918Z"
   },
   {
    "duration": 0,
    "start_time": "2022-11-03T13:14:57.919Z"
   },
   {
    "duration": 0,
    "start_time": "2022-11-03T13:14:57.920Z"
   },
   {
    "duration": 0,
    "start_time": "2022-11-03T13:14:57.920Z"
   },
   {
    "duration": 0,
    "start_time": "2022-11-03T13:14:57.922Z"
   },
   {
    "duration": 0,
    "start_time": "2022-11-03T13:14:57.923Z"
   },
   {
    "duration": 0,
    "start_time": "2022-11-03T13:14:57.924Z"
   },
   {
    "duration": 0,
    "start_time": "2022-11-03T13:14:57.925Z"
   },
   {
    "duration": 0,
    "start_time": "2022-11-03T13:14:57.926Z"
   },
   {
    "duration": 0,
    "start_time": "2022-11-03T13:14:57.927Z"
   },
   {
    "duration": 0,
    "start_time": "2022-11-03T13:14:57.928Z"
   },
   {
    "duration": 0,
    "start_time": "2022-11-03T13:14:57.929Z"
   },
   {
    "duration": 0,
    "start_time": "2022-11-03T13:14:57.930Z"
   },
   {
    "duration": 0,
    "start_time": "2022-11-03T13:14:57.931Z"
   },
   {
    "duration": 0,
    "start_time": "2022-11-03T13:14:57.954Z"
   },
   {
    "duration": 1229,
    "start_time": "2022-11-03T13:15:41.709Z"
   },
   {
    "duration": 72,
    "start_time": "2022-11-03T13:15:42.940Z"
   },
   {
    "duration": 15,
    "start_time": "2022-11-03T13:15:43.013Z"
   },
   {
    "duration": 59,
    "start_time": "2022-11-03T13:15:43.030Z"
   },
   {
    "duration": 3,
    "start_time": "2022-11-03T13:15:43.091Z"
   },
   {
    "duration": 52,
    "start_time": "2022-11-03T13:15:43.096Z"
   },
   {
    "duration": 30,
    "start_time": "2022-11-03T13:15:43.150Z"
   },
   {
    "duration": 16,
    "start_time": "2022-11-03T13:15:43.182Z"
   },
   {
    "duration": 44,
    "start_time": "2022-11-03T13:15:43.199Z"
   },
   {
    "duration": 17,
    "start_time": "2022-11-03T13:15:43.246Z"
   },
   {
    "duration": 31,
    "start_time": "2022-11-03T13:15:43.264Z"
   },
   {
    "duration": 658,
    "start_time": "2022-11-03T13:15:43.297Z"
   },
   {
    "duration": 12,
    "start_time": "2022-11-03T13:15:43.957Z"
   },
   {
    "duration": 30,
    "start_time": "2022-11-03T13:15:43.971Z"
   },
   {
    "duration": 22,
    "start_time": "2022-11-03T13:15:44.002Z"
   },
   {
    "duration": 42,
    "start_time": "2022-11-03T13:15:44.025Z"
   },
   {
    "duration": 237,
    "start_time": "2022-11-03T13:15:44.070Z"
   },
   {
    "duration": 0,
    "start_time": "2022-11-03T13:15:44.309Z"
   },
   {
    "duration": 0,
    "start_time": "2022-11-03T13:15:44.310Z"
   },
   {
    "duration": 0,
    "start_time": "2022-11-03T13:15:44.311Z"
   },
   {
    "duration": 0,
    "start_time": "2022-11-03T13:15:44.312Z"
   },
   {
    "duration": 0,
    "start_time": "2022-11-03T13:15:44.313Z"
   },
   {
    "duration": 0,
    "start_time": "2022-11-03T13:15:44.314Z"
   },
   {
    "duration": 0,
    "start_time": "2022-11-03T13:15:44.315Z"
   },
   {
    "duration": 0,
    "start_time": "2022-11-03T13:15:44.316Z"
   },
   {
    "duration": 1145,
    "start_time": "2022-11-03T13:20:44.068Z"
   },
   {
    "duration": 71,
    "start_time": "2022-11-03T13:20:45.215Z"
   },
   {
    "duration": 14,
    "start_time": "2022-11-03T13:20:45.287Z"
   },
   {
    "duration": 40,
    "start_time": "2022-11-03T13:20:45.303Z"
   },
   {
    "duration": 3,
    "start_time": "2022-11-03T13:20:45.344Z"
   },
   {
    "duration": 22,
    "start_time": "2022-11-03T13:20:45.353Z"
   },
   {
    "duration": 27,
    "start_time": "2022-11-03T13:20:45.377Z"
   },
   {
    "duration": 37,
    "start_time": "2022-11-03T13:20:45.405Z"
   },
   {
    "duration": 36,
    "start_time": "2022-11-03T13:20:45.444Z"
   },
   {
    "duration": 27,
    "start_time": "2022-11-03T13:20:45.483Z"
   },
   {
    "duration": 29,
    "start_time": "2022-11-03T13:20:45.512Z"
   },
   {
    "duration": 629,
    "start_time": "2022-11-03T13:20:45.543Z"
   },
   {
    "duration": 13,
    "start_time": "2022-11-03T13:20:46.174Z"
   },
   {
    "duration": 27,
    "start_time": "2022-11-03T13:20:46.188Z"
   },
   {
    "duration": 41,
    "start_time": "2022-11-03T13:20:46.217Z"
   },
   {
    "duration": 36,
    "start_time": "2022-11-03T13:20:46.260Z"
   },
   {
    "duration": 244,
    "start_time": "2022-11-03T13:20:46.298Z"
   },
   {
    "duration": 11,
    "start_time": "2022-11-03T13:20:46.543Z"
   },
   {
    "duration": 22,
    "start_time": "2022-11-03T13:20:46.555Z"
   },
   {
    "duration": 211,
    "start_time": "2022-11-03T13:20:46.579Z"
   },
   {
    "duration": 19,
    "start_time": "2022-11-03T13:20:46.792Z"
   },
   {
    "duration": 17,
    "start_time": "2022-11-03T13:20:46.813Z"
   },
   {
    "duration": 122,
    "start_time": "2022-11-03T13:20:46.831Z"
   },
   {
    "duration": 0,
    "start_time": "2022-11-03T13:20:46.955Z"
   },
   {
    "duration": 0,
    "start_time": "2022-11-03T13:20:46.956Z"
   },
   {
    "duration": 16,
    "start_time": "2022-11-03T13:21:16.999Z"
   },
   {
    "duration": 3637,
    "start_time": "2022-11-03T13:22:07.075Z"
   },
   {
    "duration": 223,
    "start_time": "2022-11-03T13:22:38.289Z"
   },
   {
    "duration": 3443,
    "start_time": "2022-11-03T13:22:49.420Z"
   },
   {
    "duration": 20,
    "start_time": "2022-11-03T13:23:30.174Z"
   },
   {
    "duration": 3628,
    "start_time": "2022-11-03T13:23:35.408Z"
   },
   {
    "duration": 217,
    "start_time": "2022-11-03T13:24:23.422Z"
   },
   {
    "duration": 3485,
    "start_time": "2022-11-03T13:24:34.240Z"
   },
   {
    "duration": 15,
    "start_time": "2022-11-03T13:25:52.039Z"
   },
   {
    "duration": 19,
    "start_time": "2022-11-03T13:27:20.468Z"
   },
   {
    "duration": 3510,
    "start_time": "2022-11-03T13:27:32.094Z"
   },
   {
    "duration": 1182,
    "start_time": "2022-11-03T13:30:27.137Z"
   },
   {
    "duration": 73,
    "start_time": "2022-11-03T13:30:28.321Z"
   },
   {
    "duration": 15,
    "start_time": "2022-11-03T13:30:28.396Z"
   },
   {
    "duration": 42,
    "start_time": "2022-11-03T13:30:28.413Z"
   },
   {
    "duration": 4,
    "start_time": "2022-11-03T13:30:28.456Z"
   },
   {
    "duration": 28,
    "start_time": "2022-11-03T13:30:28.461Z"
   },
   {
    "duration": 30,
    "start_time": "2022-11-03T13:30:28.490Z"
   },
   {
    "duration": 5,
    "start_time": "2022-11-03T13:30:28.522Z"
   },
   {
    "duration": 34,
    "start_time": "2022-11-03T13:30:28.529Z"
   },
   {
    "duration": 6,
    "start_time": "2022-11-03T13:30:28.718Z"
   },
   {
    "duration": 21,
    "start_time": "2022-11-03T13:30:28.726Z"
   },
   {
    "duration": 592,
    "start_time": "2022-11-03T13:30:29.026Z"
   },
   {
    "duration": 12,
    "start_time": "2022-11-03T13:30:29.620Z"
   },
   {
    "duration": 20,
    "start_time": "2022-11-03T13:30:29.634Z"
   },
   {
    "duration": 12,
    "start_time": "2022-11-03T13:30:31.026Z"
   },
   {
    "duration": 59,
    "start_time": "2022-11-03T13:30:31.040Z"
   },
   {
    "duration": 257,
    "start_time": "2022-11-03T13:30:31.101Z"
   },
   {
    "duration": 6,
    "start_time": "2022-11-03T13:30:31.360Z"
   },
   {
    "duration": 17,
    "start_time": "2022-11-03T13:30:31.368Z"
   },
   {
    "duration": 215,
    "start_time": "2022-11-03T13:30:31.387Z"
   },
   {
    "duration": 18,
    "start_time": "2022-11-03T13:30:31.993Z"
   },
   {
    "duration": 30,
    "start_time": "2022-11-03T13:30:32.014Z"
   },
   {
    "duration": 747,
    "start_time": "2022-11-03T13:30:32.046Z"
   },
   {
    "duration": 272,
    "start_time": "2022-11-03T13:31:43.450Z"
   },
   {
    "duration": 716,
    "start_time": "2022-11-03T13:31:57.139Z"
   },
   {
    "duration": 524,
    "start_time": "2022-11-03T13:32:22.472Z"
   },
   {
    "duration": 1139,
    "start_time": "2022-11-03T13:33:55.570Z"
   },
   {
    "duration": 77,
    "start_time": "2022-11-03T13:33:56.712Z"
   },
   {
    "duration": 15,
    "start_time": "2022-11-03T13:33:56.790Z"
   },
   {
    "duration": 29,
    "start_time": "2022-11-03T13:33:56.807Z"
   },
   {
    "duration": 18,
    "start_time": "2022-11-03T13:33:56.837Z"
   },
   {
    "duration": 21,
    "start_time": "2022-11-03T13:33:56.856Z"
   },
   {
    "duration": 10,
    "start_time": "2022-11-03T13:33:56.879Z"
   },
   {
    "duration": 6,
    "start_time": "2022-11-03T13:33:56.890Z"
   },
   {
    "duration": 25,
    "start_time": "2022-11-03T13:33:56.898Z"
   },
   {
    "duration": 5,
    "start_time": "2022-11-03T13:33:56.926Z"
   },
   {
    "duration": 24,
    "start_time": "2022-11-03T13:33:56.933Z"
   },
   {
    "duration": 581,
    "start_time": "2022-11-03T13:33:56.959Z"
   },
   {
    "duration": 22,
    "start_time": "2022-11-03T13:33:57.541Z"
   },
   {
    "duration": 10,
    "start_time": "2022-11-03T13:33:57.566Z"
   },
   {
    "duration": 17,
    "start_time": "2022-11-03T13:33:57.578Z"
   },
   {
    "duration": 25,
    "start_time": "2022-11-03T13:33:57.596Z"
   },
   {
    "duration": 246,
    "start_time": "2022-11-03T13:33:57.653Z"
   },
   {
    "duration": 6,
    "start_time": "2022-11-03T13:33:57.900Z"
   },
   {
    "duration": 9,
    "start_time": "2022-11-03T13:33:57.908Z"
   },
   {
    "duration": 174,
    "start_time": "2022-11-03T13:33:57.918Z"
   },
   {
    "duration": 19,
    "start_time": "2022-11-03T13:33:58.093Z"
   },
   {
    "duration": 486,
    "start_time": "2022-11-03T13:33:58.113Z"
   },
   {
    "duration": 15,
    "start_time": "2022-11-03T13:33:58.601Z"
   },
   {
    "duration": 743,
    "start_time": "2022-11-03T13:33:58.618Z"
   },
   {
    "duration": 1280,
    "start_time": "2022-11-03T13:47:28.478Z"
   },
   {
    "duration": 247,
    "start_time": "2022-11-03T13:47:57.633Z"
   },
   {
    "duration": 25,
    "start_time": "2022-11-03T13:57:00.172Z"
   },
   {
    "duration": 5,
    "start_time": "2022-11-03T13:58:06.018Z"
   },
   {
    "duration": 281,
    "start_time": "2022-11-03T13:58:11.473Z"
   },
   {
    "duration": 175,
    "start_time": "2022-11-03T14:00:05.473Z"
   },
   {
    "duration": 1221,
    "start_time": "2022-11-03T14:00:20.319Z"
   },
   {
    "duration": 82,
    "start_time": "2022-11-03T14:00:21.544Z"
   },
   {
    "duration": 17,
    "start_time": "2022-11-03T14:00:21.628Z"
   },
   {
    "duration": 37,
    "start_time": "2022-11-03T14:00:21.648Z"
   },
   {
    "duration": 3,
    "start_time": "2022-11-03T14:00:21.688Z"
   },
   {
    "duration": 33,
    "start_time": "2022-11-03T14:00:21.693Z"
   },
   {
    "duration": 16,
    "start_time": "2022-11-03T14:00:21.727Z"
   },
   {
    "duration": 17,
    "start_time": "2022-11-03T14:00:21.745Z"
   },
   {
    "duration": 35,
    "start_time": "2022-11-03T14:00:21.764Z"
   },
   {
    "duration": 7,
    "start_time": "2022-11-03T14:00:21.802Z"
   },
   {
    "duration": 42,
    "start_time": "2022-11-03T14:00:21.811Z"
   },
   {
    "duration": 643,
    "start_time": "2022-11-03T14:00:21.855Z"
   },
   {
    "duration": 13,
    "start_time": "2022-11-03T14:00:22.500Z"
   },
   {
    "duration": 8,
    "start_time": "2022-11-03T14:00:22.516Z"
   },
   {
    "duration": 36,
    "start_time": "2022-11-03T14:00:22.525Z"
   },
   {
    "duration": 25,
    "start_time": "2022-11-03T14:00:22.563Z"
   },
   {
    "duration": 297,
    "start_time": "2022-11-03T14:00:22.590Z"
   },
   {
    "duration": 272,
    "start_time": "2022-11-03T14:00:22.889Z"
   },
   {
    "duration": 116,
    "start_time": "2022-11-03T14:00:23.163Z"
   },
   {
    "duration": 0,
    "start_time": "2022-11-03T14:00:23.281Z"
   },
   {
    "duration": 0,
    "start_time": "2022-11-03T14:00:23.282Z"
   },
   {
    "duration": 0,
    "start_time": "2022-11-03T14:00:23.283Z"
   },
   {
    "duration": 0,
    "start_time": "2022-11-03T14:00:23.284Z"
   },
   {
    "duration": 22,
    "start_time": "2022-11-03T14:00:48.592Z"
   },
   {
    "duration": 474,
    "start_time": "2022-11-03T14:00:54.803Z"
   },
   {
    "duration": 10,
    "start_time": "2022-11-03T14:01:01.940Z"
   },
   {
    "duration": 16,
    "start_time": "2022-11-03T14:01:12.728Z"
   },
   {
    "duration": 13,
    "start_time": "2022-11-03T14:02:44.906Z"
   },
   {
    "duration": 1209,
    "start_time": "2022-11-03T14:02:53.721Z"
   },
   {
    "duration": 73,
    "start_time": "2022-11-03T14:02:54.932Z"
   },
   {
    "duration": 14,
    "start_time": "2022-11-03T14:02:55.007Z"
   },
   {
    "duration": 41,
    "start_time": "2022-11-03T14:02:55.023Z"
   },
   {
    "duration": 4,
    "start_time": "2022-11-03T14:02:55.065Z"
   },
   {
    "duration": 22,
    "start_time": "2022-11-03T14:02:55.071Z"
   },
   {
    "duration": 17,
    "start_time": "2022-11-03T14:02:55.095Z"
   },
   {
    "duration": 7,
    "start_time": "2022-11-03T14:02:55.114Z"
   },
   {
    "duration": 22,
    "start_time": "2022-11-03T14:02:55.122Z"
   },
   {
    "duration": 5,
    "start_time": "2022-11-03T14:02:55.155Z"
   },
   {
    "duration": 12,
    "start_time": "2022-11-03T14:02:55.161Z"
   },
   {
    "duration": 659,
    "start_time": "2022-11-03T14:02:55.174Z"
   },
   {
    "duration": 21,
    "start_time": "2022-11-03T14:02:55.835Z"
   },
   {
    "duration": 7,
    "start_time": "2022-11-03T14:02:55.858Z"
   },
   {
    "duration": 13,
    "start_time": "2022-11-03T14:02:55.867Z"
   },
   {
    "duration": 25,
    "start_time": "2022-11-03T14:02:55.881Z"
   },
   {
    "duration": 268,
    "start_time": "2022-11-03T14:02:55.907Z"
   },
   {
    "duration": 261,
    "start_time": "2022-11-03T14:02:56.177Z"
   },
   {
    "duration": 28,
    "start_time": "2022-11-03T14:02:56.439Z"
   },
   {
    "duration": 449,
    "start_time": "2022-11-03T14:02:56.469Z"
   },
   {
    "duration": 18,
    "start_time": "2022-11-03T14:02:56.920Z"
   },
   {
    "duration": 7,
    "start_time": "2022-11-03T14:02:56.954Z"
   },
   {
    "duration": 187,
    "start_time": "2022-11-03T14:02:56.963Z"
   },
   {
    "duration": 4,
    "start_time": "2022-11-03T14:04:54.466Z"
   },
   {
    "duration": 7,
    "start_time": "2022-11-03T14:05:02.170Z"
   },
   {
    "duration": 183,
    "start_time": "2022-11-03T14:05:05.008Z"
   },
   {
    "duration": 7,
    "start_time": "2022-11-03T14:05:33.061Z"
   },
   {
    "duration": 169,
    "start_time": "2022-11-03T14:05:34.859Z"
   },
   {
    "duration": 43,
    "start_time": "2022-11-04T17:19:58.922Z"
   },
   {
    "duration": 1185,
    "start_time": "2022-11-04T17:20:06.161Z"
   },
   {
    "duration": 231,
    "start_time": "2022-11-04T17:20:07.348Z"
   },
   {
    "duration": 17,
    "start_time": "2022-11-04T17:20:07.581Z"
   },
   {
    "duration": 27,
    "start_time": "2022-11-04T17:20:07.599Z"
   },
   {
    "duration": 3,
    "start_time": "2022-11-04T17:20:07.628Z"
   },
   {
    "duration": 15,
    "start_time": "2022-11-04T17:20:07.632Z"
   },
   {
    "duration": 14,
    "start_time": "2022-11-04T17:20:07.648Z"
   },
   {
    "duration": 6,
    "start_time": "2022-11-04T17:20:07.664Z"
   },
   {
    "duration": 40,
    "start_time": "2022-11-04T17:20:07.672Z"
   },
   {
    "duration": 5,
    "start_time": "2022-11-04T17:20:07.715Z"
   },
   {
    "duration": 11,
    "start_time": "2022-11-04T17:20:07.722Z"
   },
   {
    "duration": 636,
    "start_time": "2022-11-04T17:20:07.735Z"
   },
   {
    "duration": 10,
    "start_time": "2022-11-04T17:20:08.373Z"
   },
   {
    "duration": 6,
    "start_time": "2022-11-04T17:20:08.385Z"
   },
   {
    "duration": 21,
    "start_time": "2022-11-04T17:20:08.393Z"
   },
   {
    "duration": 21,
    "start_time": "2022-11-04T17:20:08.416Z"
   },
   {
    "duration": 241,
    "start_time": "2022-11-04T17:20:08.439Z"
   },
   {
    "duration": 237,
    "start_time": "2022-11-04T17:20:08.681Z"
   },
   {
    "duration": 20,
    "start_time": "2022-11-04T17:20:08.919Z"
   },
   {
    "duration": 453,
    "start_time": "2022-11-04T17:20:08.941Z"
   },
   {
    "duration": 20,
    "start_time": "2022-11-04T17:20:09.396Z"
   },
   {
    "duration": 5,
    "start_time": "2022-11-04T17:20:09.418Z"
   },
   {
    "duration": 171,
    "start_time": "2022-11-04T17:20:09.425Z"
   },
   {
    "duration": 100,
    "start_time": "2022-11-04T17:24:16.341Z"
   },
   {
    "duration": 1054,
    "start_time": "2022-11-04T17:24:21.046Z"
   },
   {
    "duration": 64,
    "start_time": "2022-11-04T17:24:22.102Z"
   },
   {
    "duration": 13,
    "start_time": "2022-11-04T17:24:22.168Z"
   },
   {
    "duration": 29,
    "start_time": "2022-11-04T17:24:22.183Z"
   },
   {
    "duration": 3,
    "start_time": "2022-11-04T17:24:22.213Z"
   },
   {
    "duration": 13,
    "start_time": "2022-11-04T17:24:22.217Z"
   },
   {
    "duration": 8,
    "start_time": "2022-11-04T17:24:22.232Z"
   },
   {
    "duration": 4,
    "start_time": "2022-11-04T17:24:22.241Z"
   },
   {
    "duration": 20,
    "start_time": "2022-11-04T17:24:22.247Z"
   },
   {
    "duration": 5,
    "start_time": "2022-11-04T17:24:22.270Z"
   },
   {
    "duration": 8,
    "start_time": "2022-11-04T17:24:22.306Z"
   },
   {
    "duration": 537,
    "start_time": "2022-11-04T17:24:22.315Z"
   },
   {
    "duration": 12,
    "start_time": "2022-11-04T17:24:22.853Z"
   },
   {
    "duration": 6,
    "start_time": "2022-11-04T17:24:22.866Z"
   },
   {
    "duration": 32,
    "start_time": "2022-11-04T17:24:22.873Z"
   },
   {
    "duration": 24,
    "start_time": "2022-11-04T17:24:22.907Z"
   },
   {
    "duration": 240,
    "start_time": "2022-11-04T17:24:22.933Z"
   },
   {
    "duration": 225,
    "start_time": "2022-11-04T17:24:23.175Z"
   },
   {
    "duration": 18,
    "start_time": "2022-11-04T17:24:23.402Z"
   },
   {
    "duration": 411,
    "start_time": "2022-11-04T17:24:23.421Z"
   },
   {
    "duration": 15,
    "start_time": "2022-11-04T17:24:23.834Z"
   },
   {
    "duration": 112,
    "start_time": "2022-11-04T17:24:23.851Z"
   },
   {
    "duration": 0,
    "start_time": "2022-11-04T17:24:23.965Z"
   },
   {
    "duration": 0,
    "start_time": "2022-11-04T17:24:23.966Z"
   },
   {
    "duration": 273,
    "start_time": "2022-11-04T17:24:53.832Z"
   },
   {
    "duration": 1104,
    "start_time": "2022-11-04T17:25:12.986Z"
   },
   {
    "duration": 63,
    "start_time": "2022-11-04T17:25:14.092Z"
   },
   {
    "duration": 12,
    "start_time": "2022-11-04T17:25:14.157Z"
   },
   {
    "duration": 26,
    "start_time": "2022-11-04T17:25:14.171Z"
   },
   {
    "duration": 5,
    "start_time": "2022-11-04T17:25:14.199Z"
   },
   {
    "duration": 22,
    "start_time": "2022-11-04T17:25:14.206Z"
   },
   {
    "duration": 16,
    "start_time": "2022-11-04T17:25:14.231Z"
   },
   {
    "duration": 4,
    "start_time": "2022-11-04T17:25:14.249Z"
   },
   {
    "duration": 24,
    "start_time": "2022-11-04T17:25:14.254Z"
   },
   {
    "duration": 5,
    "start_time": "2022-11-04T17:25:14.281Z"
   },
   {
    "duration": 18,
    "start_time": "2022-11-04T17:25:14.288Z"
   },
   {
    "duration": 533,
    "start_time": "2022-11-04T17:25:14.307Z"
   },
   {
    "duration": 12,
    "start_time": "2022-11-04T17:25:14.842Z"
   },
   {
    "duration": 6,
    "start_time": "2022-11-04T17:25:14.856Z"
   },
   {
    "duration": 11,
    "start_time": "2022-11-04T17:25:14.864Z"
   },
   {
    "duration": 48,
    "start_time": "2022-11-04T17:25:14.876Z"
   },
   {
    "duration": 234,
    "start_time": "2022-11-04T17:25:14.925Z"
   },
   {
    "duration": 235,
    "start_time": "2022-11-04T17:25:15.160Z"
   },
   {
    "duration": 24,
    "start_time": "2022-11-04T17:25:15.397Z"
   },
   {
    "duration": 398,
    "start_time": "2022-11-04T17:25:15.422Z"
   },
   {
    "duration": 15,
    "start_time": "2022-11-04T17:25:15.821Z"
   },
   {
    "duration": 365,
    "start_time": "2022-11-04T17:25:15.837Z"
   },
   {
    "duration": 0,
    "start_time": "2022-11-04T17:25:16.205Z"
   },
   {
    "duration": 0,
    "start_time": "2022-11-04T17:25:16.206Z"
   },
   {
    "duration": 1066,
    "start_time": "2022-11-04T17:27:07.737Z"
   },
   {
    "duration": 66,
    "start_time": "2022-11-04T17:27:08.805Z"
   },
   {
    "duration": 12,
    "start_time": "2022-11-04T17:27:08.873Z"
   },
   {
    "duration": 27,
    "start_time": "2022-11-04T17:27:08.886Z"
   },
   {
    "duration": 3,
    "start_time": "2022-11-04T17:27:08.915Z"
   },
   {
    "duration": 15,
    "start_time": "2022-11-04T17:27:08.920Z"
   },
   {
    "duration": 10,
    "start_time": "2022-11-04T17:27:08.937Z"
   },
   {
    "duration": 5,
    "start_time": "2022-11-04T17:27:08.949Z"
   },
   {
    "duration": 19,
    "start_time": "2022-11-04T17:27:08.956Z"
   },
   {
    "duration": 28,
    "start_time": "2022-11-04T17:27:08.978Z"
   },
   {
    "duration": 8,
    "start_time": "2022-11-04T17:27:09.007Z"
   },
   {
    "duration": 546,
    "start_time": "2022-11-04T17:27:09.017Z"
   },
   {
    "duration": 11,
    "start_time": "2022-11-04T17:27:09.564Z"
   },
   {
    "duration": 7,
    "start_time": "2022-11-04T17:27:09.576Z"
   },
   {
    "duration": 26,
    "start_time": "2022-11-04T17:27:09.584Z"
   },
   {
    "duration": 22,
    "start_time": "2022-11-04T17:27:09.611Z"
   },
   {
    "duration": 229,
    "start_time": "2022-11-04T17:27:09.634Z"
   },
   {
    "duration": 242,
    "start_time": "2022-11-04T17:27:09.865Z"
   },
   {
    "duration": 19,
    "start_time": "2022-11-04T17:27:10.108Z"
   },
   {
    "duration": 433,
    "start_time": "2022-11-04T17:27:10.129Z"
   },
   {
    "duration": 14,
    "start_time": "2022-11-04T17:27:10.563Z"
   },
   {
    "duration": 5,
    "start_time": "2022-11-04T17:27:10.579Z"
   },
   {
    "duration": 125,
    "start_time": "2022-11-04T17:27:10.585Z"
   },
   {
    "duration": 168,
    "start_time": "2022-11-04T17:27:19.399Z"
   },
   {
    "duration": 160,
    "start_time": "2022-11-04T17:27:43.168Z"
   },
   {
    "duration": 14,
    "start_time": "2022-11-04T17:33:06.450Z"
   },
   {
    "duration": 157,
    "start_time": "2022-11-04T17:35:05.807Z"
   },
   {
    "duration": 1073,
    "start_time": "2022-11-04T17:39:41.821Z"
   },
   {
    "duration": 64,
    "start_time": "2022-11-04T17:39:42.896Z"
   },
   {
    "duration": 12,
    "start_time": "2022-11-04T17:39:42.962Z"
   },
   {
    "duration": 24,
    "start_time": "2022-11-04T17:39:42.975Z"
   },
   {
    "duration": 2,
    "start_time": "2022-11-04T17:39:43.001Z"
   },
   {
    "duration": 12,
    "start_time": "2022-11-04T17:39:43.005Z"
   },
   {
    "duration": 8,
    "start_time": "2022-11-04T17:39:43.018Z"
   },
   {
    "duration": 5,
    "start_time": "2022-11-04T17:39:43.027Z"
   },
   {
    "duration": 88,
    "start_time": "2022-11-04T17:39:43.033Z"
   },
   {
    "duration": 0,
    "start_time": "2022-11-04T17:39:43.123Z"
   },
   {
    "duration": 0,
    "start_time": "2022-11-04T17:39:43.124Z"
   },
   {
    "duration": 0,
    "start_time": "2022-11-04T17:39:43.125Z"
   },
   {
    "duration": 0,
    "start_time": "2022-11-04T17:39:43.126Z"
   },
   {
    "duration": 0,
    "start_time": "2022-11-04T17:39:43.127Z"
   },
   {
    "duration": 0,
    "start_time": "2022-11-04T17:39:43.128Z"
   },
   {
    "duration": 0,
    "start_time": "2022-11-04T17:39:43.129Z"
   },
   {
    "duration": 0,
    "start_time": "2022-11-04T17:39:43.130Z"
   },
   {
    "duration": 0,
    "start_time": "2022-11-04T17:39:43.131Z"
   },
   {
    "duration": 0,
    "start_time": "2022-11-04T17:39:43.132Z"
   },
   {
    "duration": 0,
    "start_time": "2022-11-04T17:39:43.132Z"
   },
   {
    "duration": 0,
    "start_time": "2022-11-04T17:39:43.133Z"
   },
   {
    "duration": 0,
    "start_time": "2022-11-04T17:39:43.134Z"
   },
   {
    "duration": 0,
    "start_time": "2022-11-04T17:39:43.135Z"
   },
   {
    "duration": 0,
    "start_time": "2022-11-04T17:39:43.136Z"
   },
   {
    "duration": 0,
    "start_time": "2022-11-04T17:39:43.137Z"
   },
   {
    "duration": 1150,
    "start_time": "2022-11-04T17:40:01.776Z"
   },
   {
    "duration": 67,
    "start_time": "2022-11-04T17:40:02.928Z"
   },
   {
    "duration": 14,
    "start_time": "2022-11-04T17:40:02.997Z"
   },
   {
    "duration": 25,
    "start_time": "2022-11-04T17:40:03.013Z"
   },
   {
    "duration": 3,
    "start_time": "2022-11-04T17:40:03.040Z"
   },
   {
    "duration": 13,
    "start_time": "2022-11-04T17:40:03.044Z"
   },
   {
    "duration": 8,
    "start_time": "2022-11-04T17:40:03.058Z"
   },
   {
    "duration": 5,
    "start_time": "2022-11-04T17:40:03.067Z"
   },
   {
    "duration": 42,
    "start_time": "2022-11-04T17:40:03.073Z"
   },
   {
    "duration": 5,
    "start_time": "2022-11-04T17:40:03.117Z"
   },
   {
    "duration": 10,
    "start_time": "2022-11-04T17:40:03.123Z"
   },
   {
    "duration": 574,
    "start_time": "2022-11-04T17:40:03.134Z"
   },
   {
    "duration": 11,
    "start_time": "2022-11-04T17:40:03.710Z"
   },
   {
    "duration": 7,
    "start_time": "2022-11-04T17:40:03.723Z"
   },
   {
    "duration": 12,
    "start_time": "2022-11-04T17:40:03.731Z"
   },
   {
    "duration": 22,
    "start_time": "2022-11-04T17:40:03.744Z"
   },
   {
    "duration": 247,
    "start_time": "2022-11-04T17:40:03.767Z"
   },
   {
    "duration": 226,
    "start_time": "2022-11-04T17:40:04.016Z"
   },
   {
    "duration": 19,
    "start_time": "2022-11-04T17:40:04.243Z"
   },
   {
    "duration": 424,
    "start_time": "2022-11-04T17:40:04.264Z"
   },
   {
    "duration": 21,
    "start_time": "2022-11-04T17:40:04.689Z"
   },
   {
    "duration": 6,
    "start_time": "2022-11-04T17:40:04.712Z"
   },
   {
    "duration": 162,
    "start_time": "2022-11-04T17:40:04.719Z"
   },
   {
    "duration": 13,
    "start_time": "2022-11-04T17:40:04.882Z"
   },
   {
    "duration": 162,
    "start_time": "2022-11-04T17:40:04.906Z"
   },
   {
    "duration": 1100,
    "start_time": "2022-11-04T17:40:51.803Z"
   },
   {
    "duration": 66,
    "start_time": "2022-11-04T17:40:52.905Z"
   },
   {
    "duration": 13,
    "start_time": "2022-11-04T17:40:52.973Z"
   },
   {
    "duration": 26,
    "start_time": "2022-11-04T17:40:52.987Z"
   },
   {
    "duration": 2,
    "start_time": "2022-11-04T17:40:53.015Z"
   },
   {
    "duration": 13,
    "start_time": "2022-11-04T17:40:53.019Z"
   },
   {
    "duration": 8,
    "start_time": "2022-11-04T17:40:53.033Z"
   },
   {
    "duration": 5,
    "start_time": "2022-11-04T17:40:53.042Z"
   },
   {
    "duration": 17,
    "start_time": "2022-11-04T17:40:53.048Z"
   },
   {
    "duration": 15,
    "start_time": "2022-11-04T17:40:53.067Z"
   },
   {
    "duration": 28,
    "start_time": "2022-11-04T17:40:53.083Z"
   },
   {
    "duration": 520,
    "start_time": "2022-11-04T17:40:53.112Z"
   },
   {
    "duration": 11,
    "start_time": "2022-11-04T17:40:53.634Z"
   },
   {
    "duration": 6,
    "start_time": "2022-11-04T17:40:53.648Z"
   },
   {
    "duration": 11,
    "start_time": "2022-11-04T17:40:53.655Z"
   },
   {
    "duration": 46,
    "start_time": "2022-11-04T17:40:53.667Z"
   },
   {
    "duration": 220,
    "start_time": "2022-11-04T17:40:53.715Z"
   },
   {
    "duration": 241,
    "start_time": "2022-11-04T17:40:53.937Z"
   },
   {
    "duration": 27,
    "start_time": "2022-11-04T17:40:54.179Z"
   },
   {
    "duration": 411,
    "start_time": "2022-11-04T17:40:54.208Z"
   },
   {
    "duration": 13,
    "start_time": "2022-11-04T17:40:54.621Z"
   },
   {
    "duration": 5,
    "start_time": "2022-11-04T17:40:54.636Z"
   },
   {
    "duration": 162,
    "start_time": "2022-11-04T17:40:54.643Z"
   },
   {
    "duration": 13,
    "start_time": "2022-11-04T17:40:54.807Z"
   },
   {
    "duration": 162,
    "start_time": "2022-11-04T17:40:54.821Z"
   },
   {
    "duration": 1026,
    "start_time": "2022-11-04T17:42:53.069Z"
   },
   {
    "duration": 65,
    "start_time": "2022-11-04T17:42:54.097Z"
   },
   {
    "duration": 13,
    "start_time": "2022-11-04T17:42:54.163Z"
   },
   {
    "duration": 25,
    "start_time": "2022-11-04T17:42:54.177Z"
   },
   {
    "duration": 3,
    "start_time": "2022-11-04T17:42:54.204Z"
   },
   {
    "duration": 12,
    "start_time": "2022-11-04T17:42:54.208Z"
   },
   {
    "duration": 7,
    "start_time": "2022-11-04T17:42:54.222Z"
   },
   {
    "duration": 5,
    "start_time": "2022-11-04T17:42:54.231Z"
   },
   {
    "duration": 110,
    "start_time": "2022-11-04T17:42:54.237Z"
   },
   {
    "duration": 0,
    "start_time": "2022-11-04T17:42:54.349Z"
   },
   {
    "duration": 0,
    "start_time": "2022-11-04T17:42:54.351Z"
   },
   {
    "duration": 0,
    "start_time": "2022-11-04T17:42:54.352Z"
   },
   {
    "duration": 0,
    "start_time": "2022-11-04T17:42:54.353Z"
   },
   {
    "duration": 1,
    "start_time": "2022-11-04T17:42:54.353Z"
   },
   {
    "duration": 0,
    "start_time": "2022-11-04T17:42:54.354Z"
   },
   {
    "duration": 0,
    "start_time": "2022-11-04T17:42:54.355Z"
   },
   {
    "duration": 0,
    "start_time": "2022-11-04T17:42:54.356Z"
   },
   {
    "duration": 0,
    "start_time": "2022-11-04T17:42:54.358Z"
   },
   {
    "duration": 0,
    "start_time": "2022-11-04T17:42:54.358Z"
   },
   {
    "duration": 0,
    "start_time": "2022-11-04T17:42:54.359Z"
   },
   {
    "duration": 0,
    "start_time": "2022-11-04T17:42:54.361Z"
   },
   {
    "duration": 0,
    "start_time": "2022-11-04T17:42:54.362Z"
   },
   {
    "duration": 0,
    "start_time": "2022-11-04T17:42:54.363Z"
   },
   {
    "duration": 0,
    "start_time": "2022-11-04T17:42:54.364Z"
   },
   {
    "duration": 0,
    "start_time": "2022-11-04T17:42:54.364Z"
   },
   {
    "duration": 1082,
    "start_time": "2022-11-04T17:43:45.519Z"
   },
   {
    "duration": 65,
    "start_time": "2022-11-04T17:43:46.603Z"
   },
   {
    "duration": 13,
    "start_time": "2022-11-04T17:43:46.669Z"
   },
   {
    "duration": 27,
    "start_time": "2022-11-04T17:43:46.684Z"
   },
   {
    "duration": 3,
    "start_time": "2022-11-04T17:43:46.712Z"
   },
   {
    "duration": 15,
    "start_time": "2022-11-04T17:43:46.716Z"
   },
   {
    "duration": 8,
    "start_time": "2022-11-04T17:43:46.732Z"
   },
   {
    "duration": 11,
    "start_time": "2022-11-04T17:43:46.741Z"
   },
   {
    "duration": 104,
    "start_time": "2022-11-04T17:43:46.753Z"
   },
   {
    "duration": 0,
    "start_time": "2022-11-04T17:43:46.859Z"
   },
   {
    "duration": 0,
    "start_time": "2022-11-04T17:43:46.860Z"
   },
   {
    "duration": 0,
    "start_time": "2022-11-04T17:43:46.861Z"
   },
   {
    "duration": 0,
    "start_time": "2022-11-04T17:43:46.862Z"
   },
   {
    "duration": 0,
    "start_time": "2022-11-04T17:43:46.863Z"
   },
   {
    "duration": 0,
    "start_time": "2022-11-04T17:43:46.864Z"
   },
   {
    "duration": 0,
    "start_time": "2022-11-04T17:43:46.864Z"
   },
   {
    "duration": 0,
    "start_time": "2022-11-04T17:43:46.865Z"
   },
   {
    "duration": 0,
    "start_time": "2022-11-04T17:43:46.866Z"
   },
   {
    "duration": 0,
    "start_time": "2022-11-04T17:43:46.867Z"
   },
   {
    "duration": 0,
    "start_time": "2022-11-04T17:43:46.868Z"
   },
   {
    "duration": 0,
    "start_time": "2022-11-04T17:43:46.869Z"
   },
   {
    "duration": 0,
    "start_time": "2022-11-04T17:43:46.869Z"
   },
   {
    "duration": 0,
    "start_time": "2022-11-04T17:43:46.871Z"
   },
   {
    "duration": 0,
    "start_time": "2022-11-04T17:43:46.872Z"
   },
   {
    "duration": 0,
    "start_time": "2022-11-04T17:43:46.873Z"
   },
   {
    "duration": 11,
    "start_time": "2022-11-04T17:44:35.401Z"
   },
   {
    "duration": 10,
    "start_time": "2022-11-04T17:44:54.302Z"
   },
   {
    "duration": 1753,
    "start_time": "2022-11-04T17:45:52.554Z"
   },
   {
    "duration": 6,
    "start_time": "2022-11-04T17:46:01.800Z"
   },
   {
    "duration": 1104,
    "start_time": "2022-11-04T17:46:06.627Z"
   },
   {
    "duration": 67,
    "start_time": "2022-11-04T17:46:07.732Z"
   },
   {
    "duration": 14,
    "start_time": "2022-11-04T17:46:07.800Z"
   },
   {
    "duration": 27,
    "start_time": "2022-11-04T17:46:07.816Z"
   },
   {
    "duration": 3,
    "start_time": "2022-11-04T17:46:07.845Z"
   },
   {
    "duration": 15,
    "start_time": "2022-11-04T17:46:07.849Z"
   },
   {
    "duration": 10,
    "start_time": "2022-11-04T17:46:07.866Z"
   },
   {
    "duration": 28,
    "start_time": "2022-11-04T17:46:07.878Z"
   },
   {
    "duration": 1755,
    "start_time": "2022-11-04T17:46:07.908Z"
   },
   {
    "duration": 42,
    "start_time": "2022-11-04T17:46:09.666Z"
   },
   {
    "duration": 15,
    "start_time": "2022-11-04T17:46:09.710Z"
   },
   {
    "duration": 580,
    "start_time": "2022-11-04T17:46:09.727Z"
   },
   {
    "duration": 12,
    "start_time": "2022-11-04T17:46:10.308Z"
   },
   {
    "duration": 6,
    "start_time": "2022-11-04T17:46:10.322Z"
   },
   {
    "duration": 11,
    "start_time": "2022-11-04T17:46:10.330Z"
   },
   {
    "duration": 22,
    "start_time": "2022-11-04T17:46:10.342Z"
   },
   {
    "duration": 248,
    "start_time": "2022-11-04T17:46:10.366Z"
   },
   {
    "duration": 227,
    "start_time": "2022-11-04T17:46:10.615Z"
   },
   {
    "duration": 20,
    "start_time": "2022-11-04T17:46:10.844Z"
   },
   {
    "duration": 494,
    "start_time": "2022-11-04T17:46:10.865Z"
   },
   {
    "duration": 14,
    "start_time": "2022-11-04T17:46:11.361Z"
   },
   {
    "duration": 5,
    "start_time": "2022-11-04T17:46:11.376Z"
   },
   {
    "duration": 170,
    "start_time": "2022-11-04T17:46:11.383Z"
   },
   {
    "duration": 14,
    "start_time": "2022-11-04T17:46:11.555Z"
   },
   {
    "duration": 179,
    "start_time": "2022-11-04T17:46:11.571Z"
   },
   {
    "duration": 4,
    "start_time": "2022-11-04T17:46:55.813Z"
   },
   {
    "duration": 10,
    "start_time": "2022-11-04T17:47:00.390Z"
   },
   {
    "duration": 4,
    "start_time": "2022-11-04T17:47:03.010Z"
   },
   {
    "duration": 1121,
    "start_time": "2022-11-04T17:47:08.103Z"
   },
   {
    "duration": 66,
    "start_time": "2022-11-04T17:47:09.226Z"
   },
   {
    "duration": 13,
    "start_time": "2022-11-04T17:47:09.293Z"
   },
   {
    "duration": 25,
    "start_time": "2022-11-04T17:47:09.308Z"
   },
   {
    "duration": 3,
    "start_time": "2022-11-04T17:47:09.335Z"
   },
   {
    "duration": 13,
    "start_time": "2022-11-04T17:47:09.339Z"
   },
   {
    "duration": 8,
    "start_time": "2022-11-04T17:47:09.353Z"
   },
   {
    "duration": 4,
    "start_time": "2022-11-04T17:47:09.363Z"
   },
   {
    "duration": 15,
    "start_time": "2022-11-04T17:47:09.368Z"
   },
   {
    "duration": 22,
    "start_time": "2022-11-04T17:47:09.385Z"
   },
   {
    "duration": 7,
    "start_time": "2022-11-04T17:47:09.409Z"
   },
   {
    "duration": 538,
    "start_time": "2022-11-04T17:47:09.417Z"
   },
   {
    "duration": 10,
    "start_time": "2022-11-04T17:47:09.957Z"
   },
   {
    "duration": 6,
    "start_time": "2022-11-04T17:47:09.970Z"
   },
   {
    "duration": 11,
    "start_time": "2022-11-04T17:47:09.977Z"
   },
   {
    "duration": 22,
    "start_time": "2022-11-04T17:47:10.005Z"
   },
   {
    "duration": 245,
    "start_time": "2022-11-04T17:47:10.029Z"
   },
   {
    "duration": 232,
    "start_time": "2022-11-04T17:47:10.275Z"
   },
   {
    "duration": 19,
    "start_time": "2022-11-04T17:47:10.508Z"
   },
   {
    "duration": 375,
    "start_time": "2022-11-04T17:47:10.528Z"
   },
   {
    "duration": 13,
    "start_time": "2022-11-04T17:47:10.904Z"
   },
   {
    "duration": 15,
    "start_time": "2022-11-04T17:47:10.919Z"
   },
   {
    "duration": 163,
    "start_time": "2022-11-04T17:47:10.935Z"
   },
   {
    "duration": 16,
    "start_time": "2022-11-04T17:47:11.100Z"
   },
   {
    "duration": 164,
    "start_time": "2022-11-04T17:47:11.118Z"
   },
   {
    "duration": 1081,
    "start_time": "2022-11-04T17:48:28.336Z"
   },
   {
    "duration": 68,
    "start_time": "2022-11-04T17:48:29.419Z"
   },
   {
    "duration": 12,
    "start_time": "2022-11-04T17:48:29.489Z"
   },
   {
    "duration": 28,
    "start_time": "2022-11-04T17:48:29.503Z"
   },
   {
    "duration": 3,
    "start_time": "2022-11-04T17:48:29.532Z"
   },
   {
    "duration": 13,
    "start_time": "2022-11-04T17:48:29.537Z"
   },
   {
    "duration": 9,
    "start_time": "2022-11-04T17:48:29.552Z"
   },
   {
    "duration": 5,
    "start_time": "2022-11-04T17:48:29.562Z"
   },
   {
    "duration": 10,
    "start_time": "2022-11-04T17:48:29.568Z"
   },
   {
    "duration": 13,
    "start_time": "2022-11-04T17:48:29.580Z"
   },
   {
    "duration": 10,
    "start_time": "2022-11-04T17:48:29.605Z"
   },
   {
    "duration": 568,
    "start_time": "2022-11-04T17:48:29.617Z"
   },
   {
    "duration": 13,
    "start_time": "2022-11-04T17:48:30.186Z"
   },
   {
    "duration": 19,
    "start_time": "2022-11-04T17:48:30.205Z"
   },
   {
    "duration": 19,
    "start_time": "2022-11-04T17:48:30.226Z"
   },
   {
    "duration": 31,
    "start_time": "2022-11-04T17:48:30.246Z"
   },
   {
    "duration": 227,
    "start_time": "2022-11-04T17:48:30.279Z"
   },
   {
    "duration": 228,
    "start_time": "2022-11-04T17:48:30.508Z"
   },
   {
    "duration": 19,
    "start_time": "2022-11-04T17:48:30.737Z"
   },
   {
    "duration": 450,
    "start_time": "2022-11-04T17:48:30.757Z"
   },
   {
    "duration": 15,
    "start_time": "2022-11-04T17:48:31.208Z"
   },
   {
    "duration": 6,
    "start_time": "2022-11-04T17:48:31.224Z"
   },
   {
    "duration": 170,
    "start_time": "2022-11-04T17:48:31.231Z"
   },
   {
    "duration": 13,
    "start_time": "2022-11-04T17:48:31.405Z"
   },
   {
    "duration": 159,
    "start_time": "2022-11-04T17:48:31.420Z"
   },
   {
    "duration": 5,
    "start_time": "2022-11-04T17:48:59.974Z"
   },
   {
    "duration": 5,
    "start_time": "2022-11-04T17:49:00.630Z"
   },
   {
    "duration": 1082,
    "start_time": "2022-11-04T17:49:05.019Z"
   },
   {
    "duration": 67,
    "start_time": "2022-11-04T17:49:06.103Z"
   },
   {
    "duration": 13,
    "start_time": "2022-11-04T17:49:06.172Z"
   },
   {
    "duration": 34,
    "start_time": "2022-11-04T17:49:06.187Z"
   },
   {
    "duration": 5,
    "start_time": "2022-11-04T17:49:06.223Z"
   },
   {
    "duration": 28,
    "start_time": "2022-11-04T17:49:06.231Z"
   },
   {
    "duration": 16,
    "start_time": "2022-11-04T17:49:06.260Z"
   },
   {
    "duration": 7,
    "start_time": "2022-11-04T17:49:06.277Z"
   },
   {
    "duration": 10,
    "start_time": "2022-11-04T17:49:06.285Z"
   },
   {
    "duration": 6,
    "start_time": "2022-11-04T17:49:06.297Z"
   },
   {
    "duration": 9,
    "start_time": "2022-11-04T17:49:06.305Z"
   },
   {
    "duration": 528,
    "start_time": "2022-11-04T17:49:06.315Z"
   },
   {
    "duration": 12,
    "start_time": "2022-11-04T17:49:06.845Z"
   },
   {
    "duration": 7,
    "start_time": "2022-11-04T17:49:06.858Z"
   },
   {
    "duration": 11,
    "start_time": "2022-11-04T17:49:06.867Z"
   },
   {
    "duration": 44,
    "start_time": "2022-11-04T17:49:06.879Z"
   },
   {
    "duration": 215,
    "start_time": "2022-11-04T17:49:06.924Z"
   },
   {
    "duration": 228,
    "start_time": "2022-11-04T17:49:07.141Z"
   },
   {
    "duration": 19,
    "start_time": "2022-11-04T17:49:07.370Z"
   },
   {
    "duration": 456,
    "start_time": "2022-11-04T17:49:07.390Z"
   },
   {
    "duration": 16,
    "start_time": "2022-11-04T17:49:07.848Z"
   },
   {
    "duration": 6,
    "start_time": "2022-11-04T17:49:07.865Z"
   },
   {
    "duration": 195,
    "start_time": "2022-11-04T17:49:07.872Z"
   },
   {
    "duration": 15,
    "start_time": "2022-11-04T17:49:08.069Z"
   },
   {
    "duration": 170,
    "start_time": "2022-11-04T17:49:08.085Z"
   },
   {
    "duration": 1059,
    "start_time": "2022-11-04T17:50:15.750Z"
   },
   {
    "duration": 68,
    "start_time": "2022-11-04T17:50:16.811Z"
   },
   {
    "duration": 12,
    "start_time": "2022-11-04T17:50:16.881Z"
   },
   {
    "duration": 26,
    "start_time": "2022-11-04T17:50:16.895Z"
   },
   {
    "duration": 3,
    "start_time": "2022-11-04T17:50:16.922Z"
   },
   {
    "duration": 18,
    "start_time": "2022-11-04T17:50:16.927Z"
   },
   {
    "duration": 9,
    "start_time": "2022-11-04T17:50:16.946Z"
   },
   {
    "duration": 9,
    "start_time": "2022-11-04T17:50:16.956Z"
   },
   {
    "duration": 11,
    "start_time": "2022-11-04T17:50:16.966Z"
   },
   {
    "duration": 11,
    "start_time": "2022-11-04T17:50:16.979Z"
   },
   {
    "duration": 15,
    "start_time": "2022-11-04T17:50:16.991Z"
   },
   {
    "duration": 594,
    "start_time": "2022-11-04T17:50:17.007Z"
   },
   {
    "duration": 10,
    "start_time": "2022-11-04T17:50:17.605Z"
   },
   {
    "duration": 7,
    "start_time": "2022-11-04T17:50:17.617Z"
   },
   {
    "duration": 11,
    "start_time": "2022-11-04T17:50:17.625Z"
   },
   {
    "duration": 22,
    "start_time": "2022-11-04T17:50:17.637Z"
   },
   {
    "duration": 245,
    "start_time": "2022-11-04T17:50:17.660Z"
   },
   {
    "duration": 240,
    "start_time": "2022-11-04T17:50:17.906Z"
   },
   {
    "duration": 18,
    "start_time": "2022-11-04T17:50:18.148Z"
   },
   {
    "duration": 441,
    "start_time": "2022-11-04T17:50:18.167Z"
   },
   {
    "duration": 15,
    "start_time": "2022-11-04T17:50:18.609Z"
   },
   {
    "duration": 7,
    "start_time": "2022-11-04T17:50:18.625Z"
   },
   {
    "duration": 172,
    "start_time": "2022-11-04T17:50:18.633Z"
   },
   {
    "duration": 14,
    "start_time": "2022-11-04T17:50:18.807Z"
   },
   {
    "duration": 158,
    "start_time": "2022-11-04T17:50:18.823Z"
   },
   {
    "duration": 70,
    "start_time": "2022-11-04T17:55:06.698Z"
   },
   {
    "duration": 73,
    "start_time": "2022-11-04T17:55:16.351Z"
   },
   {
    "duration": 76,
    "start_time": "2022-11-04T17:55:54.916Z"
   },
   {
    "duration": 1087,
    "start_time": "2022-11-04T17:56:05.320Z"
   },
   {
    "duration": 66,
    "start_time": "2022-11-04T17:56:06.409Z"
   },
   {
    "duration": 12,
    "start_time": "2022-11-04T17:56:06.476Z"
   },
   {
    "duration": 26,
    "start_time": "2022-11-04T17:56:06.490Z"
   },
   {
    "duration": 3,
    "start_time": "2022-11-04T17:56:06.517Z"
   },
   {
    "duration": 13,
    "start_time": "2022-11-04T17:56:06.521Z"
   },
   {
    "duration": 7,
    "start_time": "2022-11-04T17:56:06.536Z"
   },
   {
    "duration": 6,
    "start_time": "2022-11-04T17:56:06.545Z"
   },
   {
    "duration": 9,
    "start_time": "2022-11-04T17:56:06.552Z"
   },
   {
    "duration": 5,
    "start_time": "2022-11-04T17:56:06.563Z"
   },
   {
    "duration": 7,
    "start_time": "2022-11-04T17:56:06.570Z"
   },
   {
    "duration": 560,
    "start_time": "2022-11-04T17:56:06.578Z"
   },
   {
    "duration": 12,
    "start_time": "2022-11-04T17:56:07.139Z"
   },
   {
    "duration": 7,
    "start_time": "2022-11-04T17:56:07.152Z"
   },
   {
    "duration": 11,
    "start_time": "2022-11-04T17:56:07.160Z"
   },
   {
    "duration": 40,
    "start_time": "2022-11-04T17:56:07.172Z"
   },
   {
    "duration": 264,
    "start_time": "2022-11-04T17:56:07.213Z"
   },
   {
    "duration": 257,
    "start_time": "2022-11-04T17:56:07.480Z"
   },
   {
    "duration": 19,
    "start_time": "2022-11-04T17:56:07.739Z"
   },
   {
    "duration": 469,
    "start_time": "2022-11-04T17:56:07.760Z"
   },
   {
    "duration": 15,
    "start_time": "2022-11-04T17:56:08.230Z"
   },
   {
    "duration": 7,
    "start_time": "2022-11-04T17:56:08.246Z"
   },
   {
    "duration": 167,
    "start_time": "2022-11-04T17:56:08.254Z"
   },
   {
    "duration": 14,
    "start_time": "2022-11-04T17:56:08.423Z"
   },
   {
    "duration": 73,
    "start_time": "2022-11-04T17:56:08.438Z"
   },
   {
    "duration": 70,
    "start_time": "2022-11-04T17:56:35.215Z"
   },
   {
    "duration": 88,
    "start_time": "2022-11-04T17:57:08.798Z"
   },
   {
    "duration": 151,
    "start_time": "2022-11-04T17:57:22.834Z"
   },
   {
    "duration": 66,
    "start_time": "2022-11-04T18:02:32.035Z"
   },
   {
    "duration": 1055,
    "start_time": "2022-11-04T18:02:39.752Z"
   },
   {
    "duration": 67,
    "start_time": "2022-11-04T18:02:40.809Z"
   },
   {
    "duration": 13,
    "start_time": "2022-11-04T18:02:40.877Z"
   },
   {
    "duration": 29,
    "start_time": "2022-11-04T18:02:40.891Z"
   },
   {
    "duration": 6,
    "start_time": "2022-11-04T18:02:40.921Z"
   },
   {
    "duration": 19,
    "start_time": "2022-11-04T18:02:40.928Z"
   },
   {
    "duration": 16,
    "start_time": "2022-11-04T18:02:40.948Z"
   },
   {
    "duration": 19,
    "start_time": "2022-11-04T18:02:40.966Z"
   },
   {
    "duration": 18,
    "start_time": "2022-11-04T18:02:40.987Z"
   },
   {
    "duration": 19,
    "start_time": "2022-11-04T18:02:41.007Z"
   },
   {
    "duration": 16,
    "start_time": "2022-11-04T18:02:41.028Z"
   },
   {
    "duration": 598,
    "start_time": "2022-11-04T18:02:41.045Z"
   },
   {
    "duration": 13,
    "start_time": "2022-11-04T18:02:41.645Z"
   },
   {
    "duration": 9,
    "start_time": "2022-11-04T18:02:41.660Z"
   },
   {
    "duration": 35,
    "start_time": "2022-11-04T18:02:41.670Z"
   },
   {
    "duration": 26,
    "start_time": "2022-11-04T18:02:41.707Z"
   },
   {
    "duration": 248,
    "start_time": "2022-11-04T18:02:41.735Z"
   },
   {
    "duration": 228,
    "start_time": "2022-11-04T18:02:41.985Z"
   },
   {
    "duration": 17,
    "start_time": "2022-11-04T18:02:42.215Z"
   },
   {
    "duration": 418,
    "start_time": "2022-11-04T18:02:42.233Z"
   },
   {
    "duration": 15,
    "start_time": "2022-11-04T18:02:42.652Z"
   },
   {
    "duration": 6,
    "start_time": "2022-11-04T18:02:42.668Z"
   },
   {
    "duration": 189,
    "start_time": "2022-11-04T18:02:42.675Z"
   },
   {
    "duration": 16,
    "start_time": "2022-11-04T18:02:42.865Z"
   },
   {
    "duration": 68,
    "start_time": "2022-11-04T18:02:42.883Z"
   },
   {
    "duration": 152,
    "start_time": "2022-11-04T18:03:16.396Z"
   },
   {
    "duration": 163,
    "start_time": "2022-11-04T18:04:08.678Z"
   },
   {
    "duration": 64,
    "start_time": "2022-11-04T18:25:22.344Z"
   },
   {
    "duration": 92,
    "start_time": "2022-11-04T18:25:28.134Z"
   },
   {
    "duration": 1121,
    "start_time": "2022-11-04T18:25:55.878Z"
   },
   {
    "duration": 224,
    "start_time": "2022-11-04T18:26:07.873Z"
   },
   {
    "duration": 70,
    "start_time": "2022-11-04T18:28:48.843Z"
   },
   {
    "duration": 132,
    "start_time": "2022-11-04T18:28:58.442Z"
   },
   {
    "duration": 104,
    "start_time": "2022-11-04T18:29:36.268Z"
   },
   {
    "duration": 144,
    "start_time": "2022-11-04T18:31:17.317Z"
   },
   {
    "duration": 1127,
    "start_time": "2022-11-04T18:31:23.093Z"
   },
   {
    "duration": 71,
    "start_time": "2022-11-04T18:31:24.222Z"
   },
   {
    "duration": 14,
    "start_time": "2022-11-04T18:31:24.294Z"
   },
   {
    "duration": 27,
    "start_time": "2022-11-04T18:31:24.309Z"
   },
   {
    "duration": 3,
    "start_time": "2022-11-04T18:31:24.337Z"
   },
   {
    "duration": 14,
    "start_time": "2022-11-04T18:31:24.341Z"
   },
   {
    "duration": 8,
    "start_time": "2022-11-04T18:31:24.356Z"
   },
   {
    "duration": 5,
    "start_time": "2022-11-04T18:31:24.365Z"
   },
   {
    "duration": 39,
    "start_time": "2022-11-04T18:31:24.371Z"
   },
   {
    "duration": 7,
    "start_time": "2022-11-04T18:31:24.413Z"
   },
   {
    "duration": 8,
    "start_time": "2022-11-04T18:31:24.422Z"
   },
   {
    "duration": 592,
    "start_time": "2022-11-04T18:31:24.431Z"
   },
   {
    "duration": 14,
    "start_time": "2022-11-04T18:31:25.025Z"
   },
   {
    "duration": 8,
    "start_time": "2022-11-04T18:31:25.041Z"
   },
   {
    "duration": 13,
    "start_time": "2022-11-04T18:31:25.050Z"
   },
   {
    "duration": 50,
    "start_time": "2022-11-04T18:31:25.065Z"
   },
   {
    "duration": 240,
    "start_time": "2022-11-04T18:31:25.117Z"
   },
   {
    "duration": 239,
    "start_time": "2022-11-04T18:31:25.359Z"
   },
   {
    "duration": 22,
    "start_time": "2022-11-04T18:31:25.600Z"
   },
   {
    "duration": 410,
    "start_time": "2022-11-04T18:31:25.623Z"
   },
   {
    "duration": 15,
    "start_time": "2022-11-04T18:31:26.035Z"
   },
   {
    "duration": 5,
    "start_time": "2022-11-04T18:31:26.051Z"
   },
   {
    "duration": 170,
    "start_time": "2022-11-04T18:31:26.058Z"
   },
   {
    "duration": 23,
    "start_time": "2022-11-04T18:31:26.230Z"
   },
   {
    "duration": 188,
    "start_time": "2022-11-04T18:31:26.255Z"
   },
   {
    "duration": 115,
    "start_time": "2022-11-04T18:31:26.444Z"
   },
   {
    "duration": 215,
    "start_time": "2022-11-04T18:32:15.846Z"
   },
   {
    "duration": 144,
    "start_time": "2022-11-04T18:32:57.313Z"
   },
   {
    "duration": 137,
    "start_time": "2022-11-04T18:33:47.053Z"
   },
   {
    "duration": 14,
    "start_time": "2022-11-04T18:37:12.529Z"
   },
   {
    "duration": 89,
    "start_time": "2022-11-04T18:38:26.167Z"
   },
   {
    "duration": 2158,
    "start_time": "2022-11-04T18:38:31.031Z"
   },
   {
    "duration": 17,
    "start_time": "2022-11-04T18:39:05.012Z"
   },
   {
    "duration": 276,
    "start_time": "2022-11-04T18:40:53.575Z"
   },
   {
    "duration": 124,
    "start_time": "2022-11-04T18:42:44.032Z"
   },
   {
    "duration": 119,
    "start_time": "2022-11-04T18:43:58.551Z"
   },
   {
    "duration": 156,
    "start_time": "2022-11-04T18:44:32.043Z"
   },
   {
    "duration": 116,
    "start_time": "2022-11-04T18:45:21.952Z"
   },
   {
    "duration": 117,
    "start_time": "2022-11-04T18:45:55.390Z"
   },
   {
    "duration": 119,
    "start_time": "2022-11-04T18:46:21.551Z"
   },
   {
    "duration": 135,
    "start_time": "2022-11-04T18:47:03.944Z"
   },
   {
    "duration": 1128,
    "start_time": "2022-11-04T18:48:31.587Z"
   },
   {
    "duration": 68,
    "start_time": "2022-11-04T18:48:32.717Z"
   },
   {
    "duration": 13,
    "start_time": "2022-11-04T18:48:32.787Z"
   },
   {
    "duration": 26,
    "start_time": "2022-11-04T18:48:32.802Z"
   },
   {
    "duration": 3,
    "start_time": "2022-11-04T18:48:32.830Z"
   },
   {
    "duration": 14,
    "start_time": "2022-11-04T18:48:32.834Z"
   },
   {
    "duration": 9,
    "start_time": "2022-11-04T18:48:32.850Z"
   },
   {
    "duration": 5,
    "start_time": "2022-11-04T18:48:32.860Z"
   },
   {
    "duration": 9,
    "start_time": "2022-11-04T18:48:32.867Z"
   },
   {
    "duration": 29,
    "start_time": "2022-11-04T18:48:32.879Z"
   },
   {
    "duration": 10,
    "start_time": "2022-11-04T18:48:32.909Z"
   },
   {
    "duration": 558,
    "start_time": "2022-11-04T18:48:32.920Z"
   },
   {
    "duration": 14,
    "start_time": "2022-11-04T18:48:33.480Z"
   },
   {
    "duration": 10,
    "start_time": "2022-11-04T18:48:33.505Z"
   },
   {
    "duration": 17,
    "start_time": "2022-11-04T18:48:33.517Z"
   },
   {
    "duration": 23,
    "start_time": "2022-11-04T18:48:33.535Z"
   },
   {
    "duration": 243,
    "start_time": "2022-11-04T18:48:33.559Z"
   },
   {
    "duration": 231,
    "start_time": "2022-11-04T18:48:33.804Z"
   },
   {
    "duration": 20,
    "start_time": "2022-11-04T18:48:34.036Z"
   },
   {
    "duration": 448,
    "start_time": "2022-11-04T18:48:34.057Z"
   },
   {
    "duration": 15,
    "start_time": "2022-11-04T18:48:34.506Z"
   },
   {
    "duration": 6,
    "start_time": "2022-11-04T18:48:34.522Z"
   },
   {
    "duration": 179,
    "start_time": "2022-11-04T18:48:34.530Z"
   },
   {
    "duration": 14,
    "start_time": "2022-11-04T18:48:34.711Z"
   },
   {
    "duration": 164,
    "start_time": "2022-11-04T18:48:34.726Z"
   },
   {
    "duration": 134,
    "start_time": "2022-11-04T18:48:34.892Z"
   },
   {
    "duration": 206,
    "start_time": "2022-11-04T18:48:35.028Z"
   },
   {
    "duration": 128,
    "start_time": "2022-11-04T18:48:35.237Z"
   },
   {
    "duration": 132,
    "start_time": "2022-11-04T18:48:35.367Z"
   },
   {
    "duration": 129,
    "start_time": "2022-11-04T18:48:35.500Z"
   },
   {
    "duration": 128,
    "start_time": "2022-11-04T18:49:36.539Z"
   },
   {
    "duration": 136,
    "start_time": "2022-11-04T18:49:52.514Z"
   },
   {
    "duration": 119,
    "start_time": "2022-11-04T18:50:05.633Z"
   },
   {
    "duration": 120,
    "start_time": "2022-11-04T18:50:54.616Z"
   },
   {
    "duration": 117,
    "start_time": "2022-11-04T18:51:16.035Z"
   },
   {
    "duration": 1136,
    "start_time": "2022-11-04T18:58:46.443Z"
   },
   {
    "duration": 104,
    "start_time": "2022-11-04T18:58:47.582Z"
   },
   {
    "duration": 18,
    "start_time": "2022-11-04T18:58:47.690Z"
   },
   {
    "duration": 45,
    "start_time": "2022-11-04T18:58:47.715Z"
   },
   {
    "duration": 3,
    "start_time": "2022-11-04T18:58:47.761Z"
   },
   {
    "duration": 15,
    "start_time": "2022-11-04T18:58:47.766Z"
   },
   {
    "duration": 11,
    "start_time": "2022-11-04T18:58:47.783Z"
   },
   {
    "duration": 41,
    "start_time": "2022-11-04T18:58:47.796Z"
   },
   {
    "duration": 15,
    "start_time": "2022-11-04T18:58:47.840Z"
   },
   {
    "duration": 6,
    "start_time": "2022-11-04T18:58:47.859Z"
   },
   {
    "duration": 10,
    "start_time": "2022-11-04T18:58:47.866Z"
   },
   {
    "duration": 588,
    "start_time": "2022-11-04T18:58:47.878Z"
   },
   {
    "duration": 12,
    "start_time": "2022-11-04T18:58:48.467Z"
   },
   {
    "duration": 7,
    "start_time": "2022-11-04T18:58:48.481Z"
   },
   {
    "duration": 14,
    "start_time": "2022-11-04T18:58:48.509Z"
   },
   {
    "duration": 22,
    "start_time": "2022-11-04T18:58:48.524Z"
   },
   {
    "duration": 274,
    "start_time": "2022-11-04T18:58:48.547Z"
   },
   {
    "duration": 239,
    "start_time": "2022-11-04T18:58:48.823Z"
   },
   {
    "duration": 20,
    "start_time": "2022-11-04T18:58:49.064Z"
   },
   {
    "duration": 443,
    "start_time": "2022-11-04T18:58:49.086Z"
   },
   {
    "duration": 15,
    "start_time": "2022-11-04T18:58:49.531Z"
   },
   {
    "duration": 7,
    "start_time": "2022-11-04T18:58:49.548Z"
   },
   {
    "duration": 193,
    "start_time": "2022-11-04T18:58:49.556Z"
   },
   {
    "duration": 15,
    "start_time": "2022-11-04T18:58:49.752Z"
   },
   {
    "duration": 191,
    "start_time": "2022-11-04T18:58:49.768Z"
   },
   {
    "duration": 134,
    "start_time": "2022-11-04T18:58:49.960Z"
   },
   {
    "duration": 228,
    "start_time": "2022-11-04T18:58:50.096Z"
   },
   {
    "duration": 127,
    "start_time": "2022-11-04T18:58:50.327Z"
   },
   {
    "duration": 130,
    "start_time": "2022-11-04T18:58:50.455Z"
   },
   {
    "duration": 149,
    "start_time": "2022-11-04T18:58:50.587Z"
   },
   {
    "duration": 1169,
    "start_time": "2022-11-04T19:03:11.217Z"
   },
   {
    "duration": 70,
    "start_time": "2022-11-04T19:03:12.388Z"
   },
   {
    "duration": 14,
    "start_time": "2022-11-04T19:03:12.459Z"
   },
   {
    "duration": 37,
    "start_time": "2022-11-04T19:03:12.475Z"
   },
   {
    "duration": 3,
    "start_time": "2022-11-04T19:03:12.513Z"
   },
   {
    "duration": 20,
    "start_time": "2022-11-04T19:03:12.518Z"
   },
   {
    "duration": 10,
    "start_time": "2022-11-04T19:03:12.540Z"
   },
   {
    "duration": 6,
    "start_time": "2022-11-04T19:03:12.551Z"
   },
   {
    "duration": 10,
    "start_time": "2022-11-04T19:03:12.559Z"
   },
   {
    "duration": 33,
    "start_time": "2022-11-04T19:03:12.573Z"
   },
   {
    "duration": 10,
    "start_time": "2022-11-04T19:03:12.608Z"
   },
   {
    "duration": 633,
    "start_time": "2022-11-04T19:03:12.620Z"
   },
   {
    "duration": 13,
    "start_time": "2022-11-04T19:03:13.254Z"
   },
   {
    "duration": 7,
    "start_time": "2022-11-04T19:03:13.268Z"
   },
   {
    "duration": 32,
    "start_time": "2022-11-04T19:03:13.276Z"
   },
   {
    "duration": 26,
    "start_time": "2022-11-04T19:03:13.310Z"
   },
   {
    "duration": 253,
    "start_time": "2022-11-04T19:03:13.338Z"
   },
   {
    "duration": 248,
    "start_time": "2022-11-04T19:03:13.592Z"
   },
   {
    "duration": 22,
    "start_time": "2022-11-04T19:03:13.842Z"
   },
   {
    "duration": 482,
    "start_time": "2022-11-04T19:03:13.865Z"
   },
   {
    "duration": 16,
    "start_time": "2022-11-04T19:03:14.348Z"
   },
   {
    "duration": 12,
    "start_time": "2022-11-04T19:03:14.365Z"
   },
   {
    "duration": 184,
    "start_time": "2022-11-04T19:03:14.379Z"
   },
   {
    "duration": 18,
    "start_time": "2022-11-04T19:03:14.565Z"
   },
   {
    "duration": 189,
    "start_time": "2022-11-04T19:03:14.585Z"
   },
   {
    "duration": 157,
    "start_time": "2022-11-04T19:03:14.776Z"
   },
   {
    "duration": 263,
    "start_time": "2022-11-04T19:03:14.935Z"
   },
   {
    "duration": 151,
    "start_time": "2022-11-04T19:03:15.209Z"
   },
   {
    "duration": 149,
    "start_time": "2022-11-04T19:03:15.362Z"
   },
   {
    "duration": 144,
    "start_time": "2022-11-04T19:03:15.513Z"
   },
   {
    "duration": 73,
    "start_time": "2022-11-04T19:09:35.176Z"
   },
   {
    "duration": 97,
    "start_time": "2022-11-04T19:09:42.575Z"
   },
   {
    "duration": 222,
    "start_time": "2022-11-04T19:10:10.283Z"
   },
   {
    "duration": 206,
    "start_time": "2022-11-04T19:10:19.245Z"
   },
   {
    "duration": 273,
    "start_time": "2022-11-04T19:10:27.242Z"
   },
   {
    "duration": 328,
    "start_time": "2022-11-04T19:10:42.927Z"
   },
   {
    "duration": 7,
    "start_time": "2022-11-04T19:25:28.196Z"
   },
   {
    "duration": 1136,
    "start_time": "2022-11-04T19:28:29.494Z"
   },
   {
    "duration": 70,
    "start_time": "2022-11-04T19:28:30.632Z"
   },
   {
    "duration": 13,
    "start_time": "2022-11-04T19:28:30.704Z"
   },
   {
    "duration": 27,
    "start_time": "2022-11-04T19:28:30.719Z"
   },
   {
    "duration": 3,
    "start_time": "2022-11-04T19:28:30.748Z"
   },
   {
    "duration": 22,
    "start_time": "2022-11-04T19:28:30.752Z"
   },
   {
    "duration": 33,
    "start_time": "2022-11-04T19:28:30.776Z"
   },
   {
    "duration": 5,
    "start_time": "2022-11-04T19:28:30.811Z"
   },
   {
    "duration": 16,
    "start_time": "2022-11-04T19:28:30.817Z"
   },
   {
    "duration": 8,
    "start_time": "2022-11-04T19:28:30.835Z"
   },
   {
    "duration": 18,
    "start_time": "2022-11-04T19:28:30.845Z"
   },
   {
    "duration": 578,
    "start_time": "2022-11-04T19:28:30.864Z"
   },
   {
    "duration": 13,
    "start_time": "2022-11-04T19:28:31.444Z"
   },
   {
    "duration": 6,
    "start_time": "2022-11-04T19:28:31.459Z"
   },
   {
    "duration": 38,
    "start_time": "2022-11-04T19:28:31.467Z"
   },
   {
    "duration": 7,
    "start_time": "2022-11-04T19:28:31.507Z"
   },
   {
    "duration": 24,
    "start_time": "2022-11-04T19:28:31.515Z"
   },
   {
    "duration": 259,
    "start_time": "2022-11-04T19:28:31.540Z"
   },
   {
    "duration": 232,
    "start_time": "2022-11-04T19:28:31.804Z"
   },
   {
    "duration": 19,
    "start_time": "2022-11-04T19:28:32.038Z"
   },
   {
    "duration": 451,
    "start_time": "2022-11-04T19:28:32.058Z"
   },
   {
    "duration": 14,
    "start_time": "2022-11-04T19:28:32.511Z"
   },
   {
    "duration": 6,
    "start_time": "2022-11-04T19:28:32.527Z"
   },
   {
    "duration": 195,
    "start_time": "2022-11-04T19:28:32.534Z"
   },
   {
    "duration": 22,
    "start_time": "2022-11-04T19:28:32.731Z"
   },
   {
    "duration": 261,
    "start_time": "2022-11-04T19:28:32.755Z"
   },
   {
    "duration": 158,
    "start_time": "2022-11-04T19:28:33.018Z"
   },
   {
    "duration": 199,
    "start_time": "2022-11-04T19:28:33.180Z"
   },
   {
    "duration": 128,
    "start_time": "2022-11-04T19:28:33.381Z"
   },
   {
    "duration": 143,
    "start_time": "2022-11-04T19:28:33.511Z"
   },
   {
    "duration": 135,
    "start_time": "2022-11-04T19:28:33.656Z"
   },
   {
    "duration": 239,
    "start_time": "2022-11-04T19:28:33.793Z"
   },
   {
    "duration": 59,
    "start_time": "2022-11-04T19:49:25.924Z"
   },
   {
    "duration": 231,
    "start_time": "2022-11-04T19:50:02.897Z"
   },
   {
    "duration": 228,
    "start_time": "2022-11-04T19:50:08.937Z"
   },
   {
    "duration": 318,
    "start_time": "2022-11-04T19:51:02.942Z"
   },
   {
    "duration": 99,
    "start_time": "2022-11-04T19:54:28.249Z"
   },
   {
    "duration": 233,
    "start_time": "2022-11-04T19:54:51.839Z"
   },
   {
    "duration": 238,
    "start_time": "2022-11-04T20:08:12.847Z"
   },
   {
    "duration": 298,
    "start_time": "2022-11-04T20:10:47.892Z"
   },
   {
    "duration": 1266,
    "start_time": "2022-11-04T20:16:16.888Z"
   },
   {
    "duration": 110,
    "start_time": "2022-11-04T20:16:31.249Z"
   },
   {
    "duration": 107,
    "start_time": "2022-11-04T20:17:54.471Z"
   },
   {
    "duration": 108,
    "start_time": "2022-11-04T20:21:45.695Z"
   },
   {
    "duration": 103,
    "start_time": "2022-11-04T20:22:48.289Z"
   },
   {
    "duration": 1081,
    "start_time": "2022-11-04T20:26:06.020Z"
   },
   {
    "duration": 65,
    "start_time": "2022-11-04T20:26:07.102Z"
   },
   {
    "duration": 14,
    "start_time": "2022-11-04T20:26:07.169Z"
   },
   {
    "duration": 32,
    "start_time": "2022-11-04T20:26:07.184Z"
   },
   {
    "duration": 3,
    "start_time": "2022-11-04T20:26:07.218Z"
   },
   {
    "duration": 16,
    "start_time": "2022-11-04T20:26:07.222Z"
   },
   {
    "duration": 12,
    "start_time": "2022-11-04T20:26:07.239Z"
   },
   {
    "duration": 9,
    "start_time": "2022-11-04T20:26:07.252Z"
   },
   {
    "duration": 16,
    "start_time": "2022-11-04T20:26:07.262Z"
   },
   {
    "duration": 16,
    "start_time": "2022-11-04T20:26:07.280Z"
   },
   {
    "duration": 10,
    "start_time": "2022-11-04T20:26:07.305Z"
   },
   {
    "duration": 617,
    "start_time": "2022-11-04T20:26:07.317Z"
   },
   {
    "duration": 12,
    "start_time": "2022-11-04T20:26:07.935Z"
   },
   {
    "duration": 7,
    "start_time": "2022-11-04T20:26:07.951Z"
   },
   {
    "duration": 12,
    "start_time": "2022-11-04T20:26:07.959Z"
   },
   {
    "duration": 34,
    "start_time": "2022-11-04T20:26:07.973Z"
   },
   {
    "duration": 25,
    "start_time": "2022-11-04T20:26:08.009Z"
   },
   {
    "duration": 243,
    "start_time": "2022-11-04T20:26:08.036Z"
   },
   {
    "duration": 256,
    "start_time": "2022-11-04T20:26:08.280Z"
   },
   {
    "duration": 19,
    "start_time": "2022-11-04T20:26:08.538Z"
   },
   {
    "duration": 461,
    "start_time": "2022-11-04T20:26:08.559Z"
   },
   {
    "duration": 16,
    "start_time": "2022-11-04T20:26:09.022Z"
   },
   {
    "duration": 6,
    "start_time": "2022-11-04T20:26:09.041Z"
   },
   {
    "duration": 167,
    "start_time": "2022-11-04T20:26:09.049Z"
   },
   {
    "duration": 13,
    "start_time": "2022-11-04T20:26:09.217Z"
   },
   {
    "duration": 175,
    "start_time": "2022-11-04T20:26:09.232Z"
   },
   {
    "duration": 136,
    "start_time": "2022-11-04T20:26:09.409Z"
   },
   {
    "duration": 203,
    "start_time": "2022-11-04T20:26:09.547Z"
   },
   {
    "duration": 128,
    "start_time": "2022-11-04T20:26:09.752Z"
   },
   {
    "duration": 147,
    "start_time": "2022-11-04T20:26:09.882Z"
   },
   {
    "duration": 131,
    "start_time": "2022-11-04T20:26:10.031Z"
   },
   {
    "duration": 225,
    "start_time": "2022-11-04T20:26:10.164Z"
   },
   {
    "duration": 314,
    "start_time": "2022-11-04T20:26:10.391Z"
   },
   {
    "duration": 114,
    "start_time": "2022-11-04T20:26:10.706Z"
   },
   {
    "duration": 109,
    "start_time": "2022-11-04T20:26:10.821Z"
   },
   {
    "duration": 14,
    "start_time": "2022-11-04T20:30:56.650Z"
   },
   {
    "duration": 172,
    "start_time": "2022-11-04T20:32:02.752Z"
   },
   {
    "duration": 332,
    "start_time": "2022-11-04T20:34:15.153Z"
   },
   {
    "duration": 16,
    "start_time": "2022-11-04T20:38:07.836Z"
   },
   {
    "duration": 290,
    "start_time": "2022-11-04T20:38:13.356Z"
   },
   {
    "duration": 367,
    "start_time": "2022-11-04T20:40:26.023Z"
   },
   {
    "duration": 264,
    "start_time": "2022-11-04T20:40:53.681Z"
   },
   {
    "duration": 72,
    "start_time": "2022-11-04T20:41:43.440Z"
   },
   {
    "duration": 299,
    "start_time": "2022-11-04T20:41:57.775Z"
   },
   {
    "duration": 311,
    "start_time": "2022-11-04T20:42:22.238Z"
   },
   {
    "duration": 266,
    "start_time": "2022-11-04T20:48:19.597Z"
   },
   {
    "duration": 251,
    "start_time": "2022-11-04T20:48:48.759Z"
   },
   {
    "duration": 262,
    "start_time": "2022-11-04T20:48:59.903Z"
   },
   {
    "duration": 339,
    "start_time": "2022-11-04T20:51:04.587Z"
   },
   {
    "duration": 191,
    "start_time": "2022-11-04T20:51:31.560Z"
   },
   {
    "duration": 200,
    "start_time": "2022-11-04T20:52:03.735Z"
   },
   {
    "duration": 207,
    "start_time": "2022-11-04T20:52:23.624Z"
   },
   {
    "duration": 216,
    "start_time": "2022-11-04T20:52:45.481Z"
   },
   {
    "duration": 333,
    "start_time": "2022-11-04T20:52:57.025Z"
   },
   {
    "duration": 215,
    "start_time": "2022-11-04T20:53:10.165Z"
   },
   {
    "duration": 195,
    "start_time": "2022-11-04T20:53:19.820Z"
   },
   {
    "duration": 209,
    "start_time": "2022-11-04T20:53:31.404Z"
   },
   {
    "duration": 125,
    "start_time": "2022-11-04T20:53:52.565Z"
   },
   {
    "duration": 122,
    "start_time": "2022-11-04T20:54:07.470Z"
   },
   {
    "duration": 203,
    "start_time": "2022-11-04T20:54:21.744Z"
   },
   {
    "duration": 199,
    "start_time": "2022-11-04T20:54:29.074Z"
   },
   {
    "duration": 1121,
    "start_time": "2022-11-04T20:54:37.022Z"
   },
   {
    "duration": 70,
    "start_time": "2022-11-04T20:54:38.145Z"
   },
   {
    "duration": 12,
    "start_time": "2022-11-04T20:54:38.216Z"
   },
   {
    "duration": 27,
    "start_time": "2022-11-04T20:54:38.230Z"
   },
   {
    "duration": 2,
    "start_time": "2022-11-04T20:54:38.259Z"
   },
   {
    "duration": 19,
    "start_time": "2022-11-04T20:54:38.262Z"
   },
   {
    "duration": 22,
    "start_time": "2022-11-04T20:54:38.282Z"
   },
   {
    "duration": 7,
    "start_time": "2022-11-04T20:54:38.305Z"
   },
   {
    "duration": 14,
    "start_time": "2022-11-04T20:54:38.314Z"
   },
   {
    "duration": 15,
    "start_time": "2022-11-04T20:54:38.330Z"
   },
   {
    "duration": 11,
    "start_time": "2022-11-04T20:54:38.347Z"
   },
   {
    "duration": 563,
    "start_time": "2022-11-04T20:54:38.359Z"
   },
   {
    "duration": 11,
    "start_time": "2022-11-04T20:54:38.924Z"
   },
   {
    "duration": 15,
    "start_time": "2022-11-04T20:54:38.936Z"
   },
   {
    "duration": 13,
    "start_time": "2022-11-04T20:54:38.952Z"
   },
   {
    "duration": 8,
    "start_time": "2022-11-04T20:54:38.966Z"
   },
   {
    "duration": 35,
    "start_time": "2022-11-04T20:54:38.975Z"
   },
   {
    "duration": 223,
    "start_time": "2022-11-04T20:54:39.012Z"
   },
   {
    "duration": 215,
    "start_time": "2022-11-04T20:54:39.237Z"
   },
   {
    "duration": 19,
    "start_time": "2022-11-04T20:54:39.453Z"
   },
   {
    "duration": 419,
    "start_time": "2022-11-04T20:54:39.473Z"
   },
   {
    "duration": 21,
    "start_time": "2022-11-04T20:54:39.894Z"
   },
   {
    "duration": 6,
    "start_time": "2022-11-04T20:54:39.916Z"
   },
   {
    "duration": 159,
    "start_time": "2022-11-04T20:54:39.923Z"
   },
   {
    "duration": 22,
    "start_time": "2022-11-04T20:54:40.084Z"
   },
   {
    "duration": 137,
    "start_time": "2022-11-04T20:54:40.107Z"
   },
   {
    "duration": 131,
    "start_time": "2022-11-04T20:54:40.246Z"
   },
   {
    "duration": 197,
    "start_time": "2022-11-04T20:54:40.380Z"
   },
   {
    "duration": 118,
    "start_time": "2022-11-04T20:54:40.578Z"
   },
   {
    "duration": 124,
    "start_time": "2022-11-04T20:54:40.704Z"
   },
   {
    "duration": 128,
    "start_time": "2022-11-04T20:54:40.830Z"
   },
   {
    "duration": 213,
    "start_time": "2022-11-04T20:54:40.960Z"
   },
   {
    "duration": 315,
    "start_time": "2022-11-04T20:54:41.175Z"
   },
   {
    "duration": 139,
    "start_time": "2022-11-04T20:54:41.491Z"
   },
   {
    "duration": 124,
    "start_time": "2022-11-04T20:54:41.632Z"
   },
   {
    "duration": 15,
    "start_time": "2022-11-04T20:54:41.757Z"
   },
   {
    "duration": 218,
    "start_time": "2022-11-04T20:54:41.774Z"
   },
   {
    "duration": 337,
    "start_time": "2022-11-04T20:54:41.993Z"
   },
   {
    "duration": 15,
    "start_time": "2022-11-04T20:56:33.196Z"
   },
   {
    "duration": 515,
    "start_time": "2022-11-04T21:01:26.991Z"
   },
   {
    "duration": 230,
    "start_time": "2022-11-04T21:01:36.638Z"
   },
   {
    "duration": 1112,
    "start_time": "2022-11-04T21:02:07.028Z"
   },
   {
    "duration": 68,
    "start_time": "2022-11-04T21:02:08.142Z"
   },
   {
    "duration": 14,
    "start_time": "2022-11-04T21:02:08.212Z"
   },
   {
    "duration": 27,
    "start_time": "2022-11-04T21:02:08.229Z"
   },
   {
    "duration": 3,
    "start_time": "2022-11-04T21:02:08.258Z"
   },
   {
    "duration": 15,
    "start_time": "2022-11-04T21:02:08.263Z"
   },
   {
    "duration": 8,
    "start_time": "2022-11-04T21:02:08.305Z"
   },
   {
    "duration": 6,
    "start_time": "2022-11-04T21:02:08.315Z"
   },
   {
    "duration": 10,
    "start_time": "2022-11-04T21:02:08.322Z"
   },
   {
    "duration": 5,
    "start_time": "2022-11-04T21:02:08.335Z"
   },
   {
    "duration": 9,
    "start_time": "2022-11-04T21:02:08.342Z"
   },
   {
    "duration": 579,
    "start_time": "2022-11-04T21:02:08.353Z"
   },
   {
    "duration": 12,
    "start_time": "2022-11-04T21:02:08.934Z"
   },
   {
    "duration": 7,
    "start_time": "2022-11-04T21:02:08.947Z"
   },
   {
    "duration": 14,
    "start_time": "2022-11-04T21:02:08.955Z"
   },
   {
    "duration": 6,
    "start_time": "2022-11-04T21:02:08.970Z"
   },
   {
    "duration": 48,
    "start_time": "2022-11-04T21:02:08.978Z"
   },
   {
    "duration": 228,
    "start_time": "2022-11-04T21:02:09.028Z"
   },
   {
    "duration": 248,
    "start_time": "2022-11-04T21:02:09.258Z"
   },
   {
    "duration": 18,
    "start_time": "2022-11-04T21:02:09.508Z"
   },
   {
    "duration": 401,
    "start_time": "2022-11-04T21:02:09.527Z"
   },
   {
    "duration": 14,
    "start_time": "2022-11-04T21:02:09.929Z"
   },
   {
    "duration": 6,
    "start_time": "2022-11-04T21:02:09.945Z"
   },
   {
    "duration": 169,
    "start_time": "2022-11-04T21:02:09.952Z"
   },
   {
    "duration": 15,
    "start_time": "2022-11-04T21:02:10.122Z"
   },
   {
    "duration": 167,
    "start_time": "2022-11-04T21:02:10.138Z"
   },
   {
    "duration": 140,
    "start_time": "2022-11-04T21:02:10.307Z"
   },
   {
    "duration": 201,
    "start_time": "2022-11-04T21:02:10.450Z"
   },
   {
    "duration": 124,
    "start_time": "2022-11-04T21:02:10.653Z"
   },
   {
    "duration": 145,
    "start_time": "2022-11-04T21:02:10.779Z"
   },
   {
    "duration": 127,
    "start_time": "2022-11-04T21:02:10.925Z"
   },
   {
    "duration": 216,
    "start_time": "2022-11-04T21:02:11.053Z"
   },
   {
    "duration": 317,
    "start_time": "2022-11-04T21:02:11.270Z"
   },
   {
    "duration": 130,
    "start_time": "2022-11-04T21:02:11.589Z"
   },
   {
    "duration": 111,
    "start_time": "2022-11-04T21:02:11.721Z"
   },
   {
    "duration": 18,
    "start_time": "2022-11-04T21:02:11.834Z"
   },
   {
    "duration": 7,
    "start_time": "2022-11-04T21:02:11.854Z"
   },
   {
    "duration": 145,
    "start_time": "2022-11-04T21:02:11.862Z"
   },
   {
    "duration": 348,
    "start_time": "2022-11-04T21:02:12.008Z"
   },
   {
    "duration": 1106,
    "start_time": "2022-11-04T21:16:48.581Z"
   },
   {
    "duration": 66,
    "start_time": "2022-11-04T21:16:49.689Z"
   },
   {
    "duration": 15,
    "start_time": "2022-11-04T21:16:49.757Z"
   },
   {
    "duration": 27,
    "start_time": "2022-11-04T21:16:49.774Z"
   },
   {
    "duration": 3,
    "start_time": "2022-11-04T21:16:49.805Z"
   },
   {
    "duration": 14,
    "start_time": "2022-11-04T21:16:49.809Z"
   },
   {
    "duration": 9,
    "start_time": "2022-11-04T21:16:49.824Z"
   },
   {
    "duration": 5,
    "start_time": "2022-11-04T21:16:49.834Z"
   },
   {
    "duration": 9,
    "start_time": "2022-11-04T21:16:49.840Z"
   },
   {
    "duration": 6,
    "start_time": "2022-11-04T21:16:49.851Z"
   },
   {
    "duration": 10,
    "start_time": "2022-11-04T21:16:49.858Z"
   },
   {
    "duration": 564,
    "start_time": "2022-11-04T21:16:49.870Z"
   },
   {
    "duration": 11,
    "start_time": "2022-11-04T21:16:50.436Z"
   },
   {
    "duration": 8,
    "start_time": "2022-11-04T21:16:50.448Z"
   },
   {
    "duration": 13,
    "start_time": "2022-11-04T21:16:50.457Z"
   },
   {
    "duration": 6,
    "start_time": "2022-11-04T21:16:50.471Z"
   },
   {
    "duration": 42,
    "start_time": "2022-11-04T21:16:50.479Z"
   },
   {
    "duration": 217,
    "start_time": "2022-11-04T21:16:50.523Z"
   },
   {
    "duration": 229,
    "start_time": "2022-11-04T21:16:50.742Z"
   },
   {
    "duration": 18,
    "start_time": "2022-11-04T21:16:50.973Z"
   },
   {
    "duration": 413,
    "start_time": "2022-11-04T21:16:50.992Z"
   },
   {
    "duration": 14,
    "start_time": "2022-11-04T21:16:51.406Z"
   },
   {
    "duration": 6,
    "start_time": "2022-11-04T21:16:51.421Z"
   },
   {
    "duration": 167,
    "start_time": "2022-11-04T21:16:51.428Z"
   },
   {
    "duration": 21,
    "start_time": "2022-11-04T21:16:51.596Z"
   },
   {
    "duration": 132,
    "start_time": "2022-11-04T21:16:51.618Z"
   },
   {
    "duration": 138,
    "start_time": "2022-11-04T21:16:51.752Z"
   },
   {
    "duration": 195,
    "start_time": "2022-11-04T21:16:51.893Z"
   },
   {
    "duration": 128,
    "start_time": "2022-11-04T21:16:52.090Z"
   },
   {
    "duration": 137,
    "start_time": "2022-11-04T21:16:52.220Z"
   },
   {
    "duration": 120,
    "start_time": "2022-11-04T21:16:52.358Z"
   },
   {
    "duration": 215,
    "start_time": "2022-11-04T21:16:52.480Z"
   },
   {
    "duration": 298,
    "start_time": "2022-11-04T21:16:52.696Z"
   },
   {
    "duration": 117,
    "start_time": "2022-11-04T21:16:52.995Z"
   },
   {
    "duration": 111,
    "start_time": "2022-11-04T21:16:53.114Z"
   },
   {
    "duration": 14,
    "start_time": "2022-11-04T21:16:53.227Z"
   },
   {
    "duration": 5,
    "start_time": "2022-11-04T21:16:53.243Z"
   },
   {
    "duration": 142,
    "start_time": "2022-11-04T21:16:53.249Z"
   },
   {
    "duration": 354,
    "start_time": "2022-11-04T21:16:53.393Z"
   },
   {
    "duration": 1116,
    "start_time": "2022-11-04T21:20:23.895Z"
   },
   {
    "duration": 66,
    "start_time": "2022-11-04T21:20:25.013Z"
   },
   {
    "duration": 12,
    "start_time": "2022-11-04T21:20:25.080Z"
   },
   {
    "duration": 25,
    "start_time": "2022-11-04T21:20:25.094Z"
   },
   {
    "duration": 2,
    "start_time": "2022-11-04T21:20:25.121Z"
   },
   {
    "duration": 14,
    "start_time": "2022-11-04T21:20:25.124Z"
   },
   {
    "duration": 11,
    "start_time": "2022-11-04T21:20:25.140Z"
   },
   {
    "duration": 5,
    "start_time": "2022-11-04T21:20:25.152Z"
   },
   {
    "duration": 15,
    "start_time": "2022-11-04T21:20:25.158Z"
   },
   {
    "duration": 5,
    "start_time": "2022-11-04T21:20:25.176Z"
   },
   {
    "duration": 27,
    "start_time": "2022-11-04T21:20:25.183Z"
   },
   {
    "duration": 545,
    "start_time": "2022-11-04T21:20:25.211Z"
   },
   {
    "duration": 11,
    "start_time": "2022-11-04T21:20:25.758Z"
   },
   {
    "duration": 6,
    "start_time": "2022-11-04T21:20:25.771Z"
   },
   {
    "duration": 27,
    "start_time": "2022-11-04T21:20:25.779Z"
   },
   {
    "duration": 5,
    "start_time": "2022-11-04T21:20:25.808Z"
   },
   {
    "duration": 29,
    "start_time": "2022-11-04T21:20:25.815Z"
   },
   {
    "duration": 233,
    "start_time": "2022-11-04T21:20:25.846Z"
   },
   {
    "duration": 229,
    "start_time": "2022-11-04T21:20:26.081Z"
   },
   {
    "duration": 18,
    "start_time": "2022-11-04T21:20:26.312Z"
   },
   {
    "duration": 393,
    "start_time": "2022-11-04T21:20:26.332Z"
   },
   {
    "duration": 14,
    "start_time": "2022-11-04T21:20:26.726Z"
   },
   {
    "duration": 6,
    "start_time": "2022-11-04T21:20:26.741Z"
   },
   {
    "duration": 166,
    "start_time": "2022-11-04T21:20:26.748Z"
   },
   {
    "duration": 13,
    "start_time": "2022-11-04T21:20:26.915Z"
   },
   {
    "duration": 132,
    "start_time": "2022-11-04T21:20:26.929Z"
   },
   {
    "duration": 132,
    "start_time": "2022-11-04T21:20:27.063Z"
   },
   {
    "duration": 234,
    "start_time": "2022-11-04T21:20:27.197Z"
   },
   {
    "duration": 117,
    "start_time": "2022-11-04T21:20:27.432Z"
   },
   {
    "duration": 123,
    "start_time": "2022-11-04T21:20:27.550Z"
   },
   {
    "duration": 124,
    "start_time": "2022-11-04T21:20:27.675Z"
   },
   {
    "duration": 246,
    "start_time": "2022-11-04T21:20:27.800Z"
   },
   {
    "duration": 287,
    "start_time": "2022-11-04T21:20:28.048Z"
   },
   {
    "duration": 108,
    "start_time": "2022-11-04T21:20:28.337Z"
   },
   {
    "duration": 111,
    "start_time": "2022-11-04T21:20:28.446Z"
   },
   {
    "duration": 15,
    "start_time": "2022-11-04T21:20:28.558Z"
   },
   {
    "duration": 6,
    "start_time": "2022-11-04T21:20:28.574Z"
   },
   {
    "duration": 146,
    "start_time": "2022-11-04T21:20:28.581Z"
   },
   {
    "duration": 344,
    "start_time": "2022-11-04T21:20:28.729Z"
   },
   {
    "duration": 59,
    "start_time": "2022-11-05T16:10:44.690Z"
   },
   {
    "duration": 1306,
    "start_time": "2022-11-05T16:10:50.155Z"
   },
   {
    "duration": 114,
    "start_time": "2022-11-05T16:10:51.463Z"
   },
   {
    "duration": 15,
    "start_time": "2022-11-05T16:10:51.579Z"
   },
   {
    "duration": 31,
    "start_time": "2022-11-05T16:10:51.596Z"
   },
   {
    "duration": 6,
    "start_time": "2022-11-05T16:10:51.628Z"
   },
   {
    "duration": 16,
    "start_time": "2022-11-05T16:10:51.635Z"
   },
   {
    "duration": 10,
    "start_time": "2022-11-05T16:10:51.652Z"
   },
   {
    "duration": 5,
    "start_time": "2022-11-05T16:10:51.664Z"
   },
   {
    "duration": 13,
    "start_time": "2022-11-05T16:10:51.671Z"
   },
   {
    "duration": 6,
    "start_time": "2022-11-05T16:10:51.687Z"
   },
   {
    "duration": 45,
    "start_time": "2022-11-05T16:10:51.695Z"
   },
   {
    "duration": 706,
    "start_time": "2022-11-05T16:10:51.741Z"
   },
   {
    "duration": 13,
    "start_time": "2022-11-05T16:10:52.449Z"
   },
   {
    "duration": 10,
    "start_time": "2022-11-05T16:10:52.464Z"
   },
   {
    "duration": 13,
    "start_time": "2022-11-05T16:10:52.476Z"
   },
   {
    "duration": 8,
    "start_time": "2022-11-05T16:10:52.490Z"
   },
   {
    "duration": 55,
    "start_time": "2022-11-05T16:10:52.499Z"
   },
   {
    "duration": 263,
    "start_time": "2022-11-05T16:10:52.555Z"
   },
   {
    "duration": 264,
    "start_time": "2022-11-05T16:10:52.820Z"
   },
   {
    "duration": 22,
    "start_time": "2022-11-05T16:10:53.086Z"
   },
   {
    "duration": 474,
    "start_time": "2022-11-05T16:10:53.110Z"
   },
   {
    "duration": 16,
    "start_time": "2022-11-05T16:10:53.586Z"
   },
   {
    "duration": 6,
    "start_time": "2022-11-05T16:10:53.604Z"
   },
   {
    "duration": 201,
    "start_time": "2022-11-05T16:10:53.611Z"
   },
   {
    "duration": 32,
    "start_time": "2022-11-05T16:10:53.815Z"
   },
   {
    "duration": 163,
    "start_time": "2022-11-05T16:10:53.849Z"
   },
   {
    "duration": 166,
    "start_time": "2022-11-05T16:10:54.015Z"
   },
   {
    "duration": 217,
    "start_time": "2022-11-05T16:10:54.185Z"
   },
   {
    "duration": 147,
    "start_time": "2022-11-05T16:10:54.404Z"
   },
   {
    "duration": 154,
    "start_time": "2022-11-05T16:10:54.553Z"
   },
   {
    "duration": 149,
    "start_time": "2022-11-05T16:10:54.709Z"
   },
   {
    "duration": 242,
    "start_time": "2022-11-05T16:10:54.860Z"
   },
   {
    "duration": 339,
    "start_time": "2022-11-05T16:10:55.104Z"
   },
   {
    "duration": 132,
    "start_time": "2022-11-05T16:10:55.445Z"
   },
   {
    "duration": 130,
    "start_time": "2022-11-05T16:10:55.578Z"
   },
   {
    "duration": 30,
    "start_time": "2022-11-05T16:10:55.710Z"
   },
   {
    "duration": 10,
    "start_time": "2022-11-05T16:10:55.742Z"
   },
   {
    "duration": 179,
    "start_time": "2022-11-05T16:10:55.754Z"
   },
   {
    "duration": 477,
    "start_time": "2022-11-05T16:10:55.935Z"
   },
   {
    "duration": 349,
    "start_time": "2022-11-05T16:11:08.597Z"
   },
   {
    "duration": 266,
    "start_time": "2022-11-05T16:11:17.124Z"
   },
   {
    "duration": 244,
    "start_time": "2022-11-05T16:11:23.847Z"
   },
   {
    "duration": 250,
    "start_time": "2022-11-05T16:11:33.392Z"
   },
   {
    "duration": 1183,
    "start_time": "2022-11-05T16:11:38.624Z"
   },
   {
    "duration": 72,
    "start_time": "2022-11-05T16:11:39.809Z"
   },
   {
    "duration": 20,
    "start_time": "2022-11-05T16:11:39.883Z"
   },
   {
    "duration": 38,
    "start_time": "2022-11-05T16:11:39.906Z"
   },
   {
    "duration": 4,
    "start_time": "2022-11-05T16:11:39.945Z"
   },
   {
    "duration": 17,
    "start_time": "2022-11-05T16:11:39.951Z"
   },
   {
    "duration": 13,
    "start_time": "2022-11-05T16:11:39.970Z"
   },
   {
    "duration": 7,
    "start_time": "2022-11-05T16:11:39.985Z"
   },
   {
    "duration": 10,
    "start_time": "2022-11-05T16:11:39.994Z"
   },
   {
    "duration": 6,
    "start_time": "2022-11-05T16:11:40.033Z"
   },
   {
    "duration": 13,
    "start_time": "2022-11-05T16:11:40.041Z"
   },
   {
    "duration": 661,
    "start_time": "2022-11-05T16:11:40.056Z"
   },
   {
    "duration": 21,
    "start_time": "2022-11-05T16:11:40.719Z"
   },
   {
    "duration": 8,
    "start_time": "2022-11-05T16:11:40.742Z"
   },
   {
    "duration": 16,
    "start_time": "2022-11-05T16:11:40.752Z"
   },
   {
    "duration": 9,
    "start_time": "2022-11-05T16:11:40.770Z"
   },
   {
    "duration": 65,
    "start_time": "2022-11-05T16:11:40.781Z"
   },
   {
    "duration": 263,
    "start_time": "2022-11-05T16:11:40.848Z"
   },
   {
    "duration": 258,
    "start_time": "2022-11-05T16:11:41.113Z"
   },
   {
    "duration": 21,
    "start_time": "2022-11-05T16:11:41.372Z"
   },
   {
    "duration": 548,
    "start_time": "2022-11-05T16:11:41.394Z"
   },
   {
    "duration": 16,
    "start_time": "2022-11-05T16:11:41.944Z"
   },
   {
    "duration": 6,
    "start_time": "2022-11-05T16:11:41.962Z"
   },
   {
    "duration": 191,
    "start_time": "2022-11-05T16:11:41.970Z"
   },
   {
    "duration": 16,
    "start_time": "2022-11-05T16:11:42.163Z"
   },
   {
    "duration": 171,
    "start_time": "2022-11-05T16:11:42.181Z"
   },
   {
    "duration": 159,
    "start_time": "2022-11-05T16:11:42.354Z"
   },
   {
    "duration": 219,
    "start_time": "2022-11-05T16:11:42.516Z"
   },
   {
    "duration": 144,
    "start_time": "2022-11-05T16:11:42.737Z"
   },
   {
    "duration": 153,
    "start_time": "2022-11-05T16:11:42.883Z"
   },
   {
    "duration": 147,
    "start_time": "2022-11-05T16:11:43.038Z"
   },
   {
    "duration": 263,
    "start_time": "2022-11-05T16:11:43.187Z"
   },
   {
    "duration": 305,
    "start_time": "2022-11-05T16:11:43.452Z"
   },
   {
    "duration": 129,
    "start_time": "2022-11-05T16:11:43.759Z"
   },
   {
    "duration": 167,
    "start_time": "2022-11-05T16:11:43.890Z"
   },
   {
    "duration": 17,
    "start_time": "2022-11-05T16:11:44.059Z"
   },
   {
    "duration": 7,
    "start_time": "2022-11-05T16:11:44.078Z"
   },
   {
    "duration": 176,
    "start_time": "2022-11-05T16:11:44.087Z"
   },
   {
    "duration": 379,
    "start_time": "2022-11-05T16:11:44.265Z"
   },
   {
    "duration": 53,
    "start_time": "2022-11-05T16:15:22.849Z"
   },
   {
    "duration": 139,
    "start_time": "2022-11-05T16:15:29.744Z"
   },
   {
    "duration": 22,
    "start_time": "2022-11-05T16:16:26.452Z"
   },
   {
    "duration": 1223,
    "start_time": "2022-11-05T16:16:38.653Z"
   },
   {
    "duration": 74,
    "start_time": "2022-11-05T16:16:39.879Z"
   },
   {
    "duration": 16,
    "start_time": "2022-11-05T16:16:39.955Z"
   },
   {
    "duration": 37,
    "start_time": "2022-11-05T16:16:39.973Z"
   },
   {
    "duration": 3,
    "start_time": "2022-11-05T16:16:40.012Z"
   },
   {
    "duration": 31,
    "start_time": "2022-11-05T16:16:40.017Z"
   },
   {
    "duration": 37,
    "start_time": "2022-11-05T16:16:40.050Z"
   },
   {
    "duration": 11,
    "start_time": "2022-11-05T16:16:40.088Z"
   },
   {
    "duration": 19,
    "start_time": "2022-11-05T16:16:40.102Z"
   },
   {
    "duration": 10,
    "start_time": "2022-11-05T16:16:40.124Z"
   },
   {
    "duration": 14,
    "start_time": "2022-11-05T16:16:40.136Z"
   },
   {
    "duration": 669,
    "start_time": "2022-11-05T16:16:40.152Z"
   },
   {
    "duration": 20,
    "start_time": "2022-11-05T16:16:40.823Z"
   },
   {
    "duration": 8,
    "start_time": "2022-11-05T16:16:40.844Z"
   },
   {
    "duration": 17,
    "start_time": "2022-11-05T16:16:40.853Z"
   },
   {
    "duration": 9,
    "start_time": "2022-11-05T16:16:40.872Z"
   },
   {
    "duration": 59,
    "start_time": "2022-11-05T16:16:40.882Z"
   },
   {
    "duration": 265,
    "start_time": "2022-11-05T16:16:40.943Z"
   },
   {
    "duration": 256,
    "start_time": "2022-11-05T16:16:41.210Z"
   },
   {
    "duration": 22,
    "start_time": "2022-11-05T16:16:41.468Z"
   },
   {
    "duration": 517,
    "start_time": "2022-11-05T16:16:41.492Z"
   },
   {
    "duration": 26,
    "start_time": "2022-11-05T16:16:42.011Z"
   },
   {
    "duration": 7,
    "start_time": "2022-11-05T16:16:42.039Z"
   },
   {
    "duration": 203,
    "start_time": "2022-11-05T16:16:42.048Z"
   },
   {
    "duration": 20,
    "start_time": "2022-11-05T16:16:42.253Z"
   },
   {
    "duration": 162,
    "start_time": "2022-11-05T16:16:42.275Z"
   },
   {
    "duration": 158,
    "start_time": "2022-11-05T16:16:42.439Z"
   },
   {
    "duration": 233,
    "start_time": "2022-11-05T16:16:42.601Z"
   },
   {
    "duration": 145,
    "start_time": "2022-11-05T16:16:42.836Z"
   },
   {
    "duration": 161,
    "start_time": "2022-11-05T16:16:42.983Z"
   },
   {
    "duration": 149,
    "start_time": "2022-11-05T16:16:43.147Z"
   },
   {
    "duration": 247,
    "start_time": "2022-11-05T16:16:43.298Z"
   },
   {
    "duration": 312,
    "start_time": "2022-11-05T16:16:43.547Z"
   },
   {
    "duration": 129,
    "start_time": "2022-11-05T16:16:43.861Z"
   },
   {
    "duration": 133,
    "start_time": "2022-11-05T16:16:43.992Z"
   },
   {
    "duration": 19,
    "start_time": "2022-11-05T16:16:44.127Z"
   },
   {
    "duration": 6,
    "start_time": "2022-11-05T16:16:44.148Z"
   },
   {
    "duration": 183,
    "start_time": "2022-11-05T16:16:44.158Z"
   },
   {
    "duration": 396,
    "start_time": "2022-11-05T16:16:44.343Z"
   },
   {
    "duration": 125,
    "start_time": "2022-11-05T16:16:44.741Z"
   },
   {
    "duration": 12,
    "start_time": "2022-11-05T16:17:12.778Z"
   },
   {
    "duration": 14,
    "start_time": "2022-11-05T16:17:25.598Z"
   },
   {
    "duration": 16,
    "start_time": "2022-11-05T16:18:33.493Z"
   },
   {
    "duration": 15,
    "start_time": "2022-11-05T16:20:17.488Z"
   },
   {
    "duration": 15,
    "start_time": "2022-11-05T16:20:37.911Z"
   },
   {
    "duration": 15,
    "start_time": "2022-11-05T16:21:12.716Z"
   },
   {
    "duration": 1170,
    "start_time": "2022-11-05T16:21:56.391Z"
   },
   {
    "duration": 70,
    "start_time": "2022-11-05T16:21:57.563Z"
   },
   {
    "duration": 13,
    "start_time": "2022-11-05T16:21:57.635Z"
   },
   {
    "duration": 28,
    "start_time": "2022-11-05T16:21:57.651Z"
   },
   {
    "duration": 3,
    "start_time": "2022-11-05T16:21:57.681Z"
   },
   {
    "duration": 19,
    "start_time": "2022-11-05T16:21:57.685Z"
   },
   {
    "duration": 10,
    "start_time": "2022-11-05T16:21:57.733Z"
   },
   {
    "duration": 7,
    "start_time": "2022-11-05T16:21:57.745Z"
   },
   {
    "duration": 12,
    "start_time": "2022-11-05T16:21:57.754Z"
   },
   {
    "duration": 11,
    "start_time": "2022-11-05T16:21:57.769Z"
   },
   {
    "duration": 10,
    "start_time": "2022-11-05T16:21:57.782Z"
   },
   {
    "duration": 664,
    "start_time": "2022-11-05T16:21:57.793Z"
   },
   {
    "duration": 14,
    "start_time": "2022-11-05T16:21:58.459Z"
   },
   {
    "duration": 9,
    "start_time": "2022-11-05T16:21:58.475Z"
   },
   {
    "duration": 32,
    "start_time": "2022-11-05T16:21:58.485Z"
   },
   {
    "duration": 21,
    "start_time": "2022-11-05T16:21:58.520Z"
   },
   {
    "duration": 32,
    "start_time": "2022-11-05T16:21:58.543Z"
   },
   {
    "duration": 290,
    "start_time": "2022-11-05T16:21:58.577Z"
   },
   {
    "duration": 283,
    "start_time": "2022-11-05T16:21:58.870Z"
   },
   {
    "duration": 21,
    "start_time": "2022-11-05T16:21:59.155Z"
   },
   {
    "duration": 500,
    "start_time": "2022-11-05T16:21:59.178Z"
   },
   {
    "duration": 27,
    "start_time": "2022-11-05T16:21:59.680Z"
   },
   {
    "duration": 10,
    "start_time": "2022-11-05T16:21:59.709Z"
   },
   {
    "duration": 247,
    "start_time": "2022-11-05T16:21:59.721Z"
   },
   {
    "duration": 15,
    "start_time": "2022-11-05T16:21:59.970Z"
   },
   {
    "duration": 196,
    "start_time": "2022-11-05T16:21:59.987Z"
   },
   {
    "duration": 163,
    "start_time": "2022-11-05T16:22:00.186Z"
   },
   {
    "duration": 224,
    "start_time": "2022-11-05T16:22:00.353Z"
   },
   {
    "duration": 144,
    "start_time": "2022-11-05T16:22:00.579Z"
   },
   {
    "duration": 156,
    "start_time": "2022-11-05T16:22:00.734Z"
   },
   {
    "duration": 156,
    "start_time": "2022-11-05T16:22:00.892Z"
   },
   {
    "duration": 272,
    "start_time": "2022-11-05T16:22:01.051Z"
   },
   {
    "duration": 322,
    "start_time": "2022-11-05T16:22:01.334Z"
   },
   {
    "duration": 164,
    "start_time": "2022-11-05T16:22:01.658Z"
   },
   {
    "duration": 128,
    "start_time": "2022-11-05T16:22:01.824Z"
   },
   {
    "duration": 15,
    "start_time": "2022-11-05T16:22:01.954Z"
   },
   {
    "duration": 6,
    "start_time": "2022-11-05T16:22:01.971Z"
   },
   {
    "duration": 175,
    "start_time": "2022-11-05T16:22:01.978Z"
   },
   {
    "duration": 409,
    "start_time": "2022-11-05T16:22:02.156Z"
   },
   {
    "duration": 14,
    "start_time": "2022-11-05T16:22:02.567Z"
   },
   {
    "duration": 44,
    "start_time": "2022-11-05T16:22:02.583Z"
   },
   {
    "duration": 17,
    "start_time": "2022-11-05T16:22:02.629Z"
   },
   {
    "duration": 46,
    "start_time": "2022-11-05T16:27:07.385Z"
   },
   {
    "duration": 15,
    "start_time": "2022-11-05T16:27:14.259Z"
   },
   {
    "duration": 15,
    "start_time": "2022-11-05T16:27:20.972Z"
   },
   {
    "duration": 1129,
    "start_time": "2022-11-05T16:27:34.977Z"
   },
   {
    "duration": 85,
    "start_time": "2022-11-05T16:27:36.108Z"
   },
   {
    "duration": 20,
    "start_time": "2022-11-05T16:27:36.196Z"
   },
   {
    "duration": 46,
    "start_time": "2022-11-05T16:27:36.218Z"
   },
   {
    "duration": 4,
    "start_time": "2022-11-05T16:27:36.266Z"
   },
   {
    "duration": 23,
    "start_time": "2022-11-05T16:27:36.272Z"
   },
   {
    "duration": 25,
    "start_time": "2022-11-05T16:27:36.297Z"
   },
   {
    "duration": 14,
    "start_time": "2022-11-05T16:27:36.325Z"
   },
   {
    "duration": 31,
    "start_time": "2022-11-05T16:27:36.341Z"
   },
   {
    "duration": 24,
    "start_time": "2022-11-05T16:27:36.375Z"
   },
   {
    "duration": 21,
    "start_time": "2022-11-05T16:27:36.401Z"
   },
   {
    "duration": 668,
    "start_time": "2022-11-05T16:27:36.424Z"
   },
   {
    "duration": 16,
    "start_time": "2022-11-05T16:27:37.094Z"
   },
   {
    "duration": 23,
    "start_time": "2022-11-05T16:27:37.112Z"
   },
   {
    "duration": 18,
    "start_time": "2022-11-05T16:27:37.137Z"
   },
   {
    "duration": 7,
    "start_time": "2022-11-05T16:27:37.157Z"
   },
   {
    "duration": 33,
    "start_time": "2022-11-05T16:27:37.166Z"
   },
   {
    "duration": 289,
    "start_time": "2022-11-05T16:27:37.201Z"
   },
   {
    "duration": 255,
    "start_time": "2022-11-05T16:27:37.491Z"
   },
   {
    "duration": 23,
    "start_time": "2022-11-05T16:27:37.748Z"
   },
   {
    "duration": 523,
    "start_time": "2022-11-05T16:27:37.774Z"
   },
   {
    "duration": 16,
    "start_time": "2022-11-05T16:27:38.299Z"
   },
   {
    "duration": 19,
    "start_time": "2022-11-05T16:27:38.317Z"
   },
   {
    "duration": 204,
    "start_time": "2022-11-05T16:27:38.339Z"
   },
   {
    "duration": 15,
    "start_time": "2022-11-05T16:27:38.545Z"
   },
   {
    "duration": 161,
    "start_time": "2022-11-05T16:27:38.562Z"
   },
   {
    "duration": 161,
    "start_time": "2022-11-05T16:27:38.725Z"
   },
   {
    "duration": 243,
    "start_time": "2022-11-05T16:27:38.890Z"
   },
   {
    "duration": 147,
    "start_time": "2022-11-05T16:27:39.135Z"
   },
   {
    "duration": 154,
    "start_time": "2022-11-05T16:27:39.283Z"
   },
   {
    "duration": 149,
    "start_time": "2022-11-05T16:27:39.439Z"
   },
   {
    "duration": 286,
    "start_time": "2022-11-05T16:27:39.590Z"
   },
   {
    "duration": 326,
    "start_time": "2022-11-05T16:27:39.877Z"
   },
   {
    "duration": 125,
    "start_time": "2022-11-05T16:27:40.217Z"
   },
   {
    "duration": 125,
    "start_time": "2022-11-05T16:27:40.344Z"
   },
   {
    "duration": 18,
    "start_time": "2022-11-05T16:27:40.471Z"
   },
   {
    "duration": 6,
    "start_time": "2022-11-05T16:27:40.491Z"
   },
   {
    "duration": 177,
    "start_time": "2022-11-05T16:27:40.499Z"
   },
   {
    "duration": 411,
    "start_time": "2022-11-05T16:27:40.677Z"
   },
   {
    "duration": 16,
    "start_time": "2022-11-05T16:27:41.089Z"
   },
   {
    "duration": 30,
    "start_time": "2022-11-05T16:27:41.107Z"
   },
   {
    "duration": 19,
    "start_time": "2022-11-05T16:27:41.139Z"
   },
   {
    "duration": 1199,
    "start_time": "2022-11-05T16:29:11.499Z"
   },
   {
    "duration": 74,
    "start_time": "2022-11-05T16:29:12.701Z"
   },
   {
    "duration": 15,
    "start_time": "2022-11-05T16:29:12.777Z"
   },
   {
    "duration": 55,
    "start_time": "2022-11-05T16:29:12.796Z"
   },
   {
    "duration": 5,
    "start_time": "2022-11-05T16:29:12.853Z"
   },
   {
    "duration": 17,
    "start_time": "2022-11-05T16:29:12.859Z"
   },
   {
    "duration": 13,
    "start_time": "2022-11-05T16:29:12.878Z"
   },
   {
    "duration": 6,
    "start_time": "2022-11-05T16:29:12.893Z"
   },
   {
    "duration": 36,
    "start_time": "2022-11-05T16:29:12.901Z"
   },
   {
    "duration": 7,
    "start_time": "2022-11-05T16:29:12.941Z"
   },
   {
    "duration": 17,
    "start_time": "2022-11-05T16:29:12.949Z"
   },
   {
    "duration": 680,
    "start_time": "2022-11-05T16:29:12.968Z"
   },
   {
    "duration": 15,
    "start_time": "2022-11-05T16:29:13.650Z"
   },
   {
    "duration": 10,
    "start_time": "2022-11-05T16:29:13.666Z"
   },
   {
    "duration": 21,
    "start_time": "2022-11-05T16:29:13.677Z"
   },
   {
    "duration": 6,
    "start_time": "2022-11-05T16:29:13.700Z"
   },
   {
    "duration": 43,
    "start_time": "2022-11-05T16:29:13.707Z"
   },
   {
    "duration": 257,
    "start_time": "2022-11-05T16:29:13.752Z"
   },
   {
    "duration": 263,
    "start_time": "2022-11-05T16:29:14.011Z"
   },
   {
    "duration": 21,
    "start_time": "2022-11-05T16:29:14.276Z"
   },
   {
    "duration": 476,
    "start_time": "2022-11-05T16:29:14.298Z"
   },
   {
    "duration": 16,
    "start_time": "2022-11-05T16:29:14.776Z"
   },
   {
    "duration": 8,
    "start_time": "2022-11-05T16:29:14.794Z"
   },
   {
    "duration": 219,
    "start_time": "2022-11-05T16:29:14.804Z"
   },
   {
    "duration": 28,
    "start_time": "2022-11-05T16:29:15.025Z"
   },
   {
    "duration": 168,
    "start_time": "2022-11-05T16:29:15.055Z"
   },
   {
    "duration": 171,
    "start_time": "2022-11-05T16:29:15.225Z"
   },
   {
    "duration": 240,
    "start_time": "2022-11-05T16:29:15.400Z"
   },
   {
    "duration": 148,
    "start_time": "2022-11-05T16:29:15.641Z"
   },
   {
    "duration": 188,
    "start_time": "2022-11-05T16:29:15.791Z"
   },
   {
    "duration": 186,
    "start_time": "2022-11-05T16:29:15.981Z"
   },
   {
    "duration": 347,
    "start_time": "2022-11-05T16:29:16.169Z"
   },
   {
    "duration": 383,
    "start_time": "2022-11-05T16:29:16.518Z"
   },
   {
    "duration": 136,
    "start_time": "2022-11-05T16:29:16.903Z"
   },
   {
    "duration": 136,
    "start_time": "2022-11-05T16:29:17.041Z"
   },
   {
    "duration": 19,
    "start_time": "2022-11-05T16:29:17.179Z"
   },
   {
    "duration": 5,
    "start_time": "2022-11-05T16:29:17.200Z"
   },
   {
    "duration": 205,
    "start_time": "2022-11-05T16:29:17.207Z"
   },
   {
    "duration": 464,
    "start_time": "2022-11-05T16:29:17.414Z"
   },
   {
    "duration": 15,
    "start_time": "2022-11-05T16:29:17.880Z"
   },
   {
    "duration": 21,
    "start_time": "2022-11-05T16:29:17.897Z"
   },
   {
    "duration": 18,
    "start_time": "2022-11-05T16:29:17.934Z"
   },
   {
    "duration": 49,
    "start_time": "2022-11-05T16:35:25.356Z"
   },
   {
    "duration": 116,
    "start_time": "2022-11-05T16:35:51.532Z"
   },
   {
    "duration": 11,
    "start_time": "2022-11-05T16:41:30.331Z"
   },
   {
    "duration": 1252,
    "start_time": "2022-11-05T16:41:49.330Z"
   },
   {
    "duration": 70,
    "start_time": "2022-11-05T16:41:50.583Z"
   },
   {
    "duration": 20,
    "start_time": "2022-11-05T16:41:50.655Z"
   },
   {
    "duration": 29,
    "start_time": "2022-11-05T16:41:50.678Z"
   },
   {
    "duration": 3,
    "start_time": "2022-11-05T16:41:50.708Z"
   },
   {
    "duration": 33,
    "start_time": "2022-11-05T16:41:50.713Z"
   },
   {
    "duration": 10,
    "start_time": "2022-11-05T16:41:50.748Z"
   },
   {
    "duration": 6,
    "start_time": "2022-11-05T16:41:50.760Z"
   },
   {
    "duration": 10,
    "start_time": "2022-11-05T16:41:50.768Z"
   },
   {
    "duration": 8,
    "start_time": "2022-11-05T16:41:50.781Z"
   },
   {
    "duration": 47,
    "start_time": "2022-11-05T16:41:50.792Z"
   },
   {
    "duration": 673,
    "start_time": "2022-11-05T16:41:50.841Z"
   },
   {
    "duration": 23,
    "start_time": "2022-11-05T16:41:51.516Z"
   },
   {
    "duration": 8,
    "start_time": "2022-11-05T16:41:51.542Z"
   },
   {
    "duration": 15,
    "start_time": "2022-11-05T16:41:51.552Z"
   },
   {
    "duration": 7,
    "start_time": "2022-11-05T16:41:51.568Z"
   },
   {
    "duration": 25,
    "start_time": "2022-11-05T16:41:51.577Z"
   },
   {
    "duration": 277,
    "start_time": "2022-11-05T16:41:51.634Z"
   },
   {
    "duration": 313,
    "start_time": "2022-11-05T16:41:51.913Z"
   },
   {
    "duration": 27,
    "start_time": "2022-11-05T16:41:52.228Z"
   },
   {
    "duration": 579,
    "start_time": "2022-11-05T16:41:52.257Z"
   },
   {
    "duration": 15,
    "start_time": "2022-11-05T16:41:52.838Z"
   },
   {
    "duration": 19,
    "start_time": "2022-11-05T16:41:52.855Z"
   },
   {
    "duration": 208,
    "start_time": "2022-11-05T16:41:52.876Z"
   },
   {
    "duration": 17,
    "start_time": "2022-11-05T16:41:53.086Z"
   },
   {
    "duration": 161,
    "start_time": "2022-11-05T16:41:53.105Z"
   },
   {
    "duration": 155,
    "start_time": "2022-11-05T16:41:53.268Z"
   },
   {
    "duration": 217,
    "start_time": "2022-11-05T16:41:53.433Z"
   },
   {
    "duration": 140,
    "start_time": "2022-11-05T16:41:53.652Z"
   },
   {
    "duration": 147,
    "start_time": "2022-11-05T16:41:53.794Z"
   },
   {
    "duration": 153,
    "start_time": "2022-11-05T16:41:53.942Z"
   },
   {
    "duration": 259,
    "start_time": "2022-11-05T16:41:54.097Z"
   },
   {
    "duration": 317,
    "start_time": "2022-11-05T16:41:54.358Z"
   },
   {
    "duration": 195,
    "start_time": "2022-11-05T16:41:54.677Z"
   },
   {
    "duration": 146,
    "start_time": "2022-11-05T16:41:54.874Z"
   },
   {
    "duration": 21,
    "start_time": "2022-11-05T16:41:55.022Z"
   },
   {
    "duration": 5,
    "start_time": "2022-11-05T16:41:55.046Z"
   },
   {
    "duration": 162,
    "start_time": "2022-11-05T16:41:55.054Z"
   },
   {
    "duration": 383,
    "start_time": "2022-11-05T16:41:55.218Z"
   },
   {
    "duration": 15,
    "start_time": "2022-11-05T16:41:55.603Z"
   },
   {
    "duration": 16,
    "start_time": "2022-11-05T16:41:55.634Z"
   },
   {
    "duration": 21,
    "start_time": "2022-11-05T16:41:55.651Z"
   },
   {
    "duration": 116,
    "start_time": "2022-11-05T16:41:55.673Z"
   },
   {
    "duration": 11,
    "start_time": "2022-11-05T16:43:06.926Z"
   },
   {
    "duration": 11,
    "start_time": "2022-11-05T16:43:12.222Z"
   },
   {
    "duration": 54,
    "start_time": "2022-11-05T18:59:41.722Z"
   },
   {
    "duration": 1508,
    "start_time": "2022-11-05T18:59:49.335Z"
   },
   {
    "duration": 490,
    "start_time": "2022-11-05T18:59:50.845Z"
   },
   {
    "duration": 16,
    "start_time": "2022-11-05T18:59:51.336Z"
   },
   {
    "duration": 31,
    "start_time": "2022-11-05T18:59:51.354Z"
   },
   {
    "duration": 3,
    "start_time": "2022-11-05T18:59:51.387Z"
   },
   {
    "duration": 40,
    "start_time": "2022-11-05T18:59:51.391Z"
   },
   {
    "duration": 9,
    "start_time": "2022-11-05T18:59:51.432Z"
   },
   {
    "duration": 7,
    "start_time": "2022-11-05T18:59:51.443Z"
   },
   {
    "duration": 11,
    "start_time": "2022-11-05T18:59:51.452Z"
   },
   {
    "duration": 7,
    "start_time": "2022-11-05T18:59:51.465Z"
   },
   {
    "duration": 30,
    "start_time": "2022-11-05T18:59:51.474Z"
   },
   {
    "duration": 734,
    "start_time": "2022-11-05T18:59:51.506Z"
   },
   {
    "duration": 14,
    "start_time": "2022-11-05T18:59:52.241Z"
   },
   {
    "duration": 24,
    "start_time": "2022-11-05T18:59:52.256Z"
   },
   {
    "duration": 33,
    "start_time": "2022-11-05T18:59:52.282Z"
   },
   {
    "duration": 17,
    "start_time": "2022-11-05T18:59:52.317Z"
   },
   {
    "duration": 58,
    "start_time": "2022-11-05T18:59:52.336Z"
   },
   {
    "duration": 277,
    "start_time": "2022-11-05T18:59:52.396Z"
   },
   {
    "duration": 287,
    "start_time": "2022-11-05T18:59:52.675Z"
   },
   {
    "duration": 21,
    "start_time": "2022-11-05T18:59:52.964Z"
   },
   {
    "duration": 496,
    "start_time": "2022-11-05T18:59:52.987Z"
   },
   {
    "duration": 17,
    "start_time": "2022-11-05T18:59:53.484Z"
   },
   {
    "duration": 24,
    "start_time": "2022-11-05T18:59:53.503Z"
   },
   {
    "duration": 196,
    "start_time": "2022-11-05T18:59:53.529Z"
   },
   {
    "duration": 17,
    "start_time": "2022-11-05T18:59:53.728Z"
   },
   {
    "duration": 166,
    "start_time": "2022-11-05T18:59:53.747Z"
   },
   {
    "duration": 158,
    "start_time": "2022-11-05T18:59:53.923Z"
   },
   {
    "duration": 251,
    "start_time": "2022-11-05T18:59:54.086Z"
   },
   {
    "duration": 151,
    "start_time": "2022-11-05T18:59:54.339Z"
   },
   {
    "duration": 165,
    "start_time": "2022-11-05T18:59:54.491Z"
   },
   {
    "duration": 152,
    "start_time": "2022-11-05T18:59:54.658Z"
   },
   {
    "duration": 263,
    "start_time": "2022-11-05T18:59:54.812Z"
   },
   {
    "duration": 366,
    "start_time": "2022-11-05T18:59:55.077Z"
   },
   {
    "duration": 138,
    "start_time": "2022-11-05T18:59:55.445Z"
   },
   {
    "duration": 140,
    "start_time": "2022-11-05T18:59:55.585Z"
   },
   {
    "duration": 16,
    "start_time": "2022-11-05T18:59:55.727Z"
   },
   {
    "duration": 3,
    "start_time": "2022-11-05T18:59:55.745Z"
   },
   {
    "duration": 180,
    "start_time": "2022-11-05T18:59:55.749Z"
   },
   {
    "duration": 397,
    "start_time": "2022-11-05T18:59:55.930Z"
   },
   {
    "duration": 16,
    "start_time": "2022-11-05T18:59:56.328Z"
   },
   {
    "duration": 17,
    "start_time": "2022-11-05T18:59:56.346Z"
   },
   {
    "duration": 14,
    "start_time": "2022-11-05T18:59:56.365Z"
   },
   {
    "duration": 136,
    "start_time": "2022-11-05T18:59:56.381Z"
   },
   {
    "duration": 93,
    "start_time": "2022-11-05T19:00:08.668Z"
   },
   {
    "duration": 17,
    "start_time": "2022-11-05T19:00:14.669Z"
   },
   {
    "duration": 4,
    "start_time": "2022-11-05T19:00:58.292Z"
   },
   {
    "duration": 11,
    "start_time": "2022-11-05T19:03:37.477Z"
   },
   {
    "duration": 12,
    "start_time": "2022-11-05T19:04:34.350Z"
   },
   {
    "duration": 11,
    "start_time": "2022-11-05T19:04:43.978Z"
   },
   {
    "duration": 12,
    "start_time": "2022-11-05T19:04:56.978Z"
   },
   {
    "duration": 12,
    "start_time": "2022-11-05T19:07:36.845Z"
   },
   {
    "duration": 3,
    "start_time": "2022-11-05T19:08:13.123Z"
   },
   {
    "duration": 5,
    "start_time": "2022-11-05T19:08:21.416Z"
   },
   {
    "duration": 4,
    "start_time": "2022-11-05T19:08:36.002Z"
   },
   {
    "duration": 5,
    "start_time": "2022-11-05T19:08:50.590Z"
   },
   {
    "duration": 19,
    "start_time": "2022-11-05T19:10:50.876Z"
   },
   {
    "duration": 18,
    "start_time": "2022-11-05T19:11:03.443Z"
   },
   {
    "duration": 19,
    "start_time": "2022-11-05T19:11:15.938Z"
   },
   {
    "duration": 25,
    "start_time": "2022-11-05T19:11:40.623Z"
   },
   {
    "duration": 20,
    "start_time": "2022-11-05T19:12:15.747Z"
   },
   {
    "duration": 18,
    "start_time": "2022-11-05T19:12:47.343Z"
   },
   {
    "duration": 392,
    "start_time": "2022-11-05T19:20:18.019Z"
   },
   {
    "duration": 30,
    "start_time": "2022-11-05T19:20:57.337Z"
   },
   {
    "duration": 502,
    "start_time": "2022-11-05T19:21:01.393Z"
   },
   {
    "duration": 347,
    "start_time": "2022-11-05T19:21:55.654Z"
   },
   {
    "duration": 241,
    "start_time": "2022-11-05T19:23:02.148Z"
   },
   {
    "duration": 17,
    "start_time": "2022-11-05T19:23:32.386Z"
   },
   {
    "duration": 43,
    "start_time": "2022-11-05T19:24:12.009Z"
   },
   {
    "duration": 343,
    "start_time": "2022-11-05T19:24:45.532Z"
   },
   {
    "duration": 354,
    "start_time": "2022-11-05T19:25:08.825Z"
   },
   {
    "duration": 152,
    "start_time": "2022-11-05T19:25:55.082Z"
   },
   {
    "duration": 24,
    "start_time": "2022-11-05T19:26:38.792Z"
   },
   {
    "duration": 20,
    "start_time": "2022-11-05T19:26:50.978Z"
   },
   {
    "duration": 22,
    "start_time": "2022-11-05T19:27:03.247Z"
   },
   {
    "duration": 26,
    "start_time": "2022-11-05T19:27:18.303Z"
   },
   {
    "duration": 361,
    "start_time": "2022-11-05T19:27:26.776Z"
   },
   {
    "duration": 155,
    "start_time": "2022-11-05T19:28:12.818Z"
   },
   {
    "duration": 150,
    "start_time": "2022-11-05T19:29:12.228Z"
   },
   {
    "duration": 379,
    "start_time": "2022-11-05T19:36:39.282Z"
   },
   {
    "duration": 312,
    "start_time": "2022-11-05T19:38:14.152Z"
   },
   {
    "duration": 151,
    "start_time": "2022-11-05T19:38:41.104Z"
   },
   {
    "duration": 286,
    "start_time": "2022-11-05T19:39:10.866Z"
   },
   {
    "duration": 347,
    "start_time": "2022-11-05T19:40:52.058Z"
   },
   {
    "duration": 338,
    "start_time": "2022-11-05T19:41:08.323Z"
   },
   {
    "duration": 143,
    "start_time": "2022-11-05T19:41:39.790Z"
   },
   {
    "duration": 151,
    "start_time": "2022-11-05T19:42:24.669Z"
   },
   {
    "duration": 144,
    "start_time": "2022-11-05T19:43:04.672Z"
   },
   {
    "duration": 1432,
    "start_time": "2022-11-05T19:53:17.992Z"
   },
   {
    "duration": 88,
    "start_time": "2022-11-05T19:53:19.428Z"
   },
   {
    "duration": 29,
    "start_time": "2022-11-05T19:53:19.517Z"
   },
   {
    "duration": 32,
    "start_time": "2022-11-05T19:53:19.550Z"
   },
   {
    "duration": 4,
    "start_time": "2022-11-05T19:53:19.583Z"
   },
   {
    "duration": 39,
    "start_time": "2022-11-05T19:53:19.588Z"
   },
   {
    "duration": 13,
    "start_time": "2022-11-05T19:53:19.631Z"
   },
   {
    "duration": 6,
    "start_time": "2022-11-05T19:53:19.646Z"
   },
   {
    "duration": 11,
    "start_time": "2022-11-05T19:53:19.653Z"
   },
   {
    "duration": 5,
    "start_time": "2022-11-05T19:53:19.667Z"
   },
   {
    "duration": 9,
    "start_time": "2022-11-05T19:53:19.674Z"
   },
   {
    "duration": 747,
    "start_time": "2022-11-05T19:53:19.685Z"
   },
   {
    "duration": 20,
    "start_time": "2022-11-05T19:53:20.435Z"
   },
   {
    "duration": 9,
    "start_time": "2022-11-05T19:53:20.456Z"
   },
   {
    "duration": 14,
    "start_time": "2022-11-05T19:53:20.466Z"
   },
   {
    "duration": 45,
    "start_time": "2022-11-05T19:53:20.481Z"
   },
   {
    "duration": 33,
    "start_time": "2022-11-05T19:53:20.530Z"
   },
   {
    "duration": 340,
    "start_time": "2022-11-05T19:53:20.565Z"
   },
   {
    "duration": 322,
    "start_time": "2022-11-05T19:53:20.907Z"
   },
   {
    "duration": 30,
    "start_time": "2022-11-05T19:53:21.232Z"
   },
   {
    "duration": 557,
    "start_time": "2022-11-05T19:53:21.263Z"
   },
   {
    "duration": 30,
    "start_time": "2022-11-05T19:53:21.824Z"
   },
   {
    "duration": 8,
    "start_time": "2022-11-05T19:53:21.857Z"
   },
   {
    "duration": 285,
    "start_time": "2022-11-05T19:53:21.867Z"
   },
   {
    "duration": 21,
    "start_time": "2022-11-05T19:53:22.154Z"
   },
   {
    "duration": 188,
    "start_time": "2022-11-05T19:53:22.177Z"
   },
   {
    "duration": 195,
    "start_time": "2022-11-05T19:53:22.367Z"
   },
   {
    "duration": 272,
    "start_time": "2022-11-05T19:53:22.566Z"
   },
   {
    "duration": 174,
    "start_time": "2022-11-05T19:53:22.842Z"
   },
   {
    "duration": 183,
    "start_time": "2022-11-05T19:53:23.019Z"
   },
   {
    "duration": 175,
    "start_time": "2022-11-05T19:53:23.204Z"
   },
   {
    "duration": 301,
    "start_time": "2022-11-05T19:53:23.381Z"
   },
   {
    "duration": 402,
    "start_time": "2022-11-05T19:53:23.684Z"
   },
   {
    "duration": 171,
    "start_time": "2022-11-05T19:53:24.089Z"
   },
   {
    "duration": 154,
    "start_time": "2022-11-05T19:53:24.262Z"
   },
   {
    "duration": 24,
    "start_time": "2022-11-05T19:53:24.418Z"
   },
   {
    "duration": 4,
    "start_time": "2022-11-05T19:53:24.444Z"
   },
   {
    "duration": 194,
    "start_time": "2022-11-05T19:53:24.450Z"
   },
   {
    "duration": 460,
    "start_time": "2022-11-05T19:53:24.648Z"
   },
   {
    "duration": 27,
    "start_time": "2022-11-05T19:53:25.110Z"
   },
   {
    "duration": 18,
    "start_time": "2022-11-05T19:53:25.140Z"
   },
   {
    "duration": 15,
    "start_time": "2022-11-05T19:53:25.160Z"
   },
   {
    "duration": 16,
    "start_time": "2022-11-05T19:53:25.176Z"
   },
   {
    "duration": 18,
    "start_time": "2022-11-05T19:53:25.224Z"
   },
   {
    "duration": 18,
    "start_time": "2022-11-05T19:53:25.245Z"
   },
   {
    "duration": 407,
    "start_time": "2022-11-05T19:53:25.265Z"
   },
   {
    "duration": 283,
    "start_time": "2022-11-05T19:53:25.674Z"
   },
   {
    "duration": 158,
    "start_time": "2022-11-05T19:53:25.959Z"
   },
   {
    "duration": 349,
    "start_time": "2022-11-05T19:53:26.129Z"
   },
   {
    "duration": 153,
    "start_time": "2022-11-05T19:53:26.480Z"
   },
   {
    "duration": 144,
    "start_time": "2022-11-05T19:53:26.636Z"
   },
   {
    "duration": 392,
    "start_time": "2022-11-05T19:53:26.782Z"
   },
   {
    "duration": 159,
    "start_time": "2022-11-05T19:53:27.177Z"
   },
   {
    "duration": 158,
    "start_time": "2022-11-05T19:53:27.341Z"
   },
   {
    "duration": 1456,
    "start_time": "2022-11-05T19:56:38.295Z"
   },
   {
    "duration": 97,
    "start_time": "2022-11-05T19:56:39.754Z"
   },
   {
    "duration": 18,
    "start_time": "2022-11-05T19:56:39.853Z"
   },
   {
    "duration": 54,
    "start_time": "2022-11-05T19:56:39.874Z"
   },
   {
    "duration": 5,
    "start_time": "2022-11-05T19:56:39.930Z"
   },
   {
    "duration": 21,
    "start_time": "2022-11-05T19:56:39.938Z"
   },
   {
    "duration": 9,
    "start_time": "2022-11-05T19:56:39.961Z"
   },
   {
    "duration": 7,
    "start_time": "2022-11-05T19:56:39.972Z"
   },
   {
    "duration": 55,
    "start_time": "2022-11-05T19:56:39.982Z"
   },
   {
    "duration": 9,
    "start_time": "2022-11-05T19:56:40.042Z"
   },
   {
    "duration": 16,
    "start_time": "2022-11-05T19:56:40.053Z"
   },
   {
    "duration": 744,
    "start_time": "2022-11-05T19:56:40.071Z"
   },
   {
    "duration": 23,
    "start_time": "2022-11-05T19:56:40.818Z"
   },
   {
    "duration": 13,
    "start_time": "2022-11-05T19:56:40.847Z"
   },
   {
    "duration": 22,
    "start_time": "2022-11-05T19:56:40.868Z"
   },
   {
    "duration": 11,
    "start_time": "2022-11-05T19:56:40.892Z"
   },
   {
    "duration": 33,
    "start_time": "2022-11-05T19:56:40.942Z"
   },
   {
    "duration": 315,
    "start_time": "2022-11-05T19:56:40.977Z"
   },
   {
    "duration": 325,
    "start_time": "2022-11-05T19:56:41.294Z"
   },
   {
    "duration": 37,
    "start_time": "2022-11-05T19:56:41.627Z"
   },
   {
    "duration": 630,
    "start_time": "2022-11-05T19:56:41.666Z"
   },
   {
    "duration": 30,
    "start_time": "2022-11-05T19:56:42.299Z"
   },
   {
    "duration": 12,
    "start_time": "2022-11-05T19:56:42.331Z"
   },
   {
    "duration": 219,
    "start_time": "2022-11-05T19:56:42.345Z"
   },
   {
    "duration": 14,
    "start_time": "2022-11-05T19:56:42.566Z"
   },
   {
    "duration": 193,
    "start_time": "2022-11-05T19:56:42.582Z"
   },
   {
    "duration": 194,
    "start_time": "2022-11-05T19:56:42.777Z"
   },
   {
    "duration": 234,
    "start_time": "2022-11-05T19:56:42.975Z"
   },
   {
    "duration": 188,
    "start_time": "2022-11-05T19:56:43.211Z"
   },
   {
    "duration": 177,
    "start_time": "2022-11-05T19:56:43.402Z"
   },
   {
    "duration": 149,
    "start_time": "2022-11-05T19:56:43.581Z"
   },
   {
    "duration": 279,
    "start_time": "2022-11-05T19:56:43.732Z"
   },
   {
    "duration": 362,
    "start_time": "2022-11-05T19:56:44.012Z"
   },
   {
    "duration": 143,
    "start_time": "2022-11-05T19:56:44.375Z"
   },
   {
    "duration": 163,
    "start_time": "2022-11-05T19:56:44.520Z"
   },
   {
    "duration": 17,
    "start_time": "2022-11-05T19:56:44.685Z"
   },
   {
    "duration": 23,
    "start_time": "2022-11-05T19:56:44.704Z"
   },
   {
    "duration": 194,
    "start_time": "2022-11-05T19:56:44.730Z"
   },
   {
    "duration": 423,
    "start_time": "2022-11-05T19:56:44.926Z"
   },
   {
    "duration": 16,
    "start_time": "2022-11-05T19:56:45.351Z"
   },
   {
    "duration": 18,
    "start_time": "2022-11-05T19:56:45.369Z"
   },
   {
    "duration": 37,
    "start_time": "2022-11-05T19:56:45.389Z"
   },
   {
    "duration": 21,
    "start_time": "2022-11-05T19:56:45.429Z"
   },
   {
    "duration": 16,
    "start_time": "2022-11-05T19:56:45.452Z"
   },
   {
    "duration": 16,
    "start_time": "2022-11-05T19:56:45.470Z"
   },
   {
    "duration": 384,
    "start_time": "2022-11-05T19:56:45.487Z"
   },
   {
    "duration": 272,
    "start_time": "2022-11-05T19:56:45.873Z"
   },
   {
    "duration": 157,
    "start_time": "2022-11-05T19:56:46.148Z"
   },
   {
    "duration": 376,
    "start_time": "2022-11-05T19:56:46.306Z"
   },
   {
    "duration": 170,
    "start_time": "2022-11-05T19:56:46.684Z"
   },
   {
    "duration": 155,
    "start_time": "2022-11-05T19:56:46.856Z"
   },
   {
    "duration": 342,
    "start_time": "2022-11-05T19:56:47.013Z"
   },
   {
    "duration": 162,
    "start_time": "2022-11-05T19:56:47.357Z"
   },
   {
    "duration": 154,
    "start_time": "2022-11-05T19:56:47.521Z"
   },
   {
    "duration": 73,
    "start_time": "2022-11-05T19:59:56.527Z"
   },
   {
    "duration": 73,
    "start_time": "2022-11-05T20:00:10.337Z"
   },
   {
    "duration": 51,
    "start_time": "2022-11-05T20:22:29.372Z"
   },
   {
    "duration": 113,
    "start_time": "2022-11-05T20:22:49.882Z"
   },
   {
    "duration": 1254,
    "start_time": "2022-11-05T20:24:02.696Z"
   },
   {
    "duration": 76,
    "start_time": "2022-11-05T20:24:03.952Z"
   },
   {
    "duration": 15,
    "start_time": "2022-11-05T20:24:04.030Z"
   },
   {
    "duration": 31,
    "start_time": "2022-11-05T20:24:04.047Z"
   },
   {
    "duration": 3,
    "start_time": "2022-11-05T20:24:04.080Z"
   },
   {
    "duration": 39,
    "start_time": "2022-11-05T20:24:04.085Z"
   },
   {
    "duration": 9,
    "start_time": "2022-11-05T20:24:04.126Z"
   },
   {
    "duration": 6,
    "start_time": "2022-11-05T20:24:04.136Z"
   },
   {
    "duration": 12,
    "start_time": "2022-11-05T20:24:04.143Z"
   },
   {
    "duration": 6,
    "start_time": "2022-11-05T20:24:04.157Z"
   },
   {
    "duration": 10,
    "start_time": "2022-11-05T20:24:04.165Z"
   },
   {
    "duration": 629,
    "start_time": "2022-11-05T20:24:04.177Z"
   },
   {
    "duration": 19,
    "start_time": "2022-11-05T20:24:04.807Z"
   },
   {
    "duration": 7,
    "start_time": "2022-11-05T20:24:04.828Z"
   },
   {
    "duration": 14,
    "start_time": "2022-11-05T20:24:04.837Z"
   },
   {
    "duration": 8,
    "start_time": "2022-11-05T20:24:04.852Z"
   },
   {
    "duration": 34,
    "start_time": "2022-11-05T20:24:04.861Z"
   },
   {
    "duration": 263,
    "start_time": "2022-11-05T20:24:04.923Z"
   },
   {
    "duration": 278,
    "start_time": "2022-11-05T20:24:05.187Z"
   },
   {
    "duration": 22,
    "start_time": "2022-11-05T20:24:05.467Z"
   },
   {
    "duration": 476,
    "start_time": "2022-11-05T20:24:05.491Z"
   },
   {
    "duration": 17,
    "start_time": "2022-11-05T20:24:05.969Z"
   },
   {
    "duration": 6,
    "start_time": "2022-11-05T20:24:05.988Z"
   },
   {
    "duration": 202,
    "start_time": "2022-11-05T20:24:05.996Z"
   },
   {
    "duration": 16,
    "start_time": "2022-11-05T20:24:06.200Z"
   },
   {
    "duration": 157,
    "start_time": "2022-11-05T20:24:06.224Z"
   },
   {
    "duration": 165,
    "start_time": "2022-11-05T20:24:06.383Z"
   },
   {
    "duration": 237,
    "start_time": "2022-11-05T20:24:06.552Z"
   },
   {
    "duration": 141,
    "start_time": "2022-11-05T20:24:06.791Z"
   },
   {
    "duration": 154,
    "start_time": "2022-11-05T20:24:06.934Z"
   },
   {
    "duration": 150,
    "start_time": "2022-11-05T20:24:07.089Z"
   },
   {
    "duration": 260,
    "start_time": "2022-11-05T20:24:07.241Z"
   },
   {
    "duration": 333,
    "start_time": "2022-11-05T20:24:07.503Z"
   },
   {
    "duration": 136,
    "start_time": "2022-11-05T20:24:07.837Z"
   },
   {
    "duration": 153,
    "start_time": "2022-11-05T20:24:07.975Z"
   },
   {
    "duration": 18,
    "start_time": "2022-11-05T20:24:08.129Z"
   },
   {
    "duration": 4,
    "start_time": "2022-11-05T20:24:08.149Z"
   },
   {
    "duration": 192,
    "start_time": "2022-11-05T20:24:08.156Z"
   },
   {
    "duration": 414,
    "start_time": "2022-11-05T20:24:08.351Z"
   },
   {
    "duration": 15,
    "start_time": "2022-11-05T20:24:08.767Z"
   },
   {
    "duration": 27,
    "start_time": "2022-11-05T20:24:08.784Z"
   },
   {
    "duration": 22,
    "start_time": "2022-11-05T20:24:08.813Z"
   },
   {
    "duration": 22,
    "start_time": "2022-11-05T20:24:08.837Z"
   },
   {
    "duration": 17,
    "start_time": "2022-11-05T20:24:08.861Z"
   },
   {
    "duration": 16,
    "start_time": "2022-11-05T20:24:08.879Z"
   },
   {
    "duration": 138,
    "start_time": "2022-11-05T20:24:08.896Z"
   },
   {
    "duration": 305,
    "start_time": "2022-11-05T20:24:09.036Z"
   },
   {
    "duration": 143,
    "start_time": "2022-11-05T20:24:09.343Z"
   },
   {
    "duration": 143,
    "start_time": "2022-11-05T20:24:09.487Z"
   },
   {
    "duration": 317,
    "start_time": "2022-11-05T20:24:09.632Z"
   },
   {
    "duration": 133,
    "start_time": "2022-11-05T20:24:09.951Z"
   },
   {
    "duration": 127,
    "start_time": "2022-11-05T20:24:10.086Z"
   },
   {
    "duration": 329,
    "start_time": "2022-11-05T20:24:10.215Z"
   },
   {
    "duration": 141,
    "start_time": "2022-11-05T20:24:10.546Z"
   },
   {
    "duration": 140,
    "start_time": "2022-11-05T20:24:10.688Z"
   },
   {
    "duration": 15,
    "start_time": "2022-11-05T20:24:10.830Z"
   },
   {
    "duration": 12,
    "start_time": "2022-11-05T20:32:39.271Z"
   },
   {
    "duration": 6,
    "start_time": "2022-11-05T20:33:11.752Z"
   },
   {
    "duration": 12,
    "start_time": "2022-11-05T20:34:36.075Z"
   },
   {
    "duration": 12,
    "start_time": "2022-11-05T20:34:44.941Z"
   },
   {
    "duration": 12,
    "start_time": "2022-11-05T20:36:27.796Z"
   },
   {
    "duration": 1300,
    "start_time": "2022-11-05T20:37:16.529Z"
   },
   {
    "duration": 76,
    "start_time": "2022-11-05T20:37:17.831Z"
   },
   {
    "duration": 17,
    "start_time": "2022-11-05T20:37:17.908Z"
   },
   {
    "duration": 34,
    "start_time": "2022-11-05T20:37:17.927Z"
   },
   {
    "duration": 3,
    "start_time": "2022-11-05T20:37:17.962Z"
   },
   {
    "duration": 16,
    "start_time": "2022-11-05T20:37:17.967Z"
   },
   {
    "duration": 8,
    "start_time": "2022-11-05T20:37:17.984Z"
   },
   {
    "duration": 5,
    "start_time": "2022-11-05T20:37:17.993Z"
   },
   {
    "duration": 10,
    "start_time": "2022-11-05T20:37:18.023Z"
   },
   {
    "duration": 6,
    "start_time": "2022-11-05T20:37:18.036Z"
   },
   {
    "duration": 11,
    "start_time": "2022-11-05T20:37:18.044Z"
   },
   {
    "duration": 669,
    "start_time": "2022-11-05T20:37:18.057Z"
   },
   {
    "duration": 14,
    "start_time": "2022-11-05T20:37:18.728Z"
   },
   {
    "duration": 7,
    "start_time": "2022-11-05T20:37:18.745Z"
   },
   {
    "duration": 13,
    "start_time": "2022-11-05T20:37:18.754Z"
   },
   {
    "duration": 8,
    "start_time": "2022-11-05T20:37:18.769Z"
   },
   {
    "duration": 66,
    "start_time": "2022-11-05T20:37:18.778Z"
   },
   {
    "duration": 278,
    "start_time": "2022-11-05T20:37:18.846Z"
   },
   {
    "duration": 279,
    "start_time": "2022-11-05T20:37:19.125Z"
   },
   {
    "duration": 46,
    "start_time": "2022-11-05T20:37:19.406Z"
   },
   {
    "duration": 526,
    "start_time": "2022-11-05T20:37:19.454Z"
   },
   {
    "duration": 17,
    "start_time": "2022-11-05T20:37:19.982Z"
   },
   {
    "duration": 22,
    "start_time": "2022-11-05T20:37:20.002Z"
   },
   {
    "duration": 199,
    "start_time": "2022-11-05T20:37:20.026Z"
   },
   {
    "duration": 18,
    "start_time": "2022-11-05T20:37:20.226Z"
   },
   {
    "duration": 183,
    "start_time": "2022-11-05T20:37:20.246Z"
   },
   {
    "duration": 161,
    "start_time": "2022-11-05T20:37:20.431Z"
   },
   {
    "duration": 237,
    "start_time": "2022-11-05T20:37:20.594Z"
   },
   {
    "duration": 160,
    "start_time": "2022-11-05T20:37:20.833Z"
   },
   {
    "duration": 158,
    "start_time": "2022-11-05T20:37:20.994Z"
   },
   {
    "duration": 158,
    "start_time": "2022-11-05T20:37:21.154Z"
   },
   {
    "duration": 269,
    "start_time": "2022-11-05T20:37:21.314Z"
   },
   {
    "duration": 391,
    "start_time": "2022-11-05T20:37:21.585Z"
   },
   {
    "duration": 156,
    "start_time": "2022-11-05T20:37:21.978Z"
   },
   {
    "duration": 150,
    "start_time": "2022-11-05T20:37:22.136Z"
   },
   {
    "duration": 18,
    "start_time": "2022-11-05T20:37:22.288Z"
   },
   {
    "duration": 17,
    "start_time": "2022-11-05T20:37:22.308Z"
   },
   {
    "duration": 172,
    "start_time": "2022-11-05T20:37:22.327Z"
   },
   {
    "duration": 426,
    "start_time": "2022-11-05T20:37:22.501Z"
   },
   {
    "duration": 16,
    "start_time": "2022-11-05T20:37:22.930Z"
   },
   {
    "duration": 18,
    "start_time": "2022-11-05T20:37:22.949Z"
   },
   {
    "duration": 16,
    "start_time": "2022-11-05T20:37:22.969Z"
   },
   {
    "duration": 45,
    "start_time": "2022-11-05T20:37:22.987Z"
   },
   {
    "duration": 18,
    "start_time": "2022-11-05T20:37:23.036Z"
   },
   {
    "duration": 25,
    "start_time": "2022-11-05T20:37:23.056Z"
   },
   {
    "duration": 18,
    "start_time": "2022-11-05T20:37:23.083Z"
   },
   {
    "duration": 343,
    "start_time": "2022-11-05T20:37:23.103Z"
   },
   {
    "duration": 246,
    "start_time": "2022-11-05T20:37:23.448Z"
   },
   {
    "duration": 136,
    "start_time": "2022-11-05T20:37:23.696Z"
   },
   {
    "duration": 311,
    "start_time": "2022-11-05T20:37:23.834Z"
   },
   {
    "duration": 140,
    "start_time": "2022-11-05T20:37:24.147Z"
   },
   {
    "duration": 147,
    "start_time": "2022-11-05T20:37:24.289Z"
   },
   {
    "duration": 307,
    "start_time": "2022-11-05T20:37:24.438Z"
   },
   {
    "duration": 147,
    "start_time": "2022-11-05T20:37:24.747Z"
   },
   {
    "duration": 149,
    "start_time": "2022-11-05T20:37:24.896Z"
   },
   {
    "duration": 13,
    "start_time": "2022-11-05T20:37:25.048Z"
   },
   {
    "duration": 67,
    "start_time": "2022-11-05T20:40:27.236Z"
   },
   {
    "duration": 12,
    "start_time": "2022-11-05T20:40:37.326Z"
   },
   {
    "duration": 1257,
    "start_time": "2022-11-05T20:40:47.088Z"
   },
   {
    "duration": 78,
    "start_time": "2022-11-05T20:40:48.347Z"
   },
   {
    "duration": 16,
    "start_time": "2022-11-05T20:40:48.427Z"
   },
   {
    "duration": 32,
    "start_time": "2022-11-05T20:40:48.445Z"
   },
   {
    "duration": 4,
    "start_time": "2022-11-05T20:40:48.479Z"
   },
   {
    "duration": 41,
    "start_time": "2022-11-05T20:40:48.484Z"
   },
   {
    "duration": 8,
    "start_time": "2022-11-05T20:40:48.527Z"
   },
   {
    "duration": 6,
    "start_time": "2022-11-05T20:40:48.536Z"
   },
   {
    "duration": 13,
    "start_time": "2022-11-05T20:40:48.543Z"
   },
   {
    "duration": 14,
    "start_time": "2022-11-05T20:40:48.559Z"
   },
   {
    "duration": 11,
    "start_time": "2022-11-05T20:40:48.574Z"
   },
   {
    "duration": 648,
    "start_time": "2022-11-05T20:40:48.587Z"
   },
   {
    "duration": 14,
    "start_time": "2022-11-05T20:40:49.237Z"
   },
   {
    "duration": 19,
    "start_time": "2022-11-05T20:40:49.252Z"
   },
   {
    "duration": 38,
    "start_time": "2022-11-05T20:40:49.273Z"
   },
   {
    "duration": 8,
    "start_time": "2022-11-05T20:40:49.312Z"
   },
   {
    "duration": 47,
    "start_time": "2022-11-05T20:40:49.322Z"
   },
   {
    "duration": 268,
    "start_time": "2022-11-05T20:40:49.371Z"
   },
   {
    "duration": 270,
    "start_time": "2022-11-05T20:40:49.641Z"
   },
   {
    "duration": 24,
    "start_time": "2022-11-05T20:40:49.913Z"
   },
   {
    "duration": 498,
    "start_time": "2022-11-05T20:40:49.939Z"
   },
   {
    "duration": 17,
    "start_time": "2022-11-05T20:40:50.439Z"
   },
   {
    "duration": 16,
    "start_time": "2022-11-05T20:40:50.458Z"
   },
   {
    "duration": 206,
    "start_time": "2022-11-05T20:40:50.475Z"
   },
   {
    "duration": 17,
    "start_time": "2022-11-05T20:40:50.683Z"
   },
   {
    "duration": 177,
    "start_time": "2022-11-05T20:40:50.702Z"
   },
   {
    "duration": 161,
    "start_time": "2022-11-05T20:40:50.881Z"
   },
   {
    "duration": 241,
    "start_time": "2022-11-05T20:40:51.046Z"
   },
   {
    "duration": 155,
    "start_time": "2022-11-05T20:40:51.289Z"
   },
   {
    "duration": 157,
    "start_time": "2022-11-05T20:40:51.446Z"
   },
   {
    "duration": 150,
    "start_time": "2022-11-05T20:40:51.605Z"
   },
   {
    "duration": 323,
    "start_time": "2022-11-05T20:40:51.757Z"
   },
   {
    "duration": 357,
    "start_time": "2022-11-05T20:40:52.082Z"
   },
   {
    "duration": 138,
    "start_time": "2022-11-05T20:40:52.441Z"
   },
   {
    "duration": 131,
    "start_time": "2022-11-05T20:40:52.580Z"
   },
   {
    "duration": 26,
    "start_time": "2022-11-05T20:40:52.713Z"
   },
   {
    "duration": 2,
    "start_time": "2022-11-05T20:40:52.741Z"
   },
   {
    "duration": 199,
    "start_time": "2022-11-05T20:40:52.745Z"
   },
   {
    "duration": 414,
    "start_time": "2022-11-05T20:40:52.946Z"
   },
   {
    "duration": 16,
    "start_time": "2022-11-05T20:40:53.361Z"
   },
   {
    "duration": 21,
    "start_time": "2022-11-05T20:40:53.379Z"
   },
   {
    "duration": 32,
    "start_time": "2022-11-05T20:40:53.402Z"
   },
   {
    "duration": 15,
    "start_time": "2022-11-05T20:40:53.436Z"
   },
   {
    "duration": 17,
    "start_time": "2022-11-05T20:40:53.452Z"
   },
   {
    "duration": 20,
    "start_time": "2022-11-05T20:40:53.471Z"
   },
   {
    "duration": 146,
    "start_time": "2022-11-05T20:40:53.493Z"
   },
   {
    "duration": 332,
    "start_time": "2022-11-05T20:40:53.641Z"
   },
   {
    "duration": 144,
    "start_time": "2022-11-05T20:40:53.975Z"
   },
   {
    "duration": 138,
    "start_time": "2022-11-05T20:40:54.124Z"
   },
   {
    "duration": 314,
    "start_time": "2022-11-05T20:40:54.263Z"
   },
   {
    "duration": 144,
    "start_time": "2022-11-05T20:40:54.579Z"
   },
   {
    "duration": 128,
    "start_time": "2022-11-05T20:40:54.725Z"
   },
   {
    "duration": 309,
    "start_time": "2022-11-05T20:40:54.855Z"
   },
   {
    "duration": 151,
    "start_time": "2022-11-05T20:40:55.166Z"
   },
   {
    "duration": 145,
    "start_time": "2022-11-05T20:40:55.319Z"
   },
   {
    "duration": 13,
    "start_time": "2022-11-05T20:40:55.466Z"
   },
   {
    "duration": 67,
    "start_time": "2022-11-06T14:51:29.024Z"
   },
   {
    "duration": 1794,
    "start_time": "2022-11-06T14:51:33.354Z"
   },
   {
    "duration": 531,
    "start_time": "2022-11-06T14:51:35.151Z"
   },
   {
    "duration": 16,
    "start_time": "2022-11-06T14:51:35.684Z"
   },
   {
    "duration": 43,
    "start_time": "2022-11-06T14:51:35.703Z"
   },
   {
    "duration": 4,
    "start_time": "2022-11-06T14:51:35.748Z"
   },
   {
    "duration": 22,
    "start_time": "2022-11-06T14:51:35.755Z"
   },
   {
    "duration": 13,
    "start_time": "2022-11-06T14:51:35.779Z"
   },
   {
    "duration": 9,
    "start_time": "2022-11-06T14:51:35.794Z"
   },
   {
    "duration": 39,
    "start_time": "2022-11-06T14:51:35.805Z"
   },
   {
    "duration": 8,
    "start_time": "2022-11-06T14:51:35.848Z"
   },
   {
    "duration": 10,
    "start_time": "2022-11-06T14:51:35.858Z"
   },
   {
    "duration": 817,
    "start_time": "2022-11-06T14:51:35.870Z"
   },
   {
    "duration": 14,
    "start_time": "2022-11-06T14:51:36.689Z"
   },
   {
    "duration": 28,
    "start_time": "2022-11-06T14:51:36.706Z"
   },
   {
    "duration": 24,
    "start_time": "2022-11-06T14:51:36.736Z"
   },
   {
    "duration": 8,
    "start_time": "2022-11-06T14:51:36.762Z"
   },
   {
    "duration": 33,
    "start_time": "2022-11-06T14:51:36.772Z"
   },
   {
    "duration": 339,
    "start_time": "2022-11-06T14:51:36.806Z"
   },
   {
    "duration": 309,
    "start_time": "2022-11-06T14:51:37.147Z"
   },
   {
    "duration": 29,
    "start_time": "2022-11-06T14:51:37.458Z"
   },
   {
    "duration": 549,
    "start_time": "2022-11-06T14:51:37.489Z"
   },
   {
    "duration": 20,
    "start_time": "2022-11-06T14:51:38.044Z"
   },
   {
    "duration": 50,
    "start_time": "2022-11-06T14:51:38.066Z"
   },
   {
    "duration": 278,
    "start_time": "2022-11-06T14:51:38.119Z"
   },
   {
    "duration": 44,
    "start_time": "2022-11-06T14:51:38.400Z"
   },
   {
    "duration": 201,
    "start_time": "2022-11-06T14:51:38.451Z"
   },
   {
    "duration": 199,
    "start_time": "2022-11-06T14:51:38.655Z"
   },
   {
    "duration": 320,
    "start_time": "2022-11-06T14:51:38.859Z"
   },
   {
    "duration": 178,
    "start_time": "2022-11-06T14:51:39.181Z"
   },
   {
    "duration": 193,
    "start_time": "2022-11-06T14:51:39.361Z"
   },
   {
    "duration": 171,
    "start_time": "2022-11-06T14:51:39.556Z"
   },
   {
    "duration": 299,
    "start_time": "2022-11-06T14:51:39.734Z"
   },
   {
    "duration": 348,
    "start_time": "2022-11-06T14:51:40.041Z"
   },
   {
    "duration": 166,
    "start_time": "2022-11-06T14:51:40.391Z"
   },
   {
    "duration": 158,
    "start_time": "2022-11-06T14:51:40.559Z"
   },
   {
    "duration": 28,
    "start_time": "2022-11-06T14:51:40.718Z"
   },
   {
    "duration": 4,
    "start_time": "2022-11-06T14:51:40.748Z"
   },
   {
    "duration": 196,
    "start_time": "2022-11-06T14:51:40.754Z"
   },
   {
    "duration": 525,
    "start_time": "2022-11-06T14:51:40.952Z"
   },
   {
    "duration": 16,
    "start_time": "2022-11-06T14:51:41.478Z"
   },
   {
    "duration": 40,
    "start_time": "2022-11-06T14:51:41.496Z"
   },
   {
    "duration": 19,
    "start_time": "2022-11-06T14:51:41.538Z"
   },
   {
    "duration": 16,
    "start_time": "2022-11-06T14:51:41.558Z"
   },
   {
    "duration": 19,
    "start_time": "2022-11-06T14:51:41.576Z"
   },
   {
    "duration": 57,
    "start_time": "2022-11-06T14:51:41.597Z"
   },
   {
    "duration": 128,
    "start_time": "2022-11-06T14:51:41.656Z"
   },
   {
    "duration": 381,
    "start_time": "2022-11-06T14:51:41.786Z"
   },
   {
    "duration": 182,
    "start_time": "2022-11-06T14:51:42.169Z"
   },
   {
    "duration": 161,
    "start_time": "2022-11-06T14:51:42.357Z"
   },
   {
    "duration": 346,
    "start_time": "2022-11-06T14:51:42.520Z"
   },
   {
    "duration": 165,
    "start_time": "2022-11-06T14:51:42.868Z"
   },
   {
    "duration": 138,
    "start_time": "2022-11-06T14:51:43.035Z"
   },
   {
    "duration": 351,
    "start_time": "2022-11-06T14:51:43.175Z"
   },
   {
    "duration": 191,
    "start_time": "2022-11-06T14:51:43.531Z"
   },
   {
    "duration": 164,
    "start_time": "2022-11-06T14:51:43.731Z"
   },
   {
    "duration": 15,
    "start_time": "2022-11-06T14:51:43.897Z"
   },
   {
    "duration": 17,
    "start_time": "2022-11-06T14:51:43.934Z"
   },
   {
    "duration": 1246,
    "start_time": "2022-11-06T14:53:45.654Z"
   },
   {
    "duration": 100,
    "start_time": "2022-11-06T14:53:46.904Z"
   },
   {
    "duration": 16,
    "start_time": "2022-11-06T14:53:47.006Z"
   },
   {
    "duration": 34,
    "start_time": "2022-11-06T14:53:47.024Z"
   },
   {
    "duration": 4,
    "start_time": "2022-11-06T14:53:47.060Z"
   },
   {
    "duration": 17,
    "start_time": "2022-11-06T14:53:47.066Z"
   },
   {
    "duration": 8,
    "start_time": "2022-11-06T14:53:47.085Z"
   },
   {
    "duration": 35,
    "start_time": "2022-11-06T14:53:47.095Z"
   },
   {
    "duration": 12,
    "start_time": "2022-11-06T14:53:47.135Z"
   },
   {
    "duration": 7,
    "start_time": "2022-11-06T14:53:47.153Z"
   },
   {
    "duration": 16,
    "start_time": "2022-11-06T14:53:47.162Z"
   },
   {
    "duration": 746,
    "start_time": "2022-11-06T14:53:47.179Z"
   },
   {
    "duration": 28,
    "start_time": "2022-11-06T14:53:47.927Z"
   },
   {
    "duration": 17,
    "start_time": "2022-11-06T14:53:47.959Z"
   },
   {
    "duration": 24,
    "start_time": "2022-11-06T14:53:47.978Z"
   },
   {
    "duration": 12,
    "start_time": "2022-11-06T14:53:48.007Z"
   },
   {
    "duration": 47,
    "start_time": "2022-11-06T14:53:48.022Z"
   },
   {
    "duration": 347,
    "start_time": "2022-11-06T14:53:48.071Z"
   },
   {
    "duration": 301,
    "start_time": "2022-11-06T14:53:48.420Z"
   },
   {
    "duration": 34,
    "start_time": "2022-11-06T14:53:48.723Z"
   },
   {
    "duration": 560,
    "start_time": "2022-11-06T14:53:48.759Z"
   },
   {
    "duration": 31,
    "start_time": "2022-11-06T14:53:49.322Z"
   },
   {
    "duration": 7,
    "start_time": "2022-11-06T14:53:49.355Z"
   },
   {
    "duration": 246,
    "start_time": "2022-11-06T14:53:49.364Z"
   },
   {
    "duration": 20,
    "start_time": "2022-11-06T14:53:49.612Z"
   },
   {
    "duration": 170,
    "start_time": "2022-11-06T14:53:49.634Z"
   },
   {
    "duration": 182,
    "start_time": "2022-11-06T14:53:49.806Z"
   },
   {
    "duration": 274,
    "start_time": "2022-11-06T14:53:49.992Z"
   },
   {
    "duration": 159,
    "start_time": "2022-11-06T14:53:50.267Z"
   },
   {
    "duration": 182,
    "start_time": "2022-11-06T14:53:50.427Z"
   },
   {
    "duration": 170,
    "start_time": "2022-11-06T14:53:50.612Z"
   },
   {
    "duration": 288,
    "start_time": "2022-11-06T14:53:50.785Z"
   },
   {
    "duration": 347,
    "start_time": "2022-11-06T14:53:51.075Z"
   },
   {
    "duration": 150,
    "start_time": "2022-11-06T14:53:51.424Z"
   },
   {
    "duration": 151,
    "start_time": "2022-11-06T14:53:51.575Z"
   },
   {
    "duration": 25,
    "start_time": "2022-11-06T14:53:51.736Z"
   },
   {
    "duration": 3,
    "start_time": "2022-11-06T14:53:51.763Z"
   },
   {
    "duration": 192,
    "start_time": "2022-11-06T14:53:51.767Z"
   },
   {
    "duration": 416,
    "start_time": "2022-11-06T14:53:51.961Z"
   },
   {
    "duration": 17,
    "start_time": "2022-11-06T14:53:52.379Z"
   },
   {
    "duration": 40,
    "start_time": "2022-11-06T14:53:52.398Z"
   },
   {
    "duration": 20,
    "start_time": "2022-11-06T14:53:52.440Z"
   },
   {
    "duration": 15,
    "start_time": "2022-11-06T14:53:52.462Z"
   },
   {
    "duration": 19,
    "start_time": "2022-11-06T14:53:52.479Z"
   },
   {
    "duration": 42,
    "start_time": "2022-11-06T14:53:52.500Z"
   },
   {
    "duration": 144,
    "start_time": "2022-11-06T14:53:52.550Z"
   },
   {
    "duration": 378,
    "start_time": "2022-11-06T14:53:52.696Z"
   },
   {
    "duration": 152,
    "start_time": "2022-11-06T14:53:53.075Z"
   },
   {
    "duration": 155,
    "start_time": "2022-11-06T14:53:53.231Z"
   },
   {
    "duration": 385,
    "start_time": "2022-11-06T14:53:53.388Z"
   },
   {
    "duration": 165,
    "start_time": "2022-11-06T14:53:53.775Z"
   },
   {
    "duration": 153,
    "start_time": "2022-11-06T14:53:53.943Z"
   },
   {
    "duration": 412,
    "start_time": "2022-11-06T14:53:54.098Z"
   },
   {
    "duration": 170,
    "start_time": "2022-11-06T14:53:54.513Z"
   },
   {
    "duration": 188,
    "start_time": "2022-11-06T14:53:54.685Z"
   },
   {
    "duration": 19,
    "start_time": "2022-11-06T14:53:54.875Z"
   },
   {
    "duration": 14,
    "start_time": "2022-11-06T14:53:54.896Z"
   },
   {
    "duration": 1337,
    "start_time": "2022-11-06T14:55:01.054Z"
   },
   {
    "duration": 91,
    "start_time": "2022-11-06T14:55:02.394Z"
   },
   {
    "duration": 23,
    "start_time": "2022-11-06T14:55:02.487Z"
   },
   {
    "duration": 70,
    "start_time": "2022-11-06T14:55:02.513Z"
   },
   {
    "duration": 4,
    "start_time": "2022-11-06T14:55:02.585Z"
   },
   {
    "duration": 74,
    "start_time": "2022-11-06T14:55:02.592Z"
   },
   {
    "duration": 47,
    "start_time": "2022-11-06T14:55:02.667Z"
   },
   {
    "duration": 36,
    "start_time": "2022-11-06T14:55:02.717Z"
   },
   {
    "duration": 71,
    "start_time": "2022-11-06T14:55:02.756Z"
   },
   {
    "duration": 34,
    "start_time": "2022-11-06T14:55:02.829Z"
   },
   {
    "duration": 45,
    "start_time": "2022-11-06T14:55:02.864Z"
   },
   {
    "duration": 771,
    "start_time": "2022-11-06T14:55:02.911Z"
   },
   {
    "duration": 14,
    "start_time": "2022-11-06T14:55:03.684Z"
   },
   {
    "duration": 39,
    "start_time": "2022-11-06T14:55:03.701Z"
   },
   {
    "duration": 40,
    "start_time": "2022-11-06T14:55:03.742Z"
   },
   {
    "duration": 17,
    "start_time": "2022-11-06T14:55:03.784Z"
   },
   {
    "duration": 54,
    "start_time": "2022-11-06T14:55:03.804Z"
   },
   {
    "duration": 309,
    "start_time": "2022-11-06T14:55:03.860Z"
   },
   {
    "duration": 316,
    "start_time": "2022-11-06T14:55:04.170Z"
   },
   {
    "duration": 23,
    "start_time": "2022-11-06T14:55:04.487Z"
   },
   {
    "duration": 475,
    "start_time": "2022-11-06T14:55:04.513Z"
   },
   {
    "duration": 16,
    "start_time": "2022-11-06T14:55:04.990Z"
   },
   {
    "duration": 7,
    "start_time": "2022-11-06T14:55:05.008Z"
   },
   {
    "duration": 217,
    "start_time": "2022-11-06T14:55:05.031Z"
   },
   {
    "duration": 20,
    "start_time": "2022-11-06T14:55:05.250Z"
   },
   {
    "duration": 217,
    "start_time": "2022-11-06T14:55:05.272Z"
   },
   {
    "duration": 187,
    "start_time": "2022-11-06T14:55:05.491Z"
   },
   {
    "duration": 267,
    "start_time": "2022-11-06T14:55:05.681Z"
   },
   {
    "duration": 143,
    "start_time": "2022-11-06T14:55:05.949Z"
   },
   {
    "duration": 177,
    "start_time": "2022-11-06T14:55:06.094Z"
   },
   {
    "duration": 193,
    "start_time": "2022-11-06T14:55:06.273Z"
   },
   {
    "duration": 398,
    "start_time": "2022-11-06T14:55:06.468Z"
   },
   {
    "duration": 373,
    "start_time": "2022-11-06T14:55:06.867Z"
   },
   {
    "duration": 143,
    "start_time": "2022-11-06T14:55:07.246Z"
   },
   {
    "duration": 166,
    "start_time": "2022-11-06T14:55:07.392Z"
   },
   {
    "duration": 19,
    "start_time": "2022-11-06T14:55:07.560Z"
   },
   {
    "duration": 12,
    "start_time": "2022-11-06T14:55:07.580Z"
   },
   {
    "duration": 187,
    "start_time": "2022-11-06T14:55:07.594Z"
   },
   {
    "duration": 511,
    "start_time": "2022-11-06T14:55:07.783Z"
   },
   {
    "duration": 14,
    "start_time": "2022-11-06T14:55:08.296Z"
   },
   {
    "duration": 452,
    "start_time": "2022-11-06T14:55:08.315Z"
   },
   {
    "duration": 13,
    "start_time": "2022-11-06T14:55:08.769Z"
   },
   {
    "duration": 15,
    "start_time": "2022-11-06T14:55:08.785Z"
   },
   {
    "duration": 16,
    "start_time": "2022-11-06T14:55:08.802Z"
   },
   {
    "duration": 23,
    "start_time": "2022-11-06T14:55:08.819Z"
   },
   {
    "duration": 25,
    "start_time": "2022-11-06T14:55:08.843Z"
   },
   {
    "duration": 322,
    "start_time": "2022-11-06T14:55:08.870Z"
   },
   {
    "duration": 257,
    "start_time": "2022-11-06T14:55:09.194Z"
   },
   {
    "duration": 150,
    "start_time": "2022-11-06T14:55:09.453Z"
   },
   {
    "duration": 355,
    "start_time": "2022-11-06T14:55:09.605Z"
   },
   {
    "duration": 153,
    "start_time": "2022-11-06T14:55:09.961Z"
   },
   {
    "duration": 164,
    "start_time": "2022-11-06T14:55:10.116Z"
   },
   {
    "duration": 337,
    "start_time": "2022-11-06T14:55:10.281Z"
   },
   {
    "duration": 160,
    "start_time": "2022-11-06T14:55:10.620Z"
   },
   {
    "duration": 153,
    "start_time": "2022-11-06T14:55:10.782Z"
   },
   {
    "duration": 16,
    "start_time": "2022-11-06T14:55:10.936Z"
   },
   {
    "duration": 11,
    "start_time": "2022-11-06T14:55:10.954Z"
   },
   {
    "duration": 1425,
    "start_time": "2022-11-06T15:09:53.947Z"
   },
   {
    "duration": 104,
    "start_time": "2022-11-06T15:09:55.375Z"
   },
   {
    "duration": 23,
    "start_time": "2022-11-06T15:09:55.481Z"
   },
   {
    "duration": 51,
    "start_time": "2022-11-06T15:09:55.507Z"
   },
   {
    "duration": 4,
    "start_time": "2022-11-06T15:09:55.561Z"
   },
   {
    "duration": 17,
    "start_time": "2022-11-06T15:09:55.566Z"
   },
   {
    "duration": 15,
    "start_time": "2022-11-06T15:09:55.586Z"
   },
   {
    "duration": 34,
    "start_time": "2022-11-06T15:09:55.603Z"
   },
   {
    "duration": 18,
    "start_time": "2022-11-06T15:09:55.639Z"
   },
   {
    "duration": 8,
    "start_time": "2022-11-06T15:09:55.658Z"
   },
   {
    "duration": 11,
    "start_time": "2022-11-06T15:09:55.667Z"
   },
   {
    "duration": 762,
    "start_time": "2022-11-06T15:09:55.680Z"
   },
   {
    "duration": 24,
    "start_time": "2022-11-06T15:09:56.444Z"
   },
   {
    "duration": 10,
    "start_time": "2022-11-06T15:09:56.473Z"
   },
   {
    "duration": 18,
    "start_time": "2022-11-06T15:09:56.485Z"
   },
   {
    "duration": 29,
    "start_time": "2022-11-06T15:09:56.505Z"
   },
   {
    "duration": 41,
    "start_time": "2022-11-06T15:09:56.537Z"
   },
   {
    "duration": 312,
    "start_time": "2022-11-06T15:09:56.580Z"
   },
   {
    "duration": 315,
    "start_time": "2022-11-06T15:09:56.894Z"
   },
   {
    "duration": 38,
    "start_time": "2022-11-06T15:09:57.211Z"
   },
   {
    "duration": 593,
    "start_time": "2022-11-06T15:09:57.254Z"
   },
   {
    "duration": 29,
    "start_time": "2022-11-06T15:09:57.851Z"
   },
   {
    "duration": 8,
    "start_time": "2022-11-06T15:09:57.882Z"
   },
   {
    "duration": 249,
    "start_time": "2022-11-06T15:09:57.892Z"
   },
   {
    "duration": 19,
    "start_time": "2022-11-06T15:09:58.143Z"
   },
   {
    "duration": 242,
    "start_time": "2022-11-06T15:09:58.165Z"
   },
   {
    "duration": 188,
    "start_time": "2022-11-06T15:09:58.410Z"
   },
   {
    "duration": 260,
    "start_time": "2022-11-06T15:09:58.600Z"
   },
   {
    "duration": 198,
    "start_time": "2022-11-06T15:09:58.862Z"
   },
   {
    "duration": 186,
    "start_time": "2022-11-06T15:09:59.062Z"
   },
   {
    "duration": 168,
    "start_time": "2022-11-06T15:09:59.250Z"
   },
   {
    "duration": 335,
    "start_time": "2022-11-06T15:09:59.420Z"
   },
   {
    "duration": 365,
    "start_time": "2022-11-06T15:09:59.757Z"
   },
   {
    "duration": 174,
    "start_time": "2022-11-06T15:10:00.124Z"
   },
   {
    "duration": 211,
    "start_time": "2022-11-06T15:10:00.300Z"
   },
   {
    "duration": 33,
    "start_time": "2022-11-06T15:10:00.513Z"
   },
   {
    "duration": 31,
    "start_time": "2022-11-06T15:10:00.553Z"
   },
   {
    "duration": 243,
    "start_time": "2022-11-06T15:10:00.586Z"
   },
   {
    "duration": 515,
    "start_time": "2022-11-06T15:10:00.831Z"
   },
   {
    "duration": 22,
    "start_time": "2022-11-06T15:10:01.349Z"
   },
   {
    "duration": 68,
    "start_time": "2022-11-06T15:10:01.378Z"
   },
   {
    "duration": 45,
    "start_time": "2022-11-06T15:10:01.454Z"
   },
   {
    "duration": 51,
    "start_time": "2022-11-06T15:10:01.502Z"
   },
   {
    "duration": 68,
    "start_time": "2022-11-06T15:10:01.556Z"
   },
   {
    "duration": 117,
    "start_time": "2022-11-06T15:10:01.629Z"
   },
   {
    "duration": 32,
    "start_time": "2022-11-06T15:10:01.748Z"
   },
   {
    "duration": 408,
    "start_time": "2022-11-06T15:10:01.782Z"
   },
   {
    "duration": 290,
    "start_time": "2022-11-06T15:10:02.193Z"
   },
   {
    "duration": 167,
    "start_time": "2022-11-06T15:10:02.485Z"
   },
   {
    "duration": 330,
    "start_time": "2022-11-06T15:10:02.654Z"
   },
   {
    "duration": 151,
    "start_time": "2022-11-06T15:10:02.986Z"
   },
   {
    "duration": 158,
    "start_time": "2022-11-06T15:10:03.142Z"
   },
   {
    "duration": 372,
    "start_time": "2022-11-06T15:10:03.302Z"
   },
   {
    "duration": 160,
    "start_time": "2022-11-06T15:10:03.676Z"
   },
   {
    "duration": 162,
    "start_time": "2022-11-06T15:10:03.839Z"
   },
   {
    "duration": 14,
    "start_time": "2022-11-06T15:10:04.003Z"
   },
   {
    "duration": 35,
    "start_time": "2022-11-06T15:10:04.019Z"
   },
   {
    "duration": 1278,
    "start_time": "2022-11-06T16:19:00.300Z"
   },
   {
    "duration": 105,
    "start_time": "2022-11-06T16:19:01.580Z"
   },
   {
    "duration": 15,
    "start_time": "2022-11-06T16:19:01.686Z"
   },
   {
    "duration": 41,
    "start_time": "2022-11-06T16:19:01.702Z"
   },
   {
    "duration": 4,
    "start_time": "2022-11-06T16:19:01.745Z"
   },
   {
    "duration": 20,
    "start_time": "2022-11-06T16:19:01.750Z"
   },
   {
    "duration": 13,
    "start_time": "2022-11-06T16:19:01.771Z"
   },
   {
    "duration": 9,
    "start_time": "2022-11-06T16:19:01.786Z"
   },
   {
    "duration": 20,
    "start_time": "2022-11-06T16:19:01.796Z"
   },
   {
    "duration": 25,
    "start_time": "2022-11-06T16:19:01.818Z"
   },
   {
    "duration": 24,
    "start_time": "2022-11-06T16:19:01.845Z"
   },
   {
    "duration": 622,
    "start_time": "2022-11-06T16:19:01.870Z"
   },
   {
    "duration": 19,
    "start_time": "2022-11-06T16:19:02.494Z"
   },
   {
    "duration": 8,
    "start_time": "2022-11-06T16:19:02.516Z"
   },
   {
    "duration": 37,
    "start_time": "2022-11-06T16:19:02.525Z"
   },
   {
    "duration": 18,
    "start_time": "2022-11-06T16:19:02.564Z"
   },
   {
    "duration": 40,
    "start_time": "2022-11-06T16:19:02.584Z"
   },
   {
    "duration": 318,
    "start_time": "2022-11-06T16:19:02.626Z"
   },
   {
    "duration": 273,
    "start_time": "2022-11-06T16:19:02.946Z"
   },
   {
    "duration": 23,
    "start_time": "2022-11-06T16:19:03.221Z"
   },
   {
    "duration": 527,
    "start_time": "2022-11-06T16:19:03.247Z"
   },
   {
    "duration": 14,
    "start_time": "2022-11-06T16:19:03.776Z"
   },
   {
    "duration": 88,
    "start_time": "2022-11-06T16:19:03.791Z"
   },
   {
    "duration": 242,
    "start_time": "2022-11-06T16:19:03.881Z"
   },
   {
    "duration": 19,
    "start_time": "2022-11-06T16:19:04.125Z"
   },
   {
    "duration": 183,
    "start_time": "2022-11-06T16:19:04.145Z"
   },
   {
    "duration": 148,
    "start_time": "2022-11-06T16:19:04.329Z"
   },
   {
    "duration": 200,
    "start_time": "2022-11-06T16:19:04.478Z"
   },
   {
    "duration": 143,
    "start_time": "2022-11-06T16:19:04.680Z"
   },
   {
    "duration": 149,
    "start_time": "2022-11-06T16:19:04.825Z"
   },
   {
    "duration": 144,
    "start_time": "2022-11-06T16:19:04.976Z"
   },
   {
    "duration": 243,
    "start_time": "2022-11-06T16:19:05.122Z"
   },
   {
    "duration": 277,
    "start_time": "2022-11-06T16:19:05.366Z"
   },
   {
    "duration": 146,
    "start_time": "2022-11-06T16:19:05.645Z"
   },
   {
    "duration": 134,
    "start_time": "2022-11-06T16:19:05.793Z"
   },
   {
    "duration": 17,
    "start_time": "2022-11-06T16:19:05.929Z"
   },
   {
    "duration": 7,
    "start_time": "2022-11-06T16:19:05.947Z"
   },
   {
    "duration": 169,
    "start_time": "2022-11-06T16:19:05.956Z"
   },
   {
    "duration": 392,
    "start_time": "2022-11-06T16:19:06.127Z"
   },
   {
    "duration": 18,
    "start_time": "2022-11-06T16:19:06.520Z"
   },
   {
    "duration": 17,
    "start_time": "2022-11-06T16:19:06.542Z"
   },
   {
    "duration": 15,
    "start_time": "2022-11-06T16:19:06.560Z"
   },
   {
    "duration": 17,
    "start_time": "2022-11-06T16:19:06.577Z"
   },
   {
    "duration": 30,
    "start_time": "2022-11-06T16:19:06.596Z"
   },
   {
    "duration": 33,
    "start_time": "2022-11-06T16:19:06.627Z"
   },
   {
    "duration": 19,
    "start_time": "2022-11-06T16:19:06.662Z"
   },
   {
    "duration": 334,
    "start_time": "2022-11-06T16:19:06.683Z"
   },
   {
    "duration": 248,
    "start_time": "2022-11-06T16:19:07.019Z"
   },
   {
    "duration": 136,
    "start_time": "2022-11-06T16:19:07.269Z"
   },
   {
    "duration": 315,
    "start_time": "2022-11-06T16:19:07.415Z"
   },
   {
    "duration": 123,
    "start_time": "2022-11-06T16:19:07.732Z"
   },
   {
    "duration": 134,
    "start_time": "2022-11-06T16:19:07.856Z"
   },
   {
    "duration": 333,
    "start_time": "2022-11-06T16:19:07.993Z"
   },
   {
    "duration": 159,
    "start_time": "2022-11-06T16:19:08.328Z"
   },
   {
    "duration": 145,
    "start_time": "2022-11-06T16:19:08.489Z"
   },
   {
    "duration": 13,
    "start_time": "2022-11-06T16:19:08.639Z"
   },
   {
    "duration": 15,
    "start_time": "2022-11-06T16:19:08.654Z"
   },
   {
    "duration": 1503,
    "start_time": "2022-11-06T17:23:55.879Z"
   },
   {
    "duration": 149,
    "start_time": "2022-11-06T17:23:57.384Z"
   },
   {
    "duration": 18,
    "start_time": "2022-11-06T17:23:57.535Z"
   },
   {
    "duration": 41,
    "start_time": "2022-11-06T17:23:57.556Z"
   },
   {
    "duration": 4,
    "start_time": "2022-11-06T17:23:57.599Z"
   },
   {
    "duration": 28,
    "start_time": "2022-11-06T17:23:57.605Z"
   },
   {
    "duration": 25,
    "start_time": "2022-11-06T17:23:57.636Z"
   },
   {
    "duration": 15,
    "start_time": "2022-11-06T17:23:57.663Z"
   },
   {
    "duration": 505,
    "start_time": "2022-11-06T17:23:57.680Z"
   },
   {
    "duration": 0,
    "start_time": "2022-11-06T17:23:58.189Z"
   },
   {
    "duration": 0,
    "start_time": "2022-11-06T17:23:58.190Z"
   },
   {
    "duration": 0,
    "start_time": "2022-11-06T17:23:58.192Z"
   },
   {
    "duration": 0,
    "start_time": "2022-11-06T17:23:58.193Z"
   },
   {
    "duration": 0,
    "start_time": "2022-11-06T17:23:58.197Z"
   },
   {
    "duration": 0,
    "start_time": "2022-11-06T17:23:58.198Z"
   },
   {
    "duration": 0,
    "start_time": "2022-11-06T17:23:58.200Z"
   },
   {
    "duration": 0,
    "start_time": "2022-11-06T17:23:58.203Z"
   },
   {
    "duration": 0,
    "start_time": "2022-11-06T17:23:58.204Z"
   },
   {
    "duration": 0,
    "start_time": "2022-11-06T17:23:58.205Z"
   },
   {
    "duration": 0,
    "start_time": "2022-11-06T17:23:58.206Z"
   },
   {
    "duration": 0,
    "start_time": "2022-11-06T17:23:58.207Z"
   },
   {
    "duration": 0,
    "start_time": "2022-11-06T17:23:58.208Z"
   },
   {
    "duration": 0,
    "start_time": "2022-11-06T17:23:58.209Z"
   },
   {
    "duration": 0,
    "start_time": "2022-11-06T17:23:58.211Z"
   },
   {
    "duration": 0,
    "start_time": "2022-11-06T17:23:58.212Z"
   },
   {
    "duration": 0,
    "start_time": "2022-11-06T17:23:58.213Z"
   },
   {
    "duration": 0,
    "start_time": "2022-11-06T17:23:58.214Z"
   },
   {
    "duration": 0,
    "start_time": "2022-11-06T17:23:58.216Z"
   },
   {
    "duration": 0,
    "start_time": "2022-11-06T17:23:58.217Z"
   },
   {
    "duration": 0,
    "start_time": "2022-11-06T17:23:58.218Z"
   },
   {
    "duration": 0,
    "start_time": "2022-11-06T17:23:58.219Z"
   },
   {
    "duration": 0,
    "start_time": "2022-11-06T17:23:58.223Z"
   },
   {
    "duration": 0,
    "start_time": "2022-11-06T17:23:58.224Z"
   },
   {
    "duration": 0,
    "start_time": "2022-11-06T17:23:58.225Z"
   },
   {
    "duration": 0,
    "start_time": "2022-11-06T17:23:58.226Z"
   },
   {
    "duration": 0,
    "start_time": "2022-11-06T17:23:58.228Z"
   },
   {
    "duration": 0,
    "start_time": "2022-11-06T17:23:58.232Z"
   },
   {
    "duration": 0,
    "start_time": "2022-11-06T17:23:58.233Z"
   },
   {
    "duration": 0,
    "start_time": "2022-11-06T17:23:58.234Z"
   },
   {
    "duration": 0,
    "start_time": "2022-11-06T17:23:58.234Z"
   },
   {
    "duration": 0,
    "start_time": "2022-11-06T17:23:58.235Z"
   },
   {
    "duration": 0,
    "start_time": "2022-11-06T17:23:58.236Z"
   },
   {
    "duration": 0,
    "start_time": "2022-11-06T17:23:58.237Z"
   },
   {
    "duration": 0,
    "start_time": "2022-11-06T17:23:58.238Z"
   },
   {
    "duration": 0,
    "start_time": "2022-11-06T17:23:58.238Z"
   },
   {
    "duration": 0,
    "start_time": "2022-11-06T17:23:58.239Z"
   },
   {
    "duration": 0,
    "start_time": "2022-11-06T17:23:58.240Z"
   },
   {
    "duration": 0,
    "start_time": "2022-11-06T17:23:58.241Z"
   },
   {
    "duration": 0,
    "start_time": "2022-11-06T17:23:58.242Z"
   },
   {
    "duration": 0,
    "start_time": "2022-11-06T17:23:58.243Z"
   },
   {
    "duration": 0,
    "start_time": "2022-11-06T17:23:58.243Z"
   },
   {
    "duration": 0,
    "start_time": "2022-11-06T17:23:58.244Z"
   },
   {
    "duration": 0,
    "start_time": "2022-11-06T17:23:58.245Z"
   },
   {
    "duration": 0,
    "start_time": "2022-11-06T17:23:58.253Z"
   },
   {
    "duration": 0,
    "start_time": "2022-11-06T17:23:58.256Z"
   },
   {
    "duration": 0,
    "start_time": "2022-11-06T17:23:58.257Z"
   },
   {
    "duration": 0,
    "start_time": "2022-11-06T17:23:58.258Z"
   },
   {
    "duration": 433,
    "start_time": "2022-11-06T17:24:20.833Z"
   },
   {
    "duration": 1231,
    "start_time": "2022-11-06T17:25:20.140Z"
   },
   {
    "duration": 86,
    "start_time": "2022-11-06T17:25:21.373Z"
   },
   {
    "duration": 15,
    "start_time": "2022-11-06T17:25:21.461Z"
   },
   {
    "duration": 59,
    "start_time": "2022-11-06T17:25:21.479Z"
   },
   {
    "duration": 4,
    "start_time": "2022-11-06T17:25:21.541Z"
   },
   {
    "duration": 32,
    "start_time": "2022-11-06T17:25:21.547Z"
   },
   {
    "duration": 16,
    "start_time": "2022-11-06T17:25:21.581Z"
   },
   {
    "duration": 10,
    "start_time": "2022-11-06T17:25:21.599Z"
   },
   {
    "duration": 544,
    "start_time": "2022-11-06T17:25:21.611Z"
   },
   {
    "duration": 0,
    "start_time": "2022-11-06T17:25:22.159Z"
   },
   {
    "duration": 0,
    "start_time": "2022-11-06T17:25:22.160Z"
   },
   {
    "duration": 0,
    "start_time": "2022-11-06T17:25:22.160Z"
   },
   {
    "duration": 0,
    "start_time": "2022-11-06T17:25:22.161Z"
   },
   {
    "duration": 0,
    "start_time": "2022-11-06T17:25:22.163Z"
   },
   {
    "duration": 0,
    "start_time": "2022-11-06T17:25:22.164Z"
   },
   {
    "duration": 0,
    "start_time": "2022-11-06T17:25:22.165Z"
   },
   {
    "duration": 0,
    "start_time": "2022-11-06T17:25:22.167Z"
   },
   {
    "duration": 0,
    "start_time": "2022-11-06T17:25:22.169Z"
   },
   {
    "duration": 0,
    "start_time": "2022-11-06T17:25:22.170Z"
   },
   {
    "duration": 0,
    "start_time": "2022-11-06T17:25:22.171Z"
   },
   {
    "duration": 0,
    "start_time": "2022-11-06T17:25:22.172Z"
   },
   {
    "duration": 0,
    "start_time": "2022-11-06T17:25:22.173Z"
   },
   {
    "duration": 0,
    "start_time": "2022-11-06T17:25:22.175Z"
   },
   {
    "duration": 0,
    "start_time": "2022-11-06T17:25:22.177Z"
   },
   {
    "duration": 0,
    "start_time": "2022-11-06T17:25:22.178Z"
   },
   {
    "duration": 0,
    "start_time": "2022-11-06T17:25:22.179Z"
   },
   {
    "duration": 0,
    "start_time": "2022-11-06T17:25:22.181Z"
   },
   {
    "duration": 0,
    "start_time": "2022-11-06T17:25:22.182Z"
   },
   {
    "duration": 0,
    "start_time": "2022-11-06T17:25:22.184Z"
   },
   {
    "duration": 0,
    "start_time": "2022-11-06T17:25:22.185Z"
   },
   {
    "duration": 0,
    "start_time": "2022-11-06T17:25:22.187Z"
   },
   {
    "duration": 0,
    "start_time": "2022-11-06T17:25:22.188Z"
   },
   {
    "duration": 0,
    "start_time": "2022-11-06T17:25:22.189Z"
   },
   {
    "duration": 0,
    "start_time": "2022-11-06T17:25:22.190Z"
   },
   {
    "duration": 0,
    "start_time": "2022-11-06T17:25:22.192Z"
   },
   {
    "duration": 0,
    "start_time": "2022-11-06T17:25:22.194Z"
   },
   {
    "duration": 0,
    "start_time": "2022-11-06T17:25:22.220Z"
   },
   {
    "duration": 0,
    "start_time": "2022-11-06T17:25:22.221Z"
   },
   {
    "duration": 0,
    "start_time": "2022-11-06T17:25:22.222Z"
   },
   {
    "duration": 0,
    "start_time": "2022-11-06T17:25:22.223Z"
   },
   {
    "duration": 0,
    "start_time": "2022-11-06T17:25:22.224Z"
   },
   {
    "duration": 0,
    "start_time": "2022-11-06T17:25:22.225Z"
   },
   {
    "duration": 0,
    "start_time": "2022-11-06T17:25:22.227Z"
   },
   {
    "duration": 0,
    "start_time": "2022-11-06T17:25:22.230Z"
   },
   {
    "duration": 0,
    "start_time": "2022-11-06T17:25:22.231Z"
   },
   {
    "duration": 0,
    "start_time": "2022-11-06T17:25:22.232Z"
   },
   {
    "duration": 0,
    "start_time": "2022-11-06T17:25:22.233Z"
   },
   {
    "duration": 0,
    "start_time": "2022-11-06T17:25:22.234Z"
   },
   {
    "duration": 0,
    "start_time": "2022-11-06T17:25:22.235Z"
   },
   {
    "duration": 0,
    "start_time": "2022-11-06T17:25:22.235Z"
   },
   {
    "duration": 0,
    "start_time": "2022-11-06T17:25:22.236Z"
   },
   {
    "duration": 0,
    "start_time": "2022-11-06T17:25:22.237Z"
   },
   {
    "duration": 0,
    "start_time": "2022-11-06T17:25:22.241Z"
   },
   {
    "duration": 0,
    "start_time": "2022-11-06T17:25:22.242Z"
   },
   {
    "duration": 0,
    "start_time": "2022-11-06T17:25:22.243Z"
   },
   {
    "duration": 0,
    "start_time": "2022-11-06T17:25:22.244Z"
   },
   {
    "duration": 0,
    "start_time": "2022-11-06T17:25:22.246Z"
   },
   {
    "duration": 444,
    "start_time": "2022-11-06T17:26:45.576Z"
   },
   {
    "duration": 12,
    "start_time": "2022-11-06T17:30:01.386Z"
   },
   {
    "duration": 9,
    "start_time": "2022-11-06T17:30:07.044Z"
   },
   {
    "duration": 7,
    "start_time": "2022-11-06T17:32:01.140Z"
   },
   {
    "duration": 14,
    "start_time": "2022-11-06T17:42:06.852Z"
   },
   {
    "duration": 12,
    "start_time": "2022-11-06T17:42:15.318Z"
   },
   {
    "duration": 1427,
    "start_time": "2022-11-06T17:42:22.120Z"
   },
   {
    "duration": 93,
    "start_time": "2022-11-06T17:42:23.550Z"
   },
   {
    "duration": 17,
    "start_time": "2022-11-06T17:42:23.646Z"
   },
   {
    "duration": 43,
    "start_time": "2022-11-06T17:42:23.666Z"
   },
   {
    "duration": 24,
    "start_time": "2022-11-06T17:42:23.711Z"
   },
   {
    "duration": 39,
    "start_time": "2022-11-06T17:42:23.738Z"
   },
   {
    "duration": 33,
    "start_time": "2022-11-06T17:42:23.781Z"
   },
   {
    "duration": 37,
    "start_time": "2022-11-06T17:42:23.817Z"
   },
   {
    "duration": 37,
    "start_time": "2022-11-06T17:42:23.856Z"
   },
   {
    "duration": 10,
    "start_time": "2022-11-06T17:42:23.897Z"
   },
   {
    "duration": 23,
    "start_time": "2022-11-06T17:42:23.909Z"
   },
   {
    "duration": 27,
    "start_time": "2022-11-06T17:42:23.935Z"
   },
   {
    "duration": 712,
    "start_time": "2022-11-06T17:42:23.965Z"
   },
   {
    "duration": 18,
    "start_time": "2022-11-06T17:42:24.679Z"
   },
   {
    "duration": 29,
    "start_time": "2022-11-06T17:42:24.699Z"
   },
   {
    "duration": 16,
    "start_time": "2022-11-06T17:42:24.734Z"
   },
   {
    "duration": 28,
    "start_time": "2022-11-06T17:42:24.752Z"
   },
   {
    "duration": 27,
    "start_time": "2022-11-06T17:42:24.782Z"
   },
   {
    "duration": 318,
    "start_time": "2022-11-06T17:42:24.811Z"
   },
   {
    "duration": 273,
    "start_time": "2022-11-06T17:42:25.131Z"
   },
   {
    "duration": 42,
    "start_time": "2022-11-06T17:42:25.406Z"
   },
   {
    "duration": 596,
    "start_time": "2022-11-06T17:42:25.450Z"
   },
   {
    "duration": 17,
    "start_time": "2022-11-06T17:42:26.047Z"
   },
   {
    "duration": 8,
    "start_time": "2022-11-06T17:42:26.066Z"
   },
   {
    "duration": 271,
    "start_time": "2022-11-06T17:42:26.076Z"
   },
   {
    "duration": 16,
    "start_time": "2022-11-06T17:42:26.349Z"
   },
   {
    "duration": 175,
    "start_time": "2022-11-06T17:42:26.367Z"
   },
   {
    "duration": 166,
    "start_time": "2022-11-06T17:42:26.546Z"
   },
   {
    "duration": 257,
    "start_time": "2022-11-06T17:42:26.714Z"
   },
   {
    "duration": 160,
    "start_time": "2022-11-06T17:42:26.973Z"
   },
   {
    "duration": 156,
    "start_time": "2022-11-06T17:42:27.137Z"
   },
   {
    "duration": 163,
    "start_time": "2022-11-06T17:42:27.295Z"
   },
   {
    "duration": 280,
    "start_time": "2022-11-06T17:42:27.460Z"
   },
   {
    "duration": 332,
    "start_time": "2022-11-06T17:42:27.742Z"
   },
   {
    "duration": 138,
    "start_time": "2022-11-06T17:42:28.075Z"
   },
   {
    "duration": 140,
    "start_time": "2022-11-06T17:42:28.224Z"
   },
   {
    "duration": 26,
    "start_time": "2022-11-06T17:42:28.366Z"
   },
   {
    "duration": 22,
    "start_time": "2022-11-06T17:42:28.394Z"
   },
   {
    "duration": 202,
    "start_time": "2022-11-06T17:42:28.418Z"
   },
   {
    "duration": 467,
    "start_time": "2022-11-06T17:42:28.625Z"
   },
   {
    "duration": 28,
    "start_time": "2022-11-06T17:42:29.095Z"
   },
   {
    "duration": 51,
    "start_time": "2022-11-06T17:42:29.132Z"
   },
   {
    "duration": 23,
    "start_time": "2022-11-06T17:42:29.185Z"
   },
   {
    "duration": 50,
    "start_time": "2022-11-06T17:42:29.211Z"
   },
   {
    "duration": 42,
    "start_time": "2022-11-06T17:42:29.263Z"
   },
   {
    "duration": 83,
    "start_time": "2022-11-06T17:42:29.307Z"
   },
   {
    "duration": 23,
    "start_time": "2022-11-06T17:42:29.392Z"
   },
   {
    "duration": 328,
    "start_time": "2022-11-06T17:42:29.418Z"
   },
   {
    "duration": 270,
    "start_time": "2022-11-06T17:42:29.748Z"
   },
   {
    "duration": 140,
    "start_time": "2022-11-06T17:42:30.023Z"
   },
   {
    "duration": 382,
    "start_time": "2022-11-06T17:42:30.165Z"
   },
   {
    "duration": 146,
    "start_time": "2022-11-06T17:42:30.550Z"
   },
   {
    "duration": 178,
    "start_time": "2022-11-06T17:42:30.697Z"
   },
   {
    "duration": 367,
    "start_time": "2022-11-06T17:42:30.877Z"
   },
   {
    "duration": 151,
    "start_time": "2022-11-06T17:42:31.246Z"
   },
   {
    "duration": 173,
    "start_time": "2022-11-06T17:42:31.400Z"
   },
   {
    "duration": 13,
    "start_time": "2022-11-06T17:42:31.575Z"
   },
   {
    "duration": 24,
    "start_time": "2022-11-06T17:42:31.591Z"
   },
   {
    "duration": 1262,
    "start_time": "2022-11-06T17:46:41.881Z"
   },
   {
    "duration": 73,
    "start_time": "2022-11-06T17:46:43.146Z"
   },
   {
    "duration": 22,
    "start_time": "2022-11-06T17:46:43.220Z"
   },
   {
    "duration": 40,
    "start_time": "2022-11-06T17:46:43.245Z"
   },
   {
    "duration": 3,
    "start_time": "2022-11-06T17:46:43.290Z"
   },
   {
    "duration": 30,
    "start_time": "2022-11-06T17:46:43.295Z"
   },
   {
    "duration": 24,
    "start_time": "2022-11-06T17:46:43.331Z"
   },
   {
    "duration": 15,
    "start_time": "2022-11-06T17:46:43.357Z"
   },
   {
    "duration": 22,
    "start_time": "2022-11-06T17:46:43.374Z"
   },
   {
    "duration": 141,
    "start_time": "2022-11-06T17:46:43.399Z"
   },
   {
    "duration": 0,
    "start_time": "2022-11-06T17:46:43.544Z"
   },
   {
    "duration": 0,
    "start_time": "2022-11-06T17:46:43.545Z"
   },
   {
    "duration": 0,
    "start_time": "2022-11-06T17:46:43.547Z"
   },
   {
    "duration": 0,
    "start_time": "2022-11-06T17:46:43.548Z"
   },
   {
    "duration": 0,
    "start_time": "2022-11-06T17:46:43.551Z"
   },
   {
    "duration": 0,
    "start_time": "2022-11-06T17:46:43.552Z"
   },
   {
    "duration": 0,
    "start_time": "2022-11-06T17:46:43.554Z"
   },
   {
    "duration": 0,
    "start_time": "2022-11-06T17:46:43.555Z"
   },
   {
    "duration": 0,
    "start_time": "2022-11-06T17:46:43.556Z"
   },
   {
    "duration": 0,
    "start_time": "2022-11-06T17:46:43.558Z"
   },
   {
    "duration": 0,
    "start_time": "2022-11-06T17:46:43.559Z"
   },
   {
    "duration": 0,
    "start_time": "2022-11-06T17:46:43.560Z"
   },
   {
    "duration": 0,
    "start_time": "2022-11-06T17:46:43.562Z"
   },
   {
    "duration": 0,
    "start_time": "2022-11-06T17:46:43.563Z"
   },
   {
    "duration": 0,
    "start_time": "2022-11-06T17:46:43.565Z"
   },
   {
    "duration": 0,
    "start_time": "2022-11-06T17:46:43.566Z"
   },
   {
    "duration": 0,
    "start_time": "2022-11-06T17:46:43.568Z"
   },
   {
    "duration": 0,
    "start_time": "2022-11-06T17:46:43.569Z"
   },
   {
    "duration": 0,
    "start_time": "2022-11-06T17:46:43.570Z"
   },
   {
    "duration": 0,
    "start_time": "2022-11-06T17:46:43.572Z"
   },
   {
    "duration": 0,
    "start_time": "2022-11-06T17:46:43.573Z"
   },
   {
    "duration": 0,
    "start_time": "2022-11-06T17:46:43.574Z"
   },
   {
    "duration": 0,
    "start_time": "2022-11-06T17:46:43.622Z"
   },
   {
    "duration": 0,
    "start_time": "2022-11-06T17:46:43.623Z"
   },
   {
    "duration": 0,
    "start_time": "2022-11-06T17:46:43.624Z"
   },
   {
    "duration": 0,
    "start_time": "2022-11-06T17:46:43.625Z"
   },
   {
    "duration": 0,
    "start_time": "2022-11-06T17:46:43.630Z"
   },
   {
    "duration": 0,
    "start_time": "2022-11-06T17:46:43.631Z"
   },
   {
    "duration": 0,
    "start_time": "2022-11-06T17:46:43.631Z"
   },
   {
    "duration": 0,
    "start_time": "2022-11-06T17:46:43.632Z"
   },
   {
    "duration": 0,
    "start_time": "2022-11-06T17:46:43.634Z"
   },
   {
    "duration": 0,
    "start_time": "2022-11-06T17:46:43.636Z"
   },
   {
    "duration": 0,
    "start_time": "2022-11-06T17:46:43.638Z"
   },
   {
    "duration": 0,
    "start_time": "2022-11-06T17:46:43.639Z"
   },
   {
    "duration": 0,
    "start_time": "2022-11-06T17:46:43.640Z"
   },
   {
    "duration": 0,
    "start_time": "2022-11-06T17:46:43.642Z"
   },
   {
    "duration": 0,
    "start_time": "2022-11-06T17:46:43.643Z"
   },
   {
    "duration": 0,
    "start_time": "2022-11-06T17:46:43.645Z"
   },
   {
    "duration": 0,
    "start_time": "2022-11-06T17:46:43.647Z"
   },
   {
    "duration": 0,
    "start_time": "2022-11-06T17:46:43.648Z"
   },
   {
    "duration": 0,
    "start_time": "2022-11-06T17:46:43.649Z"
   },
   {
    "duration": 0,
    "start_time": "2022-11-06T17:46:43.651Z"
   },
   {
    "duration": 0,
    "start_time": "2022-11-06T17:46:43.652Z"
   },
   {
    "duration": 0,
    "start_time": "2022-11-06T17:46:43.654Z"
   },
   {
    "duration": 0,
    "start_time": "2022-11-06T17:46:43.655Z"
   },
   {
    "duration": 0,
    "start_time": "2022-11-06T17:46:43.656Z"
   },
   {
    "duration": 0,
    "start_time": "2022-11-06T17:46:43.657Z"
   },
   {
    "duration": 0,
    "start_time": "2022-11-06T17:46:43.658Z"
   },
   {
    "duration": 1288,
    "start_time": "2022-11-06T17:46:51.416Z"
   },
   {
    "duration": 102,
    "start_time": "2022-11-06T17:46:52.707Z"
   },
   {
    "duration": 34,
    "start_time": "2022-11-06T17:46:52.811Z"
   },
   {
    "duration": 35,
    "start_time": "2022-11-06T17:46:52.847Z"
   },
   {
    "duration": 3,
    "start_time": "2022-11-06T17:46:52.884Z"
   },
   {
    "duration": 18,
    "start_time": "2022-11-06T17:46:52.889Z"
   },
   {
    "duration": 35,
    "start_time": "2022-11-06T17:46:52.909Z"
   },
   {
    "duration": 17,
    "start_time": "2022-11-06T17:46:52.947Z"
   },
   {
    "duration": 52,
    "start_time": "2022-11-06T17:46:52.966Z"
   },
   {
    "duration": 122,
    "start_time": "2022-11-06T17:46:53.022Z"
   },
   {
    "duration": 0,
    "start_time": "2022-11-06T17:46:53.147Z"
   },
   {
    "duration": 0,
    "start_time": "2022-11-06T17:46:53.148Z"
   },
   {
    "duration": 0,
    "start_time": "2022-11-06T17:46:53.150Z"
   },
   {
    "duration": 0,
    "start_time": "2022-11-06T17:46:53.151Z"
   },
   {
    "duration": 0,
    "start_time": "2022-11-06T17:46:53.152Z"
   },
   {
    "duration": 0,
    "start_time": "2022-11-06T17:46:53.154Z"
   },
   {
    "duration": 0,
    "start_time": "2022-11-06T17:46:53.155Z"
   },
   {
    "duration": 0,
    "start_time": "2022-11-06T17:46:53.157Z"
   },
   {
    "duration": 0,
    "start_time": "2022-11-06T17:46:53.158Z"
   },
   {
    "duration": 0,
    "start_time": "2022-11-06T17:46:53.159Z"
   },
   {
    "duration": 0,
    "start_time": "2022-11-06T17:46:53.161Z"
   },
   {
    "duration": 0,
    "start_time": "2022-11-06T17:46:53.162Z"
   },
   {
    "duration": 0,
    "start_time": "2022-11-06T17:46:53.163Z"
   },
   {
    "duration": 0,
    "start_time": "2022-11-06T17:46:53.164Z"
   },
   {
    "duration": 0,
    "start_time": "2022-11-06T17:46:53.166Z"
   },
   {
    "duration": 1,
    "start_time": "2022-11-06T17:46:53.167Z"
   },
   {
    "duration": 0,
    "start_time": "2022-11-06T17:46:53.168Z"
   },
   {
    "duration": 0,
    "start_time": "2022-11-06T17:46:53.170Z"
   },
   {
    "duration": 0,
    "start_time": "2022-11-06T17:46:53.171Z"
   },
   {
    "duration": 0,
    "start_time": "2022-11-06T17:46:53.173Z"
   },
   {
    "duration": 0,
    "start_time": "2022-11-06T17:46:53.222Z"
   },
   {
    "duration": 0,
    "start_time": "2022-11-06T17:46:53.224Z"
   },
   {
    "duration": 0,
    "start_time": "2022-11-06T17:46:53.225Z"
   },
   {
    "duration": 0,
    "start_time": "2022-11-06T17:46:53.226Z"
   },
   {
    "duration": 0,
    "start_time": "2022-11-06T17:46:53.227Z"
   },
   {
    "duration": 0,
    "start_time": "2022-11-06T17:46:53.228Z"
   },
   {
    "duration": 0,
    "start_time": "2022-11-06T17:46:53.229Z"
   },
   {
    "duration": 0,
    "start_time": "2022-11-06T17:46:53.230Z"
   },
   {
    "duration": 0,
    "start_time": "2022-11-06T17:46:53.230Z"
   },
   {
    "duration": 0,
    "start_time": "2022-11-06T17:46:53.237Z"
   },
   {
    "duration": 0,
    "start_time": "2022-11-06T17:46:53.238Z"
   },
   {
    "duration": 0,
    "start_time": "2022-11-06T17:46:53.239Z"
   },
   {
    "duration": 0,
    "start_time": "2022-11-06T17:46:53.240Z"
   },
   {
    "duration": 0,
    "start_time": "2022-11-06T17:46:53.241Z"
   },
   {
    "duration": 0,
    "start_time": "2022-11-06T17:46:53.242Z"
   },
   {
    "duration": 0,
    "start_time": "2022-11-06T17:46:53.243Z"
   },
   {
    "duration": 0,
    "start_time": "2022-11-06T17:46:53.245Z"
   },
   {
    "duration": 0,
    "start_time": "2022-11-06T17:46:53.246Z"
   },
   {
    "duration": 0,
    "start_time": "2022-11-06T17:46:53.247Z"
   },
   {
    "duration": 0,
    "start_time": "2022-11-06T17:46:53.249Z"
   },
   {
    "duration": 0,
    "start_time": "2022-11-06T17:46:53.251Z"
   },
   {
    "duration": 0,
    "start_time": "2022-11-06T17:46:53.252Z"
   },
   {
    "duration": 0,
    "start_time": "2022-11-06T17:46:53.254Z"
   },
   {
    "duration": 0,
    "start_time": "2022-11-06T17:46:53.255Z"
   },
   {
    "duration": 0,
    "start_time": "2022-11-06T17:46:53.256Z"
   },
   {
    "duration": 0,
    "start_time": "2022-11-06T17:46:53.258Z"
   },
   {
    "duration": 0,
    "start_time": "2022-11-06T17:46:53.259Z"
   },
   {
    "duration": 0,
    "start_time": "2022-11-06T17:46:53.260Z"
   },
   {
    "duration": 1266,
    "start_time": "2022-11-06T17:48:02.440Z"
   },
   {
    "duration": 79,
    "start_time": "2022-11-06T17:48:03.708Z"
   },
   {
    "duration": 15,
    "start_time": "2022-11-06T17:48:03.789Z"
   },
   {
    "duration": 43,
    "start_time": "2022-11-06T17:48:03.806Z"
   },
   {
    "duration": 9,
    "start_time": "2022-11-06T17:48:03.852Z"
   },
   {
    "duration": 18,
    "start_time": "2022-11-06T17:48:03.863Z"
   },
   {
    "duration": 13,
    "start_time": "2022-11-06T17:48:03.884Z"
   },
   {
    "duration": 7,
    "start_time": "2022-11-06T17:48:03.899Z"
   },
   {
    "duration": 23,
    "start_time": "2022-11-06T17:48:03.920Z"
   },
   {
    "duration": 13,
    "start_time": "2022-11-06T17:48:03.945Z"
   },
   {
    "duration": 8,
    "start_time": "2022-11-06T17:48:03.959Z"
   },
   {
    "duration": 14,
    "start_time": "2022-11-06T17:48:03.968Z"
   },
   {
    "duration": 670,
    "start_time": "2022-11-06T17:48:03.983Z"
   },
   {
    "duration": 16,
    "start_time": "2022-11-06T17:48:04.657Z"
   },
   {
    "duration": 15,
    "start_time": "2022-11-06T17:48:04.675Z"
   },
   {
    "duration": 45,
    "start_time": "2022-11-06T17:48:04.692Z"
   },
   {
    "duration": 25,
    "start_time": "2022-11-06T17:48:04.742Z"
   },
   {
    "duration": 48,
    "start_time": "2022-11-06T17:48:04.770Z"
   },
   {
    "duration": 353,
    "start_time": "2022-11-06T17:48:04.820Z"
   },
   {
    "duration": 393,
    "start_time": "2022-11-06T17:48:05.176Z"
   },
   {
    "duration": 22,
    "start_time": "2022-11-06T17:48:05.572Z"
   },
   {
    "duration": 490,
    "start_time": "2022-11-06T17:48:05.596Z"
   },
   {
    "duration": 17,
    "start_time": "2022-11-06T17:48:06.088Z"
   },
   {
    "duration": 12,
    "start_time": "2022-11-06T17:48:06.121Z"
   },
   {
    "duration": 230,
    "start_time": "2022-11-06T17:48:06.134Z"
   },
   {
    "duration": 20,
    "start_time": "2022-11-06T17:48:06.366Z"
   },
   {
    "duration": 200,
    "start_time": "2022-11-06T17:48:06.388Z"
   },
   {
    "duration": 172,
    "start_time": "2022-11-06T17:48:06.590Z"
   },
   {
    "duration": 264,
    "start_time": "2022-11-06T17:48:06.764Z"
   },
   {
    "duration": 169,
    "start_time": "2022-11-06T17:48:07.030Z"
   },
   {
    "duration": 162,
    "start_time": "2022-11-06T17:48:07.201Z"
   },
   {
    "duration": 152,
    "start_time": "2022-11-06T17:48:07.364Z"
   },
   {
    "duration": 261,
    "start_time": "2022-11-06T17:48:07.525Z"
   },
   {
    "duration": 356,
    "start_time": "2022-11-06T17:48:07.789Z"
   },
   {
    "duration": 138,
    "start_time": "2022-11-06T17:48:08.147Z"
   },
   {
    "duration": 152,
    "start_time": "2022-11-06T17:48:08.287Z"
   },
   {
    "duration": 17,
    "start_time": "2022-11-06T17:48:08.441Z"
   },
   {
    "duration": 35,
    "start_time": "2022-11-06T17:48:08.459Z"
   },
   {
    "duration": 196,
    "start_time": "2022-11-06T17:48:08.496Z"
   },
   {
    "duration": 496,
    "start_time": "2022-11-06T17:48:08.694Z"
   },
   {
    "duration": 37,
    "start_time": "2022-11-06T17:48:09.196Z"
   },
   {
    "duration": 42,
    "start_time": "2022-11-06T17:48:09.239Z"
   },
   {
    "duration": 76,
    "start_time": "2022-11-06T17:48:09.283Z"
   },
   {
    "duration": 64,
    "start_time": "2022-11-06T17:48:09.361Z"
   },
   {
    "duration": 72,
    "start_time": "2022-11-06T17:48:09.427Z"
   },
   {
    "duration": 71,
    "start_time": "2022-11-06T17:48:09.502Z"
   },
   {
    "duration": 74,
    "start_time": "2022-11-06T17:48:09.575Z"
   },
   {
    "duration": 390,
    "start_time": "2022-11-06T17:48:09.651Z"
   },
   {
    "duration": 245,
    "start_time": "2022-11-06T17:48:10.043Z"
   },
   {
    "duration": 167,
    "start_time": "2022-11-06T17:48:10.290Z"
   },
   {
    "duration": 329,
    "start_time": "2022-11-06T17:48:10.459Z"
   },
   {
    "duration": 168,
    "start_time": "2022-11-06T17:48:10.791Z"
   },
   {
    "duration": 138,
    "start_time": "2022-11-06T17:48:10.960Z"
   },
   {
    "duration": 349,
    "start_time": "2022-11-06T17:48:11.100Z"
   },
   {
    "duration": 177,
    "start_time": "2022-11-06T17:48:11.451Z"
   },
   {
    "duration": 198,
    "start_time": "2022-11-06T17:48:11.632Z"
   },
   {
    "duration": 16,
    "start_time": "2022-11-06T17:48:11.835Z"
   },
   {
    "duration": 54,
    "start_time": "2022-11-06T17:48:11.854Z"
   },
   {
    "duration": 1157,
    "start_time": "2022-11-06T17:52:26.542Z"
   },
   {
    "duration": 83,
    "start_time": "2022-11-06T17:52:27.701Z"
   },
   {
    "duration": 18,
    "start_time": "2022-11-06T17:52:27.786Z"
   },
   {
    "duration": 45,
    "start_time": "2022-11-06T17:52:27.807Z"
   },
   {
    "duration": 4,
    "start_time": "2022-11-06T17:52:27.854Z"
   },
   {
    "duration": 26,
    "start_time": "2022-11-06T17:52:27.860Z"
   },
   {
    "duration": 12,
    "start_time": "2022-11-06T17:52:27.889Z"
   },
   {
    "duration": 23,
    "start_time": "2022-11-06T17:52:27.903Z"
   },
   {
    "duration": 47,
    "start_time": "2022-11-06T17:52:27.928Z"
   },
   {
    "duration": 165,
    "start_time": "2022-11-06T17:52:27.979Z"
   },
   {
    "duration": 0,
    "start_time": "2022-11-06T17:52:28.147Z"
   },
   {
    "duration": 0,
    "start_time": "2022-11-06T17:52:28.149Z"
   },
   {
    "duration": 0,
    "start_time": "2022-11-06T17:52:28.151Z"
   },
   {
    "duration": 0,
    "start_time": "2022-11-06T17:52:28.153Z"
   },
   {
    "duration": 0,
    "start_time": "2022-11-06T17:52:28.155Z"
   },
   {
    "duration": 0,
    "start_time": "2022-11-06T17:52:28.156Z"
   },
   {
    "duration": 0,
    "start_time": "2022-11-06T17:52:28.158Z"
   },
   {
    "duration": 0,
    "start_time": "2022-11-06T17:52:28.159Z"
   },
   {
    "duration": 0,
    "start_time": "2022-11-06T17:52:28.161Z"
   },
   {
    "duration": 0,
    "start_time": "2022-11-06T17:52:28.163Z"
   },
   {
    "duration": 0,
    "start_time": "2022-11-06T17:52:28.164Z"
   },
   {
    "duration": 0,
    "start_time": "2022-11-06T17:52:28.166Z"
   },
   {
    "duration": 0,
    "start_time": "2022-11-06T17:52:28.168Z"
   },
   {
    "duration": 0,
    "start_time": "2022-11-06T17:52:28.169Z"
   },
   {
    "duration": 0,
    "start_time": "2022-11-06T17:52:28.170Z"
   },
   {
    "duration": 0,
    "start_time": "2022-11-06T17:52:28.171Z"
   },
   {
    "duration": 0,
    "start_time": "2022-11-06T17:52:28.172Z"
   },
   {
    "duration": 0,
    "start_time": "2022-11-06T17:52:28.174Z"
   },
   {
    "duration": 0,
    "start_time": "2022-11-06T17:52:28.175Z"
   },
   {
    "duration": 0,
    "start_time": "2022-11-06T17:52:28.176Z"
   },
   {
    "duration": 0,
    "start_time": "2022-11-06T17:52:28.220Z"
   },
   {
    "duration": 0,
    "start_time": "2022-11-06T17:52:28.222Z"
   },
   {
    "duration": 0,
    "start_time": "2022-11-06T17:52:28.223Z"
   },
   {
    "duration": 0,
    "start_time": "2022-11-06T17:52:28.224Z"
   },
   {
    "duration": 0,
    "start_time": "2022-11-06T17:52:28.225Z"
   },
   {
    "duration": 0,
    "start_time": "2022-11-06T17:52:28.226Z"
   },
   {
    "duration": 0,
    "start_time": "2022-11-06T17:52:28.227Z"
   },
   {
    "duration": 0,
    "start_time": "2022-11-06T17:52:28.227Z"
   },
   {
    "duration": 0,
    "start_time": "2022-11-06T17:52:28.228Z"
   },
   {
    "duration": 0,
    "start_time": "2022-11-06T17:52:28.229Z"
   },
   {
    "duration": 0,
    "start_time": "2022-11-06T17:52:28.230Z"
   },
   {
    "duration": 0,
    "start_time": "2022-11-06T17:52:28.230Z"
   },
   {
    "duration": 0,
    "start_time": "2022-11-06T17:52:28.231Z"
   },
   {
    "duration": 0,
    "start_time": "2022-11-06T17:52:28.232Z"
   },
   {
    "duration": 0,
    "start_time": "2022-11-06T17:52:28.233Z"
   },
   {
    "duration": 0,
    "start_time": "2022-11-06T17:52:28.234Z"
   },
   {
    "duration": 0,
    "start_time": "2022-11-06T17:52:28.234Z"
   },
   {
    "duration": 0,
    "start_time": "2022-11-06T17:52:28.235Z"
   },
   {
    "duration": 0,
    "start_time": "2022-11-06T17:52:28.236Z"
   },
   {
    "duration": 0,
    "start_time": "2022-11-06T17:52:28.237Z"
   },
   {
    "duration": 0,
    "start_time": "2022-11-06T17:52:28.237Z"
   },
   {
    "duration": 0,
    "start_time": "2022-11-06T17:52:28.238Z"
   },
   {
    "duration": 0,
    "start_time": "2022-11-06T17:52:28.239Z"
   },
   {
    "duration": 0,
    "start_time": "2022-11-06T17:52:28.240Z"
   },
   {
    "duration": 0,
    "start_time": "2022-11-06T17:52:28.240Z"
   },
   {
    "duration": 0,
    "start_time": "2022-11-06T17:52:28.241Z"
   },
   {
    "duration": 0,
    "start_time": "2022-11-06T17:52:28.246Z"
   },
   {
    "duration": 0,
    "start_time": "2022-11-06T17:52:28.247Z"
   },
   {
    "duration": 8,
    "start_time": "2022-11-06T17:53:47.739Z"
   },
   {
    "duration": 7,
    "start_time": "2022-11-06T17:53:51.010Z"
   },
   {
    "duration": 1327,
    "start_time": "2022-11-06T17:55:17.037Z"
   },
   {
    "duration": 76,
    "start_time": "2022-11-06T17:55:18.366Z"
   },
   {
    "duration": 138,
    "start_time": "2022-11-06T17:55:18.445Z"
   },
   {
    "duration": 33,
    "start_time": "2022-11-06T17:55:18.585Z"
   },
   {
    "duration": 7,
    "start_time": "2022-11-06T17:55:18.620Z"
   },
   {
    "duration": 44,
    "start_time": "2022-11-06T17:55:18.629Z"
   },
   {
    "duration": 18,
    "start_time": "2022-11-06T17:55:18.675Z"
   },
   {
    "duration": 15,
    "start_time": "2022-11-06T17:55:18.695Z"
   },
   {
    "duration": 51,
    "start_time": "2022-11-06T17:55:18.713Z"
   },
   {
    "duration": 11,
    "start_time": "2022-11-06T17:55:18.766Z"
   },
   {
    "duration": 11,
    "start_time": "2022-11-06T17:55:18.779Z"
   },
   {
    "duration": 20,
    "start_time": "2022-11-06T17:55:18.793Z"
   },
   {
    "duration": 829,
    "start_time": "2022-11-06T17:55:18.815Z"
   },
   {
    "duration": 16,
    "start_time": "2022-11-06T17:55:19.648Z"
   },
   {
    "duration": 18,
    "start_time": "2022-11-06T17:55:19.666Z"
   },
   {
    "duration": 36,
    "start_time": "2022-11-06T17:55:19.687Z"
   },
   {
    "duration": 13,
    "start_time": "2022-11-06T17:55:19.729Z"
   },
   {
    "duration": 39,
    "start_time": "2022-11-06T17:55:19.744Z"
   },
   {
    "duration": 318,
    "start_time": "2022-11-06T17:55:19.786Z"
   },
   {
    "duration": 325,
    "start_time": "2022-11-06T17:55:20.106Z"
   },
   {
    "duration": 25,
    "start_time": "2022-11-06T17:55:20.432Z"
   },
   {
    "duration": 529,
    "start_time": "2022-11-06T17:55:20.459Z"
   },
   {
    "duration": 17,
    "start_time": "2022-11-06T17:55:20.989Z"
   },
   {
    "duration": 33,
    "start_time": "2022-11-06T17:55:21.008Z"
   },
   {
    "duration": 206,
    "start_time": "2022-11-06T17:55:21.043Z"
   },
   {
    "duration": 16,
    "start_time": "2022-11-06T17:55:21.251Z"
   },
   {
    "duration": 180,
    "start_time": "2022-11-06T17:55:21.269Z"
   },
   {
    "duration": 177,
    "start_time": "2022-11-06T17:55:21.451Z"
   },
   {
    "duration": 231,
    "start_time": "2022-11-06T17:55:21.635Z"
   },
   {
    "duration": 154,
    "start_time": "2022-11-06T17:55:21.869Z"
   },
   {
    "duration": 212,
    "start_time": "2022-11-06T17:55:22.025Z"
   },
   {
    "duration": 151,
    "start_time": "2022-11-06T17:55:22.242Z"
   },
   {
    "duration": 305,
    "start_time": "2022-11-06T17:55:22.395Z"
   },
   {
    "duration": 366,
    "start_time": "2022-11-06T17:55:22.702Z"
   },
   {
    "duration": 174,
    "start_time": "2022-11-06T17:55:23.070Z"
   },
   {
    "duration": 202,
    "start_time": "2022-11-06T17:55:23.246Z"
   },
   {
    "duration": 18,
    "start_time": "2022-11-06T17:55:23.450Z"
   },
   {
    "duration": 13,
    "start_time": "2022-11-06T17:55:23.470Z"
   },
   {
    "duration": 189,
    "start_time": "2022-11-06T17:55:23.485Z"
   },
   {
    "duration": 477,
    "start_time": "2022-11-06T17:55:23.677Z"
   },
   {
    "duration": 15,
    "start_time": "2022-11-06T17:55:24.158Z"
   },
   {
    "duration": 19,
    "start_time": "2022-11-06T17:55:24.174Z"
   },
   {
    "duration": 43,
    "start_time": "2022-11-06T17:55:24.195Z"
   },
   {
    "duration": 22,
    "start_time": "2022-11-06T17:55:24.240Z"
   },
   {
    "duration": 19,
    "start_time": "2022-11-06T17:55:24.263Z"
   },
   {
    "duration": 16,
    "start_time": "2022-11-06T17:55:24.284Z"
   },
   {
    "duration": 38,
    "start_time": "2022-11-06T17:55:24.302Z"
   },
   {
    "duration": 308,
    "start_time": "2022-11-06T17:55:24.342Z"
   },
   {
    "duration": 256,
    "start_time": "2022-11-06T17:55:24.652Z"
   },
   {
    "duration": 160,
    "start_time": "2022-11-06T17:55:24.910Z"
   },
   {
    "duration": 340,
    "start_time": "2022-11-06T17:55:25.072Z"
   },
   {
    "duration": 147,
    "start_time": "2022-11-06T17:55:25.414Z"
   },
   {
    "duration": 147,
    "start_time": "2022-11-06T17:55:25.563Z"
   },
   {
    "duration": 363,
    "start_time": "2022-11-06T17:55:25.711Z"
   },
   {
    "duration": 157,
    "start_time": "2022-11-06T17:55:26.077Z"
   },
   {
    "duration": 147,
    "start_time": "2022-11-06T17:55:26.235Z"
   },
   {
    "duration": 13,
    "start_time": "2022-11-06T17:55:26.384Z"
   },
   {
    "duration": 77,
    "start_time": "2022-11-06T17:55:26.399Z"
   },
   {
    "duration": 172,
    "start_time": "2022-11-06T18:00:09.015Z"
   },
   {
    "duration": 1405,
    "start_time": "2022-11-06T18:00:16.265Z"
   },
   {
    "duration": 79,
    "start_time": "2022-11-06T18:00:17.675Z"
   },
   {
    "duration": 19,
    "start_time": "2022-11-06T18:00:17.755Z"
   },
   {
    "duration": 43,
    "start_time": "2022-11-06T18:00:17.777Z"
   },
   {
    "duration": 3,
    "start_time": "2022-11-06T18:00:17.831Z"
   },
   {
    "duration": 66,
    "start_time": "2022-11-06T18:00:17.844Z"
   },
   {
    "duration": 54,
    "start_time": "2022-11-06T18:00:17.912Z"
   },
   {
    "duration": 7,
    "start_time": "2022-11-06T18:00:17.969Z"
   },
   {
    "duration": 27,
    "start_time": "2022-11-06T18:00:17.978Z"
   },
   {
    "duration": 26,
    "start_time": "2022-11-06T18:00:18.008Z"
   },
   {
    "duration": 40,
    "start_time": "2022-11-06T18:00:18.036Z"
   },
   {
    "duration": 33,
    "start_time": "2022-11-06T18:00:18.078Z"
   },
   {
    "duration": 798,
    "start_time": "2022-11-06T18:00:18.114Z"
   },
   {
    "duration": 17,
    "start_time": "2022-11-06T18:00:18.916Z"
   },
   {
    "duration": 158,
    "start_time": "2022-11-06T18:00:18.937Z"
   },
   {
    "duration": 0,
    "start_time": "2022-11-06T18:00:19.099Z"
   },
   {
    "duration": 0,
    "start_time": "2022-11-06T18:00:19.100Z"
   },
   {
    "duration": 0,
    "start_time": "2022-11-06T18:00:19.102Z"
   },
   {
    "duration": 0,
    "start_time": "2022-11-06T18:00:19.103Z"
   },
   {
    "duration": 0,
    "start_time": "2022-11-06T18:00:19.105Z"
   },
   {
    "duration": 0,
    "start_time": "2022-11-06T18:00:19.107Z"
   },
   {
    "duration": 0,
    "start_time": "2022-11-06T18:00:19.108Z"
   },
   {
    "duration": 0,
    "start_time": "2022-11-06T18:00:19.125Z"
   },
   {
    "duration": 0,
    "start_time": "2022-11-06T18:00:19.127Z"
   },
   {
    "duration": 0,
    "start_time": "2022-11-06T18:00:19.128Z"
   },
   {
    "duration": 0,
    "start_time": "2022-11-06T18:00:19.129Z"
   },
   {
    "duration": 0,
    "start_time": "2022-11-06T18:00:19.130Z"
   },
   {
    "duration": 0,
    "start_time": "2022-11-06T18:00:19.132Z"
   },
   {
    "duration": 0,
    "start_time": "2022-11-06T18:00:19.133Z"
   },
   {
    "duration": 0,
    "start_time": "2022-11-06T18:00:19.134Z"
   },
   {
    "duration": 0,
    "start_time": "2022-11-06T18:00:19.135Z"
   },
   {
    "duration": 0,
    "start_time": "2022-11-06T18:00:19.137Z"
   },
   {
    "duration": 0,
    "start_time": "2022-11-06T18:00:19.138Z"
   },
   {
    "duration": 0,
    "start_time": "2022-11-06T18:00:19.139Z"
   },
   {
    "duration": 0,
    "start_time": "2022-11-06T18:00:19.144Z"
   },
   {
    "duration": 0,
    "start_time": "2022-11-06T18:00:19.154Z"
   },
   {
    "duration": 0,
    "start_time": "2022-11-06T18:00:19.155Z"
   },
   {
    "duration": 0,
    "start_time": "2022-11-06T18:00:19.155Z"
   },
   {
    "duration": 0,
    "start_time": "2022-11-06T18:00:19.160Z"
   },
   {
    "duration": 0,
    "start_time": "2022-11-06T18:00:19.162Z"
   },
   {
    "duration": 0,
    "start_time": "2022-11-06T18:00:19.163Z"
   },
   {
    "duration": 0,
    "start_time": "2022-11-06T18:00:19.164Z"
   },
   {
    "duration": 0,
    "start_time": "2022-11-06T18:00:19.166Z"
   },
   {
    "duration": 0,
    "start_time": "2022-11-06T18:00:19.167Z"
   },
   {
    "duration": 0,
    "start_time": "2022-11-06T18:00:19.168Z"
   },
   {
    "duration": 0,
    "start_time": "2022-11-06T18:00:19.169Z"
   },
   {
    "duration": 0,
    "start_time": "2022-11-06T18:00:19.170Z"
   },
   {
    "duration": 0,
    "start_time": "2022-11-06T18:00:19.171Z"
   },
   {
    "duration": 0,
    "start_time": "2022-11-06T18:00:19.171Z"
   },
   {
    "duration": 0,
    "start_time": "2022-11-06T18:00:19.172Z"
   },
   {
    "duration": 0,
    "start_time": "2022-11-06T18:00:19.173Z"
   },
   {
    "duration": 0,
    "start_time": "2022-11-06T18:00:19.176Z"
   },
   {
    "duration": 0,
    "start_time": "2022-11-06T18:00:19.177Z"
   },
   {
    "duration": 0,
    "start_time": "2022-11-06T18:00:19.221Z"
   },
   {
    "duration": 0,
    "start_time": "2022-11-06T18:00:19.222Z"
   },
   {
    "duration": 0,
    "start_time": "2022-11-06T18:00:19.223Z"
   },
   {
    "duration": 0,
    "start_time": "2022-11-06T18:00:19.224Z"
   },
   {
    "duration": 0,
    "start_time": "2022-11-06T18:00:19.225Z"
   },
   {
    "duration": 0,
    "start_time": "2022-11-06T18:00:19.228Z"
   },
   {
    "duration": 11,
    "start_time": "2022-11-06T18:01:23.271Z"
   },
   {
    "duration": 6,
    "start_time": "2022-11-06T18:02:42.900Z"
   },
   {
    "duration": 4,
    "start_time": "2022-11-06T18:03:15.892Z"
   },
   {
    "duration": 9,
    "start_time": "2022-11-06T18:03:24.070Z"
   },
   {
    "duration": 1321,
    "start_time": "2022-11-06T18:06:51.964Z"
   },
   {
    "duration": 78,
    "start_time": "2022-11-06T18:06:53.287Z"
   },
   {
    "duration": 22,
    "start_time": "2022-11-06T18:06:53.367Z"
   },
   {
    "duration": 57,
    "start_time": "2022-11-06T18:06:53.391Z"
   },
   {
    "duration": 4,
    "start_time": "2022-11-06T18:06:53.451Z"
   },
   {
    "duration": 22,
    "start_time": "2022-11-06T18:06:53.457Z"
   },
   {
    "duration": 12,
    "start_time": "2022-11-06T18:06:53.481Z"
   },
   {
    "duration": 37,
    "start_time": "2022-11-06T18:06:53.495Z"
   },
   {
    "duration": 36,
    "start_time": "2022-11-06T18:06:53.533Z"
   },
   {
    "duration": 14,
    "start_time": "2022-11-06T18:06:53.573Z"
   },
   {
    "duration": 6,
    "start_time": "2022-11-06T18:06:53.589Z"
   },
   {
    "duration": 15,
    "start_time": "2022-11-06T18:06:53.597Z"
   },
   {
    "duration": 759,
    "start_time": "2022-11-06T18:06:53.614Z"
   },
   {
    "duration": 14,
    "start_time": "2022-11-06T18:06:54.375Z"
   },
   {
    "duration": 4,
    "start_time": "2022-11-06T18:06:54.391Z"
   },
   {
    "duration": 28,
    "start_time": "2022-11-06T18:06:54.397Z"
   },
   {
    "duration": 43,
    "start_time": "2022-11-06T18:06:54.426Z"
   },
   {
    "duration": 9,
    "start_time": "2022-11-06T18:06:54.471Z"
   },
   {
    "duration": 28,
    "start_time": "2022-11-06T18:06:54.481Z"
   },
   {
    "duration": 320,
    "start_time": "2022-11-06T18:06:54.511Z"
   },
   {
    "duration": 285,
    "start_time": "2022-11-06T18:06:54.833Z"
   },
   {
    "duration": 27,
    "start_time": "2022-11-06T18:06:55.126Z"
   },
   {
    "duration": 534,
    "start_time": "2022-11-06T18:06:55.155Z"
   },
   {
    "duration": 16,
    "start_time": "2022-11-06T18:06:55.692Z"
   },
   {
    "duration": 48,
    "start_time": "2022-11-06T18:06:55.725Z"
   },
   {
    "duration": 249,
    "start_time": "2022-11-06T18:06:55.775Z"
   },
   {
    "duration": 22,
    "start_time": "2022-11-06T18:06:56.030Z"
   },
   {
    "duration": 186,
    "start_time": "2022-11-06T18:06:56.057Z"
   },
   {
    "duration": 196,
    "start_time": "2022-11-06T18:06:56.247Z"
   },
   {
    "duration": 246,
    "start_time": "2022-11-06T18:06:56.445Z"
   },
   {
    "duration": 172,
    "start_time": "2022-11-06T18:06:56.693Z"
   },
   {
    "duration": 194,
    "start_time": "2022-11-06T18:06:56.868Z"
   },
   {
    "duration": 211,
    "start_time": "2022-11-06T18:06:57.064Z"
   },
   {
    "duration": 299,
    "start_time": "2022-11-06T18:06:57.277Z"
   },
   {
    "duration": 385,
    "start_time": "2022-11-06T18:06:57.578Z"
   },
   {
    "duration": 176,
    "start_time": "2022-11-06T18:06:57.965Z"
   },
   {
    "duration": 149,
    "start_time": "2022-11-06T18:06:58.145Z"
   },
   {
    "duration": 35,
    "start_time": "2022-11-06T18:06:58.296Z"
   },
   {
    "duration": 14,
    "start_time": "2022-11-06T18:06:58.341Z"
   },
   {
    "duration": 195,
    "start_time": "2022-11-06T18:06:58.358Z"
   },
   {
    "duration": 505,
    "start_time": "2022-11-06T18:06:58.556Z"
   },
   {
    "duration": 19,
    "start_time": "2022-11-06T18:06:59.063Z"
   },
   {
    "duration": 22,
    "start_time": "2022-11-06T18:06:59.084Z"
   },
   {
    "duration": 39,
    "start_time": "2022-11-06T18:06:59.109Z"
   },
   {
    "duration": 40,
    "start_time": "2022-11-06T18:06:59.150Z"
   },
   {
    "duration": 83,
    "start_time": "2022-11-06T18:06:59.192Z"
   },
   {
    "duration": 28,
    "start_time": "2022-11-06T18:06:59.279Z"
   },
   {
    "duration": 50,
    "start_time": "2022-11-06T18:06:59.310Z"
   },
   {
    "duration": 440,
    "start_time": "2022-11-06T18:06:59.365Z"
   },
   {
    "duration": 277,
    "start_time": "2022-11-06T18:06:59.813Z"
   },
   {
    "duration": 173,
    "start_time": "2022-11-06T18:07:00.092Z"
   },
   {
    "duration": 385,
    "start_time": "2022-11-06T18:07:00.267Z"
   },
   {
    "duration": 156,
    "start_time": "2022-11-06T18:07:00.654Z"
   },
   {
    "duration": 158,
    "start_time": "2022-11-06T18:07:00.812Z"
   },
   {
    "duration": 365,
    "start_time": "2022-11-06T18:07:00.972Z"
   },
   {
    "duration": 165,
    "start_time": "2022-11-06T18:07:01.338Z"
   },
   {
    "duration": 159,
    "start_time": "2022-11-06T18:07:01.505Z"
   },
   {
    "duration": 15,
    "start_time": "2022-11-06T18:07:01.666Z"
   },
   {
    "duration": 23,
    "start_time": "2022-11-06T18:07:01.684Z"
   },
   {
    "duration": 1398,
    "start_time": "2022-11-06T18:07:55.770Z"
   },
   {
    "duration": 95,
    "start_time": "2022-11-06T18:07:57.172Z"
   },
   {
    "duration": 19,
    "start_time": "2022-11-06T18:07:57.269Z"
   },
   {
    "duration": 57,
    "start_time": "2022-11-06T18:07:57.290Z"
   },
   {
    "duration": 3,
    "start_time": "2022-11-06T18:07:57.352Z"
   },
   {
    "duration": 23,
    "start_time": "2022-11-06T18:07:57.357Z"
   },
   {
    "duration": 14,
    "start_time": "2022-11-06T18:07:57.383Z"
   },
   {
    "duration": 7,
    "start_time": "2022-11-06T18:07:57.399Z"
   },
   {
    "duration": 42,
    "start_time": "2022-11-06T18:07:57.425Z"
   },
   {
    "duration": 11,
    "start_time": "2022-11-06T18:07:57.469Z"
   },
   {
    "duration": 18,
    "start_time": "2022-11-06T18:07:57.482Z"
   },
   {
    "duration": 17,
    "start_time": "2022-11-06T18:07:57.502Z"
   },
   {
    "duration": 847,
    "start_time": "2022-11-06T18:07:57.521Z"
   },
   {
    "duration": 18,
    "start_time": "2022-11-06T18:07:58.372Z"
   },
   {
    "duration": 14,
    "start_time": "2022-11-06T18:07:58.392Z"
   },
   {
    "duration": 34,
    "start_time": "2022-11-06T18:07:58.408Z"
   },
   {
    "duration": 16,
    "start_time": "2022-11-06T18:07:58.444Z"
   },
   {
    "duration": 17,
    "start_time": "2022-11-06T18:07:58.462Z"
   },
   {
    "duration": 9,
    "start_time": "2022-11-06T18:07:58.481Z"
   },
   {
    "duration": 39,
    "start_time": "2022-11-06T18:07:58.492Z"
   },
   {
    "duration": 325,
    "start_time": "2022-11-06T18:07:58.535Z"
   },
   {
    "duration": 411,
    "start_time": "2022-11-06T18:07:58.867Z"
   },
   {
    "duration": 28,
    "start_time": "2022-11-06T18:07:59.281Z"
   },
   {
    "duration": 520,
    "start_time": "2022-11-06T18:07:59.323Z"
   },
   {
    "duration": 22,
    "start_time": "2022-11-06T18:07:59.848Z"
   },
   {
    "duration": 8,
    "start_time": "2022-11-06T18:07:59.872Z"
   },
   {
    "duration": 249,
    "start_time": "2022-11-06T18:07:59.882Z"
   },
   {
    "duration": 24,
    "start_time": "2022-11-06T18:08:00.136Z"
   },
   {
    "duration": 233,
    "start_time": "2022-11-06T18:08:00.162Z"
   },
   {
    "duration": 202,
    "start_time": "2022-11-06T18:08:00.397Z"
   },
   {
    "duration": 277,
    "start_time": "2022-11-06T18:08:00.600Z"
   },
   {
    "duration": 169,
    "start_time": "2022-11-06T18:08:00.879Z"
   },
   {
    "duration": 187,
    "start_time": "2022-11-06T18:08:01.050Z"
   },
   {
    "duration": 151,
    "start_time": "2022-11-06T18:08:01.243Z"
   },
   {
    "duration": 301,
    "start_time": "2022-11-06T18:08:01.395Z"
   },
   {
    "duration": 381,
    "start_time": "2022-11-06T18:08:01.699Z"
   },
   {
    "duration": 146,
    "start_time": "2022-11-06T18:08:02.083Z"
   },
   {
    "duration": 162,
    "start_time": "2022-11-06T18:08:02.231Z"
   },
   {
    "duration": 29,
    "start_time": "2022-11-06T18:08:02.395Z"
   },
   {
    "duration": 23,
    "start_time": "2022-11-06T18:08:02.429Z"
   },
   {
    "duration": 231,
    "start_time": "2022-11-06T18:08:02.457Z"
   },
   {
    "duration": 501,
    "start_time": "2022-11-06T18:08:02.689Z"
   },
   {
    "duration": 16,
    "start_time": "2022-11-06T18:08:03.192Z"
   },
   {
    "duration": 25,
    "start_time": "2022-11-06T18:08:03.223Z"
   },
   {
    "duration": 21,
    "start_time": "2022-11-06T18:08:03.250Z"
   },
   {
    "duration": 19,
    "start_time": "2022-11-06T18:08:03.273Z"
   },
   {
    "duration": 37,
    "start_time": "2022-11-06T18:08:03.295Z"
   },
   {
    "duration": 28,
    "start_time": "2022-11-06T18:08:03.337Z"
   },
   {
    "duration": 127,
    "start_time": "2022-11-06T18:08:03.367Z"
   },
   {
    "duration": 357,
    "start_time": "2022-11-06T18:08:03.496Z"
   },
   {
    "duration": 175,
    "start_time": "2022-11-06T18:08:03.857Z"
   },
   {
    "duration": 147,
    "start_time": "2022-11-06T18:08:04.034Z"
   },
   {
    "duration": 394,
    "start_time": "2022-11-06T18:08:04.183Z"
   },
   {
    "duration": 160,
    "start_time": "2022-11-06T18:08:04.580Z"
   },
   {
    "duration": 149,
    "start_time": "2022-11-06T18:08:04.741Z"
   },
   {
    "duration": 414,
    "start_time": "2022-11-06T18:08:04.892Z"
   },
   {
    "duration": 171,
    "start_time": "2022-11-06T18:08:05.308Z"
   },
   {
    "duration": 208,
    "start_time": "2022-11-06T18:08:05.482Z"
   },
   {
    "duration": 31,
    "start_time": "2022-11-06T18:08:05.692Z"
   },
   {
    "duration": 51,
    "start_time": "2022-11-06T18:08:05.739Z"
   },
   {
    "duration": 403,
    "start_time": "2022-11-06T18:11:42.384Z"
   },
   {
    "duration": 339,
    "start_time": "2022-11-06T18:11:50.774Z"
   },
   {
    "duration": 492,
    "start_time": "2022-11-06T18:11:57.817Z"
   },
   {
    "duration": 1626,
    "start_time": "2022-11-06T18:12:31.748Z"
   },
   {
    "duration": 99,
    "start_time": "2022-11-06T18:12:33.378Z"
   },
   {
    "duration": 23,
    "start_time": "2022-11-06T18:12:33.479Z"
   },
   {
    "duration": 49,
    "start_time": "2022-11-06T18:12:33.505Z"
   },
   {
    "duration": 14,
    "start_time": "2022-11-06T18:12:33.556Z"
   },
   {
    "duration": 19,
    "start_time": "2022-11-06T18:12:33.573Z"
   },
   {
    "duration": 28,
    "start_time": "2022-11-06T18:12:33.595Z"
   },
   {
    "duration": 15,
    "start_time": "2022-11-06T18:12:33.624Z"
   },
   {
    "duration": 40,
    "start_time": "2022-11-06T18:12:33.641Z"
   },
   {
    "duration": 10,
    "start_time": "2022-11-06T18:12:33.684Z"
   },
   {
    "duration": 21,
    "start_time": "2022-11-06T18:12:33.696Z"
   },
   {
    "duration": 55,
    "start_time": "2022-11-06T18:12:33.720Z"
   },
   {
    "duration": 773,
    "start_time": "2022-11-06T18:12:33.778Z"
   },
   {
    "duration": 18,
    "start_time": "2022-11-06T18:12:34.555Z"
   },
   {
    "duration": 6,
    "start_time": "2022-11-06T18:12:34.575Z"
   },
   {
    "duration": 14,
    "start_time": "2022-11-06T18:12:34.584Z"
   },
   {
    "duration": 21,
    "start_time": "2022-11-06T18:12:34.601Z"
   },
   {
    "duration": 43,
    "start_time": "2022-11-06T18:12:34.626Z"
   },
   {
    "duration": 11,
    "start_time": "2022-11-06T18:12:34.671Z"
   },
   {
    "duration": 50,
    "start_time": "2022-11-06T18:12:34.684Z"
   },
   {
    "duration": 383,
    "start_time": "2022-11-06T18:12:34.735Z"
   },
   {
    "duration": 350,
    "start_time": "2022-11-06T18:12:35.121Z"
   },
   {
    "duration": 31,
    "start_time": "2022-11-06T18:12:35.474Z"
   },
   {
    "duration": 632,
    "start_time": "2022-11-06T18:12:35.508Z"
   },
   {
    "duration": 21,
    "start_time": "2022-11-06T18:12:36.142Z"
   },
   {
    "duration": 37,
    "start_time": "2022-11-06T18:12:36.165Z"
   },
   {
    "duration": 319,
    "start_time": "2022-11-06T18:12:36.204Z"
   },
   {
    "duration": 24,
    "start_time": "2022-11-06T18:12:36.528Z"
   },
   {
    "duration": 249,
    "start_time": "2022-11-06T18:12:36.554Z"
   },
   {
    "duration": 245,
    "start_time": "2022-11-06T18:12:36.805Z"
   },
   {
    "duration": 288,
    "start_time": "2022-11-06T18:12:37.052Z"
   },
   {
    "duration": 197,
    "start_time": "2022-11-06T18:12:37.342Z"
   },
   {
    "duration": 218,
    "start_time": "2022-11-06T18:12:37.541Z"
   },
   {
    "duration": 204,
    "start_time": "2022-11-06T18:12:37.761Z"
   },
   {
    "duration": 375,
    "start_time": "2022-11-06T18:12:37.967Z"
   },
   {
    "duration": 358,
    "start_time": "2022-11-06T18:12:38.351Z"
   },
   {
    "duration": 162,
    "start_time": "2022-11-06T18:12:38.712Z"
   },
   {
    "duration": 199,
    "start_time": "2022-11-06T18:12:38.876Z"
   },
   {
    "duration": 29,
    "start_time": "2022-11-06T18:12:39.077Z"
   },
   {
    "duration": 134,
    "start_time": "2022-11-06T18:12:39.108Z"
   },
   {
    "duration": 280,
    "start_time": "2022-11-06T18:12:39.244Z"
   },
   {
    "duration": 551,
    "start_time": "2022-11-06T18:12:39.529Z"
   },
   {
    "duration": 20,
    "start_time": "2022-11-06T18:12:40.083Z"
   },
   {
    "duration": 34,
    "start_time": "2022-11-06T18:12:40.109Z"
   },
   {
    "duration": 41,
    "start_time": "2022-11-06T18:12:40.146Z"
   },
   {
    "duration": 23,
    "start_time": "2022-11-06T18:12:40.189Z"
   },
   {
    "duration": 65,
    "start_time": "2022-11-06T18:12:40.214Z"
   },
   {
    "duration": 24,
    "start_time": "2022-11-06T18:12:40.282Z"
   },
   {
    "duration": 162,
    "start_time": "2022-11-06T18:12:40.309Z"
   },
   {
    "duration": 422,
    "start_time": "2022-11-06T18:12:40.474Z"
   },
   {
    "duration": 191,
    "start_time": "2022-11-06T18:12:40.899Z"
   },
   {
    "duration": 219,
    "start_time": "2022-11-06T18:12:41.094Z"
   },
   {
    "duration": 388,
    "start_time": "2022-11-06T18:12:41.316Z"
   },
   {
    "duration": 211,
    "start_time": "2022-11-06T18:12:41.706Z"
   },
   {
    "duration": 206,
    "start_time": "2022-11-06T18:12:41.921Z"
   },
   {
    "duration": 346,
    "start_time": "2022-11-06T18:12:42.132Z"
   },
   {
    "duration": 191,
    "start_time": "2022-11-06T18:12:42.481Z"
   },
   {
    "duration": 185,
    "start_time": "2022-11-06T18:12:42.679Z"
   },
   {
    "duration": 16,
    "start_time": "2022-11-06T18:12:42.866Z"
   },
   {
    "duration": 14,
    "start_time": "2022-11-06T18:12:42.885Z"
   },
   {
    "duration": 51,
    "start_time": "2022-11-08T13:06:32.611Z"
   },
   {
    "duration": 1342,
    "start_time": "2022-11-08T13:06:40.085Z"
   },
   {
    "duration": 108,
    "start_time": "2022-11-08T13:06:41.428Z"
   },
   {
    "duration": 15,
    "start_time": "2022-11-08T13:06:41.538Z"
   },
   {
    "duration": 28,
    "start_time": "2022-11-08T13:06:41.555Z"
   },
   {
    "duration": 3,
    "start_time": "2022-11-08T13:06:41.584Z"
   },
   {
    "duration": 25,
    "start_time": "2022-11-08T13:06:41.588Z"
   },
   {
    "duration": 8,
    "start_time": "2022-11-08T13:06:41.615Z"
   },
   {
    "duration": 7,
    "start_time": "2022-11-08T13:06:41.624Z"
   },
   {
    "duration": 17,
    "start_time": "2022-11-08T13:06:41.633Z"
   },
   {
    "duration": 6,
    "start_time": "2022-11-08T13:06:41.653Z"
   },
   {
    "duration": 42,
    "start_time": "2022-11-08T13:06:41.660Z"
   },
   {
    "duration": 15,
    "start_time": "2022-11-08T13:06:41.705Z"
   },
   {
    "duration": 726,
    "start_time": "2022-11-08T13:06:41.722Z"
   },
   {
    "duration": 11,
    "start_time": "2022-11-08T13:06:42.449Z"
   },
   {
    "duration": 12,
    "start_time": "2022-11-08T13:06:42.461Z"
   },
   {
    "duration": 17,
    "start_time": "2022-11-08T13:06:42.474Z"
   },
   {
    "duration": 11,
    "start_time": "2022-11-08T13:06:42.492Z"
   },
   {
    "duration": 45,
    "start_time": "2022-11-08T13:06:42.506Z"
   },
   {
    "duration": 12,
    "start_time": "2022-11-08T13:06:42.552Z"
   },
   {
    "duration": 25,
    "start_time": "2022-11-08T13:06:42.566Z"
   },
   {
    "duration": 47,
    "start_time": "2022-11-08T13:06:42.592Z"
   },
   {
    "duration": 389,
    "start_time": "2022-11-08T13:06:42.640Z"
   },
   {
    "duration": 313,
    "start_time": "2022-11-08T13:06:43.030Z"
   },
   {
    "duration": 17,
    "start_time": "2022-11-08T13:06:43.345Z"
   },
   {
    "duration": 488,
    "start_time": "2022-11-08T13:06:43.364Z"
   },
   {
    "duration": 14,
    "start_time": "2022-11-08T13:06:43.853Z"
   },
   {
    "duration": 5,
    "start_time": "2022-11-08T13:06:43.869Z"
   },
   {
    "duration": 238,
    "start_time": "2022-11-08T13:06:43.877Z"
   },
   {
    "duration": 17,
    "start_time": "2022-11-08T13:06:44.117Z"
   },
   {
    "duration": 158,
    "start_time": "2022-11-08T13:06:44.136Z"
   },
   {
    "duration": 175,
    "start_time": "2022-11-08T13:06:44.296Z"
   },
   {
    "duration": 226,
    "start_time": "2022-11-08T13:06:44.477Z"
   },
   {
    "duration": 157,
    "start_time": "2022-11-08T13:06:44.705Z"
   },
   {
    "duration": 156,
    "start_time": "2022-11-08T13:06:44.864Z"
   },
   {
    "duration": 152,
    "start_time": "2022-11-08T13:06:45.022Z"
   },
   {
    "duration": 277,
    "start_time": "2022-11-08T13:06:45.176Z"
   },
   {
    "duration": 377,
    "start_time": "2022-11-08T13:06:45.455Z"
   },
   {
    "duration": 135,
    "start_time": "2022-11-08T13:06:45.834Z"
   },
   {
    "duration": 154,
    "start_time": "2022-11-08T13:06:45.971Z"
   },
   {
    "duration": 17,
    "start_time": "2022-11-08T13:06:46.127Z"
   },
   {
    "duration": 3,
    "start_time": "2022-11-08T13:06:46.146Z"
   },
   {
    "duration": 187,
    "start_time": "2022-11-08T13:06:46.150Z"
   },
   {
    "duration": 416,
    "start_time": "2022-11-08T13:06:46.338Z"
   },
   {
    "duration": 13,
    "start_time": "2022-11-08T13:06:46.755Z"
   },
   {
    "duration": 14,
    "start_time": "2022-11-08T13:06:46.770Z"
   },
   {
    "duration": 28,
    "start_time": "2022-11-08T13:06:46.785Z"
   },
   {
    "duration": 29,
    "start_time": "2022-11-08T13:06:46.815Z"
   },
   {
    "duration": 14,
    "start_time": "2022-11-08T13:06:46.845Z"
   },
   {
    "duration": 13,
    "start_time": "2022-11-08T13:06:46.861Z"
   },
   {
    "duration": 120,
    "start_time": "2022-11-08T13:06:46.876Z"
   },
   {
    "duration": 323,
    "start_time": "2022-11-08T13:06:46.998Z"
   },
   {
    "duration": 138,
    "start_time": "2022-11-08T13:06:47.323Z"
   },
   {
    "duration": 137,
    "start_time": "2022-11-08T13:06:47.462Z"
   },
   {
    "duration": 361,
    "start_time": "2022-11-08T13:06:47.601Z"
   },
   {
    "duration": 138,
    "start_time": "2022-11-08T13:06:47.964Z"
   },
   {
    "duration": 146,
    "start_time": "2022-11-08T13:06:48.104Z"
   },
   {
    "duration": 342,
    "start_time": "2022-11-08T13:06:48.252Z"
   },
   {
    "duration": 141,
    "start_time": "2022-11-08T13:06:48.598Z"
   },
   {
    "duration": 127,
    "start_time": "2022-11-08T13:06:48.741Z"
   },
   {
    "duration": 10,
    "start_time": "2022-11-08T13:06:48.870Z"
   },
   {
    "duration": 34,
    "start_time": "2022-11-08T13:06:48.882Z"
   },
   {
    "duration": 16,
    "start_time": "2022-11-08T13:15:21.751Z"
   },
   {
    "duration": 5,
    "start_time": "2022-11-08T13:16:38.342Z"
   },
   {
    "duration": 5,
    "start_time": "2022-11-08T13:17:35.053Z"
   },
   {
    "duration": 6,
    "start_time": "2022-11-08T13:20:45.174Z"
   },
   {
    "duration": 45,
    "start_time": "2022-11-08T13:39:01.905Z"
   },
   {
    "duration": 1257,
    "start_time": "2022-11-08T13:39:10.288Z"
   },
   {
    "duration": 96,
    "start_time": "2022-11-08T13:39:11.546Z"
   },
   {
    "duration": 13,
    "start_time": "2022-11-08T13:39:11.644Z"
   },
   {
    "duration": 24,
    "start_time": "2022-11-08T13:39:11.659Z"
   },
   {
    "duration": 3,
    "start_time": "2022-11-08T13:39:11.685Z"
   },
   {
    "duration": 11,
    "start_time": "2022-11-08T13:39:11.690Z"
   },
   {
    "duration": 9,
    "start_time": "2022-11-08T13:39:11.703Z"
   },
   {
    "duration": 5,
    "start_time": "2022-11-08T13:39:11.713Z"
   },
   {
    "duration": 15,
    "start_time": "2022-11-08T13:39:11.720Z"
   },
   {
    "duration": 103,
    "start_time": "2022-11-08T13:39:11.737Z"
   },
   {
    "duration": 0,
    "start_time": "2022-11-08T13:39:11.842Z"
   },
   {
    "duration": 0,
    "start_time": "2022-11-08T13:39:11.844Z"
   },
   {
    "duration": 0,
    "start_time": "2022-11-08T13:39:11.845Z"
   },
   {
    "duration": 0,
    "start_time": "2022-11-08T13:39:11.846Z"
   },
   {
    "duration": 0,
    "start_time": "2022-11-08T13:39:11.847Z"
   },
   {
    "duration": 0,
    "start_time": "2022-11-08T13:39:11.847Z"
   },
   {
    "duration": 0,
    "start_time": "2022-11-08T13:39:11.848Z"
   },
   {
    "duration": 0,
    "start_time": "2022-11-08T13:39:11.849Z"
   },
   {
    "duration": 0,
    "start_time": "2022-11-08T13:39:11.850Z"
   },
   {
    "duration": 0,
    "start_time": "2022-11-08T13:39:11.851Z"
   },
   {
    "duration": 0,
    "start_time": "2022-11-08T13:39:11.852Z"
   },
   {
    "duration": 0,
    "start_time": "2022-11-08T13:39:11.853Z"
   },
   {
    "duration": 0,
    "start_time": "2022-11-08T13:39:11.854Z"
   },
   {
    "duration": 1,
    "start_time": "2022-11-08T13:39:11.854Z"
   },
   {
    "duration": 1,
    "start_time": "2022-11-08T13:39:11.855Z"
   },
   {
    "duration": 0,
    "start_time": "2022-11-08T13:39:11.856Z"
   },
   {
    "duration": 0,
    "start_time": "2022-11-08T13:39:11.857Z"
   },
   {
    "duration": 0,
    "start_time": "2022-11-08T13:39:11.885Z"
   },
   {
    "duration": 0,
    "start_time": "2022-11-08T13:39:11.886Z"
   },
   {
    "duration": 0,
    "start_time": "2022-11-08T13:39:11.887Z"
   },
   {
    "duration": 0,
    "start_time": "2022-11-08T13:39:11.888Z"
   },
   {
    "duration": 0,
    "start_time": "2022-11-08T13:39:11.889Z"
   },
   {
    "duration": 0,
    "start_time": "2022-11-08T13:39:11.890Z"
   },
   {
    "duration": 0,
    "start_time": "2022-11-08T13:39:11.891Z"
   },
   {
    "duration": 0,
    "start_time": "2022-11-08T13:39:11.892Z"
   },
   {
    "duration": 0,
    "start_time": "2022-11-08T13:39:11.893Z"
   },
   {
    "duration": 0,
    "start_time": "2022-11-08T13:39:11.894Z"
   },
   {
    "duration": 0,
    "start_time": "2022-11-08T13:39:11.895Z"
   },
   {
    "duration": 0,
    "start_time": "2022-11-08T13:39:11.896Z"
   },
   {
    "duration": 0,
    "start_time": "2022-11-08T13:39:11.897Z"
   },
   {
    "duration": 0,
    "start_time": "2022-11-08T13:39:11.898Z"
   },
   {
    "duration": 0,
    "start_time": "2022-11-08T13:39:11.899Z"
   },
   {
    "duration": 0,
    "start_time": "2022-11-08T13:39:11.900Z"
   },
   {
    "duration": 0,
    "start_time": "2022-11-08T13:39:11.901Z"
   },
   {
    "duration": 0,
    "start_time": "2022-11-08T13:39:11.902Z"
   },
   {
    "duration": 0,
    "start_time": "2022-11-08T13:39:11.903Z"
   },
   {
    "duration": 0,
    "start_time": "2022-11-08T13:39:11.904Z"
   },
   {
    "duration": 0,
    "start_time": "2022-11-08T13:39:11.905Z"
   },
   {
    "duration": 0,
    "start_time": "2022-11-08T13:39:11.906Z"
   },
   {
    "duration": 0,
    "start_time": "2022-11-08T13:39:11.906Z"
   },
   {
    "duration": 0,
    "start_time": "2022-11-08T13:39:11.907Z"
   },
   {
    "duration": 0,
    "start_time": "2022-11-08T13:39:11.908Z"
   },
   {
    "duration": 0,
    "start_time": "2022-11-08T13:39:11.909Z"
   },
   {
    "duration": 0,
    "start_time": "2022-11-08T13:39:11.910Z"
   },
   {
    "duration": 0,
    "start_time": "2022-11-08T13:39:11.911Z"
   },
   {
    "duration": 0,
    "start_time": "2022-11-08T13:39:11.912Z"
   },
   {
    "duration": 0,
    "start_time": "2022-11-08T13:39:11.913Z"
   },
   {
    "duration": 0,
    "start_time": "2022-11-08T13:39:11.915Z"
   },
   {
    "duration": 0,
    "start_time": "2022-11-08T13:39:11.916Z"
   },
   {
    "duration": 0,
    "start_time": "2022-11-08T13:39:11.917Z"
   },
   {
    "duration": 0,
    "start_time": "2022-11-08T13:39:11.918Z"
   },
   {
    "duration": 0,
    "start_time": "2022-11-08T13:39:11.919Z"
   },
   {
    "duration": 0,
    "start_time": "2022-11-08T13:39:11.920Z"
   },
   {
    "duration": 8,
    "start_time": "2022-11-08T13:39:49.331Z"
   },
   {
    "duration": 7,
    "start_time": "2022-11-08T13:43:00.307Z"
   },
   {
    "duration": 4,
    "start_time": "2022-11-08T13:45:25.674Z"
   },
   {
    "duration": 5,
    "start_time": "2022-11-08T13:45:42.388Z"
   },
   {
    "duration": 4,
    "start_time": "2022-11-08T13:45:44.121Z"
   },
   {
    "duration": 1105,
    "start_time": "2022-11-08T13:45:50.992Z"
   },
   {
    "duration": 59,
    "start_time": "2022-11-08T13:45:52.099Z"
   },
   {
    "duration": 13,
    "start_time": "2022-11-08T13:45:52.159Z"
   },
   {
    "duration": 27,
    "start_time": "2022-11-08T13:45:52.174Z"
   },
   {
    "duration": 3,
    "start_time": "2022-11-08T13:45:52.202Z"
   },
   {
    "duration": 14,
    "start_time": "2022-11-08T13:45:52.206Z"
   },
   {
    "duration": 11,
    "start_time": "2022-11-08T13:45:52.221Z"
   },
   {
    "duration": 4,
    "start_time": "2022-11-08T13:45:52.234Z"
   },
   {
    "duration": 16,
    "start_time": "2022-11-08T13:45:52.239Z"
   },
   {
    "duration": 4,
    "start_time": "2022-11-08T13:45:52.257Z"
   },
   {
    "duration": 28,
    "start_time": "2022-11-08T13:45:52.263Z"
   },
   {
    "duration": 5,
    "start_time": "2022-11-08T13:45:52.292Z"
   },
   {
    "duration": 6,
    "start_time": "2022-11-08T13:45:52.298Z"
   },
   {
    "duration": 10,
    "start_time": "2022-11-08T13:45:52.306Z"
   },
   {
    "duration": 589,
    "start_time": "2022-11-08T13:45:52.317Z"
   },
   {
    "duration": 12,
    "start_time": "2022-11-08T13:45:52.908Z"
   },
   {
    "duration": 4,
    "start_time": "2022-11-08T13:45:52.921Z"
   },
   {
    "duration": 11,
    "start_time": "2022-11-08T13:45:52.926Z"
   },
   {
    "duration": 12,
    "start_time": "2022-11-08T13:45:52.938Z"
   },
   {
    "duration": 15,
    "start_time": "2022-11-08T13:45:52.951Z"
   },
   {
    "duration": 6,
    "start_time": "2022-11-08T13:45:52.985Z"
   },
   {
    "duration": 18,
    "start_time": "2022-11-08T13:45:52.992Z"
   },
   {
    "duration": 5,
    "start_time": "2022-11-08T13:45:53.011Z"
   },
   {
    "duration": 7,
    "start_time": "2022-11-08T13:45:53.018Z"
   },
   {
    "duration": 29,
    "start_time": "2022-11-08T13:45:53.026Z"
   },
   {
    "duration": 230,
    "start_time": "2022-11-08T13:45:53.056Z"
   },
   {
    "duration": 226,
    "start_time": "2022-11-08T13:45:53.287Z"
   },
   {
    "duration": 18,
    "start_time": "2022-11-08T13:45:53.516Z"
   },
   {
    "duration": 451,
    "start_time": "2022-11-08T13:45:53.536Z"
   },
   {
    "duration": 13,
    "start_time": "2022-11-08T13:45:53.989Z"
   },
   {
    "duration": 5,
    "start_time": "2022-11-08T13:45:54.004Z"
   },
   {
    "duration": 161,
    "start_time": "2022-11-08T13:45:54.010Z"
   },
   {
    "duration": 21,
    "start_time": "2022-11-08T13:45:54.173Z"
   },
   {
    "duration": 130,
    "start_time": "2022-11-08T13:45:54.195Z"
   },
   {
    "duration": 137,
    "start_time": "2022-11-08T13:45:54.326Z"
   },
   {
    "duration": 191,
    "start_time": "2022-11-08T13:45:54.465Z"
   },
   {
    "duration": 115,
    "start_time": "2022-11-08T13:45:54.657Z"
   },
   {
    "duration": 148,
    "start_time": "2022-11-08T13:45:54.773Z"
   },
   {
    "duration": 138,
    "start_time": "2022-11-08T13:45:54.923Z"
   },
   {
    "duration": 209,
    "start_time": "2022-11-08T13:45:55.062Z"
   },
   {
    "duration": 288,
    "start_time": "2022-11-08T13:45:55.272Z"
   },
   {
    "duration": 112,
    "start_time": "2022-11-08T13:45:55.561Z"
   },
   {
    "duration": 116,
    "start_time": "2022-11-08T13:45:55.675Z"
   },
   {
    "duration": 13,
    "start_time": "2022-11-08T13:45:55.793Z"
   },
   {
    "duration": 2,
    "start_time": "2022-11-08T13:45:55.808Z"
   },
   {
    "duration": 147,
    "start_time": "2022-11-08T13:45:55.812Z"
   },
   {
    "duration": 360,
    "start_time": "2022-11-08T13:45:55.961Z"
   },
   {
    "duration": 14,
    "start_time": "2022-11-08T13:45:56.323Z"
   },
   {
    "duration": 40,
    "start_time": "2022-11-08T13:45:56.338Z"
   },
   {
    "duration": 39,
    "start_time": "2022-11-08T13:45:56.379Z"
   },
   {
    "duration": 31,
    "start_time": "2022-11-08T13:45:56.420Z"
   },
   {
    "duration": 19,
    "start_time": "2022-11-08T13:45:56.452Z"
   },
   {
    "duration": 28,
    "start_time": "2022-11-08T13:45:56.473Z"
   },
   {
    "duration": 103,
    "start_time": "2022-11-08T13:45:56.502Z"
   },
   {
    "duration": 282,
    "start_time": "2022-11-08T13:45:56.607Z"
   },
   {
    "duration": 130,
    "start_time": "2022-11-08T13:45:56.891Z"
   },
   {
    "duration": 112,
    "start_time": "2022-11-08T13:45:57.022Z"
   },
   {
    "duration": 359,
    "start_time": "2022-11-08T13:45:57.136Z"
   },
   {
    "duration": 144,
    "start_time": "2022-11-08T13:45:57.497Z"
   },
   {
    "duration": 114,
    "start_time": "2022-11-08T13:45:57.643Z"
   },
   {
    "duration": 309,
    "start_time": "2022-11-08T13:45:57.759Z"
   },
   {
    "duration": 118,
    "start_time": "2022-11-08T13:45:58.069Z"
   },
   {
    "duration": 113,
    "start_time": "2022-11-08T13:45:58.188Z"
   },
   {
    "duration": 11,
    "start_time": "2022-11-08T13:45:58.302Z"
   },
   {
    "duration": 35,
    "start_time": "2022-11-08T13:45:58.314Z"
   },
   {
    "duration": 6,
    "start_time": "2022-11-08T13:54:28.700Z"
   },
   {
    "duration": 67,
    "start_time": "2022-11-08T14:01:11.941Z"
   },
   {
    "duration": 68,
    "start_time": "2022-11-08T14:01:20.610Z"
   },
   {
    "duration": 111,
    "start_time": "2022-11-08T14:01:30.000Z"
   },
   {
    "duration": 67,
    "start_time": "2022-11-08T14:01:34.011Z"
   },
   {
    "duration": 98,
    "start_time": "2022-11-08T14:01:40.010Z"
   },
   {
    "duration": 71,
    "start_time": "2022-11-08T14:01:43.948Z"
   },
   {
    "duration": 15,
    "start_time": "2022-11-08T14:04:14.397Z"
   },
   {
    "duration": 14,
    "start_time": "2022-11-08T14:05:35.813Z"
   },
   {
    "duration": 14,
    "start_time": "2022-11-08T14:05:55.536Z"
   },
   {
    "duration": 7,
    "start_time": "2022-11-08T14:12:45.366Z"
   },
   {
    "duration": 1078,
    "start_time": "2022-11-08T14:12:50.328Z"
   },
   {
    "duration": 65,
    "start_time": "2022-11-08T14:12:51.407Z"
   },
   {
    "duration": 14,
    "start_time": "2022-11-08T14:12:51.473Z"
   },
   {
    "duration": 28,
    "start_time": "2022-11-08T14:12:51.489Z"
   },
   {
    "duration": 2,
    "start_time": "2022-11-08T14:12:51.519Z"
   },
   {
    "duration": 15,
    "start_time": "2022-11-08T14:12:51.523Z"
   },
   {
    "duration": 10,
    "start_time": "2022-11-08T14:12:51.540Z"
   },
   {
    "duration": 5,
    "start_time": "2022-11-08T14:12:51.551Z"
   },
   {
    "duration": 16,
    "start_time": "2022-11-08T14:12:51.586Z"
   },
   {
    "duration": 5,
    "start_time": "2022-11-08T14:12:51.603Z"
   },
   {
    "duration": 15,
    "start_time": "2022-11-08T14:12:51.610Z"
   },
   {
    "duration": 5,
    "start_time": "2022-11-08T14:12:51.628Z"
   },
   {
    "duration": 9,
    "start_time": "2022-11-08T14:12:51.635Z"
   },
   {
    "duration": 38,
    "start_time": "2022-11-08T14:12:51.648Z"
   },
   {
    "duration": 14,
    "start_time": "2022-11-08T14:12:51.689Z"
   },
   {
    "duration": 639,
    "start_time": "2022-11-08T14:12:51.705Z"
   },
   {
    "duration": 12,
    "start_time": "2022-11-08T14:12:52.346Z"
   },
   {
    "duration": 3,
    "start_time": "2022-11-08T14:12:52.360Z"
   },
   {
    "duration": 23,
    "start_time": "2022-11-08T14:12:52.365Z"
   },
   {
    "duration": 3,
    "start_time": "2022-11-08T14:12:52.390Z"
   },
   {
    "duration": 15,
    "start_time": "2022-11-08T14:12:52.394Z"
   },
   {
    "duration": 7,
    "start_time": "2022-11-08T14:12:52.410Z"
   },
   {
    "duration": 18,
    "start_time": "2022-11-08T14:12:52.418Z"
   },
   {
    "duration": 5,
    "start_time": "2022-11-08T14:12:52.437Z"
   },
   {
    "duration": 7,
    "start_time": "2022-11-08T14:12:52.444Z"
   },
   {
    "duration": 52,
    "start_time": "2022-11-08T14:12:52.453Z"
   },
   {
    "duration": 230,
    "start_time": "2022-11-08T14:12:52.507Z"
   },
   {
    "duration": 234,
    "start_time": "2022-11-08T14:12:52.738Z"
   },
   {
    "duration": 23,
    "start_time": "2022-11-08T14:12:52.973Z"
   },
   {
    "duration": 454,
    "start_time": "2022-11-08T14:12:52.997Z"
   },
   {
    "duration": 15,
    "start_time": "2022-11-08T14:12:53.453Z"
   },
   {
    "duration": 18,
    "start_time": "2022-11-08T14:12:53.470Z"
   },
   {
    "duration": 174,
    "start_time": "2022-11-08T14:12:53.489Z"
   },
   {
    "duration": 23,
    "start_time": "2022-11-08T14:12:53.665Z"
   },
   {
    "duration": 134,
    "start_time": "2022-11-08T14:12:53.689Z"
   },
   {
    "duration": 142,
    "start_time": "2022-11-08T14:12:53.824Z"
   },
   {
    "duration": 190,
    "start_time": "2022-11-08T14:12:53.967Z"
   },
   {
    "duration": 119,
    "start_time": "2022-11-08T14:12:54.159Z"
   },
   {
    "duration": 125,
    "start_time": "2022-11-08T14:12:54.280Z"
   },
   {
    "duration": 123,
    "start_time": "2022-11-08T14:12:54.407Z"
   },
   {
    "duration": 230,
    "start_time": "2022-11-08T14:12:54.533Z"
   },
   {
    "duration": 309,
    "start_time": "2022-11-08T14:12:54.766Z"
   },
   {
    "duration": 121,
    "start_time": "2022-11-08T14:12:55.077Z"
   },
   {
    "duration": 113,
    "start_time": "2022-11-08T14:12:55.199Z"
   },
   {
    "duration": 15,
    "start_time": "2022-11-08T14:12:55.313Z"
   },
   {
    "duration": 14,
    "start_time": "2022-11-08T14:12:55.329Z"
   },
   {
    "duration": 133,
    "start_time": "2022-11-08T14:12:55.345Z"
   },
   {
    "duration": 423,
    "start_time": "2022-11-08T14:12:55.479Z"
   },
   {
    "duration": 13,
    "start_time": "2022-11-08T14:12:55.904Z"
   },
   {
    "duration": 11,
    "start_time": "2022-11-08T14:12:55.918Z"
   },
   {
    "duration": 13,
    "start_time": "2022-11-08T14:12:55.930Z"
   },
   {
    "duration": 10,
    "start_time": "2022-11-08T14:12:55.945Z"
   },
   {
    "duration": 37,
    "start_time": "2022-11-08T14:12:55.957Z"
   },
   {
    "duration": 14,
    "start_time": "2022-11-08T14:12:55.995Z"
   },
   {
    "duration": 11,
    "start_time": "2022-11-08T14:12:56.010Z"
   },
   {
    "duration": 289,
    "start_time": "2022-11-08T14:12:56.023Z"
   },
   {
    "duration": 115,
    "start_time": "2022-11-08T14:12:56.314Z"
   },
   {
    "duration": 114,
    "start_time": "2022-11-08T14:12:56.430Z"
   },
   {
    "duration": 335,
    "start_time": "2022-11-08T14:12:56.546Z"
   },
   {
    "duration": 121,
    "start_time": "2022-11-08T14:12:56.889Z"
   },
   {
    "duration": 125,
    "start_time": "2022-11-08T14:12:57.011Z"
   },
   {
    "duration": 313,
    "start_time": "2022-11-08T14:12:57.138Z"
   },
   {
    "duration": 121,
    "start_time": "2022-11-08T14:12:57.452Z"
   },
   {
    "duration": 150,
    "start_time": "2022-11-08T14:12:57.574Z"
   },
   {
    "duration": 13,
    "start_time": "2022-11-08T14:12:57.726Z"
   },
   {
    "duration": 30,
    "start_time": "2022-11-08T14:12:57.741Z"
   },
   {
    "duration": 1064,
    "start_time": "2022-11-08T14:22:59.847Z"
   },
   {
    "duration": 64,
    "start_time": "2022-11-08T14:23:00.913Z"
   },
   {
    "duration": 13,
    "start_time": "2022-11-08T14:23:00.979Z"
   },
   {
    "duration": 75,
    "start_time": "2022-11-08T14:23:00.995Z"
   },
   {
    "duration": 40,
    "start_time": "2022-11-08T14:23:01.072Z"
   },
   {
    "duration": 27,
    "start_time": "2022-11-08T14:23:01.113Z"
   },
   {
    "duration": 17,
    "start_time": "2022-11-08T14:23:01.142Z"
   },
   {
    "duration": 16,
    "start_time": "2022-11-08T14:23:01.161Z"
   },
   {
    "duration": 227,
    "start_time": "2022-11-08T14:23:01.179Z"
   },
   {
    "duration": 68,
    "start_time": "2022-11-08T14:23:01.409Z"
   },
   {
    "duration": 39,
    "start_time": "2022-11-08T14:23:01.478Z"
   },
   {
    "duration": 37,
    "start_time": "2022-11-08T14:23:01.518Z"
   },
   {
    "duration": 32,
    "start_time": "2022-11-08T14:23:01.557Z"
   },
   {
    "duration": 48,
    "start_time": "2022-11-08T14:23:01.591Z"
   },
   {
    "duration": 74,
    "start_time": "2022-11-08T14:23:01.640Z"
   },
   {
    "duration": 630,
    "start_time": "2022-11-08T14:23:01.715Z"
   },
   {
    "duration": 12,
    "start_time": "2022-11-08T14:23:02.347Z"
   },
   {
    "duration": 19,
    "start_time": "2022-11-08T14:23:02.360Z"
   },
   {
    "duration": 15,
    "start_time": "2022-11-08T14:23:02.381Z"
   },
   {
    "duration": 8,
    "start_time": "2022-11-08T14:23:02.397Z"
   },
   {
    "duration": 26,
    "start_time": "2022-11-08T14:23:02.406Z"
   },
   {
    "duration": 6,
    "start_time": "2022-11-08T14:23:02.434Z"
   },
   {
    "duration": 29,
    "start_time": "2022-11-08T14:23:02.442Z"
   },
   {
    "duration": 12,
    "start_time": "2022-11-08T14:23:02.472Z"
   },
   {
    "duration": 15,
    "start_time": "2022-11-08T14:23:02.486Z"
   },
   {
    "duration": 31,
    "start_time": "2022-11-08T14:23:02.503Z"
   },
   {
    "duration": 238,
    "start_time": "2022-11-08T14:23:02.536Z"
   },
   {
    "duration": 248,
    "start_time": "2022-11-08T14:23:02.787Z"
   },
   {
    "duration": 20,
    "start_time": "2022-11-08T14:23:03.037Z"
   },
   {
    "duration": 427,
    "start_time": "2022-11-08T14:23:03.058Z"
   },
   {
    "duration": 15,
    "start_time": "2022-11-08T14:23:03.487Z"
   },
   {
    "duration": 6,
    "start_time": "2022-11-08T14:23:03.503Z"
   },
   {
    "duration": 176,
    "start_time": "2022-11-08T14:23:03.511Z"
   },
   {
    "duration": 15,
    "start_time": "2022-11-08T14:23:03.689Z"
   },
   {
    "duration": 149,
    "start_time": "2022-11-08T14:23:03.706Z"
   },
   {
    "duration": 139,
    "start_time": "2022-11-08T14:23:03.857Z"
   },
   {
    "duration": 190,
    "start_time": "2022-11-08T14:23:03.997Z"
   },
   {
    "duration": 125,
    "start_time": "2022-11-08T14:23:04.189Z"
   },
   {
    "duration": 132,
    "start_time": "2022-11-08T14:23:04.315Z"
   },
   {
    "duration": 123,
    "start_time": "2022-11-08T14:23:04.449Z"
   },
   {
    "duration": 210,
    "start_time": "2022-11-08T14:23:04.573Z"
   },
   {
    "duration": 307,
    "start_time": "2022-11-08T14:23:04.785Z"
   },
   {
    "duration": 134,
    "start_time": "2022-11-08T14:23:05.093Z"
   },
   {
    "duration": 123,
    "start_time": "2022-11-08T14:23:05.228Z"
   },
   {
    "duration": 13,
    "start_time": "2022-11-08T14:23:05.353Z"
   },
   {
    "duration": 49,
    "start_time": "2022-11-08T14:23:05.368Z"
   },
   {
    "duration": 142,
    "start_time": "2022-11-08T14:23:05.419Z"
   },
   {
    "duration": 382,
    "start_time": "2022-11-08T14:23:05.563Z"
   },
   {
    "duration": 13,
    "start_time": "2022-11-08T14:23:05.947Z"
   },
   {
    "duration": 25,
    "start_time": "2022-11-08T14:23:05.961Z"
   },
   {
    "duration": 12,
    "start_time": "2022-11-08T14:23:05.988Z"
   },
   {
    "duration": 12,
    "start_time": "2022-11-08T14:23:06.001Z"
   },
   {
    "duration": 18,
    "start_time": "2022-11-08T14:23:06.014Z"
   },
   {
    "duration": 25,
    "start_time": "2022-11-08T14:23:06.033Z"
   },
   {
    "duration": 114,
    "start_time": "2022-11-08T14:23:06.060Z"
   },
   {
    "duration": 311,
    "start_time": "2022-11-08T14:23:06.176Z"
   },
   {
    "duration": 142,
    "start_time": "2022-11-08T14:23:06.489Z"
   },
   {
    "duration": 122,
    "start_time": "2022-11-08T14:23:06.633Z"
   },
   {
    "duration": 320,
    "start_time": "2022-11-08T14:23:06.756Z"
   },
   {
    "duration": 145,
    "start_time": "2022-11-08T14:23:07.085Z"
   },
   {
    "duration": 118,
    "start_time": "2022-11-08T14:23:07.231Z"
   },
   {
    "duration": 306,
    "start_time": "2022-11-08T14:23:07.351Z"
   },
   {
    "duration": 136,
    "start_time": "2022-11-08T14:23:07.659Z"
   },
   {
    "duration": 133,
    "start_time": "2022-11-08T14:23:07.797Z"
   },
   {
    "duration": 14,
    "start_time": "2022-11-08T14:23:07.932Z"
   },
   {
    "duration": 21,
    "start_time": "2022-11-08T14:23:07.948Z"
   },
   {
    "duration": 229,
    "start_time": "2022-11-08T14:26:11.497Z"
   },
   {
    "duration": 155,
    "start_time": "2022-11-08T14:26:58.822Z"
   },
   {
    "duration": 173,
    "start_time": "2022-11-08T14:29:21.567Z"
   },
   {
    "duration": 1177,
    "start_time": "2022-11-08T14:35:30.820Z"
   },
   {
    "duration": 64,
    "start_time": "2022-11-08T14:35:31.999Z"
   },
   {
    "duration": 13,
    "start_time": "2022-11-08T14:35:32.064Z"
   },
   {
    "duration": 36,
    "start_time": "2022-11-08T14:35:32.079Z"
   },
   {
    "duration": 6,
    "start_time": "2022-11-08T14:35:32.117Z"
   },
   {
    "duration": 26,
    "start_time": "2022-11-08T14:35:32.124Z"
   },
   {
    "duration": 26,
    "start_time": "2022-11-08T14:35:32.152Z"
   },
   {
    "duration": 8,
    "start_time": "2022-11-08T14:35:32.180Z"
   },
   {
    "duration": 57,
    "start_time": "2022-11-08T14:35:32.190Z"
   },
   {
    "duration": 7,
    "start_time": "2022-11-08T14:35:32.250Z"
   },
   {
    "duration": 26,
    "start_time": "2022-11-08T14:35:32.259Z"
   },
   {
    "duration": 17,
    "start_time": "2022-11-08T14:35:32.287Z"
   },
   {
    "duration": 10,
    "start_time": "2022-11-08T14:35:32.306Z"
   },
   {
    "duration": 6,
    "start_time": "2022-11-08T14:35:32.318Z"
   },
   {
    "duration": 19,
    "start_time": "2022-11-08T14:35:32.326Z"
   },
   {
    "duration": 580,
    "start_time": "2022-11-08T14:35:32.347Z"
   },
   {
    "duration": 13,
    "start_time": "2022-11-08T14:35:32.928Z"
   },
   {
    "duration": 3,
    "start_time": "2022-11-08T14:35:32.943Z"
   },
   {
    "duration": 12,
    "start_time": "2022-11-08T14:35:32.947Z"
   },
   {
    "duration": 7,
    "start_time": "2022-11-08T14:35:32.961Z"
   },
   {
    "duration": 13,
    "start_time": "2022-11-08T14:35:32.985Z"
   },
   {
    "duration": 7,
    "start_time": "2022-11-08T14:35:32.999Z"
   },
   {
    "duration": 23,
    "start_time": "2022-11-08T14:35:33.007Z"
   },
   {
    "duration": 5,
    "start_time": "2022-11-08T14:35:33.031Z"
   },
   {
    "duration": 10,
    "start_time": "2022-11-08T14:35:33.038Z"
   },
   {
    "duration": 39,
    "start_time": "2022-11-08T14:35:33.049Z"
   },
   {
    "duration": 224,
    "start_time": "2022-11-08T14:35:33.089Z"
   },
   {
    "duration": 243,
    "start_time": "2022-11-08T14:35:33.319Z"
   },
   {
    "duration": 28,
    "start_time": "2022-11-08T14:35:33.563Z"
   },
   {
    "duration": 410,
    "start_time": "2022-11-08T14:35:33.593Z"
   },
   {
    "duration": 15,
    "start_time": "2022-11-08T14:35:34.005Z"
   },
   {
    "duration": 7,
    "start_time": "2022-11-08T14:35:34.021Z"
   },
   {
    "duration": 198,
    "start_time": "2022-11-08T14:35:34.030Z"
   },
   {
    "duration": 16,
    "start_time": "2022-11-08T14:35:34.230Z"
   },
   {
    "duration": 152,
    "start_time": "2022-11-08T14:35:34.248Z"
   },
   {
    "duration": 147,
    "start_time": "2022-11-08T14:35:34.402Z"
   },
   {
    "duration": 226,
    "start_time": "2022-11-08T14:35:34.551Z"
   },
   {
    "duration": 143,
    "start_time": "2022-11-08T14:35:34.785Z"
   },
   {
    "duration": 138,
    "start_time": "2022-11-08T14:35:34.929Z"
   },
   {
    "duration": 127,
    "start_time": "2022-11-08T14:35:35.068Z"
   },
   {
    "duration": 220,
    "start_time": "2022-11-08T14:35:35.196Z"
   },
   {
    "duration": 281,
    "start_time": "2022-11-08T14:35:35.418Z"
   },
   {
    "duration": 148,
    "start_time": "2022-11-08T14:35:35.700Z"
   },
   {
    "duration": 128,
    "start_time": "2022-11-08T14:35:35.849Z"
   },
   {
    "duration": 14,
    "start_time": "2022-11-08T14:35:35.985Z"
   },
   {
    "duration": 20,
    "start_time": "2022-11-08T14:35:36.000Z"
   },
   {
    "duration": 147,
    "start_time": "2022-11-08T14:35:36.021Z"
   },
   {
    "duration": 340,
    "start_time": "2022-11-08T14:35:36.170Z"
   },
   {
    "duration": 12,
    "start_time": "2022-11-08T14:35:36.512Z"
   },
   {
    "duration": 24,
    "start_time": "2022-11-08T14:35:36.526Z"
   },
   {
    "duration": 30,
    "start_time": "2022-11-08T14:35:36.552Z"
   },
   {
    "duration": 33,
    "start_time": "2022-11-08T14:35:36.584Z"
   },
   {
    "duration": 40,
    "start_time": "2022-11-08T14:35:36.619Z"
   },
   {
    "duration": 43,
    "start_time": "2022-11-08T14:35:36.661Z"
   },
   {
    "duration": 125,
    "start_time": "2022-11-08T14:35:36.706Z"
   },
   {
    "duration": 326,
    "start_time": "2022-11-08T14:35:36.832Z"
   },
   {
    "duration": 145,
    "start_time": "2022-11-08T14:35:37.160Z"
   },
   {
    "duration": 133,
    "start_time": "2022-11-08T14:35:37.307Z"
   },
   {
    "duration": 380,
    "start_time": "2022-11-08T14:35:37.442Z"
   },
   {
    "duration": 146,
    "start_time": "2022-11-08T14:35:37.824Z"
   },
   {
    "duration": 122,
    "start_time": "2022-11-08T14:35:37.972Z"
   },
   {
    "duration": 278,
    "start_time": "2022-11-08T14:35:38.095Z"
   },
   {
    "duration": 148,
    "start_time": "2022-11-08T14:35:38.375Z"
   },
   {
    "duration": 134,
    "start_time": "2022-11-08T14:35:38.524Z"
   },
   {
    "duration": 14,
    "start_time": "2022-11-08T14:35:38.660Z"
   },
   {
    "duration": 11,
    "start_time": "2022-11-08T14:35:38.686Z"
   },
   {
    "duration": 152,
    "start_time": "2022-11-08T14:36:07.283Z"
   },
   {
    "duration": 6,
    "start_time": "2022-11-08T14:36:35.678Z"
   },
   {
    "duration": 1175,
    "start_time": "2022-11-08T14:36:53.460Z"
   },
   {
    "duration": 63,
    "start_time": "2022-11-08T14:36:54.637Z"
   },
   {
    "duration": 14,
    "start_time": "2022-11-08T14:36:54.702Z"
   },
   {
    "duration": 37,
    "start_time": "2022-11-08T14:36:54.717Z"
   },
   {
    "duration": 4,
    "start_time": "2022-11-08T14:36:54.755Z"
   },
   {
    "duration": 28,
    "start_time": "2022-11-08T14:36:54.761Z"
   },
   {
    "duration": 8,
    "start_time": "2022-11-08T14:36:54.791Z"
   },
   {
    "duration": 5,
    "start_time": "2022-11-08T14:36:54.800Z"
   },
   {
    "duration": 16,
    "start_time": "2022-11-08T14:36:54.807Z"
   },
   {
    "duration": 4,
    "start_time": "2022-11-08T14:36:54.826Z"
   },
   {
    "duration": 17,
    "start_time": "2022-11-08T14:36:54.832Z"
   },
   {
    "duration": 4,
    "start_time": "2022-11-08T14:36:54.850Z"
   },
   {
    "duration": 30,
    "start_time": "2022-11-08T14:36:54.856Z"
   },
   {
    "duration": 5,
    "start_time": "2022-11-08T14:36:54.888Z"
   },
   {
    "duration": 19,
    "start_time": "2022-11-08T14:36:54.894Z"
   },
   {
    "duration": 591,
    "start_time": "2022-11-08T14:36:54.915Z"
   },
   {
    "duration": 12,
    "start_time": "2022-11-08T14:36:55.508Z"
   },
   {
    "duration": 3,
    "start_time": "2022-11-08T14:36:55.522Z"
   },
   {
    "duration": 8,
    "start_time": "2022-11-08T14:36:55.527Z"
   },
   {
    "duration": 4,
    "start_time": "2022-11-08T14:36:55.536Z"
   },
   {
    "duration": 21,
    "start_time": "2022-11-08T14:36:55.542Z"
   },
   {
    "duration": 23,
    "start_time": "2022-11-08T14:36:55.565Z"
   },
   {
    "duration": 14,
    "start_time": "2022-11-08T14:36:55.590Z"
   },
   {
    "duration": 5,
    "start_time": "2022-11-08T14:36:55.605Z"
   },
   {
    "duration": 9,
    "start_time": "2022-11-08T14:36:55.611Z"
   },
   {
    "duration": 24,
    "start_time": "2022-11-08T14:36:55.622Z"
   },
   {
    "duration": 248,
    "start_time": "2022-11-08T14:36:55.648Z"
   },
   {
    "duration": 268,
    "start_time": "2022-11-08T14:36:55.901Z"
   },
   {
    "duration": 26,
    "start_time": "2022-11-08T14:36:56.171Z"
   },
   {
    "duration": 429,
    "start_time": "2022-11-08T14:36:56.198Z"
   },
   {
    "duration": 15,
    "start_time": "2022-11-08T14:36:56.628Z"
   },
   {
    "duration": 6,
    "start_time": "2022-11-08T14:36:56.644Z"
   },
   {
    "duration": 172,
    "start_time": "2022-11-08T14:36:56.651Z"
   },
   {
    "duration": 19,
    "start_time": "2022-11-08T14:36:56.826Z"
   },
   {
    "duration": 171,
    "start_time": "2022-11-08T14:36:56.846Z"
   },
   {
    "duration": 158,
    "start_time": "2022-11-08T14:36:57.019Z"
   },
   {
    "duration": 211,
    "start_time": "2022-11-08T14:36:57.179Z"
   },
   {
    "duration": 140,
    "start_time": "2022-11-08T14:36:57.392Z"
   },
   {
    "duration": 138,
    "start_time": "2022-11-08T14:36:57.533Z"
   },
   {
    "duration": 147,
    "start_time": "2022-11-08T14:36:57.673Z"
   },
   {
    "duration": 280,
    "start_time": "2022-11-08T14:36:57.822Z"
   },
   {
    "duration": 292,
    "start_time": "2022-11-08T14:36:58.103Z"
   },
   {
    "duration": 133,
    "start_time": "2022-11-08T14:36:58.397Z"
   },
   {
    "duration": 123,
    "start_time": "2022-11-08T14:36:58.532Z"
   },
   {
    "duration": 15,
    "start_time": "2022-11-08T14:36:58.657Z"
   },
   {
    "duration": 3,
    "start_time": "2022-11-08T14:36:58.686Z"
   },
   {
    "duration": 173,
    "start_time": "2022-11-08T14:36:58.690Z"
   },
   {
    "duration": 464,
    "start_time": "2022-11-08T14:36:58.865Z"
   },
   {
    "duration": 19,
    "start_time": "2022-11-08T14:36:59.330Z"
   },
   {
    "duration": 14,
    "start_time": "2022-11-08T14:36:59.351Z"
   },
   {
    "duration": 32,
    "start_time": "2022-11-08T14:36:59.367Z"
   },
   {
    "duration": 12,
    "start_time": "2022-11-08T14:36:59.401Z"
   },
   {
    "duration": 15,
    "start_time": "2022-11-08T14:36:59.414Z"
   },
   {
    "duration": 14,
    "start_time": "2022-11-08T14:36:59.430Z"
   },
   {
    "duration": 45,
    "start_time": "2022-11-08T14:36:59.446Z"
   },
   {
    "duration": 311,
    "start_time": "2022-11-08T14:36:59.493Z"
   },
   {
    "duration": 153,
    "start_time": "2022-11-08T14:36:59.805Z"
   },
   {
    "duration": 148,
    "start_time": "2022-11-08T14:36:59.960Z"
   },
   {
    "duration": 302,
    "start_time": "2022-11-08T14:37:00.110Z"
   },
   {
    "duration": 155,
    "start_time": "2022-11-08T14:37:00.414Z"
   },
   {
    "duration": 150,
    "start_time": "2022-11-08T14:37:00.571Z"
   },
   {
    "duration": 326,
    "start_time": "2022-11-08T14:37:00.723Z"
   },
   {
    "duration": 151,
    "start_time": "2022-11-08T14:37:01.052Z"
   },
   {
    "duration": 151,
    "start_time": "2022-11-08T14:37:01.205Z"
   },
   {
    "duration": 12,
    "start_time": "2022-11-08T14:37:01.357Z"
   },
   {
    "duration": 30,
    "start_time": "2022-11-08T14:37:01.385Z"
   },
   {
    "duration": 144,
    "start_time": "2022-11-08T14:40:03.988Z"
   },
   {
    "duration": 146,
    "start_time": "2022-11-08T14:40:32.658Z"
   },
   {
    "duration": 152,
    "start_time": "2022-11-08T14:40:46.328Z"
   },
   {
    "duration": 163,
    "start_time": "2022-11-08T14:45:08.395Z"
   },
   {
    "duration": 236,
    "start_time": "2022-11-08T14:45:15.271Z"
   },
   {
    "duration": 141,
    "start_time": "2022-11-08T14:45:46.319Z"
   },
   {
    "duration": 1056,
    "start_time": "2022-11-08T14:47:42.248Z"
   },
   {
    "duration": 58,
    "start_time": "2022-11-08T14:47:43.306Z"
   },
   {
    "duration": 12,
    "start_time": "2022-11-08T14:47:43.366Z"
   },
   {
    "duration": 25,
    "start_time": "2022-11-08T14:47:43.380Z"
   },
   {
    "duration": 3,
    "start_time": "2022-11-08T14:47:43.406Z"
   },
   {
    "duration": 12,
    "start_time": "2022-11-08T14:47:43.410Z"
   },
   {
    "duration": 15,
    "start_time": "2022-11-08T14:47:43.423Z"
   },
   {
    "duration": 7,
    "start_time": "2022-11-08T14:47:43.439Z"
   },
   {
    "duration": 18,
    "start_time": "2022-11-08T14:47:43.447Z"
   },
   {
    "duration": 3,
    "start_time": "2022-11-08T14:47:43.467Z"
   },
   {
    "duration": 20,
    "start_time": "2022-11-08T14:47:43.472Z"
   },
   {
    "duration": 5,
    "start_time": "2022-11-08T14:47:43.493Z"
   },
   {
    "duration": 8,
    "start_time": "2022-11-08T14:47:43.499Z"
   },
   {
    "duration": 7,
    "start_time": "2022-11-08T14:47:43.508Z"
   },
   {
    "duration": 10,
    "start_time": "2022-11-08T14:47:43.516Z"
   },
   {
    "duration": 571,
    "start_time": "2022-11-08T14:47:43.527Z"
   },
   {
    "duration": 11,
    "start_time": "2022-11-08T14:47:44.100Z"
   },
   {
    "duration": 3,
    "start_time": "2022-11-08T14:47:44.112Z"
   },
   {
    "duration": 12,
    "start_time": "2022-11-08T14:47:44.117Z"
   },
   {
    "duration": 3,
    "start_time": "2022-11-08T14:47:44.131Z"
   },
   {
    "duration": 13,
    "start_time": "2022-11-08T14:47:44.135Z"
   },
   {
    "duration": 5,
    "start_time": "2022-11-08T14:47:44.150Z"
   },
   {
    "duration": 40,
    "start_time": "2022-11-08T14:47:44.156Z"
   },
   {
    "duration": 5,
    "start_time": "2022-11-08T14:47:44.198Z"
   },
   {
    "duration": 6,
    "start_time": "2022-11-08T14:47:44.205Z"
   },
   {
    "duration": 25,
    "start_time": "2022-11-08T14:47:44.213Z"
   },
   {
    "duration": 234,
    "start_time": "2022-11-08T14:47:44.239Z"
   },
   {
    "duration": 245,
    "start_time": "2022-11-08T14:47:44.477Z"
   },
   {
    "duration": 18,
    "start_time": "2022-11-08T14:47:44.723Z"
   },
   {
    "duration": 444,
    "start_time": "2022-11-08T14:47:44.743Z"
   },
   {
    "duration": 13,
    "start_time": "2022-11-08T14:47:45.189Z"
   },
   {
    "duration": 12,
    "start_time": "2022-11-08T14:47:45.204Z"
   },
   {
    "duration": 178,
    "start_time": "2022-11-08T14:47:45.217Z"
   },
   {
    "duration": 14,
    "start_time": "2022-11-08T14:47:45.396Z"
   },
   {
    "duration": 140,
    "start_time": "2022-11-08T14:47:45.412Z"
   },
   {
    "duration": 135,
    "start_time": "2022-11-08T14:47:45.554Z"
   },
   {
    "duration": 200,
    "start_time": "2022-11-08T14:47:45.691Z"
   },
   {
    "duration": 135,
    "start_time": "2022-11-08T14:47:45.892Z"
   },
   {
    "duration": 136,
    "start_time": "2022-11-08T14:47:46.028Z"
   },
   {
    "duration": 136,
    "start_time": "2022-11-08T14:47:46.166Z"
   },
   {
    "duration": 210,
    "start_time": "2022-11-08T14:47:46.304Z"
   },
   {
    "duration": 276,
    "start_time": "2022-11-08T14:47:46.516Z"
   },
   {
    "duration": 157,
    "start_time": "2022-11-08T14:47:46.794Z"
   },
   {
    "duration": 124,
    "start_time": "2022-11-08T14:47:46.954Z"
   },
   {
    "duration": 17,
    "start_time": "2022-11-08T14:47:47.085Z"
   },
   {
    "duration": 13,
    "start_time": "2022-11-08T14:47:47.104Z"
   },
   {
    "duration": 154,
    "start_time": "2022-11-08T14:47:47.118Z"
   },
   {
    "duration": 510,
    "start_time": "2022-11-08T14:47:47.274Z"
   },
   {
    "duration": 14,
    "start_time": "2022-11-08T14:47:47.786Z"
   },
   {
    "duration": 25,
    "start_time": "2022-11-08T14:47:47.802Z"
   },
   {
    "duration": 17,
    "start_time": "2022-11-08T14:47:47.828Z"
   },
   {
    "duration": 12,
    "start_time": "2022-11-08T14:47:47.847Z"
   },
   {
    "duration": 26,
    "start_time": "2022-11-08T14:47:47.860Z"
   },
   {
    "duration": 30,
    "start_time": "2022-11-08T14:47:47.887Z"
   },
   {
    "duration": 26,
    "start_time": "2022-11-08T14:47:47.919Z"
   },
   {
    "duration": 309,
    "start_time": "2022-11-08T14:47:47.946Z"
   },
   {
    "duration": 144,
    "start_time": "2022-11-08T14:47:48.257Z"
   },
   {
    "duration": 128,
    "start_time": "2022-11-08T14:47:48.403Z"
   },
   {
    "duration": 282,
    "start_time": "2022-11-08T14:47:48.532Z"
   },
   {
    "duration": 134,
    "start_time": "2022-11-08T14:47:48.816Z"
   },
   {
    "duration": 123,
    "start_time": "2022-11-08T14:47:48.952Z"
   },
   {
    "duration": 300,
    "start_time": "2022-11-08T14:47:49.076Z"
   },
   {
    "duration": 137,
    "start_time": "2022-11-08T14:47:49.379Z"
   },
   {
    "duration": 191,
    "start_time": "2022-11-08T14:47:49.518Z"
   },
   {
    "duration": 11,
    "start_time": "2022-11-08T14:47:49.711Z"
   },
   {
    "duration": 13,
    "start_time": "2022-11-08T14:47:49.723Z"
   },
   {
    "duration": 14,
    "start_time": "2022-11-08T14:55:46.534Z"
   },
   {
    "duration": 123,
    "start_time": "2022-11-08T14:57:59.467Z"
   },
   {
    "duration": 204,
    "start_time": "2022-11-08T15:03:12.989Z"
   },
   {
    "duration": 298,
    "start_time": "2022-11-08T15:03:18.492Z"
   },
   {
    "duration": 210,
    "start_time": "2022-11-08T15:03:24.482Z"
   },
   {
    "duration": 184,
    "start_time": "2022-11-08T15:03:54.208Z"
   },
   {
    "duration": 195,
    "start_time": "2022-11-08T15:04:08.407Z"
   },
   {
    "duration": 196,
    "start_time": "2022-11-08T15:04:45.832Z"
   },
   {
    "duration": 253,
    "start_time": "2022-11-08T15:05:07.462Z"
   },
   {
    "duration": 213,
    "start_time": "2022-11-08T15:05:16.521Z"
   },
   {
    "duration": 317,
    "start_time": "2022-11-08T15:05:23.143Z"
   },
   {
    "duration": 192,
    "start_time": "2022-11-08T15:05:44.570Z"
   },
   {
    "duration": 102,
    "start_time": "2022-11-08T15:05:59.626Z"
   },
   {
    "duration": 200,
    "start_time": "2022-11-08T15:06:22.601Z"
   },
   {
    "duration": 38,
    "start_time": "2022-11-08T15:07:12.950Z"
   },
   {
    "duration": 1150,
    "start_time": "2022-11-08T15:08:39.761Z"
   },
   {
    "duration": 60,
    "start_time": "2022-11-08T15:08:40.913Z"
   },
   {
    "duration": 14,
    "start_time": "2022-11-08T15:08:40.974Z"
   },
   {
    "duration": 28,
    "start_time": "2022-11-08T15:08:40.990Z"
   },
   {
    "duration": 3,
    "start_time": "2022-11-08T15:08:41.020Z"
   },
   {
    "duration": 13,
    "start_time": "2022-11-08T15:08:41.025Z"
   },
   {
    "duration": 8,
    "start_time": "2022-11-08T15:08:41.039Z"
   },
   {
    "duration": 7,
    "start_time": "2022-11-08T15:08:41.048Z"
   },
   {
    "duration": 34,
    "start_time": "2022-11-08T15:08:41.057Z"
   },
   {
    "duration": 4,
    "start_time": "2022-11-08T15:08:41.093Z"
   },
   {
    "duration": 12,
    "start_time": "2022-11-08T15:08:41.099Z"
   },
   {
    "duration": 4,
    "start_time": "2022-11-08T15:08:41.113Z"
   },
   {
    "duration": 12,
    "start_time": "2022-11-08T15:08:41.118Z"
   },
   {
    "duration": 10,
    "start_time": "2022-11-08T15:08:41.132Z"
   },
   {
    "duration": 13,
    "start_time": "2022-11-08T15:08:41.144Z"
   },
   {
    "duration": 546,
    "start_time": "2022-11-08T15:08:41.159Z"
   },
   {
    "duration": 12,
    "start_time": "2022-11-08T15:08:41.707Z"
   },
   {
    "duration": 9,
    "start_time": "2022-11-08T15:08:41.720Z"
   },
   {
    "duration": 9,
    "start_time": "2022-11-08T15:08:41.731Z"
   },
   {
    "duration": 3,
    "start_time": "2022-11-08T15:08:41.741Z"
   },
   {
    "duration": 13,
    "start_time": "2022-11-08T15:08:41.745Z"
   },
   {
    "duration": 27,
    "start_time": "2022-11-08T15:08:41.760Z"
   },
   {
    "duration": 14,
    "start_time": "2022-11-08T15:08:41.788Z"
   },
   {
    "duration": 5,
    "start_time": "2022-11-08T15:08:41.804Z"
   },
   {
    "duration": 8,
    "start_time": "2022-11-08T15:08:41.811Z"
   },
   {
    "duration": 21,
    "start_time": "2022-11-08T15:08:41.821Z"
   },
   {
    "duration": 237,
    "start_time": "2022-11-08T15:08:41.844Z"
   },
   {
    "duration": 224,
    "start_time": "2022-11-08T15:08:42.087Z"
   },
   {
    "duration": 18,
    "start_time": "2022-11-08T15:08:42.312Z"
   },
   {
    "duration": 436,
    "start_time": "2022-11-08T15:08:42.331Z"
   },
   {
    "duration": 23,
    "start_time": "2022-11-08T15:08:42.768Z"
   },
   {
    "duration": 5,
    "start_time": "2022-11-08T15:08:42.793Z"
   },
   {
    "duration": 162,
    "start_time": "2022-11-08T15:08:42.799Z"
   },
   {
    "duration": 25,
    "start_time": "2022-11-08T15:08:42.963Z"
   },
   {
    "duration": 132,
    "start_time": "2022-11-08T15:08:42.990Z"
   },
   {
    "duration": 138,
    "start_time": "2022-11-08T15:08:43.123Z"
   },
   {
    "duration": 193,
    "start_time": "2022-11-08T15:08:43.262Z"
   },
   {
    "duration": 143,
    "start_time": "2022-11-08T15:08:43.457Z"
   },
   {
    "duration": 138,
    "start_time": "2022-11-08T15:08:43.602Z"
   },
   {
    "duration": 115,
    "start_time": "2022-11-08T15:08:43.742Z"
   },
   {
    "duration": 202,
    "start_time": "2022-11-08T15:08:43.859Z"
   },
   {
    "duration": 213,
    "start_time": "2022-11-08T15:08:44.062Z"
   },
   {
    "duration": 35,
    "start_time": "2022-11-08T15:08:44.276Z"
   },
   {
    "duration": 273,
    "start_time": "2022-11-08T15:08:44.312Z"
   },
   {
    "duration": 137,
    "start_time": "2022-11-08T15:08:44.587Z"
   },
   {
    "duration": 120,
    "start_time": "2022-11-08T15:08:44.725Z"
   },
   {
    "duration": 14,
    "start_time": "2022-11-08T15:08:44.847Z"
   },
   {
    "duration": 5,
    "start_time": "2022-11-08T15:08:44.862Z"
   },
   {
    "duration": 142,
    "start_time": "2022-11-08T15:08:44.868Z"
   },
   {
    "duration": 407,
    "start_time": "2022-11-08T15:08:45.012Z"
   },
   {
    "duration": 13,
    "start_time": "2022-11-08T15:08:45.421Z"
   },
   {
    "duration": 23,
    "start_time": "2022-11-08T15:08:45.435Z"
   },
   {
    "duration": 13,
    "start_time": "2022-11-08T15:08:45.460Z"
   },
   {
    "duration": 22,
    "start_time": "2022-11-08T15:08:45.474Z"
   },
   {
    "duration": 18,
    "start_time": "2022-11-08T15:08:45.497Z"
   },
   {
    "duration": 14,
    "start_time": "2022-11-08T15:08:45.517Z"
   },
   {
    "duration": 13,
    "start_time": "2022-11-08T15:08:45.532Z"
   },
   {
    "duration": 308,
    "start_time": "2022-11-08T15:08:45.546Z"
   },
   {
    "duration": 136,
    "start_time": "2022-11-08T15:08:45.855Z"
   },
   {
    "duration": 130,
    "start_time": "2022-11-08T15:08:45.993Z"
   },
   {
    "duration": 270,
    "start_time": "2022-11-08T15:08:46.124Z"
   },
   {
    "duration": 132,
    "start_time": "2022-11-08T15:08:46.395Z"
   },
   {
    "duration": 142,
    "start_time": "2022-11-08T15:08:46.529Z"
   },
   {
    "duration": 303,
    "start_time": "2022-11-08T15:08:46.672Z"
   },
   {
    "duration": 135,
    "start_time": "2022-11-08T15:08:46.985Z"
   },
   {
    "duration": 128,
    "start_time": "2022-11-08T15:08:47.121Z"
   },
   {
    "duration": 11,
    "start_time": "2022-11-08T15:08:47.251Z"
   },
   {
    "duration": 23,
    "start_time": "2022-11-08T15:08:47.264Z"
   },
   {
    "duration": 47,
    "start_time": "2022-11-08T17:46:31.967Z"
   },
   {
    "duration": 6,
    "start_time": "2022-11-08T17:46:39.652Z"
   },
   {
    "duration": 1242,
    "start_time": "2022-11-08T17:46:48.453Z"
   },
   {
    "duration": 203,
    "start_time": "2022-11-08T17:46:49.698Z"
   },
   {
    "duration": 15,
    "start_time": "2022-11-08T17:46:49.903Z"
   },
   {
    "duration": 28,
    "start_time": "2022-11-08T17:46:49.919Z"
   },
   {
    "duration": 2,
    "start_time": "2022-11-08T17:46:49.951Z"
   },
   {
    "duration": 13,
    "start_time": "2022-11-08T17:46:49.955Z"
   },
   {
    "duration": 9,
    "start_time": "2022-11-08T17:46:49.970Z"
   },
   {
    "duration": 8,
    "start_time": "2022-11-08T17:46:49.980Z"
   },
   {
    "duration": 15,
    "start_time": "2022-11-08T17:46:49.990Z"
   },
   {
    "duration": 3,
    "start_time": "2022-11-08T17:46:50.007Z"
   },
   {
    "duration": 10,
    "start_time": "2022-11-08T17:46:50.011Z"
   },
   {
    "duration": 25,
    "start_time": "2022-11-08T17:46:50.023Z"
   },
   {
    "duration": 7,
    "start_time": "2022-11-08T17:46:50.050Z"
   },
   {
    "duration": 6,
    "start_time": "2022-11-08T17:46:50.059Z"
   },
   {
    "duration": 13,
    "start_time": "2022-11-08T17:46:50.067Z"
   },
   {
    "duration": 648,
    "start_time": "2022-11-08T17:46:50.081Z"
   },
   {
    "duration": 18,
    "start_time": "2022-11-08T17:46:50.731Z"
   },
   {
    "duration": 3,
    "start_time": "2022-11-08T17:46:50.750Z"
   },
   {
    "duration": 15,
    "start_time": "2022-11-08T17:46:50.754Z"
   },
   {
    "duration": 4,
    "start_time": "2022-11-08T17:46:50.770Z"
   },
   {
    "duration": 23,
    "start_time": "2022-11-08T17:46:50.776Z"
   },
   {
    "duration": 6,
    "start_time": "2022-11-08T17:46:50.801Z"
   },
   {
    "duration": 15,
    "start_time": "2022-11-08T17:46:50.808Z"
   },
   {
    "duration": 4,
    "start_time": "2022-11-08T17:46:50.825Z"
   },
   {
    "duration": 4,
    "start_time": "2022-11-08T17:46:50.848Z"
   },
   {
    "duration": 26,
    "start_time": "2022-11-08T17:46:50.853Z"
   },
   {
    "duration": 222,
    "start_time": "2022-11-08T17:46:50.881Z"
   },
   {
    "duration": 230,
    "start_time": "2022-11-08T17:46:51.104Z"
   },
   {
    "duration": 27,
    "start_time": "2022-11-08T17:46:51.336Z"
   },
   {
    "duration": 421,
    "start_time": "2022-11-08T17:46:51.365Z"
   },
   {
    "duration": 13,
    "start_time": "2022-11-08T17:46:51.788Z"
   },
   {
    "duration": 11,
    "start_time": "2022-11-08T17:46:51.803Z"
   },
   {
    "duration": 6,
    "start_time": "2022-11-08T17:46:51.815Z"
   },
   {
    "duration": 161,
    "start_time": "2022-11-08T17:46:51.823Z"
   },
   {
    "duration": 14,
    "start_time": "2022-11-08T17:46:51.986Z"
   },
   {
    "duration": 135,
    "start_time": "2022-11-08T17:46:52.001Z"
   },
   {
    "duration": 142,
    "start_time": "2022-11-08T17:46:52.137Z"
   },
   {
    "duration": 186,
    "start_time": "2022-11-08T17:46:52.281Z"
   },
   {
    "duration": 139,
    "start_time": "2022-11-08T17:46:52.469Z"
   },
   {
    "duration": 131,
    "start_time": "2022-11-08T17:46:52.609Z"
   },
   {
    "duration": 129,
    "start_time": "2022-11-08T17:46:52.748Z"
   },
   {
    "duration": 208,
    "start_time": "2022-11-08T17:46:52.879Z"
   },
   {
    "duration": 210,
    "start_time": "2022-11-08T17:46:53.089Z"
   },
   {
    "duration": 28,
    "start_time": "2022-11-08T17:46:53.301Z"
   },
   {
    "duration": 303,
    "start_time": "2022-11-08T17:46:53.331Z"
   },
   {
    "duration": 137,
    "start_time": "2022-11-08T17:46:53.635Z"
   },
   {
    "duration": 122,
    "start_time": "2022-11-08T17:46:53.774Z"
   },
   {
    "duration": 14,
    "start_time": "2022-11-08T17:46:53.898Z"
   },
   {
    "duration": 2,
    "start_time": "2022-11-08T17:46:53.914Z"
   },
   {
    "duration": 156,
    "start_time": "2022-11-08T17:46:53.918Z"
   },
   {
    "duration": 418,
    "start_time": "2022-11-08T17:46:54.076Z"
   },
   {
    "duration": 13,
    "start_time": "2022-11-08T17:46:54.496Z"
   },
   {
    "duration": 12,
    "start_time": "2022-11-08T17:46:54.511Z"
   },
   {
    "duration": 28,
    "start_time": "2022-11-08T17:46:54.524Z"
   },
   {
    "duration": 12,
    "start_time": "2022-11-08T17:46:54.554Z"
   },
   {
    "duration": 13,
    "start_time": "2022-11-08T17:46:54.568Z"
   },
   {
    "duration": 15,
    "start_time": "2022-11-08T17:46:54.583Z"
   },
   {
    "duration": 13,
    "start_time": "2022-11-08T17:46:54.599Z"
   },
   {
    "duration": 317,
    "start_time": "2022-11-08T17:46:54.613Z"
   },
   {
    "duration": 168,
    "start_time": "2022-11-08T17:46:54.932Z"
   },
   {
    "duration": 133,
    "start_time": "2022-11-08T17:46:55.102Z"
   },
   {
    "duration": 341,
    "start_time": "2022-11-08T17:46:55.236Z"
   },
   {
    "duration": 134,
    "start_time": "2022-11-08T17:46:55.579Z"
   },
   {
    "duration": 135,
    "start_time": "2022-11-08T17:46:55.715Z"
   },
   {
    "duration": 289,
    "start_time": "2022-11-08T17:46:55.852Z"
   },
   {
    "duration": 135,
    "start_time": "2022-11-08T17:46:56.143Z"
   },
   {
    "duration": 114,
    "start_time": "2022-11-08T17:46:56.280Z"
   },
   {
    "duration": 11,
    "start_time": "2022-11-08T17:46:56.395Z"
   },
   {
    "duration": 12,
    "start_time": "2022-11-08T17:46:56.407Z"
   },
   {
    "duration": 1125,
    "start_time": "2022-11-08T17:49:30.558Z"
   },
   {
    "duration": 67,
    "start_time": "2022-11-08T17:49:31.685Z"
   },
   {
    "duration": 13,
    "start_time": "2022-11-08T17:49:31.754Z"
   },
   {
    "duration": 43,
    "start_time": "2022-11-08T17:49:31.769Z"
   },
   {
    "duration": 2,
    "start_time": "2022-11-08T17:49:31.814Z"
   },
   {
    "duration": 18,
    "start_time": "2022-11-08T17:49:31.818Z"
   },
   {
    "duration": 12,
    "start_time": "2022-11-08T17:49:31.837Z"
   },
   {
    "duration": 8,
    "start_time": "2022-11-08T17:49:31.850Z"
   },
   {
    "duration": 20,
    "start_time": "2022-11-08T17:49:31.859Z"
   },
   {
    "duration": 4,
    "start_time": "2022-11-08T17:49:31.881Z"
   },
   {
    "duration": 13,
    "start_time": "2022-11-08T17:49:31.886Z"
   },
   {
    "duration": 3,
    "start_time": "2022-11-08T17:49:31.900Z"
   },
   {
    "duration": 7,
    "start_time": "2022-11-08T17:49:31.905Z"
   },
   {
    "duration": 4,
    "start_time": "2022-11-08T17:49:31.915Z"
   },
   {
    "duration": 28,
    "start_time": "2022-11-08T17:49:31.921Z"
   },
   {
    "duration": 549,
    "start_time": "2022-11-08T17:49:31.950Z"
   },
   {
    "duration": 12,
    "start_time": "2022-11-08T17:49:32.501Z"
   },
   {
    "duration": 12,
    "start_time": "2022-11-08T17:49:32.515Z"
   },
   {
    "duration": 19,
    "start_time": "2022-11-08T17:49:32.529Z"
   },
   {
    "duration": 3,
    "start_time": "2022-11-08T17:49:32.550Z"
   },
   {
    "duration": 24,
    "start_time": "2022-11-08T17:49:32.554Z"
   },
   {
    "duration": 7,
    "start_time": "2022-11-08T17:49:32.579Z"
   },
   {
    "duration": 24,
    "start_time": "2022-11-08T17:49:32.587Z"
   },
   {
    "duration": 6,
    "start_time": "2022-11-08T17:49:32.612Z"
   },
   {
    "duration": 14,
    "start_time": "2022-11-08T17:49:32.620Z"
   },
   {
    "duration": 34,
    "start_time": "2022-11-08T17:49:32.636Z"
   },
   {
    "duration": 227,
    "start_time": "2022-11-08T17:49:32.671Z"
   },
   {
    "duration": 237,
    "start_time": "2022-11-08T17:49:32.900Z"
   },
   {
    "duration": 23,
    "start_time": "2022-11-08T17:49:33.139Z"
   },
   {
    "duration": 417,
    "start_time": "2022-11-08T17:49:33.164Z"
   },
   {
    "duration": 16,
    "start_time": "2022-11-08T17:49:33.583Z"
   },
   {
    "duration": 7,
    "start_time": "2022-11-08T17:49:33.600Z"
   },
   {
    "duration": 164,
    "start_time": "2022-11-08T17:49:33.608Z"
   },
   {
    "duration": 13,
    "start_time": "2022-11-08T17:49:33.774Z"
   },
   {
    "duration": 143,
    "start_time": "2022-11-08T17:49:33.789Z"
   },
   {
    "duration": 150,
    "start_time": "2022-11-08T17:49:33.934Z"
   },
   {
    "duration": 207,
    "start_time": "2022-11-08T17:49:34.085Z"
   },
   {
    "duration": 144,
    "start_time": "2022-11-08T17:49:34.294Z"
   },
   {
    "duration": 138,
    "start_time": "2022-11-08T17:49:34.439Z"
   },
   {
    "duration": 134,
    "start_time": "2022-11-08T17:49:34.579Z"
   },
   {
    "duration": 219,
    "start_time": "2022-11-08T17:49:34.716Z"
   },
   {
    "duration": 244,
    "start_time": "2022-11-08T17:49:34.937Z"
   },
   {
    "duration": 39,
    "start_time": "2022-11-08T17:49:35.182Z"
   },
   {
    "duration": 338,
    "start_time": "2022-11-08T17:49:35.223Z"
   },
   {
    "duration": 143,
    "start_time": "2022-11-08T17:49:35.562Z"
   },
   {
    "duration": 144,
    "start_time": "2022-11-08T17:49:35.707Z"
   },
   {
    "duration": 15,
    "start_time": "2022-11-08T17:49:35.853Z"
   },
   {
    "duration": 2,
    "start_time": "2022-11-08T17:49:35.870Z"
   },
   {
    "duration": 150,
    "start_time": "2022-11-08T17:49:35.874Z"
   },
   {
    "duration": 430,
    "start_time": "2022-11-08T17:49:36.026Z"
   },
   {
    "duration": 14,
    "start_time": "2022-11-08T17:49:36.458Z"
   },
   {
    "duration": 17,
    "start_time": "2022-11-08T17:49:36.474Z"
   },
   {
    "duration": 18,
    "start_time": "2022-11-08T17:49:36.492Z"
   },
   {
    "duration": 17,
    "start_time": "2022-11-08T17:49:36.511Z"
   },
   {
    "duration": 29,
    "start_time": "2022-11-08T17:49:36.529Z"
   },
   {
    "duration": 12,
    "start_time": "2022-11-08T17:49:36.560Z"
   },
   {
    "duration": 17,
    "start_time": "2022-11-08T17:49:36.574Z"
   },
   {
    "duration": 288,
    "start_time": "2022-11-08T17:49:36.592Z"
   },
   {
    "duration": 155,
    "start_time": "2022-11-08T17:49:36.882Z"
   },
   {
    "duration": 140,
    "start_time": "2022-11-08T17:49:37.039Z"
   },
   {
    "duration": 279,
    "start_time": "2022-11-08T17:49:37.181Z"
   },
   {
    "duration": 135,
    "start_time": "2022-11-08T17:49:37.462Z"
   },
   {
    "duration": 126,
    "start_time": "2022-11-08T17:49:37.599Z"
   },
   {
    "duration": 303,
    "start_time": "2022-11-08T17:49:37.727Z"
   },
   {
    "duration": 134,
    "start_time": "2022-11-08T17:49:38.032Z"
   },
   {
    "duration": 125,
    "start_time": "2022-11-08T17:49:38.168Z"
   },
   {
    "duration": 10,
    "start_time": "2022-11-08T17:49:38.294Z"
   },
   {
    "duration": 14,
    "start_time": "2022-11-08T17:49:38.306Z"
   },
   {
    "duration": 31,
    "start_time": "2022-11-08T17:52:50.422Z"
   },
   {
    "duration": 96,
    "start_time": "2022-11-08T18:15:51.606Z"
   },
   {
    "duration": 111,
    "start_time": "2022-11-08T18:16:53.193Z"
   },
   {
    "duration": 11,
    "start_time": "2022-11-08T18:22:20.212Z"
   },
   {
    "duration": 326,
    "start_time": "2022-11-08T18:23:08.822Z"
   },
   {
    "duration": 249,
    "start_time": "2022-11-08T18:24:31.903Z"
   },
   {
    "duration": 1147,
    "start_time": "2022-11-08T18:25:09.220Z"
   },
   {
    "duration": 66,
    "start_time": "2022-11-08T18:25:10.369Z"
   },
   {
    "duration": 13,
    "start_time": "2022-11-08T18:25:10.437Z"
   },
   {
    "duration": 26,
    "start_time": "2022-11-08T18:25:10.451Z"
   },
   {
    "duration": 3,
    "start_time": "2022-11-08T18:25:10.479Z"
   },
   {
    "duration": 14,
    "start_time": "2022-11-08T18:25:10.483Z"
   },
   {
    "duration": 7,
    "start_time": "2022-11-08T18:25:10.498Z"
   },
   {
    "duration": 11,
    "start_time": "2022-11-08T18:25:10.506Z"
   },
   {
    "duration": 31,
    "start_time": "2022-11-08T18:25:10.518Z"
   },
   {
    "duration": 5,
    "start_time": "2022-11-08T18:25:10.550Z"
   },
   {
    "duration": 16,
    "start_time": "2022-11-08T18:25:10.556Z"
   },
   {
    "duration": 4,
    "start_time": "2022-11-08T18:25:10.574Z"
   },
   {
    "duration": 6,
    "start_time": "2022-11-08T18:25:10.579Z"
   },
   {
    "duration": 5,
    "start_time": "2022-11-08T18:25:10.587Z"
   },
   {
    "duration": 8,
    "start_time": "2022-11-08T18:25:10.594Z"
   },
   {
    "duration": 580,
    "start_time": "2022-11-08T18:25:10.603Z"
   },
   {
    "duration": 12,
    "start_time": "2022-11-08T18:25:11.185Z"
   },
   {
    "duration": 4,
    "start_time": "2022-11-08T18:25:11.199Z"
   },
   {
    "duration": 20,
    "start_time": "2022-11-08T18:25:11.205Z"
   },
   {
    "duration": 8,
    "start_time": "2022-11-08T18:25:11.227Z"
   },
   {
    "duration": 19,
    "start_time": "2022-11-08T18:25:11.237Z"
   },
   {
    "duration": 7,
    "start_time": "2022-11-08T18:25:11.257Z"
   },
   {
    "duration": 16,
    "start_time": "2022-11-08T18:25:11.266Z"
   },
   {
    "duration": 5,
    "start_time": "2022-11-08T18:25:11.284Z"
   },
   {
    "duration": 6,
    "start_time": "2022-11-08T18:25:11.291Z"
   },
   {
    "duration": 57,
    "start_time": "2022-11-08T18:25:11.298Z"
   },
   {
    "duration": 252,
    "start_time": "2022-11-08T18:25:11.356Z"
   },
   {
    "duration": 245,
    "start_time": "2022-11-08T18:25:11.609Z"
   },
   {
    "duration": 19,
    "start_time": "2022-11-08T18:25:11.856Z"
   },
   {
    "duration": 439,
    "start_time": "2022-11-08T18:25:11.876Z"
   },
   {
    "duration": 16,
    "start_time": "2022-11-08T18:25:12.317Z"
   },
   {
    "duration": 17,
    "start_time": "2022-11-08T18:25:12.335Z"
   },
   {
    "duration": 117,
    "start_time": "2022-11-08T18:25:12.353Z"
   },
   {
    "duration": 14,
    "start_time": "2022-11-08T18:25:12.471Z"
   },
   {
    "duration": 151,
    "start_time": "2022-11-08T18:25:12.487Z"
   },
   {
    "duration": 139,
    "start_time": "2022-11-08T18:25:12.640Z"
   },
   {
    "duration": 213,
    "start_time": "2022-11-08T18:25:12.781Z"
   },
   {
    "duration": 144,
    "start_time": "2022-11-08T18:25:12.995Z"
   },
   {
    "duration": 135,
    "start_time": "2022-11-08T18:25:13.141Z"
   },
   {
    "duration": 128,
    "start_time": "2022-11-08T18:25:13.277Z"
   },
   {
    "duration": 211,
    "start_time": "2022-11-08T18:25:13.409Z"
   },
   {
    "duration": 215,
    "start_time": "2022-11-08T18:25:13.622Z"
   },
   {
    "duration": 33,
    "start_time": "2022-11-08T18:25:13.839Z"
   },
   {
    "duration": 142,
    "start_time": "2022-11-08T18:25:13.874Z"
   },
   {
    "duration": 133,
    "start_time": "2022-11-08T18:25:14.018Z"
   },
   {
    "duration": 16,
    "start_time": "2022-11-08T18:25:14.152Z"
   },
   {
    "duration": 338,
    "start_time": "2022-11-08T18:25:14.170Z"
   },
   {
    "duration": 2,
    "start_time": "2022-11-08T18:25:14.510Z"
   },
   {
    "duration": 162,
    "start_time": "2022-11-08T18:25:14.514Z"
   },
   {
    "duration": 352,
    "start_time": "2022-11-08T18:25:14.678Z"
   },
   {
    "duration": 20,
    "start_time": "2022-11-08T18:25:15.031Z"
   },
   {
    "duration": 30,
    "start_time": "2022-11-08T18:25:15.053Z"
   },
   {
    "duration": 21,
    "start_time": "2022-11-08T18:25:15.084Z"
   },
   {
    "duration": 38,
    "start_time": "2022-11-08T18:25:15.106Z"
   },
   {
    "duration": 25,
    "start_time": "2022-11-08T18:25:15.145Z"
   },
   {
    "duration": 23,
    "start_time": "2022-11-08T18:25:15.171Z"
   },
   {
    "duration": 17,
    "start_time": "2022-11-08T18:25:15.195Z"
   },
   {
    "duration": 317,
    "start_time": "2022-11-08T18:25:15.214Z"
   },
   {
    "duration": 175,
    "start_time": "2022-11-08T18:25:15.533Z"
   },
   {
    "duration": 125,
    "start_time": "2022-11-08T18:25:15.710Z"
   },
   {
    "duration": 314,
    "start_time": "2022-11-08T18:25:15.837Z"
   },
   {
    "duration": 130,
    "start_time": "2022-11-08T18:25:16.153Z"
   },
   {
    "duration": 123,
    "start_time": "2022-11-08T18:25:16.284Z"
   },
   {
    "duration": 324,
    "start_time": "2022-11-08T18:25:16.409Z"
   },
   {
    "duration": 131,
    "start_time": "2022-11-08T18:25:16.735Z"
   },
   {
    "duration": 120,
    "start_time": "2022-11-08T18:25:16.867Z"
   },
   {
    "duration": 11,
    "start_time": "2022-11-08T18:25:16.989Z"
   },
   {
    "duration": 15,
    "start_time": "2022-11-08T18:25:17.001Z"
   },
   {
    "duration": 237,
    "start_time": "2022-11-08T18:33:29.813Z"
   },
   {
    "duration": 1081,
    "start_time": "2022-11-08T18:35:36.187Z"
   },
   {
    "duration": 65,
    "start_time": "2022-11-08T18:35:37.270Z"
   },
   {
    "duration": 13,
    "start_time": "2022-11-08T18:35:37.337Z"
   },
   {
    "duration": 26,
    "start_time": "2022-11-08T18:35:37.352Z"
   },
   {
    "duration": 3,
    "start_time": "2022-11-08T18:35:37.379Z"
   },
   {
    "duration": 18,
    "start_time": "2022-11-08T18:35:37.384Z"
   },
   {
    "duration": 7,
    "start_time": "2022-11-08T18:35:37.403Z"
   },
   {
    "duration": 11,
    "start_time": "2022-11-08T18:35:37.412Z"
   },
   {
    "duration": 24,
    "start_time": "2022-11-08T18:35:37.425Z"
   },
   {
    "duration": 4,
    "start_time": "2022-11-08T18:35:37.451Z"
   },
   {
    "duration": 10,
    "start_time": "2022-11-08T18:35:37.456Z"
   },
   {
    "duration": 4,
    "start_time": "2022-11-08T18:35:37.467Z"
   },
   {
    "duration": 9,
    "start_time": "2022-11-08T18:35:37.472Z"
   },
   {
    "duration": 28,
    "start_time": "2022-11-08T18:35:37.482Z"
   },
   {
    "duration": 12,
    "start_time": "2022-11-08T18:35:37.511Z"
   },
   {
    "duration": 574,
    "start_time": "2022-11-08T18:35:37.525Z"
   },
   {
    "duration": 11,
    "start_time": "2022-11-08T18:35:38.100Z"
   },
   {
    "duration": 3,
    "start_time": "2022-11-08T18:35:38.113Z"
   },
   {
    "duration": 8,
    "start_time": "2022-11-08T18:35:38.117Z"
   },
   {
    "duration": 21,
    "start_time": "2022-11-08T18:35:38.127Z"
   },
   {
    "duration": 14,
    "start_time": "2022-11-08T18:35:38.150Z"
   },
   {
    "duration": 6,
    "start_time": "2022-11-08T18:35:38.165Z"
   },
   {
    "duration": 16,
    "start_time": "2022-11-08T18:35:38.172Z"
   },
   {
    "duration": 5,
    "start_time": "2022-11-08T18:35:38.189Z"
   },
   {
    "duration": 9,
    "start_time": "2022-11-08T18:35:38.196Z"
   },
   {
    "duration": 50,
    "start_time": "2022-11-08T18:35:38.206Z"
   },
   {
    "duration": 228,
    "start_time": "2022-11-08T18:35:38.258Z"
   },
   {
    "duration": 234,
    "start_time": "2022-11-08T18:35:38.490Z"
   },
   {
    "duration": 24,
    "start_time": "2022-11-08T18:35:38.726Z"
   },
   {
    "duration": 425,
    "start_time": "2022-11-08T18:35:38.752Z"
   },
   {
    "duration": 15,
    "start_time": "2022-11-08T18:35:39.178Z"
   },
   {
    "duration": 14,
    "start_time": "2022-11-08T18:35:39.194Z"
   },
   {
    "duration": 115,
    "start_time": "2022-11-08T18:35:39.209Z"
   },
   {
    "duration": 27,
    "start_time": "2022-11-08T18:35:39.326Z"
   },
   {
    "duration": 131,
    "start_time": "2022-11-08T18:35:39.355Z"
   },
   {
    "duration": 135,
    "start_time": "2022-11-08T18:35:39.487Z"
   },
   {
    "duration": 188,
    "start_time": "2022-11-08T18:35:39.623Z"
   },
   {
    "duration": 129,
    "start_time": "2022-11-08T18:35:39.812Z"
   },
   {
    "duration": 121,
    "start_time": "2022-11-08T18:35:39.947Z"
   },
   {
    "duration": 118,
    "start_time": "2022-11-08T18:35:40.070Z"
   },
   {
    "duration": 213,
    "start_time": "2022-11-08T18:35:40.190Z"
   },
   {
    "duration": 206,
    "start_time": "2022-11-08T18:35:40.405Z"
   },
   {
    "duration": 38,
    "start_time": "2022-11-08T18:35:40.613Z"
   },
   {
    "duration": 131,
    "start_time": "2022-11-08T18:35:40.652Z"
   },
   {
    "duration": 129,
    "start_time": "2022-11-08T18:35:40.785Z"
   },
   {
    "duration": 14,
    "start_time": "2022-11-08T18:35:40.916Z"
   },
   {
    "duration": 142,
    "start_time": "2022-11-08T18:35:40.931Z"
   },
   {
    "duration": 332,
    "start_time": "2022-11-08T18:35:41.075Z"
   },
   {
    "duration": 346,
    "start_time": "2022-11-08T18:35:41.408Z"
   },
   {
    "duration": 12,
    "start_time": "2022-11-08T18:35:41.755Z"
   },
   {
    "duration": 14,
    "start_time": "2022-11-08T18:35:41.768Z"
   },
   {
    "duration": 15,
    "start_time": "2022-11-08T18:35:41.783Z"
   },
   {
    "duration": 14,
    "start_time": "2022-11-08T18:35:41.799Z"
   },
   {
    "duration": 14,
    "start_time": "2022-11-08T18:35:41.814Z"
   },
   {
    "duration": 16,
    "start_time": "2022-11-08T18:35:41.849Z"
   },
   {
    "duration": 17,
    "start_time": "2022-11-08T18:35:41.866Z"
   },
   {
    "duration": 280,
    "start_time": "2022-11-08T18:35:41.884Z"
   },
   {
    "duration": 149,
    "start_time": "2022-11-08T18:35:42.166Z"
   },
   {
    "duration": 135,
    "start_time": "2022-11-08T18:35:42.316Z"
   },
   {
    "duration": 284,
    "start_time": "2022-11-08T18:35:42.452Z"
   },
   {
    "duration": 131,
    "start_time": "2022-11-08T18:35:42.737Z"
   },
   {
    "duration": 132,
    "start_time": "2022-11-08T18:35:42.869Z"
   },
   {
    "duration": 324,
    "start_time": "2022-11-08T18:35:43.002Z"
   },
   {
    "duration": 132,
    "start_time": "2022-11-08T18:35:43.328Z"
   },
   {
    "duration": 123,
    "start_time": "2022-11-08T18:35:43.462Z"
   },
   {
    "duration": 12,
    "start_time": "2022-11-08T18:35:43.587Z"
   },
   {
    "duration": 16,
    "start_time": "2022-11-08T18:35:43.600Z"
   },
   {
    "duration": 5,
    "start_time": "2022-11-08T18:47:33.908Z"
   },
   {
    "duration": 106,
    "start_time": "2022-11-08T18:47:35.162Z"
   },
   {
    "duration": 1109,
    "start_time": "2022-11-08T18:47:54.054Z"
   },
   {
    "duration": 63,
    "start_time": "2022-11-08T18:47:55.165Z"
   },
   {
    "duration": 13,
    "start_time": "2022-11-08T18:47:55.230Z"
   },
   {
    "duration": 31,
    "start_time": "2022-11-08T18:47:55.244Z"
   },
   {
    "duration": 3,
    "start_time": "2022-11-08T18:47:55.277Z"
   },
   {
    "duration": 14,
    "start_time": "2022-11-08T18:47:55.281Z"
   },
   {
    "duration": 11,
    "start_time": "2022-11-08T18:47:55.297Z"
   },
   {
    "duration": 14,
    "start_time": "2022-11-08T18:47:55.310Z"
   },
   {
    "duration": 17,
    "start_time": "2022-11-08T18:47:55.325Z"
   },
   {
    "duration": 6,
    "start_time": "2022-11-08T18:47:55.343Z"
   },
   {
    "duration": 8,
    "start_time": "2022-11-08T18:47:55.351Z"
   },
   {
    "duration": 3,
    "start_time": "2022-11-08T18:47:55.361Z"
   },
   {
    "duration": 6,
    "start_time": "2022-11-08T18:47:55.366Z"
   },
   {
    "duration": 4,
    "start_time": "2022-11-08T18:47:55.376Z"
   },
   {
    "duration": 9,
    "start_time": "2022-11-08T18:47:55.382Z"
   },
   {
    "duration": 625,
    "start_time": "2022-11-08T18:47:55.392Z"
   },
   {
    "duration": 13,
    "start_time": "2022-11-08T18:47:56.019Z"
   },
   {
    "duration": 15,
    "start_time": "2022-11-08T18:47:56.033Z"
   },
   {
    "duration": 10,
    "start_time": "2022-11-08T18:47:56.050Z"
   },
   {
    "duration": 4,
    "start_time": "2022-11-08T18:47:56.062Z"
   },
   {
    "duration": 15,
    "start_time": "2022-11-08T18:47:56.067Z"
   },
   {
    "duration": 14,
    "start_time": "2022-11-08T18:47:56.083Z"
   },
   {
    "duration": 13,
    "start_time": "2022-11-08T18:47:56.098Z"
   },
   {
    "duration": 5,
    "start_time": "2022-11-08T18:47:56.113Z"
   },
   {
    "duration": 29,
    "start_time": "2022-11-08T18:47:56.119Z"
   },
   {
    "duration": 23,
    "start_time": "2022-11-08T18:47:56.149Z"
   },
   {
    "duration": 292,
    "start_time": "2022-11-08T18:47:56.173Z"
   },
   {
    "duration": 237,
    "start_time": "2022-11-08T18:47:56.466Z"
   },
   {
    "duration": 18,
    "start_time": "2022-11-08T18:47:56.704Z"
   },
   {
    "duration": 452,
    "start_time": "2022-11-08T18:47:56.723Z"
   },
   {
    "duration": 13,
    "start_time": "2022-11-08T18:47:57.177Z"
   },
   {
    "duration": 5,
    "start_time": "2022-11-08T18:47:57.192Z"
   },
   {
    "duration": 128,
    "start_time": "2022-11-08T18:47:57.199Z"
   },
   {
    "duration": 20,
    "start_time": "2022-11-08T18:47:57.329Z"
   },
   {
    "duration": 139,
    "start_time": "2022-11-08T18:47:57.350Z"
   },
   {
    "duration": 138,
    "start_time": "2022-11-08T18:47:57.490Z"
   },
   {
    "duration": 183,
    "start_time": "2022-11-08T18:47:57.629Z"
   },
   {
    "duration": 134,
    "start_time": "2022-11-08T18:47:57.814Z"
   },
   {
    "duration": 131,
    "start_time": "2022-11-08T18:47:57.949Z"
   },
   {
    "duration": 122,
    "start_time": "2022-11-08T18:47:58.081Z"
   },
   {
    "duration": 214,
    "start_time": "2022-11-08T18:47:58.207Z"
   },
   {
    "duration": 217,
    "start_time": "2022-11-08T18:47:58.422Z"
   },
   {
    "duration": 32,
    "start_time": "2022-11-08T18:47:58.641Z"
   },
   {
    "duration": 132,
    "start_time": "2022-11-08T18:47:58.675Z"
   },
   {
    "duration": 124,
    "start_time": "2022-11-08T18:47:58.808Z"
   },
   {
    "duration": 21,
    "start_time": "2022-11-08T18:47:58.934Z"
   },
   {
    "duration": 147,
    "start_time": "2022-11-08T18:47:58.956Z"
   },
   {
    "duration": 337,
    "start_time": "2022-11-08T18:47:59.105Z"
   },
   {
    "duration": 348,
    "start_time": "2022-11-08T18:47:59.448Z"
   },
   {
    "duration": 14,
    "start_time": "2022-11-08T18:47:59.798Z"
   },
   {
    "duration": 16,
    "start_time": "2022-11-08T18:47:59.814Z"
   },
   {
    "duration": 26,
    "start_time": "2022-11-08T18:47:59.832Z"
   },
   {
    "duration": 16,
    "start_time": "2022-11-08T18:47:59.860Z"
   },
   {
    "duration": 13,
    "start_time": "2022-11-08T18:47:59.878Z"
   },
   {
    "duration": 14,
    "start_time": "2022-11-08T18:47:59.893Z"
   },
   {
    "duration": 42,
    "start_time": "2022-11-08T18:47:59.908Z"
   },
   {
    "duration": 301,
    "start_time": "2022-11-08T18:47:59.952Z"
   },
   {
    "duration": 162,
    "start_time": "2022-11-08T18:48:00.254Z"
   },
   {
    "duration": 138,
    "start_time": "2022-11-08T18:48:00.419Z"
   },
   {
    "duration": 282,
    "start_time": "2022-11-08T18:48:00.559Z"
   },
   {
    "duration": 140,
    "start_time": "2022-11-08T18:48:00.847Z"
   },
   {
    "duration": 129,
    "start_time": "2022-11-08T18:48:00.989Z"
   },
   {
    "duration": 312,
    "start_time": "2022-11-08T18:48:01.120Z"
   },
   {
    "duration": 174,
    "start_time": "2022-11-08T18:48:01.434Z"
   },
   {
    "duration": 132,
    "start_time": "2022-11-08T18:48:01.609Z"
   },
   {
    "duration": 5,
    "start_time": "2022-11-08T18:48:01.747Z"
   },
   {
    "duration": 141,
    "start_time": "2022-11-08T18:48:01.753Z"
   },
   {
    "duration": 0,
    "start_time": "2022-11-08T18:48:01.895Z"
   },
   {
    "duration": 0,
    "start_time": "2022-11-08T18:48:01.897Z"
   },
   {
    "duration": 3,
    "start_time": "2022-11-08T18:48:46.974Z"
   },
   {
    "duration": 5,
    "start_time": "2022-11-08T18:48:48.215Z"
   },
   {
    "duration": 17,
    "start_time": "2022-11-08T18:49:45.375Z"
   },
   {
    "duration": 12,
    "start_time": "2022-11-08T18:54:07.763Z"
   },
   {
    "duration": 12,
    "start_time": "2022-11-08T18:54:37.403Z"
   },
   {
    "duration": 11,
    "start_time": "2022-11-08T18:54:56.376Z"
   },
   {
    "duration": 1056,
    "start_time": "2022-11-08T18:55:35.277Z"
   },
   {
    "duration": 63,
    "start_time": "2022-11-08T18:55:36.335Z"
   },
   {
    "duration": 22,
    "start_time": "2022-11-08T18:55:36.399Z"
   },
   {
    "duration": 25,
    "start_time": "2022-11-08T18:55:36.422Z"
   },
   {
    "duration": 2,
    "start_time": "2022-11-08T18:55:36.449Z"
   },
   {
    "duration": 15,
    "start_time": "2022-11-08T18:55:36.453Z"
   },
   {
    "duration": 7,
    "start_time": "2022-11-08T18:55:36.469Z"
   },
   {
    "duration": 8,
    "start_time": "2022-11-08T18:55:36.478Z"
   },
   {
    "duration": 16,
    "start_time": "2022-11-08T18:55:36.487Z"
   },
   {
    "duration": 4,
    "start_time": "2022-11-08T18:55:36.504Z"
   },
   {
    "duration": 13,
    "start_time": "2022-11-08T18:55:36.509Z"
   },
   {
    "duration": 4,
    "start_time": "2022-11-08T18:55:36.523Z"
   },
   {
    "duration": 23,
    "start_time": "2022-11-08T18:55:36.528Z"
   },
   {
    "duration": 11,
    "start_time": "2022-11-08T18:55:36.554Z"
   },
   {
    "duration": 11,
    "start_time": "2022-11-08T18:55:36.567Z"
   },
   {
    "duration": 583,
    "start_time": "2022-11-08T18:55:36.579Z"
   },
   {
    "duration": 11,
    "start_time": "2022-11-08T18:55:37.164Z"
   },
   {
    "duration": 6,
    "start_time": "2022-11-08T18:55:37.176Z"
   },
   {
    "duration": 23,
    "start_time": "2022-11-08T18:55:37.183Z"
   },
   {
    "duration": 4,
    "start_time": "2022-11-08T18:55:37.207Z"
   },
   {
    "duration": 14,
    "start_time": "2022-11-08T18:55:37.212Z"
   },
   {
    "duration": 7,
    "start_time": "2022-11-08T18:55:37.227Z"
   },
   {
    "duration": 14,
    "start_time": "2022-11-08T18:55:37.248Z"
   },
   {
    "duration": 5,
    "start_time": "2022-11-08T18:55:37.264Z"
   },
   {
    "duration": 7,
    "start_time": "2022-11-08T18:55:37.271Z"
   },
   {
    "duration": 22,
    "start_time": "2022-11-08T18:55:37.280Z"
   },
   {
    "duration": 246,
    "start_time": "2022-11-08T18:55:37.304Z"
   },
   {
    "duration": 229,
    "start_time": "2022-11-08T18:55:37.551Z"
   },
   {
    "duration": 18,
    "start_time": "2022-11-08T18:55:37.781Z"
   },
   {
    "duration": 436,
    "start_time": "2022-11-08T18:55:37.801Z"
   },
   {
    "duration": 16,
    "start_time": "2022-11-08T18:55:38.239Z"
   },
   {
    "duration": 5,
    "start_time": "2022-11-08T18:55:38.256Z"
   },
   {
    "duration": 122,
    "start_time": "2022-11-08T18:55:38.263Z"
   },
   {
    "duration": 14,
    "start_time": "2022-11-08T18:55:38.387Z"
   },
   {
    "duration": 157,
    "start_time": "2022-11-08T18:55:38.402Z"
   },
   {
    "duration": 139,
    "start_time": "2022-11-08T18:55:38.561Z"
   },
   {
    "duration": 202,
    "start_time": "2022-11-08T18:55:38.701Z"
   },
   {
    "duration": 129,
    "start_time": "2022-11-08T18:55:38.905Z"
   },
   {
    "duration": 132,
    "start_time": "2022-11-08T18:55:39.036Z"
   },
   {
    "duration": 127,
    "start_time": "2022-11-08T18:55:39.170Z"
   },
   {
    "duration": 212,
    "start_time": "2022-11-08T18:55:39.309Z"
   },
   {
    "duration": 210,
    "start_time": "2022-11-08T18:55:39.523Z"
   },
   {
    "duration": 36,
    "start_time": "2022-11-08T18:55:39.735Z"
   },
   {
    "duration": 129,
    "start_time": "2022-11-08T18:55:39.773Z"
   },
   {
    "duration": 124,
    "start_time": "2022-11-08T18:55:39.904Z"
   },
   {
    "duration": 24,
    "start_time": "2022-11-08T18:55:40.030Z"
   },
   {
    "duration": 143,
    "start_time": "2022-11-08T18:55:40.055Z"
   },
   {
    "duration": 335,
    "start_time": "2022-11-08T18:55:40.200Z"
   },
   {
    "duration": 327,
    "start_time": "2022-11-08T18:55:40.537Z"
   },
   {
    "duration": 13,
    "start_time": "2022-11-08T18:55:40.865Z"
   },
   {
    "duration": 14,
    "start_time": "2022-11-08T18:55:40.880Z"
   },
   {
    "duration": 12,
    "start_time": "2022-11-08T18:55:40.895Z"
   },
   {
    "duration": 11,
    "start_time": "2022-11-08T18:55:40.908Z"
   },
   {
    "duration": 34,
    "start_time": "2022-11-08T18:55:40.921Z"
   },
   {
    "duration": 13,
    "start_time": "2022-11-08T18:55:40.956Z"
   },
   {
    "duration": 14,
    "start_time": "2022-11-08T18:55:40.971Z"
   },
   {
    "duration": 273,
    "start_time": "2022-11-08T18:55:40.986Z"
   },
   {
    "duration": 144,
    "start_time": "2022-11-08T18:55:41.261Z"
   },
   {
    "duration": 141,
    "start_time": "2022-11-08T18:55:41.407Z"
   },
   {
    "duration": 285,
    "start_time": "2022-11-08T18:55:41.550Z"
   },
   {
    "duration": 129,
    "start_time": "2022-11-08T18:55:41.836Z"
   },
   {
    "duration": 119,
    "start_time": "2022-11-08T18:55:41.967Z"
   },
   {
    "duration": 269,
    "start_time": "2022-11-08T18:55:42.087Z"
   },
   {
    "duration": 135,
    "start_time": "2022-11-08T18:55:42.358Z"
   },
   {
    "duration": 128,
    "start_time": "2022-11-08T18:55:42.495Z"
   },
   {
    "duration": 24,
    "start_time": "2022-11-08T18:55:42.625Z"
   },
   {
    "duration": 11,
    "start_time": "2022-11-08T18:55:42.650Z"
   },
   {
    "duration": 15,
    "start_time": "2022-11-08T18:55:42.662Z"
   },
   {
    "duration": 11,
    "start_time": "2022-11-08T18:55:42.679Z"
   },
   {
    "duration": 11,
    "start_time": "2022-11-08T18:55:42.692Z"
   },
   {
    "duration": 12,
    "start_time": "2022-11-08T18:55:42.704Z"
   },
   {
    "duration": 14,
    "start_time": "2022-11-08T18:57:03.593Z"
   },
   {
    "duration": 13,
    "start_time": "2022-11-08T18:59:23.123Z"
   },
   {
    "duration": 15,
    "start_time": "2022-11-08T19:00:09.194Z"
   },
   {
    "duration": 15,
    "start_time": "2022-11-08T19:01:20.764Z"
   },
   {
    "duration": 14,
    "start_time": "2022-11-08T19:01:53.856Z"
   },
   {
    "duration": 1059,
    "start_time": "2022-11-08T19:02:22.014Z"
   },
   {
    "duration": 67,
    "start_time": "2022-11-08T19:02:23.075Z"
   },
   {
    "duration": 14,
    "start_time": "2022-11-08T19:02:23.143Z"
   },
   {
    "duration": 26,
    "start_time": "2022-11-08T19:02:23.159Z"
   },
   {
    "duration": 3,
    "start_time": "2022-11-08T19:02:23.187Z"
   },
   {
    "duration": 22,
    "start_time": "2022-11-08T19:02:23.191Z"
   },
   {
    "duration": 10,
    "start_time": "2022-11-08T19:02:23.214Z"
   },
   {
    "duration": 10,
    "start_time": "2022-11-08T19:02:23.225Z"
   },
   {
    "duration": 23,
    "start_time": "2022-11-08T19:02:23.236Z"
   },
   {
    "duration": 4,
    "start_time": "2022-11-08T19:02:23.260Z"
   },
   {
    "duration": 12,
    "start_time": "2022-11-08T19:02:23.265Z"
   },
   {
    "duration": 16,
    "start_time": "2022-11-08T19:02:23.279Z"
   },
   {
    "duration": 14,
    "start_time": "2022-11-08T19:02:23.296Z"
   },
   {
    "duration": 7,
    "start_time": "2022-11-08T19:02:23.314Z"
   },
   {
    "duration": 17,
    "start_time": "2022-11-08T19:02:23.323Z"
   },
   {
    "duration": 554,
    "start_time": "2022-11-08T19:02:23.341Z"
   },
   {
    "duration": 13,
    "start_time": "2022-11-08T19:02:23.897Z"
   },
   {
    "duration": 3,
    "start_time": "2022-11-08T19:02:23.912Z"
   },
   {
    "duration": 27,
    "start_time": "2022-11-08T19:02:23.916Z"
   },
   {
    "duration": 9,
    "start_time": "2022-11-08T19:02:23.944Z"
   },
   {
    "duration": 23,
    "start_time": "2022-11-08T19:02:23.955Z"
   },
   {
    "duration": 5,
    "start_time": "2022-11-08T19:02:23.980Z"
   },
   {
    "duration": 18,
    "start_time": "2022-11-08T19:02:23.987Z"
   },
   {
    "duration": 12,
    "start_time": "2022-11-08T19:02:24.006Z"
   },
   {
    "duration": 11,
    "start_time": "2022-11-08T19:02:24.019Z"
   },
   {
    "duration": 24,
    "start_time": "2022-11-08T19:02:24.031Z"
   },
   {
    "duration": 224,
    "start_time": "2022-11-08T19:02:24.056Z"
   },
   {
    "duration": 240,
    "start_time": "2022-11-08T19:02:24.282Z"
   },
   {
    "duration": 25,
    "start_time": "2022-11-08T19:02:24.524Z"
   },
   {
    "duration": 445,
    "start_time": "2022-11-08T19:02:24.551Z"
   },
   {
    "duration": 14,
    "start_time": "2022-11-08T19:02:24.998Z"
   },
   {
    "duration": 6,
    "start_time": "2022-11-08T19:02:25.014Z"
   },
   {
    "duration": 129,
    "start_time": "2022-11-08T19:02:25.021Z"
   },
   {
    "duration": 15,
    "start_time": "2022-11-08T19:02:25.151Z"
   },
   {
    "duration": 158,
    "start_time": "2022-11-08T19:02:25.167Z"
   },
   {
    "duration": 172,
    "start_time": "2022-11-08T19:02:25.327Z"
   },
   {
    "duration": 206,
    "start_time": "2022-11-08T19:02:25.501Z"
   },
   {
    "duration": 148,
    "start_time": "2022-11-08T19:02:25.708Z"
   },
   {
    "duration": 139,
    "start_time": "2022-11-08T19:02:25.857Z"
   },
   {
    "duration": 124,
    "start_time": "2022-11-08T19:02:25.997Z"
   },
   {
    "duration": 213,
    "start_time": "2022-11-08T19:02:26.124Z"
   },
   {
    "duration": 216,
    "start_time": "2022-11-08T19:02:26.339Z"
   },
   {
    "duration": 27,
    "start_time": "2022-11-08T19:02:26.557Z"
   },
   {
    "duration": 143,
    "start_time": "2022-11-08T19:02:26.585Z"
   },
   {
    "duration": 123,
    "start_time": "2022-11-08T19:02:26.729Z"
   },
   {
    "duration": 14,
    "start_time": "2022-11-08T19:02:26.854Z"
   },
   {
    "duration": 146,
    "start_time": "2022-11-08T19:02:26.869Z"
   },
   {
    "duration": 346,
    "start_time": "2022-11-08T19:02:27.016Z"
   },
   {
    "duration": 339,
    "start_time": "2022-11-08T19:02:27.363Z"
   },
   {
    "duration": 12,
    "start_time": "2022-11-08T19:02:27.704Z"
   },
   {
    "duration": 30,
    "start_time": "2022-11-08T19:02:27.718Z"
   },
   {
    "duration": 14,
    "start_time": "2022-11-08T19:02:27.750Z"
   },
   {
    "duration": 13,
    "start_time": "2022-11-08T19:02:27.766Z"
   },
   {
    "duration": 15,
    "start_time": "2022-11-08T19:02:27.780Z"
   },
   {
    "duration": 14,
    "start_time": "2022-11-08T19:02:27.796Z"
   },
   {
    "duration": 348,
    "start_time": "2022-11-08T19:02:27.811Z"
   },
   {
    "duration": 149,
    "start_time": "2022-11-08T19:02:28.161Z"
   },
   {
    "duration": 131,
    "start_time": "2022-11-08T19:02:28.311Z"
   },
   {
    "duration": 295,
    "start_time": "2022-11-08T19:02:28.443Z"
   },
   {
    "duration": 137,
    "start_time": "2022-11-08T19:02:28.740Z"
   },
   {
    "duration": 121,
    "start_time": "2022-11-08T19:02:28.879Z"
   },
   {
    "duration": 302,
    "start_time": "2022-11-08T19:02:29.002Z"
   },
   {
    "duration": 129,
    "start_time": "2022-11-08T19:02:29.306Z"
   },
   {
    "duration": 118,
    "start_time": "2022-11-08T19:02:29.436Z"
   },
   {
    "duration": 13,
    "start_time": "2022-11-08T19:02:29.556Z"
   },
   {
    "duration": 12,
    "start_time": "2022-11-08T19:02:29.571Z"
   },
   {
    "duration": 9,
    "start_time": "2022-11-08T19:02:29.585Z"
   },
   {
    "duration": 13,
    "start_time": "2022-11-08T19:02:29.595Z"
   },
   {
    "duration": 19,
    "start_time": "2022-11-08T19:02:29.610Z"
   },
   {
    "duration": 15,
    "start_time": "2022-11-08T19:02:29.647Z"
   },
   {
    "duration": 117,
    "start_time": "2022-11-08T19:09:32.643Z"
   },
   {
    "duration": 61,
    "start_time": "2022-11-08T19:11:49.840Z"
   },
   {
    "duration": 47,
    "start_time": "2022-11-08T19:12:16.477Z"
   },
   {
    "duration": 15,
    "start_time": "2022-11-08T19:13:35.638Z"
   },
   {
    "duration": 1124,
    "start_time": "2022-11-08T19:13:52.324Z"
   },
   {
    "duration": 62,
    "start_time": "2022-11-08T19:13:53.450Z"
   },
   {
    "duration": 13,
    "start_time": "2022-11-08T19:13:53.514Z"
   },
   {
    "duration": 26,
    "start_time": "2022-11-08T19:13:53.529Z"
   },
   {
    "duration": 2,
    "start_time": "2022-11-08T19:13:53.556Z"
   },
   {
    "duration": 15,
    "start_time": "2022-11-08T19:13:53.560Z"
   },
   {
    "duration": 6,
    "start_time": "2022-11-08T19:13:53.577Z"
   },
   {
    "duration": 5,
    "start_time": "2022-11-08T19:13:53.584Z"
   },
   {
    "duration": 24,
    "start_time": "2022-11-08T19:13:53.591Z"
   },
   {
    "duration": 5,
    "start_time": "2022-11-08T19:13:53.617Z"
   },
   {
    "duration": 9,
    "start_time": "2022-11-08T19:13:53.623Z"
   },
   {
    "duration": 3,
    "start_time": "2022-11-08T19:13:53.633Z"
   },
   {
    "duration": 4,
    "start_time": "2022-11-08T19:13:53.648Z"
   },
   {
    "duration": 8,
    "start_time": "2022-11-08T19:13:53.653Z"
   },
   {
    "duration": 10,
    "start_time": "2022-11-08T19:13:53.663Z"
   },
   {
    "duration": 599,
    "start_time": "2022-11-08T19:13:53.674Z"
   },
   {
    "duration": 12,
    "start_time": "2022-11-08T19:13:54.274Z"
   },
   {
    "duration": 9,
    "start_time": "2022-11-08T19:13:54.287Z"
   },
   {
    "duration": 20,
    "start_time": "2022-11-08T19:13:54.297Z"
   },
   {
    "duration": 3,
    "start_time": "2022-11-08T19:13:54.319Z"
   },
   {
    "duration": 17,
    "start_time": "2022-11-08T19:13:54.323Z"
   },
   {
    "duration": 11,
    "start_time": "2022-11-08T19:13:54.341Z"
   },
   {
    "duration": 18,
    "start_time": "2022-11-08T19:13:54.354Z"
   },
   {
    "duration": 4,
    "start_time": "2022-11-08T19:13:54.373Z"
   },
   {
    "duration": 18,
    "start_time": "2022-11-08T19:13:54.379Z"
   },
   {
    "duration": 24,
    "start_time": "2022-11-08T19:13:54.398Z"
   },
   {
    "duration": 237,
    "start_time": "2022-11-08T19:13:54.423Z"
   },
   {
    "duration": 224,
    "start_time": "2022-11-08T19:13:54.664Z"
   },
   {
    "duration": 19,
    "start_time": "2022-11-08T19:13:54.890Z"
   },
   {
    "duration": 452,
    "start_time": "2022-11-08T19:13:54.910Z"
   },
   {
    "duration": 16,
    "start_time": "2022-11-08T19:13:55.364Z"
   },
   {
    "duration": 7,
    "start_time": "2022-11-08T19:13:55.382Z"
   },
   {
    "duration": 178,
    "start_time": "2022-11-08T19:13:55.391Z"
   },
   {
    "duration": 20,
    "start_time": "2022-11-08T19:13:55.571Z"
   },
   {
    "duration": 145,
    "start_time": "2022-11-08T19:13:55.593Z"
   },
   {
    "duration": 140,
    "start_time": "2022-11-08T19:13:55.740Z"
   },
   {
    "duration": 196,
    "start_time": "2022-11-08T19:13:55.881Z"
   },
   {
    "duration": 135,
    "start_time": "2022-11-08T19:13:56.079Z"
   },
   {
    "duration": 134,
    "start_time": "2022-11-08T19:13:56.216Z"
   },
   {
    "duration": 128,
    "start_time": "2022-11-08T19:13:56.351Z"
   },
   {
    "duration": 207,
    "start_time": "2022-11-08T19:13:56.480Z"
   },
   {
    "duration": 222,
    "start_time": "2022-11-08T19:13:56.689Z"
   },
   {
    "duration": 37,
    "start_time": "2022-11-08T19:13:56.912Z"
   },
   {
    "duration": 130,
    "start_time": "2022-11-08T19:13:56.950Z"
   },
   {
    "duration": 119,
    "start_time": "2022-11-08T19:13:57.082Z"
   },
   {
    "duration": 14,
    "start_time": "2022-11-08T19:13:57.202Z"
   },
   {
    "duration": 159,
    "start_time": "2022-11-08T19:13:57.218Z"
   },
   {
    "duration": 327,
    "start_time": "2022-11-08T19:13:57.378Z"
   },
   {
    "duration": 341,
    "start_time": "2022-11-08T19:13:57.707Z"
   },
   {
    "duration": 13,
    "start_time": "2022-11-08T19:13:58.050Z"
   },
   {
    "duration": 12,
    "start_time": "2022-11-08T19:13:58.064Z"
   },
   {
    "duration": 12,
    "start_time": "2022-11-08T19:13:58.077Z"
   },
   {
    "duration": 13,
    "start_time": "2022-11-08T19:13:58.090Z"
   },
   {
    "duration": 44,
    "start_time": "2022-11-08T19:13:58.105Z"
   },
   {
    "duration": 14,
    "start_time": "2022-11-08T19:13:58.151Z"
   },
   {
    "duration": 282,
    "start_time": "2022-11-08T19:13:58.166Z"
   },
   {
    "duration": 149,
    "start_time": "2022-11-08T19:13:58.449Z"
   },
   {
    "duration": 135,
    "start_time": "2022-11-08T19:13:58.599Z"
   },
   {
    "duration": 315,
    "start_time": "2022-11-08T19:13:58.735Z"
   },
   {
    "duration": 133,
    "start_time": "2022-11-08T19:13:59.051Z"
   },
   {
    "duration": 120,
    "start_time": "2022-11-08T19:13:59.185Z"
   },
   {
    "duration": 343,
    "start_time": "2022-11-08T19:13:59.307Z"
   },
   {
    "duration": 131,
    "start_time": "2022-11-08T19:13:59.651Z"
   },
   {
    "duration": 116,
    "start_time": "2022-11-08T19:13:59.784Z"
   },
   {
    "duration": 14,
    "start_time": "2022-11-08T19:13:59.902Z"
   },
   {
    "duration": 15,
    "start_time": "2022-11-08T19:13:59.917Z"
   },
   {
    "duration": 19,
    "start_time": "2022-11-08T19:13:59.933Z"
   },
   {
    "duration": 12,
    "start_time": "2022-11-08T19:13:59.953Z"
   },
   {
    "duration": 118,
    "start_time": "2022-11-08T19:13:59.966Z"
   },
   {
    "duration": 0,
    "start_time": "2022-11-08T19:14:00.085Z"
   },
   {
    "duration": 10,
    "start_time": "2022-11-08T19:17:34.381Z"
   },
   {
    "duration": 14,
    "start_time": "2022-11-08T19:17:51.913Z"
   },
   {
    "duration": 12,
    "start_time": "2022-11-08T19:18:23.364Z"
   },
   {
    "duration": 13,
    "start_time": "2022-11-08T19:19:25.373Z"
   },
   {
    "duration": 1070,
    "start_time": "2022-11-08T19:24:02.708Z"
   },
   {
    "duration": 67,
    "start_time": "2022-11-08T19:24:03.780Z"
   },
   {
    "duration": 13,
    "start_time": "2022-11-08T19:24:03.849Z"
   },
   {
    "duration": 29,
    "start_time": "2022-11-08T19:24:03.863Z"
   },
   {
    "duration": 2,
    "start_time": "2022-11-08T19:24:03.895Z"
   },
   {
    "duration": 14,
    "start_time": "2022-11-08T19:24:03.899Z"
   },
   {
    "duration": 16,
    "start_time": "2022-11-08T19:24:03.915Z"
   },
   {
    "duration": 17,
    "start_time": "2022-11-08T19:24:03.932Z"
   },
   {
    "duration": 14,
    "start_time": "2022-11-08T19:24:03.950Z"
   },
   {
    "duration": 4,
    "start_time": "2022-11-08T19:24:03.966Z"
   },
   {
    "duration": 11,
    "start_time": "2022-11-08T19:24:03.971Z"
   },
   {
    "duration": 10,
    "start_time": "2022-11-08T19:24:03.984Z"
   },
   {
    "duration": 7,
    "start_time": "2022-11-08T19:24:03.995Z"
   },
   {
    "duration": 9,
    "start_time": "2022-11-08T19:24:04.004Z"
   },
   {
    "duration": 13,
    "start_time": "2022-11-08T19:24:04.015Z"
   },
   {
    "duration": 556,
    "start_time": "2022-11-08T19:24:04.029Z"
   },
   {
    "duration": 12,
    "start_time": "2022-11-08T19:24:04.586Z"
   },
   {
    "duration": 5,
    "start_time": "2022-11-08T19:24:04.600Z"
   },
   {
    "duration": 15,
    "start_time": "2022-11-08T19:24:04.607Z"
   },
   {
    "duration": 7,
    "start_time": "2022-11-08T19:24:04.623Z"
   },
   {
    "duration": 25,
    "start_time": "2022-11-08T19:24:04.632Z"
   },
   {
    "duration": 13,
    "start_time": "2022-11-08T19:24:04.659Z"
   },
   {
    "duration": 21,
    "start_time": "2022-11-08T19:24:04.673Z"
   },
   {
    "duration": 5,
    "start_time": "2022-11-08T19:24:04.695Z"
   },
   {
    "duration": 6,
    "start_time": "2022-11-08T19:24:04.702Z"
   },
   {
    "duration": 22,
    "start_time": "2022-11-08T19:24:04.710Z"
   },
   {
    "duration": 241,
    "start_time": "2022-11-08T19:24:04.733Z"
   },
   {
    "duration": 245,
    "start_time": "2022-11-08T19:24:04.976Z"
   },
   {
    "duration": 35,
    "start_time": "2022-11-08T19:24:05.223Z"
   },
   {
    "duration": 445,
    "start_time": "2022-11-08T19:24:05.260Z"
   },
   {
    "duration": 14,
    "start_time": "2022-11-08T19:24:05.707Z"
   },
   {
    "duration": 6,
    "start_time": "2022-11-08T19:24:05.722Z"
   },
   {
    "duration": 127,
    "start_time": "2022-11-08T19:24:05.729Z"
   },
   {
    "duration": 14,
    "start_time": "2022-11-08T19:24:05.858Z"
   },
   {
    "duration": 147,
    "start_time": "2022-11-08T19:24:05.873Z"
   },
   {
    "duration": 139,
    "start_time": "2022-11-08T19:24:06.022Z"
   },
   {
    "duration": 192,
    "start_time": "2022-11-08T19:24:06.163Z"
   },
   {
    "duration": 141,
    "start_time": "2022-11-08T19:24:06.356Z"
   },
   {
    "duration": 132,
    "start_time": "2022-11-08T19:24:06.498Z"
   },
   {
    "duration": 127,
    "start_time": "2022-11-08T19:24:06.632Z"
   },
   {
    "duration": 207,
    "start_time": "2022-11-08T19:24:06.764Z"
   },
   {
    "duration": 221,
    "start_time": "2022-11-08T19:24:06.972Z"
   },
   {
    "duration": 35,
    "start_time": "2022-11-08T19:24:07.194Z"
   },
   {
    "duration": 176,
    "start_time": "2022-11-08T19:24:07.231Z"
   },
   {
    "duration": 126,
    "start_time": "2022-11-08T19:24:07.409Z"
   },
   {
    "duration": 21,
    "start_time": "2022-11-08T19:24:07.537Z"
   },
   {
    "duration": 141,
    "start_time": "2022-11-08T19:24:07.560Z"
   },
   {
    "duration": 335,
    "start_time": "2022-11-08T19:24:07.702Z"
   },
   {
    "duration": 343,
    "start_time": "2022-11-08T19:24:08.039Z"
   },
   {
    "duration": 12,
    "start_time": "2022-11-08T19:24:08.384Z"
   },
   {
    "duration": 14,
    "start_time": "2022-11-08T19:24:08.398Z"
   },
   {
    "duration": 11,
    "start_time": "2022-11-08T19:24:08.414Z"
   },
   {
    "duration": 33,
    "start_time": "2022-11-08T19:24:08.427Z"
   },
   {
    "duration": 13,
    "start_time": "2022-11-08T19:24:08.462Z"
   },
   {
    "duration": 13,
    "start_time": "2022-11-08T19:24:08.476Z"
   },
   {
    "duration": 348,
    "start_time": "2022-11-08T19:24:08.490Z"
   },
   {
    "duration": 159,
    "start_time": "2022-11-08T19:24:08.840Z"
   },
   {
    "duration": 136,
    "start_time": "2022-11-08T19:24:09.000Z"
   },
   {
    "duration": 298,
    "start_time": "2022-11-08T19:24:09.138Z"
   },
   {
    "duration": 134,
    "start_time": "2022-11-08T19:24:09.437Z"
   },
   {
    "duration": 127,
    "start_time": "2022-11-08T19:24:09.573Z"
   },
   {
    "duration": 307,
    "start_time": "2022-11-08T19:24:09.702Z"
   },
   {
    "duration": 134,
    "start_time": "2022-11-08T19:24:10.010Z"
   },
   {
    "duration": 123,
    "start_time": "2022-11-08T19:24:10.148Z"
   },
   {
    "duration": 16,
    "start_time": "2022-11-08T19:24:10.273Z"
   },
   {
    "duration": 11,
    "start_time": "2022-11-08T19:24:10.291Z"
   },
   {
    "duration": 10,
    "start_time": "2022-11-08T19:24:10.304Z"
   },
   {
    "duration": 40,
    "start_time": "2022-11-08T19:24:10.316Z"
   },
   {
    "duration": 27,
    "start_time": "2022-11-08T19:24:10.358Z"
   },
   {
    "duration": 16,
    "start_time": "2022-11-08T19:24:10.387Z"
   },
   {
    "duration": 10,
    "start_time": "2022-11-08T19:25:37.713Z"
   },
   {
    "duration": 1066,
    "start_time": "2022-11-08T19:26:38.583Z"
   },
   {
    "duration": 65,
    "start_time": "2022-11-08T19:26:39.651Z"
   },
   {
    "duration": 13,
    "start_time": "2022-11-08T19:26:39.717Z"
   },
   {
    "duration": 29,
    "start_time": "2022-11-08T19:26:39.732Z"
   },
   {
    "duration": 3,
    "start_time": "2022-11-08T19:26:39.763Z"
   },
   {
    "duration": 13,
    "start_time": "2022-11-08T19:26:39.767Z"
   },
   {
    "duration": 5,
    "start_time": "2022-11-08T19:26:39.781Z"
   },
   {
    "duration": 6,
    "start_time": "2022-11-08T19:26:39.787Z"
   },
   {
    "duration": 17,
    "start_time": "2022-11-08T19:26:39.794Z"
   },
   {
    "duration": 3,
    "start_time": "2022-11-08T19:26:39.814Z"
   },
   {
    "duration": 34,
    "start_time": "2022-11-08T19:26:39.819Z"
   },
   {
    "duration": 4,
    "start_time": "2022-11-08T19:26:39.855Z"
   },
   {
    "duration": 7,
    "start_time": "2022-11-08T19:26:39.860Z"
   },
   {
    "duration": 6,
    "start_time": "2022-11-08T19:26:39.868Z"
   },
   {
    "duration": 8,
    "start_time": "2022-11-08T19:26:39.876Z"
   },
   {
    "duration": 621,
    "start_time": "2022-11-08T19:26:39.886Z"
   },
   {
    "duration": 11,
    "start_time": "2022-11-08T19:26:40.508Z"
   },
   {
    "duration": 3,
    "start_time": "2022-11-08T19:26:40.521Z"
   },
   {
    "duration": 22,
    "start_time": "2022-11-08T19:26:40.526Z"
   },
   {
    "duration": 3,
    "start_time": "2022-11-08T19:26:40.549Z"
   },
   {
    "duration": 14,
    "start_time": "2022-11-08T19:26:40.554Z"
   },
   {
    "duration": 7,
    "start_time": "2022-11-08T19:26:40.570Z"
   },
   {
    "duration": 15,
    "start_time": "2022-11-08T19:26:40.579Z"
   },
   {
    "duration": 6,
    "start_time": "2022-11-08T19:26:40.595Z"
   },
   {
    "duration": 5,
    "start_time": "2022-11-08T19:26:40.603Z"
   },
   {
    "duration": 54,
    "start_time": "2022-11-08T19:26:40.610Z"
   },
   {
    "duration": 224,
    "start_time": "2022-11-08T19:26:40.666Z"
   },
   {
    "duration": 243,
    "start_time": "2022-11-08T19:26:40.895Z"
   },
   {
    "duration": 25,
    "start_time": "2022-11-08T19:26:41.139Z"
   },
   {
    "duration": 423,
    "start_time": "2022-11-08T19:26:41.165Z"
   },
   {
    "duration": 14,
    "start_time": "2022-11-08T19:26:41.590Z"
   },
   {
    "duration": 6,
    "start_time": "2022-11-08T19:26:41.606Z"
   },
   {
    "duration": 124,
    "start_time": "2022-11-08T19:26:41.614Z"
   },
   {
    "duration": 20,
    "start_time": "2022-11-08T19:26:41.739Z"
   },
   {
    "duration": 137,
    "start_time": "2022-11-08T19:26:41.761Z"
   },
   {
    "duration": 132,
    "start_time": "2022-11-08T19:26:41.900Z"
   },
   {
    "duration": 185,
    "start_time": "2022-11-08T19:26:42.033Z"
   },
   {
    "duration": 135,
    "start_time": "2022-11-08T19:26:42.220Z"
   },
   {
    "duration": 130,
    "start_time": "2022-11-08T19:26:42.357Z"
   },
   {
    "duration": 121,
    "start_time": "2022-11-08T19:26:42.488Z"
   },
   {
    "duration": 209,
    "start_time": "2022-11-08T19:26:42.610Z"
   },
   {
    "duration": 229,
    "start_time": "2022-11-08T19:26:42.821Z"
   },
   {
    "duration": 28,
    "start_time": "2022-11-08T19:26:43.051Z"
   },
   {
    "duration": 141,
    "start_time": "2022-11-08T19:26:43.080Z"
   },
   {
    "duration": 133,
    "start_time": "2022-11-08T19:26:43.222Z"
   },
   {
    "duration": 16,
    "start_time": "2022-11-08T19:26:43.356Z"
   },
   {
    "duration": 149,
    "start_time": "2022-11-08T19:26:43.374Z"
   },
   {
    "duration": 338,
    "start_time": "2022-11-08T19:26:43.524Z"
   },
   {
    "duration": 341,
    "start_time": "2022-11-08T19:26:43.863Z"
   },
   {
    "duration": 14,
    "start_time": "2022-11-08T19:26:44.206Z"
   },
   {
    "duration": 18,
    "start_time": "2022-11-08T19:26:44.222Z"
   },
   {
    "duration": 12,
    "start_time": "2022-11-08T19:26:44.248Z"
   },
   {
    "duration": 17,
    "start_time": "2022-11-08T19:26:44.262Z"
   },
   {
    "duration": 13,
    "start_time": "2022-11-08T19:26:44.280Z"
   },
   {
    "duration": 21,
    "start_time": "2022-11-08T19:26:44.295Z"
   },
   {
    "duration": 321,
    "start_time": "2022-11-08T19:26:44.317Z"
   },
   {
    "duration": 169,
    "start_time": "2022-11-08T19:26:44.640Z"
   },
   {
    "duration": 140,
    "start_time": "2022-11-08T19:26:44.810Z"
   },
   {
    "duration": 289,
    "start_time": "2022-11-08T19:26:44.951Z"
   },
   {
    "duration": 137,
    "start_time": "2022-11-08T19:26:45.241Z"
   },
   {
    "duration": 168,
    "start_time": "2022-11-08T19:26:45.380Z"
   },
   {
    "duration": 280,
    "start_time": "2022-11-08T19:26:45.550Z"
   },
   {
    "duration": 133,
    "start_time": "2022-11-08T19:26:45.831Z"
   },
   {
    "duration": 118,
    "start_time": "2022-11-08T19:26:45.965Z"
   },
   {
    "duration": 14,
    "start_time": "2022-11-08T19:26:46.085Z"
   },
   {
    "duration": 11,
    "start_time": "2022-11-08T19:26:46.100Z"
   },
   {
    "duration": 9,
    "start_time": "2022-11-08T19:26:46.113Z"
   },
   {
    "duration": 32,
    "start_time": "2022-11-08T19:26:46.124Z"
   },
   {
    "duration": 10,
    "start_time": "2022-11-08T19:26:46.157Z"
   },
   {
    "duration": 14,
    "start_time": "2022-11-08T19:26:46.168Z"
   },
   {
    "duration": 10,
    "start_time": "2022-11-08T19:28:10.219Z"
   },
   {
    "duration": 10,
    "start_time": "2022-11-08T19:28:34.256Z"
   },
   {
    "duration": 9,
    "start_time": "2022-11-08T19:29:26.943Z"
   },
   {
    "duration": 9,
    "start_time": "2022-11-08T19:29:38.824Z"
   },
   {
    "duration": 108,
    "start_time": "2022-11-08T19:30:38.274Z"
   },
   {
    "duration": 10,
    "start_time": "2022-11-08T19:30:51.457Z"
   },
   {
    "duration": 1125,
    "start_time": "2022-11-08T19:33:08.916Z"
   },
   {
    "duration": 65,
    "start_time": "2022-11-08T19:33:10.043Z"
   },
   {
    "duration": 12,
    "start_time": "2022-11-08T19:33:10.110Z"
   },
   {
    "duration": 25,
    "start_time": "2022-11-08T19:33:10.123Z"
   },
   {
    "duration": 3,
    "start_time": "2022-11-08T19:33:10.150Z"
   },
   {
    "duration": 14,
    "start_time": "2022-11-08T19:33:10.154Z"
   },
   {
    "duration": 6,
    "start_time": "2022-11-08T19:33:10.169Z"
   },
   {
    "duration": 6,
    "start_time": "2022-11-08T19:33:10.177Z"
   },
   {
    "duration": 15,
    "start_time": "2022-11-08T19:33:10.185Z"
   },
   {
    "duration": 5,
    "start_time": "2022-11-08T19:33:10.202Z"
   },
   {
    "duration": 20,
    "start_time": "2022-11-08T19:33:10.208Z"
   },
   {
    "duration": 18,
    "start_time": "2022-11-08T19:33:10.230Z"
   },
   {
    "duration": 6,
    "start_time": "2022-11-08T19:33:10.249Z"
   },
   {
    "duration": 5,
    "start_time": "2022-11-08T19:33:10.257Z"
   },
   {
    "duration": 9,
    "start_time": "2022-11-08T19:33:10.264Z"
   },
   {
    "duration": 606,
    "start_time": "2022-11-08T19:33:10.275Z"
   },
   {
    "duration": 13,
    "start_time": "2022-11-08T19:33:10.883Z"
   },
   {
    "duration": 3,
    "start_time": "2022-11-08T19:33:10.898Z"
   },
   {
    "duration": 12,
    "start_time": "2022-11-08T19:33:10.902Z"
   },
   {
    "duration": 3,
    "start_time": "2022-11-08T19:33:10.916Z"
   },
   {
    "duration": 35,
    "start_time": "2022-11-08T19:33:10.920Z"
   },
   {
    "duration": 7,
    "start_time": "2022-11-08T19:33:10.956Z"
   },
   {
    "duration": 14,
    "start_time": "2022-11-08T19:33:10.964Z"
   },
   {
    "duration": 5,
    "start_time": "2022-11-08T19:33:10.979Z"
   },
   {
    "duration": 8,
    "start_time": "2022-11-08T19:33:10.986Z"
   },
   {
    "duration": 22,
    "start_time": "2022-11-08T19:33:10.995Z"
   },
   {
    "duration": 220,
    "start_time": "2022-11-08T19:33:11.049Z"
   },
   {
    "duration": 231,
    "start_time": "2022-11-08T19:33:11.270Z"
   },
   {
    "duration": 22,
    "start_time": "2022-11-08T19:33:11.503Z"
   },
   {
    "duration": 434,
    "start_time": "2022-11-08T19:33:11.527Z"
   },
   {
    "duration": 14,
    "start_time": "2022-11-08T19:33:11.963Z"
   },
   {
    "duration": 5,
    "start_time": "2022-11-08T19:33:11.979Z"
   },
   {
    "duration": 123,
    "start_time": "2022-11-08T19:33:11.986Z"
   },
   {
    "duration": 13,
    "start_time": "2022-11-08T19:33:12.111Z"
   },
   {
    "duration": 144,
    "start_time": "2022-11-08T19:33:12.126Z"
   },
   {
    "duration": 135,
    "start_time": "2022-11-08T19:33:12.272Z"
   },
   {
    "duration": 197,
    "start_time": "2022-11-08T19:33:12.409Z"
   },
   {
    "duration": 134,
    "start_time": "2022-11-08T19:33:12.608Z"
   },
   {
    "duration": 130,
    "start_time": "2022-11-08T19:33:12.748Z"
   },
   {
    "duration": 122,
    "start_time": "2022-11-08T19:33:12.880Z"
   },
   {
    "duration": 222,
    "start_time": "2022-11-08T19:33:13.006Z"
   },
   {
    "duration": 230,
    "start_time": "2022-11-08T19:33:13.229Z"
   },
   {
    "duration": 29,
    "start_time": "2022-11-08T19:33:13.461Z"
   },
   {
    "duration": 150,
    "start_time": "2022-11-08T19:33:13.492Z"
   },
   {
    "duration": 122,
    "start_time": "2022-11-08T19:33:13.647Z"
   },
   {
    "duration": 14,
    "start_time": "2022-11-08T19:33:13.771Z"
   },
   {
    "duration": 155,
    "start_time": "2022-11-08T19:33:13.787Z"
   },
   {
    "duration": 344,
    "start_time": "2022-11-08T19:33:13.943Z"
   },
   {
    "duration": 346,
    "start_time": "2022-11-08T19:33:14.288Z"
   },
   {
    "duration": 18,
    "start_time": "2022-11-08T19:33:14.636Z"
   },
   {
    "duration": 15,
    "start_time": "2022-11-08T19:33:14.656Z"
   },
   {
    "duration": 12,
    "start_time": "2022-11-08T19:33:14.673Z"
   },
   {
    "duration": 15,
    "start_time": "2022-11-08T19:33:14.686Z"
   },
   {
    "duration": 13,
    "start_time": "2022-11-08T19:33:14.703Z"
   },
   {
    "duration": 45,
    "start_time": "2022-11-08T19:33:14.717Z"
   },
   {
    "duration": 294,
    "start_time": "2022-11-08T19:33:14.764Z"
   },
   {
    "duration": 137,
    "start_time": "2022-11-08T19:33:15.060Z"
   },
   {
    "duration": 182,
    "start_time": "2022-11-08T19:33:15.199Z"
   },
   {
    "duration": 315,
    "start_time": "2022-11-08T19:33:15.382Z"
   },
   {
    "duration": 170,
    "start_time": "2022-11-08T19:33:15.698Z"
   },
   {
    "duration": 151,
    "start_time": "2022-11-08T19:33:15.870Z"
   },
   {
    "duration": 319,
    "start_time": "2022-11-08T19:33:16.023Z"
   },
   {
    "duration": 135,
    "start_time": "2022-11-08T19:33:16.348Z"
   },
   {
    "duration": 125,
    "start_time": "2022-11-08T19:33:16.485Z"
   },
   {
    "duration": 14,
    "start_time": "2022-11-08T19:33:16.611Z"
   },
   {
    "duration": 24,
    "start_time": "2022-11-08T19:33:16.627Z"
   },
   {
    "duration": 11,
    "start_time": "2022-11-08T19:33:16.653Z"
   },
   {
    "duration": 15,
    "start_time": "2022-11-08T19:33:16.666Z"
   },
   {
    "duration": 14,
    "start_time": "2022-11-08T19:33:16.682Z"
   },
   {
    "duration": 9,
    "start_time": "2022-11-08T19:33:16.698Z"
   },
   {
    "duration": 118,
    "start_time": "2022-11-08T19:33:35.291Z"
   },
   {
    "duration": 1057,
    "start_time": "2022-11-08T19:33:46.600Z"
   },
   {
    "duration": 69,
    "start_time": "2022-11-08T19:33:47.658Z"
   },
   {
    "duration": 16,
    "start_time": "2022-11-08T19:33:47.728Z"
   },
   {
    "duration": 28,
    "start_time": "2022-11-08T19:33:47.746Z"
   },
   {
    "duration": 3,
    "start_time": "2022-11-08T19:33:47.776Z"
   },
   {
    "duration": 18,
    "start_time": "2022-11-08T19:33:47.780Z"
   },
   {
    "duration": 6,
    "start_time": "2022-11-08T19:33:47.799Z"
   },
   {
    "duration": 7,
    "start_time": "2022-11-08T19:33:47.807Z"
   },
   {
    "duration": 32,
    "start_time": "2022-11-08T19:33:47.816Z"
   },
   {
    "duration": 5,
    "start_time": "2022-11-08T19:33:47.849Z"
   },
   {
    "duration": 10,
    "start_time": "2022-11-08T19:33:47.855Z"
   },
   {
    "duration": 6,
    "start_time": "2022-11-08T19:33:47.866Z"
   },
   {
    "duration": 9,
    "start_time": "2022-11-08T19:33:47.874Z"
   },
   {
    "duration": 6,
    "start_time": "2022-11-08T19:33:47.886Z"
   },
   {
    "duration": 11,
    "start_time": "2022-11-08T19:33:47.893Z"
   },
   {
    "duration": 567,
    "start_time": "2022-11-08T19:33:47.905Z"
   },
   {
    "duration": 12,
    "start_time": "2022-11-08T19:33:48.473Z"
   },
   {
    "duration": 5,
    "start_time": "2022-11-08T19:33:48.486Z"
   },
   {
    "duration": 17,
    "start_time": "2022-11-08T19:33:48.492Z"
   },
   {
    "duration": 8,
    "start_time": "2022-11-08T19:33:48.510Z"
   },
   {
    "duration": 13,
    "start_time": "2022-11-08T19:33:48.520Z"
   },
   {
    "duration": 16,
    "start_time": "2022-11-08T19:33:48.535Z"
   },
   {
    "duration": 13,
    "start_time": "2022-11-08T19:33:48.552Z"
   },
   {
    "duration": 4,
    "start_time": "2022-11-08T19:33:48.567Z"
   },
   {
    "duration": 7,
    "start_time": "2022-11-08T19:33:48.573Z"
   },
   {
    "duration": 23,
    "start_time": "2022-11-08T19:33:48.582Z"
   },
   {
    "duration": 244,
    "start_time": "2022-11-08T19:33:48.607Z"
   },
   {
    "duration": 236,
    "start_time": "2022-11-08T19:33:48.853Z"
   },
   {
    "duration": 19,
    "start_time": "2022-11-08T19:33:49.090Z"
   },
   {
    "duration": 430,
    "start_time": "2022-11-08T19:33:49.110Z"
   },
   {
    "duration": 17,
    "start_time": "2022-11-08T19:33:49.542Z"
   },
   {
    "duration": 5,
    "start_time": "2022-11-08T19:33:49.560Z"
   },
   {
    "duration": 118,
    "start_time": "2022-11-08T19:33:49.566Z"
   },
   {
    "duration": 14,
    "start_time": "2022-11-08T19:33:49.687Z"
   },
   {
    "duration": 138,
    "start_time": "2022-11-08T19:33:49.703Z"
   },
   {
    "duration": 136,
    "start_time": "2022-11-08T19:33:49.848Z"
   },
   {
    "duration": 195,
    "start_time": "2022-11-08T19:33:49.985Z"
   },
   {
    "duration": 143,
    "start_time": "2022-11-08T19:33:50.182Z"
   },
   {
    "duration": 130,
    "start_time": "2022-11-08T19:33:50.327Z"
   },
   {
    "duration": 116,
    "start_time": "2022-11-08T19:33:50.459Z"
   },
   {
    "duration": 217,
    "start_time": "2022-11-08T19:33:50.579Z"
   },
   {
    "duration": 215,
    "start_time": "2022-11-08T19:33:50.798Z"
   },
   {
    "duration": 38,
    "start_time": "2022-11-08T19:33:51.014Z"
   },
   {
    "duration": 148,
    "start_time": "2022-11-08T19:33:51.054Z"
   },
   {
    "duration": 145,
    "start_time": "2022-11-08T19:33:51.203Z"
   },
   {
    "duration": 17,
    "start_time": "2022-11-08T19:33:51.349Z"
   },
   {
    "duration": 160,
    "start_time": "2022-11-08T19:33:51.367Z"
   },
   {
    "duration": 356,
    "start_time": "2022-11-08T19:33:51.529Z"
   },
   {
    "duration": 355,
    "start_time": "2022-11-08T19:33:51.887Z"
   },
   {
    "duration": 15,
    "start_time": "2022-11-08T19:33:52.244Z"
   },
   {
    "duration": 15,
    "start_time": "2022-11-08T19:33:52.260Z"
   },
   {
    "duration": 11,
    "start_time": "2022-11-08T19:33:52.277Z"
   },
   {
    "duration": 11,
    "start_time": "2022-11-08T19:33:52.290Z"
   },
   {
    "duration": 11,
    "start_time": "2022-11-08T19:33:52.303Z"
   },
   {
    "duration": 42,
    "start_time": "2022-11-08T19:33:52.315Z"
   },
   {
    "duration": 279,
    "start_time": "2022-11-08T19:33:52.359Z"
   },
   {
    "duration": 152,
    "start_time": "2022-11-08T19:33:52.639Z"
   },
   {
    "duration": 125,
    "start_time": "2022-11-08T19:33:52.793Z"
   },
   {
    "duration": 303,
    "start_time": "2022-11-08T19:33:52.920Z"
   },
   {
    "duration": 147,
    "start_time": "2022-11-08T19:33:53.225Z"
   },
   {
    "duration": 119,
    "start_time": "2022-11-08T19:33:53.374Z"
   },
   {
    "duration": 280,
    "start_time": "2022-11-08T19:33:53.494Z"
   },
   {
    "duration": 132,
    "start_time": "2022-11-08T19:33:53.775Z"
   },
   {
    "duration": 118,
    "start_time": "2022-11-08T19:33:53.909Z"
   },
   {
    "duration": 27,
    "start_time": "2022-11-08T19:33:54.028Z"
   },
   {
    "duration": 12,
    "start_time": "2022-11-08T19:33:54.056Z"
   },
   {
    "duration": 9,
    "start_time": "2022-11-08T19:33:54.070Z"
   },
   {
    "duration": 9,
    "start_time": "2022-11-08T19:33:54.080Z"
   },
   {
    "duration": 10,
    "start_time": "2022-11-08T19:33:54.090Z"
   },
   {
    "duration": 122,
    "start_time": "2022-11-08T19:33:54.101Z"
   },
   {
    "duration": 10,
    "start_time": "2022-11-08T19:41:07.154Z"
   },
   {
    "duration": 1049,
    "start_time": "2022-11-08T19:43:36.417Z"
   },
   {
    "duration": 63,
    "start_time": "2022-11-08T19:43:37.468Z"
   },
   {
    "duration": 13,
    "start_time": "2022-11-08T19:43:37.532Z"
   },
   {
    "duration": 26,
    "start_time": "2022-11-08T19:43:37.547Z"
   },
   {
    "duration": 3,
    "start_time": "2022-11-08T19:43:37.575Z"
   },
   {
    "duration": 17,
    "start_time": "2022-11-08T19:43:37.579Z"
   },
   {
    "duration": 7,
    "start_time": "2022-11-08T19:43:37.597Z"
   },
   {
    "duration": 11,
    "start_time": "2022-11-08T19:43:37.606Z"
   },
   {
    "duration": 32,
    "start_time": "2022-11-08T19:43:37.618Z"
   },
   {
    "duration": 5,
    "start_time": "2022-11-08T19:43:37.652Z"
   },
   {
    "duration": 12,
    "start_time": "2022-11-08T19:43:37.658Z"
   },
   {
    "duration": 4,
    "start_time": "2022-11-08T19:43:37.672Z"
   },
   {
    "duration": 7,
    "start_time": "2022-11-08T19:43:37.677Z"
   },
   {
    "duration": 5,
    "start_time": "2022-11-08T19:43:37.687Z"
   },
   {
    "duration": 10,
    "start_time": "2022-11-08T19:43:37.694Z"
   },
   {
    "duration": 591,
    "start_time": "2022-11-08T19:43:37.706Z"
   },
   {
    "duration": 11,
    "start_time": "2022-11-08T19:43:38.299Z"
   },
   {
    "duration": 7,
    "start_time": "2022-11-08T19:43:38.311Z"
   },
   {
    "duration": 8,
    "start_time": "2022-11-08T19:43:38.320Z"
   },
   {
    "duration": 3,
    "start_time": "2022-11-08T19:43:38.330Z"
   },
   {
    "duration": 12,
    "start_time": "2022-11-08T19:43:38.348Z"
   },
   {
    "duration": 6,
    "start_time": "2022-11-08T19:43:38.361Z"
   },
   {
    "duration": 16,
    "start_time": "2022-11-08T19:43:38.369Z"
   },
   {
    "duration": 5,
    "start_time": "2022-11-08T19:43:38.387Z"
   },
   {
    "duration": 9,
    "start_time": "2022-11-08T19:43:38.394Z"
   },
   {
    "duration": 45,
    "start_time": "2022-11-08T19:43:38.405Z"
   },
   {
    "duration": 231,
    "start_time": "2022-11-08T19:43:38.452Z"
   },
   {
    "duration": 224,
    "start_time": "2022-11-08T19:43:38.684Z"
   },
   {
    "duration": 19,
    "start_time": "2022-11-08T19:43:38.910Z"
   },
   {
    "duration": 436,
    "start_time": "2022-11-08T19:43:38.930Z"
   },
   {
    "duration": 21,
    "start_time": "2022-11-08T19:43:39.367Z"
   },
   {
    "duration": 6,
    "start_time": "2022-11-08T19:43:39.390Z"
   },
   {
    "duration": 129,
    "start_time": "2022-11-08T19:43:39.398Z"
   },
   {
    "duration": 25,
    "start_time": "2022-11-08T19:43:39.528Z"
   },
   {
    "duration": 150,
    "start_time": "2022-11-08T19:43:39.554Z"
   },
   {
    "duration": 156,
    "start_time": "2022-11-08T19:43:39.705Z"
   },
   {
    "duration": 203,
    "start_time": "2022-11-08T19:43:39.863Z"
   },
   {
    "duration": 139,
    "start_time": "2022-11-08T19:43:40.067Z"
   },
   {
    "duration": 150,
    "start_time": "2022-11-08T19:43:40.208Z"
   },
   {
    "duration": 117,
    "start_time": "2022-11-08T19:43:40.359Z"
   },
   {
    "duration": 208,
    "start_time": "2022-11-08T19:43:40.480Z"
   },
   {
    "duration": 244,
    "start_time": "2022-11-08T19:43:40.690Z"
   },
   {
    "duration": 32,
    "start_time": "2022-11-08T19:43:40.935Z"
   },
   {
    "duration": 141,
    "start_time": "2022-11-08T19:43:40.968Z"
   },
   {
    "duration": 126,
    "start_time": "2022-11-08T19:43:41.111Z"
   },
   {
    "duration": 22,
    "start_time": "2022-11-08T19:43:41.238Z"
   },
   {
    "duration": 160,
    "start_time": "2022-11-08T19:43:41.261Z"
   },
   {
    "duration": 364,
    "start_time": "2022-11-08T19:43:41.423Z"
   },
   {
    "duration": 359,
    "start_time": "2022-11-08T19:43:41.788Z"
   },
   {
    "duration": 14,
    "start_time": "2022-11-08T19:43:42.149Z"
   },
   {
    "duration": 15,
    "start_time": "2022-11-08T19:43:42.164Z"
   },
   {
    "duration": 19,
    "start_time": "2022-11-08T19:43:42.181Z"
   },
   {
    "duration": 16,
    "start_time": "2022-11-08T19:43:42.202Z"
   },
   {
    "duration": 36,
    "start_time": "2022-11-08T19:43:42.219Z"
   },
   {
    "duration": 24,
    "start_time": "2022-11-08T19:43:42.256Z"
   },
   {
    "duration": 312,
    "start_time": "2022-11-08T19:43:42.282Z"
   },
   {
    "duration": 166,
    "start_time": "2022-11-08T19:43:42.596Z"
   },
   {
    "duration": 140,
    "start_time": "2022-11-08T19:43:42.764Z"
   },
   {
    "duration": 324,
    "start_time": "2022-11-08T19:43:42.906Z"
   },
   {
    "duration": 152,
    "start_time": "2022-11-08T19:43:43.232Z"
   },
   {
    "duration": 125,
    "start_time": "2022-11-08T19:43:43.386Z"
   },
   {
    "duration": 359,
    "start_time": "2022-11-08T19:43:43.512Z"
   },
   {
    "duration": 134,
    "start_time": "2022-11-08T19:43:43.873Z"
   },
   {
    "duration": 131,
    "start_time": "2022-11-08T19:43:44.009Z"
   },
   {
    "duration": 18,
    "start_time": "2022-11-08T19:43:44.142Z"
   },
   {
    "duration": 9,
    "start_time": "2022-11-08T19:43:44.162Z"
   },
   {
    "duration": 18,
    "start_time": "2022-11-08T19:43:44.173Z"
   },
   {
    "duration": 11,
    "start_time": "2022-11-08T19:43:44.192Z"
   },
   {
    "duration": 10,
    "start_time": "2022-11-08T19:43:44.205Z"
   },
   {
    "duration": 35,
    "start_time": "2022-11-08T19:43:44.217Z"
   },
   {
    "duration": 1127,
    "start_time": "2022-11-08T19:49:28.715Z"
   },
   {
    "duration": 1281,
    "start_time": "2022-11-09T13:09:28.882Z"
   },
   {
    "duration": 69,
    "start_time": "2022-11-09T13:09:30.165Z"
   },
   {
    "duration": 22,
    "start_time": "2022-11-09T13:09:30.236Z"
   },
   {
    "duration": 61,
    "start_time": "2022-11-09T13:09:30.260Z"
   },
   {
    "duration": 4,
    "start_time": "2022-11-09T13:09:30.324Z"
   },
   {
    "duration": 22,
    "start_time": "2022-11-09T13:09:30.330Z"
   },
   {
    "duration": 18,
    "start_time": "2022-11-09T13:09:30.354Z"
   },
   {
    "duration": 14,
    "start_time": "2022-11-09T13:09:30.373Z"
   },
   {
    "duration": 29,
    "start_time": "2022-11-09T13:09:30.388Z"
   },
   {
    "duration": 7,
    "start_time": "2022-11-09T13:09:30.419Z"
   },
   {
    "duration": 22,
    "start_time": "2022-11-09T13:09:30.428Z"
   },
   {
    "duration": 16,
    "start_time": "2022-11-09T13:09:30.452Z"
   },
   {
    "duration": 30,
    "start_time": "2022-11-09T13:09:30.470Z"
   },
   {
    "duration": 42,
    "start_time": "2022-11-09T13:09:30.504Z"
   },
   {
    "duration": 24,
    "start_time": "2022-11-09T13:09:30.548Z"
   },
   {
    "duration": 645,
    "start_time": "2022-11-09T13:09:30.574Z"
   },
   {
    "duration": 15,
    "start_time": "2022-11-09T13:09:31.220Z"
   },
   {
    "duration": 11,
    "start_time": "2022-11-09T13:09:31.237Z"
   },
   {
    "duration": 39,
    "start_time": "2022-11-09T13:09:31.249Z"
   },
   {
    "duration": 22,
    "start_time": "2022-11-09T13:09:31.290Z"
   },
   {
    "duration": 31,
    "start_time": "2022-11-09T13:09:31.313Z"
   },
   {
    "duration": 19,
    "start_time": "2022-11-09T13:09:31.345Z"
   },
   {
    "duration": 39,
    "start_time": "2022-11-09T13:09:31.366Z"
   },
   {
    "duration": 23,
    "start_time": "2022-11-09T13:09:31.408Z"
   },
   {
    "duration": 35,
    "start_time": "2022-11-09T13:09:31.433Z"
   },
   {
    "duration": 63,
    "start_time": "2022-11-09T13:09:31.470Z"
   },
   {
    "duration": 271,
    "start_time": "2022-11-09T13:09:31.535Z"
   },
   {
    "duration": 354,
    "start_time": "2022-11-09T13:09:31.808Z"
   },
   {
    "duration": 35,
    "start_time": "2022-11-09T13:09:32.164Z"
   },
   {
    "duration": 455,
    "start_time": "2022-11-09T13:09:32.200Z"
   },
   {
    "duration": 30,
    "start_time": "2022-11-09T13:09:32.657Z"
   },
   {
    "duration": 7,
    "start_time": "2022-11-09T13:09:32.688Z"
   },
   {
    "duration": 149,
    "start_time": "2022-11-09T13:09:32.697Z"
   },
   {
    "duration": 24,
    "start_time": "2022-11-09T13:09:32.848Z"
   },
   {
    "duration": 222,
    "start_time": "2022-11-09T13:09:32.874Z"
   },
   {
    "duration": 195,
    "start_time": "2022-11-09T13:09:33.098Z"
   },
   {
    "duration": 233,
    "start_time": "2022-11-09T13:09:33.295Z"
   },
   {
    "duration": 186,
    "start_time": "2022-11-09T13:09:33.530Z"
   },
   {
    "duration": 189,
    "start_time": "2022-11-09T13:09:33.718Z"
   },
   {
    "duration": 165,
    "start_time": "2022-11-09T13:09:33.909Z"
   },
   {
    "duration": 233,
    "start_time": "2022-11-09T13:09:34.079Z"
   },
   {
    "duration": 246,
    "start_time": "2022-11-09T13:09:34.314Z"
   },
   {
    "duration": 53,
    "start_time": "2022-11-09T13:09:34.563Z"
   },
   {
    "duration": 179,
    "start_time": "2022-11-09T13:09:34.618Z"
   },
   {
    "duration": 199,
    "start_time": "2022-11-09T13:09:34.799Z"
   },
   {
    "duration": 19,
    "start_time": "2022-11-09T13:09:35.001Z"
   },
   {
    "duration": 230,
    "start_time": "2022-11-09T13:09:35.023Z"
   },
   {
    "duration": 400,
    "start_time": "2022-11-09T13:09:35.254Z"
   },
   {
    "duration": 496,
    "start_time": "2022-11-09T13:09:35.656Z"
   },
   {
    "duration": 33,
    "start_time": "2022-11-09T13:09:36.154Z"
   },
   {
    "duration": 17,
    "start_time": "2022-11-09T13:09:36.190Z"
   },
   {
    "duration": 28,
    "start_time": "2022-11-09T13:09:36.210Z"
   },
   {
    "duration": 56,
    "start_time": "2022-11-09T13:09:36.241Z"
   },
   {
    "duration": 24,
    "start_time": "2022-11-09T13:09:36.299Z"
   },
   {
    "duration": 27,
    "start_time": "2022-11-09T13:09:36.326Z"
   },
   {
    "duration": 374,
    "start_time": "2022-11-09T13:09:36.355Z"
   },
   {
    "duration": 217,
    "start_time": "2022-11-09T13:09:36.731Z"
   },
   {
    "duration": 181,
    "start_time": "2022-11-09T13:09:36.950Z"
   },
   {
    "duration": 426,
    "start_time": "2022-11-09T13:09:37.133Z"
   },
   {
    "duration": 192,
    "start_time": "2022-11-09T13:09:37.562Z"
   },
   {
    "duration": 155,
    "start_time": "2022-11-09T13:09:37.756Z"
   },
   {
    "duration": 310,
    "start_time": "2022-11-09T13:09:37.913Z"
   },
   {
    "duration": 184,
    "start_time": "2022-11-09T13:09:38.225Z"
   },
   {
    "duration": 141,
    "start_time": "2022-11-09T13:09:38.410Z"
   },
   {
    "duration": 16,
    "start_time": "2022-11-09T13:09:38.553Z"
   },
   {
    "duration": 14,
    "start_time": "2022-11-09T13:09:38.585Z"
   },
   {
    "duration": 19,
    "start_time": "2022-11-09T13:09:38.601Z"
   },
   {
    "duration": 18,
    "start_time": "2022-11-09T13:09:38.622Z"
   },
   {
    "duration": 12,
    "start_time": "2022-11-09T13:09:38.642Z"
   },
   {
    "duration": 13,
    "start_time": "2022-11-09T13:09:38.684Z"
   }
  ],
  "kernelspec": {
   "display_name": "Python 3 (ipykernel)",
   "language": "python",
   "name": "python3"
  },
  "language_info": {
   "codemirror_mode": {
    "name": "ipython",
    "version": 3
   },
   "file_extension": ".py",
   "mimetype": "text/x-python",
   "name": "python",
   "nbconvert_exporter": "python",
   "pygments_lexer": "ipython3",
   "version": "3.9.12"
  },
  "toc": {
   "base_numbering": 1,
   "nav_menu": {},
   "number_sections": true,
   "sideBar": true,
   "skip_h1_title": true,
   "title_cell": "Table of Contents",
   "title_sidebar": "Contents",
   "toc_cell": false,
   "toc_position": {
    "height": "calc(100% - 180px)",
    "left": "10px",
    "top": "150px",
    "width": "165px"
   },
   "toc_section_display": true,
   "toc_window_display": true
  }
 },
 "nbformat": 4,
 "nbformat_minor": 2
}
