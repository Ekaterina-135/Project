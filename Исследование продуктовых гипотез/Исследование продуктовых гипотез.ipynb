{
 "cells": [
  {
   "cell_type": "markdown",
   "metadata": {},
   "source": [
    "# Исследование продуктовых гипотез"
   ]
  },
  {
   "cell_type": "markdown",
   "metadata": {},
   "source": [
    "Вместе с отделом маркетинга вы подготовили список гипотез для увеличения выручки.\n",
    "Приоритизируйте гипотезы, запустите A/B-тест и проанализируйте результаты. "
   ]
  },
  {
   "cell_type": "markdown",
   "metadata": {},
   "source": [
    "1. **Данные для первой части**\n",
    "*Файл /datasets/hypothesis.csv*\n",
    "* Hypothesis — краткое описание гипотезы;\n",
    "* Reach — охват пользователей по 10-балльной шкале;\n",
    "* Impact — влияние на пользователей по 10-балльной шкале;\n",
    "* Confidence — уверенность в гипотезе по 10-балльной шкале;\n",
    "* Efforts — затраты ресурсов на проверку гипотезы по 10-балльной шкале. Чем больше значение Efforts, тем дороже проверка гипотезы.\n",
    "2. **Данные для второй части**\n",
    "*Файл /datasets/orders.csv*\n",
    "* transactionId — идентификатор заказа;\n",
    "* visitorId — идентификатор пользователя, совершившего заказ;\n",
    "* date — дата, когда был совершён заказ;\n",
    "* revenue — выручка заказа;\n",
    "* group — группа A/B-теста, в которую попал заказ.\n",
    "\n",
    "*Файл /datasets/visitors.csv*\n",
    "* date — дата;\n",
    "* group — группа A/B-теста;\n",
    "* visitors — количество пользователей в указанную дату в указанной группе A/B-теста"
   ]
  },
  {
   "cell_type": "markdown",
   "metadata": {},
   "source": [
    "## Изучение данных из файлов"
   ]
  },
  {
   "cell_type": "code",
   "execution_count": 1,
   "metadata": {},
   "outputs": [],
   "source": [
    "import pandas as pd\n",
    "import matplotlib.pyplot as plt\n",
    "\n",
    "import seaborn as sns\n",
    "sns.set(rc={'figure.figsize':(10, 8)})\n",
    "\n",
    "import scipy.stats as stats\n",
    "from scipy import stats as st\n",
    "\n",
    "import math\n",
    "\n",
    "import numpy as np\n",
    "\n",
    "pd.set_option('display.max_colwidth', 0) #полное название столбцов"
   ]
  },
  {
   "cell_type": "code",
   "execution_count": 2,
   "metadata": {},
   "outputs": [],
   "source": [
    "# чтение файла с данными и сохранение в датафреймы\n",
    "hypothesis = pd.read_csv('/datasets/hypothesis.csv')\n",
    "orders = pd.read_csv('/datasets/orders.csv')\n",
    "visitors = pd.read_csv('/datasets/visitors.csv')"
   ]
  },
  {
   "cell_type": "code",
   "execution_count": 3,
   "metadata": {
    "scrolled": true
   },
   "outputs": [
    {
     "data": {
      "text/html": [
       "<div>\n",
       "<style scoped>\n",
       "    .dataframe tbody tr th:only-of-type {\n",
       "        vertical-align: middle;\n",
       "    }\n",
       "\n",
       "    .dataframe tbody tr th {\n",
       "        vertical-align: top;\n",
       "    }\n",
       "\n",
       "    .dataframe thead th {\n",
       "        text-align: right;\n",
       "    }\n",
       "</style>\n",
       "<table border=\"1\" class=\"dataframe\">\n",
       "  <thead>\n",
       "    <tr style=\"text-align: right;\">\n",
       "      <th></th>\n",
       "      <th>Hypothesis</th>\n",
       "      <th>Reach</th>\n",
       "      <th>Impact</th>\n",
       "      <th>Confidence</th>\n",
       "      <th>Efforts</th>\n",
       "    </tr>\n",
       "  </thead>\n",
       "  <tbody>\n",
       "    <tr>\n",
       "      <th>0</th>\n",
       "      <td>Добавить два новых канала привлечения трафика, что позволит привлекать на 30% больше пользователей</td>\n",
       "      <td>3</td>\n",
       "      <td>10</td>\n",
       "      <td>8</td>\n",
       "      <td>6</td>\n",
       "    </tr>\n",
       "    <tr>\n",
       "      <th>1</th>\n",
       "      <td>Запустить собственную службу доставки, что сократит срок доставки заказов</td>\n",
       "      <td>2</td>\n",
       "      <td>5</td>\n",
       "      <td>4</td>\n",
       "      <td>10</td>\n",
       "    </tr>\n",
       "    <tr>\n",
       "      <th>2</th>\n",
       "      <td>Добавить блоки рекомендаций товаров на сайт интернет магазина, чтобы повысить конверсию и средний чек заказа</td>\n",
       "      <td>8</td>\n",
       "      <td>3</td>\n",
       "      <td>7</td>\n",
       "      <td>3</td>\n",
       "    </tr>\n",
       "    <tr>\n",
       "      <th>3</th>\n",
       "      <td>Изменить структура категорий, что увеличит конверсию, т.к. пользователи быстрее найдут нужный товар</td>\n",
       "      <td>8</td>\n",
       "      <td>3</td>\n",
       "      <td>3</td>\n",
       "      <td>8</td>\n",
       "    </tr>\n",
       "    <tr>\n",
       "      <th>4</th>\n",
       "      <td>Изменить цвет фона главной страницы, чтобы увеличить вовлеченность пользователей</td>\n",
       "      <td>3</td>\n",
       "      <td>1</td>\n",
       "      <td>1</td>\n",
       "      <td>1</td>\n",
       "    </tr>\n",
       "  </tbody>\n",
       "</table>\n",
       "</div>"
      ],
      "text/plain": [
       "                                                                                                     Hypothesis  \\\n",
       "0  Добавить два новых канала привлечения трафика, что позволит привлекать на 30% больше пользователей             \n",
       "1  Запустить собственную службу доставки, что сократит срок доставки заказов                                      \n",
       "2  Добавить блоки рекомендаций товаров на сайт интернет магазина, чтобы повысить конверсию и средний чек заказа   \n",
       "3  Изменить структура категорий, что увеличит конверсию, т.к. пользователи быстрее найдут нужный товар            \n",
       "4  Изменить цвет фона главной страницы, чтобы увеличить вовлеченность пользователей                               \n",
       "\n",
       "   Reach  Impact  Confidence  Efforts  \n",
       "0  3      10      8           6        \n",
       "1  2      5       4           10       \n",
       "2  8      3       7           3        \n",
       "3  8      3       3           8        \n",
       "4  3      1       1           1        "
      ]
     },
     "execution_count": 3,
     "metadata": {},
     "output_type": "execute_result"
    }
   ],
   "source": [
    "hypothesis.head(5)"
   ]
  },
  {
   "cell_type": "code",
   "execution_count": 4,
   "metadata": {
    "scrolled": true
   },
   "outputs": [
    {
     "name": "stdout",
     "output_type": "stream",
     "text": [
      "<class 'pandas.core.frame.DataFrame'>\n",
      "RangeIndex: 9 entries, 0 to 8\n",
      "Data columns (total 5 columns):\n",
      " #   Column      Non-Null Count  Dtype \n",
      "---  ------      --------------  ----- \n",
      " 0   Hypothesis  9 non-null      object\n",
      " 1   Reach       9 non-null      int64 \n",
      " 2   Impact      9 non-null      int64 \n",
      " 3   Confidence  9 non-null      int64 \n",
      " 4   Efforts     9 non-null      int64 \n",
      "dtypes: int64(4), object(1)\n",
      "memory usage: 488.0+ bytes\n"
     ]
    }
   ],
   "source": [
    "hypothesis.info()"
   ]
  },
  {
   "cell_type": "code",
   "execution_count": 5,
   "metadata": {},
   "outputs": [
    {
     "data": {
      "text/html": [
       "<div>\n",
       "<style scoped>\n",
       "    .dataframe tbody tr th:only-of-type {\n",
       "        vertical-align: middle;\n",
       "    }\n",
       "\n",
       "    .dataframe tbody tr th {\n",
       "        vertical-align: top;\n",
       "    }\n",
       "\n",
       "    .dataframe thead th {\n",
       "        text-align: right;\n",
       "    }\n",
       "</style>\n",
       "<table border=\"1\" class=\"dataframe\">\n",
       "  <thead>\n",
       "    <tr style=\"text-align: right;\">\n",
       "      <th></th>\n",
       "      <th>transactionId</th>\n",
       "      <th>visitorId</th>\n",
       "      <th>date</th>\n",
       "      <th>revenue</th>\n",
       "      <th>group</th>\n",
       "    </tr>\n",
       "  </thead>\n",
       "  <tbody>\n",
       "    <tr>\n",
       "      <th>0</th>\n",
       "      <td>3667963787</td>\n",
       "      <td>3312258926</td>\n",
       "      <td>2019-08-15</td>\n",
       "      <td>1650</td>\n",
       "      <td>B</td>\n",
       "    </tr>\n",
       "    <tr>\n",
       "      <th>1</th>\n",
       "      <td>2804400009</td>\n",
       "      <td>3642806036</td>\n",
       "      <td>2019-08-15</td>\n",
       "      <td>730</td>\n",
       "      <td>B</td>\n",
       "    </tr>\n",
       "    <tr>\n",
       "      <th>2</th>\n",
       "      <td>2961555356</td>\n",
       "      <td>4069496402</td>\n",
       "      <td>2019-08-15</td>\n",
       "      <td>400</td>\n",
       "      <td>A</td>\n",
       "    </tr>\n",
       "    <tr>\n",
       "      <th>3</th>\n",
       "      <td>3797467345</td>\n",
       "      <td>1196621759</td>\n",
       "      <td>2019-08-15</td>\n",
       "      <td>9759</td>\n",
       "      <td>B</td>\n",
       "    </tr>\n",
       "    <tr>\n",
       "      <th>4</th>\n",
       "      <td>2282983706</td>\n",
       "      <td>2322279887</td>\n",
       "      <td>2019-08-15</td>\n",
       "      <td>2308</td>\n",
       "      <td>B</td>\n",
       "    </tr>\n",
       "  </tbody>\n",
       "</table>\n",
       "</div>"
      ],
      "text/plain": [
       "   transactionId   visitorId        date  revenue group\n",
       "0  3667963787     3312258926  2019-08-15  1650     B   \n",
       "1  2804400009     3642806036  2019-08-15  730      B   \n",
       "2  2961555356     4069496402  2019-08-15  400      A   \n",
       "3  3797467345     1196621759  2019-08-15  9759     B   \n",
       "4  2282983706     2322279887  2019-08-15  2308     B   "
      ]
     },
     "execution_count": 5,
     "metadata": {},
     "output_type": "execute_result"
    }
   ],
   "source": [
    "orders.head(5)"
   ]
  },
  {
   "cell_type": "code",
   "execution_count": 6,
   "metadata": {},
   "outputs": [
    {
     "data": {
      "text/plain": [
       "<bound method DataFrame.info of       transactionId   visitorId        date  revenue group\n",
       "0     3667963787     3312258926  2019-08-15  1650     B   \n",
       "1     2804400009     3642806036  2019-08-15  730      B   \n",
       "2     2961555356     4069496402  2019-08-15  400      A   \n",
       "3     3797467345     1196621759  2019-08-15  9759     B   \n",
       "4     2282983706     2322279887  2019-08-15  2308     B   \n",
       "...          ...            ...         ...   ...    ..   \n",
       "1192  2662137336     3733762160  2019-08-14  6490     B   \n",
       "1193  2203539145     370388673   2019-08-14  3190     A   \n",
       "1194  1807773912     573423106   2019-08-14  10550    A   \n",
       "1195  1947021204     1614305549  2019-08-14  100      A   \n",
       "1196  3936777065     2108080724  2019-08-15  202740   B   \n",
       "\n",
       "[1197 rows x 5 columns]>"
      ]
     },
     "execution_count": 6,
     "metadata": {},
     "output_type": "execute_result"
    }
   ],
   "source": [
    "orders.info"
   ]
  },
  {
   "cell_type": "code",
   "execution_count": 7,
   "metadata": {},
   "outputs": [
    {
     "data": {
      "text/html": [
       "<div>\n",
       "<style scoped>\n",
       "    .dataframe tbody tr th:only-of-type {\n",
       "        vertical-align: middle;\n",
       "    }\n",
       "\n",
       "    .dataframe tbody tr th {\n",
       "        vertical-align: top;\n",
       "    }\n",
       "\n",
       "    .dataframe thead th {\n",
       "        text-align: right;\n",
       "    }\n",
       "</style>\n",
       "<table border=\"1\" class=\"dataframe\">\n",
       "  <thead>\n",
       "    <tr style=\"text-align: right;\">\n",
       "      <th></th>\n",
       "      <th>date</th>\n",
       "      <th>group</th>\n",
       "      <th>visitors</th>\n",
       "    </tr>\n",
       "  </thead>\n",
       "  <tbody>\n",
       "    <tr>\n",
       "      <th>0</th>\n",
       "      <td>2019-08-01</td>\n",
       "      <td>A</td>\n",
       "      <td>719</td>\n",
       "    </tr>\n",
       "    <tr>\n",
       "      <th>1</th>\n",
       "      <td>2019-08-02</td>\n",
       "      <td>A</td>\n",
       "      <td>619</td>\n",
       "    </tr>\n",
       "    <tr>\n",
       "      <th>2</th>\n",
       "      <td>2019-08-03</td>\n",
       "      <td>A</td>\n",
       "      <td>507</td>\n",
       "    </tr>\n",
       "    <tr>\n",
       "      <th>3</th>\n",
       "      <td>2019-08-04</td>\n",
       "      <td>A</td>\n",
       "      <td>717</td>\n",
       "    </tr>\n",
       "    <tr>\n",
       "      <th>4</th>\n",
       "      <td>2019-08-05</td>\n",
       "      <td>A</td>\n",
       "      <td>756</td>\n",
       "    </tr>\n",
       "  </tbody>\n",
       "</table>\n",
       "</div>"
      ],
      "text/plain": [
       "         date group  visitors\n",
       "0  2019-08-01  A     719     \n",
       "1  2019-08-02  A     619     \n",
       "2  2019-08-03  A     507     \n",
       "3  2019-08-04  A     717     \n",
       "4  2019-08-05  A     756     "
      ]
     },
     "execution_count": 7,
     "metadata": {},
     "output_type": "execute_result"
    }
   ],
   "source": [
    "visitors.head(5)"
   ]
  },
  {
   "cell_type": "code",
   "execution_count": 8,
   "metadata": {
    "scrolled": true
   },
   "outputs": [
    {
     "name": "stdout",
     "output_type": "stream",
     "text": [
      "<class 'pandas.core.frame.DataFrame'>\n",
      "RangeIndex: 62 entries, 0 to 61\n",
      "Data columns (total 3 columns):\n",
      " #   Column    Non-Null Count  Dtype \n",
      "---  ------    --------------  ----- \n",
      " 0   date      62 non-null     object\n",
      " 1   group     62 non-null     object\n",
      " 2   visitors  62 non-null     int64 \n",
      "dtypes: int64(1), object(2)\n",
      "memory usage: 1.6+ KB\n"
     ]
    }
   ],
   "source": [
    "visitors.info()"
   ]
  },
  {
   "cell_type": "code",
   "execution_count": 9,
   "metadata": {},
   "outputs": [
    {
     "data": {
      "text/plain": [
       "0"
      ]
     },
     "execution_count": 9,
     "metadata": {},
     "output_type": "execute_result"
    }
   ],
   "source": [
    "#Сумма дубликатов hypothesis\n",
    "hypothesis.duplicated().sum()#Сумма дубликатов hypothesis\n",
    "hypothesis.duplicated().sum()"
   ]
  },
  {
   "cell_type": "code",
   "execution_count": 10,
   "metadata": {},
   "outputs": [
    {
     "data": {
      "text/plain": [
       "0"
      ]
     },
     "execution_count": 10,
     "metadata": {},
     "output_type": "execute_result"
    }
   ],
   "source": [
    "#Сумма дубликатов orders\n",
    "orders.duplicated().sum()"
   ]
  },
  {
   "cell_type": "code",
   "execution_count": 11,
   "metadata": {},
   "outputs": [
    {
     "data": {
      "text/plain": [
       "0"
      ]
     },
     "execution_count": 11,
     "metadata": {},
     "output_type": "execute_result"
    }
   ],
   "source": [
    "#Сумма дубликатов visitors\n",
    "visitors.duplicated().sum()"
   ]
  },
  {
   "cell_type": "code",
   "execution_count": 12,
   "metadata": {},
   "outputs": [
    {
     "name": "stdout",
     "output_type": "stream",
     "text": [
      "Hypothesis - 0%\n",
      "Reach - 0%\n",
      "Impact - 0%\n",
      "Confidence - 0%\n",
      "Efforts - 0%\n"
     ]
    }
   ],
   "source": [
    "#посмотрим процент незаполненных данных по столбцам\n",
    "for col in hypothesis.columns:\n",
    "    pct_missing = np.mean(hypothesis[col].isnull())\n",
    "    print('{} - {}%'.format(col, round(pct_missing*100)))"
   ]
  },
  {
   "cell_type": "code",
   "execution_count": 13,
   "metadata": {},
   "outputs": [
    {
     "name": "stdout",
     "output_type": "stream",
     "text": [
      "transactionId - 0%\n",
      "visitorId - 0%\n",
      "date - 0%\n",
      "revenue - 0%\n",
      "group - 0%\n"
     ]
    }
   ],
   "source": [
    "#посмотрим процент незаполненных данных по столбцам\n",
    "for col in orders.columns:\n",
    "    pct_missing = np.mean(orders[col].isnull())\n",
    "    print('{} - {}%'.format(col, round(pct_missing*100)))"
   ]
  },
  {
   "cell_type": "code",
   "execution_count": 14,
   "metadata": {},
   "outputs": [
    {
     "name": "stdout",
     "output_type": "stream",
     "text": [
      "date - 0%\n",
      "group - 0%\n",
      "visitors - 0%\n"
     ]
    }
   ],
   "source": [
    "#посмотрим процент незаполненных данных по столбцам\n",
    "for col in visitors.columns:\n",
    "    pct_missing = np.mean(visitors[col].isnull())\n",
    "    print('{} - {}%'.format(col, round(pct_missing*100)))"
   ]
  },
  {
   "cell_type": "markdown",
   "metadata": {},
   "source": [
    "Необходимо: \n",
    "1. Привести названия столбцов к нижнему регистру в hypothesis\n",
    "2. Привести к формату date столбец date в orders\n",
    "3. Привести к формату date столбец date в visitors\n",
    "4. Привести названия столбцов к нижнему регистру в orders"
   ]
  },
  {
   "cell_type": "markdown",
   "metadata": {},
   "source": [
    "## Подготовка данных"
   ]
  },
  {
   "cell_type": "code",
   "execution_count": 15,
   "metadata": {},
   "outputs": [],
   "source": [
    "# приведение к нижнему регистру столбцов\n",
    "hypothesis.columns = hypothesis.columns.str.lower()"
   ]
  },
  {
   "cell_type": "code",
   "execution_count": 16,
   "metadata": {
    "scrolled": false
   },
   "outputs": [
    {
     "data": {
      "text/html": [
       "<div>\n",
       "<style scoped>\n",
       "    .dataframe tbody tr th:only-of-type {\n",
       "        vertical-align: middle;\n",
       "    }\n",
       "\n",
       "    .dataframe tbody tr th {\n",
       "        vertical-align: top;\n",
       "    }\n",
       "\n",
       "    .dataframe thead th {\n",
       "        text-align: right;\n",
       "    }\n",
       "</style>\n",
       "<table border=\"1\" class=\"dataframe\">\n",
       "  <thead>\n",
       "    <tr style=\"text-align: right;\">\n",
       "      <th></th>\n",
       "      <th>hypothesis</th>\n",
       "      <th>reach</th>\n",
       "      <th>impact</th>\n",
       "      <th>confidence</th>\n",
       "      <th>efforts</th>\n",
       "    </tr>\n",
       "  </thead>\n",
       "  <tbody>\n",
       "    <tr>\n",
       "      <th>0</th>\n",
       "      <td>Добавить два новых канала привлечения трафика, что позволит привлекать на 30% больше пользователей</td>\n",
       "      <td>3</td>\n",
       "      <td>10</td>\n",
       "      <td>8</td>\n",
       "      <td>6</td>\n",
       "    </tr>\n",
       "    <tr>\n",
       "      <th>1</th>\n",
       "      <td>Запустить собственную службу доставки, что сократит срок доставки заказов</td>\n",
       "      <td>2</td>\n",
       "      <td>5</td>\n",
       "      <td>4</td>\n",
       "      <td>10</td>\n",
       "    </tr>\n",
       "    <tr>\n",
       "      <th>2</th>\n",
       "      <td>Добавить блоки рекомендаций товаров на сайт интернет магазина, чтобы повысить конверсию и средний чек заказа</td>\n",
       "      <td>8</td>\n",
       "      <td>3</td>\n",
       "      <td>7</td>\n",
       "      <td>3</td>\n",
       "    </tr>\n",
       "    <tr>\n",
       "      <th>3</th>\n",
       "      <td>Изменить структура категорий, что увеличит конверсию, т.к. пользователи быстрее найдут нужный товар</td>\n",
       "      <td>8</td>\n",
       "      <td>3</td>\n",
       "      <td>3</td>\n",
       "      <td>8</td>\n",
       "    </tr>\n",
       "    <tr>\n",
       "      <th>4</th>\n",
       "      <td>Изменить цвет фона главной страницы, чтобы увеличить вовлеченность пользователей</td>\n",
       "      <td>3</td>\n",
       "      <td>1</td>\n",
       "      <td>1</td>\n",
       "      <td>1</td>\n",
       "    </tr>\n",
       "  </tbody>\n",
       "</table>\n",
       "</div>"
      ],
      "text/plain": [
       "                                                                                                     hypothesis  \\\n",
       "0  Добавить два новых канала привлечения трафика, что позволит привлекать на 30% больше пользователей             \n",
       "1  Запустить собственную службу доставки, что сократит срок доставки заказов                                      \n",
       "2  Добавить блоки рекомендаций товаров на сайт интернет магазина, чтобы повысить конверсию и средний чек заказа   \n",
       "3  Изменить структура категорий, что увеличит конверсию, т.к. пользователи быстрее найдут нужный товар            \n",
       "4  Изменить цвет фона главной страницы, чтобы увеличить вовлеченность пользователей                               \n",
       "\n",
       "   reach  impact  confidence  efforts  \n",
       "0  3      10      8           6        \n",
       "1  2      5       4           10       \n",
       "2  8      3       7           3        \n",
       "3  8      3       3           8        \n",
       "4  3      1       1           1        "
      ]
     },
     "execution_count": 16,
     "metadata": {},
     "output_type": "execute_result"
    }
   ],
   "source": [
    "hypothesis.head(5)"
   ]
  },
  {
   "cell_type": "code",
   "execution_count": 17,
   "metadata": {},
   "outputs": [],
   "source": [
    "# приведение к формату date столбец date в orders\n",
    "orders['date'] = pd.to_datetime(orders['date']).dt.date"
   ]
  },
  {
   "cell_type": "code",
   "execution_count": 18,
   "metadata": {},
   "outputs": [],
   "source": [
    "# приведение к формату date столбец date в visitors\n",
    "visitors['date'] = pd.to_datetime(visitors['date']).dt.date"
   ]
  },
  {
   "cell_type": "code",
   "execution_count": 19,
   "metadata": {},
   "outputs": [],
   "source": [
    "# приведение к нижнему регистру столбцов\n",
    "orders.columns = orders.columns.str.lower()"
   ]
  },
  {
   "cell_type": "code",
   "execution_count": 20,
   "metadata": {},
   "outputs": [
    {
     "data": {
      "text/html": [
       "<div>\n",
       "<style scoped>\n",
       "    .dataframe tbody tr th:only-of-type {\n",
       "        vertical-align: middle;\n",
       "    }\n",
       "\n",
       "    .dataframe tbody tr th {\n",
       "        vertical-align: top;\n",
       "    }\n",
       "\n",
       "    .dataframe thead th {\n",
       "        text-align: right;\n",
       "    }\n",
       "</style>\n",
       "<table border=\"1\" class=\"dataframe\">\n",
       "  <thead>\n",
       "    <tr style=\"text-align: right;\">\n",
       "      <th></th>\n",
       "      <th>transactionid</th>\n",
       "      <th>visitorid</th>\n",
       "      <th>date</th>\n",
       "      <th>revenue</th>\n",
       "      <th>group</th>\n",
       "    </tr>\n",
       "  </thead>\n",
       "  <tbody>\n",
       "    <tr>\n",
       "      <th>0</th>\n",
       "      <td>3667963787</td>\n",
       "      <td>3312258926</td>\n",
       "      <td>2019-08-15</td>\n",
       "      <td>1650</td>\n",
       "      <td>B</td>\n",
       "    </tr>\n",
       "  </tbody>\n",
       "</table>\n",
       "</div>"
      ],
      "text/plain": [
       "   transactionid   visitorid        date  revenue group\n",
       "0  3667963787     3312258926  2019-08-15  1650     B   "
      ]
     },
     "execution_count": 20,
     "metadata": {},
     "output_type": "execute_result"
    }
   ],
   "source": [
    "orders.head(1)"
   ]
  },
  {
   "cell_type": "markdown",
   "metadata": {},
   "source": [
    "Данные к анализу подготовлены."
   ]
  },
  {
   "cell_type": "markdown",
   "metadata": {},
   "source": [
    "## Приоритизация гипотез"
   ]
  },
  {
   "cell_type": "markdown",
   "metadata": {},
   "source": [
    "В файле /datasets/hypothesis.csv 9 гипотез по увеличению выручки интернет-магазина с указанными параметрами Reach, Impact, Confidence, Effort."
   ]
  },
  {
   "cell_type": "markdown",
   "metadata": {},
   "source": [
    "* ***Примените фреймворк ICE для приоритизации гипотез. Отсортируйте их по убыванию приоритета.***"
   ]
  },
  {
   "cell_type": "code",
   "execution_count": 21,
   "metadata": {},
   "outputs": [],
   "source": [
    "hypothesis['ICE'] = hypothesis['impact'] * hypothesis['confidence'] / hypothesis['efforts']"
   ]
  },
  {
   "cell_type": "code",
   "execution_count": 22,
   "metadata": {
    "scrolled": false
   },
   "outputs": [
    {
     "data": {
      "text/html": [
       "<div>\n",
       "<style scoped>\n",
       "    .dataframe tbody tr th:only-of-type {\n",
       "        vertical-align: middle;\n",
       "    }\n",
       "\n",
       "    .dataframe tbody tr th {\n",
       "        vertical-align: top;\n",
       "    }\n",
       "\n",
       "    .dataframe thead th {\n",
       "        text-align: right;\n",
       "    }\n",
       "</style>\n",
       "<table border=\"1\" class=\"dataframe\">\n",
       "  <thead>\n",
       "    <tr style=\"text-align: right;\">\n",
       "      <th></th>\n",
       "      <th>hypothesis</th>\n",
       "      <th>ICE</th>\n",
       "    </tr>\n",
       "  </thead>\n",
       "  <tbody>\n",
       "    <tr>\n",
       "      <th>8</th>\n",
       "      <td>Запустить акцию, дающую скидку на товар в день рождения</td>\n",
       "      <td>16.200000</td>\n",
       "    </tr>\n",
       "    <tr>\n",
       "      <th>0</th>\n",
       "      <td>Добавить два новых канала привлечения трафика, что позволит привлекать на 30% больше пользователей</td>\n",
       "      <td>13.333333</td>\n",
       "    </tr>\n",
       "    <tr>\n",
       "      <th>7</th>\n",
       "      <td>Добавить форму подписки на все основные страницы, чтобы собрать базу клиентов для email-рассылок</td>\n",
       "      <td>11.200000</td>\n",
       "    </tr>\n",
       "    <tr>\n",
       "      <th>6</th>\n",
       "      <td>Показать на главной странице баннеры с актуальными акциями и распродажами, чтобы увеличить конверсию</td>\n",
       "      <td>8.000000</td>\n",
       "    </tr>\n",
       "    <tr>\n",
       "      <th>2</th>\n",
       "      <td>Добавить блоки рекомендаций товаров на сайт интернет магазина, чтобы повысить конверсию и средний чек заказа</td>\n",
       "      <td>7.000000</td>\n",
       "    </tr>\n",
       "    <tr>\n",
       "      <th>1</th>\n",
       "      <td>Запустить собственную службу доставки, что сократит срок доставки заказов</td>\n",
       "      <td>2.000000</td>\n",
       "    </tr>\n",
       "    <tr>\n",
       "      <th>5</th>\n",
       "      <td>Добавить страницу отзывов клиентов о магазине, что позволит увеличить количество заказов</td>\n",
       "      <td>1.333333</td>\n",
       "    </tr>\n",
       "    <tr>\n",
       "      <th>3</th>\n",
       "      <td>Изменить структура категорий, что увеличит конверсию, т.к. пользователи быстрее найдут нужный товар</td>\n",
       "      <td>1.125000</td>\n",
       "    </tr>\n",
       "    <tr>\n",
       "      <th>4</th>\n",
       "      <td>Изменить цвет фона главной страницы, чтобы увеличить вовлеченность пользователей</td>\n",
       "      <td>1.000000</td>\n",
       "    </tr>\n",
       "  </tbody>\n",
       "</table>\n",
       "</div>"
      ],
      "text/plain": [
       "                                                                                                     hypothesis  \\\n",
       "8  Запустить акцию, дающую скидку на товар в день рождения                                                        \n",
       "0  Добавить два новых канала привлечения трафика, что позволит привлекать на 30% больше пользователей             \n",
       "7  Добавить форму подписки на все основные страницы, чтобы собрать базу клиентов для email-рассылок               \n",
       "6  Показать на главной странице баннеры с актуальными акциями и распродажами, чтобы увеличить конверсию           \n",
       "2  Добавить блоки рекомендаций товаров на сайт интернет магазина, чтобы повысить конверсию и средний чек заказа   \n",
       "1  Запустить собственную службу доставки, что сократит срок доставки заказов                                      \n",
       "5  Добавить страницу отзывов клиентов о магазине, что позволит увеличить количество заказов                       \n",
       "3  Изменить структура категорий, что увеличит конверсию, т.к. пользователи быстрее найдут нужный товар            \n",
       "4  Изменить цвет фона главной страницы, чтобы увеличить вовлеченность пользователей                               \n",
       "\n",
       "         ICE  \n",
       "8  16.200000  \n",
       "0  13.333333  \n",
       "7  11.200000  \n",
       "6  8.000000   \n",
       "2  7.000000   \n",
       "1  2.000000   \n",
       "5  1.333333   \n",
       "3  1.125000   \n",
       "4  1.000000   "
      ]
     },
     "metadata": {},
     "output_type": "display_data"
    }
   ],
   "source": [
    "display(hypothesis[['hypothesis', 'ICE']].sort_values(by='ICE', ascending=False))"
   ]
  },
  {
   "cell_type": "markdown",
   "metadata": {},
   "source": [
    "* ***Примените фреймворк RICE для приоритизации гипотез. Отсортируйте их по убыванию приоритета.***"
   ]
  },
  {
   "cell_type": "code",
   "execution_count": 23,
   "metadata": {},
   "outputs": [],
   "source": [
    "hypothesis['RICE'] = hypothesis['reach'] * hypothesis['impact'] * hypothesis['confidence'] / hypothesis['efforts']"
   ]
  },
  {
   "cell_type": "code",
   "execution_count": 24,
   "metadata": {},
   "outputs": [
    {
     "data": {
      "text/html": [
       "<div>\n",
       "<style scoped>\n",
       "    .dataframe tbody tr th:only-of-type {\n",
       "        vertical-align: middle;\n",
       "    }\n",
       "\n",
       "    .dataframe tbody tr th {\n",
       "        vertical-align: top;\n",
       "    }\n",
       "\n",
       "    .dataframe thead th {\n",
       "        text-align: right;\n",
       "    }\n",
       "</style>\n",
       "<table border=\"1\" class=\"dataframe\">\n",
       "  <thead>\n",
       "    <tr style=\"text-align: right;\">\n",
       "      <th></th>\n",
       "      <th>hypothesis</th>\n",
       "      <th>RICE</th>\n",
       "    </tr>\n",
       "  </thead>\n",
       "  <tbody>\n",
       "    <tr>\n",
       "      <th>7</th>\n",
       "      <td>Добавить форму подписки на все основные страницы, чтобы собрать базу клиентов для email-рассылок</td>\n",
       "      <td>112.0</td>\n",
       "    </tr>\n",
       "    <tr>\n",
       "      <th>2</th>\n",
       "      <td>Добавить блоки рекомендаций товаров на сайт интернет магазина, чтобы повысить конверсию и средний чек заказа</td>\n",
       "      <td>56.0</td>\n",
       "    </tr>\n",
       "    <tr>\n",
       "      <th>0</th>\n",
       "      <td>Добавить два новых канала привлечения трафика, что позволит привлекать на 30% больше пользователей</td>\n",
       "      <td>40.0</td>\n",
       "    </tr>\n",
       "    <tr>\n",
       "      <th>6</th>\n",
       "      <td>Показать на главной странице баннеры с актуальными акциями и распродажами, чтобы увеличить конверсию</td>\n",
       "      <td>40.0</td>\n",
       "    </tr>\n",
       "    <tr>\n",
       "      <th>8</th>\n",
       "      <td>Запустить акцию, дающую скидку на товар в день рождения</td>\n",
       "      <td>16.2</td>\n",
       "    </tr>\n",
       "    <tr>\n",
       "      <th>3</th>\n",
       "      <td>Изменить структура категорий, что увеличит конверсию, т.к. пользователи быстрее найдут нужный товар</td>\n",
       "      <td>9.0</td>\n",
       "    </tr>\n",
       "    <tr>\n",
       "      <th>1</th>\n",
       "      <td>Запустить собственную службу доставки, что сократит срок доставки заказов</td>\n",
       "      <td>4.0</td>\n",
       "    </tr>\n",
       "    <tr>\n",
       "      <th>5</th>\n",
       "      <td>Добавить страницу отзывов клиентов о магазине, что позволит увеличить количество заказов</td>\n",
       "      <td>4.0</td>\n",
       "    </tr>\n",
       "    <tr>\n",
       "      <th>4</th>\n",
       "      <td>Изменить цвет фона главной страницы, чтобы увеличить вовлеченность пользователей</td>\n",
       "      <td>3.0</td>\n",
       "    </tr>\n",
       "  </tbody>\n",
       "</table>\n",
       "</div>"
      ],
      "text/plain": [
       "                                                                                                     hypothesis  \\\n",
       "7  Добавить форму подписки на все основные страницы, чтобы собрать базу клиентов для email-рассылок               \n",
       "2  Добавить блоки рекомендаций товаров на сайт интернет магазина, чтобы повысить конверсию и средний чек заказа   \n",
       "0  Добавить два новых канала привлечения трафика, что позволит привлекать на 30% больше пользователей             \n",
       "6  Показать на главной странице баннеры с актуальными акциями и распродажами, чтобы увеличить конверсию           \n",
       "8  Запустить акцию, дающую скидку на товар в день рождения                                                        \n",
       "3  Изменить структура категорий, что увеличит конверсию, т.к. пользователи быстрее найдут нужный товар            \n",
       "1  Запустить собственную службу доставки, что сократит срок доставки заказов                                      \n",
       "5  Добавить страницу отзывов клиентов о магазине, что позволит увеличить количество заказов                       \n",
       "4  Изменить цвет фона главной страницы, чтобы увеличить вовлеченность пользователей                               \n",
       "\n",
       "    RICE  \n",
       "7  112.0  \n",
       "2  56.0   \n",
       "0  40.0   \n",
       "6  40.0   \n",
       "8  16.2   \n",
       "3  9.0    \n",
       "1  4.0    \n",
       "5  4.0    \n",
       "4  3.0    "
      ]
     },
     "metadata": {},
     "output_type": "display_data"
    }
   ],
   "source": [
    "display(hypothesis[['hypothesis', 'RICE']].sort_values(by='RICE', ascending=False))"
   ]
  },
  {
   "cell_type": "code",
   "execution_count": 25,
   "metadata": {},
   "outputs": [
    {
     "data": {
      "image/png": "[encoded data removed]",
      "text/plain": [
       "<Figure size 720x576 with 1 Axes>"
      ]
     },
     "metadata": {},
     "output_type": "display_data"
    }
   ],
   "source": [
    "#построим визуализацию\n",
    "ax = hypothesis[['hypothesis', 'ICE', 'RICE']].set_index('hypothesis').sort_values('ICE', ascending=True).plot(kind='barh')\n",
    "ax.set_xlabel('Приоритет')\n",
    "ax.set_ylabel('Гипотеза')\n",
    "ax.set_title('ICE & RICE')\n",
    "plt.show()"
   ]
  },
  {
   "cell_type": "markdown",
   "metadata": {},
   "source": [
    "* ***Укажите, как изменилась приоритизация гипотез при применении RICE вместо ICE. Объясните, почему так произошло.***"
   ]
  },
  {
   "cell_type": "markdown",
   "metadata": {},
   "source": [
    "При применении приотизации RICE на первое место вышла гипотеза под номером 7, так произошло потому что применяются разные формулы расчета. Формула RICE включает в себя количество пользователей, которых затронут изменения. И это не маловажный фактор. В принципе, гипотезы под номерами 7 и 0 находятся в тройке лидеров в любом из методов расчета. "
   ]
  },
  {
   "cell_type": "markdown",
   "metadata": {},
   "source": [
    "## Анализ A/B-теста"
   ]
  },
  {
   "cell_type": "markdown",
   "metadata": {},
   "source": [
    "Мы провели A/B-тест и получили результаты, которые описаны в файлах /datasets/orders.csv и /datasets/visitors.csv."
   ]
  },
  {
   "cell_type": "code",
   "execution_count": 26,
   "metadata": {
    "scrolled": false
   },
   "outputs": [
    {
     "data": {
      "text/html": [
       "<div>\n",
       "<style scoped>\n",
       "    .dataframe tbody tr th:only-of-type {\n",
       "        vertical-align: middle;\n",
       "    }\n",
       "\n",
       "    .dataframe tbody tr th {\n",
       "        vertical-align: top;\n",
       "    }\n",
       "\n",
       "    .dataframe thead th {\n",
       "        text-align: right;\n",
       "    }\n",
       "</style>\n",
       "<table border=\"1\" class=\"dataframe\">\n",
       "  <thead>\n",
       "    <tr style=\"text-align: right;\">\n",
       "      <th></th>\n",
       "      <th>transactionid</th>\n",
       "      <th>visitorid</th>\n",
       "      <th>date</th>\n",
       "      <th>revenue</th>\n",
       "      <th>group</th>\n",
       "    </tr>\n",
       "  </thead>\n",
       "  <tbody>\n",
       "    <tr>\n",
       "      <th>0</th>\n",
       "      <td>3667963787</td>\n",
       "      <td>3312258926</td>\n",
       "      <td>2019-08-15</td>\n",
       "      <td>1650</td>\n",
       "      <td>B</td>\n",
       "    </tr>\n",
       "    <tr>\n",
       "      <th>1</th>\n",
       "      <td>2804400009</td>\n",
       "      <td>3642806036</td>\n",
       "      <td>2019-08-15</td>\n",
       "      <td>730</td>\n",
       "      <td>B</td>\n",
       "    </tr>\n",
       "    <tr>\n",
       "      <th>2</th>\n",
       "      <td>2961555356</td>\n",
       "      <td>4069496402</td>\n",
       "      <td>2019-08-15</td>\n",
       "      <td>400</td>\n",
       "      <td>A</td>\n",
       "    </tr>\n",
       "    <tr>\n",
       "      <th>3</th>\n",
       "      <td>3797467345</td>\n",
       "      <td>1196621759</td>\n",
       "      <td>2019-08-15</td>\n",
       "      <td>9759</td>\n",
       "      <td>B</td>\n",
       "    </tr>\n",
       "    <tr>\n",
       "      <th>4</th>\n",
       "      <td>2282983706</td>\n",
       "      <td>2322279887</td>\n",
       "      <td>2019-08-15</td>\n",
       "      <td>2308</td>\n",
       "      <td>B</td>\n",
       "    </tr>\n",
       "  </tbody>\n",
       "</table>\n",
       "</div>"
      ],
      "text/plain": [
       "   transactionid   visitorid        date  revenue group\n",
       "0  3667963787     3312258926  2019-08-15  1650     B   \n",
       "1  2804400009     3642806036  2019-08-15  730      B   \n",
       "2  2961555356     4069496402  2019-08-15  400      A   \n",
       "3  3797467345     1196621759  2019-08-15  9759     B   \n",
       "4  2282983706     2322279887  2019-08-15  2308     B   "
      ]
     },
     "execution_count": 26,
     "metadata": {},
     "output_type": "execute_result"
    }
   ],
   "source": [
    "orders.head()"
   ]
  },
  {
   "cell_type": "code",
   "execution_count": 27,
   "metadata": {},
   "outputs": [
    {
     "data": {
      "text/html": [
       "<div>\n",
       "<style scoped>\n",
       "    .dataframe tbody tr th:only-of-type {\n",
       "        vertical-align: middle;\n",
       "    }\n",
       "\n",
       "    .dataframe tbody tr th {\n",
       "        vertical-align: top;\n",
       "    }\n",
       "\n",
       "    .dataframe thead th {\n",
       "        text-align: right;\n",
       "    }\n",
       "</style>\n",
       "<table border=\"1\" class=\"dataframe\">\n",
       "  <thead>\n",
       "    <tr style=\"text-align: right;\">\n",
       "      <th></th>\n",
       "      <th>date</th>\n",
       "      <th>group</th>\n",
       "      <th>visitors</th>\n",
       "    </tr>\n",
       "  </thead>\n",
       "  <tbody>\n",
       "    <tr>\n",
       "      <th>0</th>\n",
       "      <td>2019-08-01</td>\n",
       "      <td>A</td>\n",
       "      <td>719</td>\n",
       "    </tr>\n",
       "    <tr>\n",
       "      <th>1</th>\n",
       "      <td>2019-08-02</td>\n",
       "      <td>A</td>\n",
       "      <td>619</td>\n",
       "    </tr>\n",
       "    <tr>\n",
       "      <th>2</th>\n",
       "      <td>2019-08-03</td>\n",
       "      <td>A</td>\n",
       "      <td>507</td>\n",
       "    </tr>\n",
       "    <tr>\n",
       "      <th>3</th>\n",
       "      <td>2019-08-04</td>\n",
       "      <td>A</td>\n",
       "      <td>717</td>\n",
       "    </tr>\n",
       "    <tr>\n",
       "      <th>4</th>\n",
       "      <td>2019-08-05</td>\n",
       "      <td>A</td>\n",
       "      <td>756</td>\n",
       "    </tr>\n",
       "  </tbody>\n",
       "</table>\n",
       "</div>"
      ],
      "text/plain": [
       "         date group  visitors\n",
       "0  2019-08-01  A     719     \n",
       "1  2019-08-02  A     619     \n",
       "2  2019-08-03  A     507     \n",
       "3  2019-08-04  A     717     \n",
       "4  2019-08-05  A     756     "
      ]
     },
     "execution_count": 27,
     "metadata": {},
     "output_type": "execute_result"
    }
   ],
   "source": [
    "visitors.head()"
   ]
  },
  {
   "cell_type": "code",
   "execution_count": 28,
   "metadata": {
    "scrolled": true
   },
   "outputs": [
    {
     "name": "stdout",
     "output_type": "stream",
     "text": [
      "Пользователей, попавших в обе группы: 58\n",
      "Сумма заказов этих пользователей 1558935\n",
      "Количество их заказов 181\n"
     ]
    }
   ],
   "source": [
    "#проверим не попали ли пользователи в две группы\n",
    "doubles = orders.groupby(['visitorid']).agg({'group' : 'nunique', 'transactionid' : 'count', 'revenue' : 'sum'}).reset_index()\n",
    "print(f'Пользователей, попавших в обе группы: {doubles[doubles.group != 1][\"visitorid\"].count()}')\n",
    "print(f\"Сумма заказов этих пользователей {doubles[doubles.group != 1]['revenue'].sum()}\")\n",
    "print(f\"Количество их заказов {doubles[doubles.group != 1]['transactionid'].sum()}\")"
   ]
  },
  {
   "cell_type": "code",
   "execution_count": 29,
   "metadata": {},
   "outputs": [
    {
     "name": "stdout",
     "output_type": "stream",
     "text": [
      "Общая сумма заказов 9992563\n"
     ]
    }
   ],
   "source": [
    "#посчитаем общуу сумму заказов\n",
    "print(f\"Общая сумма заказов {orders[orders.group != 1]['revenue'].sum()}\")"
   ]
  },
  {
   "cell_type": "markdown",
   "metadata": {},
   "source": [
    "58 покупателей попали в обе группы, они совершили 181 заказ на сумму 1558935, что составило 15% от всей суммы заказов. Их можно было бы удалить из двух групп, но в этой ситуации возможно удаление только в orders, потому как там есть visitorid, в таблице visitors нет ID пользователей. Поэтому оставим этих пользователей. "
   ]
  },
  {
   "cell_type": "code",
   "execution_count": 30,
   "metadata": {},
   "outputs": [
    {
     "name": "stdout",
     "output_type": "stream",
     "text": [
      "         date group  orders  buyers  revenue  visitors\n",
      "0  2019-08-01  A     24      20      148579   719     \n",
      "1  2019-08-01  B     21      20      101217   713     \n",
      "2  2019-08-02  A     44      38      242401   1338    \n",
      "3  2019-08-02  B     45      43      266748   1294    \n",
      "4  2019-08-03  A     68      62      354874   1845    \n"
     ]
    }
   ],
   "source": [
    "datesGroups = orders[['date','group']].drop_duplicates() \n",
    "ordersAggregated = datesGroups.apply(lambda x: orders[np.logical_and(orders['date'] <= x['date'], orders['group'] == x['group'])]\\\n",
    ".agg({'date' : 'max', 'group' : 'max', 'transactionid' : 'nunique', 'visitorid' : 'nunique', 'revenue' : 'sum'}), axis=1).sort_values(by=['date','group'])\n",
    "visitorsAggregated = datesGroups.apply(lambda x: visitors[np.logical_and(visitors['date'] <= x['date'], visitors['group'] == x['group'])].agg({'date' : 'max', 'group' : 'max', 'visitors' : 'sum'}), axis=1).sort_values(by=['date','group'])\n",
    "ordersAggregated = datesGroups.apply(lambda x: orders[np.logical_and(orders['date'] <= x['date'], orders['group'] == x['group'])].agg({'date' : 'max', 'group' : 'max', 'transactionid' : 'nunique', 'visitorid' : 'nunique', 'revenue' : 'sum'}), axis=1).sort_values(by=['date','group'])\n",
    "visitorsAggregated = datesGroups.apply(lambda x: visitors[np.logical_and(visitors['date'] <= x['date'], visitors['group'] == x['group'])].agg({'date' : 'max', 'group' : 'max', 'visitors' : 'sum'}), axis=1).sort_values(by=['date','group'])\n",
    "cumulativeData = ordersAggregated.merge(visitorsAggregated, left_on=['date', 'group'], right_on=['date', 'group'])\n",
    "cumulativeData.columns = ['date', 'group', 'orders', 'buyers', 'revenue', 'visitors']\n",
    "print(cumulativeData.head(5)) \n"
   ]
  },
  {
   "cell_type": "code",
   "execution_count": 31,
   "metadata": {},
   "outputs": [],
   "source": [
    "# датафрейм с кумулятивным количеством заказов и кумулятивной выручкой по дням в группе А\n",
    "cumulativeRevenueA = cumulativeData[cumulativeData['group']=='A'][['date','revenue', 'orders']]"
   ]
  },
  {
   "cell_type": "code",
   "execution_count": 32,
   "metadata": {},
   "outputs": [],
   "source": [
    "# датафрейм с кумулятивным количеством заказов и кумулятивной выручкой по дням в группе B\n",
    "cumulativeRevenueB = cumulativeData[cumulativeData['group']=='B'][['date','revenue', 'orders']]\n"
   ]
  },
  {
   "cell_type": "markdown",
   "metadata": {},
   "source": [
    "* ***Постройте график кумулятивной выручки по группам. Сделайте выводы и предположения.***"
   ]
  },
  {
   "cell_type": "code",
   "execution_count": 33,
   "metadata": {},
   "outputs": [
    {
     "data": {
      "image/png": "[encoded data removed]",
      "text/plain": [
       "<Figure size 1080x360 with 1 Axes>"
      ]
     },
     "metadata": {},
     "output_type": "display_data"
    }
   ],
   "source": [
    "# Строим график выручки группы А\n",
    "fig, ax = plt.subplots(figsize=(15, 5))\n",
    "plt.plot(cumulativeRevenueA['date'], cumulativeRevenueA['revenue'], label='A')\n",
    "plt.plot(cumulativeRevenueB['date'], cumulativeRevenueB['revenue'], label='B')\n",
    "plt.legend()\n",
    "plt.xlabel('Дата')\n",
    "plt.ylabel('Сумма')\n",
    "plt.title('Кумулятивная выручка')\n",
    "plt.show()"
   ]
  },
  {
   "cell_type": "markdown",
   "metadata": {},
   "source": [
    "С самого начала теста выручка растет в двух группах плавно. В середине теста(18-го августа) сегмент В вырвался вперед и продолжил лидировать до конца теста. Это могло вызвать увеличение или числа заказов или сумм покупок. Необходимо посмотреть динамику среднего чека. "
   ]
  },
  {
   "cell_type": "markdown",
   "metadata": {},
   "source": [
    "* ***Постройте график кумулятивного среднего чека по группам. Сделайте выводы и предположения.***"
   ]
  },
  {
   "cell_type": "code",
   "execution_count": 34,
   "metadata": {},
   "outputs": [
    {
     "data": {
      "image/png": "[encoded data removed]",
      "text/plain": [
       "<Figure size 1080x360 with 1 Axes>"
      ]
     },
     "metadata": {},
     "output_type": "display_data"
    }
   ],
   "source": [
    "fig, ax = plt.subplots(figsize=(15, 5))\n",
    "plt.plot(cumulativeRevenueA['date'], cumulativeRevenueA['revenue']/cumulativeRevenueA['orders'], label='A')\n",
    "plt.plot(cumulativeRevenueB['date'], cumulativeRevenueB['revenue']/cumulativeRevenueB['orders'], label='B')\n",
    "plt.legend()\n",
    "plt.xlabel('Дата')\n",
    "plt.ylabel('Сумма')\n",
    "plt.title('Кумулятивный средний чек')\n",
    "plt.show()"
   ]
  },
  {
   "cell_type": "markdown",
   "metadata": {},
   "source": [
    "Средний чек в группе А вырос и стабилизировался. В группе В зафиксирован резский скачек, который плавно снижается к концу теста. Вероятно в группе В были какие-то крупные заказы."
   ]
  },
  {
   "cell_type": "markdown",
   "metadata": {},
   "source": [
    "* ***Постройте график относительного изменения кумулятивного среднего чека группы B к группе A. Сделайте выводы и предположения.***"
   ]
  },
  {
   "cell_type": "code",
   "execution_count": 35,
   "metadata": {},
   "outputs": [],
   "source": [
    "# собираем данные в одном датафрейме\n",
    "mergedCumulativeRevenue = cumulativeRevenueA.merge(cumulativeRevenueB, left_on='date', right_on='date', how='left', suffixes=['A', 'B'])"
   ]
  },
  {
   "cell_type": "code",
   "execution_count": 36,
   "metadata": {},
   "outputs": [
    {
     "data": {
      "image/png": "[encoded data removed]",
      "text/plain": [
       "<Figure size 1080x360 with 1 Axes>"
      ]
     },
     "metadata": {},
     "output_type": "display_data"
    }
   ],
   "source": [
    "# cтроим отношение средних чеков\n",
    "fig, ax = plt.subplots(figsize=(15, 5))\n",
    "plt.plot(mergedCumulativeRevenue['date'], (mergedCumulativeRevenue['revenueB']/mergedCumulativeRevenue['ordersB'])/(mergedCumulativeRevenue['revenueA']/mergedCumulativeRevenue['ordersA'])-1)\n",
    "plt.axhline(y=0, color='red', linestyle='--')\n",
    "plt.title('Относительный средний чек')\n",
    "plt.xlabel('Дата')\n",
    "plt.ylabel('Сумма');"
   ]
  },
  {
   "cell_type": "markdown",
   "metadata": {},
   "source": [
    "Зафиксировано 2 скачка. Первый с 6-8 августа, второй 20-го августа. В эти даты были совершены самые дорогие заказы. "
   ]
  },
  {
   "cell_type": "markdown",
   "metadata": {},
   "source": [
    "* ***Постройте график кумулятивного среднего количества заказов на посетителя по группам. Сделайте выводы и предположения.***"
   ]
  },
  {
   "cell_type": "code",
   "execution_count": 37,
   "metadata": {},
   "outputs": [],
   "source": [
    "# считаем Количество заказов\n",
    "cumulativeData['conversion'] = cumulativeData['orders']/cumulativeData['visitors']"
   ]
  },
  {
   "cell_type": "code",
   "execution_count": 38,
   "metadata": {},
   "outputs": [],
   "source": [
    "# отделяем данные по группе A\n",
    "cumulativeDataA = cumulativeData[cumulativeData['group']=='A']"
   ]
  },
  {
   "cell_type": "code",
   "execution_count": 39,
   "metadata": {},
   "outputs": [],
   "source": [
    "# отделяем данные по группе B\n",
    "cumulativeDataB = cumulativeData[cumulativeData['group']=='B']"
   ]
  },
  {
   "cell_type": "code",
   "execution_count": 40,
   "metadata": {},
   "outputs": [
    {
     "data": {
      "image/png": "[encoded data removed]",
      "text/plain": [
       "<Figure size 1080x360 with 1 Axes>"
      ]
     },
     "metadata": {},
     "output_type": "display_data"
    }
   ],
   "source": [
    "# строим графики\n",
    "fig, ax = plt.subplots(figsize=(15, 5))\n",
    "plt.plot(cumulativeDataA['date'], cumulativeDataA['conversion'], label='A')\n",
    "plt.plot(cumulativeDataB['date'], cumulativeDataB['conversion'], label='B')\n",
    "plt.legend()\n",
    "plt.title('Количество заказов')\n",
    "plt.xlabel('Дата')\n",
    "plt.ylabel('Количество заказов');"
   ]
  },
  {
   "cell_type": "markdown",
   "metadata": {},
   "source": [
    "Группы стартовали с очень разных значений, но затем группа A постепенно уменьшилась, а группа B стабилизировалась. Абсолютное значение колебания в начале и в конце теста в пределах 3%. "
   ]
  },
  {
   "cell_type": "markdown",
   "metadata": {},
   "source": [
    "* ***Постройте график относительного изменения кумулятивного среднего количества заказов на посетителя группы B к группе A. Сделайте выводы и предположения.***"
   ]
  },
  {
   "cell_type": "code",
   "execution_count": 41,
   "metadata": {},
   "outputs": [],
   "source": [
    "mergedCumulativeConversions = cumulativeDataA[['date','conversion']].merge(cumulativeDataB[['date','conversion']], left_on='date', right_on='date', how='left', suffixes=['A', 'B'])"
   ]
  },
  {
   "cell_type": "code",
   "execution_count": 42,
   "metadata": {},
   "outputs": [
    {
     "data": {
      "image/png": "[encoded data removed]",
      "text/plain": [
       "<Figure size 720x576 with 1 Axes>"
      ]
     },
     "metadata": {},
     "output_type": "display_data"
    }
   ],
   "source": [
    "plt.plot(mergedCumulativeConversions['date'], mergedCumulativeConversions['conversionB']/mergedCumulativeConversions['conversionA']-1, label=\"Относительный прирост конверсии группы B относительно группы A\")\n",
    "plt.legend()\n",
    "\n",
    "plt.axhline(y=0, color='black', linestyle='--')\n",
    "plt.axhline(y=0.2, color='red', linestyle='--')\n",
    "plt.title('Относительный прирост количества заказов группы B относительно группы A')\n",
    "plt.xlabel('Дата')\n",
    "plt.ylabel('Прирост')\n",
    "plt.xticks(rotation=45);"
   ]
  },
  {
   "cell_type": "markdown",
   "metadata": {},
   "source": [
    "Группа A проигрывает группе B на протяжении почти всего теста. В начале теста конверсия уходит в минус, но это совсем короткий срок, буквально 2 дня. "
   ]
  },
  {
   "cell_type": "markdown",
   "metadata": {},
   "source": [
    "* ***Постройте точечный график количества заказов по пользователям. Сделайте выводы и предположения.***"
   ]
  },
  {
   "cell_type": "code",
   "execution_count": 43,
   "metadata": {},
   "outputs": [
    {
     "data": {
      "text/html": [
       "<div>\n",
       "<style scoped>\n",
       "    .dataframe tbody tr th:only-of-type {\n",
       "        vertical-align: middle;\n",
       "    }\n",
       "\n",
       "    .dataframe tbody tr th {\n",
       "        vertical-align: top;\n",
       "    }\n",
       "\n",
       "    .dataframe thead th {\n",
       "        text-align: right;\n",
       "    }\n",
       "</style>\n",
       "<table border=\"1\" class=\"dataframe\">\n",
       "  <thead>\n",
       "    <tr style=\"text-align: right;\">\n",
       "      <th></th>\n",
       "      <th>userId</th>\n",
       "      <th>orders</th>\n",
       "    </tr>\n",
       "  </thead>\n",
       "  <tbody>\n",
       "    <tr>\n",
       "      <th>0</th>\n",
       "      <td>5114589</td>\n",
       "      <td>1</td>\n",
       "    </tr>\n",
       "    <tr>\n",
       "      <th>1</th>\n",
       "      <td>6958315</td>\n",
       "      <td>1</td>\n",
       "    </tr>\n",
       "    <tr>\n",
       "      <th>2</th>\n",
       "      <td>8300375</td>\n",
       "      <td>2</td>\n",
       "    </tr>\n",
       "    <tr>\n",
       "      <th>3</th>\n",
       "      <td>11685486</td>\n",
       "      <td>1</td>\n",
       "    </tr>\n",
       "    <tr>\n",
       "      <th>4</th>\n",
       "      <td>39475350</td>\n",
       "      <td>1</td>\n",
       "    </tr>\n",
       "  </tbody>\n",
       "</table>\n",
       "</div>"
      ],
      "text/plain": [
       "     userId  orders\n",
       "0  5114589   1     \n",
       "1  6958315   1     \n",
       "2  8300375   2     \n",
       "3  11685486  1     \n",
       "4  39475350  1     "
      ]
     },
     "execution_count": 43,
     "metadata": {},
     "output_type": "execute_result"
    }
   ],
   "source": [
    "ordersByUsers= orders.groupby('visitorid', as_index=False).agg({'transactionid':'nunique'})\\\n",
    "                         .rename(columns={'transactionid':'orders', 'visitorid':'userId'})\n",
    "ordersByUsers.head()"
   ]
  },
  {
   "cell_type": "code",
   "execution_count": 44,
   "metadata": {},
   "outputs": [
    {
     "data": {
      "image/png": "[encoded data removed]",
      "text/plain": [
       "<Figure size 720x576 with 1 Axes>"
      ]
     },
     "metadata": {},
     "output_type": "display_data"
    }
   ],
   "source": [
    "x_values = pd.Series(range(0, len(ordersByUsers)))\n",
    "plt.scatter(x_values, ordersByUsers['orders'])\n",
    "plt.title('Количества заказов по пользователям')\n",
    "plt.xlabel('Пользователи')\n",
    "plt.ylabel('Количество заказов');"
   ]
  },
  {
   "cell_type": "markdown",
   "metadata": {},
   "source": [
    "Большинсво пользователей сделали 1 заказ. 2 пользователя сделали больше 10."
   ]
  },
  {
   "cell_type": "markdown",
   "metadata": {},
   "source": [
    "* ***Посчитайте 95-й и 99-й перцентили количества заказов на пользователя. Выберите границу для определения аномальных пользователей.***"
   ]
  },
  {
   "cell_type": "code",
   "execution_count": 45,
   "metadata": {},
   "outputs": [
    {
     "name": "stdout",
     "output_type": "stream",
     "text": [
      "90 перцентиль: 1.00\n",
      "95 перцентиль: 2.00\n",
      "99 перцентиль: 4.00\n"
     ]
    }
   ],
   "source": [
    "print('90 перцентиль: %.2f' % (np.percentile(ordersByUsers['orders'], [90])))\n",
    "print('95 перцентиль: %.2f' % (np.percentile(ordersByUsers['orders'], [95])))\n",
    "print('99 перцентиль: %.2f' % (np.percentile(ordersByUsers['orders'], [99])))"
   ]
  },
  {
   "cell_type": "markdown",
   "metadata": {},
   "source": [
    "Не более 5% пользователей совершили больше 2-х заказов. И не более 1% пользователей более 4-х. Аномальным признаем покупателей совершивших более 4-х заказов."
   ]
  },
  {
   "cell_type": "markdown",
   "metadata": {},
   "source": [
    "* ***Постройте точечный график стоимостей заказов. Сделайте выводы и предположения.***"
   ]
  },
  {
   "cell_type": "code",
   "execution_count": 46,
   "metadata": {},
   "outputs": [
    {
     "data": {
      "text/html": [
       "<div>\n",
       "<style scoped>\n",
       "    .dataframe tbody tr th:only-of-type {\n",
       "        vertical-align: middle;\n",
       "    }\n",
       "\n",
       "    .dataframe tbody tr th {\n",
       "        vertical-align: top;\n",
       "    }\n",
       "\n",
       "    .dataframe thead th {\n",
       "        text-align: right;\n",
       "    }\n",
       "</style>\n",
       "<table border=\"1\" class=\"dataframe\">\n",
       "  <thead>\n",
       "    <tr style=\"text-align: right;\">\n",
       "      <th></th>\n",
       "      <th>transactionid</th>\n",
       "      <th>visitorid</th>\n",
       "      <th>date</th>\n",
       "      <th>revenue</th>\n",
       "      <th>group</th>\n",
       "    </tr>\n",
       "  </thead>\n",
       "  <tbody>\n",
       "    <tr>\n",
       "      <th>425</th>\n",
       "      <td>590470918</td>\n",
       "      <td>1920142716</td>\n",
       "      <td>2019-08-19</td>\n",
       "      <td>1294500</td>\n",
       "      <td>B</td>\n",
       "    </tr>\n",
       "    <tr>\n",
       "      <th>1196</th>\n",
       "      <td>3936777065</td>\n",
       "      <td>2108080724</td>\n",
       "      <td>2019-08-15</td>\n",
       "      <td>202740</td>\n",
       "      <td>B</td>\n",
       "    </tr>\n",
       "    <tr>\n",
       "      <th>858</th>\n",
       "      <td>192721366</td>\n",
       "      <td>1316129916</td>\n",
       "      <td>2019-08-27</td>\n",
       "      <td>93940</td>\n",
       "      <td>A</td>\n",
       "    </tr>\n",
       "    <tr>\n",
       "      <th>1136</th>\n",
       "      <td>666610489</td>\n",
       "      <td>1307669133</td>\n",
       "      <td>2019-08-13</td>\n",
       "      <td>92550</td>\n",
       "      <td>A</td>\n",
       "    </tr>\n",
       "    <tr>\n",
       "      <th>744</th>\n",
       "      <td>3668308183</td>\n",
       "      <td>888512513</td>\n",
       "      <td>2019-08-27</td>\n",
       "      <td>86620</td>\n",
       "      <td>B</td>\n",
       "    </tr>\n",
       "    <tr>\n",
       "      <th>682</th>\n",
       "      <td>1216533772</td>\n",
       "      <td>4266935830</td>\n",
       "      <td>2019-08-29</td>\n",
       "      <td>78990</td>\n",
       "      <td>B</td>\n",
       "    </tr>\n",
       "    <tr>\n",
       "      <th>662</th>\n",
       "      <td>1811671147</td>\n",
       "      <td>4266935830</td>\n",
       "      <td>2019-08-29</td>\n",
       "      <td>78990</td>\n",
       "      <td>A</td>\n",
       "    </tr>\n",
       "    <tr>\n",
       "      <th>743</th>\n",
       "      <td>3603576309</td>\n",
       "      <td>4133034833</td>\n",
       "      <td>2019-08-09</td>\n",
       "      <td>67990</td>\n",
       "      <td>A</td>\n",
       "    </tr>\n",
       "    <tr>\n",
       "      <th>1103</th>\n",
       "      <td>1348774318</td>\n",
       "      <td>1164614297</td>\n",
       "      <td>2019-08-12</td>\n",
       "      <td>66350</td>\n",
       "      <td>A</td>\n",
       "    </tr>\n",
       "    <tr>\n",
       "      <th>1099</th>\n",
       "      <td>316924019</td>\n",
       "      <td>148427295</td>\n",
       "      <td>2019-08-12</td>\n",
       "      <td>65710</td>\n",
       "      <td>A</td>\n",
       "    </tr>\n",
       "  </tbody>\n",
       "</table>\n",
       "</div>"
      ],
      "text/plain": [
       "      transactionid   visitorid        date  revenue group\n",
       "425   590470918      1920142716  2019-08-19  1294500  B   \n",
       "1196  3936777065     2108080724  2019-08-15  202740   B   \n",
       "858   192721366      1316129916  2019-08-27  93940    A   \n",
       "1136  666610489      1307669133  2019-08-13  92550    A   \n",
       "744   3668308183     888512513   2019-08-27  86620    B   \n",
       "682   1216533772     4266935830  2019-08-29  78990    B   \n",
       "662   1811671147     4266935830  2019-08-29  78990    A   \n",
       "743   3603576309     4133034833  2019-08-09  67990    A   \n",
       "1103  1348774318     1164614297  2019-08-12  66350    A   \n",
       "1099  316924019      148427295   2019-08-12  65710    A   "
      ]
     },
     "metadata": {},
     "output_type": "display_data"
    }
   ],
   "source": [
    "display(orders.sort_values(by='revenue', ascending=False).head(10))"
   ]
  },
  {
   "cell_type": "code",
   "execution_count": 47,
   "metadata": {
    "scrolled": false
   },
   "outputs": [
    {
     "data": {
      "image/png": "[encoded data removed]",
      "text/plain": [
       "<Figure size 720x576 with 1 Axes>"
      ]
     },
     "metadata": {},
     "output_type": "display_data"
    }
   ],
   "source": [
    "x_values = pd.Series(range(0, len(orders['revenue'])))\n",
    "plt.scatter(x_values, orders['revenue'])\n",
    "plt.title('График тоимости заказов')\n",
    "plt.xlabel('Пользователи')\n",
    "plt.ylabel('Стоимость заказов'); "
   ]
  },
  {
   "cell_type": "markdown",
   "metadata": {},
   "source": [
    "Есть 2 выброса, это заказ на сумму 1294500 и 202740. Построим график без выбросов."
   ]
  },
  {
   "cell_type": "code",
   "execution_count": 48,
   "metadata": {
    "scrolled": false
   },
   "outputs": [
    {
     "data": {
      "image/png": "[encoded data removed]",
      "text/plain": [
       "<Figure size 720x576 with 1 Axes>"
      ]
     },
     "metadata": {},
     "output_type": "display_data"
    }
   ],
   "source": [
    "ny=orders.query('revenue <= 93940')\n",
    "x_values = pd.Series(range(0, len(ny['revenue'])))\n",
    "plt.scatter(x_values, ny['revenue'])\n",
    "plt.title('График тоимости заказов')\n",
    "plt.xlabel('Пользователи')\n",
    "plt.ylabel('Стоимость заказов'); "
   ]
  },
  {
   "cell_type": "markdown",
   "metadata": {},
   "source": [
    "В большинстве своем сумма заказов составляет 28000, все то, что выше, единичные случаи. "
   ]
  },
  {
   "cell_type": "markdown",
   "metadata": {},
   "source": [
    "* ***Посчитайте 95-й и 99-й перцентили стоимости заказов. Выберите границу для определения аномальных заказов.***"
   ]
  },
  {
   "cell_type": "code",
   "execution_count": 49,
   "metadata": {},
   "outputs": [
    {
     "name": "stdout",
     "output_type": "stream",
     "text": [
      "90 перцентиль: 18168.00\n",
      "95 перцентиль: 28000.00\n",
      "99 перцентиль: 58233.20\n"
     ]
    }
   ],
   "source": [
    "print('90 перцентиль: %.2f' % (np.percentile(orders['revenue'], [90])))\n",
    "print('95 перцентиль: %.2f' % (np.percentile(orders['revenue'], [95])))\n",
    "print('99 перцентиль: %.2f' % (np.percentile(orders['revenue'], [99])))"
   ]
  },
  {
   "cell_type": "markdown",
   "metadata": {},
   "source": [
    "Все, что за 95 перцентилем — аномально."
   ]
  },
  {
   "cell_type": "markdown",
   "metadata": {},
   "source": [
    "* ***Посчитайте статистическую значимость различий в среднем количестве заказов на посетителя между группами по «сырым» данным. Сделайте выводы и предположения.***"
   ]
  },
  {
   "cell_type": "code",
   "execution_count": 50,
   "metadata": {
    "scrolled": true
   },
   "outputs": [
    {
     "data": {
      "text/html": [
       "<div>\n",
       "<style scoped>\n",
       "    .dataframe tbody tr th:only-of-type {\n",
       "        vertical-align: middle;\n",
       "    }\n",
       "\n",
       "    .dataframe tbody tr th {\n",
       "        vertical-align: top;\n",
       "    }\n",
       "\n",
       "    .dataframe thead th {\n",
       "        text-align: right;\n",
       "    }\n",
       "</style>\n",
       "<table border=\"1\" class=\"dataframe\">\n",
       "  <thead>\n",
       "    <tr style=\"text-align: right;\">\n",
       "      <th></th>\n",
       "      <th>transactionid</th>\n",
       "      <th>visitorid</th>\n",
       "      <th>date</th>\n",
       "      <th>revenue</th>\n",
       "      <th>group</th>\n",
       "    </tr>\n",
       "  </thead>\n",
       "  <tbody>\n",
       "    <tr>\n",
       "      <th>0</th>\n",
       "      <td>3667963787</td>\n",
       "      <td>3312258926</td>\n",
       "      <td>2019-08-15</td>\n",
       "      <td>1650</td>\n",
       "      <td>B</td>\n",
       "    </tr>\n",
       "    <tr>\n",
       "      <th>1</th>\n",
       "      <td>2804400009</td>\n",
       "      <td>3642806036</td>\n",
       "      <td>2019-08-15</td>\n",
       "      <td>730</td>\n",
       "      <td>B</td>\n",
       "    </tr>\n",
       "    <tr>\n",
       "      <th>2</th>\n",
       "      <td>2961555356</td>\n",
       "      <td>4069496402</td>\n",
       "      <td>2019-08-15</td>\n",
       "      <td>400</td>\n",
       "      <td>A</td>\n",
       "    </tr>\n",
       "    <tr>\n",
       "      <th>3</th>\n",
       "      <td>3797467345</td>\n",
       "      <td>1196621759</td>\n",
       "      <td>2019-08-15</td>\n",
       "      <td>9759</td>\n",
       "      <td>B</td>\n",
       "    </tr>\n",
       "    <tr>\n",
       "      <th>4</th>\n",
       "      <td>2282983706</td>\n",
       "      <td>2322279887</td>\n",
       "      <td>2019-08-15</td>\n",
       "      <td>2308</td>\n",
       "      <td>B</td>\n",
       "    </tr>\n",
       "  </tbody>\n",
       "</table>\n",
       "</div>"
      ],
      "text/plain": [
       "   transactionid   visitorid        date  revenue group\n",
       "0  3667963787     3312258926  2019-08-15  1650     B   \n",
       "1  2804400009     3642806036  2019-08-15  730      B   \n",
       "2  2961555356     4069496402  2019-08-15  400      A   \n",
       "3  3797467345     1196621759  2019-08-15  9759     B   \n",
       "4  2282983706     2322279887  2019-08-15  2308     B   "
      ]
     },
     "execution_count": 50,
     "metadata": {},
     "output_type": "execute_result"
    }
   ],
   "source": [
    "orders.head(5)"
   ]
  },
  {
   "cell_type": "markdown",
   "metadata": {},
   "source": [
    "Сформулируем гипотезы. Нулевая: различий в среднем количестве заказов между группами нет. Альтернативная: различия в среднем между группами есть. Уровень значимости равен 0.05."
   ]
  },
  {
   "cell_type": "code",
   "execution_count": 51,
   "metadata": {},
   "outputs": [],
   "source": [
    "visitorsADaily = visitors[visitors['group'] == 'A'][['date', 'visitors']]\n",
    "visitorsADaily.columns = ['date', 'visitorsPerDateA']\n",
    "visitorsBDaily = visitors[visitors['group'] == 'B'][['date', 'visitors']]\n",
    "visitorsBDaily.columns = ['date', 'visitorsPerDateB']\n",
    "ordersByUsersA = (\n",
    "    orders[orders['group'] == 'A']\n",
    "    .groupby('visitorid', as_index=False)\n",
    "    .agg({'transactionid': pd.Series.nunique})\n",
    ")\n",
    "ordersByUsersA.columns = ['userId', 'orders']\n",
    "ordersByUsersB = (\n",
    "    orders[orders['group'] == 'B']\n",
    "    .groupby('visitorid', as_index=False)\n",
    "    .agg({'transactionid': pd.Series.nunique})\n",
    ")\n",
    "ordersByUsersB.columns = ['userId', 'orders']"
   ]
  },
  {
   "cell_type": "code",
   "execution_count": 52,
   "metadata": {},
   "outputs": [],
   "source": [
    "ordersADaily = (\n",
    "    orders[orders['group'] == 'A'][['date', 'transactionid', 'visitorid', 'revenue']]\n",
    "    .groupby('date', as_index=False)\n",
    "    .agg({'transactionid': pd.Series.nunique, 'revenue': 'sum'})\n",
    ")\n",
    "ordersADaily.columns = ['date', 'ordersPerDateA', 'revenuePerDateA']"
   ]
  },
  {
   "cell_type": "code",
   "execution_count": 53,
   "metadata": {},
   "outputs": [],
   "source": [
    "ordersBDaily = (\n",
    "    orders[orders['group'] == 'B'][['date', 'transactionid', 'visitorid', 'revenue']]\n",
    "    .groupby('date', as_index=False)\n",
    "    .agg({'transactionid': pd.Series.nunique, 'revenue': 'sum'})\n",
    ")\n",
    "ordersBDaily.columns = ['date', 'ordersPerDateB', 'revenuePerDateB']"
   ]
  },
  {
   "cell_type": "code",
   "execution_count": 54,
   "metadata": {},
   "outputs": [],
   "source": [
    "sampleA = pd.concat([ordersByUsersA['orders'],pd.Series(0, index=np.arange(visitorsADaily['visitorsPerDateA'].sum() - len(ordersByUsersA['orders'])), name='orders')],axis=0)\n",
    "\n",
    "sampleB = pd.concat([ordersByUsersB['orders'],pd.Series(0, index=np.arange(visitorsBDaily['visitorsPerDateB'].sum() - len(ordersByUsersB['orders'])), name='orders')],axis=0)"
   ]
  },
  {
   "cell_type": "code",
   "execution_count": 55,
   "metadata": {
    "scrolled": true
   },
   "outputs": [
    {
     "name": "stdout",
     "output_type": "stream",
     "text": [
      "p-value: 0.01679\n",
      "выигрыш группы B: 0.138\n"
     ]
    }
   ],
   "source": [
    "print('p-value:',\"{0:.5f}\".format(stats.mannwhitneyu(sampleA, sampleB)[1]))\n",
    "print('выигрыш группы B:',\"{0:.3f}\".format((ordersBDaily['ordersPerDateB'].sum()/visitorsBDaily['visitorsPerDateB'].sum())/(ordersADaily['ordersPerDateA'].sum()/visitorsADaily['visitorsPerDateA'].sum())-1))"
   ]
  },
  {
   "cell_type": "markdown",
   "metadata": {},
   "source": [
    "По \"сырым\" данным различия между группами A и B есть: p-value меньше 0.05, и нулевую гипотезу о том, что статистически значимых различий в количестве заказов между группами нет, следует отвергнуть. Относительный выигрыш группы B равен 14%."
   ]
  },
  {
   "cell_type": "markdown",
   "metadata": {},
   "source": [
    "* ***Посчитайте статистическую значимость различий в среднем чеке заказа между группами по «сырым» данным. Сделайте выводы и предположения.***"
   ]
  },
  {
   "cell_type": "markdown",
   "metadata": {},
   "source": [
    "Найдём относительные различия в среднем чеке между группами: Нулевая - статистически значимых различий в среднем чеке между группами нет. Альтернативная - статистически значимые различия есть."
   ]
  },
  {
   "cell_type": "code",
   "execution_count": 56,
   "metadata": {
    "scrolled": true
   },
   "outputs": [
    {
     "name": "stdout",
     "output_type": "stream",
     "text": [
      "p-value: 0.729\n",
      "выигрыш группы B: 0.259\n"
     ]
    }
   ],
   "source": [
    "print('p-value:','{0:.3f}'.format(stats.mannwhitneyu(orders[orders['group']=='A']['revenue'], orders[orders['group']=='B']['revenue'])[1]))\n",
    "print('выигрыш группы B:','{0:.3f}'.format(orders[orders['group']=='B']['revenue'].mean()/orders[orders['group']=='A']['revenue'].mean()-1)) "
   ]
  },
  {
   "cell_type": "markdown",
   "metadata": {},
   "source": [
    "По сырым данным различий между средними чеками нет: P-value значительно больше 0.05, значит, причин отвергать нулевую гипотезу, нет. Средний чек группы B значительно выше среднего чека группы A."
   ]
  },
  {
   "cell_type": "markdown",
   "metadata": {},
   "source": [
    "* ***Посчитайте статистическую значимость различий в среднем количестве заказов на посетителя между группами по «очищенным» данным. Сделайте выводы и предположения.***"
   ]
  },
  {
   "cell_type": "markdown",
   "metadata": {},
   "source": [
    "Примем за аномальных пользователей тех, кто совершил от 4 заказов или совершил заказ дороже 28 000 рублей. Так мы уберём 1% пользователей с наибольшим числом заказов и от 1% до 5% пользователей с дорогими заказами. "
   ]
  },
  {
   "cell_type": "code",
   "execution_count": 57,
   "metadata": {
    "scrolled": false
   },
   "outputs": [
    {
     "name": "stdout",
     "output_type": "stream",
     "text": [
      "1099    148427295\n",
      "928     204675465\n",
      "684     358944393\n",
      "648     382846391\n",
      "1189    393266494\n",
      "dtype: int64\n",
      "Количество аномальных пользователей: 59\n"
     ]
    }
   ],
   "source": [
    "#Узнаем, сколько всего аномальных пользователей.\n",
    "usersWithManyOrders = pd.concat(\n",
    "    [\n",
    "        ordersByUsersA[ordersByUsersA['orders'] > 4]['userId'],\n",
    "        ordersByUsersB[ordersByUsersB['orders'] > 4]['userId'],\n",
    "    ],\n",
    "    axis=0,\n",
    ")\n",
    "usersWithExpensiveOrders = orders[orders['revenue'] > 28000]['visitorid']\n",
    "abnormalUsers = (\n",
    "    pd.concat([usersWithManyOrders, usersWithExpensiveOrders], axis=0)\n",
    "    .drop_duplicates()\n",
    "    .sort_values()\n",
    ")\n",
    "print(abnormalUsers.head(5))\n",
    "print('Количество аномальных пользователей:', abnormalUsers.shape[0])"
   ]
  },
  {
   "cell_type": "markdown",
   "metadata": {},
   "source": [
    "Всего 59 аномальных пользователей. Узнаем, как их действия повлияли на результаты теста. Посчитаем статистическую значимость различий в среднем количестве заказов между группами теста по очищенным данным. Гипотезы: Нулевая - статистически значимых различий в среднем количестве заказов на посетителя между группами нет. Альтернативная - статистически значимые различия есть."
   ]
  },
  {
   "cell_type": "code",
   "execution_count": 58,
   "metadata": {},
   "outputs": [],
   "source": [
    "# подготовим выборки количества заказов по пользователям по группам теста\n",
    "sampleAFiltered = pd.concat(\n",
    "    [\n",
    "        ordersByUsersA[\n",
    "            np.logical_not(ordersByUsersA['userId'].isin(abnormalUsers))\n",
    "        ]['orders'],\n",
    "        pd.Series(\n",
    "            0,\n",
    "            index=np.arange(\n",
    "                visitorsADaily['visitorsPerDateA'].sum() - len(ordersByUsersA['orders'])\n",
    "            ),\n",
    "            name='orders',\n",
    "        ),\n",
    "    ],\n",
    "    axis=0,\n",
    ")\n",
    "\n",
    "sampleBFiltered = pd.concat(\n",
    "    [\n",
    "        ordersByUsersB[\n",
    "            np.logical_not(ordersByUsersB['userId'].isin(abnormalUsers))\n",
    "        ]['orders'],\n",
    "        pd.Series(\n",
    "            0,\n",
    "            index=np.arange(\n",
    "                visitorsBDaily['visitorsPerDateB'].sum() - len(ordersByUsersB['orders'])\n",
    "            ),\n",
    "            name='orders',\n",
    "        ),\n",
    "    ],\n",
    "    axis=0,\n",
    ")"
   ]
  },
  {
   "cell_type": "code",
   "execution_count": 59,
   "metadata": {},
   "outputs": [
    {
     "name": "stdout",
     "output_type": "stream",
     "text": [
      "p-value: 0.018\n",
      "выигрыш группы B: 0.145\n"
     ]
    }
   ],
   "source": [
    "#Применим статистический критерий Манна-Уитни к полученным выборкам\n",
    "print('p-value:','{0:.3f}'.format(stats.mannwhitneyu(sampleAFiltered, sampleBFiltered)[1]))\n",
    "print('выигрыш группы B:','{0:.3f}'.format(sampleBFiltered.mean()/sampleAFiltered.mean()-1))"
   ]
  },
  {
   "cell_type": "markdown",
   "metadata": {},
   "source": [
    "По \"очищенным\" данным различия между группами A и B есть: p-value заметно меньше 0.05, и нулевую гипотезу о том, что статистически значимых различий в количестве заказов между группами нет, следует отвергнуть. Относительный выигрыш группы B увеличился и равен 15%, а был 14%."
   ]
  },
  {
   "cell_type": "markdown",
   "metadata": {},
   "source": [
    "* ***Посчитайте статистическую значимость различий в среднем чеке заказа между группами по «очищенным» данным. Сделайте выводы и предположения.***"
   ]
  },
  {
   "cell_type": "markdown",
   "metadata": {},
   "source": [
    "Найдём статистическую значимость различий в среднем чеке заказа между группами. Гипотезы: нулевая - статистически значимых различий в среднем чеке между группами нет. Альтернативная - статистически значимые различия есть."
   ]
  },
  {
   "cell_type": "code",
   "execution_count": 60,
   "metadata": {},
   "outputs": [
    {
     "name": "stdout",
     "output_type": "stream",
     "text": [
      "p-value: 0.961\n",
      "выигрыш группы B: -0.014\n"
     ]
    }
   ],
   "source": [
    "print('p-value:',\n",
    "    '{0:.3f}'.format(\n",
    "        stats.mannwhitneyu(\n",
    "            orders[\n",
    "                np.logical_and(\n",
    "                    orders['group'] == 'A',\n",
    "                    np.logical_not(orders['visitorid'].isin(abnormalUsers)),\n",
    "                )\n",
    "            ]['revenue'],\n",
    "            orders[\n",
    "                np.logical_and(\n",
    "                    orders['group'] == 'B',\n",
    "                    np.logical_not(orders['visitorid'].isin(abnormalUsers)),\n",
    "                )\n",
    "            ]['revenue'],\n",
    "        )[1]\n",
    "    )\n",
    ")\n",
    "\n",
    "print('выигрыш группы B:',\n",
    "    \"{0:.3f}\".format(\n",
    "        orders[\n",
    "            np.logical_and(\n",
    "                orders['group'] == 'B',\n",
    "                np.logical_not(orders['visitorid'].isin(abnormalUsers)),\n",
    "            )\n",
    "        ]['revenue'].mean()\n",
    "        / orders[\n",
    "            np.logical_and(\n",
    "                orders['group'] == 'A',\n",
    "                np.logical_not(orders['visitorid'].isin(abnormalUsers)),\n",
    "            )\n",
    "        ]['revenue'].mean()\n",
    "        - 1\n",
    "    )\n",
    ")"
   ]
  },
  {
   "cell_type": "markdown",
   "metadata": {},
   "source": [
    "P-value остался значительно больше 0.05. Значит, причин отвергать нулевую гипотезу и считать, что в среднем чеке есть различия, по-прежнему нет. А вот средний чек группы B без выбросов стал ниже среднего чека группы A, хотя и ненамного."
   ]
  },
  {
   "cell_type": "markdown",
   "metadata": {},
   "source": [
    "* ***Примите решение по результатам теста и объясните его.***"
   ]
  },
  {
   "cell_type": "markdown",
   "metadata": {},
   "source": [
    "* Есть статистически значимое различие в количестве заказов между группами как по сырым данным, так и после фильтрации аномалий.\n",
    "* Статистически значимое различие в среднем чеке по сырым данным и после фильтрации нет.\n",
    "* График различия количества заказов между группами показывает, что результаты группы B лучше группы A: имеют тенденцию к росту, либо зафиксировались около среднего значения.\n",
    "* В целом тест можно остановить. Мы увидели прирост количества заказов в группе B, но на среднем чеке проверяемая гипотеза не сказалась."
   ]
  }
 ],
 "metadata": {
  "ExecuteTimeLog": [
   {
    "duration": 4,
    "start_time": "2023-01-12T13:13:11.271Z"
   },
   {
    "duration": 3,
    "start_time": "2023-01-12T13:14:55.017Z"
   },
   {
    "duration": 2,
    "start_time": "2023-01-12T13:25:47.954Z"
   },
   {
    "duration": 1277,
    "start_time": "2023-01-12T13:36:00.325Z"
   },
   {
    "duration": 244,
    "start_time": "2023-01-12T13:39:34.277Z"
   },
   {
    "duration": 1038,
    "start_time": "2023-01-12T13:40:29.178Z"
   },
   {
    "duration": 72,
    "start_time": "2023-01-12T13:40:30.218Z"
   },
   {
    "duration": 2,
    "start_time": "2023-01-12T13:40:30.291Z"
   },
   {
    "duration": 2,
    "start_time": "2023-01-12T13:40:41.388Z"
   },
   {
    "duration": 2,
    "start_time": "2023-01-12T13:40:44.528Z"
   },
   {
    "duration": 3,
    "start_time": "2023-01-12T13:43:15.575Z"
   },
   {
    "duration": 1143,
    "start_time": "2023-01-12T13:43:21.187Z"
   },
   {
    "duration": 73,
    "start_time": "2023-01-12T13:43:22.332Z"
   },
   {
    "duration": 3,
    "start_time": "2023-01-12T13:43:22.406Z"
   },
   {
    "duration": 12,
    "start_time": "2023-01-12T13:43:49.452Z"
   },
   {
    "duration": 11,
    "start_time": "2023-01-12T13:44:20.776Z"
   },
   {
    "duration": 9,
    "start_time": "2023-01-12T13:46:29.606Z"
   },
   {
    "duration": 9,
    "start_time": "2023-01-12T13:46:44.162Z"
   },
   {
    "duration": 7,
    "start_time": "2023-01-12T13:46:52.954Z"
   },
   {
    "duration": 1082,
    "start_time": "2023-01-12T13:47:59.534Z"
   },
   {
    "duration": 74,
    "start_time": "2023-01-12T13:48:00.618Z"
   },
   {
    "duration": 11,
    "start_time": "2023-01-12T13:48:00.693Z"
   },
   {
    "duration": 23,
    "start_time": "2023-01-12T13:48:00.705Z"
   },
   {
    "duration": 33,
    "start_time": "2023-01-12T13:48:00.730Z"
   },
   {
    "duration": 40,
    "start_time": "2023-01-12T13:48:00.764Z"
   },
   {
    "duration": 8,
    "start_time": "2023-01-12T13:48:23.570Z"
   },
   {
    "duration": 10,
    "start_time": "2023-01-12T13:48:39.212Z"
   },
   {
    "duration": 6,
    "start_time": "2023-01-12T13:50:01.354Z"
   },
   {
    "duration": 6,
    "start_time": "2023-01-12T13:50:17.435Z"
   },
   {
    "duration": 7,
    "start_time": "2023-01-12T13:50:31.707Z"
   },
   {
    "duration": 95,
    "start_time": "2023-01-12T13:51:29.742Z"
   },
   {
    "duration": 5,
    "start_time": "2023-01-12T13:51:46.172Z"
   },
   {
    "duration": 6,
    "start_time": "2023-01-12T13:52:17.019Z"
   },
   {
    "duration": 5,
    "start_time": "2023-01-12T13:52:38.867Z"
   },
   {
    "duration": 1103,
    "start_time": "2023-01-12T13:52:45.695Z"
   },
   {
    "duration": 74,
    "start_time": "2023-01-12T13:52:46.800Z"
   },
   {
    "duration": 12,
    "start_time": "2023-01-12T13:52:46.875Z"
   },
   {
    "duration": 25,
    "start_time": "2023-01-12T13:52:46.889Z"
   },
   {
    "duration": 11,
    "start_time": "2023-01-12T13:52:46.916Z"
   },
   {
    "duration": 12,
    "start_time": "2023-01-12T13:52:46.934Z"
   },
   {
    "duration": 14,
    "start_time": "2023-01-12T13:52:46.947Z"
   },
   {
    "duration": 13,
    "start_time": "2023-01-12T13:52:46.963Z"
   },
   {
    "duration": 10,
    "start_time": "2023-01-12T13:52:46.978Z"
   },
   {
    "duration": 11,
    "start_time": "2023-01-12T13:52:46.990Z"
   },
   {
    "duration": 9,
    "start_time": "2023-01-12T13:52:47.002Z"
   },
   {
    "duration": 6,
    "start_time": "2023-01-12T13:52:47.027Z"
   },
   {
    "duration": 8,
    "start_time": "2023-01-12T13:52:47.034Z"
   },
   {
    "duration": 8,
    "start_time": "2023-01-12T13:52:47.043Z"
   },
   {
    "duration": 1199,
    "start_time": "2023-01-12T14:00:11.893Z"
   },
   {
    "duration": 74,
    "start_time": "2023-01-12T14:00:13.094Z"
   },
   {
    "duration": 11,
    "start_time": "2023-01-12T14:00:13.170Z"
   },
   {
    "duration": 10,
    "start_time": "2023-01-12T14:00:13.182Z"
   },
   {
    "duration": 14,
    "start_time": "2023-01-12T14:00:13.194Z"
   },
   {
    "duration": 10,
    "start_time": "2023-01-12T14:00:13.210Z"
   },
   {
    "duration": 12,
    "start_time": "2023-01-12T14:00:13.222Z"
   },
   {
    "duration": 17,
    "start_time": "2023-01-12T14:00:13.235Z"
   },
   {
    "duration": 10,
    "start_time": "2023-01-12T14:00:13.254Z"
   },
   {
    "duration": 12,
    "start_time": "2023-01-12T14:00:13.266Z"
   },
   {
    "duration": 14,
    "start_time": "2023-01-12T14:00:13.279Z"
   },
   {
    "duration": 11,
    "start_time": "2023-01-12T14:00:13.295Z"
   },
   {
    "duration": 14,
    "start_time": "2023-01-12T14:00:13.308Z"
   },
   {
    "duration": 5,
    "start_time": "2023-01-12T14:00:13.327Z"
   },
   {
    "duration": 3,
    "start_time": "2023-01-12T14:01:27.581Z"
   },
   {
    "duration": 4,
    "start_time": "2023-01-12T14:01:58.216Z"
   },
   {
    "duration": 131,
    "start_time": "2023-01-12T14:02:06.798Z"
   },
   {
    "duration": 8,
    "start_time": "2023-01-12T14:02:17.698Z"
   },
   {
    "duration": 46,
    "start_time": "2023-01-12T14:49:31.915Z"
   },
   {
    "duration": 8,
    "start_time": "2023-01-12T14:50:06.102Z"
   },
   {
    "duration": 7,
    "start_time": "2023-01-12T14:50:41.590Z"
   },
   {
    "duration": 1294,
    "start_time": "2023-01-13T09:36:41.530Z"
   },
   {
    "duration": 183,
    "start_time": "2023-01-13T09:36:42.827Z"
   },
   {
    "duration": 11,
    "start_time": "2023-01-13T09:36:43.011Z"
   },
   {
    "duration": 52,
    "start_time": "2023-01-13T09:36:43.024Z"
   },
   {
    "duration": 65,
    "start_time": "2023-01-13T09:36:43.078Z"
   },
   {
    "duration": 35,
    "start_time": "2023-01-13T09:36:43.144Z"
   },
   {
    "duration": 31,
    "start_time": "2023-01-13T09:36:43.181Z"
   },
   {
    "duration": 42,
    "start_time": "2023-01-13T09:36:43.213Z"
   },
   {
    "duration": 62,
    "start_time": "2023-01-13T09:36:43.256Z"
   },
   {
    "duration": 42,
    "start_time": "2023-01-13T09:36:43.320Z"
   },
   {
    "duration": 21,
    "start_time": "2023-01-13T09:36:43.363Z"
   },
   {
    "duration": 28,
    "start_time": "2023-01-13T09:36:43.386Z"
   },
   {
    "duration": 59,
    "start_time": "2023-01-13T09:36:43.416Z"
   },
   {
    "duration": 36,
    "start_time": "2023-01-13T09:36:43.478Z"
   },
   {
    "duration": 40,
    "start_time": "2023-01-13T09:36:43.516Z"
   },
   {
    "duration": 21,
    "start_time": "2023-01-13T09:36:43.557Z"
   },
   {
    "duration": 20,
    "start_time": "2023-01-13T09:36:43.579Z"
   },
   {
    "duration": 19,
    "start_time": "2023-01-13T09:36:43.600Z"
   },
   {
    "duration": 119,
    "start_time": "2023-01-13T09:36:43.621Z"
   },
   {
    "duration": 0,
    "start_time": "2023-01-13T09:36:43.742Z"
   },
   {
    "duration": 1043,
    "start_time": "2023-01-13T09:37:05.357Z"
   },
   {
    "duration": 72,
    "start_time": "2023-01-13T09:37:06.403Z"
   },
   {
    "duration": 14,
    "start_time": "2023-01-13T09:37:06.476Z"
   },
   {
    "duration": 14,
    "start_time": "2023-01-13T09:37:06.491Z"
   },
   {
    "duration": 10,
    "start_time": "2023-01-13T09:37:06.507Z"
   },
   {
    "duration": 21,
    "start_time": "2023-01-13T09:37:06.518Z"
   },
   {
    "duration": 21,
    "start_time": "2023-01-13T09:37:06.541Z"
   },
   {
    "duration": 21,
    "start_time": "2023-01-13T09:37:06.564Z"
   },
   {
    "duration": 29,
    "start_time": "2023-01-13T09:37:06.587Z"
   },
   {
    "duration": 17,
    "start_time": "2023-01-13T09:37:06.617Z"
   },
   {
    "duration": 8,
    "start_time": "2023-01-13T09:37:06.636Z"
   },
   {
    "duration": 17,
    "start_time": "2023-01-13T09:37:06.645Z"
   },
   {
    "duration": 16,
    "start_time": "2023-01-13T09:37:06.663Z"
   },
   {
    "duration": 13,
    "start_time": "2023-01-13T09:37:06.682Z"
   },
   {
    "duration": 7,
    "start_time": "2023-01-13T09:37:06.697Z"
   },
   {
    "duration": 12,
    "start_time": "2023-01-13T09:37:06.706Z"
   },
   {
    "duration": 8,
    "start_time": "2023-01-13T09:37:06.719Z"
   },
   {
    "duration": 8,
    "start_time": "2023-01-13T09:37:06.728Z"
   },
   {
    "duration": 32,
    "start_time": "2023-01-13T09:37:06.737Z"
   },
   {
    "duration": 18,
    "start_time": "2023-01-13T09:37:06.771Z"
   },
   {
    "duration": 4,
    "start_time": "2023-01-13T09:37:39.408Z"
   },
   {
    "duration": 9,
    "start_time": "2023-01-13T09:37:48.060Z"
   },
   {
    "duration": 374,
    "start_time": "2023-01-13T09:37:58.955Z"
   },
   {
    "duration": 1038,
    "start_time": "2023-01-13T09:38:32.260Z"
   },
   {
    "duration": 74,
    "start_time": "2023-01-13T09:38:33.300Z"
   },
   {
    "duration": 10,
    "start_time": "2023-01-13T09:38:33.375Z"
   },
   {
    "duration": 10,
    "start_time": "2023-01-13T09:38:33.386Z"
   },
   {
    "duration": 8,
    "start_time": "2023-01-13T09:38:33.398Z"
   },
   {
    "duration": 18,
    "start_time": "2023-01-13T09:38:33.407Z"
   },
   {
    "duration": 9,
    "start_time": "2023-01-13T09:38:33.426Z"
   },
   {
    "duration": 11,
    "start_time": "2023-01-13T09:38:33.436Z"
   },
   {
    "duration": 10,
    "start_time": "2023-01-13T09:38:33.449Z"
   },
   {
    "duration": 9,
    "start_time": "2023-01-13T09:38:33.461Z"
   },
   {
    "duration": 4,
    "start_time": "2023-01-13T09:38:33.471Z"
   },
   {
    "duration": 9,
    "start_time": "2023-01-13T09:38:33.477Z"
   },
   {
    "duration": 26,
    "start_time": "2023-01-13T09:38:33.488Z"
   },
   {
    "duration": 10,
    "start_time": "2023-01-13T09:38:33.517Z"
   },
   {
    "duration": 7,
    "start_time": "2023-01-13T09:38:33.528Z"
   },
   {
    "duration": 13,
    "start_time": "2023-01-13T09:38:33.536Z"
   },
   {
    "duration": 9,
    "start_time": "2023-01-13T09:38:33.550Z"
   },
   {
    "duration": 5,
    "start_time": "2023-01-13T09:38:33.561Z"
   },
   {
    "duration": 6,
    "start_time": "2023-01-13T09:38:33.568Z"
   },
   {
    "duration": 10,
    "start_time": "2023-01-13T09:38:33.576Z"
   },
   {
    "duration": 23,
    "start_time": "2023-01-13T09:38:33.587Z"
   },
   {
    "duration": 23,
    "start_time": "2023-01-13T09:38:33.612Z"
   },
   {
    "duration": 352,
    "start_time": "2023-01-13T09:38:33.637Z"
   },
   {
    "duration": 2,
    "start_time": "2023-01-13T09:40:08.928Z"
   },
   {
    "duration": 1123,
    "start_time": "2023-01-13T09:40:19.773Z"
   },
   {
    "duration": 77,
    "start_time": "2023-01-13T09:40:20.898Z"
   },
   {
    "duration": 12,
    "start_time": "2023-01-13T09:40:20.976Z"
   },
   {
    "duration": 24,
    "start_time": "2023-01-13T09:40:20.989Z"
   },
   {
    "duration": 26,
    "start_time": "2023-01-13T09:40:21.014Z"
   },
   {
    "duration": 26,
    "start_time": "2023-01-13T09:40:21.042Z"
   },
   {
    "duration": 17,
    "start_time": "2023-01-13T09:40:21.070Z"
   },
   {
    "duration": 28,
    "start_time": "2023-01-13T09:40:21.089Z"
   },
   {
    "duration": 13,
    "start_time": "2023-01-13T09:40:21.118Z"
   },
   {
    "duration": 11,
    "start_time": "2023-01-13T09:40:21.133Z"
   },
   {
    "duration": 9,
    "start_time": "2023-01-13T09:40:21.145Z"
   },
   {
    "duration": 12,
    "start_time": "2023-01-13T09:40:21.155Z"
   },
   {
    "duration": 9,
    "start_time": "2023-01-13T09:40:21.169Z"
   },
   {
    "duration": 8,
    "start_time": "2023-01-13T09:40:21.179Z"
   },
   {
    "duration": 9,
    "start_time": "2023-01-13T09:40:21.189Z"
   },
   {
    "duration": 10,
    "start_time": "2023-01-13T09:40:21.199Z"
   },
   {
    "duration": 22,
    "start_time": "2023-01-13T09:40:21.210Z"
   },
   {
    "duration": 16,
    "start_time": "2023-01-13T09:40:21.234Z"
   },
   {
    "duration": 11,
    "start_time": "2023-01-13T09:40:21.252Z"
   },
   {
    "duration": 11,
    "start_time": "2023-01-13T09:40:21.264Z"
   },
   {
    "duration": 14,
    "start_time": "2023-01-13T09:40:21.277Z"
   },
   {
    "duration": 16,
    "start_time": "2023-01-13T09:40:21.293Z"
   },
   {
    "duration": 346,
    "start_time": "2023-01-13T09:40:21.311Z"
   },
   {
    "duration": 4,
    "start_time": "2023-01-13T09:57:17.417Z"
   },
   {
    "duration": 11,
    "start_time": "2023-01-13T09:57:41.640Z"
   },
   {
    "duration": 1199,
    "start_time": "2023-01-13T09:57:51.115Z"
   },
   {
    "duration": 72,
    "start_time": "2023-01-13T09:57:52.316Z"
   },
   {
    "duration": 12,
    "start_time": "2023-01-13T09:57:52.390Z"
   },
   {
    "duration": 44,
    "start_time": "2023-01-13T09:57:52.403Z"
   },
   {
    "duration": 44,
    "start_time": "2023-01-13T09:57:52.450Z"
   },
   {
    "duration": 49,
    "start_time": "2023-01-13T09:57:52.495Z"
   },
   {
    "duration": 61,
    "start_time": "2023-01-13T09:57:52.546Z"
   },
   {
    "duration": 62,
    "start_time": "2023-01-13T09:57:52.609Z"
   },
   {
    "duration": 48,
    "start_time": "2023-01-13T09:57:52.673Z"
   },
   {
    "duration": 23,
    "start_time": "2023-01-13T09:57:52.723Z"
   },
   {
    "duration": 41,
    "start_time": "2023-01-13T09:57:52.749Z"
   },
   {
    "duration": 23,
    "start_time": "2023-01-13T09:57:52.792Z"
   },
   {
    "duration": 35,
    "start_time": "2023-01-13T09:57:52.817Z"
   },
   {
    "duration": 36,
    "start_time": "2023-01-13T09:57:52.856Z"
   },
   {
    "duration": 36,
    "start_time": "2023-01-13T09:57:52.894Z"
   },
   {
    "duration": 41,
    "start_time": "2023-01-13T09:57:52.932Z"
   },
   {
    "duration": 24,
    "start_time": "2023-01-13T09:57:52.975Z"
   },
   {
    "duration": 28,
    "start_time": "2023-01-13T09:57:53.001Z"
   },
   {
    "duration": 27,
    "start_time": "2023-01-13T09:57:53.031Z"
   },
   {
    "duration": 36,
    "start_time": "2023-01-13T09:57:53.061Z"
   },
   {
    "duration": 30,
    "start_time": "2023-01-13T09:57:53.100Z"
   },
   {
    "duration": 50,
    "start_time": "2023-01-13T09:57:53.131Z"
   },
   {
    "duration": 29,
    "start_time": "2023-01-13T09:57:53.182Z"
   },
   {
    "duration": 42,
    "start_time": "2023-01-13T09:57:53.212Z"
   },
   {
    "duration": 409,
    "start_time": "2023-01-13T09:57:53.256Z"
   },
   {
    "duration": 1527,
    "start_time": "2023-01-13T09:59:05.111Z"
   },
   {
    "duration": 73,
    "start_time": "2023-01-13T09:59:06.641Z"
   },
   {
    "duration": 13,
    "start_time": "2023-01-13T09:59:06.716Z"
   },
   {
    "duration": 29,
    "start_time": "2023-01-13T09:59:06.732Z"
   },
   {
    "duration": 20,
    "start_time": "2023-01-13T09:59:06.763Z"
   },
   {
    "duration": 20,
    "start_time": "2023-01-13T09:59:06.785Z"
   },
   {
    "duration": 16,
    "start_time": "2023-01-13T09:59:06.807Z"
   },
   {
    "duration": 16,
    "start_time": "2023-01-13T09:59:06.824Z"
   },
   {
    "duration": 8,
    "start_time": "2023-01-13T09:59:06.842Z"
   },
   {
    "duration": 19,
    "start_time": "2023-01-13T09:59:06.853Z"
   },
   {
    "duration": 7,
    "start_time": "2023-01-13T09:59:06.874Z"
   },
   {
    "duration": 28,
    "start_time": "2023-01-13T09:59:06.883Z"
   },
   {
    "duration": 33,
    "start_time": "2023-01-13T09:59:06.914Z"
   },
   {
    "duration": 21,
    "start_time": "2023-01-13T09:59:06.949Z"
   },
   {
    "duration": 11,
    "start_time": "2023-01-13T09:59:06.971Z"
   },
   {
    "duration": 29,
    "start_time": "2023-01-13T09:59:06.984Z"
   },
   {
    "duration": 14,
    "start_time": "2023-01-13T09:59:07.016Z"
   },
   {
    "duration": 15,
    "start_time": "2023-01-13T09:59:07.033Z"
   },
   {
    "duration": 13,
    "start_time": "2023-01-13T09:59:07.050Z"
   },
   {
    "duration": 15,
    "start_time": "2023-01-13T09:59:07.066Z"
   },
   {
    "duration": 30,
    "start_time": "2023-01-13T09:59:07.083Z"
   },
   {
    "duration": 20,
    "start_time": "2023-01-13T09:59:07.115Z"
   },
   {
    "duration": 8,
    "start_time": "2023-01-13T09:59:07.137Z"
   },
   {
    "duration": 15,
    "start_time": "2023-01-13T09:59:07.147Z"
   },
   {
    "duration": 502,
    "start_time": "2023-01-13T09:59:07.164Z"
   },
   {
    "duration": 1411,
    "start_time": "2023-01-13T09:59:37.360Z"
   },
   {
    "duration": 85,
    "start_time": "2023-01-13T09:59:38.773Z"
   },
   {
    "duration": 17,
    "start_time": "2023-01-13T09:59:38.860Z"
   },
   {
    "duration": 15,
    "start_time": "2023-01-13T09:59:38.879Z"
   },
   {
    "duration": 18,
    "start_time": "2023-01-13T09:59:38.898Z"
   },
   {
    "duration": 23,
    "start_time": "2023-01-13T09:59:38.918Z"
   },
   {
    "duration": 31,
    "start_time": "2023-01-13T09:59:38.944Z"
   },
   {
    "duration": 22,
    "start_time": "2023-01-13T09:59:38.977Z"
   },
   {
    "duration": 10,
    "start_time": "2023-01-13T09:59:39.002Z"
   },
   {
    "duration": 19,
    "start_time": "2023-01-13T09:59:39.015Z"
   },
   {
    "duration": 12,
    "start_time": "2023-01-13T09:59:39.036Z"
   },
   {
    "duration": 20,
    "start_time": "2023-01-13T09:59:39.051Z"
   },
   {
    "duration": 14,
    "start_time": "2023-01-13T09:59:39.073Z"
   },
   {
    "duration": 6,
    "start_time": "2023-01-13T09:59:39.092Z"
   },
   {
    "duration": 7,
    "start_time": "2023-01-13T09:59:39.105Z"
   },
   {
    "duration": 29,
    "start_time": "2023-01-13T09:59:39.114Z"
   },
   {
    "duration": 17,
    "start_time": "2023-01-13T09:59:39.146Z"
   },
   {
    "duration": 12,
    "start_time": "2023-01-13T09:59:39.165Z"
   },
   {
    "duration": 6,
    "start_time": "2023-01-13T09:59:39.179Z"
   },
   {
    "duration": 11,
    "start_time": "2023-01-13T09:59:39.187Z"
   },
   {
    "duration": 17,
    "start_time": "2023-01-13T09:59:39.200Z"
   },
   {
    "duration": 23,
    "start_time": "2023-01-13T09:59:39.219Z"
   },
   {
    "duration": 10,
    "start_time": "2023-01-13T09:59:39.244Z"
   },
   {
    "duration": 11,
    "start_time": "2023-01-13T09:59:39.256Z"
   },
   {
    "duration": 485,
    "start_time": "2023-01-13T09:59:39.269Z"
   },
   {
    "duration": 116,
    "start_time": "2023-01-13T10:04:27.623Z"
   },
   {
    "duration": 12,
    "start_time": "2023-01-13T10:04:56.203Z"
   },
   {
    "duration": 1173,
    "start_time": "2023-01-13T10:17:40.405Z"
   },
   {
    "duration": 7,
    "start_time": "2023-01-13T10:17:53.438Z"
   },
   {
    "duration": 1090,
    "start_time": "2023-01-13T10:18:24.222Z"
   },
   {
    "duration": 71,
    "start_time": "2023-01-13T10:18:25.315Z"
   },
   {
    "duration": 11,
    "start_time": "2023-01-13T10:18:25.390Z"
   },
   {
    "duration": 48,
    "start_time": "2023-01-13T10:18:25.402Z"
   },
   {
    "duration": 40,
    "start_time": "2023-01-13T10:18:25.451Z"
   },
   {
    "duration": 53,
    "start_time": "2023-01-13T10:18:25.493Z"
   },
   {
    "duration": 35,
    "start_time": "2023-01-13T10:18:25.548Z"
   },
   {
    "duration": 89,
    "start_time": "2023-01-13T10:18:25.585Z"
   },
   {
    "duration": 56,
    "start_time": "2023-01-13T10:18:25.676Z"
   },
   {
    "duration": 44,
    "start_time": "2023-01-13T10:18:25.733Z"
   },
   {
    "duration": 50,
    "start_time": "2023-01-13T10:18:25.778Z"
   },
   {
    "duration": 36,
    "start_time": "2023-01-13T10:18:25.829Z"
   },
   {
    "duration": 77,
    "start_time": "2023-01-13T10:18:25.867Z"
   },
   {
    "duration": 44,
    "start_time": "2023-01-13T10:18:25.946Z"
   },
   {
    "duration": 56,
    "start_time": "2023-01-13T10:18:25.991Z"
   },
   {
    "duration": 57,
    "start_time": "2023-01-13T10:18:26.049Z"
   },
   {
    "duration": 57,
    "start_time": "2023-01-13T10:18:26.108Z"
   },
   {
    "duration": 52,
    "start_time": "2023-01-13T10:18:26.167Z"
   },
   {
    "duration": 44,
    "start_time": "2023-01-13T10:18:26.221Z"
   },
   {
    "duration": 51,
    "start_time": "2023-01-13T10:18:26.267Z"
   },
   {
    "duration": 45,
    "start_time": "2023-01-13T10:18:26.320Z"
   },
   {
    "duration": 39,
    "start_time": "2023-01-13T10:18:26.366Z"
   },
   {
    "duration": 43,
    "start_time": "2023-01-13T10:18:26.407Z"
   },
   {
    "duration": 56,
    "start_time": "2023-01-13T10:18:26.452Z"
   },
   {
    "duration": 431,
    "start_time": "2023-01-13T10:18:26.510Z"
   },
   {
    "duration": 12,
    "start_time": "2023-01-13T10:18:26.943Z"
   },
   {
    "duration": 31,
    "start_time": "2023-01-13T10:18:26.958Z"
   },
   {
    "duration": 91,
    "start_time": "2023-01-13T10:18:26.991Z"
   },
   {
    "duration": 13,
    "start_time": "2023-01-13T10:18:44.178Z"
   },
   {
    "duration": 5,
    "start_time": "2023-01-13T10:30:31.726Z"
   },
   {
    "duration": 7,
    "start_time": "2023-01-13T10:31:15.006Z"
   },
   {
    "duration": 9,
    "start_time": "2023-01-13T10:33:42.117Z"
   },
   {
    "duration": 8,
    "start_time": "2023-01-13T10:33:58.709Z"
   },
   {
    "duration": 1154,
    "start_time": "2023-01-13T10:34:02.959Z"
   },
   {
    "duration": 74,
    "start_time": "2023-01-13T10:34:04.115Z"
   },
   {
    "duration": 11,
    "start_time": "2023-01-13T10:34:04.190Z"
   },
   {
    "duration": 33,
    "start_time": "2023-01-13T10:34:04.203Z"
   },
   {
    "duration": 46,
    "start_time": "2023-01-13T10:34:04.238Z"
   },
   {
    "duration": 81,
    "start_time": "2023-01-13T10:34:04.286Z"
   },
   {
    "duration": 82,
    "start_time": "2023-01-13T10:34:04.369Z"
   },
   {
    "duration": 61,
    "start_time": "2023-01-13T10:34:04.453Z"
   },
   {
    "duration": 90,
    "start_time": "2023-01-13T10:34:04.515Z"
   },
   {
    "duration": 47,
    "start_time": "2023-01-13T10:34:04.607Z"
   },
   {
    "duration": 140,
    "start_time": "2023-01-13T10:34:04.655Z"
   },
   {
    "duration": 120,
    "start_time": "2023-01-13T10:34:04.797Z"
   },
   {
    "duration": 120,
    "start_time": "2023-01-13T10:34:04.919Z"
   },
   {
    "duration": 90,
    "start_time": "2023-01-13T10:34:05.043Z"
   },
   {
    "duration": 36,
    "start_time": "2023-01-13T10:34:05.135Z"
   },
   {
    "duration": 140,
    "start_time": "2023-01-13T10:34:05.172Z"
   },
   {
    "duration": 68,
    "start_time": "2023-01-13T10:34:05.314Z"
   },
   {
    "duration": 42,
    "start_time": "2023-01-13T10:34:05.384Z"
   },
   {
    "duration": 25,
    "start_time": "2023-01-13T10:34:05.427Z"
   },
   {
    "duration": 54,
    "start_time": "2023-01-13T10:34:05.453Z"
   },
   {
    "duration": 36,
    "start_time": "2023-01-13T10:34:05.509Z"
   },
   {
    "duration": 76,
    "start_time": "2023-01-13T10:34:05.547Z"
   },
   {
    "duration": 19,
    "start_time": "2023-01-13T10:34:05.624Z"
   },
   {
    "duration": 38,
    "start_time": "2023-01-13T10:34:05.645Z"
   },
   {
    "duration": 401,
    "start_time": "2023-01-13T10:34:05.685Z"
   },
   {
    "duration": 12,
    "start_time": "2023-01-13T10:34:06.088Z"
   },
   {
    "duration": 52,
    "start_time": "2023-01-13T10:34:06.105Z"
   },
   {
    "duration": 60,
    "start_time": "2023-01-13T10:34:06.159Z"
   },
   {
    "duration": 20,
    "start_time": "2023-01-13T10:34:06.221Z"
   },
   {
    "duration": 39,
    "start_time": "2023-01-13T10:34:06.243Z"
   },
   {
    "duration": 39,
    "start_time": "2023-01-13T10:34:06.284Z"
   },
   {
    "duration": 1205,
    "start_time": "2023-01-13T10:39:59.305Z"
   },
   {
    "duration": 76,
    "start_time": "2023-01-13T10:40:00.512Z"
   },
   {
    "duration": 14,
    "start_time": "2023-01-13T10:40:00.590Z"
   },
   {
    "duration": 75,
    "start_time": "2023-01-13T10:40:00.607Z"
   },
   {
    "duration": 66,
    "start_time": "2023-01-13T10:40:00.684Z"
   },
   {
    "duration": 51,
    "start_time": "2023-01-13T10:40:00.752Z"
   },
   {
    "duration": 61,
    "start_time": "2023-01-13T10:40:00.805Z"
   },
   {
    "duration": 55,
    "start_time": "2023-01-13T10:40:00.868Z"
   },
   {
    "duration": 49,
    "start_time": "2023-01-13T10:40:00.925Z"
   },
   {
    "duration": 56,
    "start_time": "2023-01-13T10:40:00.976Z"
   },
   {
    "duration": 42,
    "start_time": "2023-01-13T10:40:01.033Z"
   },
   {
    "duration": 52,
    "start_time": "2023-01-13T10:40:01.076Z"
   },
   {
    "duration": 28,
    "start_time": "2023-01-13T10:40:01.130Z"
   },
   {
    "duration": 36,
    "start_time": "2023-01-13T10:40:01.160Z"
   },
   {
    "duration": 68,
    "start_time": "2023-01-13T10:40:01.198Z"
   },
   {
    "duration": 56,
    "start_time": "2023-01-13T10:40:01.267Z"
   },
   {
    "duration": 44,
    "start_time": "2023-01-13T10:40:01.325Z"
   },
   {
    "duration": 46,
    "start_time": "2023-01-13T10:40:01.370Z"
   },
   {
    "duration": 35,
    "start_time": "2023-01-13T10:40:01.418Z"
   },
   {
    "duration": 37,
    "start_time": "2023-01-13T10:40:01.454Z"
   },
   {
    "duration": 67,
    "start_time": "2023-01-13T10:40:01.493Z"
   },
   {
    "duration": 27,
    "start_time": "2023-01-13T10:40:01.561Z"
   },
   {
    "duration": 93,
    "start_time": "2023-01-13T10:40:01.590Z"
   },
   {
    "duration": 59,
    "start_time": "2023-01-13T10:40:01.685Z"
   },
   {
    "duration": 404,
    "start_time": "2023-01-13T10:40:01.745Z"
   },
   {
    "duration": 9,
    "start_time": "2023-01-13T10:40:02.151Z"
   },
   {
    "duration": 44,
    "start_time": "2023-01-13T10:40:02.161Z"
   },
   {
    "duration": 79,
    "start_time": "2023-01-13T10:40:02.208Z"
   },
   {
    "duration": 114,
    "start_time": "2023-01-13T10:40:02.289Z"
   },
   {
    "duration": 120,
    "start_time": "2023-01-13T10:41:35.723Z"
   },
   {
    "duration": 308,
    "start_time": "2023-01-13T10:44:17.182Z"
   },
   {
    "duration": 479,
    "start_time": "2023-01-13T10:45:23.588Z"
   },
   {
    "duration": 1188,
    "start_time": "2023-01-13T10:50:21.626Z"
   },
   {
    "duration": 73,
    "start_time": "2023-01-13T10:50:22.816Z"
   },
   {
    "duration": 11,
    "start_time": "2023-01-13T10:50:22.891Z"
   },
   {
    "duration": 18,
    "start_time": "2023-01-13T10:50:22.903Z"
   },
   {
    "duration": 18,
    "start_time": "2023-01-13T10:50:22.923Z"
   },
   {
    "duration": 32,
    "start_time": "2023-01-13T10:50:22.942Z"
   },
   {
    "duration": 64,
    "start_time": "2023-01-13T10:50:22.975Z"
   },
   {
    "duration": 27,
    "start_time": "2023-01-13T10:50:23.041Z"
   },
   {
    "duration": 20,
    "start_time": "2023-01-13T10:50:23.069Z"
   },
   {
    "duration": 16,
    "start_time": "2023-01-13T10:50:23.090Z"
   },
   {
    "duration": 29,
    "start_time": "2023-01-13T10:50:23.107Z"
   },
   {
    "duration": 24,
    "start_time": "2023-01-13T10:50:23.137Z"
   },
   {
    "duration": 34,
    "start_time": "2023-01-13T10:50:23.162Z"
   },
   {
    "duration": 13,
    "start_time": "2023-01-13T10:50:23.198Z"
   },
   {
    "duration": 33,
    "start_time": "2023-01-13T10:50:23.212Z"
   },
   {
    "duration": 19,
    "start_time": "2023-01-13T10:50:23.246Z"
   },
   {
    "duration": 20,
    "start_time": "2023-01-13T10:50:23.267Z"
   },
   {
    "duration": 12,
    "start_time": "2023-01-13T10:50:23.289Z"
   },
   {
    "duration": 32,
    "start_time": "2023-01-13T10:50:23.302Z"
   },
   {
    "duration": 34,
    "start_time": "2023-01-13T10:50:23.335Z"
   },
   {
    "duration": 25,
    "start_time": "2023-01-13T10:50:23.370Z"
   },
   {
    "duration": 22,
    "start_time": "2023-01-13T10:50:23.397Z"
   },
   {
    "duration": 36,
    "start_time": "2023-01-13T10:50:23.420Z"
   },
   {
    "duration": 23,
    "start_time": "2023-01-13T10:50:23.457Z"
   },
   {
    "duration": 391,
    "start_time": "2023-01-13T10:50:23.482Z"
   },
   {
    "duration": 8,
    "start_time": "2023-01-13T10:50:23.875Z"
   },
   {
    "duration": 29,
    "start_time": "2023-01-13T10:50:23.885Z"
   },
   {
    "duration": 39,
    "start_time": "2023-01-13T10:50:23.916Z"
   },
   {
    "duration": 38,
    "start_time": "2023-01-13T10:50:23.957Z"
   },
   {
    "duration": 524,
    "start_time": "2023-01-13T10:50:23.997Z"
   },
   {
    "duration": 5,
    "start_time": "2023-01-13T10:50:24.523Z"
   },
   {
    "duration": 52,
    "start_time": "2023-01-13T10:50:24.530Z"
   },
   {
    "duration": 367,
    "start_time": "2023-01-13T10:50:24.585Z"
   },
   {
    "duration": 265,
    "start_time": "2023-01-13T10:50:24.954Z"
   },
   {
    "duration": 165,
    "start_time": "2023-01-13T10:50:25.221Z"
   },
   {
    "duration": 1099,
    "start_time": "2023-01-13T10:50:59.122Z"
   },
   {
    "duration": 72,
    "start_time": "2023-01-13T10:51:00.223Z"
   },
   {
    "duration": 12,
    "start_time": "2023-01-13T10:51:00.296Z"
   },
   {
    "duration": 53,
    "start_time": "2023-01-13T10:51:00.309Z"
   },
   {
    "duration": 94,
    "start_time": "2023-01-13T10:51:00.364Z"
   },
   {
    "duration": 59,
    "start_time": "2023-01-13T10:51:00.459Z"
   },
   {
    "duration": 75,
    "start_time": "2023-01-13T10:51:00.520Z"
   },
   {
    "duration": 76,
    "start_time": "2023-01-13T10:51:00.597Z"
   },
   {
    "duration": 44,
    "start_time": "2023-01-13T10:51:00.674Z"
   },
   {
    "duration": 64,
    "start_time": "2023-01-13T10:51:00.721Z"
   },
   {
    "duration": 58,
    "start_time": "2023-01-13T10:51:00.786Z"
   },
   {
    "duration": 39,
    "start_time": "2023-01-13T10:51:00.845Z"
   },
   {
    "duration": 58,
    "start_time": "2023-01-13T10:51:00.886Z"
   },
   {
    "duration": 57,
    "start_time": "2023-01-13T10:51:00.946Z"
   },
   {
    "duration": 66,
    "start_time": "2023-01-13T10:51:01.005Z"
   },
   {
    "duration": 62,
    "start_time": "2023-01-13T10:51:01.073Z"
   },
   {
    "duration": 60,
    "start_time": "2023-01-13T10:51:01.137Z"
   },
   {
    "duration": 49,
    "start_time": "2023-01-13T10:51:01.198Z"
   },
   {
    "duration": 103,
    "start_time": "2023-01-13T10:51:01.250Z"
   },
   {
    "duration": 70,
    "start_time": "2023-01-13T10:51:01.355Z"
   },
   {
    "duration": 60,
    "start_time": "2023-01-13T10:51:01.427Z"
   },
   {
    "duration": 35,
    "start_time": "2023-01-13T10:51:01.489Z"
   },
   {
    "duration": 129,
    "start_time": "2023-01-13T10:51:01.526Z"
   },
   {
    "duration": 32,
    "start_time": "2023-01-13T10:51:01.656Z"
   },
   {
    "duration": 404,
    "start_time": "2023-01-13T10:51:01.690Z"
   },
   {
    "duration": 11,
    "start_time": "2023-01-13T10:51:02.096Z"
   },
   {
    "duration": 40,
    "start_time": "2023-01-13T10:51:02.109Z"
   },
   {
    "duration": 51,
    "start_time": "2023-01-13T10:51:02.152Z"
   },
   {
    "duration": 48,
    "start_time": "2023-01-13T10:51:02.205Z"
   },
   {
    "duration": 506,
    "start_time": "2023-01-13T10:51:02.254Z"
   },
   {
    "duration": 5,
    "start_time": "2023-01-13T10:51:02.761Z"
   },
   {
    "duration": 63,
    "start_time": "2023-01-13T10:51:02.768Z"
   },
   {
    "duration": 409,
    "start_time": "2023-01-13T10:51:02.832Z"
   },
   {
    "duration": 268,
    "start_time": "2023-01-13T10:51:03.243Z"
   },
   {
    "duration": 265,
    "start_time": "2023-01-13T10:51:56.964Z"
   },
   {
    "duration": 251,
    "start_time": "2023-01-13T10:52:21.043Z"
   },
   {
    "duration": 271,
    "start_time": "2023-01-13T10:52:39.350Z"
   },
   {
    "duration": 304,
    "start_time": "2023-01-13T10:53:07.930Z"
   },
   {
    "duration": 1068,
    "start_time": "2023-01-13T10:58:10.650Z"
   },
   {
    "duration": 73,
    "start_time": "2023-01-13T10:58:11.720Z"
   },
   {
    "duration": 11,
    "start_time": "2023-01-13T10:58:11.794Z"
   },
   {
    "duration": 11,
    "start_time": "2023-01-13T10:58:11.807Z"
   },
   {
    "duration": 14,
    "start_time": "2023-01-13T10:58:11.820Z"
   },
   {
    "duration": 11,
    "start_time": "2023-01-13T10:58:11.835Z"
   },
   {
    "duration": 10,
    "start_time": "2023-01-13T10:58:11.847Z"
   },
   {
    "duration": 11,
    "start_time": "2023-01-13T10:58:11.858Z"
   },
   {
    "duration": 10,
    "start_time": "2023-01-13T10:58:11.870Z"
   },
   {
    "duration": 26,
    "start_time": "2023-01-13T10:58:11.882Z"
   },
   {
    "duration": 5,
    "start_time": "2023-01-13T10:58:11.910Z"
   },
   {
    "duration": 8,
    "start_time": "2023-01-13T10:58:11.917Z"
   },
   {
    "duration": 13,
    "start_time": "2023-01-13T10:58:11.927Z"
   },
   {
    "duration": 16,
    "start_time": "2023-01-13T10:58:11.942Z"
   },
   {
    "duration": 9,
    "start_time": "2023-01-13T10:58:11.960Z"
   },
   {
    "duration": 15,
    "start_time": "2023-01-13T10:58:11.970Z"
   },
   {
    "duration": 9,
    "start_time": "2023-01-13T10:58:11.987Z"
   },
   {
    "duration": 3,
    "start_time": "2023-01-13T10:58:12.004Z"
   },
   {
    "duration": 8,
    "start_time": "2023-01-13T10:58:12.009Z"
   },
   {
    "duration": 17,
    "start_time": "2023-01-13T10:58:12.018Z"
   },
   {
    "duration": 8,
    "start_time": "2023-01-13T10:58:12.037Z"
   },
   {
    "duration": 9,
    "start_time": "2023-01-13T10:58:12.047Z"
   },
   {
    "duration": 11,
    "start_time": "2023-01-13T10:58:12.057Z"
   },
   {
    "duration": 16,
    "start_time": "2023-01-13T10:58:12.070Z"
   },
   {
    "duration": 406,
    "start_time": "2023-01-13T10:58:12.087Z"
   },
   {
    "duration": 9,
    "start_time": "2023-01-13T10:58:12.495Z"
   },
   {
    "duration": 14,
    "start_time": "2023-01-13T10:58:12.506Z"
   },
   {
    "duration": 14,
    "start_time": "2023-01-13T10:58:12.523Z"
   },
   {
    "duration": 4,
    "start_time": "2023-01-13T10:58:12.539Z"
   },
   {
    "duration": 500,
    "start_time": "2023-01-13T10:58:12.544Z"
   },
   {
    "duration": 6,
    "start_time": "2023-01-13T10:58:13.045Z"
   },
   {
    "duration": 19,
    "start_time": "2023-01-13T10:58:13.053Z"
   },
   {
    "duration": 341,
    "start_time": "2023-01-13T10:58:13.074Z"
   },
   {
    "duration": 268,
    "start_time": "2023-01-13T10:58:59.609Z"
   },
   {
    "duration": 265,
    "start_time": "2023-01-13T10:59:46.385Z"
   },
   {
    "duration": 1142,
    "start_time": "2023-01-13T11:04:23.694Z"
   },
   {
    "duration": 73,
    "start_time": "2023-01-13T11:04:24.838Z"
   },
   {
    "duration": 11,
    "start_time": "2023-01-13T11:04:24.913Z"
   },
   {
    "duration": 16,
    "start_time": "2023-01-13T11:04:24.926Z"
   },
   {
    "duration": 15,
    "start_time": "2023-01-13T11:04:24.943Z"
   },
   {
    "duration": 12,
    "start_time": "2023-01-13T11:04:24.959Z"
   },
   {
    "duration": 10,
    "start_time": "2023-01-13T11:04:24.972Z"
   },
   {
    "duration": 26,
    "start_time": "2023-01-13T11:04:24.983Z"
   },
   {
    "duration": 9,
    "start_time": "2023-01-13T11:04:25.011Z"
   },
   {
    "duration": 11,
    "start_time": "2023-01-13T11:04:25.023Z"
   },
   {
    "duration": 27,
    "start_time": "2023-01-13T11:04:25.036Z"
   },
   {
    "duration": 22,
    "start_time": "2023-01-13T11:04:25.064Z"
   },
   {
    "duration": 8,
    "start_time": "2023-01-13T11:04:25.087Z"
   },
   {
    "duration": 10,
    "start_time": "2023-01-13T11:04:25.097Z"
   },
   {
    "duration": 10,
    "start_time": "2023-01-13T11:04:25.108Z"
   },
   {
    "duration": 15,
    "start_time": "2023-01-13T11:04:25.120Z"
   },
   {
    "duration": 10,
    "start_time": "2023-01-13T11:04:25.137Z"
   },
   {
    "duration": 10,
    "start_time": "2023-01-13T11:04:25.148Z"
   },
   {
    "duration": 11,
    "start_time": "2023-01-13T11:04:25.160Z"
   },
   {
    "duration": 24,
    "start_time": "2023-01-13T11:04:25.173Z"
   },
   {
    "duration": 19,
    "start_time": "2023-01-13T11:04:25.199Z"
   },
   {
    "duration": 17,
    "start_time": "2023-01-13T11:04:25.219Z"
   },
   {
    "duration": 8,
    "start_time": "2023-01-13T11:04:25.237Z"
   },
   {
    "duration": 15,
    "start_time": "2023-01-13T11:04:25.246Z"
   },
   {
    "duration": 371,
    "start_time": "2023-01-13T11:04:25.263Z"
   },
   {
    "duration": 9,
    "start_time": "2023-01-13T11:04:25.636Z"
   },
   {
    "duration": 14,
    "start_time": "2023-01-13T11:04:25.647Z"
   },
   {
    "duration": 17,
    "start_time": "2023-01-13T11:04:25.665Z"
   },
   {
    "duration": 6,
    "start_time": "2023-01-13T11:04:25.684Z"
   },
   {
    "duration": 530,
    "start_time": "2023-01-13T11:04:25.691Z"
   },
   {
    "duration": 4,
    "start_time": "2023-01-13T11:04:26.223Z"
   },
   {
    "duration": 10,
    "start_time": "2023-01-13T11:04:26.229Z"
   },
   {
    "duration": 365,
    "start_time": "2023-01-13T11:04:26.240Z"
   },
   {
    "duration": 275,
    "start_time": "2023-01-13T11:04:26.607Z"
   },
   {
    "duration": 6,
    "start_time": "2023-01-13T11:04:26.883Z"
   },
   {
    "duration": 379,
    "start_time": "2023-01-13T11:04:26.891Z"
   },
   {
    "duration": 104,
    "start_time": "2023-01-13T11:05:54.417Z"
   },
   {
    "duration": 351,
    "start_time": "2023-01-13T11:06:03.933Z"
   },
   {
    "duration": 403,
    "start_time": "2023-01-13T11:06:21.592Z"
   },
   {
    "duration": 378,
    "start_time": "2023-01-13T11:06:47.976Z"
   },
   {
    "duration": 443,
    "start_time": "2023-01-13T11:07:00.865Z"
   },
   {
    "duration": 377,
    "start_time": "2023-01-13T11:07:08.394Z"
   },
   {
    "duration": 378,
    "start_time": "2023-01-13T11:08:28.677Z"
   },
   {
    "duration": 1150,
    "start_time": "2023-01-13T11:19:48.659Z"
   },
   {
    "duration": 71,
    "start_time": "2023-01-13T11:19:49.811Z"
   },
   {
    "duration": 11,
    "start_time": "2023-01-13T11:19:49.884Z"
   },
   {
    "duration": 43,
    "start_time": "2023-01-13T11:19:49.897Z"
   },
   {
    "duration": 29,
    "start_time": "2023-01-13T11:19:49.942Z"
   },
   {
    "duration": 19,
    "start_time": "2023-01-13T11:19:49.973Z"
   },
   {
    "duration": 23,
    "start_time": "2023-01-13T11:19:49.993Z"
   },
   {
    "duration": 39,
    "start_time": "2023-01-13T11:19:50.018Z"
   },
   {
    "duration": 25,
    "start_time": "2023-01-13T11:19:50.059Z"
   },
   {
    "duration": 19,
    "start_time": "2023-01-13T11:19:50.086Z"
   },
   {
    "duration": 17,
    "start_time": "2023-01-13T11:19:50.107Z"
   },
   {
    "duration": 19,
    "start_time": "2023-01-13T11:19:50.126Z"
   },
   {
    "duration": 18,
    "start_time": "2023-01-13T11:19:50.147Z"
   },
   {
    "duration": 28,
    "start_time": "2023-01-13T11:19:50.167Z"
   },
   {
    "duration": 30,
    "start_time": "2023-01-13T11:19:50.197Z"
   },
   {
    "duration": 26,
    "start_time": "2023-01-13T11:19:50.228Z"
   },
   {
    "duration": 20,
    "start_time": "2023-01-13T11:19:50.256Z"
   },
   {
    "duration": 27,
    "start_time": "2023-01-13T11:19:50.277Z"
   },
   {
    "duration": 17,
    "start_time": "2023-01-13T11:19:50.305Z"
   },
   {
    "duration": 49,
    "start_time": "2023-01-13T11:19:50.324Z"
   },
   {
    "duration": 37,
    "start_time": "2023-01-13T11:19:50.375Z"
   },
   {
    "duration": 31,
    "start_time": "2023-01-13T11:19:50.414Z"
   },
   {
    "duration": 51,
    "start_time": "2023-01-13T11:19:50.446Z"
   },
   {
    "duration": 39,
    "start_time": "2023-01-13T11:19:50.498Z"
   },
   {
    "duration": 410,
    "start_time": "2023-01-13T11:19:50.539Z"
   },
   {
    "duration": 8,
    "start_time": "2023-01-13T11:19:50.951Z"
   },
   {
    "duration": 27,
    "start_time": "2023-01-13T11:19:50.961Z"
   },
   {
    "duration": 78,
    "start_time": "2023-01-13T11:19:50.989Z"
   },
   {
    "duration": 37,
    "start_time": "2023-01-13T11:19:51.069Z"
   },
   {
    "duration": 536,
    "start_time": "2023-01-13T11:19:51.107Z"
   },
   {
    "duration": 5,
    "start_time": "2023-01-13T11:19:51.645Z"
   },
   {
    "duration": 31,
    "start_time": "2023-01-13T11:19:51.652Z"
   },
   {
    "duration": 376,
    "start_time": "2023-01-13T11:19:51.685Z"
   },
   {
    "duration": 282,
    "start_time": "2023-01-13T11:19:52.062Z"
   },
   {
    "duration": 6,
    "start_time": "2023-01-13T11:19:52.345Z"
   },
   {
    "duration": 432,
    "start_time": "2023-01-13T11:19:52.352Z"
   },
   {
    "duration": 4,
    "start_time": "2023-01-13T11:19:52.786Z"
   },
   {
    "duration": 24,
    "start_time": "2023-01-13T11:19:52.791Z"
   },
   {
    "duration": 53,
    "start_time": "2023-01-13T11:19:52.817Z"
   },
   {
    "duration": 119,
    "start_time": "2023-01-13T11:19:52.871Z"
   },
   {
    "duration": 9,
    "start_time": "2023-01-13T11:20:32.828Z"
   },
   {
    "duration": 302,
    "start_time": "2023-01-13T11:20:56.745Z"
   },
   {
    "duration": 302,
    "start_time": "2023-01-13T11:23:05.191Z"
   },
   {
    "duration": 7,
    "start_time": "2023-01-13T11:30:42.040Z"
   },
   {
    "duration": 468,
    "start_time": "2023-01-13T11:30:43.286Z"
   },
   {
    "duration": 394,
    "start_time": "2023-01-13T11:33:25.333Z"
   },
   {
    "duration": 351,
    "start_time": "2023-01-13T11:33:34.160Z"
   },
   {
    "duration": 403,
    "start_time": "2023-01-13T11:34:07.442Z"
   },
   {
    "duration": 1173,
    "start_time": "2023-01-13T11:36:36.244Z"
   },
   {
    "duration": 78,
    "start_time": "2023-01-13T11:36:37.419Z"
   },
   {
    "duration": 13,
    "start_time": "2023-01-13T11:36:37.500Z"
   },
   {
    "duration": 91,
    "start_time": "2023-01-13T11:36:37.515Z"
   },
   {
    "duration": 67,
    "start_time": "2023-01-13T11:36:37.608Z"
   },
   {
    "duration": 112,
    "start_time": "2023-01-13T11:36:37.677Z"
   },
   {
    "duration": 44,
    "start_time": "2023-01-13T11:36:37.791Z"
   },
   {
    "duration": 46,
    "start_time": "2023-01-13T11:36:37.837Z"
   },
   {
    "duration": 75,
    "start_time": "2023-01-13T11:36:37.885Z"
   },
   {
    "duration": 83,
    "start_time": "2023-01-13T11:36:37.962Z"
   },
   {
    "duration": 65,
    "start_time": "2023-01-13T11:36:38.046Z"
   },
   {
    "duration": 60,
    "start_time": "2023-01-13T11:36:38.113Z"
   },
   {
    "duration": 89,
    "start_time": "2023-01-13T11:36:38.176Z"
   },
   {
    "duration": 103,
    "start_time": "2023-01-13T11:36:38.269Z"
   },
   {
    "duration": 116,
    "start_time": "2023-01-13T11:36:38.374Z"
   },
   {
    "duration": 50,
    "start_time": "2023-01-13T11:36:38.492Z"
   },
   {
    "duration": 48,
    "start_time": "2023-01-13T11:36:38.544Z"
   },
   {
    "duration": 74,
    "start_time": "2023-01-13T11:36:38.593Z"
   },
   {
    "duration": 62,
    "start_time": "2023-01-13T11:36:38.668Z"
   },
   {
    "duration": 83,
    "start_time": "2023-01-13T11:36:38.732Z"
   },
   {
    "duration": 52,
    "start_time": "2023-01-13T11:36:38.817Z"
   },
   {
    "duration": 77,
    "start_time": "2023-01-13T11:36:38.870Z"
   },
   {
    "duration": 57,
    "start_time": "2023-01-13T11:36:38.949Z"
   },
   {
    "duration": 48,
    "start_time": "2023-01-13T11:36:39.007Z"
   },
   {
    "duration": 406,
    "start_time": "2023-01-13T11:36:39.056Z"
   },
   {
    "duration": 12,
    "start_time": "2023-01-13T11:36:39.464Z"
   },
   {
    "duration": 41,
    "start_time": "2023-01-13T11:36:39.478Z"
   },
   {
    "duration": 68,
    "start_time": "2023-01-13T11:36:39.521Z"
   },
   {
    "duration": 66,
    "start_time": "2023-01-13T11:36:39.591Z"
   },
   {
    "duration": 545,
    "start_time": "2023-01-13T11:36:39.659Z"
   },
   {
    "duration": 4,
    "start_time": "2023-01-13T11:36:40.207Z"
   },
   {
    "duration": 57,
    "start_time": "2023-01-13T11:36:40.213Z"
   },
   {
    "duration": 385,
    "start_time": "2023-01-13T11:36:40.272Z"
   },
   {
    "duration": 295,
    "start_time": "2023-01-13T11:36:40.659Z"
   },
   {
    "duration": 6,
    "start_time": "2023-01-13T11:36:40.955Z"
   },
   {
    "duration": 417,
    "start_time": "2023-01-13T11:36:40.962Z"
   },
   {
    "duration": 4,
    "start_time": "2023-01-13T11:36:41.380Z"
   },
   {
    "duration": 42,
    "start_time": "2023-01-13T11:36:41.385Z"
   },
   {
    "duration": 31,
    "start_time": "2023-01-13T11:36:41.428Z"
   },
   {
    "duration": 336,
    "start_time": "2023-01-13T11:36:41.460Z"
   },
   {
    "duration": 7,
    "start_time": "2023-01-13T11:36:41.804Z"
   },
   {
    "duration": 414,
    "start_time": "2023-01-13T11:36:41.812Z"
   },
   {
    "duration": 68,
    "start_time": "2023-01-13T11:42:25.943Z"
   },
   {
    "duration": 85,
    "start_time": "2023-01-13T11:42:33.792Z"
   },
   {
    "duration": 69,
    "start_time": "2023-01-13T11:42:48.487Z"
   },
   {
    "duration": 112,
    "start_time": "2023-01-13T11:42:59.957Z"
   },
   {
    "duration": 64,
    "start_time": "2023-01-13T11:43:41.318Z"
   },
   {
    "duration": 90,
    "start_time": "2023-01-13T11:44:00.283Z"
   },
   {
    "duration": 101,
    "start_time": "2023-01-13T11:44:09.388Z"
   },
   {
    "duration": 16,
    "start_time": "2023-01-13T11:44:35.576Z"
   },
   {
    "duration": 12,
    "start_time": "2023-01-13T11:45:09.590Z"
   },
   {
    "duration": 13,
    "start_time": "2023-01-13T11:46:10.999Z"
   },
   {
    "duration": 7,
    "start_time": "2023-01-13T11:46:21.269Z"
   },
   {
    "duration": 8,
    "start_time": "2023-01-13T11:48:13.495Z"
   },
   {
    "duration": 9,
    "start_time": "2023-01-13T11:48:47.719Z"
   },
   {
    "duration": 6,
    "start_time": "2023-01-13T11:49:43.738Z"
   },
   {
    "duration": 10,
    "start_time": "2023-01-13T11:49:54.782Z"
   },
   {
    "duration": 10,
    "start_time": "2023-01-13T11:51:34.058Z"
   },
   {
    "duration": 10,
    "start_time": "2023-01-13T11:52:11.772Z"
   },
   {
    "duration": 237,
    "start_time": "2023-01-13T11:53:04.027Z"
   },
   {
    "duration": 46,
    "start_time": "2023-01-13T13:52:42.109Z"
   },
   {
    "duration": 1250,
    "start_time": "2023-01-13T13:52:56.063Z"
   },
   {
    "duration": 216,
    "start_time": "2023-01-13T13:52:57.314Z"
   },
   {
    "duration": 11,
    "start_time": "2023-01-13T13:52:57.532Z"
   },
   {
    "duration": 11,
    "start_time": "2023-01-13T13:52:57.545Z"
   },
   {
    "duration": 9,
    "start_time": "2023-01-13T13:52:57.558Z"
   },
   {
    "duration": 13,
    "start_time": "2023-01-13T13:52:57.569Z"
   },
   {
    "duration": 9,
    "start_time": "2023-01-13T13:52:57.584Z"
   },
   {
    "duration": 13,
    "start_time": "2023-01-13T13:52:57.594Z"
   },
   {
    "duration": 5,
    "start_time": "2023-01-13T13:52:57.612Z"
   },
   {
    "duration": 9,
    "start_time": "2023-01-13T13:52:57.618Z"
   },
   {
    "duration": 6,
    "start_time": "2023-01-13T13:52:57.628Z"
   },
   {
    "duration": 6,
    "start_time": "2023-01-13T13:52:57.635Z"
   },
   {
    "duration": 8,
    "start_time": "2023-01-13T13:52:57.643Z"
   },
   {
    "duration": 4,
    "start_time": "2023-01-13T13:52:57.654Z"
   },
   {
    "duration": 4,
    "start_time": "2023-01-13T13:52:57.660Z"
   },
   {
    "duration": 19,
    "start_time": "2023-01-13T13:52:57.665Z"
   },
   {
    "duration": 29,
    "start_time": "2023-01-13T13:52:57.685Z"
   },
   {
    "duration": 11,
    "start_time": "2023-01-13T13:52:57.716Z"
   },
   {
    "duration": 6,
    "start_time": "2023-01-13T13:52:57.729Z"
   },
   {
    "duration": 11,
    "start_time": "2023-01-13T13:52:57.736Z"
   },
   {
    "duration": 7,
    "start_time": "2023-01-13T13:52:57.749Z"
   },
   {
    "duration": 17,
    "start_time": "2023-01-13T13:52:57.758Z"
   },
   {
    "duration": 13,
    "start_time": "2023-01-13T13:52:57.777Z"
   },
   {
    "duration": 13,
    "start_time": "2023-01-13T13:52:57.791Z"
   },
   {
    "duration": 380,
    "start_time": "2023-01-13T13:52:57.805Z"
   },
   {
    "duration": 7,
    "start_time": "2023-01-13T13:52:58.187Z"
   },
   {
    "duration": 15,
    "start_time": "2023-01-13T13:52:58.196Z"
   },
   {
    "duration": 13,
    "start_time": "2023-01-13T13:52:58.213Z"
   },
   {
    "duration": 4,
    "start_time": "2023-01-13T13:52:58.228Z"
   },
   {
    "duration": 498,
    "start_time": "2023-01-13T13:52:58.234Z"
   },
   {
    "duration": 4,
    "start_time": "2023-01-13T13:52:58.733Z"
   },
   {
    "duration": 7,
    "start_time": "2023-01-13T13:52:58.739Z"
   },
   {
    "duration": 367,
    "start_time": "2023-01-13T13:52:58.748Z"
   },
   {
    "duration": 269,
    "start_time": "2023-01-13T13:52:59.117Z"
   },
   {
    "duration": 5,
    "start_time": "2023-01-13T13:52:59.388Z"
   },
   {
    "duration": 434,
    "start_time": "2023-01-13T13:52:59.395Z"
   },
   {
    "duration": 4,
    "start_time": "2023-01-13T13:52:59.831Z"
   },
   {
    "duration": 9,
    "start_time": "2023-01-13T13:52:59.836Z"
   },
   {
    "duration": 15,
    "start_time": "2023-01-13T13:52:59.847Z"
   },
   {
    "duration": 282,
    "start_time": "2023-01-13T13:52:59.864Z"
   },
   {
    "duration": 7,
    "start_time": "2023-01-13T13:53:00.150Z"
   },
   {
    "duration": 510,
    "start_time": "2023-01-13T13:53:00.158Z"
   },
   {
    "duration": 13,
    "start_time": "2023-01-13T13:53:00.670Z"
   },
   {
    "duration": 253,
    "start_time": "2023-01-13T13:53:00.685Z"
   },
   {
    "duration": 9,
    "start_time": "2023-01-13T13:53:00.940Z"
   },
   {
    "duration": 101,
    "start_time": "2023-01-13T13:55:59.408Z"
   },
   {
    "duration": 179,
    "start_time": "2023-01-13T13:56:41.414Z"
   },
   {
    "duration": 334,
    "start_time": "2023-01-13T13:59:09.114Z"
   },
   {
    "duration": 322,
    "start_time": "2023-01-13T13:59:19.230Z"
   },
   {
    "duration": 7,
    "start_time": "2023-01-13T13:59:48.732Z"
   },
   {
    "duration": 1225,
    "start_time": "2023-01-13T14:02:59.884Z"
   },
   {
    "duration": 74,
    "start_time": "2023-01-13T14:03:01.113Z"
   },
   {
    "duration": 11,
    "start_time": "2023-01-13T14:03:01.188Z"
   },
   {
    "duration": 40,
    "start_time": "2023-01-13T14:03:01.201Z"
   },
   {
    "duration": 30,
    "start_time": "2023-01-13T14:03:01.243Z"
   },
   {
    "duration": 22,
    "start_time": "2023-01-13T14:03:01.275Z"
   },
   {
    "duration": 45,
    "start_time": "2023-01-13T14:03:01.299Z"
   },
   {
    "duration": 17,
    "start_time": "2023-01-13T14:03:01.346Z"
   },
   {
    "duration": 40,
    "start_time": "2023-01-13T14:03:01.365Z"
   },
   {
    "duration": 27,
    "start_time": "2023-01-13T14:03:01.406Z"
   },
   {
    "duration": 17,
    "start_time": "2023-01-13T14:03:01.437Z"
   },
   {
    "duration": 53,
    "start_time": "2023-01-13T14:03:01.456Z"
   },
   {
    "duration": 25,
    "start_time": "2023-01-13T14:03:01.511Z"
   },
   {
    "duration": 52,
    "start_time": "2023-01-13T14:03:01.537Z"
   },
   {
    "duration": 19,
    "start_time": "2023-01-13T14:03:01.591Z"
   },
   {
    "duration": 60,
    "start_time": "2023-01-13T14:03:01.612Z"
   },
   {
    "duration": 26,
    "start_time": "2023-01-13T14:03:01.674Z"
   },
   {
    "duration": 23,
    "start_time": "2023-01-13T14:03:01.701Z"
   },
   {
    "duration": 17,
    "start_time": "2023-01-13T14:03:01.726Z"
   },
   {
    "duration": 74,
    "start_time": "2023-01-13T14:03:01.744Z"
   },
   {
    "duration": 8,
    "start_time": "2023-01-13T14:03:01.820Z"
   },
   {
    "duration": 18,
    "start_time": "2023-01-13T14:03:01.829Z"
   },
   {
    "duration": 38,
    "start_time": "2023-01-13T14:03:01.849Z"
   },
   {
    "duration": 17,
    "start_time": "2023-01-13T14:03:01.889Z"
   },
   {
    "duration": 353,
    "start_time": "2023-01-13T14:03:01.908Z"
   },
   {
    "duration": 8,
    "start_time": "2023-01-13T14:03:02.263Z"
   },
   {
    "duration": 24,
    "start_time": "2023-01-13T14:03:02.273Z"
   },
   {
    "duration": 35,
    "start_time": "2023-01-13T14:03:02.299Z"
   },
   {
    "duration": 7,
    "start_time": "2023-01-13T14:03:02.336Z"
   },
   {
    "duration": 521,
    "start_time": "2023-01-13T14:03:02.345Z"
   },
   {
    "duration": 5,
    "start_time": "2023-01-13T14:03:02.868Z"
   },
   {
    "duration": 19,
    "start_time": "2023-01-13T14:03:02.876Z"
   },
   {
    "duration": 394,
    "start_time": "2023-01-13T14:03:02.896Z"
   },
   {
    "duration": 273,
    "start_time": "2023-01-13T14:03:03.291Z"
   },
   {
    "duration": 6,
    "start_time": "2023-01-13T14:03:03.565Z"
   },
   {
    "duration": 371,
    "start_time": "2023-01-13T14:03:03.572Z"
   },
   {
    "duration": 4,
    "start_time": "2023-01-13T14:03:03.946Z"
   },
   {
    "duration": 45,
    "start_time": "2023-01-13T14:03:03.952Z"
   },
   {
    "duration": 7,
    "start_time": "2023-01-13T14:03:03.999Z"
   },
   {
    "duration": 287,
    "start_time": "2023-01-13T14:03:04.008Z"
   },
   {
    "duration": 7,
    "start_time": "2023-01-13T14:03:04.297Z"
   },
   {
    "duration": 435,
    "start_time": "2023-01-13T14:03:04.306Z"
   },
   {
    "duration": 12,
    "start_time": "2023-01-13T14:03:04.742Z"
   },
   {
    "duration": 244,
    "start_time": "2023-01-13T14:03:04.756Z"
   },
   {
    "duration": 13,
    "start_time": "2023-01-13T14:03:05.001Z"
   },
   {
    "duration": 221,
    "start_time": "2023-01-13T14:03:05.015Z"
   },
   {
    "duration": 7,
    "start_time": "2023-01-13T14:03:05.238Z"
   },
   {
    "duration": 5,
    "start_time": "2023-01-13T14:03:47.459Z"
   },
   {
    "duration": 95,
    "start_time": "2023-01-13T14:04:43.129Z"
   },
   {
    "duration": 5,
    "start_time": "2023-01-13T14:04:53.299Z"
   },
   {
    "duration": 18,
    "start_time": "2023-01-13T14:18:40.919Z"
   },
   {
    "duration": 24,
    "start_time": "2023-01-13T14:18:59.743Z"
   },
   {
    "duration": 8,
    "start_time": "2023-01-13T14:19:41.918Z"
   },
   {
    "duration": 1173,
    "start_time": "2023-01-13T14:19:48.411Z"
   },
   {
    "duration": 77,
    "start_time": "2023-01-13T14:19:49.586Z"
   },
   {
    "duration": 11,
    "start_time": "2023-01-13T14:19:49.665Z"
   },
   {
    "duration": 23,
    "start_time": "2023-01-13T14:19:49.678Z"
   },
   {
    "duration": 47,
    "start_time": "2023-01-13T14:19:49.702Z"
   },
   {
    "duration": 41,
    "start_time": "2023-01-13T14:19:49.751Z"
   },
   {
    "duration": 36,
    "start_time": "2023-01-13T14:19:49.794Z"
   },
   {
    "duration": 27,
    "start_time": "2023-01-13T14:19:49.832Z"
   },
   {
    "duration": 35,
    "start_time": "2023-01-13T14:19:49.861Z"
   },
   {
    "duration": 27,
    "start_time": "2023-01-13T14:19:49.898Z"
   },
   {
    "duration": 31,
    "start_time": "2023-01-13T14:19:49.927Z"
   },
   {
    "duration": 21,
    "start_time": "2023-01-13T14:19:49.960Z"
   },
   {
    "duration": 38,
    "start_time": "2023-01-13T14:19:49.983Z"
   },
   {
    "duration": 21,
    "start_time": "2023-01-13T14:19:50.023Z"
   },
   {
    "duration": 35,
    "start_time": "2023-01-13T14:19:50.045Z"
   },
   {
    "duration": 37,
    "start_time": "2023-01-13T14:19:50.082Z"
   },
   {
    "duration": 26,
    "start_time": "2023-01-13T14:19:50.121Z"
   },
   {
    "duration": 21,
    "start_time": "2023-01-13T14:19:50.149Z"
   },
   {
    "duration": 16,
    "start_time": "2023-01-13T14:19:50.172Z"
   },
   {
    "duration": 36,
    "start_time": "2023-01-13T14:19:50.189Z"
   },
   {
    "duration": 21,
    "start_time": "2023-01-13T14:19:50.227Z"
   },
   {
    "duration": 31,
    "start_time": "2023-01-13T14:19:50.250Z"
   },
   {
    "duration": 20,
    "start_time": "2023-01-13T14:19:50.283Z"
   },
   {
    "duration": 25,
    "start_time": "2023-01-13T14:19:50.305Z"
   },
   {
    "duration": 405,
    "start_time": "2023-01-13T14:19:50.332Z"
   },
   {
    "duration": 9,
    "start_time": "2023-01-13T14:19:50.739Z"
   },
   {
    "duration": 51,
    "start_time": "2023-01-13T14:19:50.749Z"
   },
   {
    "duration": 39,
    "start_time": "2023-01-13T14:19:50.804Z"
   },
   {
    "duration": 31,
    "start_time": "2023-01-13T14:19:50.844Z"
   },
   {
    "duration": 538,
    "start_time": "2023-01-13T14:19:50.877Z"
   },
   {
    "duration": 4,
    "start_time": "2023-01-13T14:19:51.417Z"
   },
   {
    "duration": 35,
    "start_time": "2023-01-13T14:19:51.423Z"
   },
   {
    "duration": 361,
    "start_time": "2023-01-13T14:19:51.460Z"
   },
   {
    "duration": 280,
    "start_time": "2023-01-13T14:19:51.822Z"
   },
   {
    "duration": 11,
    "start_time": "2023-01-13T14:19:52.104Z"
   },
   {
    "duration": 392,
    "start_time": "2023-01-13T14:19:52.117Z"
   },
   {
    "duration": 4,
    "start_time": "2023-01-13T14:19:52.511Z"
   },
   {
    "duration": 20,
    "start_time": "2023-01-13T14:19:52.517Z"
   },
   {
    "duration": 18,
    "start_time": "2023-01-13T14:19:52.539Z"
   },
   {
    "duration": 304,
    "start_time": "2023-01-13T14:19:52.559Z"
   },
   {
    "duration": 7,
    "start_time": "2023-01-13T14:19:52.865Z"
   },
   {
    "duration": 432,
    "start_time": "2023-01-13T14:19:52.874Z"
   },
   {
    "duration": 11,
    "start_time": "2023-01-13T14:19:53.312Z"
   },
   {
    "duration": 241,
    "start_time": "2023-01-13T14:19:53.325Z"
   },
   {
    "duration": 6,
    "start_time": "2023-01-13T14:19:53.568Z"
   },
   {
    "duration": 185,
    "start_time": "2023-01-13T14:19:53.575Z"
   },
   {
    "duration": 8,
    "start_time": "2023-01-13T14:19:53.761Z"
   },
   {
    "duration": 30,
    "start_time": "2023-01-13T14:19:53.770Z"
   },
   {
    "duration": 142,
    "start_time": "2023-01-13T14:19:53.802Z"
   },
   {
    "duration": 0,
    "start_time": "2023-01-13T14:19:53.946Z"
   },
   {
    "duration": 8,
    "start_time": "2023-01-13T14:20:03.844Z"
   },
   {
    "duration": 155,
    "start_time": "2023-01-13T14:20:41.917Z"
   },
   {
    "duration": 10,
    "start_time": "2023-01-13T14:21:59.000Z"
   },
   {
    "duration": 10,
    "start_time": "2023-01-13T14:22:09.974Z"
   },
   {
    "duration": 16,
    "start_time": "2023-01-13T14:23:04.042Z"
   },
   {
    "duration": 25,
    "start_time": "2023-01-13T14:24:18.397Z"
   },
   {
    "duration": 27,
    "start_time": "2023-01-13T14:26:36.389Z"
   },
   {
    "duration": 15,
    "start_time": "2023-01-13T14:27:01.391Z"
   },
   {
    "duration": 139,
    "start_time": "2023-01-13T14:28:08.313Z"
   },
   {
    "duration": 16,
    "start_time": "2023-01-13T14:28:18.861Z"
   },
   {
    "duration": 124,
    "start_time": "2023-01-13T14:28:33.461Z"
   },
   {
    "duration": 84,
    "start_time": "2023-01-13T14:29:29.270Z"
   },
   {
    "duration": 84,
    "start_time": "2023-01-13T14:29:38.198Z"
   },
   {
    "duration": 197,
    "start_time": "2023-01-13T14:29:43.244Z"
   },
   {
    "duration": 1508,
    "start_time": "2023-01-13T14:31:35.871Z"
   },
   {
    "duration": 47,
    "start_time": "2023-01-13T14:32:55.541Z"
   },
   {
    "duration": 14,
    "start_time": "2023-01-13T14:33:15.997Z"
   },
   {
    "duration": 58,
    "start_time": "2023-01-13T14:33:34.664Z"
   },
   {
    "duration": 24,
    "start_time": "2023-01-13T14:34:03.190Z"
   },
   {
    "duration": 75,
    "start_time": "2023-01-13T14:34:19.480Z"
   },
   {
    "duration": 80,
    "start_time": "2023-01-13T14:34:34.542Z"
   },
   {
    "duration": 8,
    "start_time": "2023-01-13T14:35:04.374Z"
   },
   {
    "duration": 135,
    "start_time": "2023-01-13T14:35:22.368Z"
   },
   {
    "duration": 9,
    "start_time": "2023-01-13T14:35:52.917Z"
   },
   {
    "duration": 6,
    "start_time": "2023-01-13T14:36:34.452Z"
   },
   {
    "duration": 1120,
    "start_time": "2023-01-13T14:37:05.397Z"
   },
   {
    "duration": 8,
    "start_time": "2023-01-13T14:38:11.559Z"
   },
   {
    "duration": 30,
    "start_time": "2023-01-13T14:39:17.143Z"
   },
   {
    "duration": 1101,
    "start_time": "2023-01-13T14:39:25.973Z"
   },
   {
    "duration": 81,
    "start_time": "2023-01-13T14:39:27.076Z"
   },
   {
    "duration": 11,
    "start_time": "2023-01-13T14:39:27.159Z"
   },
   {
    "duration": 12,
    "start_time": "2023-01-13T14:39:27.171Z"
   },
   {
    "duration": 12,
    "start_time": "2023-01-13T14:39:27.185Z"
   },
   {
    "duration": 12,
    "start_time": "2023-01-13T14:39:27.199Z"
   },
   {
    "duration": 13,
    "start_time": "2023-01-13T14:39:27.212Z"
   },
   {
    "duration": 13,
    "start_time": "2023-01-13T14:39:27.227Z"
   },
   {
    "duration": 9,
    "start_time": "2023-01-13T14:39:27.241Z"
   },
   {
    "duration": 8,
    "start_time": "2023-01-13T14:39:27.251Z"
   },
   {
    "duration": 5,
    "start_time": "2023-01-13T14:39:27.261Z"
   },
   {
    "duration": 8,
    "start_time": "2023-01-13T14:39:27.268Z"
   },
   {
    "duration": 6,
    "start_time": "2023-01-13T14:39:27.277Z"
   },
   {
    "duration": 8,
    "start_time": "2023-01-13T14:39:27.286Z"
   },
   {
    "duration": 3,
    "start_time": "2023-01-13T14:39:27.313Z"
   },
   {
    "duration": 15,
    "start_time": "2023-01-13T14:39:27.318Z"
   },
   {
    "duration": 10,
    "start_time": "2023-01-13T14:39:27.335Z"
   },
   {
    "duration": 6,
    "start_time": "2023-01-13T14:39:27.346Z"
   },
   {
    "duration": 6,
    "start_time": "2023-01-13T14:39:27.354Z"
   },
   {
    "duration": 12,
    "start_time": "2023-01-13T14:39:27.361Z"
   },
   {
    "duration": 6,
    "start_time": "2023-01-13T14:39:27.375Z"
   },
   {
    "duration": 11,
    "start_time": "2023-01-13T14:39:27.383Z"
   },
   {
    "duration": 23,
    "start_time": "2023-01-13T14:39:27.396Z"
   },
   {
    "duration": 16,
    "start_time": "2023-01-13T14:39:27.420Z"
   },
   {
    "duration": 359,
    "start_time": "2023-01-13T14:39:27.438Z"
   },
   {
    "duration": 8,
    "start_time": "2023-01-13T14:39:27.799Z"
   },
   {
    "duration": 10,
    "start_time": "2023-01-13T14:39:27.809Z"
   },
   {
    "duration": 14,
    "start_time": "2023-01-13T14:39:27.821Z"
   },
   {
    "duration": 9,
    "start_time": "2023-01-13T14:39:27.837Z"
   },
   {
    "duration": 513,
    "start_time": "2023-01-13T14:39:27.848Z"
   },
   {
    "duration": 5,
    "start_time": "2023-01-13T14:39:28.363Z"
   },
   {
    "duration": 9,
    "start_time": "2023-01-13T14:39:28.369Z"
   },
   {
    "duration": 336,
    "start_time": "2023-01-13T14:39:28.380Z"
   },
   {
    "duration": 271,
    "start_time": "2023-01-13T14:39:28.718Z"
   },
   {
    "duration": 6,
    "start_time": "2023-01-13T14:39:28.991Z"
   },
   {
    "duration": 393,
    "start_time": "2023-01-13T14:39:28.999Z"
   },
   {
    "duration": 4,
    "start_time": "2023-01-13T14:39:29.394Z"
   },
   {
    "duration": 13,
    "start_time": "2023-01-13T14:39:29.400Z"
   },
   {
    "duration": 7,
    "start_time": "2023-01-13T14:39:29.414Z"
   },
   {
    "duration": 291,
    "start_time": "2023-01-13T14:39:29.422Z"
   },
   {
    "duration": 8,
    "start_time": "2023-01-13T14:39:29.717Z"
   },
   {
    "duration": 413,
    "start_time": "2023-01-13T14:39:29.726Z"
   },
   {
    "duration": 11,
    "start_time": "2023-01-13T14:39:30.141Z"
   },
   {
    "duration": 299,
    "start_time": "2023-01-13T14:39:30.153Z"
   },
   {
    "duration": 6,
    "start_time": "2023-01-13T14:39:30.453Z"
   },
   {
    "duration": 187,
    "start_time": "2023-01-13T14:39:30.461Z"
   },
   {
    "duration": 6,
    "start_time": "2023-01-13T14:39:30.650Z"
   },
   {
    "duration": 12,
    "start_time": "2023-01-13T14:39:30.658Z"
   },
   {
    "duration": 15,
    "start_time": "2023-01-13T14:39:30.672Z"
   },
   {
    "duration": 98,
    "start_time": "2023-01-13T14:39:30.688Z"
   },
   {
    "duration": 58,
    "start_time": "2023-01-13T14:39:30.788Z"
   },
   {
    "duration": 63,
    "start_time": "2023-01-13T14:39:30.848Z"
   },
   {
    "duration": 45,
    "start_time": "2023-01-13T14:39:30.913Z"
   },
   {
    "duration": 60,
    "start_time": "2023-01-13T14:39:30.960Z"
   },
   {
    "duration": 32,
    "start_time": "2023-01-13T14:39:31.022Z"
   },
   {
    "duration": 91,
    "start_time": "2023-01-13T14:39:31.056Z"
   },
   {
    "duration": 95,
    "start_time": "2023-01-13T14:39:31.149Z"
   },
   {
    "duration": 8,
    "start_time": "2023-01-13T14:39:31.245Z"
   },
   {
    "duration": 176,
    "start_time": "2023-01-13T14:39:31.254Z"
   },
   {
    "duration": 6,
    "start_time": "2023-01-13T14:39:31.432Z"
   },
   {
    "duration": 38,
    "start_time": "2023-01-13T14:39:31.440Z"
   },
   {
    "duration": 36,
    "start_time": "2023-01-13T14:39:31.480Z"
   },
   {
    "duration": 104,
    "start_time": "2023-01-13T14:42:21.233Z"
   },
   {
    "duration": 15,
    "start_time": "2023-01-13T14:42:29.765Z"
   },
   {
    "duration": 10,
    "start_time": "2023-01-13T14:42:44.837Z"
   },
   {
    "duration": 14,
    "start_time": "2023-01-13T14:46:55.815Z"
   },
   {
    "duration": 10,
    "start_time": "2023-01-13T14:50:15.913Z"
   },
   {
    "duration": 12,
    "start_time": "2023-01-13T14:51:48.619Z"
   },
   {
    "duration": 1159,
    "start_time": "2023-01-13T14:58:26.326Z"
   },
   {
    "duration": 76,
    "start_time": "2023-01-13T14:58:27.488Z"
   },
   {
    "duration": 11,
    "start_time": "2023-01-13T14:58:27.568Z"
   },
   {
    "duration": 12,
    "start_time": "2023-01-13T14:58:27.580Z"
   },
   {
    "duration": 11,
    "start_time": "2023-01-13T14:58:27.594Z"
   },
   {
    "duration": 29,
    "start_time": "2023-01-13T14:58:27.608Z"
   },
   {
    "duration": 15,
    "start_time": "2023-01-13T14:58:27.639Z"
   },
   {
    "duration": 17,
    "start_time": "2023-01-13T14:58:27.656Z"
   },
   {
    "duration": 6,
    "start_time": "2023-01-13T14:58:27.676Z"
   },
   {
    "duration": 9,
    "start_time": "2023-01-13T14:58:27.684Z"
   },
   {
    "duration": 6,
    "start_time": "2023-01-13T14:58:27.695Z"
   },
   {
    "duration": 9,
    "start_time": "2023-01-13T14:58:27.703Z"
   },
   {
    "duration": 9,
    "start_time": "2023-01-13T14:58:27.714Z"
   },
   {
    "duration": 12,
    "start_time": "2023-01-13T14:58:27.725Z"
   },
   {
    "duration": 6,
    "start_time": "2023-01-13T14:58:27.739Z"
   },
   {
    "duration": 11,
    "start_time": "2023-01-13T14:58:27.746Z"
   },
   {
    "duration": 7,
    "start_time": "2023-01-13T14:58:27.759Z"
   },
   {
    "duration": 6,
    "start_time": "2023-01-13T14:58:27.768Z"
   },
   {
    "duration": 7,
    "start_time": "2023-01-13T14:58:27.776Z"
   },
   {
    "duration": 32,
    "start_time": "2023-01-13T14:58:27.784Z"
   },
   {
    "duration": 8,
    "start_time": "2023-01-13T14:58:27.818Z"
   },
   {
    "duration": 12,
    "start_time": "2023-01-13T14:58:27.827Z"
   },
   {
    "duration": 6,
    "start_time": "2023-01-13T14:58:27.841Z"
   },
   {
    "duration": 15,
    "start_time": "2023-01-13T14:58:27.848Z"
   },
   {
    "duration": 381,
    "start_time": "2023-01-13T14:58:27.864Z"
   },
   {
    "duration": 8,
    "start_time": "2023-01-13T14:58:28.247Z"
   },
   {
    "duration": 17,
    "start_time": "2023-01-13T14:58:28.258Z"
   },
   {
    "duration": 29,
    "start_time": "2023-01-13T14:58:28.277Z"
   },
   {
    "duration": 8,
    "start_time": "2023-01-13T14:58:28.308Z"
   },
   {
    "duration": 535,
    "start_time": "2023-01-13T14:58:28.317Z"
   },
   {
    "duration": 6,
    "start_time": "2023-01-13T14:58:28.854Z"
   },
   {
    "duration": 12,
    "start_time": "2023-01-13T14:58:28.861Z"
   },
   {
    "duration": 374,
    "start_time": "2023-01-13T14:58:28.875Z"
   },
   {
    "duration": 282,
    "start_time": "2023-01-13T14:58:29.251Z"
   },
   {
    "duration": 7,
    "start_time": "2023-01-13T14:58:29.536Z"
   },
   {
    "duration": 364,
    "start_time": "2023-01-13T14:58:29.544Z"
   },
   {
    "duration": 6,
    "start_time": "2023-01-13T14:58:29.910Z"
   },
   {
    "duration": 8,
    "start_time": "2023-01-13T14:58:29.918Z"
   },
   {
    "duration": 12,
    "start_time": "2023-01-13T14:58:29.928Z"
   },
   {
    "duration": 304,
    "start_time": "2023-01-13T14:58:29.941Z"
   },
   {
    "duration": 8,
    "start_time": "2023-01-13T14:58:30.247Z"
   },
   {
    "duration": 514,
    "start_time": "2023-01-13T14:58:30.256Z"
   },
   {
    "duration": 11,
    "start_time": "2023-01-13T14:58:30.772Z"
   },
   {
    "duration": 278,
    "start_time": "2023-01-13T14:58:30.785Z"
   },
   {
    "duration": 6,
    "start_time": "2023-01-13T14:58:31.065Z"
   },
   {
    "duration": 212,
    "start_time": "2023-01-13T14:58:31.072Z"
   },
   {
    "duration": 8,
    "start_time": "2023-01-13T14:58:31.285Z"
   },
   {
    "duration": 22,
    "start_time": "2023-01-13T14:58:31.295Z"
   },
   {
    "duration": 30,
    "start_time": "2023-01-13T14:58:31.318Z"
   },
   {
    "duration": 85,
    "start_time": "2023-01-13T14:58:31.350Z"
   },
   {
    "duration": 87,
    "start_time": "2023-01-13T14:58:31.436Z"
   },
   {
    "duration": 115,
    "start_time": "2023-01-13T14:58:31.524Z"
   },
   {
    "duration": 0,
    "start_time": "2023-01-13T14:58:31.640Z"
   },
   {
    "duration": 0,
    "start_time": "2023-01-13T14:58:31.641Z"
   },
   {
    "duration": 0,
    "start_time": "2023-01-13T14:58:31.642Z"
   },
   {
    "duration": 0,
    "start_time": "2023-01-13T14:58:31.643Z"
   },
   {
    "duration": 1,
    "start_time": "2023-01-13T14:58:31.644Z"
   },
   {
    "duration": 0,
    "start_time": "2023-01-13T14:58:31.646Z"
   },
   {
    "duration": 1122,
    "start_time": "2023-01-13T14:59:26.204Z"
   },
   {
    "duration": 73,
    "start_time": "2023-01-13T14:59:27.328Z"
   },
   {
    "duration": 11,
    "start_time": "2023-01-13T14:59:27.402Z"
   },
   {
    "duration": 11,
    "start_time": "2023-01-13T14:59:27.414Z"
   },
   {
    "duration": 12,
    "start_time": "2023-01-13T14:59:27.427Z"
   },
   {
    "duration": 13,
    "start_time": "2023-01-13T14:59:27.441Z"
   },
   {
    "duration": 13,
    "start_time": "2023-01-13T14:59:27.455Z"
   },
   {
    "duration": 11,
    "start_time": "2023-01-13T14:59:27.469Z"
   },
   {
    "duration": 4,
    "start_time": "2023-01-13T14:59:27.482Z"
   },
   {
    "duration": 27,
    "start_time": "2023-01-13T14:59:27.488Z"
   },
   {
    "duration": 8,
    "start_time": "2023-01-13T14:59:27.517Z"
   },
   {
    "duration": 8,
    "start_time": "2023-01-13T14:59:27.526Z"
   },
   {
    "duration": 8,
    "start_time": "2023-01-13T14:59:27.536Z"
   },
   {
    "duration": 8,
    "start_time": "2023-01-13T14:59:27.546Z"
   },
   {
    "duration": 5,
    "start_time": "2023-01-13T14:59:27.555Z"
   },
   {
    "duration": 11,
    "start_time": "2023-01-13T14:59:27.562Z"
   },
   {
    "duration": 9,
    "start_time": "2023-01-13T14:59:27.574Z"
   },
   {
    "duration": 28,
    "start_time": "2023-01-13T14:59:27.585Z"
   },
   {
    "duration": 5,
    "start_time": "2023-01-13T14:59:27.614Z"
   },
   {
    "duration": 10,
    "start_time": "2023-01-13T14:59:27.620Z"
   },
   {
    "duration": 6,
    "start_time": "2023-01-13T14:59:27.632Z"
   },
   {
    "duration": 9,
    "start_time": "2023-01-13T14:59:27.640Z"
   },
   {
    "duration": 5,
    "start_time": "2023-01-13T14:59:27.651Z"
   },
   {
    "duration": 15,
    "start_time": "2023-01-13T14:59:27.657Z"
   },
   {
    "duration": 376,
    "start_time": "2023-01-13T14:59:27.673Z"
   },
   {
    "duration": 8,
    "start_time": "2023-01-13T14:59:28.051Z"
   },
   {
    "duration": 10,
    "start_time": "2023-01-13T14:59:28.060Z"
   },
   {
    "duration": 13,
    "start_time": "2023-01-13T14:59:28.071Z"
   },
   {
    "duration": 4,
    "start_time": "2023-01-13T14:59:28.086Z"
   },
   {
    "duration": 533,
    "start_time": "2023-01-13T14:59:28.091Z"
   },
   {
    "duration": 5,
    "start_time": "2023-01-13T14:59:28.625Z"
   },
   {
    "duration": 7,
    "start_time": "2023-01-13T14:59:28.631Z"
   },
   {
    "duration": 366,
    "start_time": "2023-01-13T14:59:28.639Z"
   },
   {
    "duration": 272,
    "start_time": "2023-01-13T14:59:29.007Z"
   },
   {
    "duration": 6,
    "start_time": "2023-01-13T14:59:29.280Z"
   },
   {
    "duration": 424,
    "start_time": "2023-01-13T14:59:29.288Z"
   },
   {
    "duration": 4,
    "start_time": "2023-01-13T14:59:29.714Z"
   },
   {
    "duration": 7,
    "start_time": "2023-01-13T14:59:29.719Z"
   },
   {
    "duration": 6,
    "start_time": "2023-01-13T14:59:29.728Z"
   },
   {
    "duration": 303,
    "start_time": "2023-01-13T14:59:29.735Z"
   },
   {
    "duration": 8,
    "start_time": "2023-01-13T14:59:30.042Z"
   },
   {
    "duration": 439,
    "start_time": "2023-01-13T14:59:30.051Z"
   },
   {
    "duration": 20,
    "start_time": "2023-01-13T14:59:30.494Z"
   },
   {
    "duration": 250,
    "start_time": "2023-01-13T14:59:30.517Z"
   },
   {
    "duration": 5,
    "start_time": "2023-01-13T14:59:30.769Z"
   },
   {
    "duration": 191,
    "start_time": "2023-01-13T14:59:30.776Z"
   },
   {
    "duration": 6,
    "start_time": "2023-01-13T14:59:30.969Z"
   },
   {
    "duration": 20,
    "start_time": "2023-01-13T14:59:30.976Z"
   },
   {
    "duration": 18,
    "start_time": "2023-01-13T14:59:30.997Z"
   },
   {
    "duration": 103,
    "start_time": "2023-01-13T14:59:31.017Z"
   },
   {
    "duration": 0,
    "start_time": "2023-01-13T14:59:31.122Z"
   },
   {
    "duration": 0,
    "start_time": "2023-01-13T14:59:31.123Z"
   },
   {
    "duration": 0,
    "start_time": "2023-01-13T14:59:31.124Z"
   },
   {
    "duration": 0,
    "start_time": "2023-01-13T14:59:31.125Z"
   },
   {
    "duration": 0,
    "start_time": "2023-01-13T14:59:31.126Z"
   },
   {
    "duration": 0,
    "start_time": "2023-01-13T14:59:31.127Z"
   },
   {
    "duration": 0,
    "start_time": "2023-01-13T14:59:31.128Z"
   },
   {
    "duration": 0,
    "start_time": "2023-01-13T14:59:31.129Z"
   },
   {
    "duration": 0,
    "start_time": "2023-01-13T14:59:31.130Z"
   },
   {
    "duration": 20,
    "start_time": "2023-01-13T15:00:30.369Z"
   },
   {
    "duration": 11,
    "start_time": "2023-01-13T15:00:33.832Z"
   },
   {
    "duration": 15,
    "start_time": "2023-01-13T15:00:56.120Z"
   },
   {
    "duration": 17,
    "start_time": "2023-01-13T15:00:56.759Z"
   },
   {
    "duration": 14,
    "start_time": "2023-01-13T15:00:58.144Z"
   },
   {
    "duration": 15,
    "start_time": "2023-01-13T15:01:51.805Z"
   },
   {
    "duration": 48,
    "start_time": "2023-01-13T15:01:52.410Z"
   },
   {
    "duration": 15,
    "start_time": "2023-01-13T15:01:52.973Z"
   },
   {
    "duration": 47,
    "start_time": "2023-01-13T15:01:53.687Z"
   },
   {
    "duration": 18,
    "start_time": "2023-01-13T15:01:55.083Z"
   },
   {
    "duration": 84,
    "start_time": "2023-01-13T15:02:26.763Z"
   },
   {
    "duration": 16,
    "start_time": "2023-01-13T15:02:27.339Z"
   },
   {
    "duration": 48,
    "start_time": "2023-01-13T15:02:27.830Z"
   },
   {
    "duration": 15,
    "start_time": "2023-01-13T15:02:28.328Z"
   },
   {
    "duration": 47,
    "start_time": "2023-01-13T15:02:28.847Z"
   },
   {
    "duration": 25,
    "start_time": "2023-01-13T15:02:29.540Z"
   },
   {
    "duration": 74,
    "start_time": "2023-01-13T15:02:31.023Z"
   },
   {
    "duration": 95,
    "start_time": "2023-01-13T15:02:31.975Z"
   },
   {
    "duration": 7,
    "start_time": "2023-01-13T15:02:32.606Z"
   },
   {
    "duration": 123,
    "start_time": "2023-01-13T15:02:33.248Z"
   },
   {
    "duration": 6,
    "start_time": "2023-01-13T15:02:33.909Z"
   },
   {
    "duration": 8,
    "start_time": "2023-01-13T15:02:34.601Z"
   },
   {
    "duration": 31,
    "start_time": "2023-01-13T15:02:35.307Z"
   },
   {
    "duration": 10,
    "start_time": "2023-01-13T15:02:39.242Z"
   },
   {
    "duration": 11,
    "start_time": "2023-01-13T15:02:40.648Z"
   },
   {
    "duration": 10,
    "start_time": "2023-01-13T15:22:13.251Z"
   },
   {
    "duration": 1135,
    "start_time": "2023-01-13T15:23:12.176Z"
   },
   {
    "duration": 73,
    "start_time": "2023-01-13T15:23:13.313Z"
   },
   {
    "duration": 12,
    "start_time": "2023-01-13T15:23:13.387Z"
   },
   {
    "duration": 13,
    "start_time": "2023-01-13T15:23:13.401Z"
   },
   {
    "duration": 10,
    "start_time": "2023-01-13T15:23:13.415Z"
   },
   {
    "duration": 11,
    "start_time": "2023-01-13T15:23:13.427Z"
   },
   {
    "duration": 11,
    "start_time": "2023-01-13T15:23:13.440Z"
   },
   {
    "duration": 14,
    "start_time": "2023-01-13T15:23:13.453Z"
   },
   {
    "duration": 15,
    "start_time": "2023-01-13T15:23:13.469Z"
   },
   {
    "duration": 6,
    "start_time": "2023-01-13T15:23:13.487Z"
   },
   {
    "duration": 18,
    "start_time": "2023-01-13T15:23:13.495Z"
   },
   {
    "duration": 7,
    "start_time": "2023-01-13T15:23:13.515Z"
   },
   {
    "duration": 10,
    "start_time": "2023-01-13T15:23:13.524Z"
   },
   {
    "duration": 8,
    "start_time": "2023-01-13T15:23:13.535Z"
   },
   {
    "duration": 5,
    "start_time": "2023-01-13T15:23:13.545Z"
   },
   {
    "duration": 11,
    "start_time": "2023-01-13T15:23:13.551Z"
   },
   {
    "duration": 9,
    "start_time": "2023-01-13T15:23:13.564Z"
   },
   {
    "duration": 6,
    "start_time": "2023-01-13T15:23:13.575Z"
   },
   {
    "duration": 8,
    "start_time": "2023-01-13T15:23:13.583Z"
   },
   {
    "duration": 22,
    "start_time": "2023-01-13T15:23:13.593Z"
   },
   {
    "duration": 7,
    "start_time": "2023-01-13T15:23:13.617Z"
   },
   {
    "duration": 12,
    "start_time": "2023-01-13T15:23:13.625Z"
   },
   {
    "duration": 6,
    "start_time": "2023-01-13T15:23:13.638Z"
   },
   {
    "duration": 11,
    "start_time": "2023-01-13T15:23:13.645Z"
   },
   {
    "duration": 387,
    "start_time": "2023-01-13T15:23:13.658Z"
   },
   {
    "duration": 9,
    "start_time": "2023-01-13T15:23:14.047Z"
   },
   {
    "duration": 15,
    "start_time": "2023-01-13T15:23:14.058Z"
   },
   {
    "duration": 12,
    "start_time": "2023-01-13T15:23:14.077Z"
   },
   {
    "duration": 5,
    "start_time": "2023-01-13T15:23:14.091Z"
   },
   {
    "duration": 552,
    "start_time": "2023-01-13T15:23:14.098Z"
   },
   {
    "duration": 5,
    "start_time": "2023-01-13T15:23:14.652Z"
   },
   {
    "duration": 9,
    "start_time": "2023-01-13T15:23:14.659Z"
   },
   {
    "duration": 361,
    "start_time": "2023-01-13T15:23:14.670Z"
   },
   {
    "duration": 268,
    "start_time": "2023-01-13T15:23:15.033Z"
   },
   {
    "duration": 14,
    "start_time": "2023-01-13T15:23:15.302Z"
   },
   {
    "duration": 391,
    "start_time": "2023-01-13T15:23:15.317Z"
   },
   {
    "duration": 4,
    "start_time": "2023-01-13T15:23:15.710Z"
   },
   {
    "duration": 6,
    "start_time": "2023-01-13T15:23:15.716Z"
   },
   {
    "duration": 6,
    "start_time": "2023-01-13T15:23:15.724Z"
   },
   {
    "duration": 300,
    "start_time": "2023-01-13T15:23:15.732Z"
   },
   {
    "duration": 8,
    "start_time": "2023-01-13T15:23:16.034Z"
   },
   {
    "duration": 401,
    "start_time": "2023-01-13T15:23:16.043Z"
   },
   {
    "duration": 10,
    "start_time": "2023-01-13T15:23:16.446Z"
   },
   {
    "duration": 236,
    "start_time": "2023-01-13T15:23:16.457Z"
   },
   {
    "duration": 5,
    "start_time": "2023-01-13T15:23:16.695Z"
   },
   {
    "duration": 185,
    "start_time": "2023-01-13T15:23:16.702Z"
   },
   {
    "duration": 7,
    "start_time": "2023-01-13T15:23:16.888Z"
   },
   {
    "duration": 19,
    "start_time": "2023-01-13T15:23:16.897Z"
   },
   {
    "duration": 13,
    "start_time": "2023-01-13T15:23:16.918Z"
   },
   {
    "duration": 97,
    "start_time": "2023-01-13T15:23:16.933Z"
   },
   {
    "duration": 21,
    "start_time": "2023-01-13T15:23:17.031Z"
   },
   {
    "duration": 50,
    "start_time": "2023-01-13T15:23:17.054Z"
   },
   {
    "duration": 14,
    "start_time": "2023-01-13T15:23:17.112Z"
   },
   {
    "duration": 69,
    "start_time": "2023-01-13T15:23:17.129Z"
   },
   {
    "duration": 29,
    "start_time": "2023-01-13T15:23:17.199Z"
   },
   {
    "duration": 67,
    "start_time": "2023-01-13T15:23:17.230Z"
   },
   {
    "duration": 77,
    "start_time": "2023-01-13T15:23:17.313Z"
   },
   {
    "duration": 25,
    "start_time": "2023-01-13T15:23:17.392Z"
   },
   {
    "duration": 7,
    "start_time": "2023-01-13T15:23:17.418Z"
   },
   {
    "duration": 145,
    "start_time": "2023-01-13T15:23:17.426Z"
   },
   {
    "duration": 7,
    "start_time": "2023-01-13T15:23:17.573Z"
   },
   {
    "duration": 9,
    "start_time": "2023-01-13T15:23:17.582Z"
   },
   {
    "duration": 40,
    "start_time": "2023-01-13T15:23:17.592Z"
   },
   {
    "duration": 11,
    "start_time": "2023-01-13T15:23:17.634Z"
   },
   {
    "duration": 1240,
    "start_time": "2023-01-13T15:25:17.929Z"
   },
   {
    "duration": 1167,
    "start_time": "2023-01-13T15:25:51.957Z"
   },
   {
    "duration": 1175,
    "start_time": "2023-01-13T15:26:10.247Z"
   },
   {
    "duration": 73,
    "start_time": "2023-01-13T15:26:11.424Z"
   },
   {
    "duration": 11,
    "start_time": "2023-01-13T15:26:11.499Z"
   },
   {
    "duration": 15,
    "start_time": "2023-01-13T15:26:11.512Z"
   },
   {
    "duration": 13,
    "start_time": "2023-01-13T15:26:11.530Z"
   },
   {
    "duration": 11,
    "start_time": "2023-01-13T15:26:11.544Z"
   },
   {
    "duration": 9,
    "start_time": "2023-01-13T15:26:11.557Z"
   },
   {
    "duration": 12,
    "start_time": "2023-01-13T15:26:11.567Z"
   },
   {
    "duration": 12,
    "start_time": "2023-01-13T15:26:11.581Z"
   },
   {
    "duration": 25,
    "start_time": "2023-01-13T15:26:11.594Z"
   },
   {
    "duration": 4,
    "start_time": "2023-01-13T15:26:11.621Z"
   },
   {
    "duration": 10,
    "start_time": "2023-01-13T15:26:11.627Z"
   },
   {
    "duration": 10,
    "start_time": "2023-01-13T15:26:11.639Z"
   },
   {
    "duration": 10,
    "start_time": "2023-01-13T15:26:11.651Z"
   },
   {
    "duration": 9,
    "start_time": "2023-01-13T15:26:11.663Z"
   },
   {
    "duration": 14,
    "start_time": "2023-01-13T15:26:11.673Z"
   },
   {
    "duration": 9,
    "start_time": "2023-01-13T15:26:11.689Z"
   },
   {
    "duration": 6,
    "start_time": "2023-01-13T15:26:11.712Z"
   },
   {
    "duration": 6,
    "start_time": "2023-01-13T15:26:11.720Z"
   },
   {
    "duration": 10,
    "start_time": "2023-01-13T15:26:11.727Z"
   },
   {
    "duration": 6,
    "start_time": "2023-01-13T15:26:11.738Z"
   },
   {
    "duration": 10,
    "start_time": "2023-01-13T15:26:11.746Z"
   },
   {
    "duration": 10,
    "start_time": "2023-01-13T15:26:11.758Z"
   },
   {
    "duration": 13,
    "start_time": "2023-01-13T15:26:11.769Z"
   },
   {
    "duration": 397,
    "start_time": "2023-01-13T15:26:11.784Z"
   },
   {
    "duration": 9,
    "start_time": "2023-01-13T15:26:12.183Z"
   },
   {
    "duration": 10,
    "start_time": "2023-01-13T15:26:12.193Z"
   },
   {
    "duration": 14,
    "start_time": "2023-01-13T15:26:12.204Z"
   },
   {
    "duration": 4,
    "start_time": "2023-01-13T15:26:12.219Z"
   },
   {
    "duration": 523,
    "start_time": "2023-01-13T15:26:12.225Z"
   },
   {
    "duration": 4,
    "start_time": "2023-01-13T15:26:12.749Z"
   },
   {
    "duration": 20,
    "start_time": "2023-01-13T15:26:12.755Z"
   },
   {
    "duration": 344,
    "start_time": "2023-01-13T15:26:12.777Z"
   },
   {
    "duration": 284,
    "start_time": "2023-01-13T15:26:13.122Z"
   },
   {
    "duration": 8,
    "start_time": "2023-01-13T15:26:13.408Z"
   },
   {
    "duration": 387,
    "start_time": "2023-01-13T15:26:13.418Z"
   },
   {
    "duration": 4,
    "start_time": "2023-01-13T15:26:13.812Z"
   },
   {
    "duration": 16,
    "start_time": "2023-01-13T15:26:13.818Z"
   },
   {
    "duration": 15,
    "start_time": "2023-01-13T15:26:13.836Z"
   },
   {
    "duration": 332,
    "start_time": "2023-01-13T15:26:13.853Z"
   },
   {
    "duration": 7,
    "start_time": "2023-01-13T15:26:14.189Z"
   },
   {
    "duration": 428,
    "start_time": "2023-01-13T15:26:14.198Z"
   },
   {
    "duration": 11,
    "start_time": "2023-01-13T15:26:14.628Z"
   },
   {
    "duration": 274,
    "start_time": "2023-01-13T15:26:14.641Z"
   },
   {
    "duration": 7,
    "start_time": "2023-01-13T15:26:14.917Z"
   },
   {
    "duration": 188,
    "start_time": "2023-01-13T15:26:14.926Z"
   },
   {
    "duration": 6,
    "start_time": "2023-01-13T15:26:15.116Z"
   },
   {
    "duration": 7,
    "start_time": "2023-01-13T15:26:15.124Z"
   },
   {
    "duration": 8,
    "start_time": "2023-01-13T15:26:15.132Z"
   },
   {
    "duration": 105,
    "start_time": "2023-01-13T15:26:15.142Z"
   },
   {
    "duration": 18,
    "start_time": "2023-01-13T15:26:15.249Z"
   },
   {
    "duration": 54,
    "start_time": "2023-01-13T15:26:15.269Z"
   },
   {
    "duration": 12,
    "start_time": "2023-01-13T15:26:15.325Z"
   },
   {
    "duration": 49,
    "start_time": "2023-01-13T15:26:15.339Z"
   },
   {
    "duration": 39,
    "start_time": "2023-01-13T15:26:15.390Z"
   },
   {
    "duration": 84,
    "start_time": "2023-01-13T15:26:15.430Z"
   },
   {
    "duration": 78,
    "start_time": "2023-01-13T15:26:15.516Z"
   },
   {
    "duration": 23,
    "start_time": "2023-01-13T15:26:15.595Z"
   },
   {
    "duration": 5,
    "start_time": "2023-01-13T15:26:15.620Z"
   },
   {
    "duration": 137,
    "start_time": "2023-01-13T15:26:15.626Z"
   },
   {
    "duration": 6,
    "start_time": "2023-01-13T15:26:15.765Z"
   },
   {
    "duration": 7,
    "start_time": "2023-01-13T15:26:15.773Z"
   },
   {
    "duration": 38,
    "start_time": "2023-01-13T15:26:15.782Z"
   },
   {
    "duration": 10,
    "start_time": "2023-01-13T15:26:15.821Z"
   },
   {
    "duration": 1247,
    "start_time": "2023-01-13T15:26:15.833Z"
   },
   {
    "duration": 1242,
    "start_time": "2023-01-13T15:27:06.549Z"
   },
   {
    "duration": 8,
    "start_time": "2023-01-13T15:27:38.766Z"
   },
   {
    "duration": 18,
    "start_time": "2023-01-13T15:29:25.508Z"
   },
   {
    "duration": 10,
    "start_time": "2023-01-13T15:29:36.320Z"
   },
   {
    "duration": 10,
    "start_time": "2023-01-13T15:32:35.652Z"
   },
   {
    "duration": 9,
    "start_time": "2023-01-13T15:38:36.243Z"
   },
   {
    "duration": 7,
    "start_time": "2023-01-13T15:40:49.713Z"
   },
   {
    "duration": 8,
    "start_time": "2023-01-13T15:41:08.546Z"
   },
   {
    "duration": 22,
    "start_time": "2023-01-13T15:41:36.561Z"
   },
   {
    "duration": 1312,
    "start_time": "2023-01-13T15:43:01.990Z"
   },
   {
    "duration": 1219,
    "start_time": "2023-01-13T15:43:55.128Z"
   },
   {
    "duration": 73,
    "start_time": "2023-01-13T15:43:56.349Z"
   },
   {
    "duration": 14,
    "start_time": "2023-01-13T15:43:56.423Z"
   },
   {
    "duration": 14,
    "start_time": "2023-01-13T15:43:56.440Z"
   },
   {
    "duration": 15,
    "start_time": "2023-01-13T15:43:56.457Z"
   },
   {
    "duration": 15,
    "start_time": "2023-01-13T15:43:56.474Z"
   },
   {
    "duration": 23,
    "start_time": "2023-01-13T15:43:56.491Z"
   },
   {
    "duration": 29,
    "start_time": "2023-01-13T15:43:56.516Z"
   },
   {
    "duration": 11,
    "start_time": "2023-01-13T15:43:56.547Z"
   },
   {
    "duration": 20,
    "start_time": "2023-01-13T15:43:56.559Z"
   },
   {
    "duration": 6,
    "start_time": "2023-01-13T15:43:56.581Z"
   },
   {
    "duration": 9,
    "start_time": "2023-01-13T15:43:56.589Z"
   },
   {
    "duration": 11,
    "start_time": "2023-01-13T15:43:56.599Z"
   },
   {
    "duration": 25,
    "start_time": "2023-01-13T15:43:56.613Z"
   },
   {
    "duration": 6,
    "start_time": "2023-01-13T15:43:56.640Z"
   },
   {
    "duration": 12,
    "start_time": "2023-01-13T15:43:56.647Z"
   },
   {
    "duration": 7,
    "start_time": "2023-01-13T15:43:56.661Z"
   },
   {
    "duration": 8,
    "start_time": "2023-01-13T15:43:56.670Z"
   },
   {
    "duration": 6,
    "start_time": "2023-01-13T15:43:56.680Z"
   },
   {
    "duration": 13,
    "start_time": "2023-01-13T15:43:56.687Z"
   },
   {
    "duration": 8,
    "start_time": "2023-01-13T15:43:56.702Z"
   },
   {
    "duration": 28,
    "start_time": "2023-01-13T15:43:56.712Z"
   },
   {
    "duration": 11,
    "start_time": "2023-01-13T15:43:56.742Z"
   },
   {
    "duration": 13,
    "start_time": "2023-01-13T15:43:56.755Z"
   },
   {
    "duration": 403,
    "start_time": "2023-01-13T15:43:56.770Z"
   },
   {
    "duration": 10,
    "start_time": "2023-01-13T15:43:57.175Z"
   },
   {
    "duration": 11,
    "start_time": "2023-01-13T15:43:57.187Z"
   },
   {
    "duration": 14,
    "start_time": "2023-01-13T15:43:57.199Z"
   },
   {
    "duration": 9,
    "start_time": "2023-01-13T15:43:57.215Z"
   },
   {
    "duration": 596,
    "start_time": "2023-01-13T15:43:57.226Z"
   },
   {
    "duration": 7,
    "start_time": "2023-01-13T15:43:57.824Z"
   },
   {
    "duration": 7,
    "start_time": "2023-01-13T15:43:57.833Z"
   },
   {
    "duration": 388,
    "start_time": "2023-01-13T15:43:57.842Z"
   },
   {
    "duration": 299,
    "start_time": "2023-01-13T15:43:58.232Z"
   },
   {
    "duration": 6,
    "start_time": "2023-01-13T15:43:58.533Z"
   },
   {
    "duration": 397,
    "start_time": "2023-01-13T15:43:58.540Z"
   },
   {
    "duration": 4,
    "start_time": "2023-01-13T15:43:58.940Z"
   },
   {
    "duration": 7,
    "start_time": "2023-01-13T15:43:58.947Z"
   },
   {
    "duration": 7,
    "start_time": "2023-01-13T15:43:58.956Z"
   },
   {
    "duration": 317,
    "start_time": "2023-01-13T15:43:58.964Z"
   },
   {
    "duration": 8,
    "start_time": "2023-01-13T15:43:59.284Z"
   },
   {
    "duration": 452,
    "start_time": "2023-01-13T15:43:59.293Z"
   },
   {
    "duration": 11,
    "start_time": "2023-01-13T15:43:59.747Z"
   },
   {
    "duration": 253,
    "start_time": "2023-01-13T15:43:59.760Z"
   },
   {
    "duration": 7,
    "start_time": "2023-01-13T15:44:00.015Z"
   },
   {
    "duration": 204,
    "start_time": "2023-01-13T15:44:00.024Z"
   },
   {
    "duration": 7,
    "start_time": "2023-01-13T15:44:00.230Z"
   },
   {
    "duration": 121,
    "start_time": "2023-01-13T15:44:00.239Z"
   },
   {
    "duration": 34,
    "start_time": "2023-01-13T15:44:00.363Z"
   },
   {
    "duration": 141,
    "start_time": "2023-01-13T15:44:00.402Z"
   },
   {
    "duration": 56,
    "start_time": "2023-01-13T15:44:00.546Z"
   },
   {
    "duration": 88,
    "start_time": "2023-01-13T15:44:00.605Z"
   },
   {
    "duration": 53,
    "start_time": "2023-01-13T15:44:00.695Z"
   },
   {
    "duration": 79,
    "start_time": "2023-01-13T15:44:00.750Z"
   },
   {
    "duration": 39,
    "start_time": "2023-01-13T15:44:00.831Z"
   },
   {
    "duration": 117,
    "start_time": "2023-01-13T15:44:00.872Z"
   },
   {
    "duration": 98,
    "start_time": "2023-01-13T15:44:00.991Z"
   },
   {
    "duration": 8,
    "start_time": "2023-01-13T15:44:01.090Z"
   },
   {
    "duration": 32,
    "start_time": "2023-01-13T15:44:01.100Z"
   },
   {
    "duration": 145,
    "start_time": "2023-01-13T15:44:01.134Z"
   },
   {
    "duration": 6,
    "start_time": "2023-01-13T15:44:01.281Z"
   },
   {
    "duration": 52,
    "start_time": "2023-01-13T15:44:01.289Z"
   },
   {
    "duration": 37,
    "start_time": "2023-01-13T15:44:01.342Z"
   },
   {
    "duration": 10,
    "start_time": "2023-01-13T15:44:01.381Z"
   },
   {
    "duration": 11,
    "start_time": "2023-01-13T15:44:01.393Z"
   },
   {
    "duration": 55,
    "start_time": "2023-01-13T15:44:01.405Z"
   },
   {
    "duration": 98,
    "start_time": "2023-01-13T15:44:01.462Z"
   },
   {
    "duration": 1486,
    "start_time": "2023-01-13T15:44:01.562Z"
   },
   {
    "duration": 21,
    "start_time": "2023-01-13T15:44:52.018Z"
   },
   {
    "duration": 1198,
    "start_time": "2023-01-13T15:48:19.129Z"
   },
   {
    "duration": 75,
    "start_time": "2023-01-13T15:48:20.330Z"
   },
   {
    "duration": 14,
    "start_time": "2023-01-13T15:48:20.408Z"
   },
   {
    "duration": 32,
    "start_time": "2023-01-13T15:48:20.424Z"
   },
   {
    "duration": 17,
    "start_time": "2023-01-13T15:48:20.459Z"
   },
   {
    "duration": 17,
    "start_time": "2023-01-13T15:48:20.478Z"
   },
   {
    "duration": 11,
    "start_time": "2023-01-13T15:48:20.497Z"
   },
   {
    "duration": 29,
    "start_time": "2023-01-13T15:48:20.509Z"
   },
   {
    "duration": 8,
    "start_time": "2023-01-13T15:48:20.540Z"
   },
   {
    "duration": 9,
    "start_time": "2023-01-13T15:48:20.549Z"
   },
   {
    "duration": 5,
    "start_time": "2023-01-13T15:48:20.560Z"
   },
   {
    "duration": 6,
    "start_time": "2023-01-13T15:48:20.566Z"
   },
   {
    "duration": 11,
    "start_time": "2023-01-13T15:48:20.574Z"
   },
   {
    "duration": 14,
    "start_time": "2023-01-13T15:48:20.588Z"
   },
   {
    "duration": 10,
    "start_time": "2023-01-13T15:48:20.604Z"
   },
   {
    "duration": 21,
    "start_time": "2023-01-13T15:48:20.616Z"
   },
   {
    "duration": 6,
    "start_time": "2023-01-13T15:48:20.639Z"
   },
   {
    "duration": 5,
    "start_time": "2023-01-13T15:48:20.647Z"
   },
   {
    "duration": 5,
    "start_time": "2023-01-13T15:48:20.654Z"
   },
   {
    "duration": 11,
    "start_time": "2023-01-13T15:48:20.661Z"
   },
   {
    "duration": 7,
    "start_time": "2023-01-13T15:48:20.673Z"
   },
   {
    "duration": 12,
    "start_time": "2023-01-13T15:48:20.682Z"
   },
   {
    "duration": 6,
    "start_time": "2023-01-13T15:48:20.695Z"
   },
   {
    "duration": 20,
    "start_time": "2023-01-13T15:48:20.702Z"
   },
   {
    "duration": 393,
    "start_time": "2023-01-13T15:48:20.723Z"
   },
   {
    "duration": 11,
    "start_time": "2023-01-13T15:48:21.118Z"
   },
   {
    "duration": 23,
    "start_time": "2023-01-13T15:48:21.130Z"
   },
   {
    "duration": 23,
    "start_time": "2023-01-13T15:48:21.154Z"
   },
   {
    "duration": 4,
    "start_time": "2023-01-13T15:48:21.179Z"
   },
   {
    "duration": 522,
    "start_time": "2023-01-13T15:48:21.184Z"
   },
   {
    "duration": 8,
    "start_time": "2023-01-13T15:48:21.708Z"
   },
   {
    "duration": 33,
    "start_time": "2023-01-13T15:48:21.718Z"
   },
   {
    "duration": 392,
    "start_time": "2023-01-13T15:48:21.753Z"
   },
   {
    "duration": 306,
    "start_time": "2023-01-13T15:48:22.147Z"
   },
   {
    "duration": 6,
    "start_time": "2023-01-13T15:48:22.455Z"
   },
   {
    "duration": 399,
    "start_time": "2023-01-13T15:48:22.462Z"
   },
   {
    "duration": 4,
    "start_time": "2023-01-13T15:48:22.863Z"
   },
   {
    "duration": 21,
    "start_time": "2023-01-13T15:48:22.869Z"
   },
   {
    "duration": 47,
    "start_time": "2023-01-13T15:48:22.892Z"
   },
   {
    "duration": 337,
    "start_time": "2023-01-13T15:48:22.941Z"
   },
   {
    "duration": 8,
    "start_time": "2023-01-13T15:48:23.283Z"
   },
   {
    "duration": 452,
    "start_time": "2023-01-13T15:48:23.293Z"
   },
   {
    "duration": 11,
    "start_time": "2023-01-13T15:48:23.747Z"
   },
   {
    "duration": 262,
    "start_time": "2023-01-13T15:48:23.760Z"
   },
   {
    "duration": 7,
    "start_time": "2023-01-13T15:48:24.024Z"
   },
   {
    "duration": 198,
    "start_time": "2023-01-13T15:48:24.032Z"
   },
   {
    "duration": 7,
    "start_time": "2023-01-13T15:48:24.231Z"
   },
   {
    "duration": 16,
    "start_time": "2023-01-13T15:48:24.240Z"
   },
   {
    "duration": 20,
    "start_time": "2023-01-13T15:48:24.257Z"
   },
   {
    "duration": 91,
    "start_time": "2023-01-13T15:48:24.279Z"
   },
   {
    "duration": 13,
    "start_time": "2023-01-13T15:48:24.372Z"
   },
   {
    "duration": 60,
    "start_time": "2023-01-13T15:48:24.386Z"
   },
   {
    "duration": 24,
    "start_time": "2023-01-13T15:48:24.448Z"
   },
   {
    "duration": 56,
    "start_time": "2023-01-13T15:48:24.473Z"
   },
   {
    "duration": 34,
    "start_time": "2023-01-13T15:48:24.531Z"
   },
   {
    "duration": 93,
    "start_time": "2023-01-13T15:48:24.567Z"
   },
   {
    "duration": 97,
    "start_time": "2023-01-13T15:48:24.661Z"
   },
   {
    "duration": 8,
    "start_time": "2023-01-13T15:48:24.760Z"
   },
   {
    "duration": 14,
    "start_time": "2023-01-13T15:48:24.769Z"
   },
   {
    "duration": 157,
    "start_time": "2023-01-13T15:48:24.785Z"
   },
   {
    "duration": 8,
    "start_time": "2023-01-13T15:48:24.944Z"
   },
   {
    "duration": 14,
    "start_time": "2023-01-13T15:48:24.954Z"
   },
   {
    "duration": 43,
    "start_time": "2023-01-13T15:48:24.970Z"
   },
   {
    "duration": 11,
    "start_time": "2023-01-13T15:48:25.015Z"
   },
   {
    "duration": 10,
    "start_time": "2023-01-13T15:48:25.028Z"
   },
   {
    "duration": 7,
    "start_time": "2023-01-13T15:48:25.040Z"
   },
   {
    "duration": 25,
    "start_time": "2023-01-13T15:48:25.049Z"
   },
   {
    "duration": 40,
    "start_time": "2023-01-13T15:48:25.076Z"
   },
   {
    "duration": 84,
    "start_time": "2023-01-14T12:38:25.399Z"
   },
   {
    "duration": 77,
    "start_time": "2023-01-14T12:39:09.592Z"
   },
   {
    "duration": 75,
    "start_time": "2023-01-14T12:39:30.880Z"
   },
   {
    "duration": 0,
    "start_time": "2023-01-14T12:39:30.958Z"
   },
   {
    "duration": 0,
    "start_time": "2023-01-14T12:39:30.959Z"
   },
   {
    "duration": 0,
    "start_time": "2023-01-14T12:39:30.960Z"
   },
   {
    "duration": 0,
    "start_time": "2023-01-14T12:39:30.961Z"
   },
   {
    "duration": 0,
    "start_time": "2023-01-14T12:39:30.962Z"
   },
   {
    "duration": 0,
    "start_time": "2023-01-14T12:39:30.963Z"
   },
   {
    "duration": 0,
    "start_time": "2023-01-14T12:39:30.964Z"
   },
   {
    "duration": 0,
    "start_time": "2023-01-14T12:39:30.965Z"
   },
   {
    "duration": 0,
    "start_time": "2023-01-14T12:39:30.966Z"
   },
   {
    "duration": 0,
    "start_time": "2023-01-14T12:39:30.967Z"
   },
   {
    "duration": 0,
    "start_time": "2023-01-14T12:39:30.968Z"
   },
   {
    "duration": 0,
    "start_time": "2023-01-14T12:39:30.969Z"
   },
   {
    "duration": 0,
    "start_time": "2023-01-14T12:39:30.970Z"
   },
   {
    "duration": 0,
    "start_time": "2023-01-14T12:39:30.971Z"
   },
   {
    "duration": 0,
    "start_time": "2023-01-14T12:39:30.972Z"
   },
   {
    "duration": 0,
    "start_time": "2023-01-14T12:39:30.973Z"
   },
   {
    "duration": 0,
    "start_time": "2023-01-14T12:39:30.974Z"
   },
   {
    "duration": 0,
    "start_time": "2023-01-14T12:39:30.975Z"
   },
   {
    "duration": 0,
    "start_time": "2023-01-14T12:39:30.976Z"
   },
   {
    "duration": 0,
    "start_time": "2023-01-14T12:39:30.977Z"
   },
   {
    "duration": 0,
    "start_time": "2023-01-14T12:39:30.978Z"
   },
   {
    "duration": 0,
    "start_time": "2023-01-14T12:39:30.979Z"
   },
   {
    "duration": 0,
    "start_time": "2023-01-14T12:39:30.980Z"
   },
   {
    "duration": 0,
    "start_time": "2023-01-14T12:39:30.981Z"
   },
   {
    "duration": 0,
    "start_time": "2023-01-14T12:39:30.983Z"
   },
   {
    "duration": 0,
    "start_time": "2023-01-14T12:39:30.984Z"
   },
   {
    "duration": 0,
    "start_time": "2023-01-14T12:39:30.985Z"
   },
   {
    "duration": 0,
    "start_time": "2023-01-14T12:39:30.986Z"
   },
   {
    "duration": 0,
    "start_time": "2023-01-14T12:39:30.987Z"
   },
   {
    "duration": 0,
    "start_time": "2023-01-14T12:39:30.988Z"
   },
   {
    "duration": 0,
    "start_time": "2023-01-14T12:39:30.989Z"
   },
   {
    "duration": 0,
    "start_time": "2023-01-14T12:39:30.990Z"
   },
   {
    "duration": 1,
    "start_time": "2023-01-14T12:39:30.991Z"
   },
   {
    "duration": 0,
    "start_time": "2023-01-14T12:39:30.992Z"
   },
   {
    "duration": 0,
    "start_time": "2023-01-14T12:39:30.992Z"
   },
   {
    "duration": 0,
    "start_time": "2023-01-14T12:39:30.993Z"
   },
   {
    "duration": 0,
    "start_time": "2023-01-14T12:39:30.994Z"
   },
   {
    "duration": 0,
    "start_time": "2023-01-14T12:39:30.994Z"
   },
   {
    "duration": 107,
    "start_time": "2023-01-14T12:39:31.014Z"
   },
   {
    "duration": 0,
    "start_time": "2023-01-14T12:39:31.124Z"
   },
   {
    "duration": 0,
    "start_time": "2023-01-14T12:39:31.125Z"
   },
   {
    "duration": 0,
    "start_time": "2023-01-14T12:39:31.126Z"
   },
   {
    "duration": 0,
    "start_time": "2023-01-14T12:39:31.127Z"
   },
   {
    "duration": 0,
    "start_time": "2023-01-14T12:39:31.128Z"
   },
   {
    "duration": 0,
    "start_time": "2023-01-14T12:39:31.129Z"
   },
   {
    "duration": 0,
    "start_time": "2023-01-14T12:39:31.130Z"
   },
   {
    "duration": 0,
    "start_time": "2023-01-14T12:39:31.131Z"
   },
   {
    "duration": 0,
    "start_time": "2023-01-14T12:39:31.132Z"
   },
   {
    "duration": 0,
    "start_time": "2023-01-14T12:39:31.133Z"
   },
   {
    "duration": 0,
    "start_time": "2023-01-14T12:39:31.133Z"
   },
   {
    "duration": 0,
    "start_time": "2023-01-14T12:39:31.134Z"
   },
   {
    "duration": 0,
    "start_time": "2023-01-14T12:39:31.135Z"
   },
   {
    "duration": 0,
    "start_time": "2023-01-14T12:39:31.137Z"
   },
   {
    "duration": 0,
    "start_time": "2023-01-14T12:39:31.138Z"
   },
   {
    "duration": 0,
    "start_time": "2023-01-14T12:39:31.140Z"
   },
   {
    "duration": 0,
    "start_time": "2023-01-14T12:39:31.141Z"
   },
   {
    "duration": 0,
    "start_time": "2023-01-14T12:39:31.141Z"
   },
   {
    "duration": 0,
    "start_time": "2023-01-14T12:39:31.142Z"
   },
   {
    "duration": 0,
    "start_time": "2023-01-14T12:39:31.143Z"
   },
   {
    "duration": 0,
    "start_time": "2023-01-14T12:39:31.145Z"
   },
   {
    "duration": 0,
    "start_time": "2023-01-14T12:39:31.146Z"
   },
   {
    "duration": 0,
    "start_time": "2023-01-14T12:39:31.147Z"
   },
   {
    "duration": 0,
    "start_time": "2023-01-14T12:39:31.148Z"
   },
   {
    "duration": 0,
    "start_time": "2023-01-14T12:39:31.149Z"
   },
   {
    "duration": 0,
    "start_time": "2023-01-14T12:39:31.150Z"
   },
   {
    "duration": 0,
    "start_time": "2023-01-14T12:39:31.213Z"
   },
   {
    "duration": 0,
    "start_time": "2023-01-14T12:39:31.214Z"
   },
   {
    "duration": 0,
    "start_time": "2023-01-14T12:39:31.215Z"
   },
   {
    "duration": 1355,
    "start_time": "2023-01-14T12:39:52.679Z"
   },
   {
    "duration": 229,
    "start_time": "2023-01-14T12:39:54.035Z"
   },
   {
    "duration": 13,
    "start_time": "2023-01-14T12:39:54.265Z"
   },
   {
    "duration": 12,
    "start_time": "2023-01-14T12:39:54.280Z"
   },
   {
    "duration": 10,
    "start_time": "2023-01-14T12:39:54.293Z"
   },
   {
    "duration": 9,
    "start_time": "2023-01-14T12:39:54.305Z"
   },
   {
    "duration": 9,
    "start_time": "2023-01-14T12:39:54.316Z"
   },
   {
    "duration": 14,
    "start_time": "2023-01-14T12:39:54.327Z"
   },
   {
    "duration": 7,
    "start_time": "2023-01-14T12:39:54.342Z"
   },
   {
    "duration": 17,
    "start_time": "2023-01-14T12:39:54.352Z"
   },
   {
    "duration": 5,
    "start_time": "2023-01-14T12:39:54.370Z"
   },
   {
    "duration": 10,
    "start_time": "2023-01-14T12:39:54.377Z"
   },
   {
    "duration": 8,
    "start_time": "2023-01-14T12:39:54.388Z"
   },
   {
    "duration": 37,
    "start_time": "2023-01-14T12:39:54.398Z"
   },
   {
    "duration": 11,
    "start_time": "2023-01-14T12:39:54.437Z"
   },
   {
    "duration": 15,
    "start_time": "2023-01-14T12:39:54.449Z"
   },
   {
    "duration": 17,
    "start_time": "2023-01-14T12:39:54.466Z"
   },
   {
    "duration": 9,
    "start_time": "2023-01-14T12:39:54.484Z"
   },
   {
    "duration": 12,
    "start_time": "2023-01-14T12:39:54.494Z"
   },
   {
    "duration": 31,
    "start_time": "2023-01-14T12:39:54.507Z"
   },
   {
    "duration": 19,
    "start_time": "2023-01-14T12:39:54.540Z"
   },
   {
    "duration": 12,
    "start_time": "2023-01-14T12:39:54.561Z"
   },
   {
    "duration": 18,
    "start_time": "2023-01-14T12:39:54.574Z"
   },
   {
    "duration": 16,
    "start_time": "2023-01-14T12:39:54.594Z"
   },
   {
    "duration": 374,
    "start_time": "2023-01-14T12:39:54.611Z"
   },
   {
    "duration": 7,
    "start_time": "2023-01-14T12:39:54.987Z"
   },
   {
    "duration": 9,
    "start_time": "2023-01-14T12:39:54.996Z"
   },
   {
    "duration": 11,
    "start_time": "2023-01-14T12:39:55.009Z"
   },
   {
    "duration": 4,
    "start_time": "2023-01-14T12:39:55.021Z"
   },
   {
    "duration": 508,
    "start_time": "2023-01-14T12:39:55.027Z"
   },
   {
    "duration": 6,
    "start_time": "2023-01-14T12:39:55.537Z"
   },
   {
    "duration": 16,
    "start_time": "2023-01-14T12:39:55.545Z"
   },
   {
    "duration": 346,
    "start_time": "2023-01-14T12:39:55.563Z"
   },
   {
    "duration": 269,
    "start_time": "2023-01-14T12:39:55.911Z"
   },
   {
    "duration": 5,
    "start_time": "2023-01-14T12:39:56.182Z"
   },
   {
    "duration": 461,
    "start_time": "2023-01-14T12:39:56.189Z"
   },
   {
    "duration": 4,
    "start_time": "2023-01-14T12:39:56.651Z"
   },
   {
    "duration": 16,
    "start_time": "2023-01-14T12:39:56.656Z"
   },
   {
    "duration": 14,
    "start_time": "2023-01-14T12:39:56.674Z"
   },
   {
    "duration": 313,
    "start_time": "2023-01-14T12:39:56.689Z"
   },
   {
    "duration": 11,
    "start_time": "2023-01-14T12:39:57.004Z"
   },
   {
    "duration": 422,
    "start_time": "2023-01-14T12:39:57.016Z"
   },
   {
    "duration": 11,
    "start_time": "2023-01-14T12:39:57.439Z"
   },
   {
    "duration": 228,
    "start_time": "2023-01-14T12:39:57.451Z"
   },
   {
    "duration": 5,
    "start_time": "2023-01-14T12:39:57.681Z"
   },
   {
    "duration": 179,
    "start_time": "2023-01-14T12:39:57.687Z"
   },
   {
    "duration": 8,
    "start_time": "2023-01-14T12:39:57.868Z"
   },
   {
    "duration": 6,
    "start_time": "2023-01-14T12:39:57.878Z"
   },
   {
    "duration": 29,
    "start_time": "2023-01-14T12:39:57.885Z"
   },
   {
    "duration": 97,
    "start_time": "2023-01-14T12:39:57.916Z"
   },
   {
    "duration": 14,
    "start_time": "2023-01-14T12:39:58.015Z"
   },
   {
    "duration": 49,
    "start_time": "2023-01-14T12:39:58.031Z"
   },
   {
    "duration": 42,
    "start_time": "2023-01-14T12:39:58.081Z"
   },
   {
    "duration": 46,
    "start_time": "2023-01-14T12:39:58.125Z"
   },
   {
    "duration": 29,
    "start_time": "2023-01-14T12:39:58.173Z"
   },
   {
    "duration": 85,
    "start_time": "2023-01-14T12:39:58.212Z"
   },
   {
    "duration": 94,
    "start_time": "2023-01-14T12:39:58.298Z"
   },
   {
    "duration": 23,
    "start_time": "2023-01-14T12:39:58.393Z"
   },
   {
    "duration": 6,
    "start_time": "2023-01-14T12:39:58.417Z"
   },
   {
    "duration": 152,
    "start_time": "2023-01-14T12:39:58.424Z"
   },
   {
    "duration": 6,
    "start_time": "2023-01-14T12:39:58.578Z"
   },
   {
    "duration": 11,
    "start_time": "2023-01-14T12:39:58.585Z"
   },
   {
    "duration": 35,
    "start_time": "2023-01-14T12:39:58.598Z"
   },
   {
    "duration": 10,
    "start_time": "2023-01-14T12:39:58.635Z"
   },
   {
    "duration": 8,
    "start_time": "2023-01-14T12:39:58.646Z"
   },
   {
    "duration": 8,
    "start_time": "2023-01-14T12:39:58.656Z"
   },
   {
    "duration": 24,
    "start_time": "2023-01-14T12:39:58.666Z"
   },
   {
    "duration": 14,
    "start_time": "2023-01-14T12:39:58.713Z"
   },
   {
    "duration": 10,
    "start_time": "2023-01-14T12:44:00.013Z"
   },
   {
    "duration": 9,
    "start_time": "2023-01-14T12:44:04.096Z"
   },
   {
    "duration": 1138,
    "start_time": "2023-01-14T12:44:10.781Z"
   },
   {
    "duration": 77,
    "start_time": "2023-01-14T12:44:11.921Z"
   },
   {
    "duration": 10,
    "start_time": "2023-01-14T12:44:12.000Z"
   },
   {
    "duration": 10,
    "start_time": "2023-01-14T12:44:12.012Z"
   },
   {
    "duration": 11,
    "start_time": "2023-01-14T12:44:12.024Z"
   },
   {
    "duration": 9,
    "start_time": "2023-01-14T12:44:12.037Z"
   },
   {
    "duration": 10,
    "start_time": "2023-01-14T12:44:12.047Z"
   },
   {
    "duration": 11,
    "start_time": "2023-01-14T12:44:12.059Z"
   },
   {
    "duration": 8,
    "start_time": "2023-01-14T12:44:12.071Z"
   },
   {
    "duration": 31,
    "start_time": "2023-01-14T12:44:12.082Z"
   },
   {
    "duration": 5,
    "start_time": "2023-01-14T12:44:12.115Z"
   },
   {
    "duration": 9,
    "start_time": "2023-01-14T12:44:12.122Z"
   },
   {
    "duration": 10,
    "start_time": "2023-01-14T12:44:12.133Z"
   },
   {
    "duration": 5,
    "start_time": "2023-01-14T12:44:12.145Z"
   },
   {
    "duration": 5,
    "start_time": "2023-01-14T12:44:12.152Z"
   },
   {
    "duration": 9,
    "start_time": "2023-01-14T12:44:12.159Z"
   },
   {
    "duration": 7,
    "start_time": "2023-01-14T12:44:12.170Z"
   },
   {
    "duration": 5,
    "start_time": "2023-01-14T12:44:12.179Z"
   },
   {
    "duration": 6,
    "start_time": "2023-01-14T12:44:12.185Z"
   },
   {
    "duration": 7,
    "start_time": "2023-01-14T12:44:12.213Z"
   },
   {
    "duration": 6,
    "start_time": "2023-01-14T12:44:12.222Z"
   },
   {
    "duration": 10,
    "start_time": "2023-01-14T12:44:12.230Z"
   },
   {
    "duration": 7,
    "start_time": "2023-01-14T12:44:12.241Z"
   },
   {
    "duration": 12,
    "start_time": "2023-01-14T12:44:12.249Z"
   },
   {
    "duration": 379,
    "start_time": "2023-01-14T12:44:12.262Z"
   },
   {
    "duration": 9,
    "start_time": "2023-01-14T12:44:12.643Z"
   },
   {
    "duration": 9,
    "start_time": "2023-01-14T12:44:12.654Z"
   },
   {
    "duration": 16,
    "start_time": "2023-01-14T12:44:12.666Z"
   },
   {
    "duration": 5,
    "start_time": "2023-01-14T12:44:12.683Z"
   },
   {
    "duration": 520,
    "start_time": "2023-01-14T12:44:12.689Z"
   },
   {
    "duration": 5,
    "start_time": "2023-01-14T12:44:13.213Z"
   },
   {
    "duration": 6,
    "start_time": "2023-01-14T12:44:13.219Z"
   },
   {
    "duration": 350,
    "start_time": "2023-01-14T12:44:13.226Z"
   },
   {
    "duration": 275,
    "start_time": "2023-01-14T12:44:13.578Z"
   },
   {
    "duration": 6,
    "start_time": "2023-01-14T12:44:13.855Z"
   },
   {
    "duration": 364,
    "start_time": "2023-01-14T12:44:13.862Z"
   },
   {
    "duration": 4,
    "start_time": "2023-01-14T12:44:14.228Z"
   },
   {
    "duration": 7,
    "start_time": "2023-01-14T12:44:14.233Z"
   },
   {
    "duration": 10,
    "start_time": "2023-01-14T12:44:14.241Z"
   },
   {
    "duration": 295,
    "start_time": "2023-01-14T12:44:14.253Z"
   },
   {
    "duration": 7,
    "start_time": "2023-01-14T12:44:14.550Z"
   },
   {
    "duration": 422,
    "start_time": "2023-01-14T12:44:14.559Z"
   },
   {
    "duration": 10,
    "start_time": "2023-01-14T12:44:14.982Z"
   },
   {
    "duration": 237,
    "start_time": "2023-01-14T12:44:14.994Z"
   },
   {
    "duration": 6,
    "start_time": "2023-01-14T12:44:15.232Z"
   },
   {
    "duration": 189,
    "start_time": "2023-01-14T12:44:15.239Z"
   },
   {
    "duration": 7,
    "start_time": "2023-01-14T12:44:15.429Z"
   },
   {
    "duration": 5,
    "start_time": "2023-01-14T12:44:15.438Z"
   },
   {
    "duration": 8,
    "start_time": "2023-01-14T12:44:15.445Z"
   },
   {
    "duration": 106,
    "start_time": "2023-01-14T12:44:15.455Z"
   },
   {
    "duration": 18,
    "start_time": "2023-01-14T12:44:15.563Z"
   },
   {
    "duration": 55,
    "start_time": "2023-01-14T12:44:15.583Z"
   },
   {
    "duration": 14,
    "start_time": "2023-01-14T12:44:15.640Z"
   },
   {
    "duration": 61,
    "start_time": "2023-01-14T12:44:15.656Z"
   },
   {
    "duration": 25,
    "start_time": "2023-01-14T12:44:15.719Z"
   },
   {
    "duration": 84,
    "start_time": "2023-01-14T12:44:15.746Z"
   },
   {
    "duration": 70,
    "start_time": "2023-01-14T12:44:15.831Z"
   },
   {
    "duration": 15,
    "start_time": "2023-01-14T12:44:15.903Z"
   },
   {
    "duration": 9,
    "start_time": "2023-01-14T12:44:15.919Z"
   },
   {
    "duration": 144,
    "start_time": "2023-01-14T12:44:15.930Z"
   },
   {
    "duration": 6,
    "start_time": "2023-01-14T12:44:16.076Z"
   },
   {
    "duration": 18,
    "start_time": "2023-01-14T12:44:16.083Z"
   },
   {
    "duration": 32,
    "start_time": "2023-01-14T12:44:16.103Z"
   },
   {
    "duration": 9,
    "start_time": "2023-01-14T12:44:16.137Z"
   },
   {
    "duration": 8,
    "start_time": "2023-01-14T12:44:16.148Z"
   },
   {
    "duration": 9,
    "start_time": "2023-01-14T12:44:16.157Z"
   },
   {
    "duration": 23,
    "start_time": "2023-01-14T12:44:16.168Z"
   },
   {
    "duration": 14,
    "start_time": "2023-01-14T12:44:16.213Z"
   },
   {
    "duration": 9,
    "start_time": "2023-01-14T12:44:38.371Z"
   },
   {
    "duration": 286,
    "start_time": "2023-01-14T12:47:22.000Z"
   },
   {
    "duration": 1158,
    "start_time": "2023-01-14T12:53:23.539Z"
   },
   {
    "duration": 78,
    "start_time": "2023-01-14T12:53:24.699Z"
   },
   {
    "duration": 12,
    "start_time": "2023-01-14T12:53:24.779Z"
   },
   {
    "duration": 11,
    "start_time": "2023-01-14T12:53:24.794Z"
   },
   {
    "duration": 14,
    "start_time": "2023-01-14T12:53:24.807Z"
   },
   {
    "duration": 17,
    "start_time": "2023-01-14T12:53:24.823Z"
   },
   {
    "duration": 24,
    "start_time": "2023-01-14T12:53:24.841Z"
   },
   {
    "duration": 24,
    "start_time": "2023-01-14T12:53:24.866Z"
   },
   {
    "duration": 13,
    "start_time": "2023-01-14T12:53:24.892Z"
   },
   {
    "duration": 14,
    "start_time": "2023-01-14T12:53:24.908Z"
   },
   {
    "duration": 11,
    "start_time": "2023-01-14T12:53:24.924Z"
   },
   {
    "duration": 13,
    "start_time": "2023-01-14T12:53:24.937Z"
   },
   {
    "duration": 7,
    "start_time": "2023-01-14T12:53:24.952Z"
   },
   {
    "duration": 10,
    "start_time": "2023-01-14T12:53:24.961Z"
   },
   {
    "duration": 7,
    "start_time": "2023-01-14T12:53:24.972Z"
   },
   {
    "duration": 11,
    "start_time": "2023-01-14T12:53:24.980Z"
   },
   {
    "duration": 14,
    "start_time": "2023-01-14T12:53:24.993Z"
   },
   {
    "duration": 7,
    "start_time": "2023-01-14T12:53:25.009Z"
   },
   {
    "duration": 14,
    "start_time": "2023-01-14T12:53:25.017Z"
   },
   {
    "duration": 11,
    "start_time": "2023-01-14T12:53:25.033Z"
   },
   {
    "duration": 12,
    "start_time": "2023-01-14T12:53:25.046Z"
   },
   {
    "duration": 16,
    "start_time": "2023-01-14T12:53:25.060Z"
   },
   {
    "duration": 10,
    "start_time": "2023-01-14T12:53:25.078Z"
   },
   {
    "duration": 13,
    "start_time": "2023-01-14T12:53:25.089Z"
   },
   {
    "duration": 393,
    "start_time": "2023-01-14T12:53:25.104Z"
   },
   {
    "duration": 9,
    "start_time": "2023-01-14T12:53:25.499Z"
   },
   {
    "duration": 20,
    "start_time": "2023-01-14T12:53:25.510Z"
   },
   {
    "duration": 13,
    "start_time": "2023-01-14T12:53:25.534Z"
   },
   {
    "duration": 4,
    "start_time": "2023-01-14T12:53:25.549Z"
   },
   {
    "duration": 515,
    "start_time": "2023-01-14T12:53:25.555Z"
   },
   {
    "duration": 5,
    "start_time": "2023-01-14T12:53:26.071Z"
   },
   {
    "duration": 17,
    "start_time": "2023-01-14T12:53:26.077Z"
   },
   {
    "duration": 363,
    "start_time": "2023-01-14T12:53:26.095Z"
   },
   {
    "duration": 292,
    "start_time": "2023-01-14T12:53:26.459Z"
   },
   {
    "duration": 5,
    "start_time": "2023-01-14T12:53:26.753Z"
   },
   {
    "duration": 397,
    "start_time": "2023-01-14T12:53:26.760Z"
   },
   {
    "duration": 4,
    "start_time": "2023-01-14T12:53:27.159Z"
   },
   {
    "duration": 10,
    "start_time": "2023-01-14T12:53:27.164Z"
   },
   {
    "duration": 9,
    "start_time": "2023-01-14T12:53:27.175Z"
   },
   {
    "duration": 312,
    "start_time": "2023-01-14T12:53:27.186Z"
   },
   {
    "duration": 18,
    "start_time": "2023-01-14T12:53:27.500Z"
   },
   {
    "duration": 412,
    "start_time": "2023-01-14T12:53:27.520Z"
   },
   {
    "duration": 10,
    "start_time": "2023-01-14T12:53:27.934Z"
   },
   {
    "duration": 248,
    "start_time": "2023-01-14T12:53:27.945Z"
   },
   {
    "duration": 18,
    "start_time": "2023-01-14T12:53:28.195Z"
   },
   {
    "duration": 190,
    "start_time": "2023-01-14T12:53:28.216Z"
   },
   {
    "duration": 8,
    "start_time": "2023-01-14T12:53:28.412Z"
   },
   {
    "duration": 8,
    "start_time": "2023-01-14T12:53:28.422Z"
   },
   {
    "duration": 8,
    "start_time": "2023-01-14T12:53:28.432Z"
   },
   {
    "duration": 105,
    "start_time": "2023-01-14T12:53:28.442Z"
   },
   {
    "duration": 41,
    "start_time": "2023-01-14T12:53:28.549Z"
   },
   {
    "duration": 44,
    "start_time": "2023-01-14T12:53:28.593Z"
   },
   {
    "duration": 21,
    "start_time": "2023-01-14T12:53:28.639Z"
   },
   {
    "duration": 51,
    "start_time": "2023-01-14T12:53:28.662Z"
   },
   {
    "duration": 26,
    "start_time": "2023-01-14T12:53:28.715Z"
   },
   {
    "duration": 82,
    "start_time": "2023-01-14T12:53:28.743Z"
   },
   {
    "duration": 94,
    "start_time": "2023-01-14T12:53:28.827Z"
   },
   {
    "duration": 9,
    "start_time": "2023-01-14T12:53:28.924Z"
   },
   {
    "duration": 9,
    "start_time": "2023-01-14T12:53:28.936Z"
   },
   {
    "duration": 167,
    "start_time": "2023-01-14T12:53:28.947Z"
   },
   {
    "duration": 7,
    "start_time": "2023-01-14T12:53:29.115Z"
   },
   {
    "duration": 13,
    "start_time": "2023-01-14T12:53:29.124Z"
   },
   {
    "duration": 29,
    "start_time": "2023-01-14T12:53:29.138Z"
   },
   {
    "duration": 11,
    "start_time": "2023-01-14T12:53:29.169Z"
   },
   {
    "duration": 34,
    "start_time": "2023-01-14T12:53:29.181Z"
   },
   {
    "duration": 11,
    "start_time": "2023-01-14T12:53:29.216Z"
   },
   {
    "duration": 28,
    "start_time": "2023-01-14T12:53:29.229Z"
   },
   {
    "duration": 13,
    "start_time": "2023-01-14T12:53:29.259Z"
   },
   {
    "duration": 307,
    "start_time": "2023-01-14T12:54:22.196Z"
   },
   {
    "duration": 388,
    "start_time": "2023-01-14T12:55:25.628Z"
   },
   {
    "duration": 295,
    "start_time": "2023-01-14T12:56:37.580Z"
   },
   {
    "duration": 4,
    "start_time": "2023-01-14T12:57:48.855Z"
   },
   {
    "duration": 4,
    "start_time": "2023-01-14T12:57:49.465Z"
   },
   {
    "duration": 4,
    "start_time": "2023-01-14T12:57:50.056Z"
   },
   {
    "duration": 290,
    "start_time": "2023-01-14T12:57:51.120Z"
   },
   {
    "duration": 378,
    "start_time": "2023-01-14T12:59:07.370Z"
   },
   {
    "duration": 421,
    "start_time": "2023-01-14T12:59:32.225Z"
   },
   {
    "duration": 413,
    "start_time": "2023-01-14T12:59:42.075Z"
   },
   {
    "duration": 408,
    "start_time": "2023-01-14T13:00:37.262Z"
   },
   {
    "duration": 166,
    "start_time": "2023-01-14T13:03:38.127Z"
   },
   {
    "duration": 165,
    "start_time": "2023-01-14T13:04:19.390Z"
   },
   {
    "duration": 246,
    "start_time": "2023-01-14T13:10:08.431Z"
   },
   {
    "duration": 162,
    "start_time": "2023-01-14T13:10:33.675Z"
   },
   {
    "duration": 189,
    "start_time": "2023-01-14T13:10:52.897Z"
   },
   {
    "duration": 165,
    "start_time": "2023-01-14T13:11:29.959Z"
   },
   {
    "duration": 1196,
    "start_time": "2023-01-14T13:11:39.524Z"
   },
   {
    "duration": 77,
    "start_time": "2023-01-14T13:11:40.722Z"
   },
   {
    "duration": 12,
    "start_time": "2023-01-14T13:11:40.801Z"
   },
   {
    "duration": 20,
    "start_time": "2023-01-14T13:11:40.817Z"
   },
   {
    "duration": 35,
    "start_time": "2023-01-14T13:11:40.839Z"
   },
   {
    "duration": 31,
    "start_time": "2023-01-14T13:11:40.875Z"
   },
   {
    "duration": 26,
    "start_time": "2023-01-14T13:11:40.908Z"
   },
   {
    "duration": 32,
    "start_time": "2023-01-14T13:11:40.937Z"
   },
   {
    "duration": 25,
    "start_time": "2023-01-14T13:11:40.972Z"
   },
   {
    "duration": 28,
    "start_time": "2023-01-14T13:11:41.001Z"
   },
   {
    "duration": 20,
    "start_time": "2023-01-14T13:11:41.031Z"
   },
   {
    "duration": 19,
    "start_time": "2023-01-14T13:11:41.053Z"
   },
   {
    "duration": 10,
    "start_time": "2023-01-14T13:11:41.074Z"
   },
   {
    "duration": 10,
    "start_time": "2023-01-14T13:11:41.086Z"
   },
   {
    "duration": 23,
    "start_time": "2023-01-14T13:11:41.098Z"
   },
   {
    "duration": 43,
    "start_time": "2023-01-14T13:11:41.123Z"
   },
   {
    "duration": 25,
    "start_time": "2023-01-14T13:11:41.169Z"
   },
   {
    "duration": 18,
    "start_time": "2023-01-14T13:11:41.196Z"
   },
   {
    "duration": 25,
    "start_time": "2023-01-14T13:11:41.216Z"
   },
   {
    "duration": 37,
    "start_time": "2023-01-14T13:11:41.243Z"
   },
   {
    "duration": 26,
    "start_time": "2023-01-14T13:11:41.282Z"
   },
   {
    "duration": 28,
    "start_time": "2023-01-14T13:11:41.310Z"
   },
   {
    "duration": 35,
    "start_time": "2023-01-14T13:11:41.340Z"
   },
   {
    "duration": 44,
    "start_time": "2023-01-14T13:11:41.377Z"
   },
   {
    "duration": 382,
    "start_time": "2023-01-14T13:11:41.423Z"
   },
   {
    "duration": 8,
    "start_time": "2023-01-14T13:11:41.807Z"
   },
   {
    "duration": 17,
    "start_time": "2023-01-14T13:11:41.817Z"
   },
   {
    "duration": 22,
    "start_time": "2023-01-14T13:11:41.837Z"
   },
   {
    "duration": 20,
    "start_time": "2023-01-14T13:11:41.861Z"
   },
   {
    "duration": 508,
    "start_time": "2023-01-14T13:11:41.884Z"
   },
   {
    "duration": 5,
    "start_time": "2023-01-14T13:11:42.394Z"
   },
   {
    "duration": 27,
    "start_time": "2023-01-14T13:11:42.400Z"
   },
   {
    "duration": 355,
    "start_time": "2023-01-14T13:11:42.429Z"
   },
   {
    "duration": 297,
    "start_time": "2023-01-14T13:11:42.786Z"
   },
   {
    "duration": 6,
    "start_time": "2023-01-14T13:11:43.085Z"
   },
   {
    "duration": 419,
    "start_time": "2023-01-14T13:11:43.093Z"
   },
   {
    "duration": 4,
    "start_time": "2023-01-14T13:11:43.514Z"
   },
   {
    "duration": 14,
    "start_time": "2023-01-14T13:11:43.519Z"
   },
   {
    "duration": 18,
    "start_time": "2023-01-14T13:11:43.535Z"
   },
   {
    "duration": 287,
    "start_time": "2023-01-14T13:11:43.555Z"
   },
   {
    "duration": 7,
    "start_time": "2023-01-14T13:11:43.843Z"
   },
   {
    "duration": 432,
    "start_time": "2023-01-14T13:11:43.851Z"
   },
   {
    "duration": 10,
    "start_time": "2023-01-14T13:11:44.285Z"
   },
   {
    "duration": 263,
    "start_time": "2023-01-14T13:11:44.296Z"
   },
   {
    "duration": 9,
    "start_time": "2023-01-14T13:11:44.562Z"
   },
   {
    "duration": 208,
    "start_time": "2023-01-14T13:11:44.572Z"
   },
   {
    "duration": 195,
    "start_time": "2023-01-14T13:11:44.781Z"
   },
   {
    "duration": 9,
    "start_time": "2023-01-14T13:11:44.978Z"
   },
   {
    "duration": 14,
    "start_time": "2023-01-14T13:11:44.989Z"
   },
   {
    "duration": 24,
    "start_time": "2023-01-14T13:11:45.014Z"
   },
   {
    "duration": 96,
    "start_time": "2023-01-14T13:11:45.040Z"
   },
   {
    "duration": 26,
    "start_time": "2023-01-14T13:11:45.138Z"
   },
   {
    "duration": 47,
    "start_time": "2023-01-14T13:11:45.166Z"
   },
   {
    "duration": 20,
    "start_time": "2023-01-14T13:11:45.214Z"
   },
   {
    "duration": 45,
    "start_time": "2023-01-14T13:11:45.236Z"
   },
   {
    "duration": 40,
    "start_time": "2023-01-14T13:11:45.283Z"
   },
   {
    "duration": 67,
    "start_time": "2023-01-14T13:11:45.324Z"
   },
   {
    "duration": 108,
    "start_time": "2023-01-14T13:11:45.393Z"
   },
   {
    "duration": 20,
    "start_time": "2023-01-14T13:11:45.502Z"
   },
   {
    "duration": 13,
    "start_time": "2023-01-14T13:11:45.524Z"
   },
   {
    "duration": 195,
    "start_time": "2023-01-14T13:11:45.540Z"
   },
   {
    "duration": 7,
    "start_time": "2023-01-14T13:11:45.737Z"
   },
   {
    "duration": 25,
    "start_time": "2023-01-14T13:11:45.745Z"
   },
   {
    "duration": 32,
    "start_time": "2023-01-14T13:11:45.772Z"
   },
   {
    "duration": 16,
    "start_time": "2023-01-14T13:11:45.806Z"
   },
   {
    "duration": 16,
    "start_time": "2023-01-14T13:11:45.823Z"
   },
   {
    "duration": 24,
    "start_time": "2023-01-14T13:11:45.841Z"
   },
   {
    "duration": 34,
    "start_time": "2023-01-14T13:11:45.867Z"
   },
   {
    "duration": 17,
    "start_time": "2023-01-14T13:11:45.902Z"
   },
   {
    "duration": 164,
    "start_time": "2023-01-14T13:12:04.714Z"
   },
   {
    "duration": 182,
    "start_time": "2023-01-14T13:12:48.522Z"
   },
   {
    "duration": 166,
    "start_time": "2023-01-14T13:13:22.973Z"
   },
   {
    "duration": 160,
    "start_time": "2023-01-14T13:14:15.467Z"
   },
   {
    "duration": 258,
    "start_time": "2023-01-14T13:17:43.283Z"
   },
   {
    "duration": 168,
    "start_time": "2023-01-14T13:18:38.113Z"
   },
   {
    "duration": 166,
    "start_time": "2023-01-14T13:19:09.976Z"
   },
   {
    "duration": 149,
    "start_time": "2023-01-14T13:19:11.621Z"
   },
   {
    "duration": 1134,
    "start_time": "2023-01-14T13:19:21.626Z"
   },
   {
    "duration": 77,
    "start_time": "2023-01-14T13:19:22.762Z"
   },
   {
    "duration": 10,
    "start_time": "2023-01-14T13:19:22.841Z"
   },
   {
    "duration": 12,
    "start_time": "2023-01-14T13:19:22.853Z"
   },
   {
    "duration": 12,
    "start_time": "2023-01-14T13:19:22.866Z"
   },
   {
    "duration": 12,
    "start_time": "2023-01-14T13:19:22.879Z"
   },
   {
    "duration": 9,
    "start_time": "2023-01-14T13:19:22.892Z"
   },
   {
    "duration": 12,
    "start_time": "2023-01-14T13:19:22.903Z"
   },
   {
    "duration": 7,
    "start_time": "2023-01-14T13:19:22.917Z"
   },
   {
    "duration": 9,
    "start_time": "2023-01-14T13:19:22.927Z"
   },
   {
    "duration": 12,
    "start_time": "2023-01-14T13:19:22.937Z"
   },
   {
    "duration": 11,
    "start_time": "2023-01-14T13:19:22.950Z"
   },
   {
    "duration": 12,
    "start_time": "2023-01-14T13:19:22.962Z"
   },
   {
    "duration": 6,
    "start_time": "2023-01-14T13:19:22.975Z"
   },
   {
    "duration": 5,
    "start_time": "2023-01-14T13:19:22.982Z"
   },
   {
    "duration": 24,
    "start_time": "2023-01-14T13:19:22.989Z"
   },
   {
    "duration": 6,
    "start_time": "2023-01-14T13:19:23.014Z"
   },
   {
    "duration": 13,
    "start_time": "2023-01-14T13:19:23.021Z"
   },
   {
    "duration": 9,
    "start_time": "2023-01-14T13:19:23.035Z"
   },
   {
    "duration": 15,
    "start_time": "2023-01-14T13:19:23.045Z"
   },
   {
    "duration": 9,
    "start_time": "2023-01-14T13:19:23.061Z"
   },
   {
    "duration": 15,
    "start_time": "2023-01-14T13:19:23.072Z"
   },
   {
    "duration": 7,
    "start_time": "2023-01-14T13:19:23.089Z"
   },
   {
    "duration": 16,
    "start_time": "2023-01-14T13:19:23.097Z"
   },
   {
    "duration": 366,
    "start_time": "2023-01-14T13:19:23.115Z"
   },
   {
    "duration": 8,
    "start_time": "2023-01-14T13:19:23.483Z"
   },
   {
    "duration": 12,
    "start_time": "2023-01-14T13:19:23.493Z"
   },
   {
    "duration": 21,
    "start_time": "2023-01-14T13:19:23.509Z"
   },
   {
    "duration": 6,
    "start_time": "2023-01-14T13:19:23.532Z"
   },
   {
    "duration": 505,
    "start_time": "2023-01-14T13:19:23.539Z"
   },
   {
    "duration": 4,
    "start_time": "2023-01-14T13:19:24.046Z"
   },
   {
    "duration": 9,
    "start_time": "2023-01-14T13:19:24.051Z"
   },
   {
    "duration": 349,
    "start_time": "2023-01-14T13:19:24.062Z"
   },
   {
    "duration": 295,
    "start_time": "2023-01-14T13:19:24.413Z"
   },
   {
    "duration": 6,
    "start_time": "2023-01-14T13:19:24.709Z"
   },
   {
    "duration": 387,
    "start_time": "2023-01-14T13:19:24.717Z"
   },
   {
    "duration": 8,
    "start_time": "2023-01-14T13:19:25.106Z"
   },
   {
    "duration": 19,
    "start_time": "2023-01-14T13:19:25.115Z"
   },
   {
    "duration": 11,
    "start_time": "2023-01-14T13:19:25.136Z"
   },
   {
    "duration": 288,
    "start_time": "2023-01-14T13:19:25.149Z"
   },
   {
    "duration": 8,
    "start_time": "2023-01-14T13:19:25.438Z"
   },
   {
    "duration": 408,
    "start_time": "2023-01-14T13:19:25.448Z"
   },
   {
    "duration": 11,
    "start_time": "2023-01-14T13:19:25.858Z"
   },
   {
    "duration": 258,
    "start_time": "2023-01-14T13:19:25.871Z"
   },
   {
    "duration": 6,
    "start_time": "2023-01-14T13:19:26.131Z"
   },
   {
    "duration": 183,
    "start_time": "2023-01-14T13:19:26.139Z"
   },
   {
    "duration": 108,
    "start_time": "2023-01-14T13:19:26.324Z"
   },
   {
    "duration": 0,
    "start_time": "2023-01-14T13:19:26.434Z"
   },
   {
    "duration": 0,
    "start_time": "2023-01-14T13:19:26.435Z"
   },
   {
    "duration": 0,
    "start_time": "2023-01-14T13:19:26.437Z"
   },
   {
    "duration": 0,
    "start_time": "2023-01-14T13:19:26.438Z"
   },
   {
    "duration": 0,
    "start_time": "2023-01-14T13:19:26.440Z"
   },
   {
    "duration": 0,
    "start_time": "2023-01-14T13:19:26.441Z"
   },
   {
    "duration": 0,
    "start_time": "2023-01-14T13:19:26.443Z"
   },
   {
    "duration": 0,
    "start_time": "2023-01-14T13:19:26.444Z"
   },
   {
    "duration": 0,
    "start_time": "2023-01-14T13:19:26.446Z"
   },
   {
    "duration": 1,
    "start_time": "2023-01-14T13:19:26.447Z"
   },
   {
    "duration": 0,
    "start_time": "2023-01-14T13:19:26.449Z"
   },
   {
    "duration": 0,
    "start_time": "2023-01-14T13:19:26.450Z"
   },
   {
    "duration": 0,
    "start_time": "2023-01-14T13:19:26.451Z"
   },
   {
    "duration": 0,
    "start_time": "2023-01-14T13:19:26.453Z"
   },
   {
    "duration": 1,
    "start_time": "2023-01-14T13:19:26.454Z"
   },
   {
    "duration": 0,
    "start_time": "2023-01-14T13:19:26.456Z"
   },
   {
    "duration": 0,
    "start_time": "2023-01-14T13:19:26.457Z"
   },
   {
    "duration": 0,
    "start_time": "2023-01-14T13:19:26.459Z"
   },
   {
    "duration": 0,
    "start_time": "2023-01-14T13:19:26.460Z"
   },
   {
    "duration": 0,
    "start_time": "2023-01-14T13:19:26.462Z"
   },
   {
    "duration": 0,
    "start_time": "2023-01-14T13:19:26.463Z"
   },
   {
    "duration": 0,
    "start_time": "2023-01-14T13:19:26.514Z"
   },
   {
    "duration": 12,
    "start_time": "2023-01-14T13:20:32.448Z"
   },
   {
    "duration": 160,
    "start_time": "2023-01-14T13:21:39.727Z"
   },
   {
    "duration": 151,
    "start_time": "2023-01-14T13:22:09.662Z"
   },
   {
    "duration": 153,
    "start_time": "2023-01-14T13:22:42.746Z"
   },
   {
    "duration": 7,
    "start_time": "2023-01-14T13:28:58.444Z"
   },
   {
    "duration": 170,
    "start_time": "2023-01-14T13:29:23.327Z"
   },
   {
    "duration": 157,
    "start_time": "2023-01-14T13:31:38.326Z"
   },
   {
    "duration": 201,
    "start_time": "2023-01-14T13:31:49.354Z"
   },
   {
    "duration": 202,
    "start_time": "2023-01-14T13:33:56.742Z"
   },
   {
    "duration": 202,
    "start_time": "2023-01-14T13:34:18.075Z"
   },
   {
    "duration": 178,
    "start_time": "2023-01-14T13:34:32.138Z"
   },
   {
    "duration": 14,
    "start_time": "2023-01-14T13:35:16.872Z"
   },
   {
    "duration": 186,
    "start_time": "2023-01-14T13:35:21.181Z"
   },
   {
    "duration": 1236,
    "start_time": "2023-01-14T13:40:09.222Z"
   },
   {
    "duration": 81,
    "start_time": "2023-01-14T13:40:10.461Z"
   },
   {
    "duration": 11,
    "start_time": "2023-01-14T13:40:10.544Z"
   },
   {
    "duration": 22,
    "start_time": "2023-01-14T13:40:10.557Z"
   },
   {
    "duration": 13,
    "start_time": "2023-01-14T13:40:10.581Z"
   },
   {
    "duration": 15,
    "start_time": "2023-01-14T13:40:10.596Z"
   },
   {
    "duration": 23,
    "start_time": "2023-01-14T13:40:10.613Z"
   },
   {
    "duration": 37,
    "start_time": "2023-01-14T13:40:10.637Z"
   },
   {
    "duration": 24,
    "start_time": "2023-01-14T13:40:10.676Z"
   },
   {
    "duration": 22,
    "start_time": "2023-01-14T13:40:10.702Z"
   },
   {
    "duration": 20,
    "start_time": "2023-01-14T13:40:10.726Z"
   },
   {
    "duration": 26,
    "start_time": "2023-01-14T13:40:10.748Z"
   },
   {
    "duration": 12,
    "start_time": "2023-01-14T13:40:10.776Z"
   },
   {
    "duration": 14,
    "start_time": "2023-01-14T13:40:10.789Z"
   },
   {
    "duration": 7,
    "start_time": "2023-01-14T13:40:10.805Z"
   },
   {
    "duration": 22,
    "start_time": "2023-01-14T13:40:10.813Z"
   },
   {
    "duration": 21,
    "start_time": "2023-01-14T13:40:10.837Z"
   },
   {
    "duration": 42,
    "start_time": "2023-01-14T13:40:10.859Z"
   },
   {
    "duration": 21,
    "start_time": "2023-01-14T13:40:10.903Z"
   },
   {
    "duration": 25,
    "start_time": "2023-01-14T13:40:10.926Z"
   },
   {
    "duration": 26,
    "start_time": "2023-01-14T13:40:10.953Z"
   },
   {
    "duration": 25,
    "start_time": "2023-01-14T13:40:10.981Z"
   },
   {
    "duration": 39,
    "start_time": "2023-01-14T13:40:11.008Z"
   },
   {
    "duration": 29,
    "start_time": "2023-01-14T13:40:11.049Z"
   },
   {
    "duration": 390,
    "start_time": "2023-01-14T13:40:11.079Z"
   },
   {
    "duration": 8,
    "start_time": "2023-01-14T13:40:11.471Z"
   },
   {
    "duration": 24,
    "start_time": "2023-01-14T13:40:11.481Z"
   },
   {
    "duration": 50,
    "start_time": "2023-01-14T13:40:11.510Z"
   },
   {
    "duration": 26,
    "start_time": "2023-01-14T13:40:11.562Z"
   },
   {
    "duration": 543,
    "start_time": "2023-01-14T13:40:11.589Z"
   },
   {
    "duration": 5,
    "start_time": "2023-01-14T13:40:12.133Z"
   },
   {
    "duration": 13,
    "start_time": "2023-01-14T13:40:12.139Z"
   },
   {
    "duration": 354,
    "start_time": "2023-01-14T13:40:12.154Z"
   },
   {
    "duration": 295,
    "start_time": "2023-01-14T13:40:12.510Z"
   },
   {
    "duration": 8,
    "start_time": "2023-01-14T13:40:12.807Z"
   },
   {
    "duration": 384,
    "start_time": "2023-01-14T13:40:12.817Z"
   },
   {
    "duration": 10,
    "start_time": "2023-01-14T13:40:13.203Z"
   },
   {
    "duration": 5,
    "start_time": "2023-01-14T13:40:13.214Z"
   },
   {
    "duration": 13,
    "start_time": "2023-01-14T13:40:13.221Z"
   },
   {
    "duration": 301,
    "start_time": "2023-01-14T13:40:13.236Z"
   },
   {
    "duration": 9,
    "start_time": "2023-01-14T13:40:13.540Z"
   },
   {
    "duration": 412,
    "start_time": "2023-01-14T13:40:13.551Z"
   },
   {
    "duration": 12,
    "start_time": "2023-01-14T13:40:13.965Z"
   },
   {
    "duration": 259,
    "start_time": "2023-01-14T13:40:13.979Z"
   },
   {
    "duration": 5,
    "start_time": "2023-01-14T13:40:14.240Z"
   },
   {
    "duration": 11,
    "start_time": "2023-01-14T13:40:14.247Z"
   },
   {
    "duration": 200,
    "start_time": "2023-01-14T13:40:14.259Z"
   },
   {
    "duration": 186,
    "start_time": "2023-01-14T13:40:14.461Z"
   },
   {
    "duration": 9,
    "start_time": "2023-01-14T13:40:14.649Z"
   },
   {
    "duration": 26,
    "start_time": "2023-01-14T13:40:14.659Z"
   },
   {
    "duration": 98,
    "start_time": "2023-01-14T13:40:14.687Z"
   },
   {
    "duration": 16,
    "start_time": "2023-01-14T13:40:14.786Z"
   },
   {
    "duration": 47,
    "start_time": "2023-01-14T13:40:14.812Z"
   },
   {
    "duration": 14,
    "start_time": "2023-01-14T13:40:14.861Z"
   },
   {
    "duration": 69,
    "start_time": "2023-01-14T13:40:14.876Z"
   },
   {
    "duration": 24,
    "start_time": "2023-01-14T13:40:14.946Z"
   },
   {
    "duration": 73,
    "start_time": "2023-01-14T13:40:14.972Z"
   },
   {
    "duration": 77,
    "start_time": "2023-01-14T13:40:15.047Z"
   },
   {
    "duration": 8,
    "start_time": "2023-01-14T13:40:15.125Z"
   },
   {
    "duration": 10,
    "start_time": "2023-01-14T13:40:15.134Z"
   },
   {
    "duration": 141,
    "start_time": "2023-01-14T13:40:15.145Z"
   },
   {
    "duration": 6,
    "start_time": "2023-01-14T13:40:15.288Z"
   },
   {
    "duration": 18,
    "start_time": "2023-01-14T13:40:15.296Z"
   },
   {
    "duration": 30,
    "start_time": "2023-01-14T13:40:15.316Z"
   },
   {
    "duration": 10,
    "start_time": "2023-01-14T13:40:15.347Z"
   },
   {
    "duration": 8,
    "start_time": "2023-01-14T13:40:15.358Z"
   },
   {
    "duration": 12,
    "start_time": "2023-01-14T13:40:15.367Z"
   },
   {
    "duration": 40,
    "start_time": "2023-01-14T13:40:15.380Z"
   },
   {
    "duration": 13,
    "start_time": "2023-01-14T13:40:15.422Z"
   },
   {
    "duration": 6,
    "start_time": "2023-01-14T14:18:24.944Z"
   },
   {
    "duration": 6,
    "start_time": "2023-01-14T14:18:26.385Z"
   },
   {
    "duration": 26,
    "start_time": "2023-01-14T14:19:03.200Z"
   },
   {
    "duration": 1179,
    "start_time": "2023-01-14T14:24:11.086Z"
   },
   {
    "duration": 79,
    "start_time": "2023-01-14T14:24:12.267Z"
   },
   {
    "duration": 12,
    "start_time": "2023-01-14T14:24:12.348Z"
   },
   {
    "duration": 12,
    "start_time": "2023-01-14T14:24:12.362Z"
   },
   {
    "duration": 17,
    "start_time": "2023-01-14T14:24:12.376Z"
   },
   {
    "duration": 23,
    "start_time": "2023-01-14T14:24:12.395Z"
   },
   {
    "duration": 14,
    "start_time": "2023-01-14T14:24:12.420Z"
   },
   {
    "duration": 17,
    "start_time": "2023-01-14T14:24:12.436Z"
   },
   {
    "duration": 12,
    "start_time": "2023-01-14T14:24:12.454Z"
   },
   {
    "duration": 7,
    "start_time": "2023-01-14T14:24:12.469Z"
   },
   {
    "duration": 6,
    "start_time": "2023-01-14T14:24:12.477Z"
   },
   {
    "duration": 6,
    "start_time": "2023-01-14T14:24:12.485Z"
   },
   {
    "duration": 24,
    "start_time": "2023-01-14T14:24:12.493Z"
   },
   {
    "duration": 9,
    "start_time": "2023-01-14T14:24:12.519Z"
   },
   {
    "duration": 7,
    "start_time": "2023-01-14T14:24:12.530Z"
   },
   {
    "duration": 13,
    "start_time": "2023-01-14T14:24:12.539Z"
   },
   {
    "duration": 11,
    "start_time": "2023-01-14T14:24:12.553Z"
   },
   {
    "duration": 8,
    "start_time": "2023-01-14T14:24:12.565Z"
   },
   {
    "duration": 7,
    "start_time": "2023-01-14T14:24:12.576Z"
   },
   {
    "duration": 12,
    "start_time": "2023-01-14T14:24:12.585Z"
   },
   {
    "duration": 35,
    "start_time": "2023-01-14T14:24:12.599Z"
   },
   {
    "duration": 11,
    "start_time": "2023-01-14T14:24:12.636Z"
   },
   {
    "duration": 10,
    "start_time": "2023-01-14T14:24:12.649Z"
   },
   {
    "duration": 22,
    "start_time": "2023-01-14T14:24:12.660Z"
   },
   {
    "duration": 385,
    "start_time": "2023-01-14T14:24:12.684Z"
   },
   {
    "duration": 8,
    "start_time": "2023-01-14T14:24:13.071Z"
   },
   {
    "duration": 15,
    "start_time": "2023-01-14T14:24:13.081Z"
   },
   {
    "duration": 12,
    "start_time": "2023-01-14T14:24:13.100Z"
   },
   {
    "duration": 5,
    "start_time": "2023-01-14T14:24:13.114Z"
   },
   {
    "duration": 634,
    "start_time": "2023-01-14T14:24:13.120Z"
   },
   {
    "duration": 5,
    "start_time": "2023-01-14T14:24:13.756Z"
   },
   {
    "duration": 16,
    "start_time": "2023-01-14T14:24:13.763Z"
   },
   {
    "duration": 360,
    "start_time": "2023-01-14T14:24:13.781Z"
   },
   {
    "duration": 288,
    "start_time": "2023-01-14T14:24:14.143Z"
   },
   {
    "duration": 6,
    "start_time": "2023-01-14T14:24:14.433Z"
   },
   {
    "duration": 415,
    "start_time": "2023-01-14T14:24:14.441Z"
   },
   {
    "duration": 6,
    "start_time": "2023-01-14T14:24:14.858Z"
   },
   {
    "duration": 8,
    "start_time": "2023-01-14T14:24:14.866Z"
   },
   {
    "duration": 8,
    "start_time": "2023-01-14T14:24:14.876Z"
   },
   {
    "duration": 322,
    "start_time": "2023-01-14T14:24:14.887Z"
   },
   {
    "duration": 8,
    "start_time": "2023-01-14T14:24:15.212Z"
   },
   {
    "duration": 431,
    "start_time": "2023-01-14T14:24:15.221Z"
   },
   {
    "duration": 13,
    "start_time": "2023-01-14T14:24:15.654Z"
   },
   {
    "duration": 309,
    "start_time": "2023-01-14T14:24:15.669Z"
   },
   {
    "duration": 6,
    "start_time": "2023-01-14T14:24:15.980Z"
   },
   {
    "duration": 25,
    "start_time": "2023-01-14T14:24:15.987Z"
   },
   {
    "duration": 199,
    "start_time": "2023-01-14T14:24:16.014Z"
   },
   {
    "duration": 209,
    "start_time": "2023-01-14T14:24:16.215Z"
   },
   {
    "duration": 7,
    "start_time": "2023-01-14T14:24:16.426Z"
   },
   {
    "duration": 18,
    "start_time": "2023-01-14T14:24:16.435Z"
   },
   {
    "duration": 8,
    "start_time": "2023-01-14T14:24:16.455Z"
   },
   {
    "duration": 118,
    "start_time": "2023-01-14T14:24:16.465Z"
   },
   {
    "duration": 0,
    "start_time": "2023-01-14T14:24:16.585Z"
   },
   {
    "duration": 0,
    "start_time": "2023-01-14T14:24:16.587Z"
   },
   {
    "duration": 0,
    "start_time": "2023-01-14T14:24:16.588Z"
   },
   {
    "duration": 0,
    "start_time": "2023-01-14T14:24:16.589Z"
   },
   {
    "duration": 0,
    "start_time": "2023-01-14T14:24:16.591Z"
   },
   {
    "duration": 0,
    "start_time": "2023-01-14T14:24:16.592Z"
   },
   {
    "duration": 134,
    "start_time": "2023-01-14T14:25:57.054Z"
   },
   {
    "duration": 7,
    "start_time": "2023-01-14T14:25:57.904Z"
   },
   {
    "duration": 28,
    "start_time": "2023-01-14T14:25:59.365Z"
   },
   {
    "duration": 1117,
    "start_time": "2023-01-14T14:27:15.413Z"
   },
   {
    "duration": 1118,
    "start_time": "2023-01-14T14:27:30.508Z"
   },
   {
    "duration": 77,
    "start_time": "2023-01-14T14:27:31.628Z"
   },
   {
    "duration": 12,
    "start_time": "2023-01-14T14:27:31.707Z"
   },
   {
    "duration": 31,
    "start_time": "2023-01-14T14:27:31.720Z"
   },
   {
    "duration": 40,
    "start_time": "2023-01-14T14:27:31.753Z"
   },
   {
    "duration": 26,
    "start_time": "2023-01-14T14:27:31.795Z"
   },
   {
    "duration": 31,
    "start_time": "2023-01-14T14:27:31.822Z"
   },
   {
    "duration": 44,
    "start_time": "2023-01-14T14:27:31.854Z"
   },
   {
    "duration": 23,
    "start_time": "2023-01-14T14:27:31.900Z"
   },
   {
    "duration": 21,
    "start_time": "2023-01-14T14:27:31.926Z"
   },
   {
    "duration": 29,
    "start_time": "2023-01-14T14:27:31.949Z"
   },
   {
    "duration": 28,
    "start_time": "2023-01-14T14:27:31.980Z"
   },
   {
    "duration": 23,
    "start_time": "2023-01-14T14:27:32.009Z"
   },
   {
    "duration": 28,
    "start_time": "2023-01-14T14:27:32.033Z"
   },
   {
    "duration": 26,
    "start_time": "2023-01-14T14:27:32.062Z"
   },
   {
    "duration": 41,
    "start_time": "2023-01-14T14:27:32.090Z"
   },
   {
    "duration": 32,
    "start_time": "2023-01-14T14:27:32.133Z"
   },
   {
    "duration": 36,
    "start_time": "2023-01-14T14:27:32.167Z"
   },
   {
    "duration": 30,
    "start_time": "2023-01-14T14:27:32.204Z"
   },
   {
    "duration": 31,
    "start_time": "2023-01-14T14:27:32.236Z"
   },
   {
    "duration": 23,
    "start_time": "2023-01-14T14:27:32.269Z"
   },
   {
    "duration": 29,
    "start_time": "2023-01-14T14:27:32.294Z"
   },
   {
    "duration": 41,
    "start_time": "2023-01-14T14:27:32.325Z"
   },
   {
    "duration": 28,
    "start_time": "2023-01-14T14:27:32.367Z"
   },
   {
    "duration": 388,
    "start_time": "2023-01-14T14:27:32.397Z"
   },
   {
    "duration": 8,
    "start_time": "2023-01-14T14:27:32.787Z"
   },
   {
    "duration": 17,
    "start_time": "2023-01-14T14:27:32.796Z"
   },
   {
    "duration": 32,
    "start_time": "2023-01-14T14:27:32.816Z"
   },
   {
    "duration": 17,
    "start_time": "2023-01-14T14:27:32.850Z"
   },
   {
    "duration": 521,
    "start_time": "2023-01-14T14:27:32.869Z"
   },
   {
    "duration": 4,
    "start_time": "2023-01-14T14:27:33.392Z"
   },
   {
    "duration": 18,
    "start_time": "2023-01-14T14:27:33.398Z"
   },
   {
    "duration": 359,
    "start_time": "2023-01-14T14:27:33.418Z"
   },
   {
    "duration": 282,
    "start_time": "2023-01-14T14:27:33.778Z"
   },
   {
    "duration": 6,
    "start_time": "2023-01-14T14:27:34.061Z"
   },
   {
    "duration": 414,
    "start_time": "2023-01-14T14:27:34.069Z"
   },
   {
    "duration": 4,
    "start_time": "2023-01-14T14:27:34.484Z"
   },
   {
    "duration": 44,
    "start_time": "2023-01-14T14:27:34.490Z"
   },
   {
    "duration": 34,
    "start_time": "2023-01-14T14:27:34.535Z"
   },
   {
    "duration": 353,
    "start_time": "2023-01-14T14:27:34.571Z"
   },
   {
    "duration": 12,
    "start_time": "2023-01-14T14:27:34.925Z"
   },
   {
    "duration": 466,
    "start_time": "2023-01-14T14:27:34.939Z"
   },
   {
    "duration": 15,
    "start_time": "2023-01-14T14:27:35.407Z"
   },
   {
    "duration": 288,
    "start_time": "2023-01-14T14:27:35.424Z"
   },
   {
    "duration": 6,
    "start_time": "2023-01-14T14:27:35.713Z"
   },
   {
    "duration": 47,
    "start_time": "2023-01-14T14:27:35.721Z"
   },
   {
    "duration": 206,
    "start_time": "2023-01-14T14:27:35.770Z"
   },
   {
    "duration": 183,
    "start_time": "2023-01-14T14:27:35.978Z"
   },
   {
    "duration": 6,
    "start_time": "2023-01-14T14:27:36.163Z"
   },
   {
    "duration": 33,
    "start_time": "2023-01-14T14:27:36.170Z"
   },
   {
    "duration": 142,
    "start_time": "2023-01-14T14:27:36.204Z"
   },
   {
    "duration": 6,
    "start_time": "2023-01-14T14:27:36.347Z"
   },
   {
    "duration": 1321,
    "start_time": "2023-01-14T14:27:36.354Z"
   },
   {
    "duration": 0,
    "start_time": "2023-01-14T14:27:37.676Z"
   },
   {
    "duration": 0,
    "start_time": "2023-01-14T14:27:37.677Z"
   },
   {
    "duration": 0,
    "start_time": "2023-01-14T14:27:37.678Z"
   },
   {
    "duration": 0,
    "start_time": "2023-01-14T14:27:37.679Z"
   },
   {
    "duration": 0,
    "start_time": "2023-01-14T14:27:37.680Z"
   },
   {
    "duration": 1151,
    "start_time": "2023-01-14T14:29:45.300Z"
   },
   {
    "duration": 137,
    "start_time": "2023-01-14T14:32:59.309Z"
   },
   {
    "duration": 13,
    "start_time": "2023-01-14T14:33:00.133Z"
   },
   {
    "duration": 14,
    "start_time": "2023-01-14T14:33:00.944Z"
   },
   {
    "duration": 6,
    "start_time": "2023-01-14T14:33:01.628Z"
   },
   {
    "duration": 1281,
    "start_time": "2023-01-14T14:33:02.619Z"
   },
   {
    "duration": 30,
    "start_time": "2023-01-14T14:33:38.474Z"
   },
   {
    "duration": 21,
    "start_time": "2023-01-14T14:35:20.993Z"
   },
   {
    "duration": 22,
    "start_time": "2023-01-14T14:36:36.079Z"
   },
   {
    "duration": 22,
    "start_time": "2023-01-14T14:41:06.187Z"
   },
   {
    "duration": 22,
    "start_time": "2023-01-14T14:41:16.954Z"
   },
   {
    "duration": 25,
    "start_time": "2023-01-14T14:41:21.649Z"
   },
   {
    "duration": 1080,
    "start_time": "2023-01-14T14:43:56.958Z"
   },
   {
    "duration": 76,
    "start_time": "2023-01-14T14:43:58.039Z"
   },
   {
    "duration": 12,
    "start_time": "2023-01-14T14:43:58.117Z"
   },
   {
    "duration": 11,
    "start_time": "2023-01-14T14:43:58.131Z"
   },
   {
    "duration": 11,
    "start_time": "2023-01-14T14:43:58.144Z"
   },
   {
    "duration": 10,
    "start_time": "2023-01-14T14:43:58.157Z"
   },
   {
    "duration": 8,
    "start_time": "2023-01-14T14:43:58.169Z"
   },
   {
    "duration": 38,
    "start_time": "2023-01-14T14:43:58.178Z"
   },
   {
    "duration": 7,
    "start_time": "2023-01-14T14:43:58.217Z"
   },
   {
    "duration": 7,
    "start_time": "2023-01-14T14:43:58.226Z"
   },
   {
    "duration": 4,
    "start_time": "2023-01-14T14:43:58.234Z"
   },
   {
    "duration": 7,
    "start_time": "2023-01-14T14:43:58.240Z"
   },
   {
    "duration": 8,
    "start_time": "2023-01-14T14:43:58.248Z"
   },
   {
    "duration": 7,
    "start_time": "2023-01-14T14:43:58.257Z"
   },
   {
    "duration": 5,
    "start_time": "2023-01-14T14:43:58.265Z"
   },
   {
    "duration": 10,
    "start_time": "2023-01-14T14:43:58.272Z"
   },
   {
    "duration": 5,
    "start_time": "2023-01-14T14:43:58.314Z"
   },
   {
    "duration": 40,
    "start_time": "2023-01-14T14:43:58.321Z"
   },
   {
    "duration": 6,
    "start_time": "2023-01-14T14:43:58.363Z"
   },
   {
    "duration": 11,
    "start_time": "2023-01-14T14:43:58.371Z"
   },
   {
    "duration": 8,
    "start_time": "2023-01-14T14:43:58.384Z"
   },
   {
    "duration": 17,
    "start_time": "2023-01-14T14:43:58.394Z"
   },
   {
    "duration": 6,
    "start_time": "2023-01-14T14:43:58.413Z"
   },
   {
    "duration": 13,
    "start_time": "2023-01-14T14:43:58.421Z"
   },
   {
    "duration": 401,
    "start_time": "2023-01-14T14:43:58.436Z"
   },
   {
    "duration": 8,
    "start_time": "2023-01-14T14:43:58.839Z"
   },
   {
    "duration": 9,
    "start_time": "2023-01-14T14:43:58.849Z"
   },
   {
    "duration": 15,
    "start_time": "2023-01-14T14:43:58.861Z"
   },
   {
    "duration": 5,
    "start_time": "2023-01-14T14:43:58.878Z"
   },
   {
    "duration": 522,
    "start_time": "2023-01-14T14:43:58.885Z"
   },
   {
    "duration": 5,
    "start_time": "2023-01-14T14:43:59.413Z"
   },
   {
    "duration": 9,
    "start_time": "2023-01-14T14:43:59.420Z"
   },
   {
    "duration": 355,
    "start_time": "2023-01-14T14:43:59.431Z"
   },
   {
    "duration": 281,
    "start_time": "2023-01-14T14:43:59.788Z"
   },
   {
    "duration": 5,
    "start_time": "2023-01-14T14:44:00.071Z"
   },
   {
    "duration": 468,
    "start_time": "2023-01-14T14:44:00.078Z"
   },
   {
    "duration": 4,
    "start_time": "2023-01-14T14:44:00.548Z"
   },
   {
    "duration": 65,
    "start_time": "2023-01-14T14:44:00.554Z"
   },
   {
    "duration": 43,
    "start_time": "2023-01-14T14:44:00.621Z"
   },
   {
    "duration": 344,
    "start_time": "2023-01-14T14:44:00.666Z"
   },
   {
    "duration": 9,
    "start_time": "2023-01-14T14:44:01.012Z"
   },
   {
    "duration": 428,
    "start_time": "2023-01-14T14:44:01.023Z"
   },
   {
    "duration": 12,
    "start_time": "2023-01-14T14:44:01.453Z"
   },
   {
    "duration": 270,
    "start_time": "2023-01-14T14:44:01.467Z"
   },
   {
    "duration": 6,
    "start_time": "2023-01-14T14:44:01.739Z"
   },
   {
    "duration": 35,
    "start_time": "2023-01-14T14:44:01.747Z"
   },
   {
    "duration": 212,
    "start_time": "2023-01-14T14:44:01.784Z"
   },
   {
    "duration": 191,
    "start_time": "2023-01-14T14:44:01.998Z"
   },
   {
    "duration": 22,
    "start_time": "2023-01-14T14:44:02.191Z"
   },
   {
    "duration": 9,
    "start_time": "2023-01-14T14:44:02.214Z"
   },
   {
    "duration": 149,
    "start_time": "2023-01-14T14:44:02.224Z"
   },
   {
    "duration": 15,
    "start_time": "2023-01-14T14:44:02.375Z"
   },
   {
    "duration": 28,
    "start_time": "2023-01-14T14:44:02.392Z"
   },
   {
    "duration": 5,
    "start_time": "2023-01-14T14:44:02.422Z"
   },
   {
    "duration": 30,
    "start_time": "2023-01-14T14:44:02.429Z"
   },
   {
    "duration": 10,
    "start_time": "2023-01-14T14:44:02.461Z"
   },
   {
    "duration": 9,
    "start_time": "2023-01-14T14:44:02.472Z"
   },
   {
    "duration": 119,
    "start_time": "2023-01-14T14:44:02.482Z"
   },
   {
    "duration": 0,
    "start_time": "2023-01-14T14:44:02.603Z"
   },
   {
    "duration": 0,
    "start_time": "2023-01-14T14:44:02.604Z"
   },
   {
    "duration": 74,
    "start_time": "2023-01-14T14:45:35.916Z"
   },
   {
    "duration": 9,
    "start_time": "2023-01-14T14:45:41.410Z"
   },
   {
    "duration": 7,
    "start_time": "2023-01-14T14:46:42.740Z"
   },
   {
    "duration": 9,
    "start_time": "2023-01-14T14:46:51.122Z"
   },
   {
    "duration": 21,
    "start_time": "2023-01-14T14:46:58.292Z"
   },
   {
    "duration": 15,
    "start_time": "2023-01-14T14:50:33.508Z"
   },
   {
    "duration": 27,
    "start_time": "2023-01-14T14:50:45.307Z"
   },
   {
    "duration": 11,
    "start_time": "2023-01-14T14:51:20.582Z"
   },
   {
    "duration": 22,
    "start_time": "2023-01-14T14:51:32.524Z"
   },
   {
    "duration": 74,
    "start_time": "2023-01-14T14:52:33.759Z"
   },
   {
    "duration": 1212,
    "start_time": "2023-01-14T14:53:19.812Z"
   },
   {
    "duration": 76,
    "start_time": "2023-01-14T14:53:21.026Z"
   },
   {
    "duration": 22,
    "start_time": "2023-01-14T14:53:21.103Z"
   },
   {
    "duration": 14,
    "start_time": "2023-01-14T14:53:21.127Z"
   },
   {
    "duration": 12,
    "start_time": "2023-01-14T14:53:21.143Z"
   },
   {
    "duration": 10,
    "start_time": "2023-01-14T14:53:21.156Z"
   },
   {
    "duration": 8,
    "start_time": "2023-01-14T14:53:21.168Z"
   },
   {
    "duration": 10,
    "start_time": "2023-01-14T14:53:21.178Z"
   },
   {
    "duration": 9,
    "start_time": "2023-01-14T14:53:21.190Z"
   },
   {
    "duration": 17,
    "start_time": "2023-01-14T14:53:21.201Z"
   },
   {
    "duration": 6,
    "start_time": "2023-01-14T14:53:21.220Z"
   },
   {
    "duration": 6,
    "start_time": "2023-01-14T14:53:21.228Z"
   },
   {
    "duration": 7,
    "start_time": "2023-01-14T14:53:21.236Z"
   },
   {
    "duration": 9,
    "start_time": "2023-01-14T14:53:21.245Z"
   },
   {
    "duration": 11,
    "start_time": "2023-01-14T14:53:21.256Z"
   },
   {
    "duration": 11,
    "start_time": "2023-01-14T14:53:21.269Z"
   },
   {
    "duration": 11,
    "start_time": "2023-01-14T14:53:21.282Z"
   },
   {
    "duration": 14,
    "start_time": "2023-01-14T14:53:21.316Z"
   },
   {
    "duration": 13,
    "start_time": "2023-01-14T14:53:21.331Z"
   },
   {
    "duration": 12,
    "start_time": "2023-01-14T14:53:21.346Z"
   },
   {
    "duration": 8,
    "start_time": "2023-01-14T14:53:21.359Z"
   },
   {
    "duration": 11,
    "start_time": "2023-01-14T14:53:21.368Z"
   },
   {
    "duration": 5,
    "start_time": "2023-01-14T14:53:21.381Z"
   },
   {
    "duration": 12,
    "start_time": "2023-01-14T14:53:21.388Z"
   },
   {
    "duration": 384,
    "start_time": "2023-01-14T14:53:21.401Z"
   },
   {
    "duration": 8,
    "start_time": "2023-01-14T14:53:21.787Z"
   },
   {
    "duration": 11,
    "start_time": "2023-01-14T14:53:21.797Z"
   },
   {
    "duration": 28,
    "start_time": "2023-01-14T14:53:21.812Z"
   },
   {
    "duration": 5,
    "start_time": "2023-01-14T14:53:21.842Z"
   },
   {
    "duration": 552,
    "start_time": "2023-01-14T14:53:21.849Z"
   },
   {
    "duration": 24,
    "start_time": "2023-01-14T14:53:22.402Z"
   },
   {
    "duration": 11,
    "start_time": "2023-01-14T14:53:22.428Z"
   },
   {
    "duration": 388,
    "start_time": "2023-01-14T14:53:22.441Z"
   },
   {
    "duration": 295,
    "start_time": "2023-01-14T14:53:22.831Z"
   },
   {
    "duration": 6,
    "start_time": "2023-01-14T14:53:23.128Z"
   },
   {
    "duration": 397,
    "start_time": "2023-01-14T14:53:23.135Z"
   },
   {
    "duration": 5,
    "start_time": "2023-01-14T14:53:23.534Z"
   },
   {
    "duration": 7,
    "start_time": "2023-01-14T14:53:23.541Z"
   },
   {
    "duration": 8,
    "start_time": "2023-01-14T14:53:23.549Z"
   },
   {
    "duration": 311,
    "start_time": "2023-01-14T14:53:23.559Z"
   },
   {
    "duration": 8,
    "start_time": "2023-01-14T14:53:23.872Z"
   },
   {
    "duration": 486,
    "start_time": "2023-01-14T14:53:23.881Z"
   },
   {
    "duration": 11,
    "start_time": "2023-01-14T14:53:24.369Z"
   },
   {
    "duration": 287,
    "start_time": "2023-01-14T14:53:24.382Z"
   },
   {
    "duration": 8,
    "start_time": "2023-01-14T14:53:24.671Z"
   },
   {
    "duration": 23,
    "start_time": "2023-01-14T14:53:24.681Z"
   },
   {
    "duration": 226,
    "start_time": "2023-01-14T14:53:24.706Z"
   },
   {
    "duration": 248,
    "start_time": "2023-01-14T14:53:24.937Z"
   },
   {
    "duration": 6,
    "start_time": "2023-01-14T14:53:25.187Z"
   },
   {
    "duration": 25,
    "start_time": "2023-01-14T14:53:25.194Z"
   },
   {
    "duration": 175,
    "start_time": "2023-01-14T14:53:25.221Z"
   },
   {
    "duration": 30,
    "start_time": "2023-01-14T14:53:25.398Z"
   },
   {
    "duration": 26,
    "start_time": "2023-01-14T14:53:25.432Z"
   },
   {
    "duration": 10,
    "start_time": "2023-01-14T14:53:25.460Z"
   },
   {
    "duration": 42,
    "start_time": "2023-01-14T14:53:25.472Z"
   },
   {
    "duration": 26,
    "start_time": "2023-01-14T14:53:25.516Z"
   },
   {
    "duration": 20,
    "start_time": "2023-01-14T14:53:25.544Z"
   },
   {
    "duration": 25,
    "start_time": "2023-01-14T14:53:25.565Z"
   },
   {
    "duration": 45,
    "start_time": "2023-01-14T14:53:25.591Z"
   },
   {
    "duration": 15,
    "start_time": "2023-01-14T14:53:25.638Z"
   },
   {
    "duration": 16,
    "start_time": "2023-01-14T14:56:41.428Z"
   },
   {
    "duration": 1130,
    "start_time": "2023-01-14T15:08:06.264Z"
   },
   {
    "duration": 78,
    "start_time": "2023-01-14T15:08:07.396Z"
   },
   {
    "duration": 12,
    "start_time": "2023-01-14T15:08:07.475Z"
   },
   {
    "duration": 11,
    "start_time": "2023-01-14T15:08:07.489Z"
   },
   {
    "duration": 12,
    "start_time": "2023-01-14T15:08:07.501Z"
   },
   {
    "duration": 16,
    "start_time": "2023-01-14T15:08:07.514Z"
   },
   {
    "duration": 13,
    "start_time": "2023-01-14T15:08:07.531Z"
   },
   {
    "duration": 12,
    "start_time": "2023-01-14T15:08:07.546Z"
   },
   {
    "duration": 7,
    "start_time": "2023-01-14T15:08:07.559Z"
   },
   {
    "duration": 18,
    "start_time": "2023-01-14T15:08:07.569Z"
   },
   {
    "duration": 8,
    "start_time": "2023-01-14T15:08:07.589Z"
   },
   {
    "duration": 10,
    "start_time": "2023-01-14T15:08:07.598Z"
   },
   {
    "duration": 5,
    "start_time": "2023-01-14T15:08:07.613Z"
   },
   {
    "duration": 8,
    "start_time": "2023-01-14T15:08:07.619Z"
   },
   {
    "duration": 6,
    "start_time": "2023-01-14T15:08:07.628Z"
   },
   {
    "duration": 12,
    "start_time": "2023-01-14T15:08:07.635Z"
   },
   {
    "duration": 7,
    "start_time": "2023-01-14T15:08:07.648Z"
   },
   {
    "duration": 11,
    "start_time": "2023-01-14T15:08:07.656Z"
   },
   {
    "duration": 7,
    "start_time": "2023-01-14T15:08:07.669Z"
   },
   {
    "duration": 17,
    "start_time": "2023-01-14T15:08:07.678Z"
   },
   {
    "duration": 17,
    "start_time": "2023-01-14T15:08:07.696Z"
   },
   {
    "duration": 10,
    "start_time": "2023-01-14T15:08:07.714Z"
   },
   {
    "duration": 7,
    "start_time": "2023-01-14T15:08:07.725Z"
   },
   {
    "duration": 12,
    "start_time": "2023-01-14T15:08:07.733Z"
   },
   {
    "duration": 387,
    "start_time": "2023-01-14T15:08:07.746Z"
   },
   {
    "duration": 8,
    "start_time": "2023-01-14T15:08:08.136Z"
   },
   {
    "duration": 9,
    "start_time": "2023-01-14T15:08:08.145Z"
   },
   {
    "duration": 12,
    "start_time": "2023-01-14T15:08:08.159Z"
   },
   {
    "duration": 5,
    "start_time": "2023-01-14T15:08:08.173Z"
   },
   {
    "duration": 520,
    "start_time": "2023-01-14T15:08:08.180Z"
   },
   {
    "duration": 11,
    "start_time": "2023-01-14T15:08:08.702Z"
   },
   {
    "duration": 4,
    "start_time": "2023-01-14T15:08:08.714Z"
   },
   {
    "duration": 365,
    "start_time": "2023-01-14T15:08:08.720Z"
   },
   {
    "duration": 286,
    "start_time": "2023-01-14T15:08:09.086Z"
   },
   {
    "duration": 6,
    "start_time": "2023-01-14T15:08:09.374Z"
   },
   {
    "duration": 421,
    "start_time": "2023-01-14T15:08:09.381Z"
   },
   {
    "duration": 4,
    "start_time": "2023-01-14T15:08:09.803Z"
   },
   {
    "duration": 16,
    "start_time": "2023-01-14T15:08:09.812Z"
   },
   {
    "duration": 10,
    "start_time": "2023-01-14T15:08:09.830Z"
   },
   {
    "duration": 291,
    "start_time": "2023-01-14T15:08:09.842Z"
   },
   {
    "duration": 7,
    "start_time": "2023-01-14T15:08:10.135Z"
   },
   {
    "duration": 487,
    "start_time": "2023-01-14T15:08:10.144Z"
   },
   {
    "duration": 11,
    "start_time": "2023-01-14T15:08:10.632Z"
   },
   {
    "duration": 257,
    "start_time": "2023-01-14T15:08:10.644Z"
   },
   {
    "duration": 12,
    "start_time": "2023-01-14T15:08:10.902Z"
   },
   {
    "duration": 12,
    "start_time": "2023-01-14T15:08:10.915Z"
   },
   {
    "duration": 194,
    "start_time": "2023-01-14T15:08:10.929Z"
   },
   {
    "duration": 190,
    "start_time": "2023-01-14T15:08:11.125Z"
   },
   {
    "duration": 6,
    "start_time": "2023-01-14T15:08:11.317Z"
   },
   {
    "duration": 12,
    "start_time": "2023-01-14T15:08:11.325Z"
   },
   {
    "duration": 155,
    "start_time": "2023-01-14T15:08:11.339Z"
   },
   {
    "duration": 25,
    "start_time": "2023-01-14T15:08:11.495Z"
   },
   {
    "duration": 16,
    "start_time": "2023-01-14T15:08:11.522Z"
   },
   {
    "duration": 6,
    "start_time": "2023-01-14T15:08:11.540Z"
   },
   {
    "duration": 25,
    "start_time": "2023-01-14T15:08:11.548Z"
   },
   {
    "duration": 10,
    "start_time": "2023-01-14T15:08:11.575Z"
   },
   {
    "duration": 14,
    "start_time": "2023-01-14T15:08:11.613Z"
   },
   {
    "duration": 14,
    "start_time": "2023-01-14T15:08:11.628Z"
   },
   {
    "duration": 35,
    "start_time": "2023-01-14T15:08:11.644Z"
   },
   {
    "duration": 14,
    "start_time": "2023-01-14T15:08:11.681Z"
   },
   {
    "duration": 417,
    "start_time": "2023-01-14T15:09:20.297Z"
   },
   {
    "duration": 306,
    "start_time": "2023-01-14T15:10:01.222Z"
   },
   {
    "duration": 1147,
    "start_time": "2023-01-14T15:10:49.321Z"
   },
   {
    "duration": 76,
    "start_time": "2023-01-14T15:10:50.470Z"
   },
   {
    "duration": 11,
    "start_time": "2023-01-14T15:10:50.548Z"
   },
   {
    "duration": 13,
    "start_time": "2023-01-14T15:10:50.561Z"
   },
   {
    "duration": 11,
    "start_time": "2023-01-14T15:10:50.575Z"
   },
   {
    "duration": 11,
    "start_time": "2023-01-14T15:10:50.588Z"
   },
   {
    "duration": 10,
    "start_time": "2023-01-14T15:10:50.600Z"
   },
   {
    "duration": 16,
    "start_time": "2023-01-14T15:10:50.612Z"
   },
   {
    "duration": 11,
    "start_time": "2023-01-14T15:10:50.629Z"
   },
   {
    "duration": 7,
    "start_time": "2023-01-14T15:10:50.642Z"
   },
   {
    "duration": 10,
    "start_time": "2023-01-14T15:10:50.650Z"
   },
   {
    "duration": 10,
    "start_time": "2023-01-14T15:10:50.662Z"
   },
   {
    "duration": 8,
    "start_time": "2023-01-14T15:10:50.674Z"
   },
   {
    "duration": 8,
    "start_time": "2023-01-14T15:10:50.683Z"
   },
   {
    "duration": 7,
    "start_time": "2023-01-14T15:10:50.692Z"
   },
   {
    "duration": 11,
    "start_time": "2023-01-14T15:10:50.712Z"
   },
   {
    "duration": 8,
    "start_time": "2023-01-14T15:10:50.724Z"
   },
   {
    "duration": 11,
    "start_time": "2023-01-14T15:10:50.733Z"
   },
   {
    "duration": 7,
    "start_time": "2023-01-14T15:10:50.746Z"
   },
   {
    "duration": 15,
    "start_time": "2023-01-14T15:10:50.755Z"
   },
   {
    "duration": 16,
    "start_time": "2023-01-14T15:10:50.772Z"
   },
   {
    "duration": 10,
    "start_time": "2023-01-14T15:10:50.790Z"
   },
   {
    "duration": 12,
    "start_time": "2023-01-14T15:10:50.801Z"
   },
   {
    "duration": 17,
    "start_time": "2023-01-14T15:10:50.815Z"
   },
   {
    "duration": 367,
    "start_time": "2023-01-14T15:10:50.834Z"
   },
   {
    "duration": 9,
    "start_time": "2023-01-14T15:10:51.202Z"
   },
   {
    "duration": 15,
    "start_time": "2023-01-14T15:10:51.212Z"
   },
   {
    "duration": 15,
    "start_time": "2023-01-14T15:10:51.231Z"
   },
   {
    "duration": 5,
    "start_time": "2023-01-14T15:10:51.248Z"
   },
   {
    "duration": 523,
    "start_time": "2023-01-14T15:10:51.255Z"
   },
   {
    "duration": 4,
    "start_time": "2023-01-14T15:10:51.779Z"
   },
   {
    "duration": 12,
    "start_time": "2023-01-14T15:10:51.784Z"
   },
   {
    "duration": 354,
    "start_time": "2023-01-14T15:10:51.798Z"
   },
   {
    "duration": 282,
    "start_time": "2023-01-14T15:10:52.154Z"
   },
   {
    "duration": 7,
    "start_time": "2023-01-14T15:10:52.437Z"
   },
   {
    "duration": 372,
    "start_time": "2023-01-14T15:10:52.446Z"
   },
   {
    "duration": 4,
    "start_time": "2023-01-14T15:10:52.820Z"
   },
   {
    "duration": 9,
    "start_time": "2023-01-14T15:10:52.826Z"
   },
   {
    "duration": 7,
    "start_time": "2023-01-14T15:10:52.836Z"
   },
   {
    "duration": 308,
    "start_time": "2023-01-14T15:10:52.844Z"
   },
   {
    "duration": 8,
    "start_time": "2023-01-14T15:10:53.153Z"
   },
   {
    "duration": 388,
    "start_time": "2023-01-14T15:10:53.163Z"
   },
   {
    "duration": 10,
    "start_time": "2023-01-14T15:10:53.553Z"
   },
   {
    "duration": 249,
    "start_time": "2023-01-14T15:10:53.564Z"
   },
   {
    "duration": 6,
    "start_time": "2023-01-14T15:10:53.814Z"
   },
   {
    "duration": 29,
    "start_time": "2023-01-14T15:10:53.821Z"
   },
   {
    "duration": 210,
    "start_time": "2023-01-14T15:10:53.852Z"
   },
   {
    "duration": 187,
    "start_time": "2023-01-14T15:10:54.064Z"
   },
   {
    "duration": 7,
    "start_time": "2023-01-14T15:10:54.253Z"
   },
   {
    "duration": 23,
    "start_time": "2023-01-14T15:10:54.261Z"
   },
   {
    "duration": 142,
    "start_time": "2023-01-14T15:10:54.286Z"
   },
   {
    "duration": 15,
    "start_time": "2023-01-14T15:10:54.430Z"
   },
   {
    "duration": 19,
    "start_time": "2023-01-14T15:10:54.447Z"
   },
   {
    "duration": 9,
    "start_time": "2023-01-14T15:10:54.467Z"
   },
   {
    "duration": 52,
    "start_time": "2023-01-14T15:10:54.477Z"
   },
   {
    "duration": 9,
    "start_time": "2023-01-14T15:10:54.531Z"
   },
   {
    "duration": 25,
    "start_time": "2023-01-14T15:10:54.542Z"
   },
   {
    "duration": 33,
    "start_time": "2023-01-14T15:10:54.568Z"
   },
   {
    "duration": 48,
    "start_time": "2023-01-14T15:10:54.603Z"
   },
   {
    "duration": 14,
    "start_time": "2023-01-14T15:10:54.653Z"
   },
   {
    "duration": 1059,
    "start_time": "2023-01-14T15:12:11.462Z"
   },
   {
    "duration": 76,
    "start_time": "2023-01-14T15:12:12.523Z"
   },
   {
    "duration": 11,
    "start_time": "2023-01-14T15:12:12.601Z"
   },
   {
    "duration": 36,
    "start_time": "2023-01-14T15:12:12.614Z"
   },
   {
    "duration": 40,
    "start_time": "2023-01-14T15:12:12.651Z"
   },
   {
    "duration": 32,
    "start_time": "2023-01-14T15:12:12.692Z"
   },
   {
    "duration": 33,
    "start_time": "2023-01-14T15:12:12.726Z"
   },
   {
    "duration": 24,
    "start_time": "2023-01-14T15:12:12.761Z"
   },
   {
    "duration": 31,
    "start_time": "2023-01-14T15:12:12.787Z"
   },
   {
    "duration": 25,
    "start_time": "2023-01-14T15:12:12.821Z"
   },
   {
    "duration": 22,
    "start_time": "2023-01-14T15:12:12.848Z"
   },
   {
    "duration": 30,
    "start_time": "2023-01-14T15:12:12.872Z"
   },
   {
    "duration": 40,
    "start_time": "2023-01-14T15:12:12.904Z"
   },
   {
    "duration": 42,
    "start_time": "2023-01-14T15:12:12.945Z"
   },
   {
    "duration": 32,
    "start_time": "2023-01-14T15:12:12.989Z"
   },
   {
    "duration": 25,
    "start_time": "2023-01-14T15:12:13.022Z"
   },
   {
    "duration": 40,
    "start_time": "2023-01-14T15:12:13.048Z"
   },
   {
    "duration": 17,
    "start_time": "2023-01-14T15:12:13.090Z"
   },
   {
    "duration": 41,
    "start_time": "2023-01-14T15:12:13.109Z"
   },
   {
    "duration": 27,
    "start_time": "2023-01-14T15:12:13.152Z"
   },
   {
    "duration": 32,
    "start_time": "2023-01-14T15:12:13.181Z"
   },
   {
    "duration": 44,
    "start_time": "2023-01-14T15:12:13.215Z"
   },
   {
    "duration": 38,
    "start_time": "2023-01-14T15:12:13.261Z"
   },
   {
    "duration": 39,
    "start_time": "2023-01-14T15:12:13.301Z"
   },
   {
    "duration": 391,
    "start_time": "2023-01-14T15:12:13.342Z"
   },
   {
    "duration": 9,
    "start_time": "2023-01-14T15:12:13.735Z"
   },
   {
    "duration": 28,
    "start_time": "2023-01-14T15:12:13.746Z"
   },
   {
    "duration": 40,
    "start_time": "2023-01-14T15:12:13.779Z"
   },
   {
    "duration": 31,
    "start_time": "2023-01-14T15:12:13.821Z"
   },
   {
    "duration": 527,
    "start_time": "2023-01-14T15:12:13.854Z"
   },
   {
    "duration": 4,
    "start_time": "2023-01-14T15:12:14.383Z"
   },
   {
    "duration": 46,
    "start_time": "2023-01-14T15:12:14.389Z"
   },
   {
    "duration": 394,
    "start_time": "2023-01-14T15:12:14.437Z"
   },
   {
    "duration": 293,
    "start_time": "2023-01-14T15:12:14.833Z"
   },
   {
    "duration": 6,
    "start_time": "2023-01-14T15:12:15.128Z"
   },
   {
    "duration": 371,
    "start_time": "2023-01-14T15:12:15.136Z"
   },
   {
    "duration": 5,
    "start_time": "2023-01-14T15:12:15.509Z"
   },
   {
    "duration": 35,
    "start_time": "2023-01-14T15:12:15.516Z"
   },
   {
    "duration": 41,
    "start_time": "2023-01-14T15:12:15.552Z"
   },
   {
    "duration": 303,
    "start_time": "2023-01-14T15:12:15.595Z"
   },
   {
    "duration": 13,
    "start_time": "2023-01-14T15:12:15.900Z"
   },
   {
    "duration": 417,
    "start_time": "2023-01-14T15:12:15.914Z"
   },
   {
    "duration": 10,
    "start_time": "2023-01-14T15:12:16.333Z"
   },
   {
    "duration": 268,
    "start_time": "2023-01-14T15:12:16.345Z"
   },
   {
    "duration": 6,
    "start_time": "2023-01-14T15:12:16.614Z"
   },
   {
    "duration": 15,
    "start_time": "2023-01-14T15:12:16.621Z"
   },
   {
    "duration": 196,
    "start_time": "2023-01-14T15:12:16.637Z"
   },
   {
    "duration": 201,
    "start_time": "2023-01-14T15:12:16.834Z"
   },
   {
    "duration": 5,
    "start_time": "2023-01-14T15:12:17.037Z"
   },
   {
    "duration": 10,
    "start_time": "2023-01-14T15:12:17.043Z"
   },
   {
    "duration": 140,
    "start_time": "2023-01-14T15:12:17.054Z"
   },
   {
    "duration": 21,
    "start_time": "2023-01-14T15:12:17.195Z"
   },
   {
    "duration": 30,
    "start_time": "2023-01-14T15:12:17.217Z"
   },
   {
    "duration": 29,
    "start_time": "2023-01-14T15:12:17.249Z"
   },
   {
    "duration": 73,
    "start_time": "2023-01-14T15:12:17.280Z"
   },
   {
    "duration": 10,
    "start_time": "2023-01-14T15:12:17.354Z"
   },
   {
    "duration": 24,
    "start_time": "2023-01-14T15:12:17.366Z"
   },
   {
    "duration": 17,
    "start_time": "2023-01-14T15:12:17.392Z"
   },
   {
    "duration": 38,
    "start_time": "2023-01-14T15:12:17.411Z"
   },
   {
    "duration": 13,
    "start_time": "2023-01-14T15:12:17.451Z"
   },
   {
    "duration": 1080,
    "start_time": "2023-01-14T15:12:35.443Z"
   },
   {
    "duration": 76,
    "start_time": "2023-01-14T15:12:36.525Z"
   },
   {
    "duration": 12,
    "start_time": "2023-01-14T15:12:36.603Z"
   },
   {
    "duration": 11,
    "start_time": "2023-01-14T15:12:36.617Z"
   },
   {
    "duration": 19,
    "start_time": "2023-01-14T15:12:36.629Z"
   },
   {
    "duration": 11,
    "start_time": "2023-01-14T15:12:36.649Z"
   },
   {
    "duration": 9,
    "start_time": "2023-01-14T15:12:36.662Z"
   },
   {
    "duration": 13,
    "start_time": "2023-01-14T15:12:36.672Z"
   },
   {
    "duration": 9,
    "start_time": "2023-01-14T15:12:36.686Z"
   },
   {
    "duration": 6,
    "start_time": "2023-01-14T15:12:36.697Z"
   },
   {
    "duration": 4,
    "start_time": "2023-01-14T15:12:36.713Z"
   },
   {
    "duration": 8,
    "start_time": "2023-01-14T15:12:36.719Z"
   },
   {
    "duration": 11,
    "start_time": "2023-01-14T15:12:36.728Z"
   },
   {
    "duration": 6,
    "start_time": "2023-01-14T15:12:36.740Z"
   },
   {
    "duration": 6,
    "start_time": "2023-01-14T15:12:36.748Z"
   },
   {
    "duration": 11,
    "start_time": "2023-01-14T15:12:36.755Z"
   },
   {
    "duration": 7,
    "start_time": "2023-01-14T15:12:36.769Z"
   },
   {
    "duration": 7,
    "start_time": "2023-01-14T15:12:36.777Z"
   },
   {
    "duration": 29,
    "start_time": "2023-01-14T15:12:36.785Z"
   },
   {
    "duration": 13,
    "start_time": "2023-01-14T15:12:36.816Z"
   },
   {
    "duration": 8,
    "start_time": "2023-01-14T15:12:36.831Z"
   },
   {
    "duration": 11,
    "start_time": "2023-01-14T15:12:36.840Z"
   },
   {
    "duration": 5,
    "start_time": "2023-01-14T15:12:36.853Z"
   },
   {
    "duration": 12,
    "start_time": "2023-01-14T15:12:36.860Z"
   },
   {
    "duration": 384,
    "start_time": "2023-01-14T15:12:36.873Z"
   },
   {
    "duration": 8,
    "start_time": "2023-01-14T15:12:37.259Z"
   },
   {
    "duration": 8,
    "start_time": "2023-01-14T15:12:37.269Z"
   },
   {
    "duration": 20,
    "start_time": "2023-01-14T15:12:37.280Z"
   },
   {
    "duration": 7,
    "start_time": "2023-01-14T15:12:37.302Z"
   },
   {
    "duration": 515,
    "start_time": "2023-01-14T15:12:37.311Z"
   },
   {
    "duration": 5,
    "start_time": "2023-01-14T15:12:37.828Z"
   },
   {
    "duration": 9,
    "start_time": "2023-01-14T15:12:37.834Z"
   },
   {
    "duration": 362,
    "start_time": "2023-01-14T15:12:37.845Z"
   },
   {
    "duration": 276,
    "start_time": "2023-01-14T15:12:38.209Z"
   },
   {
    "duration": 5,
    "start_time": "2023-01-14T15:12:38.487Z"
   },
   {
    "duration": 398,
    "start_time": "2023-01-14T15:12:38.494Z"
   },
   {
    "duration": 4,
    "start_time": "2023-01-14T15:12:38.893Z"
   },
   {
    "duration": 14,
    "start_time": "2023-01-14T15:12:38.899Z"
   },
   {
    "duration": 3,
    "start_time": "2023-01-14T15:12:38.914Z"
   },
   {
    "duration": 309,
    "start_time": "2023-01-14T15:12:38.919Z"
   },
   {
    "duration": 8,
    "start_time": "2023-01-14T15:12:39.230Z"
   },
   {
    "duration": 411,
    "start_time": "2023-01-14T15:12:39.240Z"
   },
   {
    "duration": 9,
    "start_time": "2023-01-14T15:12:39.653Z"
   },
   {
    "duration": 252,
    "start_time": "2023-01-14T15:12:39.664Z"
   },
   {
    "duration": 6,
    "start_time": "2023-01-14T15:12:39.918Z"
   },
   {
    "duration": 15,
    "start_time": "2023-01-14T15:12:39.926Z"
   },
   {
    "duration": 202,
    "start_time": "2023-01-14T15:12:39.943Z"
   },
   {
    "duration": 217,
    "start_time": "2023-01-14T15:12:40.147Z"
   },
   {
    "duration": 7,
    "start_time": "2023-01-14T15:12:40.365Z"
   },
   {
    "duration": 14,
    "start_time": "2023-01-14T15:12:40.374Z"
   },
   {
    "duration": 176,
    "start_time": "2023-01-14T15:12:40.390Z"
   },
   {
    "duration": 14,
    "start_time": "2023-01-14T15:12:40.568Z"
   },
   {
    "duration": 14,
    "start_time": "2023-01-14T15:12:40.583Z"
   },
   {
    "duration": 15,
    "start_time": "2023-01-14T15:12:40.598Z"
   },
   {
    "duration": 28,
    "start_time": "2023-01-14T15:12:40.615Z"
   },
   {
    "duration": 11,
    "start_time": "2023-01-14T15:12:40.644Z"
   },
   {
    "duration": 9,
    "start_time": "2023-01-14T15:12:40.657Z"
   },
   {
    "duration": 10,
    "start_time": "2023-01-14T15:12:40.667Z"
   },
   {
    "duration": 42,
    "start_time": "2023-01-14T15:12:40.679Z"
   },
   {
    "duration": 13,
    "start_time": "2023-01-14T15:12:40.722Z"
   },
   {
    "duration": 70,
    "start_time": "2023-01-15T17:39:25.821Z"
   },
   {
    "duration": 91,
    "start_time": "2023-01-15T17:41:57.395Z"
   },
   {
    "duration": 1350,
    "start_time": "2023-01-15T17:42:06.614Z"
   },
   {
    "duration": 235,
    "start_time": "2023-01-15T17:42:07.966Z"
   },
   {
    "duration": 12,
    "start_time": "2023-01-15T17:42:08.202Z"
   },
   {
    "duration": 11,
    "start_time": "2023-01-15T17:42:08.216Z"
   },
   {
    "duration": 11,
    "start_time": "2023-01-15T17:42:08.229Z"
   },
   {
    "duration": 9,
    "start_time": "2023-01-15T17:42:08.242Z"
   },
   {
    "duration": 10,
    "start_time": "2023-01-15T17:42:08.253Z"
   },
   {
    "duration": 17,
    "start_time": "2023-01-15T17:42:08.265Z"
   },
   {
    "duration": 10,
    "start_time": "2023-01-15T17:42:08.284Z"
   },
   {
    "duration": 32,
    "start_time": "2023-01-15T17:42:08.297Z"
   },
   {
    "duration": 7,
    "start_time": "2023-01-15T17:42:08.331Z"
   },
   {
    "duration": 7,
    "start_time": "2023-01-15T17:42:08.340Z"
   },
   {
    "duration": 6,
    "start_time": "2023-01-15T17:42:08.349Z"
   },
   {
    "duration": 7,
    "start_time": "2023-01-15T17:42:08.357Z"
   },
   {
    "duration": 8,
    "start_time": "2023-01-15T17:42:08.366Z"
   },
   {
    "duration": 11,
    "start_time": "2023-01-15T17:42:08.375Z"
   },
   {
    "duration": 36,
    "start_time": "2023-01-15T17:42:08.388Z"
   },
   {
    "duration": 8,
    "start_time": "2023-01-15T17:42:08.426Z"
   },
   {
    "duration": 7,
    "start_time": "2023-01-15T17:42:08.436Z"
   },
   {
    "duration": 11,
    "start_time": "2023-01-15T17:42:08.444Z"
   },
   {
    "duration": 8,
    "start_time": "2023-01-15T17:42:08.456Z"
   },
   {
    "duration": 10,
    "start_time": "2023-01-15T17:42:08.467Z"
   },
   {
    "duration": 6,
    "start_time": "2023-01-15T17:42:08.479Z"
   },
   {
    "duration": 16,
    "start_time": "2023-01-15T17:42:08.487Z"
   },
   {
    "duration": 391,
    "start_time": "2023-01-15T17:42:08.505Z"
   },
   {
    "duration": 8,
    "start_time": "2023-01-15T17:42:08.897Z"
   },
   {
    "duration": 14,
    "start_time": "2023-01-15T17:42:08.907Z"
   },
   {
    "duration": 12,
    "start_time": "2023-01-15T17:42:08.925Z"
   },
   {
    "duration": 4,
    "start_time": "2023-01-15T17:42:08.939Z"
   },
   {
    "duration": 519,
    "start_time": "2023-01-15T17:42:08.944Z"
   },
   {
    "duration": 5,
    "start_time": "2023-01-15T17:42:09.465Z"
   },
   {
    "duration": 13,
    "start_time": "2023-01-15T17:42:09.472Z"
   },
   {
    "duration": 351,
    "start_time": "2023-01-15T17:42:09.487Z"
   },
   {
    "duration": 284,
    "start_time": "2023-01-15T17:42:09.840Z"
   },
   {
    "duration": 7,
    "start_time": "2023-01-15T17:42:10.125Z"
   },
   {
    "duration": 411,
    "start_time": "2023-01-15T17:42:10.133Z"
   },
   {
    "duration": 4,
    "start_time": "2023-01-15T17:42:10.546Z"
   },
   {
    "duration": 38,
    "start_time": "2023-01-15T17:42:10.552Z"
   },
   {
    "duration": 18,
    "start_time": "2023-01-15T17:42:10.592Z"
   },
   {
    "duration": 321,
    "start_time": "2023-01-15T17:42:10.612Z"
   },
   {
    "duration": 8,
    "start_time": "2023-01-15T17:42:10.934Z"
   },
   {
    "duration": 398,
    "start_time": "2023-01-15T17:42:10.943Z"
   },
   {
    "duration": 11,
    "start_time": "2023-01-15T17:42:11.342Z"
   },
   {
    "duration": 269,
    "start_time": "2023-01-15T17:42:11.354Z"
   },
   {
    "duration": 7,
    "start_time": "2023-01-15T17:42:11.625Z"
   },
   {
    "duration": 44,
    "start_time": "2023-01-15T17:42:11.633Z"
   },
   {
    "duration": 204,
    "start_time": "2023-01-15T17:42:11.679Z"
   },
   {
    "duration": 192,
    "start_time": "2023-01-15T17:42:11.884Z"
   },
   {
    "duration": 6,
    "start_time": "2023-01-15T17:42:12.077Z"
   },
   {
    "duration": 38,
    "start_time": "2023-01-15T17:42:12.084Z"
   },
   {
    "duration": 144,
    "start_time": "2023-01-15T17:42:12.123Z"
   },
   {
    "duration": 14,
    "start_time": "2023-01-15T17:42:12.269Z"
   },
   {
    "duration": 34,
    "start_time": "2023-01-15T17:42:12.285Z"
   },
   {
    "duration": 26,
    "start_time": "2023-01-15T17:42:12.321Z"
   },
   {
    "duration": 34,
    "start_time": "2023-01-15T17:42:12.348Z"
   },
   {
    "duration": 17,
    "start_time": "2023-01-15T17:42:12.384Z"
   },
   {
    "duration": 20,
    "start_time": "2023-01-15T17:42:12.403Z"
   },
   {
    "duration": 19,
    "start_time": "2023-01-15T17:42:12.424Z"
   },
   {
    "duration": 39,
    "start_time": "2023-01-15T17:42:12.445Z"
   },
   {
    "duration": 18,
    "start_time": "2023-01-15T17:42:12.486Z"
   }
  ],
  "kernelspec": {
   "display_name": "Python 3 (ipykernel)",
   "language": "python",
   "name": "python3"
  },
  "language_info": {
   "codemirror_mode": {
    "name": "ipython",
    "version": 3
   },
   "file_extension": ".py",
   "mimetype": "text/x-python",
   "name": "python",
   "nbconvert_exporter": "python",
   "pygments_lexer": "ipython3",
   "version": "3.9.12"
  },
  "toc": {
   "base_numbering": 1,
   "nav_menu": {},
   "number_sections": true,
   "sideBar": true,
   "skip_h1_title": true,
   "title_cell": "Table of Contents",
   "title_sidebar": "Contents",
   "toc_cell": false,
   "toc_position": {},
   "toc_section_display": true,
   "toc_window_display": false
  }
 },
 "nbformat": 4,
 "nbformat_minor": 2
}
